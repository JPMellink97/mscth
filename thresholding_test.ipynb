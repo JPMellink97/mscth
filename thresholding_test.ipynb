{
 "cells": [
  {
   "cell_type": "code",
   "execution_count": 1,
   "metadata": {},
   "outputs": [
    {
     "name": "stderr",
     "output_type": "stream",
     "text": [
      "c:\\Users\\Joost\\anaconda3\\envs\\test\\Lib\\site-packages\\tqdm\\auto.py:21: TqdmWarning: IProgress not found. Please update jupyter and ipywidgets. See https://ipywidgets.readthedocs.io/en/stable/user_install.html\n",
      "  from .autonotebook import tqdm as notebook_tqdm\n"
     ]
    }
   ],
   "source": [
    "import pysindy as ps\n",
    "\n",
    "import deepSI\n",
    "from deepSI import System_data\n",
    "from deepSI.fit_systems import SS_encoder_general\n",
    "from deepSI.fit_systems.encoders import default_encoder_net, default_state_net, default_output_net\n",
    "from deepSI.fit_systems.fit_system import My_Simple_DataLoader, print_array_byte_size, Tictoctimer\n",
    "import torch\n",
    "from torch import nn\n",
    "\n",
    "import numpy as np\n",
    "\n",
    "from sklearn.preprocessing import PolynomialFeatures\n",
    "\n",
    "from scipy.io import loadmat\n",
    "import scipy.linalg as lin\n",
    "import os\n",
    "\n",
    "from utils import load_data\n",
    "from data_processing import add_gaussian_noise\n",
    "\n",
    "import matplotlib.pyplot as plt\n",
    "\n",
    "from torch.utils.data import Dataset, DataLoader\n",
    "from tqdm.auto import tqdm\n",
    "import time\n",
    "from copy import deepcopy\n",
    "import itertools\n",
    "\n",
    "import re\n",
    "\n",
    "from feature_construction import feature_library\n",
    "import polynomial as p\n",
    "import fourier as f\n",
    "\n",
    "from SI_SUBNET import SS_encoder_general_eq, h_identity, e_identity, simple_Linear\n",
    "from SI_metrics import plot_coeff_grid, display_equation\n",
    "from run_SISUBNET import run_SISUBNET\n",
    "\n",
    "import random\n",
    "import string\n",
    "\n",
    "from scipy.io import loadmat, savemat\n",
    "import json\n",
    "import pickle"
   ]
  },
  {
   "cell_type": "code",
   "execution_count": 2,
   "metadata": {},
   "outputs": [],
   "source": [
    "nf = 1\n",
    "gamma = 1e-4\n",
    "epo_idx = 25\n",
    "\n",
    "pruning = True\n",
    "mode = None\n",
    "T_idx = None\n",
    "\n",
    "pre_train = False if nf==1 else True\n",
    "batch_size = 256\n",
    "epochs = 150\n",
    "no_reg_epochs = 50\n",
    "\n",
    "threshold = np.array([1e-5, 2e-5, 4e-5, 8e-5, 1e-4, 2e-4, 4e-4, 8e-4, 1e-3, 2e-3, 4e-3, 8e-3, 1e-2, 2e-2, 4e-2, 8e-2, 1e-1])"
   ]
  },
  {
   "cell_type": "code",
   "execution_count": 3,
   "metadata": {},
   "outputs": [
    {
     "name": "stdout",
     "output_type": "stream",
     "text": [
      "Data loaded from sc_wnl_noisy!\n"
     ]
    }
   ],
   "source": [
    "data_set_name=\"sc_wnl_noisy\" # data\n",
    "\n",
    "\n",
    "\n",
    "x_data, u_data, y_data, eq, T, U, set_idx = load_data(set=data_set_name)\n",
    "[N_arrow, N_train, N_val, N_test] = set_idx[0]\n",
    "\n",
    "if T is None:\n",
    "    T = np.eye(x_data.shape[-1])\n",
    "if U is None:\n",
    "    U = np.eye(u_data.shape[-1])\n",
    "\n",
    "# data organizing\n",
    "x_arrow, u_arrow = x_data[:N_arrow], u_data[:N_arrow,0]\n",
    "x_train, u_train = x_data[N_arrow:N_arrow+N_train-N_val,:], u_data[N_arrow:N_arrow+N_train-N_val,0]\n",
    "x_val, u_val     = x_data[N_arrow+N_train-N_val:-N_test,:], u_data[N_arrow+N_train-N_val:-N_test,0]\n",
    "x_test, u_test   = x_data[-N_test:,:], u_data[-N_test:]\n",
    "\n",
    "# system data\n",
    "arrow   = System_data(u=u_arrow, y=x_arrow)\n",
    "train   = System_data(u=u_train, y=x_train)\n",
    "val     = System_data(u=u_val[:1000], y=x_val[:1000,:])\n",
    "test    = System_data(u=u_test, y=x_test)\n",
    "\n",
    "# function lib\n",
    "functions = [p.f, p.f2, p.f3, p.f4, p.f5, p.f6]\n",
    "poly = feature_library(functions=functions, nx=2, nu=1, T=T, U=U)\n",
    "\n",
    "# network param\n",
    "nx, nu = 2, 1 # state dimension and inputs\n",
    "na, nb = 0, 0\n",
    "na_right = 1\n",
    "\n",
    "f_net_kwargs = {\"feature_library\": poly, \"u\": nu, \"nf\": poly.feature_number()}\n",
    "\n",
    "# output model\n",
    "h_net = h_identity\n",
    "h_net_kwargs = {}\n",
    "\n",
    "# encoder model\n",
    "e_net = e_identity\n",
    "e_net_kwargs = {}"
   ]
  },
  {
   "cell_type": "code",
   "execution_count": 4,
   "metadata": {},
   "outputs": [],
   "source": [
    "def convert_float_to_string(number):\n",
    "    coefficient, exponent = f\"{number:.1e}\".split('e')\n",
    "    return f\"{int(float(coefficient))}em{-int(exponent)}\""
   ]
  },
  {
   "cell_type": "code",
   "execution_count": 5,
   "metadata": {},
   "outputs": [
    {
     "name": "stdout",
     "output_type": "stream",
     "text": [
      "nf10_th_wnl_poly_1em1\n",
      "start\n",
      "Initilizing the model and optimizer\n",
      "Size of the training array =  11.0 MB\n",
      "N_training_samples = 179999, batch_size = 256, N_batch_updates_per_epoch = 703\n",
      "Initial Validation sim-NRMS= 1.0396485637659576\n"
     ]
    },
    {
     "name": "stderr",
     "output_type": "stream",
     "text": [
      "  1%|          | 1/100 [00:01<03:01,  1.83s/it]"
     ]
    },
    {
     "name": "stdout",
     "output_type": "stream",
     "text": [
      "########## New lowest validation loss achieved ########### sim-NRMS = 0.618724144293747\n",
      "Epoch    1, sqrt loss 0.06509, Val sim-NRMS 0.6187, Time Loss: 73.0%, data: 4.3%, val: 22.0%, 383.8 batches/sec\n"
     ]
    },
    {
     "name": "stderr",
     "output_type": "stream",
     "text": [
      "  2%|▏         | 2/100 [00:03<02:52,  1.76s/it]"
     ]
    },
    {
     "name": "stdout",
     "output_type": "stream",
     "text": [
      "########## New lowest validation loss achieved ########### sim-NRMS = 0.3424620576225546\n",
      "Epoch    2, sqrt loss 0.02463, Val sim-NRMS 0.3425, Time Loss: 72.4%, data: 4.6%, val: 22.4%, 397.3 batches/sec\n"
     ]
    },
    {
     "name": "stderr",
     "output_type": "stream",
     "text": [
      "  3%|▎         | 3/100 [00:05<02:48,  1.74s/it]"
     ]
    },
    {
     "name": "stdout",
     "output_type": "stream",
     "text": [
      "########## New lowest validation loss achieved ########### sim-NRMS = 0.2677543808779403\n",
      "Epoch    3, sqrt loss 0.01727, Val sim-NRMS 0.2678, Time Loss: 72.1%, data: 4.7%, val: 22.4%, 401.3 batches/sec\n"
     ]
    },
    {
     "name": "stderr",
     "output_type": "stream",
     "text": [
      "  4%|▍         | 4/100 [00:06<02:46,  1.73s/it]"
     ]
    },
    {
     "name": "stdout",
     "output_type": "stream",
     "text": [
      "########## New lowest validation loss achieved ########### sim-NRMS = 0.238492537080002\n",
      "Epoch    4, sqrt loss 0.01625, Val sim-NRMS 0.2385, Time Loss: 72.1%, data: 4.8%, val: 22.5%, 403.3 batches/sec\n"
     ]
    },
    {
     "name": "stderr",
     "output_type": "stream",
     "text": [
      "  5%|▌         | 5/100 [00:08<02:45,  1.74s/it]"
     ]
    },
    {
     "name": "stdout",
     "output_type": "stream",
     "text": [
      "########## New lowest validation loss achieved ########### sim-NRMS = 0.21099077669330907\n",
      "Epoch    5, sqrt loss 0.01567, Val sim-NRMS  0.211, Time Loss: 72.0%, data: 4.8%, val: 22.6%, 402.5 batches/sec\n"
     ]
    },
    {
     "name": "stderr",
     "output_type": "stream",
     "text": [
      "  6%|▌         | 6/100 [00:10<02:43,  1.74s/it]"
     ]
    },
    {
     "name": "stdout",
     "output_type": "stream",
     "text": [
      "########## New lowest validation loss achieved ########### sim-NRMS = 0.1963524835636945\n",
      "Epoch    6, sqrt loss 0.01526, Val sim-NRMS 0.1964, Time Loss: 71.8%, data: 4.7%, val: 22.7%, 403.3 batches/sec\n"
     ]
    },
    {
     "name": "stderr",
     "output_type": "stream",
     "text": [
      "  7%|▋         | 7/100 [00:12<02:41,  1.74s/it]"
     ]
    },
    {
     "name": "stdout",
     "output_type": "stream",
     "text": [
      "########## New lowest validation loss achieved ########### sim-NRMS = 0.16809710945716522\n",
      "Epoch    7, sqrt loss 0.01501, Val sim-NRMS 0.1681, Time Loss: 71.8%, data: 4.6%, val: 22.8%, 403.4 batches/sec\n"
     ]
    },
    {
     "name": "stderr",
     "output_type": "stream",
     "text": [
      "  8%|▊         | 8/100 [00:13<02:39,  1.74s/it]"
     ]
    },
    {
     "name": "stdout",
     "output_type": "stream",
     "text": [
      "########## New lowest validation loss achieved ########### sim-NRMS = 0.16079022956715783\n",
      "Epoch    8, sqrt loss 0.01487, Val sim-NRMS 0.1608, Time Loss: 71.8%, data: 4.5%, val: 23.0%, 403.7 batches/sec\n"
     ]
    },
    {
     "name": "stderr",
     "output_type": "stream",
     "text": [
      "  9%|▉         | 9/100 [00:15<02:38,  1.74s/it]"
     ]
    },
    {
     "name": "stdout",
     "output_type": "stream",
     "text": [
      "########## New lowest validation loss achieved ########### sim-NRMS = 0.15756139727333818\n",
      "Epoch    9, sqrt loss  0.0148, Val sim-NRMS 0.1576, Time Loss: 71.7%, data: 4.4%, val: 23.1%, 403.5 batches/sec\n"
     ]
    },
    {
     "name": "stderr",
     "output_type": "stream",
     "text": [
      " 10%|█         | 10/100 [00:17<02:35,  1.73s/it]"
     ]
    },
    {
     "name": "stdout",
     "output_type": "stream",
     "text": [
      "Epoch   10, sqrt loss 0.01476, Val sim-NRMS 0.1592, Time Loss: 71.7%, data: 4.5%, val: 23.0%, 404.6 batches/sec\n"
     ]
    },
    {
     "name": "stderr",
     "output_type": "stream",
     "text": [
      " 11%|█         | 11/100 [00:19<02:34,  1.74s/it]"
     ]
    },
    {
     "name": "stdout",
     "output_type": "stream",
     "text": [
      "########## New lowest validation loss achieved ########### sim-NRMS = 0.1412357182823654\n",
      "Epoch   11, sqrt loss 0.01473, Val sim-NRMS 0.1412, Time Loss: 71.6%, data: 4.5%, val: 23.2%, 404.1 batches/sec\n"
     ]
    },
    {
     "name": "stderr",
     "output_type": "stream",
     "text": [
      " 12%|█▏        | 12/100 [00:20<02:31,  1.72s/it]"
     ]
    },
    {
     "name": "stdout",
     "output_type": "stream",
     "text": [
      "Epoch   12, sqrt loss 0.01471, Val sim-NRMS  0.147, Time Loss: 71.7%, data: 4.5%, val: 23.0%, 405.0 batches/sec\n"
     ]
    },
    {
     "name": "stderr",
     "output_type": "stream",
     "text": [
      " 13%|█▎        | 13/100 [00:22<02:29,  1.72s/it]"
     ]
    },
    {
     "name": "stdout",
     "output_type": "stream",
     "text": [
      "Epoch   13, sqrt loss 0.01468, Val sim-NRMS 0.1447, Time Loss: 71.8%, data: 4.5%, val: 22.9%, 405.5 batches/sec\n"
     ]
    },
    {
     "name": "stderr",
     "output_type": "stream",
     "text": [
      " 14%|█▍        | 14/100 [00:24<02:29,  1.74s/it]"
     ]
    },
    {
     "name": "stdout",
     "output_type": "stream",
     "text": [
      "########## New lowest validation loss achieved ########### sim-NRMS = 0.13726352079786835\n",
      "Epoch   14, sqrt loss 0.01466, Val sim-NRMS 0.1373, Time Loss: 71.6%, data: 4.5%, val: 23.1%, 404.7 batches/sec\n"
     ]
    },
    {
     "name": "stderr",
     "output_type": "stream",
     "text": [
      " 15%|█▌        | 15/100 [00:25<02:26,  1.72s/it]"
     ]
    },
    {
     "name": "stdout",
     "output_type": "stream",
     "text": [
      "Epoch   15, sqrt loss 0.01464, Val sim-NRMS 0.1408, Time Loss: 71.7%, data: 4.4%, val: 23.0%, 405.7 batches/sec\n"
     ]
    },
    {
     "name": "stderr",
     "output_type": "stream",
     "text": [
      " 16%|█▌        | 16/100 [00:27<02:24,  1.71s/it]"
     ]
    },
    {
     "name": "stdout",
     "output_type": "stream",
     "text": [
      "Epoch   16, sqrt loss 0.01462, Val sim-NRMS 0.1497, Time Loss: 71.8%, data: 4.4%, val: 23.0%, 406.1 batches/sec\n"
     ]
    },
    {
     "name": "stderr",
     "output_type": "stream",
     "text": [
      " 17%|█▋        | 17/100 [00:29<02:21,  1.70s/it]"
     ]
    },
    {
     "name": "stdout",
     "output_type": "stream",
     "text": [
      "Epoch   17, sqrt loss  0.0146, Val sim-NRMS  0.142, Time Loss: 71.8%, data: 4.4%, val: 22.9%, 406.9 batches/sec\n"
     ]
    },
    {
     "name": "stderr",
     "output_type": "stream",
     "text": [
      " 18%|█▊        | 18/100 [00:31<02:19,  1.70s/it]"
     ]
    },
    {
     "name": "stdout",
     "output_type": "stream",
     "text": [
      "Epoch   18, sqrt loss 0.01459, Val sim-NRMS 0.1418, Time Loss: 71.9%, data: 4.5%, val: 22.9%, 407.4 batches/sec\n"
     ]
    },
    {
     "name": "stderr",
     "output_type": "stream",
     "text": [
      " 19%|█▉        | 19/100 [00:32<02:19,  1.72s/it]"
     ]
    },
    {
     "name": "stdout",
     "output_type": "stream",
     "text": [
      "Epoch   19, sqrt loss 0.01457, Val sim-NRMS 0.1393, Time Loss: 71.9%, data: 4.5%, val: 22.8%, 406.9 batches/sec\n"
     ]
    },
    {
     "name": "stderr",
     "output_type": "stream",
     "text": [
      " 20%|██        | 20/100 [00:34<02:20,  1.75s/it]"
     ]
    },
    {
     "name": "stdout",
     "output_type": "stream",
     "text": [
      "########## New lowest validation loss achieved ########### sim-NRMS = 0.1341447470599345\n",
      "Epoch   20, sqrt loss 0.01455, Val sim-NRMS 0.1341, Time Loss: 71.7%, data: 4.5%, val: 23.0%, 405.8 batches/sec\n"
     ]
    },
    {
     "name": "stderr",
     "output_type": "stream",
     "text": [
      " 21%|██        | 21/100 [00:36<02:20,  1.78s/it]"
     ]
    },
    {
     "name": "stdout",
     "output_type": "stream",
     "text": [
      "########## New lowest validation loss achieved ########### sim-NRMS = 0.13059317196215708\n",
      "Epoch   21, sqrt loss 0.01454, Val sim-NRMS 0.1306, Time Loss: 71.5%, data: 4.5%, val: 23.2%, 404.6 batches/sec\n"
     ]
    },
    {
     "name": "stderr",
     "output_type": "stream",
     "text": [
      " 22%|██▏       | 22/100 [00:38<02:16,  1.75s/it]"
     ]
    },
    {
     "name": "stdout",
     "output_type": "stream",
     "text": [
      "Epoch   22, sqrt loss 0.01452, Val sim-NRMS 0.1339, Time Loss: 71.6%, data: 4.5%, val: 23.2%, 405.2 batches/sec\n"
     ]
    },
    {
     "name": "stderr",
     "output_type": "stream",
     "text": [
      " 23%|██▎       | 23/100 [00:39<02:14,  1.74s/it]"
     ]
    },
    {
     "name": "stdout",
     "output_type": "stream",
     "text": [
      "Epoch   23, sqrt loss  0.0145, Val sim-NRMS 0.1313, Time Loss: 71.6%, data: 4.5%, val: 23.1%, 405.2 batches/sec\n"
     ]
    },
    {
     "name": "stderr",
     "output_type": "stream",
     "text": [
      " 24%|██▍       | 24/100 [00:41<02:10,  1.72s/it]"
     ]
    },
    {
     "name": "stdout",
     "output_type": "stream",
     "text": [
      "Epoch   24, sqrt loss 0.01449, Val sim-NRMS 0.1353, Time Loss: 71.7%, data: 4.5%, val: 23.0%, 405.9 batches/sec\n"
     ]
    },
    {
     "name": "stderr",
     "output_type": "stream",
     "text": [
      " 25%|██▌       | 25/100 [00:43<02:08,  1.72s/it]"
     ]
    },
    {
     "name": "stdout",
     "output_type": "stream",
     "text": [
      "Epoch   25, sqrt loss 0.01447, Val sim-NRMS 0.1424, Time Loss: 71.8%, data: 4.5%, val: 23.0%, 406.1 batches/sec\n"
     ]
    },
    {
     "name": "stderr",
     "output_type": "stream",
     "text": [
      " 26%|██▌       | 26/100 [00:45<02:09,  1.75s/it]"
     ]
    },
    {
     "name": "stdout",
     "output_type": "stream",
     "text": [
      "########## New lowest validation loss achieved ########### sim-NRMS = 0.1270063883176493\n",
      "Epoch   26, sqrt loss 0.01446, Val sim-NRMS  0.127, Time Loss: 71.6%, data: 4.4%, val: 23.2%, 405.3 batches/sec\n"
     ]
    },
    {
     "name": "stderr",
     "output_type": "stream",
     "text": [
      " 27%|██▋       | 27/100 [00:46<02:10,  1.78s/it]"
     ]
    },
    {
     "name": "stdout",
     "output_type": "stream",
     "text": [
      "########## New lowest validation loss achieved ########### sim-NRMS = 0.12692168504908025\n",
      "Epoch   27, sqrt loss 0.01444, Val sim-NRMS 0.1269, Time Loss: 71.4%, data: 4.4%, val: 23.4%, 404.2 batches/sec\n"
     ]
    },
    {
     "name": "stderr",
     "output_type": "stream",
     "text": [
      " 28%|██▊       | 28/100 [00:48<02:05,  1.75s/it]"
     ]
    },
    {
     "name": "stdout",
     "output_type": "stream",
     "text": [
      "Epoch   28, sqrt loss 0.01443, Val sim-NRMS 0.1288, Time Loss: 71.4%, data: 4.4%, val: 23.4%, 404.8 batches/sec\n"
     ]
    },
    {
     "name": "stderr",
     "output_type": "stream",
     "text": [
      " 29%|██▉       | 29/100 [00:50<02:03,  1.73s/it]"
     ]
    },
    {
     "name": "stdout",
     "output_type": "stream",
     "text": [
      "Epoch   29, sqrt loss 0.01442, Val sim-NRMS 0.1291, Time Loss: 71.4%, data: 4.4%, val: 23.4%, 405.1 batches/sec\n"
     ]
    },
    {
     "name": "stderr",
     "output_type": "stream",
     "text": [
      " 30%|███       | 30/100 [00:52<02:03,  1.77s/it]"
     ]
    },
    {
     "name": "stdout",
     "output_type": "stream",
     "text": [
      "########## New lowest validation loss achieved ########### sim-NRMS = 0.1264679497487903\n",
      "Epoch   30, sqrt loss  0.0144, Val sim-NRMS 0.1265, Time Loss: 71.2%, data: 4.4%, val: 23.6%, 404.1 batches/sec\n"
     ]
    },
    {
     "name": "stderr",
     "output_type": "stream",
     "text": [
      " 31%|███       | 31/100 [00:53<02:00,  1.75s/it]"
     ]
    },
    {
     "name": "stdout",
     "output_type": "stream",
     "text": [
      "Epoch   31, sqrt loss 0.01439, Val sim-NRMS 0.1306, Time Loss: 71.3%, data: 4.4%, val: 23.5%, 404.5 batches/sec\n"
     ]
    },
    {
     "name": "stderr",
     "output_type": "stream",
     "text": [
      " 32%|███▏      | 32/100 [00:55<02:01,  1.79s/it]"
     ]
    },
    {
     "name": "stdout",
     "output_type": "stream",
     "text": [
      "########## New lowest validation loss achieved ########### sim-NRMS = 0.12262087542778288\n",
      "Epoch   32, sqrt loss 0.01437, Val sim-NRMS 0.1226, Time Loss: 71.0%, data: 4.4%, val: 23.8%, 403.5 batches/sec\n"
     ]
    },
    {
     "name": "stderr",
     "output_type": "stream",
     "text": [
      " 33%|███▎      | 33/100 [00:57<01:57,  1.75s/it]"
     ]
    },
    {
     "name": "stdout",
     "output_type": "stream",
     "text": [
      "Epoch   33, sqrt loss 0.01436, Val sim-NRMS  0.129, Time Loss: 71.1%, data: 4.4%, val: 23.7%, 404.0 batches/sec\n"
     ]
    },
    {
     "name": "stderr",
     "output_type": "stream",
     "text": [
      " 34%|███▍      | 34/100 [00:59<01:58,  1.80s/it]"
     ]
    },
    {
     "name": "stdout",
     "output_type": "stream",
     "text": [
      "########## New lowest validation loss achieved ########### sim-NRMS = 0.12232130734617667\n",
      "Epoch   34, sqrt loss 0.01435, Val sim-NRMS 0.1223, Time Loss: 70.9%, data: 4.4%, val: 23.9%, 402.9 batches/sec\n"
     ]
    },
    {
     "name": "stderr",
     "output_type": "stream",
     "text": [
      " 35%|███▌      | 35/100 [01:01<01:55,  1.77s/it]"
     ]
    },
    {
     "name": "stdout",
     "output_type": "stream",
     "text": [
      "Epoch   35, sqrt loss 0.01433, Val sim-NRMS 0.1248, Time Loss: 70.9%, data: 4.4%, val: 23.9%, 403.1 batches/sec\n"
     ]
    },
    {
     "name": "stderr",
     "output_type": "stream",
     "text": [
      " 36%|███▌      | 36/100 [01:02<01:52,  1.75s/it]"
     ]
    },
    {
     "name": "stdout",
     "output_type": "stream",
     "text": [
      "Epoch   36, sqrt loss 0.01432, Val sim-NRMS  0.125, Time Loss: 71.0%, data: 4.4%, val: 23.8%, 403.4 batches/sec\n"
     ]
    },
    {
     "name": "stderr",
     "output_type": "stream",
     "text": [
      " 37%|███▋      | 37/100 [01:04<01:55,  1.83s/it]"
     ]
    },
    {
     "name": "stdout",
     "output_type": "stream",
     "text": [
      "########## New lowest validation loss achieved ########### sim-NRMS = 0.12068759605120938\n",
      "Epoch   37, sqrt loss 0.01431, Val sim-NRMS 0.1207, Time Loss: 70.8%, data: 4.4%, val: 24.0%, 401.7 batches/sec\n"
     ]
    },
    {
     "name": "stderr",
     "output_type": "stream",
     "text": [
      " 38%|███▊      | 38/100 [01:06<01:50,  1.78s/it]"
     ]
    },
    {
     "name": "stdout",
     "output_type": "stream",
     "text": [
      "Epoch   38, sqrt loss  0.0143, Val sim-NRMS  0.128, Time Loss: 70.8%, data: 4.4%, val: 24.0%, 402.2 batches/sec\n"
     ]
    },
    {
     "name": "stderr",
     "output_type": "stream",
     "text": [
      " 39%|███▉      | 39/100 [01:08<01:47,  1.76s/it]"
     ]
    },
    {
     "name": "stdout",
     "output_type": "stream",
     "text": [
      "Epoch   39, sqrt loss 0.01428, Val sim-NRMS 0.1282, Time Loss: 70.9%, data: 4.4%, val: 23.9%, 402.3 batches/sec\n"
     ]
    },
    {
     "name": "stderr",
     "output_type": "stream",
     "text": [
      " 40%|████      | 40/100 [01:10<01:48,  1.81s/it]"
     ]
    },
    {
     "name": "stdout",
     "output_type": "stream",
     "text": [
      "########## New lowest validation loss achieved ########### sim-NRMS = 0.12039685111659157\n",
      "Epoch   40, sqrt loss 0.01427, Val sim-NRMS 0.1204, Time Loss: 70.7%, data: 4.3%, val: 24.1%, 401.3 batches/sec\n"
     ]
    },
    {
     "name": "stderr",
     "output_type": "stream",
     "text": [
      " 41%|████      | 41/100 [01:11<01:45,  1.78s/it]"
     ]
    },
    {
     "name": "stdout",
     "output_type": "stream",
     "text": [
      "Epoch   41, sqrt loss 0.01426, Val sim-NRMS 0.1305, Time Loss: 70.8%, data: 4.3%, val: 24.1%, 401.5 batches/sec\n"
     ]
    },
    {
     "name": "stderr",
     "output_type": "stream",
     "text": [
      " 42%|████▏     | 42/100 [01:13<01:46,  1.83s/it]"
     ]
    },
    {
     "name": "stdout",
     "output_type": "stream",
     "text": [
      "########## New lowest validation loss achieved ########### sim-NRMS = 0.11919280688283568\n",
      "Epoch   42, sqrt loss 0.01425, Val sim-NRMS 0.1192, Time Loss: 70.6%, data: 4.3%, val: 24.3%, 400.4 batches/sec\n"
     ]
    },
    {
     "name": "stderr",
     "output_type": "stream",
     "text": [
      " 43%|████▎     | 43/100 [01:15<01:42,  1.80s/it]"
     ]
    },
    {
     "name": "stdout",
     "output_type": "stream",
     "text": [
      "Epoch   43, sqrt loss 0.01424, Val sim-NRMS 0.1212, Time Loss: 70.6%, data: 4.3%, val: 24.2%, 400.7 batches/sec\n"
     ]
    },
    {
     "name": "stderr",
     "output_type": "stream",
     "text": [
      " 44%|████▍     | 44/100 [01:17<01:43,  1.85s/it]"
     ]
    },
    {
     "name": "stdout",
     "output_type": "stream",
     "text": [
      "########## New lowest validation loss achieved ########### sim-NRMS = 0.11320745073299816\n",
      "Epoch   44, sqrt loss 0.01422, Val sim-NRMS 0.1132, Time Loss: 70.4%, data: 4.3%, val: 24.4%, 399.6 batches/sec\n"
     ]
    },
    {
     "name": "stderr",
     "output_type": "stream",
     "text": [
      " 45%|████▌     | 45/100 [01:19<01:38,  1.79s/it]"
     ]
    },
    {
     "name": "stdout",
     "output_type": "stream",
     "text": [
      "Epoch   45, sqrt loss 0.01421, Val sim-NRMS 0.1191, Time Loss: 70.5%, data: 4.3%, val: 24.4%, 400.0 batches/sec\n"
     ]
    },
    {
     "name": "stderr",
     "output_type": "stream",
     "text": [
      " 46%|████▌     | 46/100 [01:20<01:35,  1.76s/it]"
     ]
    },
    {
     "name": "stdout",
     "output_type": "stream",
     "text": [
      "Epoch   46, sqrt loss  0.0142, Val sim-NRMS 0.1183, Time Loss: 70.5%, data: 4.3%, val: 24.3%, 400.4 batches/sec\n"
     ]
    },
    {
     "name": "stderr",
     "output_type": "stream",
     "text": [
      " 47%|████▋     | 47/100 [01:22<01:36,  1.82s/it]"
     ]
    },
    {
     "name": "stdout",
     "output_type": "stream",
     "text": [
      "########## New lowest validation loss achieved ########### sim-NRMS = 0.104976545705153\n",
      "Epoch   47, sqrt loss 0.01419, Val sim-NRMS  0.105, Time Loss: 70.3%, data: 4.3%, val: 24.6%, 399.4 batches/sec\n"
     ]
    },
    {
     "name": "stderr",
     "output_type": "stream",
     "text": [
      " 48%|████▊     | 48/100 [01:24<01:32,  1.78s/it]"
     ]
    },
    {
     "name": "stdout",
     "output_type": "stream",
     "text": [
      "Epoch   48, sqrt loss 0.01418, Val sim-NRMS 0.1145, Time Loss: 70.4%, data: 4.3%, val: 24.5%, 399.7 batches/sec\n"
     ]
    },
    {
     "name": "stderr",
     "output_type": "stream",
     "text": [
      " 49%|████▉     | 49/100 [01:26<01:29,  1.75s/it]"
     ]
    },
    {
     "name": "stdout",
     "output_type": "stream",
     "text": [
      "Epoch   49, sqrt loss 0.01417, Val sim-NRMS 0.1124, Time Loss: 70.4%, data: 4.3%, val: 24.5%, 400.1 batches/sec\n"
     ]
    },
    {
     "name": "stderr",
     "output_type": "stream",
     "text": [
      " 50%|█████     | 50/100 [01:27<01:26,  1.73s/it]"
     ]
    },
    {
     "name": "stdout",
     "output_type": "stream",
     "text": [
      "Epoch   50, sqrt loss 0.01416, Val sim-NRMS 0.1196, Time Loss: 70.5%, data: 4.3%, val: 24.4%, 400.4 batches/sec\n"
     ]
    },
    {
     "name": "stderr",
     "output_type": "stream",
     "text": [
      " 51%|█████     | 51/100 [01:29<01:24,  1.72s/it]"
     ]
    },
    {
     "name": "stdout",
     "output_type": "stream",
     "text": [
      "Epoch   51, sqrt loss 0.01415, Val sim-NRMS 0.1122, Time Loss: 70.5%, data: 4.3%, val: 24.4%, 400.7 batches/sec\n"
     ]
    },
    {
     "name": "stderr",
     "output_type": "stream",
     "text": [
      " 52%|█████▏    | 52/100 [01:31<01:22,  1.71s/it]"
     ]
    },
    {
     "name": "stdout",
     "output_type": "stream",
     "text": [
      "Epoch   52, sqrt loss 0.01414, Val sim-NRMS 0.1186, Time Loss: 70.6%, data: 4.3%, val: 24.3%, 401.0 batches/sec\n"
     ]
    },
    {
     "name": "stderr",
     "output_type": "stream",
     "text": [
      " 53%|█████▎    | 53/100 [01:32<01:20,  1.70s/it]"
     ]
    },
    {
     "name": "stdout",
     "output_type": "stream",
     "text": [
      "Epoch   53, sqrt loss 0.01413, Val sim-NRMS 0.1238, Time Loss: 70.6%, data: 4.3%, val: 24.3%, 401.3 batches/sec\n"
     ]
    },
    {
     "name": "stderr",
     "output_type": "stream",
     "text": [
      " 54%|█████▍    | 54/100 [01:34<01:22,  1.80s/it]"
     ]
    },
    {
     "name": "stdout",
     "output_type": "stream",
     "text": [
      "########## New lowest validation loss achieved ########### sim-NRMS = 0.10075637611343809\n",
      "Epoch   54, sqrt loss 0.01412, Val sim-NRMS 0.1008, Time Loss: 70.4%, data: 4.3%, val: 24.5%, 400.1 batches/sec\n"
     ]
    },
    {
     "name": "stderr",
     "output_type": "stream",
     "text": [
      " 55%|█████▌    | 55/100 [01:36<01:20,  1.78s/it]"
     ]
    },
    {
     "name": "stdout",
     "output_type": "stream",
     "text": [
      "Epoch   55, sqrt loss 0.01411, Val sim-NRMS 0.1087, Time Loss: 70.5%, data: 4.3%, val: 24.4%, 400.1 batches/sec\n"
     ]
    },
    {
     "name": "stderr",
     "output_type": "stream",
     "text": [
      " 56%|█████▌    | 56/100 [01:38<01:17,  1.77s/it]"
     ]
    },
    {
     "name": "stdout",
     "output_type": "stream",
     "text": [
      "Epoch   56, sqrt loss 0.01411, Val sim-NRMS  0.115, Time Loss: 70.5%, data: 4.3%, val: 24.4%, 400.2 batches/sec\n"
     ]
    },
    {
     "name": "stderr",
     "output_type": "stream",
     "text": [
      " 57%|█████▋    | 57/100 [01:40<01:15,  1.75s/it]"
     ]
    },
    {
     "name": "stdout",
     "output_type": "stream",
     "text": [
      "Epoch   57, sqrt loss  0.0141, Val sim-NRMS 0.1059, Time Loss: 70.6%, data: 4.3%, val: 24.3%, 400.4 batches/sec\n"
     ]
    },
    {
     "name": "stderr",
     "output_type": "stream",
     "text": [
      " 58%|█████▊    | 58/100 [01:41<01:12,  1.73s/it]"
     ]
    },
    {
     "name": "stdout",
     "output_type": "stream",
     "text": [
      "Epoch   58, sqrt loss 0.01409, Val sim-NRMS 0.1123, Time Loss: 70.6%, data: 4.3%, val: 24.3%, 400.6 batches/sec\n"
     ]
    },
    {
     "name": "stderr",
     "output_type": "stream",
     "text": [
      " 59%|█████▉    | 59/100 [01:43<01:10,  1.72s/it]"
     ]
    },
    {
     "name": "stdout",
     "output_type": "stream",
     "text": [
      "Epoch   59, sqrt loss 0.01408, Val sim-NRMS 0.1134, Time Loss: 70.6%, data: 4.3%, val: 24.2%, 400.9 batches/sec\n"
     ]
    },
    {
     "name": "stderr",
     "output_type": "stream",
     "text": [
      " 60%|██████    | 60/100 [01:45<01:08,  1.71s/it]"
     ]
    },
    {
     "name": "stdout",
     "output_type": "stream",
     "text": [
      "Epoch   60, sqrt loss 0.01407, Val sim-NRMS 0.1011, Time Loss: 70.6%, data: 4.3%, val: 24.2%, 401.2 batches/sec\n"
     ]
    },
    {
     "name": "stderr",
     "output_type": "stream",
     "text": [
      " 61%|██████    | 61/100 [01:46<01:06,  1.71s/it]"
     ]
    },
    {
     "name": "stdout",
     "output_type": "stream",
     "text": [
      "Epoch   61, sqrt loss 0.01407, Val sim-NRMS 0.1139, Time Loss: 70.7%, data: 4.3%, val: 24.2%, 401.3 batches/sec\n"
     ]
    },
    {
     "name": "stderr",
     "output_type": "stream",
     "text": [
      " 62%|██████▏   | 62/100 [01:48<01:05,  1.72s/it]"
     ]
    },
    {
     "name": "stdout",
     "output_type": "stream",
     "text": [
      "Epoch   62, sqrt loss 0.01406, Val sim-NRMS 0.1162, Time Loss: 70.7%, data: 4.3%, val: 24.1%, 401.3 batches/sec\n"
     ]
    },
    {
     "name": "stderr",
     "output_type": "stream",
     "text": [
      " 63%|██████▎   | 63/100 [01:50<01:08,  1.84s/it]"
     ]
    },
    {
     "name": "stdout",
     "output_type": "stream",
     "text": [
      "########## New lowest validation loss achieved ########### sim-NRMS = 0.09888131404095098\n",
      "Epoch   63, sqrt loss 0.01405, Val sim-NRMS 0.09888, Time Loss: 70.5%, data: 4.3%, val: 24.4%, 400.0 batches/sec\n"
     ]
    },
    {
     "name": "stderr",
     "output_type": "stream",
     "text": [
      " 64%|██████▍   | 64/100 [01:52<01:05,  1.81s/it]"
     ]
    },
    {
     "name": "stdout",
     "output_type": "stream",
     "text": [
      "Epoch   64, sqrt loss 0.01404, Val sim-NRMS 0.09969, Time Loss: 70.5%, data: 4.3%, val: 24.3%, 400.0 batches/sec\n"
     ]
    },
    {
     "name": "stderr",
     "output_type": "stream",
     "text": [
      " 65%|██████▌   | 65/100 [01:54<01:02,  1.78s/it]"
     ]
    },
    {
     "name": "stdout",
     "output_type": "stream",
     "text": [
      "Epoch   65, sqrt loss 0.01404, Val sim-NRMS 0.1012, Time Loss: 70.6%, data: 4.3%, val: 24.3%, 400.2 batches/sec\n"
     ]
    },
    {
     "name": "stderr",
     "output_type": "stream",
     "text": [
      " 66%|██████▌   | 66/100 [01:56<01:03,  1.87s/it]"
     ]
    },
    {
     "name": "stdout",
     "output_type": "stream",
     "text": [
      "########## New lowest validation loss achieved ########### sim-NRMS = 0.09547042357291759\n",
      "Epoch   66, sqrt loss 0.01403, Val sim-NRMS 0.09547, Time Loss: 70.3%, data: 4.3%, val: 24.5%, 399.1 batches/sec\n"
     ]
    },
    {
     "name": "stderr",
     "output_type": "stream",
     "text": [
      " 67%|██████▋   | 67/100 [01:58<01:03,  1.94s/it]"
     ]
    },
    {
     "name": "stdout",
     "output_type": "stream",
     "text": [
      "########## New lowest validation loss achieved ########### sim-NRMS = 0.0939957328965628\n",
      "Epoch   67, sqrt loss 0.01402, Val sim-NRMS  0.094, Time Loss: 70.1%, data: 4.3%, val: 24.7%, 398.0 batches/sec\n"
     ]
    },
    {
     "name": "stderr",
     "output_type": "stream",
     "text": [
      " 68%|██████▊   | 68/100 [02:00<01:00,  1.88s/it]"
     ]
    },
    {
     "name": "stdout",
     "output_type": "stream",
     "text": [
      "Epoch   68, sqrt loss 0.01402, Val sim-NRMS 0.09475, Time Loss: 70.2%, data: 4.3%, val: 24.7%, 398.0 batches/sec\n"
     ]
    },
    {
     "name": "stderr",
     "output_type": "stream",
     "text": [
      " 69%|██████▉   | 69/100 [02:02<01:00,  1.96s/it]"
     ]
    },
    {
     "name": "stdout",
     "output_type": "stream",
     "text": [
      "########## New lowest validation loss achieved ########### sim-NRMS = 0.09327538024903664\n",
      "Epoch   69, sqrt loss 0.01401, Val sim-NRMS 0.09328, Time Loss: 70.0%, data: 4.3%, val: 24.9%, 396.9 batches/sec\n"
     ]
    },
    {
     "name": "stderr",
     "output_type": "stream",
     "text": [
      " 70%|███████   | 70/100 [02:03<00:56,  1.88s/it]"
     ]
    },
    {
     "name": "stdout",
     "output_type": "stream",
     "text": [
      "Epoch   70, sqrt loss 0.01401, Val sim-NRMS 0.09358, Time Loss: 70.0%, data: 4.3%, val: 24.9%, 397.1 batches/sec\n"
     ]
    },
    {
     "name": "stderr",
     "output_type": "stream",
     "text": [
      " 71%|███████   | 71/100 [02:06<00:57,  1.97s/it]"
     ]
    },
    {
     "name": "stdout",
     "output_type": "stream",
     "text": [
      "########## New lowest validation loss achieved ########### sim-NRMS = 0.09167819767927156\n",
      "Epoch   71, sqrt loss 0.01401, Val sim-NRMS 0.09168, Time Loss: 69.8%, data: 4.3%, val: 25.1%, 395.8 batches/sec\n"
     ]
    },
    {
     "name": "stderr",
     "output_type": "stream",
     "text": [
      " 72%|███████▏  | 72/100 [02:07<00:53,  1.91s/it]"
     ]
    },
    {
     "name": "stdout",
     "output_type": "stream",
     "text": [
      "Epoch   72, sqrt loss   0.014, Val sim-NRMS 0.09987, Time Loss: 69.9%, data: 4.3%, val: 25.0%, 395.8 batches/sec\n"
     ]
    },
    {
     "name": "stderr",
     "output_type": "stream",
     "text": [
      " 73%|███████▎  | 73/100 [02:09<00:49,  1.85s/it]"
     ]
    },
    {
     "name": "stdout",
     "output_type": "stream",
     "text": [
      "Epoch   73, sqrt loss   0.014, Val sim-NRMS 0.09367, Time Loss: 69.9%, data: 4.3%, val: 25.0%, 396.0 batches/sec\n"
     ]
    },
    {
     "name": "stderr",
     "output_type": "stream",
     "text": [
      " 74%|███████▍  | 74/100 [02:11<00:46,  1.80s/it]"
     ]
    },
    {
     "name": "stdout",
     "output_type": "stream",
     "text": [
      "Epoch   74, sqrt loss 0.01399, Val sim-NRMS 0.09783, Time Loss: 70.0%, data: 4.3%, val: 24.9%, 396.3 batches/sec\n"
     ]
    },
    {
     "name": "stderr",
     "output_type": "stream",
     "text": [
      " 75%|███████▌  | 75/100 [02:12<00:44,  1.77s/it]"
     ]
    },
    {
     "name": "stdout",
     "output_type": "stream",
     "text": [
      "Epoch   75, sqrt loss 0.01399, Val sim-NRMS 0.1108, Time Loss: 70.0%, data: 4.3%, val: 24.9%, 396.5 batches/sec\n"
     ]
    },
    {
     "name": "stderr",
     "output_type": "stream",
     "text": [
      " 76%|███████▌  | 76/100 [02:15<00:45,  1.89s/it]"
     ]
    },
    {
     "name": "stdout",
     "output_type": "stream",
     "text": [
      "########## New lowest validation loss achieved ########### sim-NRMS = 0.07979534969017699\n",
      "Epoch   76, sqrt loss 0.01399, Val sim-NRMS 0.0798, Time Loss: 69.8%, data: 4.3%, val: 25.1%, 395.3 batches/sec\n"
     ]
    },
    {
     "name": "stderr",
     "output_type": "stream",
     "text": [
      " 77%|███████▋  | 77/100 [02:16<00:42,  1.85s/it]"
     ]
    },
    {
     "name": "stdout",
     "output_type": "stream",
     "text": [
      "Epoch   77, sqrt loss 0.01398, Val sim-NRMS 0.08266, Time Loss: 69.8%, data: 4.3%, val: 25.1%, 395.5 batches/sec\n"
     ]
    },
    {
     "name": "stderr",
     "output_type": "stream",
     "text": [
      " 78%|███████▊  | 78/100 [02:18<00:40,  1.82s/it]"
     ]
    },
    {
     "name": "stdout",
     "output_type": "stream",
     "text": [
      "Epoch   78, sqrt loss 0.01398, Val sim-NRMS 0.09123, Time Loss: 69.9%, data: 4.3%, val: 25.0%, 395.5 batches/sec\n"
     ]
    },
    {
     "name": "stderr",
     "output_type": "stream",
     "text": [
      " 79%|███████▉  | 79/100 [02:20<00:37,  1.78s/it]"
     ]
    },
    {
     "name": "stdout",
     "output_type": "stream",
     "text": [
      "Epoch   79, sqrt loss 0.01398, Val sim-NRMS 0.09917, Time Loss: 69.9%, data: 4.3%, val: 25.0%, 395.7 batches/sec\n"
     ]
    },
    {
     "name": "stderr",
     "output_type": "stream",
     "text": [
      " 80%|████████  | 80/100 [02:22<00:35,  1.76s/it]"
     ]
    },
    {
     "name": "stdout",
     "output_type": "stream",
     "text": [
      "Epoch   80, sqrt loss 0.01398, Val sim-NRMS 0.09359, Time Loss: 70.0%, data: 4.3%, val: 24.9%, 395.9 batches/sec\n"
     ]
    },
    {
     "name": "stderr",
     "output_type": "stream",
     "text": [
      " 81%|████████  | 81/100 [02:23<00:33,  1.75s/it]"
     ]
    },
    {
     "name": "stdout",
     "output_type": "stream",
     "text": [
      "Epoch   81, sqrt loss 0.01397, Val sim-NRMS 0.08498, Time Loss: 70.0%, data: 4.3%, val: 24.9%, 396.1 batches/sec\n"
     ]
    },
    {
     "name": "stderr",
     "output_type": "stream",
     "text": [
      " 82%|████████▏ | 82/100 [02:25<00:31,  1.74s/it]"
     ]
    },
    {
     "name": "stdout",
     "output_type": "stream",
     "text": [
      "Epoch   82, sqrt loss 0.01397, Val sim-NRMS 0.09583, Time Loss: 70.0%, data: 4.3%, val: 24.9%, 396.2 batches/sec\n"
     ]
    },
    {
     "name": "stderr",
     "output_type": "stream",
     "text": [
      " 83%|████████▎ | 83/100 [02:27<00:29,  1.72s/it]"
     ]
    },
    {
     "name": "stdout",
     "output_type": "stream",
     "text": [
      "Epoch   83, sqrt loss 0.01397, Val sim-NRMS 0.1068, Time Loss: 70.1%, data: 4.3%, val: 24.8%, 396.5 batches/sec\n"
     ]
    },
    {
     "name": "stderr",
     "output_type": "stream",
     "text": [
      " 84%|████████▍ | 84/100 [02:28<00:27,  1.72s/it]"
     ]
    },
    {
     "name": "stdout",
     "output_type": "stream",
     "text": [
      "Epoch   84, sqrt loss 0.01397, Val sim-NRMS 0.09228, Time Loss: 70.1%, data: 4.3%, val: 24.8%, 396.6 batches/sec\n"
     ]
    },
    {
     "name": "stderr",
     "output_type": "stream",
     "text": [
      " 85%|████████▌ | 85/100 [02:30<00:25,  1.72s/it]"
     ]
    },
    {
     "name": "stdout",
     "output_type": "stream",
     "text": [
      "Epoch   85, sqrt loss 0.01397, Val sim-NRMS 0.0903, Time Loss: 70.1%, data: 4.3%, val: 24.8%, 396.8 batches/sec\n"
     ]
    },
    {
     "name": "stderr",
     "output_type": "stream",
     "text": [
      " 86%|████████▌ | 86/100 [02:32<00:23,  1.71s/it]"
     ]
    },
    {
     "name": "stdout",
     "output_type": "stream",
     "text": [
      "Epoch   86, sqrt loss 0.01396, Val sim-NRMS 0.08064, Time Loss: 70.1%, data: 4.3%, val: 24.7%, 397.0 batches/sec\n"
     ]
    },
    {
     "name": "stderr",
     "output_type": "stream",
     "text": [
      " 87%|████████▋ | 87/100 [02:33<00:22,  1.71s/it]"
     ]
    },
    {
     "name": "stdout",
     "output_type": "stream",
     "text": [
      "Epoch   87, sqrt loss 0.01396, Val sim-NRMS 0.08449, Time Loss: 70.2%, data: 4.3%, val: 24.7%, 397.2 batches/sec\n"
     ]
    },
    {
     "name": "stderr",
     "output_type": "stream",
     "text": [
      " 88%|████████▊ | 88/100 [02:35<00:20,  1.71s/it]"
     ]
    },
    {
     "name": "stdout",
     "output_type": "stream",
     "text": [
      "Epoch   88, sqrt loss 0.01396, Val sim-NRMS 0.08222, Time Loss: 70.2%, data: 4.3%, val: 24.7%, 397.3 batches/sec\n"
     ]
    },
    {
     "name": "stderr",
     "output_type": "stream",
     "text": [
      " 89%|████████▉ | 89/100 [02:37<00:18,  1.71s/it]"
     ]
    },
    {
     "name": "stdout",
     "output_type": "stream",
     "text": [
      "Epoch   89, sqrt loss 0.01396, Val sim-NRMS 0.08738, Time Loss: 70.2%, data: 4.3%, val: 24.6%, 397.5 batches/sec\n"
     ]
    },
    {
     "name": "stderr",
     "output_type": "stream",
     "text": [
      " 90%|█████████ | 90/100 [02:39<00:17,  1.72s/it]"
     ]
    },
    {
     "name": "stdout",
     "output_type": "stream",
     "text": [
      "Epoch   90, sqrt loss 0.01396, Val sim-NRMS 0.08984, Time Loss: 70.3%, data: 4.3%, val: 24.6%, 397.5 batches/sec\n"
     ]
    },
    {
     "name": "stderr",
     "output_type": "stream",
     "text": [
      " 91%|█████████ | 91/100 [02:40<00:15,  1.72s/it]"
     ]
    },
    {
     "name": "stdout",
     "output_type": "stream",
     "text": [
      "Epoch   91, sqrt loss 0.01396, Val sim-NRMS 0.08126, Time Loss: 70.3%, data: 4.3%, val: 24.6%, 397.7 batches/sec\n"
     ]
    },
    {
     "name": "stderr",
     "output_type": "stream",
     "text": [
      " 92%|█████████▏| 92/100 [02:42<00:13,  1.71s/it]"
     ]
    },
    {
     "name": "stdout",
     "output_type": "stream",
     "text": [
      "Epoch   92, sqrt loss 0.01396, Val sim-NRMS 0.09307, Time Loss: 70.3%, data: 4.3%, val: 24.5%, 397.8 batches/sec\n"
     ]
    },
    {
     "name": "stderr",
     "output_type": "stream",
     "text": [
      " 93%|█████████▎| 93/100 [02:44<00:12,  1.73s/it]"
     ]
    },
    {
     "name": "stdout",
     "output_type": "stream",
     "text": [
      "Epoch   93, sqrt loss 0.01396, Val sim-NRMS 0.08744, Time Loss: 70.3%, data: 4.3%, val: 24.5%, 397.8 batches/sec\n"
     ]
    },
    {
     "name": "stderr",
     "output_type": "stream",
     "text": [
      " 94%|█████████▍| 94/100 [02:46<00:10,  1.73s/it]"
     ]
    },
    {
     "name": "stdout",
     "output_type": "stream",
     "text": [
      "Epoch   94, sqrt loss 0.01396, Val sim-NRMS 0.09412, Time Loss: 70.4%, data: 4.3%, val: 24.5%, 397.9 batches/sec\n"
     ]
    },
    {
     "name": "stderr",
     "output_type": "stream",
     "text": [
      " 95%|█████████▌| 95/100 [02:47<00:08,  1.73s/it]"
     ]
    },
    {
     "name": "stdout",
     "output_type": "stream",
     "text": [
      "Epoch   95, sqrt loss 0.01396, Val sim-NRMS 0.08579, Time Loss: 70.4%, data: 4.4%, val: 24.4%, 398.0 batches/sec\n"
     ]
    },
    {
     "name": "stderr",
     "output_type": "stream",
     "text": [
      " 96%|█████████▌| 96/100 [02:50<00:07,  1.91s/it]"
     ]
    },
    {
     "name": "stdout",
     "output_type": "stream",
     "text": [
      "########## New lowest validation loss achieved ########### sim-NRMS = 0.07016666969951058\n",
      "Epoch   96, sqrt loss 0.01396, Val sim-NRMS 0.07017, Time Loss: 70.2%, data: 4.3%, val: 24.7%, 396.7 batches/sec\n"
     ]
    },
    {
     "name": "stderr",
     "output_type": "stream",
     "text": [
      " 97%|█████████▋| 97/100 [02:51<00:05,  1.84s/it]"
     ]
    },
    {
     "name": "stdout",
     "output_type": "stream",
     "text": [
      "Epoch   97, sqrt loss 0.01396, Val sim-NRMS 0.09571, Time Loss: 70.2%, data: 4.3%, val: 24.7%, 396.9 batches/sec\n"
     ]
    },
    {
     "name": "stderr",
     "output_type": "stream",
     "text": [
      " 98%|█████████▊| 98/100 [02:53<00:03,  1.81s/it]"
     ]
    },
    {
     "name": "stdout",
     "output_type": "stream",
     "text": [
      "Epoch   98, sqrt loss 0.01396, Val sim-NRMS 0.08256, Time Loss: 70.2%, data: 4.3%, val: 24.6%, 396.9 batches/sec\n"
     ]
    },
    {
     "name": "stderr",
     "output_type": "stream",
     "text": [
      " 99%|█████████▉| 99/100 [02:55<00:01,  1.78s/it]"
     ]
    },
    {
     "name": "stdout",
     "output_type": "stream",
     "text": [
      "Epoch   99, sqrt loss 0.01395, Val sim-NRMS 0.09743, Time Loss: 70.2%, data: 4.3%, val: 24.6%, 397.1 batches/sec\n"
     ]
    },
    {
     "name": "stderr",
     "output_type": "stream",
     "text": [
      "100%|██████████| 100/100 [02:56<00:00,  1.77s/it]"
     ]
    },
    {
     "name": "stdout",
     "output_type": "stream",
     "text": [
      "Epoch  100, sqrt loss 0.01395, Val sim-NRMS 0.07892, Time Loss: 70.3%, data: 4.3%, val: 24.6%, 397.3 batches/sec\n"
     ]
    },
    {
     "name": "stderr",
     "output_type": "stream",
     "text": [
      "\n"
     ]
    },
    {
     "name": "stdout",
     "output_type": "stream",
     "text": [
      "Model already initilized (init_model_done=True), skipping initilizing of the model, the norm and the creation of the optimizer\n",
      "Size of the training array =  48.1 MB\n",
      "N_training_samples = 179990, batch_size = 256, N_batch_updates_per_epoch = 703\n",
      "Initial Validation sim-NRMS= 0.07891668217802342\n"
     ]
    },
    {
     "name": "stderr",
     "output_type": "stream",
     "text": [
      "  1%|          | 1/150 [00:11<28:31, 11.48s/it]"
     ]
    },
    {
     "name": "stdout",
     "output_type": "stream",
     "text": [
      "########## New lowest validation loss achieved ########### sim-NRMS = 0.05004941094504524\n",
      "Epoch    1, sqrt loss  0.1146, Val sim-NRMS 0.05005, Time Loss: 90.3%, data: 0.8%, val: 8.8%, 61.2 batches/sec\n"
     ]
    },
    {
     "name": "stderr",
     "output_type": "stream",
     "text": [
      "  1%|▏         | 2/150 [00:22<27:33, 11.17s/it]"
     ]
    },
    {
     "name": "stdout",
     "output_type": "stream",
     "text": [
      "Epoch    2, sqrt loss  0.1162, Val sim-NRMS 0.05046, Time Loss: 92.8%, data: 0.8%, val: 6.2%, 62.7 batches/sec\n"
     ]
    },
    {
     "name": "stderr",
     "output_type": "stream",
     "text": [
      "  2%|▏         | 3/150 [00:34<27:48, 11.35s/it]"
     ]
    },
    {
     "name": "stdout",
     "output_type": "stream",
     "text": [
      "########## New lowest validation loss achieved ########### sim-NRMS = 0.047485565932324225\n",
      "Epoch    3, sqrt loss  0.1172, Val sim-NRMS 0.04749, Time Loss: 92.0%, data: 0.8%, val: 7.1%, 62.0 batches/sec\n"
     ]
    },
    {
     "name": "stderr",
     "output_type": "stream",
     "text": [
      "  3%|▎         | 4/150 [00:45<27:59, 11.51s/it]"
     ]
    },
    {
     "name": "stdout",
     "output_type": "stream",
     "text": [
      "########## New lowest validation loss achieved ########### sim-NRMS = 0.047364014719113605\n",
      "Epoch    4, sqrt loss  0.1181, Val sim-NRMS 0.04736, Time Loss: 91.4%, data: 0.8%, val: 7.6%, 61.5 batches/sec\n"
     ]
    },
    {
     "name": "stderr",
     "output_type": "stream",
     "text": [
      "  3%|▎         | 5/150 [00:57<27:42, 11.47s/it]"
     ]
    },
    {
     "name": "stdout",
     "output_type": "stream",
     "text": [
      "########## New lowest validation loss achieved ########### sim-NRMS = 0.046281904160216464\n",
      "Epoch    5, sqrt loss  0.1189, Val sim-NRMS 0.04628, Time Loss: 91.2%, data: 0.8%, val: 7.9%, 61.5 batches/sec\n"
     ]
    },
    {
     "name": "stderr",
     "output_type": "stream",
     "text": [
      "  4%|▍         | 6/150 [01:08<27:06, 11.30s/it]"
     ]
    },
    {
     "name": "stdout",
     "output_type": "stream",
     "text": [
      "Epoch    6, sqrt loss  0.1196, Val sim-NRMS 0.04806, Time Loss: 91.9%, data: 0.8%, val: 7.2%, 61.9 batches/sec\n"
     ]
    },
    {
     "name": "stderr",
     "output_type": "stream",
     "text": [
      "  5%|▍         | 7/150 [01:19<26:47, 11.24s/it]"
     ]
    },
    {
     "name": "stdout",
     "output_type": "stream",
     "text": [
      "Epoch    7, sqrt loss  0.1202, Val sim-NRMS 0.04669, Time Loss: 92.4%, data: 0.8%, val: 6.6%, 62.1 batches/sec\n"
     ]
    },
    {
     "name": "stderr",
     "output_type": "stream",
     "text": [
      "  5%|▌         | 8/150 [01:30<26:21, 11.14s/it]"
     ]
    },
    {
     "name": "stdout",
     "output_type": "stream",
     "text": [
      "Epoch    8, sqrt loss  0.1208, Val sim-NRMS 0.04861, Time Loss: 92.8%, data: 0.8%, val: 6.2%, 62.4 batches/sec\n"
     ]
    },
    {
     "name": "stderr",
     "output_type": "stream",
     "text": [
      "  6%|▌         | 9/150 [01:41<26:00, 11.07s/it]"
     ]
    },
    {
     "name": "stdout",
     "output_type": "stream",
     "text": [
      "Epoch    9, sqrt loss  0.1214, Val sim-NRMS 0.04712, Time Loss: 93.1%, data: 0.8%, val: 5.9%, 62.6 batches/sec\n"
     ]
    },
    {
     "name": "stderr",
     "output_type": "stream",
     "text": [
      "  7%|▋         | 10/150 [01:52<25:51, 11.09s/it]"
     ]
    },
    {
     "name": "stdout",
     "output_type": "stream",
     "text": [
      "Epoch   10, sqrt loss  0.1219, Val sim-NRMS 0.0469, Time Loss: 93.4%, data: 0.8%, val: 5.7%, 62.7 batches/sec\n"
     ]
    },
    {
     "name": "stderr",
     "output_type": "stream",
     "text": [
      "  7%|▋         | 11/150 [02:03<26:11, 11.31s/it]"
     ]
    },
    {
     "name": "stdout",
     "output_type": "stream",
     "text": [
      "Epoch   11, sqrt loss  0.1224, Val sim-NRMS 0.04677, Time Loss: 93.5%, data: 0.8%, val: 5.5%, 62.4 batches/sec\n"
     ]
    },
    {
     "name": "stderr",
     "output_type": "stream",
     "text": [
      "  8%|▊         | 12/150 [02:15<26:12, 11.40s/it]"
     ]
    },
    {
     "name": "stdout",
     "output_type": "stream",
     "text": [
      "Epoch   12, sqrt loss  0.1229, Val sim-NRMS 0.04701, Time Loss: 93.7%, data: 0.8%, val: 5.3%, 62.2 batches/sec\n"
     ]
    },
    {
     "name": "stderr",
     "output_type": "stream",
     "text": [
      "  9%|▊         | 13/150 [02:26<25:48, 11.30s/it]"
     ]
    },
    {
     "name": "stdout",
     "output_type": "stream",
     "text": [
      "Epoch   13, sqrt loss  0.1234, Val sim-NRMS 0.04648, Time Loss: 93.9%, data: 0.8%, val: 5.2%, 62.3 batches/sec\n"
     ]
    },
    {
     "name": "stderr",
     "output_type": "stream",
     "text": [
      "  9%|▉         | 14/150 [02:38<25:52, 11.42s/it]"
     ]
    },
    {
     "name": "stdout",
     "output_type": "stream",
     "text": [
      "########## New lowest validation loss achieved ########### sim-NRMS = 0.04520324402320717\n",
      "Epoch   14, sqrt loss  0.1238, Val sim-NRMS 0.0452, Time Loss: 93.6%, data: 0.8%, val: 5.5%, 62.1 batches/sec\n"
     ]
    },
    {
     "name": "stderr",
     "output_type": "stream",
     "text": [
      " 10%|█         | 15/150 [02:49<25:27, 11.31s/it]"
     ]
    },
    {
     "name": "stdout",
     "output_type": "stream",
     "text": [
      "Epoch   15, sqrt loss  0.1242, Val sim-NRMS 0.04619, Time Loss: 93.7%, data: 0.8%, val: 5.3%, 62.2 batches/sec\n"
     ]
    },
    {
     "name": "stderr",
     "output_type": "stream",
     "text": [
      " 11%|█         | 16/150 [03:00<25:00, 11.20s/it]"
     ]
    },
    {
     "name": "stdout",
     "output_type": "stream",
     "text": [
      "Epoch   16, sqrt loss  0.1246, Val sim-NRMS 0.04701, Time Loss: 93.8%, data: 0.8%, val: 5.2%, 62.4 batches/sec\n"
     ]
    },
    {
     "name": "stderr",
     "output_type": "stream",
     "text": [
      " 11%|█▏        | 17/150 [03:12<25:07, 11.34s/it]"
     ]
    },
    {
     "name": "stdout",
     "output_type": "stream",
     "text": [
      "########## New lowest validation loss achieved ########### sim-NRMS = 0.04416713979949634\n",
      "Epoch   17, sqrt loss   0.125, Val sim-NRMS 0.04417, Time Loss: 93.6%, data: 0.8%, val: 5.5%, 62.2 batches/sec\n"
     ]
    },
    {
     "name": "stderr",
     "output_type": "stream",
     "text": [
      " 12%|█▏        | 18/150 [03:23<24:42, 11.23s/it]"
     ]
    },
    {
     "name": "stdout",
     "output_type": "stream",
     "text": [
      "Epoch   18, sqrt loss  0.1253, Val sim-NRMS 0.04955, Time Loss: 93.7%, data: 0.8%, val: 5.3%, 62.3 batches/sec\n"
     ]
    },
    {
     "name": "stderr",
     "output_type": "stream",
     "text": [
      " 13%|█▎        | 19/150 [03:33<24:16, 11.12s/it]"
     ]
    },
    {
     "name": "stdout",
     "output_type": "stream",
     "text": [
      "Epoch   19, sqrt loss  0.1257, Val sim-NRMS 0.0442, Time Loss: 93.8%, data: 0.8%, val: 5.2%, 62.5 batches/sec\n"
     ]
    },
    {
     "name": "stderr",
     "output_type": "stream",
     "text": [
      " 13%|█▎        | 20/150 [03:44<23:59, 11.08s/it]"
     ]
    },
    {
     "name": "stdout",
     "output_type": "stream",
     "text": [
      "Epoch   20, sqrt loss  0.1261, Val sim-NRMS 0.04465, Time Loss: 93.9%, data: 0.8%, val: 5.2%, 62.5 batches/sec\n"
     ]
    },
    {
     "name": "stderr",
     "output_type": "stream",
     "text": [
      " 14%|█▍        | 21/150 [03:55<23:45, 11.05s/it]"
     ]
    },
    {
     "name": "stdout",
     "output_type": "stream",
     "text": [
      "Epoch   21, sqrt loss  0.1264, Val sim-NRMS  0.046, Time Loss: 93.9%, data: 0.8%, val: 5.1%, 62.6 batches/sec\n"
     ]
    },
    {
     "name": "stderr",
     "output_type": "stream",
     "text": [
      " 15%|█▍        | 22/150 [04:07<23:59, 11.25s/it]"
     ]
    },
    {
     "name": "stdout",
     "output_type": "stream",
     "text": [
      "########## New lowest validation loss achieved ########### sim-NRMS = 0.043463524004007076\n",
      "Epoch   22, sqrt loss  0.1267, Val sim-NRMS 0.04346, Time Loss: 93.7%, data: 0.8%, val: 5.3%, 62.5 batches/sec\n"
     ]
    },
    {
     "name": "stderr",
     "output_type": "stream",
     "text": [
      " 15%|█▌        | 23/150 [04:18<23:38, 11.17s/it]"
     ]
    },
    {
     "name": "stdout",
     "output_type": "stream",
     "text": [
      "Epoch   23, sqrt loss   0.127, Val sim-NRMS 0.04417, Time Loss: 93.8%, data: 0.8%, val: 5.2%, 62.5 batches/sec\n"
     ]
    },
    {
     "name": "stderr",
     "output_type": "stream",
     "text": [
      " 16%|█▌        | 24/150 [04:29<23:18, 11.10s/it]"
     ]
    },
    {
     "name": "stdout",
     "output_type": "stream",
     "text": [
      "Epoch   24, sqrt loss  0.1273, Val sim-NRMS 0.04676, Time Loss: 93.9%, data: 0.8%, val: 5.1%, 62.6 batches/sec\n"
     ]
    },
    {
     "name": "stderr",
     "output_type": "stream",
     "text": [
      " 17%|█▋        | 25/150 [04:40<23:00, 11.04s/it]"
     ]
    },
    {
     "name": "stdout",
     "output_type": "stream",
     "text": [
      "Epoch   25, sqrt loss  0.1276, Val sim-NRMS 0.04611, Time Loss: 94.0%, data: 0.8%, val: 5.1%, 62.7 batches/sec\n"
     ]
    },
    {
     "name": "stderr",
     "output_type": "stream",
     "text": [
      " 17%|█▋        | 26/150 [04:52<23:15, 11.26s/it]"
     ]
    },
    {
     "name": "stdout",
     "output_type": "stream",
     "text": [
      "Epoch   26, sqrt loss  0.1279, Val sim-NRMS   5.69, Time Loss: 93.9%, data: 0.8%, val: 5.0%, 62.6 batches/sec\n"
     ]
    },
    {
     "name": "stderr",
     "output_type": "stream",
     "text": [
      " 18%|█▊        | 27/150 [05:03<22:58, 11.20s/it]"
     ]
    },
    {
     "name": "stdout",
     "output_type": "stream",
     "text": [
      "Epoch   27, sqrt loss  0.1349, Val sim-NRMS  1.005, Time Loss: 93.9%, data: 0.8%, val: 4.9%, 62.6 batches/sec\n"
     ]
    },
    {
     "name": "stderr",
     "output_type": "stream",
     "text": [
      " 19%|█▊        | 28/150 [05:14<23:02, 11.33s/it]"
     ]
    },
    {
     "name": "stdout",
     "output_type": "stream",
     "text": [
      "Epoch   28, sqrt loss   0.133, Val sim-NRMS  1.004, Time Loss: 94.0%, data: 0.8%, val: 4.9%, 62.5 batches/sec\n"
     ]
    },
    {
     "name": "stderr",
     "output_type": "stream",
     "text": [
      " 19%|█▉        | 29/150 [05:26<22:59, 11.40s/it]"
     ]
    },
    {
     "name": "stdout",
     "output_type": "stream",
     "text": [
      "Epoch   29, sqrt loss  0.1329, Val sim-NRMS  1.004, Time Loss: 94.0%, data: 0.8%, val: 4.8%, 62.5 batches/sec\n"
     ]
    },
    {
     "name": "stderr",
     "output_type": "stream",
     "text": [
      " 20%|██        | 30/150 [05:37<22:53, 11.45s/it]"
     ]
    },
    {
     "name": "stdout",
     "output_type": "stream",
     "text": [
      "Epoch   30, sqrt loss  0.1329, Val sim-NRMS  1.004, Time Loss: 94.1%, data: 0.8%, val: 4.8%, 62.4 batches/sec\n"
     ]
    },
    {
     "name": "stderr",
     "output_type": "stream",
     "text": [
      " 21%|██        | 31/150 [05:49<22:43, 11.46s/it]"
     ]
    },
    {
     "name": "stdout",
     "output_type": "stream",
     "text": [
      "Epoch   31, sqrt loss  0.1329, Val sim-NRMS  1.004, Time Loss: 94.1%, data: 0.8%, val: 4.7%, 62.4 batches/sec\n"
     ]
    },
    {
     "name": "stderr",
     "output_type": "stream",
     "text": [
      " 21%|██▏       | 32/150 [06:01<22:42, 11.54s/it]"
     ]
    },
    {
     "name": "stdout",
     "output_type": "stream",
     "text": [
      "Epoch   32, sqrt loss  0.1329, Val sim-NRMS  1.004, Time Loss: 94.2%, data: 0.8%, val: 4.7%, 62.3 batches/sec\n"
     ]
    },
    {
     "name": "stderr",
     "output_type": "stream",
     "text": [
      " 21%|██▏       | 32/150 [06:03<22:20, 11.36s/it]\n"
     ]
    },
    {
     "name": "stdout",
     "output_type": "stream",
     "text": [
      "Stopping early due to a KeyboardInterrupt\n",
      "Model already initilized (init_model_done=True), skipping initilizing of the model, the norm and the creation of the optimizer\n",
      "Size of the training array =  48.1 MB\n",
      "N_training_samples = 179990, batch_size = 256, N_batch_updates_per_epoch = 703\n",
      "Initial Validation sim-NRMS= 1.004473111786454\n"
     ]
    },
    {
     "name": "stderr",
     "output_type": "stream",
     "text": [
      "  0%|          | 0/50 [00:00<?, ?it/s]"
     ]
    }
   ],
   "source": [
    "for th in threshold:\n",
    "    set_name = \"nf10_th_wnl_poly_{}\".format(convert_float_to_string(th))\n",
    "    print(set_name)\n",
    "\n",
    "    run_SISUBNET(nx, na, nb, na_right, \\\n",
    "             f_net_kwargs, e_net, e_net_kwargs, h_net, h_net_kwargs,\\\n",
    "             arrow, train, val, test, data_set_name,\\\n",
    "             nf, gamma, mode, T_idx, pruning, th, epo_idx,\\\n",
    "             batch_size, pre_train=pre_train, no_reg_epochs=no_reg_epochs, nf_epochs=epochs,\\\n",
    "             save_data=True, set_name=set_name, verbose=True)"
   ]
  }
 ],
 "metadata": {
  "kernelspec": {
   "display_name": "subsindy",
   "language": "python",
   "name": "python3"
  },
  "language_info": {
   "codemirror_mode": {
    "name": "ipython",
    "version": 3
   },
   "file_extension": ".py",
   "mimetype": "text/x-python",
   "name": "python",
   "nbconvert_exporter": "python",
   "pygments_lexer": "ipython3",
   "version": "3.12.2"
  }
 },
 "nbformat": 4,
 "nbformat_minor": 2
}
