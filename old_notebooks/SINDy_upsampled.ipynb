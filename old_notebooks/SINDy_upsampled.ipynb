{
 "cells": [
  {
   "cell_type": "code",
   "execution_count": 56,
   "metadata": {},
   "outputs": [],
   "source": [
    "import numpy as np\n",
    "from numpy import genfromtxt\n",
    "import csv\n",
    "import os\n",
    "\n",
    "import pysindy as ps\n",
    "\n",
    "import deepSI\n",
    "from deepSI import System_data\n",
    "\n",
    "import matplotlib.pyplot as plt\n",
    "from sklearn.linear_model import Lasso"
   ]
  },
  {
   "cell_type": "code",
   "execution_count": 2,
   "metadata": {},
   "outputs": [],
   "source": [
    "DATA_PATH = r\"C:\\Users\\20173928\\OneDrive - TU Eindhoven\\Documents\\Master\\thesis\\mscth\\data\\upsampled\\\\\"\n",
    "\n",
    "FACTOR = [str(2), str(4), str(5), str(8), str(10)]\n",
    "factor = [int(i) for i in FACTOR]\n",
    "METHOD = [\"akima\", \"makima\", \"linear\"]\n",
    "CSV = \".csv\"\n",
    "\n",
    "fs = 610.35\n",
    "dt = 1/fs\n",
    "\n",
    "DATA = []\n",
    "\n",
    "for m in METHOD:\n",
    "    for f in FACTOR:  \n",
    "      PATH = os.path.join(DATA_PATH, m+\"_\"+f+\"dt_silver\"+CSV)\n",
    "      data = genfromtxt(PATH, delimiter=\",\")\n",
    "      DATA.append(data)"
   ]
  },
  {
   "cell_type": "code",
   "execution_count": 3,
   "metadata": {},
   "outputs": [],
   "source": [
    "def NRMS(y_pred, y_true):\n",
    "    RMS = np.sqrt(np.mean((y_pred-y_true)**2))\n",
    "    return RMS/np.std(y_true)"
   ]
  },
  {
   "cell_type": "code",
   "execution_count": 103,
   "metadata": {},
   "outputs": [],
   "source": [
    "pred_data = []\n",
    "simo_data = []\n",
    "pred_NRMS = []\n",
    "\n",
    "for idx, d in enumerate(DATA):\n",
    "    silver_data = System_data(u=d[:,0],y=d[:,1])\n",
    "    train, test = silver_data.train_test_split(split_fraction=0.05)\n",
    "\n",
    "    dt_i = dt/factor[idx % 5]\n",
    "    \n",
    "    differentiation_method = ps.FiniteDifference(order=3)\n",
    "\n",
    "    feature_library = ps.ConcatLibrary([ps.PolynomialLibrary(degree=3)]) #ps.IdentityLibrary(),\n",
    "\n",
    "    # stlsq_optimizer = ps.STLSQ()\n",
    "    lasso_optimizer = Lasso(alpha=0.01, max_iter=5000, fit_intercept=False)\n",
    "\n",
    "    model = ps.SINDy(feature_library=feature_library,\n",
    "                 optimizer=lasso_optimizer,\n",
    "                 discrete_time=True\n",
    "                 )\n",
    "    \n",
    "    model.fit(train.y, u=train.u, t=dt_i)\n",
    "    # model.print()\n",
    "    # model.coefficients()\n",
    "\n",
    "    x_predicted = model.predict(test.y, u=test.u)\n",
    "\n",
    "    # t_test = np.linspace(0,dt_i*test.y.shape[0],test.y.shape[0])\n",
    "    # x_simulated = model.simulate(test.y, u=test.u, t=test.u.shape[0])\n",
    "\n",
    "    pred_data.append(x_predicted)\n",
    "    # simo_data.append(x_simulated)\n",
    "    pred_NRMS.append(NRMS(x_predicted.flatten(), test.y.flatten()))\n"
   ]
  },
  {
   "cell_type": "code",
   "execution_count": 105,
   "metadata": {},
   "outputs": [],
   "source": [
    "def linear_map(y):\n",
    "  return (y-np.min(y))/(np.max(y)-np.min(y))"
   ]
  },
  {
   "cell_type": "code",
   "execution_count": 95,
   "metadata": {},
   "outputs": [
    {
     "data": {
      "image/png": "[encoded data removed]",
      "text/plain": [
       "<Figure size 640x480 with 1 Axes>"
      ]
     },
     "metadata": {},
     "output_type": "display_data"
    }
   ],
   "source": [
    "plt.plot(pred_NRMS[0:5],\"o\")\n",
    "plt.plot(pred_NRMS[5:10],\"o\")\n",
    "plt.plot(pred_NRMS[10:],\"o\")\n",
    "\n",
    "locs, labels = plt.xticks()  # Get the current locations and labels.\n",
    "plt.xticks([0, 1, 2, 3, 4], ['dt/2', 'dt/4', 'dt/5', 'dt/8', 'dt/10'])\n",
    "plt.ylabel(\"NRMS [-]\")\n",
    "plt.xlabel(\"Sampling period [-]\")\n",
    "plt.legend([\"akima\",\"makima\", \"linear\"])\n",
    "plt.show()"
   ]
  }
 ],
 "metadata": {
  "kernelspec": {
   "display_name": "sindy",
   "language": "python",
   "name": "python3"
  },
  "language_info": {
   "codemirror_mode": {
    "name": "ipython",
    "version": 3
   },
   "file_extension": ".py",
   "mimetype": "text/x-python",
   "name": "python",
   "nbconvert_exporter": "python",
   "pygments_lexer": "ipython3",
   "version": "3.12.1"
  }
 },
 "nbformat": 4,
 "nbformat_minor": 2
}
