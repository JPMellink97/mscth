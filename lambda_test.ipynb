{
 "cells": [
  {
   "cell_type": "code",
   "execution_count": 11,
   "metadata": {},
   "outputs": [],
   "source": [
    "import pysindy as ps\n",
    "\n",
    "import deepSI\n",
    "from deepSI import System_data\n",
    "from deepSI.fit_systems import SS_encoder_general\n",
    "from deepSI.fit_systems.encoders import default_encoder_net, default_state_net, default_output_net\n",
    "from deepSI.fit_systems.fit_system import My_Simple_DataLoader, print_array_byte_size, Tictoctimer\n",
    "import torch\n",
    "from torch import nn\n",
    "\n",
    "import numpy as np\n",
    "\n",
    "from sklearn.preprocessing import PolynomialFeatures\n",
    "\n",
    "from scipy.io import loadmat\n",
    "import scipy.linalg as lin\n",
    "import os\n",
    "\n",
    "from utils import load_data\n",
    "from data_processing import add_gaussian_noise\n",
    "\n",
    "import matplotlib.pyplot as plt\n",
    "\n",
    "from torch.utils.data import Dataset, DataLoader\n",
    "from tqdm.auto import tqdm\n",
    "import time\n",
    "from copy import deepcopy\n",
    "import itertools\n",
    "\n",
    "import re\n",
    "\n",
    "from feature_construction import feature_library\n",
    "import polynomial as p\n",
    "import fourier as f\n",
    "\n",
    "from SI_SUBNET import SS_encoder_general_eq, h_identity, e_identity, simple_Linear\n",
    "from SI_metrics import plot_coeff_grid, display_equation\n",
    "from run_SISUBNET import run_SISUBNET\n",
    "\n",
    "import random\n",
    "import string\n",
    "\n",
    "from scipy.io import loadmat, savemat\n",
    "import json\n",
    "import pickle"
   ]
  },
  {
   "cell_type": "code",
   "execution_count": 12,
   "metadata": {},
   "outputs": [],
   "source": [
    "nf = 5\n",
    "gamma = np.array([1e-1])\n",
    "epo_idx = 9\n",
    "\n",
    "pruning = True\n",
    "pruning_mode = \"RMS\"\n",
    "mode = None\n",
    "T_idx = None\n",
    "\n",
    "pre_train = False if nf==1 else True\n",
    "batch_size = 256\n",
    "epochs = 100\n",
    "no_reg_epochs = 50\n",
    "\n",
    "threshold = 8*10**-5"
   ]
  },
  {
   "cell_type": "code",
   "execution_count": 13,
   "metadata": {},
   "outputs": [
    {
     "name": "stdout",
     "output_type": "stream",
     "text": [
      "Data loaded from sc_arrow_noisy!\n"
     ]
    }
   ],
   "source": [
    "data_set_name=\"sc_arrow_noisy\"\n",
    "x_data, u_data, y_data, eq, T, U, set_idx = load_data(set=data_set_name)\n",
    "[N_arrow, N_train, N_val, N_test] = set_idx[0]\n",
    "\n",
    "if T is None:\n",
    "    T = np.eye(x_data.shape[-1])\n",
    "if U is None:\n",
    "    U = np.eye(u_data.shape[-1])\n",
    "\n",
    "# data organizing\n",
    "x_arrow, u_arrow = x_data[:N_arrow], u_data[:N_arrow,0]\n",
    "x_train, u_train = x_data[N_arrow:N_arrow+N_train-N_val,:], u_data[N_arrow:N_arrow+N_train-N_val,0]\n",
    "x_val, u_val     = x_data[N_arrow+N_train-N_val:-N_test,:], u_data[N_arrow+N_train-N_val:-N_test,0]\n",
    "x_test, u_test   = x_data[-N_test:,:], u_data[-N_test:]\n",
    "\n",
    "# system data\n",
    "arrow   = System_data(u=u_arrow, y=x_arrow)\n",
    "train   = System_data(u=u_train, y=x_train)\n",
    "val     = System_data(u=u_val[:1000], y=x_val[:1000,:])\n",
    "test    = System_data(u=u_test, y=x_test)\n",
    "\n",
    "# function lib\n",
    "functions = [p.f, f.sin, f.cos, f.sin2x, f.cos2x, f.sin3x, f.cos3x, f.sin4x, f.cos4x, f.sin5x, f.cos5x]\n",
    "poly = feature_library(functions=functions, nx=2, nu=1, T=T, U=U)\n",
    "\n",
    "# network param\n",
    "nx, nu = 2, 1 # state dimension and inputs\n",
    "na, nb = 0, 0\n",
    "na_right = 1\n",
    "\n",
    "f_net_kwargs = {\"feature_library\": poly, \"u\": nu, \"nf\": poly.feature_number()}\n",
    "\n",
    "# output model\n",
    "h_net = h_identity\n",
    "h_net_kwargs = {}\n",
    "\n",
    "# encoder model\n",
    "e_net = e_identity\n",
    "e_net_kwargs = {}"
   ]
  },
  {
   "cell_type": "code",
   "execution_count": 14,
   "metadata": {},
   "outputs": [],
   "source": [
    "def convert_float_to_string(number):\n",
    "    coefficient, exponent = f\"{number:.1e}\".split('e')\n",
    "    return f\"{int(float(coefficient))}em{-int(exponent)}\""
   ]
  },
  {
   "cell_type": "code",
   "execution_count": 15,
   "metadata": {},
   "outputs": [
    {
     "name": "stdout",
     "output_type": "stream",
     "text": [
      "lambda_nf5_1em1\n",
      "start\n",
      "Initilizing the model and optimizer\n",
      "Size of the training array =  11.0 MB\n",
      "N_training_samples = 179999, batch_size = 256, N_batch_updates_per_epoch = 703\n",
      "Initial Validation sim-NRMS= 2.827166555436157\n"
     ]
    },
    {
     "name": "stderr",
     "output_type": "stream",
     "text": [
      "  1%|          | 1/100 [00:04<06:43,  4.07s/it]"
     ]
    },
    {
     "name": "stdout",
     "output_type": "stream",
     "text": [
      "########## New lowest validation loss achieved ########### sim-NRMS = 0.45637010865844774\n",
      "Epoch    1, sqrt loss 0.09927, Val sim-NRMS 0.4564, Time Loss: 67.8%, data: 2.3%, val: 29.6%, 172.4 batches/sec\n"
     ]
    },
    {
     "name": "stderr",
     "output_type": "stream",
     "text": [
      "  2%|▏         | 2/100 [00:08<06:45,  4.14s/it]"
     ]
    },
    {
     "name": "stdout",
     "output_type": "stream",
     "text": [
      "########## New lowest validation loss achieved ########### sim-NRMS = 0.3257848213102114\n",
      "Epoch    2, sqrt loss 0.02667, Val sim-NRMS 0.3258, Time Loss: 67.3%, data: 2.2%, val: 30.2%, 170.2 batches/sec\n"
     ]
    },
    {
     "name": "stderr",
     "output_type": "stream",
     "text": [
      "  3%|▎         | 3/100 [00:12<06:42,  4.15s/it]"
     ]
    },
    {
     "name": "stdout",
     "output_type": "stream",
     "text": [
      "########## New lowest validation loss achieved ########### sim-NRMS = 0.21964519617860023\n",
      "Epoch    3, sqrt loss 0.01686, Val sim-NRMS 0.2196, Time Loss: 67.1%, data: 2.0%, val: 30.5%, 169.6 batches/sec\n"
     ]
    },
    {
     "name": "stderr",
     "output_type": "stream",
     "text": [
      "  4%|▍         | 4/100 [00:16<06:39,  4.16s/it]"
     ]
    },
    {
     "name": "stdout",
     "output_type": "stream",
     "text": [
      "########## New lowest validation loss achieved ########### sim-NRMS = 0.15086024483824903\n",
      "Epoch    4, sqrt loss 0.01461, Val sim-NRMS 0.1509, Time Loss: 67.4%, data: 2.1%, val: 30.2%, 169.3 batches/sec\n"
     ]
    },
    {
     "name": "stderr",
     "output_type": "stream",
     "text": [
      "  5%|▌         | 5/100 [00:20<06:35,  4.16s/it]"
     ]
    },
    {
     "name": "stdout",
     "output_type": "stream",
     "text": [
      "########## New lowest validation loss achieved ########### sim-NRMS = 0.13581232986696667\n",
      "Epoch    5, sqrt loss 0.01436, Val sim-NRMS 0.1358, Time Loss: 67.3%, data: 2.1%, val: 30.2%, 169.3 batches/sec\n"
     ]
    },
    {
     "name": "stderr",
     "output_type": "stream",
     "text": [
      "  6%|▌         | 6/100 [00:25<06:34,  4.20s/it]"
     ]
    },
    {
     "name": "stdout",
     "output_type": "stream",
     "text": [
      "########## New lowest validation loss achieved ########### sim-NRMS = 0.1251564959611758\n",
      "Epoch    6, sqrt loss 0.01436, Val sim-NRMS 0.1252, Time Loss: 67.5%, data: 2.1%, val: 30.1%, 168.4 batches/sec\n"
     ]
    },
    {
     "name": "stderr",
     "output_type": "stream",
     "text": [
      "  7%|▋         | 7/100 [00:29<06:28,  4.18s/it]"
     ]
    },
    {
     "name": "stdout",
     "output_type": "stream",
     "text": [
      "Epoch    7, sqrt loss 0.01439, Val sim-NRMS 0.1352, Time Loss: 67.5%, data: 2.2%, val: 29.9%, 168.7 batches/sec\n"
     ]
    },
    {
     "name": "stderr",
     "output_type": "stream",
     "text": [
      "  8%|▊         | 8/100 [00:33<06:20,  4.13s/it]"
     ]
    },
    {
     "name": "stdout",
     "output_type": "stream",
     "text": [
      "########## New lowest validation loss achieved ########### sim-NRMS = 0.11722105592814033\n",
      "Epoch    8, sqrt loss 0.01441, Val sim-NRMS 0.1172, Time Loss: 67.4%, data: 2.1%, val: 30.0%, 169.3 batches/sec\n"
     ]
    },
    {
     "name": "stderr",
     "output_type": "stream",
     "text": [
      "  9%|▉         | 9/100 [00:37<06:12,  4.10s/it]"
     ]
    },
    {
     "name": "stdout",
     "output_type": "stream",
     "text": [
      "Epoch    9, sqrt loss 0.01443, Val sim-NRMS 0.1321, Time Loss: 67.5%, data: 2.1%, val: 30.0%, 169.9 batches/sec\n"
     ]
    },
    {
     "name": "stderr",
     "output_type": "stream",
     "text": [
      " 10%|█         | 10/100 [00:41<06:13,  4.15s/it]"
     ]
    },
    {
     "name": "stdout",
     "output_type": "stream",
     "text": [
      "Epoch   10, sqrt loss 0.01444, Val sim-NRMS 0.1295, Time Loss: 67.4%, data: 2.1%, val: 30.1%, 169.4 batches/sec\n"
     ]
    },
    {
     "name": "stderr",
     "output_type": "stream",
     "text": [
      " 11%|█         | 11/100 [00:45<06:09,  4.15s/it]"
     ]
    },
    {
     "name": "stdout",
     "output_type": "stream",
     "text": [
      "Epoch   11, sqrt loss 0.01445, Val sim-NRMS 0.1402, Time Loss: 67.4%, data: 2.1%, val: 30.1%, 169.4 batches/sec\n"
     ]
    },
    {
     "name": "stderr",
     "output_type": "stream",
     "text": [
      " 12%|█▏        | 12/100 [00:49<06:07,  4.17s/it]"
     ]
    },
    {
     "name": "stdout",
     "output_type": "stream",
     "text": [
      "Epoch   12, sqrt loss 0.01446, Val sim-NRMS 0.1431, Time Loss: 67.5%, data: 2.1%, val: 30.0%, 169.2 batches/sec\n"
     ]
    },
    {
     "name": "stderr",
     "output_type": "stream",
     "text": [
      " 13%|█▎        | 13/100 [00:53<06:00,  4.15s/it]"
     ]
    },
    {
     "name": "stdout",
     "output_type": "stream",
     "text": [
      "Epoch   13, sqrt loss 0.01446, Val sim-NRMS 0.1446, Time Loss: 67.6%, data: 2.1%, val: 29.9%, 169.3 batches/sec\n"
     ]
    },
    {
     "name": "stderr",
     "output_type": "stream",
     "text": [
      " 14%|█▍        | 14/100 [00:57<05:53,  4.11s/it]"
     ]
    },
    {
     "name": "stdout",
     "output_type": "stream",
     "text": [
      "########## New lowest validation loss achieved ########### sim-NRMS = 0.11514741737711431\n",
      "Epoch   14, sqrt loss 0.01446, Val sim-NRMS 0.1151, Time Loss: 67.5%, data: 2.1%, val: 30.1%, 169.8 batches/sec\n"
     ]
    },
    {
     "name": "stderr",
     "output_type": "stream",
     "text": [
      " 15%|█▌        | 15/100 [01:01<05:45,  4.06s/it]"
     ]
    },
    {
     "name": "stdout",
     "output_type": "stream",
     "text": [
      "Epoch   15, sqrt loss 0.01446, Val sim-NRMS 0.1354, Time Loss: 67.5%, data: 2.1%, val: 30.1%, 170.3 batches/sec\n"
     ]
    },
    {
     "name": "stderr",
     "output_type": "stream",
     "text": [
      " 16%|█▌        | 16/100 [01:06<05:41,  4.07s/it]"
     ]
    },
    {
     "name": "stdout",
     "output_type": "stream",
     "text": [
      "Epoch   16, sqrt loss 0.01446, Val sim-NRMS 0.1519, Time Loss: 67.6%, data: 2.1%, val: 30.0%, 170.4 batches/sec\n"
     ]
    },
    {
     "name": "stderr",
     "output_type": "stream",
     "text": [
      " 17%|█▋        | 17/100 [01:09<05:34,  4.03s/it]"
     ]
    },
    {
     "name": "stdout",
     "output_type": "stream",
     "text": [
      "Epoch   17, sqrt loss 0.01447, Val sim-NRMS 0.1289, Time Loss: 67.5%, data: 2.1%, val: 30.0%, 170.9 batches/sec\n"
     ]
    },
    {
     "name": "stderr",
     "output_type": "stream",
     "text": [
      " 18%|█▊        | 18/100 [01:13<05:26,  3.98s/it]"
     ]
    },
    {
     "name": "stdout",
     "output_type": "stream",
     "text": [
      "Epoch   18, sqrt loss 0.01447, Val sim-NRMS 0.1351, Time Loss: 67.5%, data: 2.0%, val: 30.1%, 171.4 batches/sec\n"
     ]
    },
    {
     "name": "stderr",
     "output_type": "stream",
     "text": [
      " 19%|█▉        | 19/100 [01:17<05:21,  3.97s/it]"
     ]
    },
    {
     "name": "stdout",
     "output_type": "stream",
     "text": [
      "Epoch   19, sqrt loss 0.01446, Val sim-NRMS 0.1474, Time Loss: 67.5%, data: 2.0%, val: 30.0%, 171.7 batches/sec\n"
     ]
    },
    {
     "name": "stderr",
     "output_type": "stream",
     "text": [
      " 20%|██        | 20/100 [01:21<05:18,  3.98s/it]"
     ]
    },
    {
     "name": "stdout",
     "output_type": "stream",
     "text": [
      "Epoch   20, sqrt loss 0.01446, Val sim-NRMS 0.1228, Time Loss: 67.6%, data: 2.0%, val: 30.0%, 172.0 batches/sec\n"
     ]
    },
    {
     "name": "stderr",
     "output_type": "stream",
     "text": [
      " 21%|██        | 21/100 [01:25<05:14,  3.98s/it]"
     ]
    },
    {
     "name": "stdout",
     "output_type": "stream",
     "text": [
      "Epoch   21, sqrt loss 0.01446, Val sim-NRMS 0.1444, Time Loss: 67.6%, data: 2.0%, val: 30.0%, 172.2 batches/sec\n"
     ]
    },
    {
     "name": "stderr",
     "output_type": "stream",
     "text": [
      " 22%|██▏       | 22/100 [01:29<05:10,  3.98s/it]"
     ]
    },
    {
     "name": "stdout",
     "output_type": "stream",
     "text": [
      "Epoch   22, sqrt loss 0.01446, Val sim-NRMS 0.1348, Time Loss: 67.6%, data: 2.0%, val: 30.0%, 172.4 batches/sec\n"
     ]
    },
    {
     "name": "stderr",
     "output_type": "stream",
     "text": [
      " 23%|██▎       | 23/100 [01:33<05:06,  3.98s/it]"
     ]
    },
    {
     "name": "stdout",
     "output_type": "stream",
     "text": [
      "Epoch   23, sqrt loss 0.01446, Val sim-NRMS 0.1449, Time Loss: 67.6%, data: 2.0%, val: 30.0%, 172.5 batches/sec\n"
     ]
    },
    {
     "name": "stderr",
     "output_type": "stream",
     "text": [
      " 24%|██▍       | 24/100 [01:37<05:00,  3.96s/it]"
     ]
    },
    {
     "name": "stdout",
     "output_type": "stream",
     "text": [
      "Epoch   24, sqrt loss 0.01446, Val sim-NRMS 0.1157, Time Loss: 67.6%, data: 2.0%, val: 30.0%, 172.8 batches/sec\n"
     ]
    },
    {
     "name": "stderr",
     "output_type": "stream",
     "text": [
      " 25%|██▌       | 25/100 [01:41<04:55,  3.94s/it]"
     ]
    },
    {
     "name": "stdout",
     "output_type": "stream",
     "text": [
      "Epoch   25, sqrt loss 0.01447, Val sim-NRMS 0.1213, Time Loss: 67.6%, data: 2.0%, val: 30.0%, 173.1 batches/sec\n"
     ]
    },
    {
     "name": "stderr",
     "output_type": "stream",
     "text": [
      " 26%|██▌       | 26/100 [01:45<04:51,  3.94s/it]"
     ]
    },
    {
     "name": "stdout",
     "output_type": "stream",
     "text": [
      "Epoch   26, sqrt loss 0.01447, Val sim-NRMS 0.1351, Time Loss: 67.5%, data: 2.0%, val: 30.0%, 173.3 batches/sec\n"
     ]
    },
    {
     "name": "stderr",
     "output_type": "stream",
     "text": [
      " 27%|██▋       | 27/100 [01:49<04:48,  3.95s/it]"
     ]
    },
    {
     "name": "stdout",
     "output_type": "stream",
     "text": [
      "Epoch   27, sqrt loss 0.01446, Val sim-NRMS  0.139, Time Loss: 67.5%, data: 2.0%, val: 30.0%, 173.4 batches/sec\n"
     ]
    },
    {
     "name": "stderr",
     "output_type": "stream",
     "text": [
      " 28%|██▊       | 28/100 [01:53<04:47,  3.99s/it]"
     ]
    },
    {
     "name": "stdout",
     "output_type": "stream",
     "text": [
      "Epoch   28, sqrt loss 0.01446, Val sim-NRMS 0.1419, Time Loss: 67.6%, data: 2.0%, val: 30.0%, 173.4 batches/sec\n"
     ]
    },
    {
     "name": "stderr",
     "output_type": "stream",
     "text": [
      " 29%|██▉       | 29/100 [01:57<04:42,  3.97s/it]"
     ]
    },
    {
     "name": "stdout",
     "output_type": "stream",
     "text": [
      "Epoch   29, sqrt loss 0.01446, Val sim-NRMS 0.1491, Time Loss: 67.6%, data: 2.0%, val: 30.0%, 173.6 batches/sec\n"
     ]
    },
    {
     "name": "stderr",
     "output_type": "stream",
     "text": [
      " 30%|███       | 30/100 [02:01<04:36,  3.95s/it]"
     ]
    },
    {
     "name": "stdout",
     "output_type": "stream",
     "text": [
      "Epoch   30, sqrt loss 0.01447, Val sim-NRMS 0.1296, Time Loss: 67.5%, data: 2.0%, val: 30.0%, 173.8 batches/sec\n"
     ]
    },
    {
     "name": "stderr",
     "output_type": "stream",
     "text": [
      " 31%|███       | 31/100 [02:05<04:32,  3.95s/it]"
     ]
    },
    {
     "name": "stdout",
     "output_type": "stream",
     "text": [
      "Epoch   31, sqrt loss 0.01447, Val sim-NRMS 0.1246, Time Loss: 67.5%, data: 2.1%, val: 30.0%, 173.9 batches/sec\n"
     ]
    },
    {
     "name": "stderr",
     "output_type": "stream",
     "text": [
      " 32%|███▏      | 32/100 [02:09<04:28,  3.95s/it]"
     ]
    },
    {
     "name": "stdout",
     "output_type": "stream",
     "text": [
      "Epoch   32, sqrt loss 0.01446, Val sim-NRMS 0.1549, Time Loss: 67.5%, data: 2.1%, val: 30.0%, 174.0 batches/sec\n"
     ]
    },
    {
     "name": "stderr",
     "output_type": "stream",
     "text": [
      " 33%|███▎      | 33/100 [02:13<04:24,  3.95s/it]"
     ]
    },
    {
     "name": "stdout",
     "output_type": "stream",
     "text": [
      "Epoch   33, sqrt loss 0.01446, Val sim-NRMS 0.1206, Time Loss: 67.5%, data: 2.1%, val: 30.0%, 174.2 batches/sec\n"
     ]
    },
    {
     "name": "stderr",
     "output_type": "stream",
     "text": [
      " 34%|███▍      | 34/100 [02:17<04:22,  3.98s/it]"
     ]
    },
    {
     "name": "stdout",
     "output_type": "stream",
     "text": [
      "Epoch   34, sqrt loss 0.01447, Val sim-NRMS 0.1304, Time Loss: 67.5%, data: 2.1%, val: 30.0%, 174.1 batches/sec\n"
     ]
    },
    {
     "name": "stderr",
     "output_type": "stream",
     "text": [
      " 35%|███▌      | 35/100 [02:21<04:17,  3.97s/it]"
     ]
    },
    {
     "name": "stdout",
     "output_type": "stream",
     "text": [
      "Epoch   35, sqrt loss 0.01447, Val sim-NRMS 0.1405, Time Loss: 67.5%, data: 2.1%, val: 30.0%, 174.3 batches/sec\n"
     ]
    },
    {
     "name": "stderr",
     "output_type": "stream",
     "text": [
      " 36%|███▌      | 36/100 [02:25<04:19,  4.05s/it]"
     ]
    },
    {
     "name": "stdout",
     "output_type": "stream",
     "text": [
      "Epoch   36, sqrt loss 0.01446, Val sim-NRMS 0.1289, Time Loss: 67.6%, data: 2.1%, val: 30.0%, 174.0 batches/sec\n"
     ]
    },
    {
     "name": "stderr",
     "output_type": "stream",
     "text": [
      " 37%|███▋      | 37/100 [02:29<04:19,  4.12s/it]"
     ]
    },
    {
     "name": "stdout",
     "output_type": "stream",
     "text": [
      "Epoch   37, sqrt loss 0.01447, Val sim-NRMS 0.1373, Time Loss: 67.6%, data: 2.1%, val: 29.9%, 173.7 batches/sec\n"
     ]
    },
    {
     "name": "stderr",
     "output_type": "stream",
     "text": [
      " 38%|███▊      | 38/100 [02:33<04:12,  4.07s/it]"
     ]
    },
    {
     "name": "stdout",
     "output_type": "stream",
     "text": [
      "Epoch   38, sqrt loss 0.01446, Val sim-NRMS 0.1484, Time Loss: 67.6%, data: 2.1%, val: 29.9%, 173.8 batches/sec\n"
     ]
    },
    {
     "name": "stderr",
     "output_type": "stream",
     "text": [
      " 39%|███▉      | 39/100 [02:37<04:05,  4.03s/it]"
     ]
    },
    {
     "name": "stdout",
     "output_type": "stream",
     "text": [
      "Epoch   39, sqrt loss 0.01446, Val sim-NRMS 0.1334, Time Loss: 67.6%, data: 2.1%, val: 29.9%, 174.0 batches/sec\n"
     ]
    },
    {
     "name": "stderr",
     "output_type": "stream",
     "text": [
      " 40%|████      | 40/100 [02:42<04:09,  4.15s/it]"
     ]
    },
    {
     "name": "stdout",
     "output_type": "stream",
     "text": [
      "Epoch   40, sqrt loss 0.01446, Val sim-NRMS 0.1457, Time Loss: 67.7%, data: 2.1%, val: 29.9%, 173.5 batches/sec\n"
     ]
    },
    {
     "name": "stderr",
     "output_type": "stream",
     "text": [
      " 41%|████      | 41/100 [02:46<04:04,  4.15s/it]"
     ]
    },
    {
     "name": "stdout",
     "output_type": "stream",
     "text": [
      "Epoch   41, sqrt loss 0.01447, Val sim-NRMS 0.1627, Time Loss: 67.7%, data: 2.1%, val: 29.8%, 173.4 batches/sec\n"
     ]
    },
    {
     "name": "stderr",
     "output_type": "stream",
     "text": [
      " 42%|████▏     | 42/100 [02:50<03:57,  4.10s/it]"
     ]
    },
    {
     "name": "stdout",
     "output_type": "stream",
     "text": [
      "Epoch   42, sqrt loss 0.01447, Val sim-NRMS 0.1272, Time Loss: 67.7%, data: 2.1%, val: 29.9%, 173.5 batches/sec\n"
     ]
    },
    {
     "name": "stderr",
     "output_type": "stream",
     "text": [
      " 43%|████▎     | 43/100 [02:54<03:51,  4.06s/it]"
     ]
    },
    {
     "name": "stdout",
     "output_type": "stream",
     "text": [
      "Epoch   43, sqrt loss 0.01446, Val sim-NRMS 0.1267, Time Loss: 67.7%, data: 2.1%, val: 29.9%, 173.6 batches/sec\n"
     ]
    },
    {
     "name": "stderr",
     "output_type": "stream",
     "text": [
      " 44%|████▍     | 44/100 [02:58<03:46,  4.05s/it]"
     ]
    },
    {
     "name": "stdout",
     "output_type": "stream",
     "text": [
      "Epoch   44, sqrt loss 0.01446, Val sim-NRMS 0.1243, Time Loss: 67.7%, data: 2.1%, val: 29.9%, 173.6 batches/sec\n"
     ]
    },
    {
     "name": "stderr",
     "output_type": "stream",
     "text": [
      " 45%|████▌     | 45/100 [03:02<03:41,  4.03s/it]"
     ]
    },
    {
     "name": "stdout",
     "output_type": "stream",
     "text": [
      "Epoch   45, sqrt loss 0.01445, Val sim-NRMS 0.1287, Time Loss: 67.7%, data: 2.1%, val: 29.9%, 173.7 batches/sec\n"
     ]
    },
    {
     "name": "stderr",
     "output_type": "stream",
     "text": [
      " 46%|████▌     | 46/100 [03:06<03:43,  4.15s/it]"
     ]
    },
    {
     "name": "stdout",
     "output_type": "stream",
     "text": [
      "Epoch   46, sqrt loss 0.01446, Val sim-NRMS 0.1379, Time Loss: 67.7%, data: 2.1%, val: 29.8%, 173.3 batches/sec\n"
     ]
    },
    {
     "name": "stderr",
     "output_type": "stream",
     "text": [
      " 47%|████▋     | 47/100 [03:10<03:38,  4.13s/it]"
     ]
    },
    {
     "name": "stdout",
     "output_type": "stream",
     "text": [
      "Epoch   47, sqrt loss 0.01446, Val sim-NRMS 0.1301, Time Loss: 67.7%, data: 2.1%, val: 29.8%, 173.3 batches/sec\n"
     ]
    },
    {
     "name": "stderr",
     "output_type": "stream",
     "text": [
      " 48%|████▊     | 48/100 [03:14<03:32,  4.08s/it]"
     ]
    },
    {
     "name": "stdout",
     "output_type": "stream",
     "text": [
      "Epoch   48, sqrt loss 0.01446, Val sim-NRMS  0.135, Time Loss: 67.7%, data: 2.1%, val: 29.8%, 173.4 batches/sec\n"
     ]
    },
    {
     "name": "stderr",
     "output_type": "stream",
     "text": [
      " 49%|████▉     | 49/100 [03:18<03:29,  4.11s/it]"
     ]
    },
    {
     "name": "stdout",
     "output_type": "stream",
     "text": [
      "Epoch   49, sqrt loss 0.01446, Val sim-NRMS 0.1249, Time Loss: 67.7%, data: 2.1%, val: 29.8%, 173.3 batches/sec\n"
     ]
    },
    {
     "name": "stderr",
     "output_type": "stream",
     "text": [
      " 50%|█████     | 50/100 [03:22<03:26,  4.12s/it]"
     ]
    },
    {
     "name": "stdout",
     "output_type": "stream",
     "text": [
      "Epoch   50, sqrt loss 0.01447, Val sim-NRMS 0.1292, Time Loss: 67.7%, data: 2.1%, val: 29.8%, 173.2 batches/sec\n"
     ]
    },
    {
     "name": "stderr",
     "output_type": "stream",
     "text": [
      " 51%|█████     | 51/100 [03:26<03:19,  4.08s/it]"
     ]
    },
    {
     "name": "stdout",
     "output_type": "stream",
     "text": [
      "Epoch   51, sqrt loss 0.01446, Val sim-NRMS 0.1359, Time Loss: 67.7%, data: 2.1%, val: 29.8%, 173.2 batches/sec\n"
     ]
    },
    {
     "name": "stderr",
     "output_type": "stream",
     "text": [
      " 52%|█████▏    | 52/100 [03:30<03:13,  4.03s/it]"
     ]
    },
    {
     "name": "stdout",
     "output_type": "stream",
     "text": [
      "Epoch   52, sqrt loss 0.01445, Val sim-NRMS 0.1346, Time Loss: 67.7%, data: 2.1%, val: 29.8%, 173.4 batches/sec\n"
     ]
    },
    {
     "name": "stderr",
     "output_type": "stream",
     "text": [
      " 53%|█████▎    | 53/100 [03:34<03:07,  3.99s/it]"
     ]
    },
    {
     "name": "stdout",
     "output_type": "stream",
     "text": [
      "Epoch   53, sqrt loss 0.01446, Val sim-NRMS 0.1268, Time Loss: 67.7%, data: 2.1%, val: 29.8%, 173.5 batches/sec\n"
     ]
    },
    {
     "name": "stderr",
     "output_type": "stream",
     "text": [
      " 54%|█████▍    | 54/100 [03:39<03:07,  4.07s/it]"
     ]
    },
    {
     "name": "stdout",
     "output_type": "stream",
     "text": [
      "########## New lowest validation loss achieved ########### sim-NRMS = 0.11266758593015228\n",
      "Epoch   54, sqrt loss 0.01446, Val sim-NRMS 0.1127, Time Loss: 67.6%, data: 2.1%, val: 29.9%, 173.3 batches/sec\n"
     ]
    },
    {
     "name": "stderr",
     "output_type": "stream",
     "text": [
      " 55%|█████▌    | 55/100 [03:43<03:02,  4.06s/it]"
     ]
    },
    {
     "name": "stdout",
     "output_type": "stream",
     "text": [
      "Epoch   55, sqrt loss 0.01445, Val sim-NRMS 0.1383, Time Loss: 67.6%, data: 2.1%, val: 29.9%, 173.3 batches/sec\n"
     ]
    },
    {
     "name": "stderr",
     "output_type": "stream",
     "text": [
      " 56%|█████▌    | 56/100 [03:46<02:57,  4.02s/it]"
     ]
    },
    {
     "name": "stdout",
     "output_type": "stream",
     "text": [
      "Epoch   56, sqrt loss 0.01446, Val sim-NRMS 0.1472, Time Loss: 67.6%, data: 2.1%, val: 29.9%, 173.4 batches/sec\n"
     ]
    },
    {
     "name": "stderr",
     "output_type": "stream",
     "text": [
      " 57%|█████▋    | 57/100 [03:50<02:51,  3.99s/it]"
     ]
    },
    {
     "name": "stdout",
     "output_type": "stream",
     "text": [
      "Epoch   57, sqrt loss 0.01446, Val sim-NRMS 0.1432, Time Loss: 67.6%, data: 2.1%, val: 29.9%, 173.5 batches/sec\n"
     ]
    },
    {
     "name": "stderr",
     "output_type": "stream",
     "text": [
      " 58%|█████▊    | 58/100 [03:54<02:46,  3.97s/it]"
     ]
    },
    {
     "name": "stdout",
     "output_type": "stream",
     "text": [
      "Epoch   58, sqrt loss 0.01447, Val sim-NRMS 0.1309, Time Loss: 67.6%, data: 2.1%, val: 29.9%, 173.6 batches/sec\n"
     ]
    },
    {
     "name": "stderr",
     "output_type": "stream",
     "text": [
      " 59%|█████▉    | 59/100 [03:58<02:41,  3.95s/it]"
     ]
    },
    {
     "name": "stdout",
     "output_type": "stream",
     "text": [
      "Epoch   59, sqrt loss 0.01445, Val sim-NRMS 0.1289, Time Loss: 67.6%, data: 2.1%, val: 30.0%, 173.8 batches/sec\n"
     ]
    },
    {
     "name": "stderr",
     "output_type": "stream",
     "text": [
      " 60%|██████    | 60/100 [04:02<02:37,  3.94s/it]"
     ]
    },
    {
     "name": "stdout",
     "output_type": "stream",
     "text": [
      "Epoch   60, sqrt loss 0.01446, Val sim-NRMS 0.1312, Time Loss: 67.6%, data: 2.1%, val: 30.0%, 173.8 batches/sec\n"
     ]
    },
    {
     "name": "stderr",
     "output_type": "stream",
     "text": [
      " 61%|██████    | 61/100 [04:06<02:33,  3.95s/it]"
     ]
    },
    {
     "name": "stdout",
     "output_type": "stream",
     "text": [
      "Epoch   61, sqrt loss 0.01447, Val sim-NRMS 0.1227, Time Loss: 67.6%, data: 2.1%, val: 30.0%, 173.9 batches/sec\n"
     ]
    },
    {
     "name": "stderr",
     "output_type": "stream",
     "text": [
      " 62%|██████▏   | 62/100 [04:10<02:30,  3.96s/it]"
     ]
    },
    {
     "name": "stdout",
     "output_type": "stream",
     "text": [
      "Epoch   62, sqrt loss 0.01446, Val sim-NRMS 0.1283, Time Loss: 67.6%, data: 2.1%, val: 30.0%, 173.9 batches/sec\n"
     ]
    },
    {
     "name": "stderr",
     "output_type": "stream",
     "text": [
      " 63%|██████▎   | 63/100 [04:14<02:26,  3.96s/it]"
     ]
    },
    {
     "name": "stdout",
     "output_type": "stream",
     "text": [
      "Epoch   63, sqrt loss 0.01447, Val sim-NRMS 0.1275, Time Loss: 67.5%, data: 2.1%, val: 30.0%, 174.0 batches/sec\n"
     ]
    },
    {
     "name": "stderr",
     "output_type": "stream",
     "text": [
      " 64%|██████▍   | 64/100 [04:18<02:22,  3.95s/it]"
     ]
    },
    {
     "name": "stdout",
     "output_type": "stream",
     "text": [
      "Epoch   64, sqrt loss 0.01446, Val sim-NRMS 0.1389, Time Loss: 67.5%, data: 2.1%, val: 30.0%, 174.1 batches/sec\n"
     ]
    },
    {
     "name": "stderr",
     "output_type": "stream",
     "text": [
      " 65%|██████▌   | 65/100 [04:22<02:18,  3.95s/it]"
     ]
    },
    {
     "name": "stdout",
     "output_type": "stream",
     "text": [
      "Epoch   65, sqrt loss 0.01446, Val sim-NRMS  0.136, Time Loss: 67.5%, data: 2.1%, val: 30.0%, 174.1 batches/sec\n"
     ]
    },
    {
     "name": "stderr",
     "output_type": "stream",
     "text": [
      " 66%|██████▌   | 66/100 [04:26<02:14,  3.95s/it]"
     ]
    },
    {
     "name": "stdout",
     "output_type": "stream",
     "text": [
      "Epoch   66, sqrt loss 0.01447, Val sim-NRMS 0.1397, Time Loss: 67.5%, data: 2.1%, val: 30.0%, 174.2 batches/sec\n"
     ]
    },
    {
     "name": "stderr",
     "output_type": "stream",
     "text": [
      " 67%|██████▋   | 67/100 [04:30<02:10,  3.96s/it]"
     ]
    },
    {
     "name": "stdout",
     "output_type": "stream",
     "text": [
      "Epoch   67, sqrt loss 0.01447, Val sim-NRMS 0.1242, Time Loss: 67.5%, data: 2.1%, val: 30.0%, 174.2 batches/sec\n"
     ]
    },
    {
     "name": "stderr",
     "output_type": "stream",
     "text": [
      " 68%|██████▊   | 68/100 [04:34<02:06,  3.95s/it]"
     ]
    },
    {
     "name": "stdout",
     "output_type": "stream",
     "text": [
      "Epoch   68, sqrt loss 0.01447, Val sim-NRMS 0.1495, Time Loss: 67.5%, data: 2.1%, val: 30.0%, 174.3 batches/sec\n"
     ]
    },
    {
     "name": "stderr",
     "output_type": "stream",
     "text": [
      " 69%|██████▉   | 69/100 [04:38<02:02,  3.94s/it]"
     ]
    },
    {
     "name": "stdout",
     "output_type": "stream",
     "text": [
      "Epoch   69, sqrt loss 0.01446, Val sim-NRMS 0.1336, Time Loss: 67.5%, data: 2.1%, val: 30.0%, 174.4 batches/sec\n"
     ]
    },
    {
     "name": "stderr",
     "output_type": "stream",
     "text": [
      " 70%|███████   | 70/100 [04:42<01:57,  3.93s/it]"
     ]
    },
    {
     "name": "stdout",
     "output_type": "stream",
     "text": [
      "Epoch   70, sqrt loss 0.01447, Val sim-NRMS 0.1226, Time Loss: 67.5%, data: 2.1%, val: 30.0%, 174.4 batches/sec\n"
     ]
    },
    {
     "name": "stderr",
     "output_type": "stream",
     "text": [
      " 71%|███████   | 71/100 [04:46<01:54,  3.94s/it]"
     ]
    },
    {
     "name": "stdout",
     "output_type": "stream",
     "text": [
      "Epoch   71, sqrt loss 0.01447, Val sim-NRMS  0.145, Time Loss: 67.5%, data: 2.1%, val: 30.0%, 174.5 batches/sec\n"
     ]
    },
    {
     "name": "stderr",
     "output_type": "stream",
     "text": [
      " 72%|███████▏  | 72/100 [04:49<01:50,  3.93s/it]"
     ]
    },
    {
     "name": "stdout",
     "output_type": "stream",
     "text": [
      "Epoch   72, sqrt loss 0.01447, Val sim-NRMS 0.1381, Time Loss: 67.5%, data: 2.1%, val: 30.0%, 174.6 batches/sec\n"
     ]
    },
    {
     "name": "stderr",
     "output_type": "stream",
     "text": [
      " 73%|███████▎  | 73/100 [04:54<01:48,  4.02s/it]"
     ]
    },
    {
     "name": "stdout",
     "output_type": "stream",
     "text": [
      "Epoch   73, sqrt loss 0.01446, Val sim-NRMS 0.1334, Time Loss: 67.5%, data: 2.1%, val: 30.0%, 174.4 batches/sec\n"
     ]
    },
    {
     "name": "stderr",
     "output_type": "stream",
     "text": [
      " 74%|███████▍  | 74/100 [04:58<01:45,  4.04s/it]"
     ]
    },
    {
     "name": "stdout",
     "output_type": "stream",
     "text": [
      "Epoch   74, sqrt loss 0.01447, Val sim-NRMS 0.1218, Time Loss: 67.5%, data: 2.1%, val: 30.0%, 174.4 batches/sec\n"
     ]
    },
    {
     "name": "stderr",
     "output_type": "stream",
     "text": [
      " 75%|███████▌  | 75/100 [05:02<01:41,  4.06s/it]"
     ]
    },
    {
     "name": "stdout",
     "output_type": "stream",
     "text": [
      "Epoch   75, sqrt loss 0.01446, Val sim-NRMS  0.141, Time Loss: 67.5%, data: 2.1%, val: 30.0%, 174.4 batches/sec\n"
     ]
    },
    {
     "name": "stderr",
     "output_type": "stream",
     "text": [
      " 76%|███████▌  | 76/100 [05:06<01:37,  4.05s/it]"
     ]
    },
    {
     "name": "stdout",
     "output_type": "stream",
     "text": [
      "Epoch   76, sqrt loss 0.01446, Val sim-NRMS 0.1319, Time Loss: 67.5%, data: 2.1%, val: 30.0%, 174.4 batches/sec\n"
     ]
    },
    {
     "name": "stderr",
     "output_type": "stream",
     "text": [
      " 77%|███████▋  | 77/100 [05:10<01:33,  4.07s/it]"
     ]
    },
    {
     "name": "stdout",
     "output_type": "stream",
     "text": [
      "Epoch   77, sqrt loss 0.01446, Val sim-NRMS 0.1467, Time Loss: 67.5%, data: 2.1%, val: 30.0%, 174.3 batches/sec\n"
     ]
    },
    {
     "name": "stderr",
     "output_type": "stream",
     "text": [
      " 78%|███████▊  | 78/100 [05:14<01:29,  4.06s/it]"
     ]
    },
    {
     "name": "stdout",
     "output_type": "stream",
     "text": [
      "Epoch   78, sqrt loss 0.01446, Val sim-NRMS 0.1304, Time Loss: 67.5%, data: 2.1%, val: 30.0%, 174.3 batches/sec\n"
     ]
    },
    {
     "name": "stderr",
     "output_type": "stream",
     "text": [
      " 79%|███████▉  | 79/100 [05:18<01:25,  4.07s/it]"
     ]
    },
    {
     "name": "stdout",
     "output_type": "stream",
     "text": [
      "Epoch   79, sqrt loss 0.01447, Val sim-NRMS  0.129, Time Loss: 67.5%, data: 2.1%, val: 30.0%, 174.3 batches/sec\n"
     ]
    },
    {
     "name": "stderr",
     "output_type": "stream",
     "text": [
      " 80%|████████  | 80/100 [05:22<01:21,  4.07s/it]"
     ]
    },
    {
     "name": "stdout",
     "output_type": "stream",
     "text": [
      "Epoch   80, sqrt loss 0.01447, Val sim-NRMS 0.1285, Time Loss: 67.5%, data: 2.1%, val: 30.0%, 174.3 batches/sec\n"
     ]
    },
    {
     "name": "stderr",
     "output_type": "stream",
     "text": [
      " 81%|████████  | 81/100 [05:26<01:17,  4.09s/it]"
     ]
    },
    {
     "name": "stdout",
     "output_type": "stream",
     "text": [
      "Epoch   81, sqrt loss 0.01446, Val sim-NRMS  0.149, Time Loss: 67.5%, data: 2.1%, val: 30.0%, 174.2 batches/sec\n"
     ]
    },
    {
     "name": "stderr",
     "output_type": "stream",
     "text": [
      " 82%|████████▏ | 82/100 [05:31<01:14,  4.12s/it]"
     ]
    },
    {
     "name": "stdout",
     "output_type": "stream",
     "text": [
      "Epoch   82, sqrt loss 0.01446, Val sim-NRMS 0.1528, Time Loss: 67.6%, data: 2.1%, val: 30.0%, 174.1 batches/sec\n"
     ]
    },
    {
     "name": "stderr",
     "output_type": "stream",
     "text": [
      " 83%|████████▎ | 83/100 [05:35<01:10,  4.17s/it]"
     ]
    },
    {
     "name": "stdout",
     "output_type": "stream",
     "text": [
      "Epoch   83, sqrt loss 0.01447, Val sim-NRMS  0.138, Time Loss: 67.6%, data: 2.1%, val: 30.0%, 174.0 batches/sec\n"
     ]
    },
    {
     "name": "stderr",
     "output_type": "stream",
     "text": [
      " 84%|████████▍ | 84/100 [05:39<01:06,  4.15s/it]"
     ]
    },
    {
     "name": "stdout",
     "output_type": "stream",
     "text": [
      "Epoch   84, sqrt loss 0.01447, Val sim-NRMS 0.1291, Time Loss: 67.6%, data: 2.1%, val: 30.0%, 174.0 batches/sec\n"
     ]
    },
    {
     "name": "stderr",
     "output_type": "stream",
     "text": [
      " 85%|████████▌ | 85/100 [05:43<01:02,  4.16s/it]"
     ]
    },
    {
     "name": "stdout",
     "output_type": "stream",
     "text": [
      "Epoch   85, sqrt loss 0.01446, Val sim-NRMS 0.1244, Time Loss: 67.6%, data: 2.1%, val: 30.0%, 173.9 batches/sec\n"
     ]
    },
    {
     "name": "stderr",
     "output_type": "stream",
     "text": [
      " 86%|████████▌ | 86/100 [05:47<00:58,  4.18s/it]"
     ]
    },
    {
     "name": "stdout",
     "output_type": "stream",
     "text": [
      "Epoch   86, sqrt loss 0.01446, Val sim-NRMS 0.1339, Time Loss: 67.6%, data: 2.1%, val: 29.9%, 173.8 batches/sec\n"
     ]
    },
    {
     "name": "stderr",
     "output_type": "stream",
     "text": [
      " 87%|████████▋ | 87/100 [05:52<00:54,  4.20s/it]"
     ]
    },
    {
     "name": "stdout",
     "output_type": "stream",
     "text": [
      "Epoch   87, sqrt loss 0.01447, Val sim-NRMS 0.1263, Time Loss: 67.6%, data: 2.1%, val: 29.9%, 173.7 batches/sec\n"
     ]
    },
    {
     "name": "stderr",
     "output_type": "stream",
     "text": [
      " 88%|████████▊ | 88/100 [05:56<00:50,  4.23s/it]"
     ]
    },
    {
     "name": "stdout",
     "output_type": "stream",
     "text": [
      "Epoch   88, sqrt loss 0.01446, Val sim-NRMS 0.1522, Time Loss: 67.6%, data: 2.1%, val: 29.9%, 173.6 batches/sec\n"
     ]
    },
    {
     "name": "stderr",
     "output_type": "stream",
     "text": [
      " 89%|████████▉ | 89/100 [06:00<00:46,  4.21s/it]"
     ]
    },
    {
     "name": "stdout",
     "output_type": "stream",
     "text": [
      "Epoch   89, sqrt loss 0.01446, Val sim-NRMS 0.1399, Time Loss: 67.6%, data: 2.1%, val: 29.9%, 173.5 batches/sec\n"
     ]
    },
    {
     "name": "stderr",
     "output_type": "stream",
     "text": [
      " 90%|█████████ | 90/100 [06:04<00:42,  4.25s/it]"
     ]
    },
    {
     "name": "stdout",
     "output_type": "stream",
     "text": [
      "Epoch   90, sqrt loss 0.01447, Val sim-NRMS 0.1462, Time Loss: 67.6%, data: 2.1%, val: 29.9%, 173.4 batches/sec\n"
     ]
    },
    {
     "name": "stderr",
     "output_type": "stream",
     "text": [
      " 91%|█████████ | 91/100 [06:08<00:37,  4.16s/it]"
     ]
    },
    {
     "name": "stdout",
     "output_type": "stream",
     "text": [
      "Epoch   91, sqrt loss 0.01446, Val sim-NRMS 0.1192, Time Loss: 67.6%, data: 2.1%, val: 29.9%, 173.4 batches/sec\n"
     ]
    },
    {
     "name": "stderr",
     "output_type": "stream",
     "text": [
      " 92%|█████████▏| 92/100 [06:12<00:33,  4.15s/it]"
     ]
    },
    {
     "name": "stdout",
     "output_type": "stream",
     "text": [
      "Epoch   92, sqrt loss 0.01446, Val sim-NRMS 0.1436, Time Loss: 67.6%, data: 2.1%, val: 29.9%, 173.4 batches/sec\n"
     ]
    },
    {
     "name": "stderr",
     "output_type": "stream",
     "text": [
      " 93%|█████████▎| 93/100 [06:17<00:29,  4.18s/it]"
     ]
    },
    {
     "name": "stdout",
     "output_type": "stream",
     "text": [
      "Epoch   93, sqrt loss 0.01445, Val sim-NRMS 0.1347, Time Loss: 67.6%, data: 2.1%, val: 29.9%, 173.3 batches/sec\n"
     ]
    },
    {
     "name": "stderr",
     "output_type": "stream",
     "text": [
      " 94%|█████████▍| 94/100 [06:21<00:24,  4.17s/it]"
     ]
    },
    {
     "name": "stdout",
     "output_type": "stream",
     "text": [
      "Epoch   94, sqrt loss 0.01446, Val sim-NRMS 0.1296, Time Loss: 67.6%, data: 2.1%, val: 29.9%, 173.3 batches/sec\n"
     ]
    },
    {
     "name": "stderr",
     "output_type": "stream",
     "text": [
      " 95%|█████████▌| 95/100 [06:25<00:20,  4.19s/it]"
     ]
    },
    {
     "name": "stdout",
     "output_type": "stream",
     "text": [
      "Epoch   95, sqrt loss 0.01447, Val sim-NRMS 0.1271, Time Loss: 67.6%, data: 2.1%, val: 29.9%, 173.2 batches/sec\n"
     ]
    },
    {
     "name": "stderr",
     "output_type": "stream",
     "text": [
      " 96%|█████████▌| 96/100 [06:29<00:16,  4.18s/it]"
     ]
    },
    {
     "name": "stdout",
     "output_type": "stream",
     "text": [
      "Epoch   96, sqrt loss 0.01446, Val sim-NRMS 0.1292, Time Loss: 67.6%, data: 2.1%, val: 29.9%, 173.1 batches/sec\n"
     ]
    },
    {
     "name": "stderr",
     "output_type": "stream",
     "text": [
      " 97%|█████████▋| 97/100 [06:33<00:12,  4.17s/it]"
     ]
    },
    {
     "name": "stdout",
     "output_type": "stream",
     "text": [
      "Epoch   97, sqrt loss 0.01447, Val sim-NRMS 0.1271, Time Loss: 67.6%, data: 2.1%, val: 29.9%, 173.1 batches/sec\n"
     ]
    },
    {
     "name": "stderr",
     "output_type": "stream",
     "text": [
      " 98%|█████████▊| 98/100 [06:38<00:08,  4.15s/it]"
     ]
    },
    {
     "name": "stdout",
     "output_type": "stream",
     "text": [
      "Epoch   98, sqrt loss 0.01446, Val sim-NRMS 0.1348, Time Loss: 67.6%, data: 2.1%, val: 29.9%, 173.1 batches/sec\n"
     ]
    },
    {
     "name": "stderr",
     "output_type": "stream",
     "text": [
      " 99%|█████████▉| 99/100 [06:42<00:04,  4.12s/it]"
     ]
    },
    {
     "name": "stdout",
     "output_type": "stream",
     "text": [
      "Epoch   99, sqrt loss 0.01447, Val sim-NRMS 0.1339, Time Loss: 67.6%, data: 2.1%, val: 29.9%, 173.1 batches/sec\n"
     ]
    },
    {
     "name": "stderr",
     "output_type": "stream",
     "text": [
      "100%|██████████| 100/100 [06:46<00:00,  4.06s/it]"
     ]
    },
    {
     "name": "stdout",
     "output_type": "stream",
     "text": [
      "Epoch  100, sqrt loss 0.01446, Val sim-NRMS 0.1418, Time Loss: 67.6%, data: 2.1%, val: 29.9%, 173.1 batches/sec\n"
     ]
    },
    {
     "name": "stderr",
     "output_type": "stream",
     "text": [
      "\n"
     ]
    },
    {
     "name": "stdout",
     "output_type": "stream",
     "text": [
      "Model already initilized (init_model_done=True), skipping initilizing of the model, the norm and the creation of the optimizer\n",
      "Size of the training array =  27.5 MB\n",
      "N_training_samples = 179995, batch_size = 256, N_batch_updates_per_epoch = 703\n",
      "Initial Validation sim-NRMS= 0.14178249398527518\n"
     ]
    },
    {
     "name": "stderr",
     "output_type": "stream",
     "text": [
      "  1%|          | 1/100 [00:13<22:58, 13.93s/it]"
     ]
    },
    {
     "name": "stdout",
     "output_type": "stream",
     "text": [
      "########## New lowest validation loss achieved ########### sim-NRMS = 0.1115347148601828\n",
      "Epoch    1, sqrt loss  0.5808, Val sim-NRMS 0.1115, Time Loss: 85.7%, data: 0.7%, val: 13.4%, 50.5 batches/sec\n"
     ]
    },
    {
     "name": "stderr",
     "output_type": "stream",
     "text": [
      "  2%|▏         | 2/100 [00:28<22:54, 14.03s/it]"
     ]
    },
    {
     "name": "stdout",
     "output_type": "stream",
     "text": [
      "########## New lowest validation loss achieved ########### sim-NRMS = 0.10143981501265306\n",
      "Epoch    2, sqrt loss  0.5804, Val sim-NRMS 0.1014, Time Loss: 85.6%, data: 0.7%, val: 13.5%, 50.2 batches/sec\n"
     ]
    },
    {
     "name": "stderr",
     "output_type": "stream",
     "text": [
      "  3%|▎         | 3/100 [00:42<22:58, 14.21s/it]"
     ]
    },
    {
     "name": "stdout",
     "output_type": "stream",
     "text": [
      "########## New lowest validation loss achieved ########### sim-NRMS = 0.09843201763742493\n",
      "Epoch    3, sqrt loss  0.5805, Val sim-NRMS 0.09843, Time Loss: 85.1%, data: 0.7%, val: 14.0%, 49.7 batches/sec\n"
     ]
    },
    {
     "name": "stderr",
     "output_type": "stream",
     "text": [
      "  4%|▍         | 4/100 [00:55<22:10, 13.86s/it]"
     ]
    },
    {
     "name": "stdout",
     "output_type": "stream",
     "text": [
      "Epoch    4, sqrt loss  0.5804, Val sim-NRMS  0.103, Time Loss: 86.3%, data: 0.7%, val: 12.9%, 50.4 batches/sec\n"
     ]
    },
    {
     "name": "stderr",
     "output_type": "stream",
     "text": [
      "  5%|▌         | 5/100 [01:09<21:39, 13.68s/it]"
     ]
    },
    {
     "name": "stdout",
     "output_type": "stream",
     "text": [
      "Epoch    5, sqrt loss  0.5804, Val sim-NRMS 0.1032, Time Loss: 87.0%, data: 0.7%, val: 12.2%, 50.8 batches/sec\n"
     ]
    },
    {
     "name": "stderr",
     "output_type": "stream",
     "text": [
      "  6%|▌         | 6/100 [01:22<21:15, 13.57s/it]"
     ]
    },
    {
     "name": "stdout",
     "output_type": "stream",
     "text": [
      "Epoch    6, sqrt loss  0.5804, Val sim-NRMS 0.1017, Time Loss: 87.5%, data: 0.7%, val: 11.6%, 51.1 batches/sec\n"
     ]
    },
    {
     "name": "stderr",
     "output_type": "stream",
     "text": [
      "  7%|▋         | 7/100 [01:35<20:57, 13.52s/it]"
     ]
    },
    {
     "name": "stdout",
     "output_type": "stream",
     "text": [
      "Epoch    7, sqrt loss  0.5803, Val sim-NRMS 0.1034, Time Loss: 87.8%, data: 0.7%, val: 11.3%, 51.3 batches/sec\n"
     ]
    },
    {
     "name": "stderr",
     "output_type": "stream",
     "text": [
      "  8%|▊         | 8/100 [01:49<20:37, 13.45s/it]"
     ]
    },
    {
     "name": "stdout",
     "output_type": "stream",
     "text": [
      "Epoch    8, sqrt loss  0.5804, Val sim-NRMS 0.1022, Time Loss: 88.1%, data: 0.7%, val: 11.0%, 51.5 batches/sec\n"
     ]
    },
    {
     "name": "stderr",
     "output_type": "stream",
     "text": [
      "  9%|▉         | 9/100 [02:02<20:23, 13.44s/it]"
     ]
    },
    {
     "name": "stdout",
     "output_type": "stream",
     "text": [
      "Epoch    9, sqrt loss  0.5804, Val sim-NRMS 0.1022, Time Loss: 88.3%, data: 0.7%, val: 10.8%, 51.6 batches/sec\n"
     ]
    },
    {
     "name": "stderr",
     "output_type": "stream",
     "text": [
      " 10%|█         | 10/100 [02:16<20:23, 13.60s/it]"
     ]
    },
    {
     "name": "stdout",
     "output_type": "stream",
     "text": [
      "Epoch   10, sqrt loss  0.5804, Val sim-NRMS 0.1015, Time Loss: 88.1%, data: 0.7%, val: 10.6%, 51.5 batches/sec\n"
     ]
    },
    {
     "name": "stderr",
     "output_type": "stream",
     "text": [
      " 11%|█         | 11/100 [02:29<20:04, 13.54s/it]"
     ]
    },
    {
     "name": "stdout",
     "output_type": "stream",
     "text": [
      "Epoch   11, sqrt loss  0.5802, Val sim-NRMS  0.103, Time Loss: 88.3%, data: 0.7%, val: 10.5%, 51.6 batches/sec\n"
     ]
    },
    {
     "name": "stderr",
     "output_type": "stream",
     "text": [
      " 12%|█▏        | 12/100 [02:43<19:43, 13.45s/it]"
     ]
    },
    {
     "name": "stdout",
     "output_type": "stream",
     "text": [
      "Epoch   12, sqrt loss  0.5803, Val sim-NRMS 0.1048, Time Loss: 88.4%, data: 0.7%, val: 10.4%, 51.7 batches/sec\n"
     ]
    },
    {
     "name": "stderr",
     "output_type": "stream",
     "text": [
      " 13%|█▎        | 13/100 [02:56<19:27, 13.41s/it]"
     ]
    },
    {
     "name": "stdout",
     "output_type": "stream",
     "text": [
      "Epoch   13, sqrt loss  0.5804, Val sim-NRMS 0.1014, Time Loss: 88.5%, data: 0.7%, val: 10.3%, 51.8 batches/sec\n"
     ]
    },
    {
     "name": "stderr",
     "output_type": "stream",
     "text": [
      " 14%|█▍        | 14/100 [03:10<19:15, 13.44s/it]"
     ]
    },
    {
     "name": "stdout",
     "output_type": "stream",
     "text": [
      "Epoch   14, sqrt loss  0.5803, Val sim-NRMS 0.1034, Time Loss: 88.6%, data: 0.7%, val: 10.2%, 51.8 batches/sec\n"
     ]
    },
    {
     "name": "stderr",
     "output_type": "stream",
     "text": [
      " 15%|█▌        | 15/100 [03:23<19:03, 13.45s/it]"
     ]
    },
    {
     "name": "stdout",
     "output_type": "stream",
     "text": [
      "Epoch   15, sqrt loss  0.5803, Val sim-NRMS 0.1022, Time Loss: 88.7%, data: 0.7%, val: 10.1%, 51.8 batches/sec\n"
     ]
    },
    {
     "name": "stderr",
     "output_type": "stream",
     "text": [
      " 16%|█▌        | 16/100 [03:36<18:36, 13.29s/it]"
     ]
    },
    {
     "name": "stdout",
     "output_type": "stream",
     "text": [
      "Epoch   16, sqrt loss  0.5803, Val sim-NRMS 0.1019, Time Loss: 88.8%, data: 0.7%, val: 10.1%, 52.0 batches/sec\n"
     ]
    },
    {
     "name": "stderr",
     "output_type": "stream",
     "text": [
      " 17%|█▋        | 17/100 [03:49<18:14, 13.18s/it]"
     ]
    },
    {
     "name": "stdout",
     "output_type": "stream",
     "text": [
      "Epoch   17, sqrt loss  0.5802, Val sim-NRMS 0.09931, Time Loss: 88.9%, data: 0.7%, val: 10.0%, 52.1 batches/sec\n"
     ]
    },
    {
     "name": "stderr",
     "output_type": "stream",
     "text": [
      " 18%|█▊        | 18/100 [04:02<17:54, 13.11s/it]"
     ]
    },
    {
     "name": "stdout",
     "output_type": "stream",
     "text": [
      "Epoch   18, sqrt loss  0.5803, Val sim-NRMS 0.1038, Time Loss: 88.9%, data: 0.7%, val: 10.0%, 52.2 batches/sec\n"
     ]
    },
    {
     "name": "stderr",
     "output_type": "stream",
     "text": [
      " 19%|█▉        | 19/100 [04:16<18:15, 13.52s/it]"
     ]
    },
    {
     "name": "stdout",
     "output_type": "stream",
     "text": [
      "Epoch   19, sqrt loss  0.5803, Val sim-NRMS  0.104, Time Loss: 88.7%, data: 0.7%, val: 10.0%, 52.0 batches/sec\n"
     ]
    },
    {
     "name": "stderr",
     "output_type": "stream",
     "text": [
      " 20%|██        | 20/100 [04:31<18:34, 13.94s/it]"
     ]
    },
    {
     "name": "stdout",
     "output_type": "stream",
     "text": [
      "Epoch   20, sqrt loss  0.5803, Val sim-NRMS 0.1042, Time Loss: 88.8%, data: 0.7%, val: 9.9%, 51.7 batches/sec\n"
     ]
    },
    {
     "name": "stderr",
     "output_type": "stream",
     "text": [
      " 21%|██        | 21/100 [04:44<18:00, 13.68s/it]"
     ]
    },
    {
     "name": "stdout",
     "output_type": "stream",
     "text": [
      "Epoch   21, sqrt loss  0.5802, Val sim-NRMS 0.1035, Time Loss: 88.9%, data: 0.7%, val: 9.8%, 51.8 batches/sec\n"
     ]
    },
    {
     "name": "stderr",
     "output_type": "stream",
     "text": [
      " 22%|██▏       | 22/100 [04:57<17:32, 13.50s/it]"
     ]
    },
    {
     "name": "stdout",
     "output_type": "stream",
     "text": [
      "Epoch   22, sqrt loss  0.5803, Val sim-NRMS 0.1031, Time Loss: 88.9%, data: 0.7%, val: 9.8%, 51.9 batches/sec\n"
     ]
    },
    {
     "name": "stderr",
     "output_type": "stream",
     "text": [
      " 23%|██▎       | 23/100 [05:11<17:12, 13.41s/it]"
     ]
    },
    {
     "name": "stdout",
     "output_type": "stream",
     "text": [
      "Epoch   23, sqrt loss  0.5802, Val sim-NRMS 0.1017, Time Loss: 88.9%, data: 0.7%, val: 9.8%, 52.0 batches/sec\n"
     ]
    },
    {
     "name": "stderr",
     "output_type": "stream",
     "text": [
      " 24%|██▍       | 24/100 [05:24<16:55, 13.36s/it]"
     ]
    },
    {
     "name": "stdout",
     "output_type": "stream",
     "text": [
      "Epoch   24, sqrt loss  0.5803, Val sim-NRMS 0.1036, Time Loss: 89.0%, data: 0.7%, val: 9.8%, 52.0 batches/sec\n"
     ]
    },
    {
     "name": "stderr",
     "output_type": "stream",
     "text": [
      " 25%|██▌       | 25/100 [05:37<16:38, 13.31s/it]"
     ]
    },
    {
     "name": "stdout",
     "output_type": "stream",
     "text": [
      "Epoch   25, sqrt loss  0.5803, Val sim-NRMS 0.1015, Time Loss: 89.0%, data: 0.7%, val: 9.8%, 52.1 batches/sec\n"
     ]
    },
    {
     "name": "stderr",
     "output_type": "stream",
     "text": [
      " 26%|██▌       | 26/100 [05:50<16:20, 13.25s/it]"
     ]
    },
    {
     "name": "stdout",
     "output_type": "stream",
     "text": [
      "Epoch   26, sqrt loss  0.5802, Val sim-NRMS 0.1026, Time Loss: 89.0%, data: 0.7%, val: 9.7%, 52.1 batches/sec\n"
     ]
    },
    {
     "name": "stderr",
     "output_type": "stream",
     "text": [
      " 27%|██▋       | 27/100 [06:03<16:04, 13.21s/it]"
     ]
    },
    {
     "name": "stdout",
     "output_type": "stream",
     "text": [
      "Epoch   27, sqrt loss  0.5803, Val sim-NRMS 0.1033, Time Loss: 89.1%, data: 0.7%, val: 9.7%, 52.2 batches/sec\n"
     ]
    },
    {
     "name": "stderr",
     "output_type": "stream",
     "text": [
      " 28%|██▊       | 28/100 [06:18<16:14, 13.53s/it]"
     ]
    },
    {
     "name": "stdout",
     "output_type": "stream",
     "text": [
      "Epoch   28, sqrt loss  0.5803, Val sim-NRMS 0.1053, Time Loss: 88.9%, data: 0.7%, val: 9.7%, 52.1 batches/sec\n"
     ]
    },
    {
     "name": "stderr",
     "output_type": "stream",
     "text": [
      " 29%|██▉       | 29/100 [06:31<16:09, 13.65s/it]"
     ]
    },
    {
     "name": "stdout",
     "output_type": "stream",
     "text": [
      "Epoch   29, sqrt loss  0.5803, Val sim-NRMS 0.1019, Time Loss: 89.0%, data: 0.7%, val: 9.7%, 52.0 batches/sec\n"
     ]
    },
    {
     "name": "stderr",
     "output_type": "stream",
     "text": [
      " 30%|███       | 30/100 [06:46<16:08, 13.83s/it]"
     ]
    },
    {
     "name": "stdout",
     "output_type": "stream",
     "text": [
      "Epoch   30, sqrt loss  0.5803, Val sim-NRMS 0.1009, Time Loss: 89.0%, data: 0.7%, val: 9.6%, 51.9 batches/sec\n"
     ]
    },
    {
     "name": "stderr",
     "output_type": "stream",
     "text": [
      " 31%|███       | 31/100 [07:00<16:02, 13.95s/it]"
     ]
    },
    {
     "name": "stdout",
     "output_type": "stream",
     "text": [
      "Epoch   31, sqrt loss  0.5802, Val sim-NRMS 0.09898, Time Loss: 89.1%, data: 0.7%, val: 9.6%, 51.8 batches/sec\n"
     ]
    },
    {
     "name": "stderr",
     "output_type": "stream",
     "text": [
      " 32%|███▏      | 32/100 [07:14<15:49, 13.96s/it]"
     ]
    },
    {
     "name": "stdout",
     "output_type": "stream",
     "text": [
      "Epoch   32, sqrt loss  0.5803, Val sim-NRMS 0.1012, Time Loss: 89.1%, data: 0.7%, val: 9.6%, 51.8 batches/sec\n"
     ]
    },
    {
     "name": "stderr",
     "output_type": "stream",
     "text": [
      " 33%|███▎      | 33/100 [07:27<15:26, 13.83s/it]"
     ]
    },
    {
     "name": "stdout",
     "output_type": "stream",
     "text": [
      "Epoch   33, sqrt loss  0.5803, Val sim-NRMS 0.09984, Time Loss: 89.2%, data: 0.7%, val: 9.6%, 51.8 batches/sec\n"
     ]
    },
    {
     "name": "stderr",
     "output_type": "stream",
     "text": [
      " 34%|███▍      | 34/100 [07:41<15:01, 13.66s/it]"
     ]
    },
    {
     "name": "stdout",
     "output_type": "stream",
     "text": [
      "Epoch   34, sqrt loss  0.5803, Val sim-NRMS 0.1036, Time Loss: 89.2%, data: 0.7%, val: 9.6%, 51.8 batches/sec\n"
     ]
    },
    {
     "name": "stderr",
     "output_type": "stream",
     "text": [
      " 35%|███▌      | 35/100 [07:55<14:53, 13.74s/it]"
     ]
    },
    {
     "name": "stdout",
     "output_type": "stream",
     "text": [
      "Epoch   35, sqrt loss  0.5802, Val sim-NRMS  0.101, Time Loss: 89.2%, data: 0.7%, val: 9.5%, 51.8 batches/sec\n"
     ]
    },
    {
     "name": "stderr",
     "output_type": "stream",
     "text": [
      " 36%|███▌      | 36/100 [08:09<14:43, 13.81s/it]"
     ]
    },
    {
     "name": "stdout",
     "output_type": "stream",
     "text": [
      "Epoch   36, sqrt loss  0.5802, Val sim-NRMS 0.1025, Time Loss: 89.2%, data: 0.7%, val: 9.5%, 51.7 batches/sec\n"
     ]
    },
    {
     "name": "stderr",
     "output_type": "stream",
     "text": [
      " 37%|███▋      | 37/100 [08:23<14:44, 14.04s/it]"
     ]
    },
    {
     "name": "stdout",
     "output_type": "stream",
     "text": [
      "Epoch   37, sqrt loss  0.5803, Val sim-NRMS 0.09985, Time Loss: 89.1%, data: 0.7%, val: 9.5%, 51.6 batches/sec\n"
     ]
    },
    {
     "name": "stderr",
     "output_type": "stream",
     "text": [
      " 38%|███▊      | 38/100 [08:37<14:24, 13.95s/it]"
     ]
    },
    {
     "name": "stdout",
     "output_type": "stream",
     "text": [
      "Epoch   38, sqrt loss  0.5803, Val sim-NRMS 0.1022, Time Loss: 89.2%, data: 0.7%, val: 9.5%, 51.6 batches/sec\n"
     ]
    },
    {
     "name": "stderr",
     "output_type": "stream",
     "text": [
      " 39%|███▉      | 39/100 [08:50<14:01, 13.79s/it]"
     ]
    },
    {
     "name": "stdout",
     "output_type": "stream",
     "text": [
      "Epoch   39, sqrt loss  0.5803, Val sim-NRMS 0.1036, Time Loss: 89.2%, data: 0.7%, val: 9.5%, 51.6 batches/sec\n"
     ]
    },
    {
     "name": "stderr",
     "output_type": "stream",
     "text": [
      " 40%|████      | 40/100 [09:04<13:37, 13.62s/it]"
     ]
    },
    {
     "name": "stdout",
     "output_type": "stream",
     "text": [
      "Epoch   40, sqrt loss  0.5803, Val sim-NRMS 0.1025, Time Loss: 89.2%, data: 0.7%, val: 9.4%, 51.7 batches/sec\n"
     ]
    },
    {
     "name": "stderr",
     "output_type": "stream",
     "text": [
      " 41%|████      | 41/100 [09:17<13:17, 13.51s/it]"
     ]
    },
    {
     "name": "stdout",
     "output_type": "stream",
     "text": [
      "Epoch   41, sqrt loss  0.5803, Val sim-NRMS 0.09986, Time Loss: 89.2%, data: 0.7%, val: 9.4%, 51.7 batches/sec\n"
     ]
    },
    {
     "name": "stderr",
     "output_type": "stream",
     "text": [
      " 42%|████▏     | 42/100 [09:31<13:13, 13.67s/it]"
     ]
    },
    {
     "name": "stdout",
     "output_type": "stream",
     "text": [
      "Epoch   42, sqrt loss  0.5803, Val sim-NRMS 0.1021, Time Loss: 89.3%, data: 0.7%, val: 9.4%, 51.7 batches/sec\n"
     ]
    },
    {
     "name": "stderr",
     "output_type": "stream",
     "text": [
      " 43%|████▎     | 43/100 [09:44<12:57, 13.64s/it]"
     ]
    },
    {
     "name": "stdout",
     "output_type": "stream",
     "text": [
      "Epoch   43, sqrt loss  0.5803, Val sim-NRMS 0.1038, Time Loss: 89.3%, data: 0.7%, val: 9.4%, 51.7 batches/sec\n"
     ]
    },
    {
     "name": "stderr",
     "output_type": "stream",
     "text": [
      " 44%|████▍     | 44/100 [09:58<12:39, 13.56s/it]"
     ]
    },
    {
     "name": "stdout",
     "output_type": "stream",
     "text": [
      "Epoch   44, sqrt loss  0.5802, Val sim-NRMS 0.1036, Time Loss: 89.3%, data: 0.7%, val: 9.4%, 51.7 batches/sec\n"
     ]
    },
    {
     "name": "stderr",
     "output_type": "stream",
     "text": [
      " 45%|████▌     | 45/100 [10:11<12:22, 13.50s/it]"
     ]
    },
    {
     "name": "stdout",
     "output_type": "stream",
     "text": [
      "Epoch   45, sqrt loss  0.5802, Val sim-NRMS 0.1009, Time Loss: 89.3%, data: 0.7%, val: 9.4%, 51.7 batches/sec\n"
     ]
    },
    {
     "name": "stderr",
     "output_type": "stream",
     "text": [
      " 46%|████▌     | 46/100 [10:25<12:18, 13.68s/it]"
     ]
    },
    {
     "name": "stdout",
     "output_type": "stream",
     "text": [
      "Epoch   46, sqrt loss  0.5803, Val sim-NRMS 0.1055, Time Loss: 89.2%, data: 0.7%, val: 9.4%, 51.7 batches/sec\n"
     ]
    },
    {
     "name": "stderr",
     "output_type": "stream",
     "text": [
      " 47%|████▋     | 47/100 [10:39<12:01, 13.62s/it]"
     ]
    },
    {
     "name": "stdout",
     "output_type": "stream",
     "text": [
      "Epoch   47, sqrt loss  0.5803, Val sim-NRMS 0.1009, Time Loss: 89.2%, data: 0.7%, val: 9.4%, 51.7 batches/sec\n"
     ]
    },
    {
     "name": "stderr",
     "output_type": "stream",
     "text": [
      " 48%|████▊     | 48/100 [10:52<11:44, 13.55s/it]"
     ]
    },
    {
     "name": "stdout",
     "output_type": "stream",
     "text": [
      "Epoch   48, sqrt loss  0.5803, Val sim-NRMS 0.1022, Time Loss: 89.3%, data: 0.7%, val: 9.4%, 51.7 batches/sec\n"
     ]
    },
    {
     "name": "stderr",
     "output_type": "stream",
     "text": [
      " 49%|████▉     | 49/100 [11:06<11:28, 13.51s/it]"
     ]
    },
    {
     "name": "stdout",
     "output_type": "stream",
     "text": [
      "Epoch   49, sqrt loss  0.5803, Val sim-NRMS 0.1094, Time Loss: 89.3%, data: 0.7%, val: 9.4%, 51.7 batches/sec\n"
     ]
    },
    {
     "name": "stderr",
     "output_type": "stream",
     "text": [
      " 50%|█████     | 50/100 [11:19<11:18, 13.57s/it]"
     ]
    },
    {
     "name": "stdout",
     "output_type": "stream",
     "text": [
      "Epoch   50, sqrt loss  0.5803, Val sim-NRMS 0.1027, Time Loss: 89.3%, data: 0.7%, val: 9.4%, 51.7 batches/sec\n"
     ]
    },
    {
     "name": "stderr",
     "output_type": "stream",
     "text": [
      " 51%|█████     | 51/100 [11:33<11:01, 13.50s/it]"
     ]
    },
    {
     "name": "stdout",
     "output_type": "stream",
     "text": [
      "Epoch   51, sqrt loss  0.5803, Val sim-NRMS 0.1018, Time Loss: 89.3%, data: 0.7%, val: 9.4%, 51.7 batches/sec\n"
     ]
    },
    {
     "name": "stderr",
     "output_type": "stream",
     "text": [
      " 52%|█████▏    | 52/100 [11:47<10:55, 13.66s/it]"
     ]
    },
    {
     "name": "stdout",
     "output_type": "stream",
     "text": [
      "Epoch   52, sqrt loss  0.5802, Val sim-NRMS 0.1013, Time Loss: 89.3%, data: 0.7%, val: 9.4%, 51.7 batches/sec\n"
     ]
    },
    {
     "name": "stderr",
     "output_type": "stream",
     "text": [
      " 53%|█████▎    | 53/100 [12:00<10:37, 13.56s/it]"
     ]
    },
    {
     "name": "stdout",
     "output_type": "stream",
     "text": [
      "Epoch   53, sqrt loss  0.5803, Val sim-NRMS 0.1013, Time Loss: 89.3%, data: 0.7%, val: 9.4%, 51.7 batches/sec\n"
     ]
    },
    {
     "name": "stderr",
     "output_type": "stream",
     "text": [
      " 54%|█████▍    | 54/100 [12:13<10:21, 13.52s/it]"
     ]
    },
    {
     "name": "stdout",
     "output_type": "stream",
     "text": [
      "Epoch   54, sqrt loss  0.5802, Val sim-NRMS 0.1009, Time Loss: 89.3%, data: 0.7%, val: 9.3%, 51.7 batches/sec\n"
     ]
    },
    {
     "name": "stderr",
     "output_type": "stream",
     "text": [
      " 55%|█████▌    | 55/100 [12:28<10:18, 13.75s/it]"
     ]
    },
    {
     "name": "stdout",
     "output_type": "stream",
     "text": [
      "Epoch   55, sqrt loss  0.5802, Val sim-NRMS 0.1024, Time Loss: 89.3%, data: 0.7%, val: 9.3%, 51.7 batches/sec\n"
     ]
    },
    {
     "name": "stderr",
     "output_type": "stream",
     "text": [
      " 56%|█████▌    | 56/100 [12:41<10:03, 13.72s/it]"
     ]
    },
    {
     "name": "stdout",
     "output_type": "stream",
     "text": [
      "Epoch   56, sqrt loss  0.5803, Val sim-NRMS  0.102, Time Loss: 89.3%, data: 0.7%, val: 9.3%, 51.7 batches/sec\n"
     ]
    },
    {
     "name": "stderr",
     "output_type": "stream",
     "text": [
      " 57%|█████▋    | 57/100 [12:55<09:44, 13.60s/it]"
     ]
    },
    {
     "name": "stdout",
     "output_type": "stream",
     "text": [
      "Epoch   57, sqrt loss  0.5803, Val sim-NRMS 0.1011, Time Loss: 89.3%, data: 0.7%, val: 9.3%, 51.7 batches/sec\n"
     ]
    },
    {
     "name": "stderr",
     "output_type": "stream",
     "text": [
      " 58%|█████▊    | 58/100 [13:08<09:30, 13.57s/it]"
     ]
    },
    {
     "name": "stdout",
     "output_type": "stream",
     "text": [
      "Epoch   58, sqrt loss  0.5802, Val sim-NRMS 0.1061, Time Loss: 89.3%, data: 0.7%, val: 9.3%, 51.7 batches/sec\n"
     ]
    },
    {
     "name": "stderr",
     "output_type": "stream",
     "text": [
      " 59%|█████▉    | 59/100 [13:22<09:13, 13.50s/it]"
     ]
    },
    {
     "name": "stdout",
     "output_type": "stream",
     "text": [
      "Epoch   59, sqrt loss  0.5803, Val sim-NRMS 0.1044, Time Loss: 89.3%, data: 0.7%, val: 9.3%, 51.7 batches/sec\n"
     ]
    },
    {
     "name": "stderr",
     "output_type": "stream",
     "text": [
      " 60%|██████    | 60/100 [13:36<09:12, 13.82s/it]"
     ]
    },
    {
     "name": "stdout",
     "output_type": "stream",
     "text": [
      "########## New lowest validation loss achieved ########### sim-NRMS = 0.09819481323662893\n",
      "Epoch   60, sqrt loss  0.5803, Val sim-NRMS 0.09819, Time Loss: 89.2%, data: 0.7%, val: 9.4%, 51.7 batches/sec\n"
     ]
    },
    {
     "name": "stderr",
     "output_type": "stream",
     "text": [
      " 61%|██████    | 61/100 [13:50<08:56, 13.74s/it]"
     ]
    },
    {
     "name": "stdout",
     "output_type": "stream",
     "text": [
      "Epoch   61, sqrt loss  0.5803, Val sim-NRMS 0.1007, Time Loss: 89.2%, data: 0.7%, val: 9.4%, 51.7 batches/sec\n"
     ]
    },
    {
     "name": "stderr",
     "output_type": "stream",
     "text": [
      " 62%|██████▏   | 62/100 [14:03<08:39, 13.67s/it]"
     ]
    },
    {
     "name": "stdout",
     "output_type": "stream",
     "text": [
      "Epoch   62, sqrt loss  0.5803, Val sim-NRMS 0.1036, Time Loss: 89.2%, data: 0.7%, val: 9.4%, 51.7 batches/sec\n"
     ]
    },
    {
     "name": "stderr",
     "output_type": "stream",
     "text": [
      " 63%|██████▎   | 63/100 [14:16<08:19, 13.49s/it]"
     ]
    },
    {
     "name": "stdout",
     "output_type": "stream",
     "text": [
      "Epoch   63, sqrt loss  0.5803, Val sim-NRMS 0.1017, Time Loss: 89.2%, data: 0.7%, val: 9.4%, 51.7 batches/sec\n"
     ]
    },
    {
     "name": "stderr",
     "output_type": "stream",
     "text": [
      " 64%|██████▍   | 64/100 [14:30<08:11, 13.66s/it]"
     ]
    },
    {
     "name": "stdout",
     "output_type": "stream",
     "text": [
      "Epoch   64, sqrt loss  0.5803, Val sim-NRMS 0.1004, Time Loss: 89.1%, data: 0.7%, val: 9.4%, 51.7 batches/sec\n"
     ]
    },
    {
     "name": "stderr",
     "output_type": "stream",
     "text": [
      " 65%|██████▌   | 65/100 [14:44<07:56, 13.60s/it]"
     ]
    },
    {
     "name": "stdout",
     "output_type": "stream",
     "text": [
      "Epoch   65, sqrt loss  0.5802, Val sim-NRMS 0.1055, Time Loss: 89.2%, data: 0.7%, val: 9.4%, 51.7 batches/sec\n"
     ]
    },
    {
     "name": "stderr",
     "output_type": "stream",
     "text": [
      " 66%|██████▌   | 66/100 [14:57<07:41, 13.56s/it]"
     ]
    },
    {
     "name": "stdout",
     "output_type": "stream",
     "text": [
      "Epoch   66, sqrt loss  0.5803, Val sim-NRMS   0.11, Time Loss: 89.2%, data: 0.7%, val: 9.4%, 51.7 batches/sec\n"
     ]
    },
    {
     "name": "stderr",
     "output_type": "stream",
     "text": [
      " 67%|██████▋   | 67/100 [15:11<07:29, 13.62s/it]"
     ]
    },
    {
     "name": "stdout",
     "output_type": "stream",
     "text": [
      "Epoch   67, sqrt loss  0.5803, Val sim-NRMS 0.1014, Time Loss: 89.2%, data: 0.7%, val: 9.4%, 51.7 batches/sec\n"
     ]
    },
    {
     "name": "stderr",
     "output_type": "stream",
     "text": [
      " 68%|██████▊   | 68/100 [15:25<07:15, 13.62s/it]"
     ]
    },
    {
     "name": "stdout",
     "output_type": "stream",
     "text": [
      "Epoch   68, sqrt loss  0.5803, Val sim-NRMS 0.1009, Time Loss: 89.2%, data: 0.7%, val: 9.4%, 51.7 batches/sec\n"
     ]
    },
    {
     "name": "stderr",
     "output_type": "stream",
     "text": [
      " 69%|██████▉   | 69/100 [15:38<07:02, 13.62s/it]"
     ]
    },
    {
     "name": "stdout",
     "output_type": "stream",
     "text": [
      "Epoch   69, sqrt loss  0.5803, Val sim-NRMS 0.1017, Time Loss: 89.2%, data: 0.7%, val: 9.4%, 51.7 batches/sec\n"
     ]
    },
    {
     "name": "stderr",
     "output_type": "stream",
     "text": [
      " 70%|███████   | 70/100 [15:52<06:48, 13.60s/it]"
     ]
    },
    {
     "name": "stdout",
     "output_type": "stream",
     "text": [
      "Epoch   70, sqrt loss  0.5802, Val sim-NRMS 0.1013, Time Loss: 89.2%, data: 0.7%, val: 9.4%, 51.7 batches/sec\n"
     ]
    },
    {
     "name": "stderr",
     "output_type": "stream",
     "text": [
      " 71%|███████   | 71/100 [16:05<06:32, 13.54s/it]"
     ]
    },
    {
     "name": "stdout",
     "output_type": "stream",
     "text": [
      "Epoch   71, sqrt loss  0.5803, Val sim-NRMS 0.1014, Time Loss: 89.2%, data: 0.7%, val: 9.4%, 51.7 batches/sec\n"
     ]
    },
    {
     "name": "stderr",
     "output_type": "stream",
     "text": [
      " 72%|███████▏  | 72/100 [16:19<06:17, 13.49s/it]"
     ]
    },
    {
     "name": "stdout",
     "output_type": "stream",
     "text": [
      "Epoch   72, sqrt loss  0.5803, Val sim-NRMS 0.1043, Time Loss: 89.3%, data: 0.7%, val: 9.4%, 51.7 batches/sec\n"
     ]
    },
    {
     "name": "stderr",
     "output_type": "stream",
     "text": [
      " 73%|███████▎  | 73/100 [16:33<06:11, 13.77s/it]"
     ]
    },
    {
     "name": "stdout",
     "output_type": "stream",
     "text": [
      "Epoch   73, sqrt loss  0.5803, Val sim-NRMS 0.1022, Time Loss: 89.2%, data: 0.7%, val: 9.4%, 51.7 batches/sec\n"
     ]
    },
    {
     "name": "stderr",
     "output_type": "stream",
     "text": [
      " 74%|███████▍  | 74/100 [16:46<05:56, 13.69s/it]"
     ]
    },
    {
     "name": "stdout",
     "output_type": "stream",
     "text": [
      "Epoch   74, sqrt loss  0.5802, Val sim-NRMS 0.1001, Time Loss: 89.2%, data: 0.7%, val: 9.4%, 51.7 batches/sec\n"
     ]
    },
    {
     "name": "stderr",
     "output_type": "stream",
     "text": [
      " 75%|███████▌  | 75/100 [17:00<05:40, 13.62s/it]"
     ]
    },
    {
     "name": "stdout",
     "output_type": "stream",
     "text": [
      "Epoch   75, sqrt loss  0.5802, Val sim-NRMS 0.1021, Time Loss: 89.2%, data: 0.7%, val: 9.4%, 51.7 batches/sec\n"
     ]
    },
    {
     "name": "stderr",
     "output_type": "stream",
     "text": [
      " 76%|███████▌  | 76/100 [17:13<05:25, 13.57s/it]"
     ]
    },
    {
     "name": "stdout",
     "output_type": "stream",
     "text": [
      "Epoch   76, sqrt loss  0.5802, Val sim-NRMS 0.1063, Time Loss: 89.2%, data: 0.7%, val: 9.4%, 51.7 batches/sec\n"
     ]
    },
    {
     "name": "stderr",
     "output_type": "stream",
     "text": [
      " 77%|███████▋  | 77/100 [17:27<05:12, 13.58s/it]"
     ]
    },
    {
     "name": "stdout",
     "output_type": "stream",
     "text": [
      "Epoch   77, sqrt loss  0.5803, Val sim-NRMS 0.1001, Time Loss: 89.2%, data: 0.7%, val: 9.4%, 51.7 batches/sec\n"
     ]
    },
    {
     "name": "stderr",
     "output_type": "stream",
     "text": [
      " 78%|███████▊  | 78/100 [17:40<04:58, 13.55s/it]"
     ]
    },
    {
     "name": "stdout",
     "output_type": "stream",
     "text": [
      "Epoch   78, sqrt loss  0.5803, Val sim-NRMS 0.1018, Time Loss: 89.2%, data: 0.7%, val: 9.3%, 51.7 batches/sec\n"
     ]
    },
    {
     "name": "stderr",
     "output_type": "stream",
     "text": [
      " 79%|███████▉  | 79/100 [17:54<04:41, 13.41s/it]"
     ]
    },
    {
     "name": "stdout",
     "output_type": "stream",
     "text": [
      "Epoch   79, sqrt loss  0.5803, Val sim-NRMS 0.1009, Time Loss: 89.2%, data: 0.7%, val: 9.3%, 51.7 batches/sec\n"
     ]
    },
    {
     "name": "stderr",
     "output_type": "stream",
     "text": [
      " 80%|████████  | 80/100 [18:07<04:26, 13.32s/it]"
     ]
    },
    {
     "name": "stdout",
     "output_type": "stream",
     "text": [
      "Epoch   80, sqrt loss  0.5803, Val sim-NRMS 0.1015, Time Loss: 89.3%, data: 0.7%, val: 9.3%, 51.7 batches/sec\n"
     ]
    },
    {
     "name": "stderr",
     "output_type": "stream",
     "text": [
      " 81%|████████  | 81/100 [18:20<04:14, 13.39s/it]"
     ]
    },
    {
     "name": "stdout",
     "output_type": "stream",
     "text": [
      "Epoch   81, sqrt loss  0.5803, Val sim-NRMS 0.1058, Time Loss: 89.3%, data: 0.7%, val: 9.3%, 51.7 batches/sec\n"
     ]
    },
    {
     "name": "stderr",
     "output_type": "stream",
     "text": [
      " 82%|████████▏ | 82/100 [18:35<04:07, 13.74s/it]"
     ]
    },
    {
     "name": "stdout",
     "output_type": "stream",
     "text": [
      "Epoch   82, sqrt loss  0.5803, Val sim-NRMS 0.1045, Time Loss: 89.2%, data: 0.7%, val: 9.3%, 51.7 batches/sec\n"
     ]
    },
    {
     "name": "stderr",
     "output_type": "stream",
     "text": [
      " 83%|████████▎ | 83/100 [18:48<03:52, 13.70s/it]"
     ]
    },
    {
     "name": "stdout",
     "output_type": "stream",
     "text": [
      "Epoch   83, sqrt loss  0.5803, Val sim-NRMS  0.104, Time Loss: 89.2%, data: 0.7%, val: 9.3%, 51.7 batches/sec\n"
     ]
    },
    {
     "name": "stderr",
     "output_type": "stream",
     "text": [
      " 84%|████████▍ | 84/100 [19:02<03:38, 13.66s/it]"
     ]
    },
    {
     "name": "stdout",
     "output_type": "stream",
     "text": [
      "Epoch   84, sqrt loss  0.5803, Val sim-NRMS 0.1012, Time Loss: 89.2%, data: 0.7%, val: 9.3%, 51.7 batches/sec\n"
     ]
    },
    {
     "name": "stderr",
     "output_type": "stream",
     "text": [
      " 85%|████████▌ | 85/100 [19:15<03:22, 13.51s/it]"
     ]
    },
    {
     "name": "stdout",
     "output_type": "stream",
     "text": [
      "Epoch   85, sqrt loss  0.5802, Val sim-NRMS 0.09956, Time Loss: 89.2%, data: 0.7%, val: 9.3%, 51.7 batches/sec\n"
     ]
    },
    {
     "name": "stderr",
     "output_type": "stream",
     "text": [
      " 86%|████████▌ | 86/100 [19:29<03:08, 13.49s/it]"
     ]
    },
    {
     "name": "stdout",
     "output_type": "stream",
     "text": [
      "Epoch   86, sqrt loss  0.5803, Val sim-NRMS 0.1005, Time Loss: 89.2%, data: 0.7%, val: 9.3%, 51.7 batches/sec\n"
     ]
    },
    {
     "name": "stderr",
     "output_type": "stream",
     "text": [
      " 87%|████████▋ | 87/100 [19:42<02:55, 13.48s/it]"
     ]
    },
    {
     "name": "stdout",
     "output_type": "stream",
     "text": [
      "Epoch   87, sqrt loss  0.5803, Val sim-NRMS 0.1032, Time Loss: 89.2%, data: 0.7%, val: 9.3%, 51.7 batches/sec\n"
     ]
    },
    {
     "name": "stderr",
     "output_type": "stream",
     "text": [
      " 88%|████████▊ | 88/100 [19:56<02:42, 13.54s/it]"
     ]
    },
    {
     "name": "stdout",
     "output_type": "stream",
     "text": [
      "Epoch   88, sqrt loss  0.5802, Val sim-NRMS 0.1014, Time Loss: 89.2%, data: 0.7%, val: 9.3%, 51.7 batches/sec\n"
     ]
    },
    {
     "name": "stderr",
     "output_type": "stream",
     "text": [
      " 89%|████████▉ | 89/100 [20:09<02:29, 13.59s/it]"
     ]
    },
    {
     "name": "stdout",
     "output_type": "stream",
     "text": [
      "Epoch   89, sqrt loss  0.5803, Val sim-NRMS 0.1008, Time Loss: 89.3%, data: 0.7%, val: 9.3%, 51.7 batches/sec\n"
     ]
    },
    {
     "name": "stderr",
     "output_type": "stream",
     "text": [
      " 90%|█████████ | 90/100 [20:23<02:16, 13.62s/it]"
     ]
    },
    {
     "name": "stdout",
     "output_type": "stream",
     "text": [
      "Epoch   90, sqrt loss  0.5803, Val sim-NRMS 0.1013, Time Loss: 89.3%, data: 0.7%, val: 9.3%, 51.7 batches/sec\n"
     ]
    },
    {
     "name": "stderr",
     "output_type": "stream",
     "text": [
      " 91%|█████████ | 91/100 [20:38<02:05, 13.90s/it]"
     ]
    },
    {
     "name": "stdout",
     "output_type": "stream",
     "text": [
      "Epoch   91, sqrt loss  0.5803, Val sim-NRMS 0.1018, Time Loss: 89.2%, data: 0.7%, val: 9.3%, 51.7 batches/sec\n"
     ]
    },
    {
     "name": "stderr",
     "output_type": "stream",
     "text": [
      " 92%|█████████▏| 92/100 [20:51<01:50, 13.80s/it]"
     ]
    },
    {
     "name": "stdout",
     "output_type": "stream",
     "text": [
      "Epoch   92, sqrt loss  0.5803, Val sim-NRMS 0.1002, Time Loss: 89.2%, data: 0.7%, val: 9.3%, 51.7 batches/sec\n"
     ]
    },
    {
     "name": "stderr",
     "output_type": "stream",
     "text": [
      " 93%|█████████▎| 93/100 [21:05<01:36, 13.72s/it]"
     ]
    },
    {
     "name": "stdout",
     "output_type": "stream",
     "text": [
      "Epoch   93, sqrt loss  0.5803, Val sim-NRMS 0.1059, Time Loss: 89.2%, data: 0.7%, val: 9.3%, 51.7 batches/sec\n"
     ]
    },
    {
     "name": "stderr",
     "output_type": "stream",
     "text": [
      " 94%|█████████▍| 94/100 [21:18<01:22, 13.72s/it]"
     ]
    },
    {
     "name": "stdout",
     "output_type": "stream",
     "text": [
      "Epoch   94, sqrt loss  0.5803, Val sim-NRMS 0.1017, Time Loss: 89.2%, data: 0.7%, val: 9.3%, 51.7 batches/sec\n"
     ]
    },
    {
     "name": "stderr",
     "output_type": "stream",
     "text": [
      " 95%|█████████▌| 95/100 [21:32<01:08, 13.65s/it]"
     ]
    },
    {
     "name": "stdout",
     "output_type": "stream",
     "text": [
      "Epoch   95, sqrt loss  0.5803, Val sim-NRMS 0.1007, Time Loss: 89.2%, data: 0.7%, val: 9.3%, 51.7 batches/sec\n"
     ]
    },
    {
     "name": "stderr",
     "output_type": "stream",
     "text": [
      " 96%|█████████▌| 96/100 [21:45<00:54, 13.63s/it]"
     ]
    },
    {
     "name": "stdout",
     "output_type": "stream",
     "text": [
      "Epoch   96, sqrt loss  0.5803, Val sim-NRMS 0.1022, Time Loss: 89.2%, data: 0.7%, val: 9.3%, 51.7 batches/sec\n"
     ]
    },
    {
     "name": "stderr",
     "output_type": "stream",
     "text": [
      " 97%|█████████▋| 97/100 [21:59<00:40, 13.61s/it]"
     ]
    },
    {
     "name": "stdout",
     "output_type": "stream",
     "text": [
      "Epoch   97, sqrt loss  0.5802, Val sim-NRMS 0.1055, Time Loss: 89.3%, data: 0.7%, val: 9.3%, 51.7 batches/sec\n"
     ]
    },
    {
     "name": "stderr",
     "output_type": "stream",
     "text": [
      " 98%|█████████▊| 98/100 [22:13<00:27, 13.60s/it]"
     ]
    },
    {
     "name": "stdout",
     "output_type": "stream",
     "text": [
      "Epoch   98, sqrt loss  0.5803, Val sim-NRMS 0.09862, Time Loss: 89.3%, data: 0.7%, val: 9.3%, 51.7 batches/sec\n"
     ]
    },
    {
     "name": "stderr",
     "output_type": "stream",
     "text": [
      " 99%|█████████▉| 99/100 [22:26<00:13, 13.62s/it]"
     ]
    },
    {
     "name": "stdout",
     "output_type": "stream",
     "text": [
      "Epoch   99, sqrt loss  0.5803, Val sim-NRMS 0.1006, Time Loss: 89.3%, data: 0.7%, val: 9.3%, 51.7 batches/sec\n"
     ]
    },
    {
     "name": "stderr",
     "output_type": "stream",
     "text": [
      "100%|██████████| 100/100 [22:41<00:00, 13.62s/it]"
     ]
    },
    {
     "name": "stdout",
     "output_type": "stream",
     "text": [
      "Epoch  100, sqrt loss  0.5803, Val sim-NRMS 0.1033, Time Loss: 89.2%, data: 0.7%, val: 9.3%, 51.6 batches/sec\n"
     ]
    },
    {
     "name": "stderr",
     "output_type": "stream",
     "text": [
      "\n"
     ]
    },
    {
     "name": "stdout",
     "output_type": "stream",
     "text": [
      "Model already initilized (init_model_done=True), skipping initilizing of the model, the norm and the creation of the optimizer\n",
      "Size of the training array =  27.5 MB\n",
      "N_training_samples = 179995, batch_size = 256, N_batch_updates_per_epoch = 703\n",
      "Initial Validation sim-NRMS= 0.10327088573811449\n"
     ]
    },
    {
     "name": "stderr",
     "output_type": "stream",
     "text": [
      "  2%|▏         | 1/50 [00:13<11:00, 13.47s/it]"
     ]
    },
    {
     "name": "stdout",
     "output_type": "stream",
     "text": [
      "Epoch    1, sqrt loss 0.01729, Val sim-NRMS 0.09935, Time Loss: 90.2%, data: 0.7%, val: 9.0%, 52.2 batches/sec\n"
     ]
    },
    {
     "name": "stderr",
     "output_type": "stream",
     "text": [
      "  4%|▍         | 2/50 [00:28<11:25, 14.28s/it]"
     ]
    },
    {
     "name": "stdout",
     "output_type": "stream",
     "text": [
      "########## New lowest validation loss achieved ########### sim-NRMS = 0.0977352655395434\n",
      "Epoch    2, sqrt loss 0.01728, Val sim-NRMS 0.09774, Time Loss: 85.5%, data: 0.6%, val: 13.7%, 49.6 batches/sec\n"
     ]
    },
    {
     "name": "stderr",
     "output_type": "stream",
     "text": [
      "  6%|▌         | 3/50 [00:41<10:55, 13.95s/it]"
     ]
    },
    {
     "name": "stdout",
     "output_type": "stream",
     "text": [
      "Epoch    3, sqrt loss 0.01728, Val sim-NRMS 0.1007, Time Loss: 87.0%, data: 0.6%, val: 12.2%, 50.4 batches/sec\n"
     ]
    },
    {
     "name": "stderr",
     "output_type": "stream",
     "text": [
      "  8%|▊         | 4/50 [00:55<10:38, 13.88s/it]"
     ]
    },
    {
     "name": "stdout",
     "output_type": "stream",
     "text": [
      "Epoch    4, sqrt loss 0.01728, Val sim-NRMS 0.1037, Time Loss: 87.8%, data: 0.7%, val: 11.4%, 50.5 batches/sec\n"
     ]
    },
    {
     "name": "stderr",
     "output_type": "stream",
     "text": [
      " 10%|█         | 5/50 [01:10<10:35, 14.12s/it]"
     ]
    },
    {
     "name": "stdout",
     "output_type": "stream",
     "text": [
      "Epoch    5, sqrt loss 0.01728, Val sim-NRMS 0.1029, Time Loss: 88.3%, data: 0.7%, val: 10.8%, 50.1 batches/sec\n"
     ]
    },
    {
     "name": "stderr",
     "output_type": "stream",
     "text": [
      " 12%|█▏        | 6/50 [01:23<10:12, 13.92s/it]"
     ]
    },
    {
     "name": "stdout",
     "output_type": "stream",
     "text": [
      "Epoch    6, sqrt loss 0.01728, Val sim-NRMS 0.1014, Time Loss: 88.6%, data: 0.7%, val: 10.6%, 50.4 batches/sec\n"
     ]
    },
    {
     "name": "stderr",
     "output_type": "stream",
     "text": [
      " 14%|█▍        | 7/50 [01:37<09:52, 13.77s/it]"
     ]
    },
    {
     "name": "stdout",
     "output_type": "stream",
     "text": [
      "Epoch    7, sqrt loss 0.01728, Val sim-NRMS 0.1038, Time Loss: 88.8%, data: 0.7%, val: 10.4%, 50.6 batches/sec\n"
     ]
    },
    {
     "name": "stderr",
     "output_type": "stream",
     "text": [
      " 16%|█▌        | 8/50 [01:50<09:34, 13.68s/it]"
     ]
    },
    {
     "name": "stdout",
     "output_type": "stream",
     "text": [
      "Epoch    8, sqrt loss 0.01727, Val sim-NRMS 0.1008, Time Loss: 88.9%, data: 0.7%, val: 10.2%, 50.8 batches/sec\n"
     ]
    },
    {
     "name": "stderr",
     "output_type": "stream",
     "text": [
      " 18%|█▊        | 9/50 [02:04<09:20, 13.66s/it]"
     ]
    },
    {
     "name": "stdout",
     "output_type": "stream",
     "text": [
      "Epoch    9, sqrt loss 0.01729, Val sim-NRMS 0.1056, Time Loss: 89.1%, data: 0.7%, val: 10.1%, 50.9 batches/sec\n"
     ]
    },
    {
     "name": "stderr",
     "output_type": "stream",
     "text": [
      " 20%|██        | 10/50 [02:17<09:05, 13.65s/it]"
     ]
    },
    {
     "name": "stdout",
     "output_type": "stream",
     "text": [
      "Epoch   10, sqrt loss 0.01728, Val sim-NRMS 0.1006, Time Loss: 89.2%, data: 0.7%, val: 10.0%, 51.0 batches/sec\n"
     ]
    },
    {
     "name": "stderr",
     "output_type": "stream",
     "text": [
      " 22%|██▏       | 11/50 [02:31<08:49, 13.58s/it]"
     ]
    },
    {
     "name": "stdout",
     "output_type": "stream",
     "text": [
      "Epoch   11, sqrt loss 0.01728, Val sim-NRMS 0.1004, Time Loss: 89.2%, data: 0.7%, val: 9.9%, 51.1 batches/sec\n"
     ]
    },
    {
     "name": "stderr",
     "output_type": "stream",
     "text": [
      " 24%|██▍       | 12/50 [02:44<08:36, 13.60s/it]"
     ]
    },
    {
     "name": "stdout",
     "output_type": "stream",
     "text": [
      "Epoch   12, sqrt loss 0.01729, Val sim-NRMS 0.1039, Time Loss: 89.3%, data: 0.7%, val: 9.8%, 51.1 batches/sec\n"
     ]
    },
    {
     "name": "stderr",
     "output_type": "stream",
     "text": [
      " 26%|██▌       | 13/50 [02:58<08:22, 13.59s/it]"
     ]
    },
    {
     "name": "stdout",
     "output_type": "stream",
     "text": [
      "Epoch   13, sqrt loss 0.01728, Val sim-NRMS 0.1005, Time Loss: 89.4%, data: 0.7%, val: 9.8%, 51.2 batches/sec\n"
     ]
    },
    {
     "name": "stderr",
     "output_type": "stream",
     "text": [
      " 28%|██▊       | 14/50 [03:11<08:05, 13.50s/it]"
     ]
    },
    {
     "name": "stdout",
     "output_type": "stream",
     "text": [
      "Epoch   14, sqrt loss 0.01727, Val sim-NRMS 0.1033, Time Loss: 89.4%, data: 0.7%, val: 9.7%, 51.3 batches/sec\n"
     ]
    },
    {
     "name": "stderr",
     "output_type": "stream",
     "text": [
      " 30%|███       | 15/50 [03:25<07:55, 13.58s/it]"
     ]
    },
    {
     "name": "stdout",
     "output_type": "stream",
     "text": [
      "Epoch   15, sqrt loss 0.01729, Val sim-NRMS 0.1019, Time Loss: 89.5%, data: 0.7%, val: 9.7%, 51.3 batches/sec\n"
     ]
    },
    {
     "name": "stderr",
     "output_type": "stream",
     "text": [
      " 32%|███▏      | 16/50 [03:39<07:43, 13.62s/it]"
     ]
    },
    {
     "name": "stdout",
     "output_type": "stream",
     "text": [
      "Epoch   16, sqrt loss 0.01728, Val sim-NRMS 0.1012, Time Loss: 89.5%, data: 0.7%, val: 9.6%, 51.3 batches/sec\n"
     ]
    },
    {
     "name": "stderr",
     "output_type": "stream",
     "text": [
      " 34%|███▍      | 17/50 [03:52<07:24, 13.48s/it]"
     ]
    },
    {
     "name": "stdout",
     "output_type": "stream",
     "text": [
      "Epoch   17, sqrt loss 0.01728, Val sim-NRMS 0.1013, Time Loss: 89.6%, data: 0.7%, val: 9.6%, 51.4 batches/sec\n"
     ]
    },
    {
     "name": "stderr",
     "output_type": "stream",
     "text": [
      " 36%|███▌      | 18/50 [04:05<07:09, 13.42s/it]"
     ]
    },
    {
     "name": "stdout",
     "output_type": "stream",
     "text": [
      "Epoch   18, sqrt loss 0.01727, Val sim-NRMS 0.1008, Time Loss: 89.6%, data: 0.7%, val: 9.5%, 51.5 batches/sec\n"
     ]
    },
    {
     "name": "stderr",
     "output_type": "stream",
     "text": [
      " 38%|███▊      | 19/50 [04:19<06:57, 13.47s/it]"
     ]
    },
    {
     "name": "stdout",
     "output_type": "stream",
     "text": [
      "Epoch   19, sqrt loss 0.01727, Val sim-NRMS 0.1005, Time Loss: 89.6%, data: 0.7%, val: 9.5%, 51.5 batches/sec\n"
     ]
    },
    {
     "name": "stderr",
     "output_type": "stream",
     "text": [
      " 40%|████      | 20/50 [04:33<06:48, 13.62s/it]"
     ]
    },
    {
     "name": "stdout",
     "output_type": "stream",
     "text": [
      "Epoch   20, sqrt loss 0.01729, Val sim-NRMS  0.102, Time Loss: 89.6%, data: 0.7%, val: 9.5%, 51.4 batches/sec\n"
     ]
    },
    {
     "name": "stderr",
     "output_type": "stream",
     "text": [
      " 42%|████▏     | 21/50 [04:46<06:35, 13.63s/it]"
     ]
    },
    {
     "name": "stdout",
     "output_type": "stream",
     "text": [
      "Epoch   21, sqrt loss 0.01728, Val sim-NRMS 0.1056, Time Loss: 89.7%, data: 0.7%, val: 9.5%, 51.4 batches/sec\n"
     ]
    },
    {
     "name": "stderr",
     "output_type": "stream",
     "text": [
      " 44%|████▍     | 22/50 [05:00<06:22, 13.65s/it]"
     ]
    },
    {
     "name": "stdout",
     "output_type": "stream",
     "text": [
      "Epoch   22, sqrt loss 0.01727, Val sim-NRMS 0.1087, Time Loss: 89.7%, data: 0.7%, val: 9.4%, 51.4 batches/sec\n"
     ]
    },
    {
     "name": "stderr",
     "output_type": "stream",
     "text": [
      " 46%|████▌     | 23/50 [05:13<06:03, 13.46s/it]"
     ]
    },
    {
     "name": "stdout",
     "output_type": "stream",
     "text": [
      "Epoch   23, sqrt loss 0.01728, Val sim-NRMS  0.103, Time Loss: 89.7%, data: 0.7%, val: 9.4%, 51.5 batches/sec\n"
     ]
    },
    {
     "name": "stderr",
     "output_type": "stream",
     "text": [
      " 48%|████▊     | 24/50 [05:26<05:45, 13.30s/it]"
     ]
    },
    {
     "name": "stdout",
     "output_type": "stream",
     "text": [
      "Epoch   24, sqrt loss 0.01728, Val sim-NRMS  0.101, Time Loss: 89.7%, data: 0.7%, val: 9.4%, 51.7 batches/sec\n"
     ]
    },
    {
     "name": "stderr",
     "output_type": "stream",
     "text": [
      " 50%|█████     | 25/50 [05:39<05:31, 13.24s/it]"
     ]
    },
    {
     "name": "stdout",
     "output_type": "stream",
     "text": [
      "Epoch   25, sqrt loss 0.01726, Val sim-NRMS 0.1003, Time Loss: 89.7%, data: 0.7%, val: 9.4%, 51.7 batches/sec\n"
     ]
    },
    {
     "name": "stderr",
     "output_type": "stream",
     "text": [
      " 52%|█████▏    | 26/50 [05:53<05:19, 13.30s/it]"
     ]
    },
    {
     "name": "stdout",
     "output_type": "stream",
     "text": [
      "Epoch   26, sqrt loss 0.01727, Val sim-NRMS 0.1037, Time Loss: 89.7%, data: 0.7%, val: 9.4%, 51.8 batches/sec\n"
     ]
    },
    {
     "name": "stderr",
     "output_type": "stream",
     "text": [
      " 54%|█████▍    | 27/50 [06:06<05:05, 13.27s/it]"
     ]
    },
    {
     "name": "stdout",
     "output_type": "stream",
     "text": [
      "Epoch   27, sqrt loss 0.01729, Val sim-NRMS 0.1037, Time Loss: 89.8%, data: 0.7%, val: 9.4%, 51.8 batches/sec\n"
     ]
    },
    {
     "name": "stderr",
     "output_type": "stream",
     "text": [
      " 56%|█████▌    | 28/50 [06:19<04:53, 13.34s/it]"
     ]
    },
    {
     "name": "stdout",
     "output_type": "stream",
     "text": [
      "Epoch   28, sqrt loss 0.01729, Val sim-NRMS  0.101, Time Loss: 89.8%, data: 0.7%, val: 9.4%, 51.8 batches/sec\n"
     ]
    },
    {
     "name": "stderr",
     "output_type": "stream",
     "text": [
      " 58%|█████▊    | 29/50 [06:33<04:41, 13.39s/it]"
     ]
    },
    {
     "name": "stdout",
     "output_type": "stream",
     "text": [
      "Epoch   29, sqrt loss 0.01731, Val sim-NRMS 0.1007, Time Loss: 89.8%, data: 0.7%, val: 9.4%, 51.8 batches/sec\n"
     ]
    },
    {
     "name": "stderr",
     "output_type": "stream",
     "text": [
      " 60%|██████    | 30/50 [06:46<04:28, 13.41s/it]"
     ]
    },
    {
     "name": "stdout",
     "output_type": "stream",
     "text": [
      "Epoch   30, sqrt loss 0.01728, Val sim-NRMS 0.1012, Time Loss: 89.8%, data: 0.7%, val: 9.4%, 51.8 batches/sec\n"
     ]
    },
    {
     "name": "stderr",
     "output_type": "stream",
     "text": [
      " 62%|██████▏   | 31/50 [06:59<04:12, 13.29s/it]"
     ]
    },
    {
     "name": "stdout",
     "output_type": "stream",
     "text": [
      "Epoch   31, sqrt loss 0.01727, Val sim-NRMS 0.1038, Time Loss: 89.8%, data: 0.7%, val: 9.4%, 51.9 batches/sec\n"
     ]
    },
    {
     "name": "stderr",
     "output_type": "stream",
     "text": [
      " 64%|██████▍   | 32/50 [07:13<04:00, 13.37s/it]"
     ]
    },
    {
     "name": "stdout",
     "output_type": "stream",
     "text": [
      "Epoch   32, sqrt loss 0.01728, Val sim-NRMS 0.1004, Time Loss: 89.8%, data: 0.7%, val: 9.3%, 51.9 batches/sec\n"
     ]
    },
    {
     "name": "stderr",
     "output_type": "stream",
     "text": [
      " 66%|██████▌   | 33/50 [07:26<03:46, 13.30s/it]"
     ]
    },
    {
     "name": "stdout",
     "output_type": "stream",
     "text": [
      "Epoch   33, sqrt loss 0.01729, Val sim-NRMS 0.09909, Time Loss: 89.8%, data: 0.7%, val: 9.3%, 52.0 batches/sec\n"
     ]
    },
    {
     "name": "stderr",
     "output_type": "stream",
     "text": [
      " 68%|██████▊   | 34/50 [07:39<03:32, 13.26s/it]"
     ]
    },
    {
     "name": "stdout",
     "output_type": "stream",
     "text": [
      "Epoch   34, sqrt loss 0.01728, Val sim-NRMS 0.09931, Time Loss: 89.8%, data: 0.7%, val: 9.3%, 52.0 batches/sec\n"
     ]
    },
    {
     "name": "stderr",
     "output_type": "stream",
     "text": [
      " 70%|███████   | 35/50 [07:53<03:19, 13.30s/it]"
     ]
    },
    {
     "name": "stdout",
     "output_type": "stream",
     "text": [
      "Epoch   35, sqrt loss 0.01729, Val sim-NRMS 0.1005, Time Loss: 89.8%, data: 0.7%, val: 9.3%, 52.0 batches/sec\n"
     ]
    },
    {
     "name": "stderr",
     "output_type": "stream",
     "text": [
      " 72%|███████▏  | 36/50 [08:06<03:06, 13.29s/it]"
     ]
    },
    {
     "name": "stdout",
     "output_type": "stream",
     "text": [
      "Epoch   36, sqrt loss 0.01726, Val sim-NRMS 0.1012, Time Loss: 89.8%, data: 0.7%, val: 9.3%, 52.0 batches/sec\n"
     ]
    },
    {
     "name": "stderr",
     "output_type": "stream",
     "text": [
      " 74%|███████▍  | 37/50 [08:19<02:53, 13.34s/it]"
     ]
    },
    {
     "name": "stdout",
     "output_type": "stream",
     "text": [
      "Epoch   37, sqrt loss 0.01729, Val sim-NRMS 0.1016, Time Loss: 89.8%, data: 0.7%, val: 9.3%, 52.0 batches/sec\n"
     ]
    },
    {
     "name": "stderr",
     "output_type": "stream",
     "text": [
      " 76%|███████▌  | 38/50 [08:32<02:39, 13.28s/it]"
     ]
    },
    {
     "name": "stdout",
     "output_type": "stream",
     "text": [
      "Epoch   38, sqrt loss 0.01729, Val sim-NRMS 0.1005, Time Loss: 89.8%, data: 0.7%, val: 9.3%, 52.1 batches/sec\n"
     ]
    },
    {
     "name": "stderr",
     "output_type": "stream",
     "text": [
      " 78%|███████▊  | 39/50 [08:46<02:26, 13.30s/it]"
     ]
    },
    {
     "name": "stdout",
     "output_type": "stream",
     "text": [
      "Epoch   39, sqrt loss 0.01727, Val sim-NRMS 0.1018, Time Loss: 89.9%, data: 0.7%, val: 9.3%, 52.1 batches/sec\n"
     ]
    },
    {
     "name": "stderr",
     "output_type": "stream",
     "text": [
      " 80%|████████  | 40/50 [08:59<02:13, 13.38s/it]"
     ]
    },
    {
     "name": "stdout",
     "output_type": "stream",
     "text": [
      "Epoch   40, sqrt loss 0.01728, Val sim-NRMS 0.1001, Time Loss: 89.9%, data: 0.7%, val: 9.3%, 52.1 batches/sec\n"
     ]
    },
    {
     "name": "stderr",
     "output_type": "stream",
     "text": [
      " 82%|████████▏ | 41/50 [09:13<02:00, 13.40s/it]"
     ]
    },
    {
     "name": "stdout",
     "output_type": "stream",
     "text": [
      "Epoch   41, sqrt loss 0.01728, Val sim-NRMS 0.1036, Time Loss: 89.9%, data: 0.7%, val: 9.3%, 52.1 batches/sec\n"
     ]
    },
    {
     "name": "stderr",
     "output_type": "stream",
     "text": [
      " 84%|████████▍ | 42/50 [09:26<01:46, 13.30s/it]"
     ]
    },
    {
     "name": "stdout",
     "output_type": "stream",
     "text": [
      "Epoch   42, sqrt loss 0.01728, Val sim-NRMS 0.1043, Time Loss: 89.9%, data: 0.7%, val: 9.3%, 52.1 batches/sec\n"
     ]
    },
    {
     "name": "stderr",
     "output_type": "stream",
     "text": [
      " 86%|████████▌ | 43/50 [09:40<01:33, 13.41s/it]"
     ]
    },
    {
     "name": "stdout",
     "output_type": "stream",
     "text": [
      "Epoch   43, sqrt loss 0.01728, Val sim-NRMS 0.1027, Time Loss: 89.9%, data: 0.7%, val: 9.3%, 52.1 batches/sec\n"
     ]
    },
    {
     "name": "stderr",
     "output_type": "stream",
     "text": [
      " 88%|████████▊ | 44/50 [09:53<01:19, 13.32s/it]"
     ]
    },
    {
     "name": "stdout",
     "output_type": "stream",
     "text": [
      "Epoch   44, sqrt loss 0.01729, Val sim-NRMS 0.1018, Time Loss: 89.9%, data: 0.7%, val: 9.3%, 52.1 batches/sec\n"
     ]
    },
    {
     "name": "stderr",
     "output_type": "stream",
     "text": [
      " 90%|█████████ | 45/50 [10:06<01:06, 13.31s/it]"
     ]
    },
    {
     "name": "stdout",
     "output_type": "stream",
     "text": [
      "Epoch   45, sqrt loss 0.01728, Val sim-NRMS 0.1051, Time Loss: 89.9%, data: 0.7%, val: 9.3%, 52.2 batches/sec\n"
     ]
    },
    {
     "name": "stderr",
     "output_type": "stream",
     "text": [
      " 92%|█████████▏| 46/50 [10:19<00:53, 13.36s/it]"
     ]
    },
    {
     "name": "stdout",
     "output_type": "stream",
     "text": [
      "Epoch   46, sqrt loss 0.01728, Val sim-NRMS 0.1012, Time Loss: 89.9%, data: 0.7%, val: 9.3%, 52.2 batches/sec\n"
     ]
    },
    {
     "name": "stderr",
     "output_type": "stream",
     "text": [
      " 94%|█████████▍| 47/50 [10:33<00:40, 13.43s/it]"
     ]
    },
    {
     "name": "stdout",
     "output_type": "stream",
     "text": [
      "Epoch   47, sqrt loss 0.01729, Val sim-NRMS 0.09943, Time Loss: 89.9%, data: 0.7%, val: 9.3%, 52.2 batches/sec\n"
     ]
    },
    {
     "name": "stderr",
     "output_type": "stream",
     "text": [
      " 96%|█████████▌| 48/50 [10:46<00:26, 13.42s/it]"
     ]
    },
    {
     "name": "stdout",
     "output_type": "stream",
     "text": [
      "Epoch   48, sqrt loss 0.01727, Val sim-NRMS 0.1024, Time Loss: 89.9%, data: 0.7%, val: 9.3%, 52.2 batches/sec\n"
     ]
    },
    {
     "name": "stderr",
     "output_type": "stream",
     "text": [
      " 98%|█████████▊| 49/50 [11:00<00:13, 13.41s/it]"
     ]
    },
    {
     "name": "stdout",
     "output_type": "stream",
     "text": [
      "Epoch   49, sqrt loss 0.01728, Val sim-NRMS 0.1058, Time Loss: 89.9%, data: 0.7%, val: 9.2%, 52.2 batches/sec\n"
     ]
    },
    {
     "name": "stderr",
     "output_type": "stream",
     "text": [
      "100%|██████████| 50/50 [11:13<00:00, 13.46s/it]"
     ]
    },
    {
     "name": "stdout",
     "output_type": "stream",
     "text": [
      "Epoch   50, sqrt loss 0.01727, Val sim-NRMS 0.1056, Time Loss: 89.9%, data: 0.7%, val: 9.2%, 52.2 batches/sec\n"
     ]
    },
    {
     "name": "stderr",
     "output_type": "stream",
     "text": [
      "\n"
     ]
    },
    {
     "name": "stdout",
     "output_type": "stream",
     "text": [
      "arrow test complete!\n",
      "test test complete!\n",
      "arrow test complete!\n",
      "test test complete!\n",
      "done\n"
     ]
    }
   ],
   "source": [
    "for gi in gamma:\n",
    "    set_name = \"lambda_nf5_{}\".format(convert_float_to_string(gi))\n",
    "    print(set_name)\n",
    "\n",
    "    run_SISUBNET(nx, na, nb, na_right, \\\n",
    "             f_net_kwargs, e_net, e_net_kwargs, h_net, h_net_kwargs,\\\n",
    "             arrow, train, val, test, data_set_name,\\\n",
    "             nf, gi, mode, T_idx, pruning, threshold, epo_idx,\\\n",
    "             batch_size, pre_train=pre_train, no_reg_epochs=no_reg_epochs, nf_epochs=epochs,\\\n",
    "             save_data=True, set_name=set_name, verbose=True)"
   ]
  }
 ],
 "metadata": {
  "kernelspec": {
   "display_name": "subsindy",
   "language": "python",
   "name": "python3"
  },
  "language_info": {
   "codemirror_mode": {
    "name": "ipython",
    "version": 3
   },
   "file_extension": ".py",
   "mimetype": "text/x-python",
   "name": "python",
   "nbconvert_exporter": "python",
   "pygments_lexer": "ipython3",
   "version": "3.12.2"
  }
 },
 "nbformat": 4,
 "nbformat_minor": 2
}
