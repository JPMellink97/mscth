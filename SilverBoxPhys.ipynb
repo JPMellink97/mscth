{
 "cells": [
  {
   "cell_type": "code",
   "execution_count": null,
   "metadata": {},
   "outputs": [],
   "source": [
    "from scipy.integrate import odeint"
   ]
  },
  {
   "cell_type": "code",
   "execution_count": null,
   "metadata": {},
   "outputs": [],
   "source": [
    "y = test.y\n",
    "dy = differentiation_method(test.y)\n",
    "y0 = [y[0], dy[0]]  # random inital state for x2\n",
    "u = test.u\n",
    "samples = y.shape[0]"
   ]
  },
  {
   "cell_type": "code",
   "execution_count": null,
   "metadata": {},
   "outputs": [],
   "source": [
    "# initialize system's parameters\n",
    "a1 = 10  #-0.764  # 0.443\n",
    "a2 = 10  #-0.892  #-0.691\n",
    "a3 = 10  # 0.797  # 1.407\n",
    "b1 = 20  # 0.201  # 0.314\n",
    "\n",
    "k = np.arange(0,samples,1)\n",
    "\n",
    "def u_control(k):\n",
    "    return u[int(k)]\n",
    "\n",
    "def silverbox(x, k):\n",
    "    x1 = x[0]\n",
    "    x2 = x[1]\n",
    "    dx1 = x2\n",
    "    dx2 = -a1*x2 -a2*x1 -a3*x1**3+b1*u_control(k)\n",
    "    return [dx1, dx2]\n",
    "\n",
    "# y0 is our initial state\n",
    "s = odeint(silverbox, y0=y0, t=k)"
   ]
  },
  {
   "cell_type": "code",
   "execution_count": null,
   "metadata": {},
   "outputs": [],
   "source": [
    "plt.plot(y[:])\n",
    "plt.plot(s[1:,0]-np.mean(s[1:,0]))\n",
    "plt.show()\n",
    "plt.plot(y[:])\n",
    "plt.plot(s[:,1])\n",
    "plt.show()"
   ]
  }
 ],
 "metadata": {
  "language_info": {
   "name": "python"
  }
 },
 "nbformat": 4,
 "nbformat_minor": 2
}
