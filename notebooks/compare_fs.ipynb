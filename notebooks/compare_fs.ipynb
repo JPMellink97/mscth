{
 "cells": [
  {
   "cell_type": "code",
   "execution_count": null,
   "metadata": {},
   "outputs": [],
   "source": [
    "import numpy as np\n",
    "from numpy import genfromtxt\n",
    "import csv\n",
    "import os\n",
    "\n",
    "import pysindy as ps\n",
    "\n",
    "import deepSI\n",
    "from deepSI import System_data\n",
    "\n",
    "import matplotlib.pyplot as plt"
   ]
  },
  {
   "cell_type": "code",
   "execution_count": null,
   "metadata": {},
   "outputs": [],
   "source": [
    "def NRMS(y_pred, y_true):\n",
    "    RMS = np.sqrt(np.mean((y_pred-y_true)**2))\n",
    "    return RMS/np.std(y_true)\n",
    "\n",
    "def center(y):\n",
    "    return y-np.mean(y)"
   ]
  }
 ],
 "metadata": {
  "kernelspec": {
   "display_name": "test",
   "language": "python",
   "name": "python3"
  },
  "language_info": {
   "name": "python",
   "version": "3.12.2"
  }
 },
 "nbformat": 4,
 "nbformat_minor": 2
}
