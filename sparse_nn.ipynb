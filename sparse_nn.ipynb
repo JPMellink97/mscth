{
 "cells": [
  {
   "cell_type": "code",
   "execution_count": 40,
   "metadata": {},
   "outputs": [],
   "source": [
    "import numpy as np\n",
    "import pysindy as ps\n",
    "\n",
    "from scipy.integrate import solve_ivp\n",
    "from pysindy.utils import linear_damped_SHO, cubic_damped_SHO, van_der_pol\n",
    "\n",
    "import matplotlib.pyplot as plt\n",
    "\n",
    "from numpy import genfromtxt\n",
    "\n",
    "import deepSI\n",
    "from deepSI import System_data\n",
    "\n",
    "import torch\n",
    "from torch import nn\n",
    "from torch.nn import functional as F\n",
    "\n",
    "import csv\n",
    "import os"
   ]
  },
  {
   "cell_type": "code",
   "execution_count": 41,
   "metadata": {},
   "outputs": [],
   "source": [
    "integrator_keywords = {}\n",
    "integrator_keywords['rtol'] = 1e-12\n",
    "integrator_keywords['method'] = 'LSODA'\n",
    "integrator_keywords['atol'] = 1e-12\n",
    "\n",
    "# training data\n",
    "dt = 0.01\n",
    "t_train = np.arange(0, 25, dt)\n",
    "t_train_span = (t_train[0], t_train[-1])\n",
    "x0_train = [2, 0]\n",
    "x_train = solve_ivp(van_der_pol, t_train_span,\n",
    "                    x0_train, t_eval=t_train, **integrator_keywords).y.T\n",
    "\n",
    "# training data\n",
    "t_test = np.arange(0, 25, dt)\n",
    "t_test_span = (t_test[0], t_test[-1])\n",
    "x0_test = [0.1, 0.5]\n",
    "x_test = solve_ivp(van_der_pol, t_test_span,\n",
    "                    x0_test, t_eval=t_test, **integrator_keywords).y.T"
   ]
  },
  {
   "cell_type": "code",
   "execution_count": 42,
   "metadata": {},
   "outputs": [],
   "source": [
    "def normalize(y):\n",
    "  y_mu = np.mean(y)\n",
    "  y_std = np.std(y)\n",
    "  y_norm = (y-y_mu)/y_std\n",
    "\n",
    "  return y_norm, y_std, y_mu"
   ]
  },
  {
   "cell_type": "code",
   "execution_count": 43,
   "metadata": {},
   "outputs": [],
   "source": [
    "# generate function set\n",
    "x_train, x_std, x_mu = normalize(x_train)\n",
    "\n",
    "degree = 2\n",
    "\n",
    "train_x = x_train[:-1,:]\n",
    "Theta = torch.as_tensor(np.array(ps.PolynomialLibrary(degree=degree).fit(train_x).transform(train_x))).to(torch.float32)\n",
    "\n",
    "target_x = torch.as_tensor(x_train[1:,:]).to(torch.float32)\n",
    "\n",
    "test_x = x_test[:-1,:]\n",
    "Theta_test = torch.as_tensor(np.array(ps.PolynomialLibrary(degree=degree).fit(test_x).transform(test_x))).to(torch.float32)\n",
    "target_x_test = torch.as_tensor(x_test[1:,:]).to(torch.float32)"
   ]
  },
  {
   "cell_type": "code",
   "execution_count": 44,
   "metadata": {},
   "outputs": [],
   "source": [
    "import torch\n",
    "from torch import nn\n",
    "from torch.nn import functional as F\n",
    "\n",
    "class MLP(torch.nn.Module):\n",
    "    def __init__(self, n_in, n_out, threshold=0):\n",
    "        super(MLP, self).__init__()\n",
    "        \n",
    "        self.layer = nn.Linear(n_in, n_out) if threshold==0 else PruningLinear(n_in, n_out, threshold)\n",
    "        # self.layer = \n",
    "\n",
    "    def forward(self, x):\n",
    "        out = self.layer(x)\n",
    "        return out\n",
    "    \n",
    "class PruningLinear(torch.nn.Linear):\n",
    "    def __init__(self, in_features, out_features, threshold, **kwargs):\n",
    "        super(PruningLinear, self).__init__(in_features, out_features, **kwargs)\n",
    "        self.threshold = threshold\n",
    "\n",
    "    def forward(self, input):\n",
    "        weight = self.weight.clone()\n",
    "        weight[torch.abs(weight) < self.threshold] = 0\n",
    "        self.weight = nn.Parameter(weight)\n",
    "        return F.linear(input, self.weight, self.bias)\n",
    "    "
   ]
  },
  {
   "cell_type": "code",
   "execution_count": 45,
   "metadata": {},
   "outputs": [],
   "source": [
    "n_in = Theta.shape[-1]\n",
    "n_out = target_x.shape[-1]\n",
    "\n",
    "model = MLP(n_in, n_out)"
   ]
  },
  {
   "cell_type": "code",
   "execution_count": 46,
   "metadata": {},
   "outputs": [],
   "source": [
    "optimizer = torch.optim.Adam(model.parameters(), lr=1e-4)"
   ]
  },
  {
   "cell_type": "code",
   "execution_count": 47,
   "metadata": {},
   "outputs": [],
   "source": [
    "def SINDyLoss(X, Theta, Xi, l):\n",
    "    # reg_loss = torch.sum(1/(X.shape[0]) * torch.sqrt((X-torch.matmul(Theta,torch.transpose(Xi,0,1)))**2)**2)\n",
    "    reg_loss = 1/X.shape[0] *torch.sum(torch.abs(X-torch.matmul(Theta,torch.transpose(Xi,0,1)))**2)\n",
    "    l1_loss = l**2*torch.sum(torch.abs(Xi))\n",
    "    return reg_loss, l1_loss\n",
    "\n",
    "def SINDyLoss2(X_pred, X_true, Theta, Xi, l):\n",
    "    # reg_loss = torch.sum(1/(X.shape[0]) * torch.sqrt((X-torch.matmul(Theta,torch.transpose(Xi,0,1)))**2)**2)\n",
    "    reg_loss = 1/X_true.shape[0] *torch.sum(torch.abs(X_true-torch.matmul(Theta,torch.transpose(Xi,0,1)))**2)\n",
    "    pred_loss = 1/X_true.shape[0] *torch.sum(torch.abs(X_true-X_pred)**2)\n",
    "    l1_loss = l**2*torch.sum(torch.abs(Xi))\n",
    "    return reg_loss, pred_loss, l1_loss"
   ]
  },
  {
   "cell_type": "code",
   "execution_count": 48,
   "metadata": {},
   "outputs": [
    {
     "name": "stdout",
     "output_type": "stream",
     "text": [
      "Epoch 2500 train loss: 3.31983\n",
      "reg loss 1.66393, pred loss 1.65589, l1 loss: 0.00000\n",
      "Epoch 5000 train loss: 1.89550\n",
      "reg loss 0.94847, pred loss 0.94703, l1 loss: 0.00000\n",
      "Epoch 7500 train loss: 1.00473\n",
      "reg loss 0.50246, pred loss 0.50227, l1 loss: 0.00000\n",
      "Epoch 10000 train loss: 0.45886\n",
      "reg loss 0.22946, pred loss 0.22941, l1 loss: 0.00000\n",
      "Epoch 12500 train loss: 0.15329\n",
      "reg loss 0.07665, pred loss 0.07665, l1 loss: 0.00000\n",
      "Epoch 15000 train loss: 0.02401\n",
      "reg loss 0.01201, pred loss 0.01200, l1 loss: 0.00000\n",
      "Epoch 17500 train loss: 0.00050\n",
      "reg loss 0.00025, pred loss 0.00025, l1 loss: 0.00000\n",
      "Epoch 20000 train loss: 0.00005\n",
      "reg loss 0.00002, pred loss 0.00002, l1 loss: 0.00000\n",
      "Epoch 22500 train loss: 0.00005\n",
      "reg loss 0.00002, pred loss 0.00002, l1 loss: 0.00000\n",
      "Epoch 25000 train loss: 0.00005\n",
      "reg loss 0.00002, pred loss 0.00002, l1 loss: 0.00000\n"
     ]
    }
   ],
   "source": [
    "epochs = 25000\n",
    "\n",
    "lambda_1 = 0\n",
    "\n",
    "losses = []\n",
    "\n",
    "for epo in range(epochs):\n",
    "    optimizer.zero_grad()\n",
    "    output = model(Theta)\n",
    "\n",
    "    # loss\n",
    "    Xi = [*model.parameters()][0]\n",
    "    reg, pred, l1 = SINDyLoss2(output, target_x, Theta, Xi, lambda_1)\n",
    "    loss = reg+l1+pred\n",
    "    losses.append(loss.detach().numpy())\n",
    "\n",
    "    loss.backward()\n",
    "\n",
    "    optimizer.step()\n",
    "    if (epo%(epochs//10)==0 or epo==epochs-1) and epo != 0:\n",
    "        epo_p = epo if epo != epochs-1 else epo+1\n",
    "        print(\"Epoch {} train loss: {:.5f}\".format(epo_p, loss))\n",
    "        print(\"reg loss {:.5f}, pred loss {:.5f}, l1 loss: {:.5f}\".format(reg, pred, l1))"
   ]
  },
  {
   "cell_type": "code",
   "execution_count": 49,
   "metadata": {},
   "outputs": [
    {
     "data": {
      "text/plain": [
       "array([0.00011045, 0.0049091 ], dtype=float32)"
      ]
     },
     "execution_count": 49,
     "metadata": {},
     "output_type": "execute_result"
    }
   ],
   "source": [
    "test_pred = model(Theta_test).detach().numpy()\n",
    "test_true = target_x_test.detach().numpy()\n",
    "np.sum(np.abs(test_pred-test_true), axis=0)/test_pred.shape[0]"
   ]
  },
  {
   "cell_type": "code",
   "execution_count": 55,
   "metadata": {},
   "outputs": [],
   "source": [
    "threshold = 0.002\n",
    "params = [x.detach().numpy() for x in model.parameters()][0]\n",
    "NN_p = params[np.abs(params) > threshold]"
   ]
  },
  {
   "cell_type": "code",
   "execution_count": 51,
   "metadata": {},
   "outputs": [
    {
     "name": "stdout",
     "output_type": "stream",
     "text": [
      "(x0)[k+1] = 0.99995 x0[k] + 0.01000 x1[k]\n",
      "(x1)[k+1] = -0.01001 x0[k] + 1.00493 x1[k] + -0.01006 x0[k]^2 x1[k]\n"
     ]
    }
   ],
   "source": [
    "poly_order = 3\n",
    "threshold = 0.002\n",
    "\n",
    "s_model = ps.SINDy(\n",
    "    optimizer=ps.STLSQ(threshold=threshold),\n",
    "    feature_library=ps.PolynomialLibrary(degree=poly_order),\n",
    "    discrete_time=True\n",
    ")\n",
    "s_model.fit(x_train, t=dt)\n",
    "s_model.print(precision=5)\n",
    "\n",
    "\n",
    "# plt.plot(x_train[0:2500])\n",
    "# plt.plot(x_train[0:2500,:]-model.simulate(x_train[0],t=2500))"
   ]
  },
  {
   "cell_type": "code",
   "execution_count": 52,
   "metadata": {},
   "outputs": [],
   "source": [
    "coeff = s_model.coefficients()\n",
    "S_p = coeff[coeff != 0]"
   ]
  },
  {
   "cell_type": "code",
   "execution_count": 56,
   "metadata": {},
   "outputs": [
    {
     "data": {
      "text/plain": [
       "(array([ 0.9999509 ,  0.01001487,  0.00220353, -0.00981096,  1.0000433 ],\n",
       "       dtype=float32),\n",
       " array([ 0.99995258,  0.0099986 , -0.0100088 ,  1.00493408, -0.01005527]))"
      ]
     },
     "execution_count": 56,
     "metadata": {},
     "output_type": "execute_result"
    }
   ],
   "source": [
    "NN_p, S_p"
   ]
  },
  {
   "cell_type": "code",
   "execution_count": null,
   "metadata": {},
   "outputs": [
    {
     "data": {
      "text/plain": [
       "(-1.0, 30.0)"
      ]
     },
     "execution_count": 29,
     "metadata": {},
     "output_type": "execute_result"
    },
    {
     "data": {
      "image/png": "[encoded data removed]",
      "text/plain": [
       "<Figure size 640x480 with 1 Axes>"
      ]
     },
     "metadata": {},
     "output_type": "display_data"
    }
   ],
   "source": [
    "x_1 = x_train[:-1]\n",
    "x_true = x_train[1:]\n",
    "x1_c = [0.99878565,  0.01999398]#\n",
    "x2_c = [-0.0199617 ,  0.99878345]#\n",
    "x0 = x_1[0]\n",
    "\n",
    "x_pred = []\n",
    "x_sim = [x0]\n",
    "\n",
    "for idx, x in enumerate(x_1):\n",
    "  x_pred.append(np.array([x1_c[0]*x[0]+x1_c[1]*x[1], x2_c[0]*x[0]+x2_c[1]*x[1]]))\n",
    "  x_sim.append(np.array([x1_c[0]*x_sim[idx][0]+x1_c[1]*x_sim[idx][1], x2_c[0]*x_sim[idx][0]+x2_c[1]*x_sim[idx][1]]))\n",
    "\n",
    "x_sim.pop(0)\n",
    "\n",
    "\n",
    "plt.plot(range(0,x_true.shape[0]), x_true,\"*\")\n",
    "plt.plot(range(0,x_1.shape[0]),x_1,'o')\n",
    "plt.plot(range(0,len(x_pred)),x_pred,'--')\n",
    "plt.plot(range(0,len(x_sim)),x_sim,'-o')\n",
    "plt.xlim([-1, 30])"
   ]
  }
 ],
 "metadata": {
  "kernelspec": {
   "display_name": "sindy",
   "language": "python",
   "name": "python3"
  },
  "language_info": {
   "codemirror_mode": {
    "name": "ipython",
    "version": 3
   },
   "file_extension": ".py",
   "mimetype": "text/x-python",
   "name": "python",
   "nbconvert_exporter": "python",
   "pygments_lexer": "ipython3",
   "version": "3.12.1"
  }
 },
 "nbformat": 4,
 "nbformat_minor": 2
}
