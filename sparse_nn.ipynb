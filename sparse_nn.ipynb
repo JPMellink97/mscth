{
 "cells": [
  {
   "cell_type": "code",
   "execution_count": 1,
   "metadata": {},
   "outputs": [
    {
     "name": "stderr",
     "output_type": "stream",
     "text": [
      "c:\\Users\\20173928\\Miniconda3\\envs\\sindy\\Lib\\site-packages\\tqdm\\auto.py:21: TqdmWarning: IProgress not found. Please update jupyter and ipywidgets. See https://ipywidgets.readthedocs.io/en/stable/user_install.html\n",
      "  from .autonotebook import tqdm as notebook_tqdm\n"
     ]
    }
   ],
   "source": [
    "import numpy as np\n",
    "import pysindy as ps\n",
    "\n",
    "from scipy.integrate import solve_ivp\n",
    "from pysindy.utils import linear_damped_SHO, cubic_damped_SHO, van_der_pol, lotka\n",
    "\n",
    "import matplotlib.pyplot as plt\n",
    "\n",
    "from numpy import genfromtxt\n",
    "\n",
    "import deepSI\n",
    "from deepSI import System_data\n",
    "\n",
    "import torch\n",
    "from torch import nn\n",
    "from torch.nn import functional as F\n",
    "\n",
    "import csv\n",
    "import os\n",
    "\n",
    "from scipy.io import loadmat"
   ]
  },
  {
   "cell_type": "code",
   "execution_count": 2,
   "metadata": {},
   "outputs": [],
   "source": [
    "# integrator_keywords = {}\n",
    "# integrator_keywords['rtol'] = 1e-12\n",
    "# integrator_keywords['method'] = 'LSODA'\n",
    "# integrator_keywords['atol'] = 1e-12\n",
    "\n",
    "# # training data\n",
    "# dt = 0.01\n",
    "# t_train = np.arange(0, 25, dt)\n",
    "# t_train_span = (t_train[0], t_train[-1])\n",
    "# x0_train = [2, 0]\n",
    "# x_train = solve_ivp(van_der_pol, t_train_span,\n",
    "#                     x0_train, t_eval=t_train, **integrator_keywords).y.T\n",
    "\n",
    "# # training data\n",
    "# t_test = np.arange(0, 25, dt)\n",
    "# t_test_span = (t_test[0], t_test[-1])\n",
    "# x0_test = [0.1, 0.5]\n",
    "# x_test = solve_ivp(van_der_pol, t_test_span,\n",
    "#                     x0_test, t_eval=t_test, **integrator_keywords).y.T\n",
    "\n",
    "u_train = None\n",
    "u_test = None"
   ]
  },
  {
   "cell_type": "code",
   "execution_count": 3,
   "metadata": {},
   "outputs": [],
   "source": [
    "# data dir and file\n",
    "save_dir = r\"C:\\Users\\20173928\\OneDrive - TU Eindhoven\\Documents\\Master\\thesis\\mscth\\data\"\n",
    "\n",
    "out = loadmat(os.path.join(save_dir,'Silverbox_full_state_low_error.mat'))\n",
    "x_data = out['xOptTot']\n",
    "\n",
    "save_dir = r\"C:\\Users\\20173928\\OneDrive - TU Eindhoven\\Documents\\Master\\thesis\\mscth\\data\"\n",
    "out = loadmat(os.path.join(save_dir,'Silverbox_u_upsampled.mat'))\n",
    "u = out['u']\n",
    "\n",
    "dt =1"
   ]
  },
  {
   "cell_type": "code",
   "execution_count": 4,
   "metadata": {},
   "outputs": [],
   "source": [
    "nr_sample = 400000\n",
    "idx_start = 800000\n",
    "\n",
    "# trim since batchting not implemented\n",
    "x_train = x_data[idx_start:idx_start+nr_sample,:]\n",
    "u_train = u[idx_start:idx_start+nr_sample,:]\n",
    "\n",
    "x_train = np.c_[x_train, u_train]\n",
    "\n",
    "# test\n",
    "x_test = x_data[0:nr_sample,:]\n",
    "u_test = u[0:nr_sample,:]\n",
    "\n",
    "x_test = np.c_[x_test, u_test]"
   ]
  },
  {
   "cell_type": "code",
   "execution_count": 5,
   "metadata": {},
   "outputs": [],
   "source": [
    "def normalize(y):\n",
    "  y_mu = np.mean(y)\n",
    "  y_std = np.std(y)\n",
    "  y_norm = (y-y_mu)/y_std\n",
    "\n",
    "  return y_norm, y_std, y_mu"
   ]
  },
  {
   "cell_type": "code",
   "execution_count": 6,
   "metadata": {},
   "outputs": [],
   "source": [
    "# generate function set\n",
    "x_train, x_std, x_mu = normalize(x_train)\n",
    "\n",
    "degree = 3\n",
    "\n",
    "# train\n",
    "train_x = x_train[:-1,:]\n",
    "Theta = torch.as_tensor(np.array(ps.PolynomialLibrary(degree=degree).fit(train_x).transform(train_x))).to(torch.float32)\n",
    "\n",
    "if u_train is not None:\n",
    "  target_x = torch.as_tensor(x_train[1:,:-1]).to(torch.float32)\n",
    "else:\n",
    "  target_x = torch.as_tensor(x_train[1:,:]).to(torch.float32)\n",
    "\n",
    "# test\n",
    "test_x = x_test[:-1,:]\n",
    "Theta_test = torch.as_tensor(np.array(ps.PolynomialLibrary(degree=degree).fit(test_x).transform(test_x))).to(torch.float32)\n",
    "if u_test is not None:\n",
    "  target_x_test = torch.as_tensor(x_test[1:,:-1]).to(torch.float32)\n",
    "else:  \n",
    "  target_x_test = torch.as_tensor(x_test[1:,:]).to(torch.float32)"
   ]
  },
  {
   "cell_type": "code",
   "execution_count": 7,
   "metadata": {},
   "outputs": [],
   "source": [
    "import torch\n",
    "from torch import nn\n",
    "from torch.nn import functional as F\n",
    "\n",
    "class MLP(torch.nn.Module):\n",
    "    def __init__(self, n_in, n_out):#, threshold=0):\n",
    "        super(MLP, self).__init__()\n",
    "        \n",
    "        self.layer = nn.Linear(n_in, n_out, bias=False)# if threshold==0 else PruningLinear(n_in, n_out, threshold)\n",
    "        # self.layer = \n",
    "\n",
    "    def forward(self, x):\n",
    "        out = self.layer(x)\n",
    "        return out\n",
    "    \n",
    "# class PruningLinear(torch.nn.Linear):\n",
    "#     def __init__(self, in_features, out_features, threshold, **kwargs):\n",
    "#         super(PruningLinear, self).__init__(in_features, out_features, **kwargs)\n",
    "#         self.threshold = threshold\n",
    "\n",
    "#     def forward(self, input):\n",
    "#         weight = self.weight.clone()\n",
    "#         weight[torch.abs(weight) < self.threshold] = 0\n",
    "#         self.weight = nn.Parameter(weight)\n",
    "#         return F.linear(input, self.weight, self.bias)\n",
    "    \n",
    "def prune_weights(model, threshold=1e-6):\n",
    "    for name, param in model.named_parameters():\n",
    "        if 'weight' in name:\n",
    "            param.data[param.data.abs() < threshold] = 0"
   ]
  },
  {
   "cell_type": "code",
   "execution_count": 8,
   "metadata": {},
   "outputs": [],
   "source": [
    "n_in = Theta.shape[-1]\n",
    "n_out = target_x.shape[-1]\n",
    "\n",
    "model = MLP(n_in, n_out)"
   ]
  },
  {
   "cell_type": "code",
   "execution_count": 9,
   "metadata": {},
   "outputs": [],
   "source": [
    "optimizer = torch.optim.Adam(model.parameters(), lr=1e-4)"
   ]
  },
  {
   "cell_type": "code",
   "execution_count": 10,
   "metadata": {},
   "outputs": [],
   "source": [
    "def SINDyLoss(X, Theta, Xi, l):\n",
    "    # reg_loss = torch.sum(1/(X.shape[0]) * torch.sqrt((X-torch.matmul(Theta,torch.transpose(Xi,0,1)))**2)**2)\n",
    "    reg_loss = 1/X.shape[0] *torch.sum(torch.abs(X-torch.matmul(Theta,torch.transpose(Xi,0,1)))**2)\n",
    "    l1_loss = l**2*torch.sum(torch.abs(Xi))\n",
    "    return reg_loss, l1_loss\n",
    "\n",
    "def SINDyLoss2(X_pred, X_true, Theta, Xi, l):\n",
    "    params = [x.view(-1) for x in Xi]\n",
    "    l1_params = torch.cat(params)\n",
    "    Xi = Xi[0]\n",
    "    reg_loss = 1/X_true.shape[0] *torch.sum(torch.abs(X_true-torch.matmul(Theta,torch.transpose(Xi,0,1)))**2)\n",
    "    pred_loss = 1/X_true.shape[0] *torch.sum(torch.abs(X_true-X_pred)**2)\n",
    "    l1_loss = l*torch.norm(l1_params, 1)\n",
    "    return reg_loss, pred_loss, l1_loss"
   ]
  },
  {
   "cell_type": "code",
   "execution_count": 11,
   "metadata": {},
   "outputs": [
    {
     "name": "stdout",
     "output_type": "stream",
     "text": [
      "Epoch 1 train loss: 1.3829165697\n",
      "reg loss 0.6915, pred loss 0.6915, l1 loss: 0.0000\n",
      "Epoch 2 train loss: 1.5358994007\n",
      "reg loss 0.7679, pred loss 0.7679, l1 loss: 0.0000\n",
      "Epoch 3 train loss: 1.5841004848\n",
      "reg loss 0.7921, pred loss 0.7921, l1 loss: 0.0000\n",
      "Epoch 4 train loss: 1.5087165833\n",
      "reg loss 0.7544, pred loss 0.7544, l1 loss: 0.0000\n",
      "Epoch 5 train loss: 1.3514966965\n",
      "reg loss 0.6757, pred loss 0.6757, l1 loss: 0.0000\n",
      "Epoch 6 train loss: 1.1616554260\n",
      "reg loss 0.5808, pred loss 0.5808, l1 loss: 0.0000\n",
      "Epoch 7 train loss: 0.9715269804\n",
      "reg loss 0.4858, pred loss 0.4858, l1 loss: 0.0000\n",
      "Epoch 8 train loss: 0.7950370908\n",
      "reg loss 0.3975, pred loss 0.3975, l1 loss: 0.0000\n",
      "Epoch 10 train loss: 0.6363755465\n",
      "reg loss 0.3182, pred loss 0.3182, l1 loss: 0.0000\n"
     ]
    }
   ],
   "source": [
    "epochs = 10\n",
    "\n",
    "lambda_1 = 0\n",
    "\n",
    "batch_size = 256\n",
    "n_batches = Theta.shape[0]//batch_size\n",
    "\n",
    "losses = []\n",
    "\n",
    "for epo in range(epochs):\n",
    "    for batch in range(n_batches):\n",
    "        Theta_b    = Theta[batch*batch_size:batch*batch_size+batch_size,:]\n",
    "        target_x_b = target_x[batch*batch_size:batch*batch_size+batch_size,:]\n",
    "\n",
    "        optimizer.zero_grad()\n",
    "        output = model(Theta_b)\n",
    "\n",
    "        # loss\n",
    "        Xi = [*model.parameters()]\n",
    "        \n",
    "        # if epo>(epochs*1/4) and epo<(epochs*19/20):\n",
    "        #     lambda_1 = 0.05\n",
    "        # elif epo>(epochs*19/20):\n",
    "        #     lambda_1 = 0\n",
    "        #     prune_weights(model, threshold=1e-6)\n",
    "\n",
    "        reg, pred, l1 = SINDyLoss2(output, target_x_b, Theta_b, Xi, lambda_1)\n",
    "        loss = reg+l1+pred\n",
    "        losses.append(loss.detach().numpy())\n",
    "\n",
    "        loss.backward()\n",
    "\n",
    "        optimizer.step()\n",
    "\n",
    "    if (epo%(epochs//10)==0 or epo==epochs-1) and epo != 0:\n",
    "        epo_p = epo if epo != epochs-1 else epo+1\n",
    "        print(\"Epoch {} train loss: {:.10f}\".format(epo_p, loss))\n",
    "        print(\"reg loss {:.4f}, pred loss {:.4f}, l1 loss: {:.4f}\".format(reg, pred, l1))"
   ]
  },
  {
   "cell_type": "code",
   "execution_count": 12,
   "metadata": {},
   "outputs": [],
   "source": [
    "# test_pred = model(Theta_test).detach().numpy()\n",
    "# test_true = target_x_test.detach().numpy()\n",
    "# np.sum(np.abs(test_pred-test_true), axis=0)/test_pred.shape[0]\n"
   ]
  },
  {
   "cell_type": "code",
   "execution_count": 13,
   "metadata": {},
   "outputs": [
    {
     "data": {
      "text/plain": [
       "<All keys matched successfully>"
      ]
     },
     "execution_count": 13,
     "metadata": {},
     "output_type": "execute_result"
    }
   ],
   "source": [
    "# the_model = MLP(n_in, n_out)\n",
    "# the_model.load_state_dict(torch.load(\"test\"))"
   ]
  },
  {
   "cell_type": "code",
   "execution_count": 14,
   "metadata": {},
   "outputs": [],
   "source": [
    "threshold = 0\n",
    "params = [x.detach().numpy() for x in model.parameters()][0]\n",
    "\n",
    "NN_p_1 = params[0, np.abs(params[0,:]) > threshold]\n",
    "NN_p_2 = params[1, np.abs(params[1,:]) > threshold]\n",
    "NN_p = [NN_p_1, NN_p_2]"
   ]
  },
  {
   "cell_type": "code",
   "execution_count": 15,
   "metadata": {},
   "outputs": [
    {
     "name": "stdout",
     "output_type": "stream",
     "text": [
      "(x0)[k+1] = 0.04861 1 + 1.00000 x0[k] + 1.00000 x1[k]\n",
      "(x1)[k+1] = -0.00055 1 + -0.00124 x0[k] + 0.99527 x1[k] + 0.03577 u0[k] + -0.00001 x0[k]^3\n"
     ]
    }
   ],
   "source": [
    "feature_library=ps.PolynomialLibrary(degree=degree)\n",
    "\n",
    "s_model = ps.SINDy(\n",
    "    optimizer=ps.STLSQ(threshold=0),\n",
    "    feature_library=feature_library,\n",
    "    discrete_time=True\n",
    ")\n",
    "if u_train is not None:\n",
    "    s_model.fit(x_train[:,:-1], u=u_train, t=dt)\n",
    "else:\n",
    "    s_model.fit(x_train, t=dt)\n",
    "s_model.print(precision=5)\n",
    "\n",
    "\n",
    "# plt.plot(x_train[0:2500])\n",
    "# plt.plot(x_train[0:2500,:]-model.simulate(x_train[0],t=2500))"
   ]
  },
  {
   "cell_type": "code",
   "execution_count": 16,
   "metadata": {},
   "outputs": [],
   "source": [
    "coeff = s_model.coefficients()\n",
    "\n",
    "S_p_1 = coeff[0, np.abs(coeff[0,:]) > threshold]\n",
    "S_p_2 = coeff[1, np.abs(coeff[1,:]) > threshold]\n",
    "S_p = [S_p_1, S_p_2]"
   ]
  },
  {
   "cell_type": "code",
   "execution_count": 29,
   "metadata": {},
   "outputs": [
    {
     "data": {
      "image/png": "[encoded data removed]",
      "text/plain": [
       "<Figure size 640x480 with 1 Axes>"
      ]
     },
     "metadata": {},
     "output_type": "display_data"
    },
    {
     "data": {
      "image/png": "[encoded data removed]",
      "text/plain": [
       "<Figure size 640x480 with 1 Axes>"
      ]
     },
     "metadata": {},
     "output_type": "display_data"
    }
   ],
   "source": [
    "plt.semilogy(np.abs(NN_p[0]),\"*\", markersize=14)\n",
    "plt.semilogy(np.abs(S_p[0]),\"o\")\n",
    "plt.xticks(np.arange(NN_p[0].shape[0]), s_model.get_feature_names(), rotation=90)\n",
    "plt.xlabel(\"Function [-]\")\n",
    "plt.ylabel(\"Absolute coefficient [-]\")\n",
    "plt.grid()\n",
    "plt.show()\n",
    "\n",
    "plt.semilogy(np.abs(NN_p[1]),\"*\", markersize=14)\n",
    "plt.semilogy(np.abs(S_p[1]),\"o\")\n",
    "plt.xticks(np.arange(NN_p[0].shape[0]), s_model.get_feature_names(), rotation=90)\n",
    "plt.xlabel(\"Function [-]\")\n",
    "plt.ylabel(\"Absolute coefficient [-]\")\n",
    "plt.grid()\n",
    "plt.show()"
   ]
  },
  {
   "cell_type": "code",
   "execution_count": 18,
   "metadata": {},
   "outputs": [],
   "source": [
    "# x_1 = x_train[:-1]\n",
    "# x_true = x_train[1:]\n",
    "# x1_c = [0.99878565,  0.01999398]#\n",
    "# x2_c = [-0.0199617 ,  0.99878345]#\n",
    "# x0 = x_1[0]\n",
    "\n",
    "# x_pred = []\n",
    "# x_sim = [x0]\n",
    "\n",
    "# for idx, x in enumerate(x_1):\n",
    "#   x_pred.append(np.array([x1_c[0]*x[0]+x1_c[1]*x[1], x2_c[0]*x[0]+x2_c[1]*x[1]]))\n",
    "#   x_sim.append(np.array([x1_c[0]*x_sim[idx][0]+x1_c[1]*x_sim[idx][1], x2_c[0]*x_sim[idx][0]+x2_c[1]*x_sim[idx][1]]))\n",
    "\n",
    "# x_sim.pop(0)\n",
    "\n",
    "\n",
    "# plt.plot(range(0,x_true.shape[0]), x_true,\"*\")\n",
    "# plt.plot(range(0,x_1.shape[0]),x_1,'o')\n",
    "# plt.plot(range(0,len(x_pred)),x_pred,'--')\n",
    "# plt.plot(range(0,len(x_sim)),x_sim,'-o')\n",
    "# plt.xlim([-1, 30])"
   ]
  }
 ],
 "metadata": {
  "kernelspec": {
   "display_name": "sindy",
   "language": "python",
   "name": "python3"
  },
  "language_info": {
   "codemirror_mode": {
    "name": "ipython",
    "version": 3
   },
   "file_extension": ".py",
   "mimetype": "text/x-python",
   "name": "python",
   "nbconvert_exporter": "python",
   "pygments_lexer": "ipython3",
   "version": "3.12.1"
  }
 },
 "nbformat": 4,
 "nbformat_minor": 2
}
