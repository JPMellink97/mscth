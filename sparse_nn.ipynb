{
 "cells": [
  {
   "cell_type": "code",
   "execution_count": 1,
   "metadata": {},
   "outputs": [
    {
     "name": "stderr",
     "output_type": "stream",
     "text": [
      "c:\\Users\\20173928\\Miniconda3\\envs\\sindy\\Lib\\site-packages\\tqdm\\auto.py:21: TqdmWarning: IProgress not found. Please update jupyter and ipywidgets. See https://ipywidgets.readthedocs.io/en/stable/user_install.html\n",
      "  from .autonotebook import tqdm as notebook_tqdm\n"
     ]
    }
   ],
   "source": [
    "import numpy as np\n",
    "import pysindy as ps\n",
    "\n",
    "from scipy.integrate import solve_ivp\n",
    "from pysindy.utils import linear_damped_SHO, cubic_damped_SHO, van_der_pol, lotka\n",
    "\n",
    "import matplotlib.pyplot as plt\n",
    "\n",
    "from numpy import genfromtxt\n",
    "\n",
    "import deepSI\n",
    "from deepSI import System_data\n",
    "\n",
    "import torch\n",
    "from torch import nn\n",
    "from torch.nn import functional as F\n",
    "\n",
    "import csv\n",
    "import os\n",
    "\n",
    "from scipy.io import loadmat"
   ]
  },
  {
   "cell_type": "code",
   "execution_count": 2,
   "metadata": {},
   "outputs": [],
   "source": [
    "# integrator_keywords = {}\n",
    "# integrator_keywords['rtol'] = 1e-12\n",
    "# integrator_keywords['method'] = 'LSODA'\n",
    "# integrator_keywords['atol'] = 1e-12\n",
    "\n",
    "# # training data\n",
    "# dt = 0.01\n",
    "# t_train = np.arange(0, 25, dt)\n",
    "# t_train_span = (t_train[0], t_train[-1])\n",
    "# x0_train = [2, 0]\n",
    "# x_train = solve_ivp(van_der_pol, t_train_span,\n",
    "#                     x0_train, t_eval=t_train, **integrator_keywords).y.T\n",
    "\n",
    "# # training data\n",
    "# t_test = np.arange(0, 25, dt)\n",
    "# t_test_span = (t_test[0], t_test[-1])\n",
    "# x0_test = [0.1, 0.5]\n",
    "# x_test = solve_ivp(van_der_pol, t_test_span,\n",
    "#                     x0_test, t_eval=t_test, **integrator_keywords).y.T\n",
    "\n",
    "u_train = None\n",
    "u_test = None"
   ]
  },
  {
   "cell_type": "code",
   "execution_count": 3,
   "metadata": {},
   "outputs": [],
   "source": [
    "# data dir and file\n",
    "save_dir = r\"C:\\Users\\20173928\\OneDrive - TU Eindhoven\\Documents\\Master\\thesis\\mscth\\data\"\n",
    "\n",
    "out = loadmat(os.path.join(save_dir,'Silverbox_full_state_low_error.mat'))\n",
    "x_data = out['xOptTot']\n",
    "\n",
    "save_dir = r\"C:\\Users\\20173928\\OneDrive - TU Eindhoven\\Documents\\Master\\thesis\\mscth\\data\"\n",
    "out = loadmat(os.path.join(save_dir,'Silverbox_u_upsampled.mat'))\n",
    "u = out['u']\n",
    "\n",
    "dt =1"
   ]
  },
  {
   "cell_type": "code",
   "execution_count": 4,
   "metadata": {},
   "outputs": [],
   "source": [
    "nr_sample = 400000\n",
    "idx_start = 800000\n",
    "\n",
    "# trim since batchting not implemented\n",
    "x_train = x_data[idx_start:idx_start+nr_sample,:]\n",
    "u_train = u[idx_start:idx_start+nr_sample,:]\n",
    "\n",
    "x_train = np.c_[x_train, u_train]\n",
    "\n",
    "# test\n",
    "x_test = x_data[0:nr_sample,:]\n",
    "u_test = u[0:nr_sample,:]\n",
    "\n",
    "x_test = np.c_[x_test, u_test]"
   ]
  },
  {
   "cell_type": "code",
   "execution_count": 5,
   "metadata": {},
   "outputs": [],
   "source": [
    "def normalize(y):\n",
    "  y_mu = np.mean(y)\n",
    "  y_std = np.std(y)\n",
    "  y_norm = (y-y_mu)/y_std\n",
    "\n",
    "  return y_norm, y_std, y_mu"
   ]
  },
  {
   "cell_type": "code",
   "execution_count": 6,
   "metadata": {},
   "outputs": [],
   "source": [
    "# generate function set\n",
    "x_train, x_std, x_mu = normalize(x_train)\n",
    "\n",
    "degree = 3\n",
    "\n",
    "# train\n",
    "train_x = x_train[:-1,:]\n",
    "Theta = torch.as_tensor(np.array(ps.PolynomialLibrary(degree=degree).fit(train_x).transform(train_x))).to(torch.float32)\n",
    "\n",
    "if u_train is not None:\n",
    "  target_x = torch.as_tensor(x_train[1:,:-1]).to(torch.float32)\n",
    "else:\n",
    "  target_x = torch.as_tensor(x_train[1:,:]).to(torch.float32)\n",
    "\n",
    "# test\n",
    "test_x = x_test[:-1,:]\n",
    "Theta_test = torch.as_tensor(np.array(ps.PolynomialLibrary(degree=degree).fit(test_x).transform(test_x))).to(torch.float32)\n",
    "if u_test is not None:\n",
    "  target_x_test = torch.as_tensor(x_test[1:,:-1]).to(torch.float32)\n",
    "else:  \n",
    "  target_x_test = torch.as_tensor(x_test[1:,:]).to(torch.float32)"
   ]
  },
  {
   "cell_type": "code",
   "execution_count": 7,
   "metadata": {},
   "outputs": [],
   "source": [
    "import torch\n",
    "from torch import nn\n",
    "from torch.nn import functional as F\n",
    "\n",
    "class MLP(torch.nn.Module):\n",
    "    def __init__(self, n_in, n_out):#, threshold=0):\n",
    "        super(MLP, self).__init__()\n",
    "        \n",
    "        self.layer = nn.Linear(n_in, n_out, bias=False)# if threshold==0 else PruningLinear(n_in, n_out, threshold)\n",
    "        # self.layer = \n",
    "\n",
    "    def forward(self, x):\n",
    "        out = self.layer(x)\n",
    "        return out\n",
    "    \n",
    "# class PruningLinear(torch.nn.Linear):\n",
    "#     def __init__(self, in_features, out_features, threshold, **kwargs):\n",
    "#         super(PruningLinear, self).__init__(in_features, out_features, **kwargs)\n",
    "#         self.threshold = threshold\n",
    "\n",
    "#     def forward(self, input):\n",
    "#         weight = self.weight.clone()\n",
    "#         weight[torch.abs(weight) < self.threshold] = 0\n",
    "#         self.weight = nn.Parameter(weight)\n",
    "#         return F.linear(input, self.weight, self.bias)\n",
    "    \n",
    "def prune_weights(model, threshold=1e-6):\n",
    "    for name, param in model.named_parameters():\n",
    "        if 'weight' in name:\n",
    "            param.data[param.data.abs() < threshold] = 0"
   ]
  },
  {
   "cell_type": "code",
   "execution_count": 8,
   "metadata": {},
   "outputs": [],
   "source": [
    "n_in = Theta.shape[-1]\n",
    "n_out = target_x.shape[-1]\n",
    "\n",
    "model = MLP(n_in, n_out)"
   ]
  },
  {
   "cell_type": "code",
   "execution_count": 9,
   "metadata": {},
   "outputs": [],
   "source": [
    "optimizer = torch.optim.Adam(model.parameters(), lr=1e-4)"
   ]
  },
  {
   "cell_type": "code",
   "execution_count": 10,
   "metadata": {},
   "outputs": [],
   "source": [
    "def SINDyLoss(X, Theta, Xi, l):\n",
    "    # reg_loss = torch.sum(1/(X.shape[0]) * torch.sqrt((X-torch.matmul(Theta,torch.transpose(Xi,0,1)))**2)**2)\n",
    "    reg_loss = 1/X.shape[0] *torch.sum(torch.abs(X-torch.matmul(Theta,torch.transpose(Xi,0,1)))**2)\n",
    "    l1_loss = l**2*torch.sum(torch.abs(Xi))\n",
    "    return reg_loss, l1_loss\n",
    "\n",
    "def SINDyLoss2(X_pred, X_true, Theta, Xi, l):\n",
    "    params = [x.view(-1) for x in Xi]\n",
    "    l1_params = torch.cat(params)\n",
    "    Xi = Xi[0]\n",
    "    reg_loss = 1/X_true.shape[0] *torch.sum(torch.abs(X_true-torch.matmul(Theta,torch.transpose(Xi,0,1)))**2)\n",
    "    pred_loss = 1/X_true.shape[0] *torch.sum(torch.abs(X_true-X_pred)**2)\n",
    "    l1_loss = l*torch.norm(l1_params, 1)\n",
    "    return reg_loss, pred_loss, l1_loss"
   ]
  },
  {
   "cell_type": "code",
   "execution_count": 11,
   "metadata": {},
   "outputs": [
    {
     "name": "stdout",
     "output_type": "stream",
     "text": [
      "Epoch 2500 train loss: 1.4831317663\n",
      "reg loss 0.7416, pred loss 0.7416, l1 loss: 0.0000\n",
      "Epoch 5000 train loss: 0.7312438488\n",
      "reg loss 0.3656, pred loss 0.3656, l1 loss: 0.0000\n",
      "Epoch 7500 train loss: 0.3070403934\n",
      "reg loss 0.1535, pred loss 0.1535, l1 loss: 0.0000\n",
      "Epoch 10000 train loss: 0.0912871957\n",
      "reg loss 0.0456, pred loss 0.0456, l1 loss: 0.0000\n",
      "Epoch 12500 train loss: 0.0194139946\n",
      "reg loss 0.0097, pred loss 0.0097, l1 loss: 0.0000\n",
      "Epoch 15000 train loss: 0.0059457934\n",
      "reg loss 0.0030, pred loss 0.0030, l1 loss: 0.0000\n",
      "Epoch 17500 train loss: 0.0020801940\n",
      "reg loss 0.0010, pred loss 0.0010, l1 loss: 0.0000\n",
      "Epoch 20000 train loss: 0.0004116503\n",
      "reg loss 0.0002, pred loss 0.0002, l1 loss: 0.0000\n",
      "Epoch 22500 train loss: 0.0000300967\n",
      "reg loss 0.0000, pred loss 0.0000, l1 loss: 0.0000\n",
      "Epoch 25000 train loss: 0.0000081187\n",
      "reg loss 0.0000, pred loss 0.0000, l1 loss: 0.0000\n"
     ]
    }
   ],
   "source": [
    "epochs = 25000\n",
    "\n",
    "lambda_1 = 1e-4\n",
    "\n",
    "batch_size = Theta.shape[0]\n",
    "n_batches = Theta.shape[0]//batch_size\n",
    "\n",
    "losses = []\n",
    "\n",
    "for epo in range(epochs):\n",
    "    for batch in range(n_batches):\n",
    "        Theta_b    = Theta[batch*batch_size:batch*batch_size+batch_size,:]\n",
    "        target_x_b = target_x[batch*batch_size:batch*batch_size+batch_size,:]\n",
    "\n",
    "        optimizer.zero_grad()\n",
    "        output = model(Theta_b)\n",
    "\n",
    "        # loss\n",
    "        Xi = [*model.parameters()]\n",
    "        \n",
    "        # if epo>(epochs*1/4) and epo<(epochs*19/20):\n",
    "        #     lambda_1 = 0.05\n",
    "        # elif epo>(epochs*19/20):\n",
    "        #     lambda_1 = 0\n",
    "        #     prune_weights(model, threshold=1e-6)\n",
    "\n",
    "        reg, pred, l1 = SINDyLoss2(output, target_x_b, Theta_b, Xi, lambda_1)\n",
    "        loss = reg+l1+pred\n",
    "        losses.append(loss.detach().numpy())\n",
    "\n",
    "        loss.backward()\n",
    "\n",
    "        optimizer.step()\n",
    "\n",
    "    if (epo%(epochs//10)==0 or epo==epochs-1) and epo != 0:\n",
    "        epo_p = epo if epo != epochs-1 else epo+1\n",
    "        print(\"Epoch {} train loss: {:.10f}\".format(epo_p, loss))\n",
    "        print(\"reg loss {:.4f}, pred loss {:.4f}, l1 loss: {:.4f}\".format(reg, pred, l1))"
   ]
  },
  {
   "cell_type": "code",
   "execution_count": 12,
   "metadata": {},
   "outputs": [
    {
     "data": {
      "text/plain": [
       "array([0.04867158, 0.00048973])"
      ]
     },
     "execution_count": 12,
     "metadata": {},
     "output_type": "execute_result"
    }
   ],
   "source": [
    "test_pred = model(Theta_test).detach().numpy()\n",
    "test_true = target_x_test.detach().numpy()\n",
    "np.sum(np.abs(test_pred-test_true), axis=0)/test_pred.shape[0]"
   ]
  },
  {
   "cell_type": "code",
   "execution_count": 13,
   "metadata": {},
   "outputs": [],
   "source": [
    "threshold = 0\n",
    "params = [x.detach().numpy() for x in model.parameters()][0]\n",
    "\n",
    "NN_p_1 = params[0, np.abs(params[0,:]) > threshold]\n",
    "NN_p_2 = params[1, np.abs(params[1,:]) > threshold]\n",
    "NN_p = [NN_p_1, NN_p_2]"
   ]
  },
  {
   "cell_type": "code",
   "execution_count": 14,
   "metadata": {},
   "outputs": [
    {
     "name": "stdout",
     "output_type": "stream",
     "text": [
      "(x0)[k+1] = 0.04861 1 + 1.00000 x0[k] + 1.00000 x1[k]\n",
      "(x1)[k+1] = -0.00055 1 + -0.00124 x0[k] + 0.99527 x1[k] + 0.03577 u0[k] + -0.00001 x0[k]^3\n"
     ]
    }
   ],
   "source": [
    "s_model = ps.SINDy(\n",
    "    optimizer=ps.STLSQ(threshold=0),\n",
    "    feature_library=ps.PolynomialLibrary(degree=degree),\n",
    "    discrete_time=True\n",
    ")\n",
    "if u_train is not None:\n",
    "    s_model.fit(x_train[:,:-1], u=u_train, t=dt)\n",
    "else:\n",
    "    s_model.fit(x_train, t=dt)\n",
    "s_model.print(precision=5)\n",
    "\n",
    "\n",
    "# plt.plot(x_train[0:2500])\n",
    "# plt.plot(x_train[0:2500,:]-model.simulate(x_train[0],t=2500))"
   ]
  },
  {
   "cell_type": "code",
   "execution_count": 15,
   "metadata": {},
   "outputs": [],
   "source": [
    "coeff = s_model.coefficients()\n",
    "\n",
    "S_p_1 = coeff[0, np.abs(coeff[0,:]) > threshold]\n",
    "S_p_2 = coeff[1, np.abs(coeff[1,:]) > threshold]\n",
    "S_p = [S_p_1, S_p_2]"
   ]
  },
  {
   "cell_type": "code",
   "execution_count": 16,
   "metadata": {},
   "outputs": [
    {
     "data": {
      "text/plain": [
       "([array([ 4.8541211e-02,  9.9992543e-01,  9.6975917e-01,  5.5573252e-04,\n",
       "         -1.3412580e-06, -2.1824431e-02,  3.8767059e-04, -2.4377173e-01,\n",
       "          2.1909989e-02, -3.1814803e-04,  6.0077118e-06, -4.2688302e-04,\n",
       "         -4.3196042e-06, -1.9245614e-01,  7.3712743e-03,  1.8431390e-05,\n",
       "          3.1662348e-01,  9.0879932e-02, -5.6639351e-03,  6.2972147e-05],\n",
       "        dtype=float32),\n",
       "  array([-5.0101924e-04, -1.2401164e-03,  9.9525863e-01,  1.2506659e-03,\n",
       "         -1.0018937e-06,  7.3032547e-06, -1.2019365e-07,  4.3204455e-03,\n",
       "         -1.7837748e-04,  3.5361631e-07, -5.8989790e-06, -3.9683000e-06,\n",
       "          5.1221718e-08,  7.9466256e-05, -1.3441038e-06, -8.5493554e-08,\n",
       "          2.6574042e-02, -1.6450483e-03,  4.9097202e-06,  6.0371377e-07],\n",
       "        dtype=float32)],\n",
       " [array([ 4.86083044e-02,  1.00000000e+00,  1.00000000e+00,  2.56386746e-14,\n",
       "          4.06277757e-15,  1.26815872e-16, -1.39960913e-17, -1.70370841e-15,\n",
       "          2.39417398e-14, -1.53508563e-14,  3.01556523e-16, -1.98657508e-16,\n",
       "         -1.86373715e-16, -1.13896398e-15, -3.37241750e-15,  3.16740341e-14,\n",
       "         -8.04185276e-15,  1.33595869e-13,  1.09971009e-13, -6.89939248e-13]),\n",
       "  array([-5.52947580e-04, -1.23989622e-03,  9.95269866e-01,  3.57714246e-02,\n",
       "         -8.47518653e-07,  2.41656295e-16, -1.86098806e-16,  1.25970700e-16,\n",
       "          4.64876896e-15, -3.27557432e-15, -5.81189205e-06, -2.34100518e-18,\n",
       "          5.87422047e-17,  3.10086949e-17,  9.86334763e-17, -1.03618751e-15,\n",
       "         -7.21798125e-16, -4.24079408e-15, -2.79546522e-15,  2.24016944e-14])],\n",
       " (20,),\n",
       " (20,),\n",
       " (20,),\n",
       " (20,))"
      ]
     },
     "execution_count": 16,
     "metadata": {},
     "output_type": "execute_result"
    }
   ],
   "source": [
    "NN_p, S_p, NN_p[0].shape, S_p[0].shape, NN_p[1].shape, S_p[1].shape"
   ]
  },
  {
   "cell_type": "code",
   "execution_count": 17,
   "metadata": {},
   "outputs": [
    {
     "data": {
      "image/png": "[encoded data removed]",
      "text/plain": [
       "<Figure size 640x480 with 1 Axes>"
      ]
     },
     "metadata": {},
     "output_type": "display_data"
    },
    {
     "data": {
      "image/png": "[encoded data removed]",
      "text/plain": [
       "<Figure size 640x480 with 1 Axes>"
      ]
     },
     "metadata": {},
     "output_type": "display_data"
    }
   ],
   "source": [
    "plt.semilogy(np.abs(NN_p[0]),\"*\", markersize=14)\n",
    "plt.semilogy(np.abs(S_p[0]),\"o\")\n",
    "plt.show()\n",
    "\n",
    "plt.semilogy(np.abs(NN_p[1]),\"*\", markersize=14)\n",
    "plt.semilogy(np.abs(S_p[1]),\"o\")\n",
    "plt.show()\n"
   ]
  },
  {
   "cell_type": "code",
   "execution_count": 18,
   "metadata": {},
   "outputs": [],
   "source": [
    "# x_1 = x_train[:-1]\n",
    "# x_true = x_train[1:]\n",
    "# x1_c = [0.99878565,  0.01999398]#\n",
    "# x2_c = [-0.0199617 ,  0.99878345]#\n",
    "# x0 = x_1[0]\n",
    "\n",
    "# x_pred = []\n",
    "# x_sim = [x0]\n",
    "\n",
    "# for idx, x in enumerate(x_1):\n",
    "#   x_pred.append(np.array([x1_c[0]*x[0]+x1_c[1]*x[1], x2_c[0]*x[0]+x2_c[1]*x[1]]))\n",
    "#   x_sim.append(np.array([x1_c[0]*x_sim[idx][0]+x1_c[1]*x_sim[idx][1], x2_c[0]*x_sim[idx][0]+x2_c[1]*x_sim[idx][1]]))\n",
    "\n",
    "# x_sim.pop(0)\n",
    "\n",
    "\n",
    "# plt.plot(range(0,x_true.shape[0]), x_true,\"*\")\n",
    "# plt.plot(range(0,x_1.shape[0]),x_1,'o')\n",
    "# plt.plot(range(0,len(x_pred)),x_pred,'--')\n",
    "# plt.plot(range(0,len(x_sim)),x_sim,'-o')\n",
    "# plt.xlim([-1, 30])"
   ]
  }
 ],
 "metadata": {
  "kernelspec": {
   "display_name": "sindy",
   "language": "python",
   "name": "python3"
  },
  "language_info": {
   "codemirror_mode": {
    "name": "ipython",
    "version": 3
   },
   "file_extension": ".py",
   "mimetype": "text/x-python",
   "name": "python",
   "nbconvert_exporter": "python",
   "pygments_lexer": "ipython3",
   "version": "3.12.1"
  }
 },
 "nbformat": 4,
 "nbformat_minor": 2
}
