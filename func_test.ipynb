{
 "cells": [
  {
   "cell_type": "code",
   "execution_count": 11,
   "metadata": {},
   "outputs": [],
   "source": [
    "import feature_construction as fc\n",
    "import SUBNET_model as Sm\n",
    "import utils\n",
    "\n",
    "import deepSI\n",
    "from deepSI import System_data"
   ]
  },
  {
   "cell_type": "code",
   "execution_count": 12,
   "metadata": {},
   "outputs": [
    {
     "data": {
      "text/plain": [
       "((100000, 2), (100000,), (10000, 2), (10000,))"
      ]
     },
     "execution_count": 12,
     "metadata": {},
     "output_type": "execute_result"
    }
   ],
   "source": [
    "x_data, u_data, y_data, th_data = utils.load_data(pc=0, set=\"SILVERSIN\")\n",
    "\n",
    "train, test = System_data(u=u_data[:100000,0],y=x_data[:100000,:]), System_data(u=u_data[-10000:,0],y=x_data[-10000:,:])\n",
    "\n",
    "train.y.shape, train.u.shape, test.y.shape, test.u.shape"
   ]
  },
  {
   "cell_type": "code",
   "execution_count": 13,
   "metadata": {},
   "outputs": [],
   "source": [
    "functions = [fc.f, fc.sin]\n",
    "\n",
    "poly = fc.feature_library(functions=functions, nx=2, nu=1)"
   ]
  },
  {
   "cell_type": "code",
   "execution_count": 14,
   "metadata": {},
   "outputs": [
    {
     "name": "stdout",
     "output_type": "stream",
     "text": [
      "Initilizing the model and optimizer\n",
      "Size of the training array =  6.1 MB\n",
      "N_training_samples = 99998, batch_size = 99998, N_batch_updates_per_epoch = 1\n",
      "Initial Validation sim-NRMS= 1.0345915860441215\n"
     ]
    },
    {
     "name": "stderr",
     "output_type": "stream",
     "text": [
      " 25%|██▌       | 1/4 [00:01<00:04,  1.58s/it]"
     ]
    },
    {
     "name": "stdout",
     "output_type": "stream",
     "text": [
      "########## New lowest validation loss achieved ########### sim-NRMS = 1.034375874343779\n",
      "Epoch    1, sqrt loss   1.084, Val sim-NRMS  1.034, Time Loss: 1.5%, data: 0.6%, val: 97.8%,  1.6 sec/batch\n"
     ]
    },
    {
     "name": "stderr",
     "output_type": "stream",
     "text": [
      " 50%|█████     | 2/4 [00:03<00:03,  1.58s/it]"
     ]
    },
    {
     "name": "stdout",
     "output_type": "stream",
     "text": [
      "########## New lowest validation loss achieved ########### sim-NRMS = 1.034161130166256\n",
      "Epoch    2, sqrt loss   1.081, Val sim-NRMS  1.034, Time Loss: 1.3%, data: 0.3%, val: 98.4%,  1.6 sec/batch\n"
     ]
    },
    {
     "name": "stderr",
     "output_type": "stream",
     "text": [
      " 75%|███████▌  | 3/4 [00:04<00:01,  1.60s/it]"
     ]
    },
    {
     "name": "stdout",
     "output_type": "stream",
     "text": [
      "########## New lowest validation loss achieved ########### sim-NRMS = 1.0339473522675267\n",
      "Epoch    3, sqrt loss   1.079, Val sim-NRMS  1.034, Time Loss: 1.3%, data: 0.5%, val: 98.2%,  1.6 sec/batch\n"
     ]
    },
    {
     "name": "stderr",
     "output_type": "stream",
     "text": [
      "100%|██████████| 4/4 [00:06<00:00,  1.59s/it]"
     ]
    },
    {
     "name": "stdout",
     "output_type": "stream",
     "text": [
      "########## New lowest validation loss achieved ########### sim-NRMS = 1.0337345392524082\n",
      "Epoch    4, sqrt loss   1.077, Val sim-NRMS  1.034, Time Loss: 1.4%, data: 0.6%, val: 98.0%,  1.6 sec/batch\n",
      "Loaded model with best known validation sim-NRMS of  1.034 which happened on epoch 4 (epoch_id=4.00)\n"
     ]
    },
    {
     "name": "stderr",
     "output_type": "stream",
     "text": [
      "\n"
     ]
    }
   ],
   "source": [
    "nx, nu = 2, 1 # state dimension and inputs\n",
    "na, nb = 1, 0\n",
    "\n",
    "f_net = Sm.simple_Linear\n",
    "f_net_kwargs = {\"feature_library\": poly, \"u\": nu, \"nf\": 7}\n",
    "\n",
    "# e_net_kwargs = {\"slot\": 1}\n",
    "\n",
    "h_net = Sm.h_identity\n",
    "h_net_kwargs = {}\n",
    "\n",
    "e_net = Sm.e_identity\n",
    "e_net_kwargs = {}\n",
    "\n",
    "fit_sys = Sm.SS_encoder_general_eq(nx=nx, na=na, nb=nb, \\\n",
    "                                f_net=f_net, f_net_kwargs=f_net_kwargs,\\\n",
    "                                e_net=e_net, e_net_kwargs=e_net_kwargs,\\\n",
    "                                h_net=h_net, h_net_kwargs=h_net_kwargs)\n",
    "\n",
    "\n",
    "fit_sys.fit(train, test, epochs=4, batch_size = 99998, optimizer_kwargs={\"lr\": 1e-3}, loss_kwargs=dict(nf=2, encoder_off=True), auto_fit_norm=False)"
   ]
  }
 ],
 "metadata": {
  "kernelspec": {
   "display_name": "sindy",
   "language": "python",
   "name": "python3"
  },
  "language_info": {
   "codemirror_mode": {
    "name": "ipython",
    "version": 3
   },
   "file_extension": ".py",
   "mimetype": "text/x-python",
   "name": "python",
   "nbconvert_exporter": "python",
   "pygments_lexer": "ipython3",
   "version": "3.12.1"
  }
 },
 "nbformat": 4,
 "nbformat_minor": 2
}
