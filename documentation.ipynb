{
 "cells": [
  {
   "cell_type": "code",
   "execution_count": 2,
   "metadata": {},
   "outputs": [
    {
     "name": "stderr",
     "output_type": "stream",
     "text": [
      "c:\\Users\\20173928\\Miniconda3\\envs\\sindy\\Lib\\site-packages\\tqdm\\auto.py:21: TqdmWarning: IProgress not found. Please update jupyter and ipywidgets. See https://ipywidgets.readthedocs.io/en/stable/user_install.html\n",
      "  from .autonotebook import tqdm as notebook_tqdm\n"
     ]
    }
   ],
   "source": [
    "import numpy as np\n",
    "from numpy import genfromtxt\n",
    "\n",
    "import csv\n",
    "import os\n",
    "\n",
    "import deepSI\n",
    "from deepSI import System_data\n",
    "\n",
    "import pysindy\n",
    "from pysindy import SINDy\n",
    "\n",
    "from torch import nn\n",
    "import torch\n",
    "\n",
    "import matplotlib.pyplot as plt\n",
    "\n",
    "from scipy.io import loadmat\n",
    "\n",
    "from deepSI.utils import simple_res_net, feed_forward_nn\n",
    "\n",
    "from utils import SINDy_model"
   ]
  },
  {
   "cell_type": "markdown",
   "metadata": {},
   "source": [
    "Loading data"
   ]
  },
  {
   "cell_type": "code",
   "execution_count": 5,
   "metadata": {},
   "outputs": [],
   "source": [
    "# data dir and file\n",
    "save_dir = r\"C:\\Users\\20173928\\OneDrive - TU Eindhoven\\Documents\\Master\\thesis\\mscth\\data\"\n",
    "save_dir = os.path.join(save_dir,'SilverboxFiles')\n",
    "out = loadmat(os.path.join(save_dir,'SNLS80mV.mat'))\n",
    "\n",
    "# extract data\n",
    "u, y = out['V1'][0], out['V2'][0]\n",
    "\n",
    "# store in deepsi data object\n",
    "train, test = System_data(u=u[40000:],y=y[40000:]), System_data(u=u[:40000],y=y[:40000])\n",
    "\n",
    "# load model\n",
    "# if it is custom model define f,e and h classes\n",
    "SUBNET_model = deepSI.load_system(r'C:\\Users\\20173928\\OneDrive - TU Eindhoven\\Documents\\Master\\thesis\\mscth\\models\\silverbox_v1')"
   ]
  },
  {
   "cell_type": "markdown",
   "metadata": {},
   "source": [
    "DeepSi Notes"
   ]
  },
  {
   "cell_type": "code",
   "execution_count": 6,
   "metadata": {},
   "outputs": [],
   "source": [
    "# apply experiment and save state\n",
    "# note output is denormalized by model object state is not\n",
    "test_sim = SUBNET_model.apply_experiment(test, save_state=True)\n",
    "\n",
    "# get output and states\n",
    "y_out = test_sim.y\n",
    "x_out = test_sim.x\n",
    "\n",
    "# get mean and std used to normalize\n",
    "y_mu  = SUBNET_model.norm.y0\n",
    "y_std = SUBNET_model.norm.ystd\n",
    "\n",
    "# denormalize\n",
    "x_out = x_out*y_std + y_mu"
   ]
  },
  {
   "cell_type": "markdown",
   "metadata": {},
   "source": [
    "SINDy Notes"
   ]
  },
  {
   "cell_type": "code",
   "execution_count": 7,
   "metadata": {},
   "outputs": [],
   "source": [
    "# custom class with basic SINDy implementation\n",
    "fs = 610.35\n",
    "dt = 1/fs\n",
    "\n",
    "model = SINDy_model(\n",
    "  x_data=train.y,\n",
    "  u_data=train.u,\n",
    "  x_test=test.y, # if not specified will use data_split to create test set\n",
    "  u_test=test.u,\n",
    "  data_split=None, # percentage of x_data/u_data that will be used for testing\n",
    "  discrete_time=True,\n",
    "  t_default=dt\n",
    ")\n",
    "\n",
    "model.fit_s()\n",
    "predicted = model.predict_s()\n",
    "simulated = model.simulate_s()"
   ]
  }
 ],
 "metadata": {
  "kernelspec": {
   "display_name": "sindy",
   "language": "python",
   "name": "python3"
  },
  "language_info": {
   "codemirror_mode": {
    "name": "ipython",
    "version": 3
   },
   "file_extension": ".py",
   "mimetype": "text/x-python",
   "name": "python",
   "nbconvert_exporter": "python",
   "pygments_lexer": "ipython3",
   "version": "3.12.1"
  }
 },
 "nbformat": 4,
 "nbformat_minor": 2
}
