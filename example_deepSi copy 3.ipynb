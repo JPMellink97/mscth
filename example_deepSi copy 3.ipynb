{
 "cells": [
  {
   "cell_type": "code",
   "execution_count": 1,
   "metadata": {},
   "outputs": [
    {
     "name": "stderr",
     "output_type": "stream",
     "text": [
      "c:\\Users\\Joost\\anaconda3\\envs\\test\\Lib\\site-packages\\tqdm\\auto.py:21: TqdmWarning: IProgress not found. Please update jupyter and ipywidgets. See https://ipywidgets.readthedocs.io/en/stable/user_install.html\n",
      "  from .autonotebook import tqdm as notebook_tqdm\n"
     ]
    }
   ],
   "source": [
    "import numpy as np\n",
    "from numpy import genfromtxt\n",
    "import csv\n",
    "import os\n",
    "\n",
    "import pysindy as ps\n",
    "\n",
    "import deepSI\n",
    "from deepSI import System_data\n",
    "\n",
    "import matplotlib.pyplot as plt"
   ]
  },
  {
   "cell_type": "code",
   "execution_count": 2,
   "metadata": {},
   "outputs": [],
   "source": [
    "DATA_PATH = r\"data\\\\\"\n",
    "\n",
    "WIENER = \"WienerHammerBenchmark\"\n",
    "SILVER = \"SNLS80mV\"\n",
    "# change data set\n",
    "DATA = SILVER\n",
    "CSV = \".csv\"\n",
    "\n",
    "PATH = os.path.join(DATA_PATH, DATA+CSV)\n",
    "\n",
    "# load data\n",
    "data = genfromtxt(PATH, delimiter=\",\")"
   ]
  },
  {
   "cell_type": "code",
   "execution_count": 3,
   "metadata": {},
   "outputs": [],
   "source": [
    "# drop nan's may need to be adjusted between data sets\n",
    "mask = ~np.isnan(data)\n",
    "data = data[mask[:,0],:]\n",
    "data = data[:,:-1]"
   ]
  },
  {
   "cell_type": "code",
   "execution_count": 4,
   "metadata": {},
   "outputs": [],
   "source": [
    "import deepSI\n",
    "from deepSI import System_data\n",
    "# system_data = System_data(u=ulist,y=ylist)\n",
    "system_data = System_data(u=data[:,0],y=data[:,1])\n",
    "train, test = system_data[40000:], system_data[:40000]"
   ]
  },
  {
   "cell_type": "code",
   "execution_count": 5,
   "metadata": {},
   "outputs": [
    {
     "name": "stdout",
     "output_type": "stream",
     "text": [
      "Initilizing the model and optimizer\n",
      "Size of the training array =  144.3 MB\n",
      "N_training_samples = 72728, batch_size = 254, N_batch_updates_per_epoch = 286\n",
      "Initial Validation sim-NRMS= 1.0568409090931716\n"
     ]
    },
    {
     "name": "stderr",
     "output_type": "stream",
     "text": [
      "  0%|          | 1/400 [00:24<2:39:42, 24.02s/it]"
     ]
    },
    {
     "name": "stdout",
     "output_type": "stream",
     "text": [
      "########## New lowest validation loss achieved ########### sim-NRMS = 0.23571209374892255\n",
      "Epoch    1, sqrt loss  0.5177, Val sim-NRMS 0.2357, Time Loss: 89.2%, data: 0.2%, val: 10.6%, 11.9 batches/sec\n"
     ]
    },
    {
     "name": "stderr",
     "output_type": "stream",
     "text": [
      "  0%|          | 2/400 [00:48<2:39:36, 24.06s/it]"
     ]
    },
    {
     "name": "stdout",
     "output_type": "stream",
     "text": [
      "########## New lowest validation loss achieved ########### sim-NRMS = 0.1108466539706162\n",
      "Epoch    2, sqrt loss  0.1273, Val sim-NRMS 0.1108, Time Loss: 89.2%, data: 0.2%, val: 10.6%, 11.9 batches/sec\n"
     ]
    },
    {
     "name": "stderr",
     "output_type": "stream",
     "text": [
      "  1%|          | 3/400 [01:12<2:39:09, 24.05s/it]"
     ]
    },
    {
     "name": "stdout",
     "output_type": "stream",
     "text": [
      "########## New lowest validation loss achieved ########### sim-NRMS = 0.10070133423544808\n",
      "Epoch    3, sqrt loss  0.1014, Val sim-NRMS 0.1007, Time Loss: 89.2%, data: 0.2%, val: 10.6%, 11.9 batches/sec\n"
     ]
    },
    {
     "name": "stderr",
     "output_type": "stream",
     "text": [
      "  1%|          | 4/400 [01:36<2:38:53, 24.07s/it]"
     ]
    },
    {
     "name": "stdout",
     "output_type": "stream",
     "text": [
      "########## New lowest validation loss achieved ########### sim-NRMS = 0.07656896314767199\n",
      "Epoch    4, sqrt loss  0.1089, Val sim-NRMS 0.07657, Time Loss: 89.2%, data: 0.2%, val: 10.6%, 11.9 batches/sec\n"
     ]
    },
    {
     "name": "stderr",
     "output_type": "stream",
     "text": [
      "  1%|▏         | 5/400 [02:00<2:38:21, 24.05s/it]"
     ]
    },
    {
     "name": "stdout",
     "output_type": "stream",
     "text": [
      "Epoch    5, sqrt loss 0.09347, Val sim-NRMS 0.1395, Time Loss: 89.2%, data: 0.2%, val: 10.6%, 11.9 batches/sec\n"
     ]
    },
    {
     "name": "stderr",
     "output_type": "stream",
     "text": [
      "  2%|▏         | 6/400 [02:24<2:37:56, 24.05s/it]"
     ]
    },
    {
     "name": "stdout",
     "output_type": "stream",
     "text": [
      "########## New lowest validation loss achieved ########### sim-NRMS = 0.05777050724178816\n",
      "Epoch    6, sqrt loss  0.0678, Val sim-NRMS 0.05777, Time Loss: 89.2%, data: 0.2%, val: 10.6%, 11.9 batches/sec\n"
     ]
    },
    {
     "name": "stderr",
     "output_type": "stream",
     "text": [
      "  2%|▏         | 7/400 [02:48<2:38:08, 24.14s/it]"
     ]
    },
    {
     "name": "stdout",
     "output_type": "stream",
     "text": [
      "Epoch    7, sqrt loss 0.07593, Val sim-NRMS 0.05986, Time Loss: 89.2%, data: 0.2%, val: 10.6%, 11.9 batches/sec\n"
     ]
    },
    {
     "name": "stderr",
     "output_type": "stream",
     "text": [
      "  2%|▏         | 8/400 [03:12<2:37:27, 24.10s/it]"
     ]
    },
    {
     "name": "stdout",
     "output_type": "stream",
     "text": [
      "Epoch    8, sqrt loss 0.09799, Val sim-NRMS 0.05845, Time Loss: 89.2%, data: 0.2%, val: 10.6%, 11.9 batches/sec\n"
     ]
    },
    {
     "name": "stderr",
     "output_type": "stream",
     "text": [
      "  2%|▏         | 9/400 [03:36<2:37:01, 24.10s/it]"
     ]
    },
    {
     "name": "stdout",
     "output_type": "stream",
     "text": [
      "########## New lowest validation loss achieved ########### sim-NRMS = 0.04881014684290234\n",
      "Epoch    9, sqrt loss 0.05563, Val sim-NRMS 0.04881, Time Loss: 89.2%, data: 0.2%, val: 10.6%, 11.9 batches/sec\n"
     ]
    },
    {
     "name": "stderr",
     "output_type": "stream",
     "text": [
      "  2%|▎         | 10/400 [04:01<2:36:55, 24.14s/it]"
     ]
    },
    {
     "name": "stdout",
     "output_type": "stream",
     "text": [
      "########## New lowest validation loss achieved ########### sim-NRMS = 0.04868393725184274\n",
      "Epoch   10, sqrt loss  0.1046, Val sim-NRMS 0.04868, Time Loss: 89.1%, data: 0.2%, val: 10.7%, 11.9 batches/sec\n"
     ]
    },
    {
     "name": "stderr",
     "output_type": "stream",
     "text": [
      "  3%|▎         | 11/400 [04:27<2:41:38, 24.93s/it]"
     ]
    },
    {
     "name": "stdout",
     "output_type": "stream",
     "text": [
      "########## New lowest validation loss achieved ########### sim-NRMS = 0.045595493216681694\n",
      "Epoch   11, sqrt loss 0.04659, Val sim-NRMS 0.0456, Time Loss: 89.2%, data: 0.2%, val: 10.6%, 11.8 batches/sec\n"
     ]
    },
    {
     "name": "stderr",
     "output_type": "stream",
     "text": [
      "  3%|▎         | 12/400 [04:53<2:42:10, 25.08s/it]"
     ]
    },
    {
     "name": "stdout",
     "output_type": "stream",
     "text": [
      "Epoch   12, sqrt loss  0.1278, Val sim-NRMS 0.06494, Time Loss: 89.2%, data: 0.2%, val: 10.6%, 11.7 batches/sec\n"
     ]
    },
    {
     "name": "stderr",
     "output_type": "stream",
     "text": [
      "  3%|▎         | 13/400 [05:18<2:41:52, 25.10s/it]"
     ]
    },
    {
     "name": "stdout",
     "output_type": "stream",
     "text": [
      "########## New lowest validation loss achieved ########### sim-NRMS = 0.04340088873174886\n",
      "Epoch   13, sqrt loss  0.0475, Val sim-NRMS 0.0434, Time Loss: 89.2%, data: 0.2%, val: 10.6%, 11.7 batches/sec\n"
     ]
    },
    {
     "name": "stderr",
     "output_type": "stream",
     "text": [
      "  4%|▎         | 14/400 [05:43<2:41:28, 25.10s/it]"
     ]
    },
    {
     "name": "stdout",
     "output_type": "stream",
     "text": [
      "Epoch   14, sqrt loss 0.04251, Val sim-NRMS 0.04421, Time Loss: 89.2%, data: 0.2%, val: 10.6%, 11.7 batches/sec\n"
     ]
    },
    {
     "name": "stderr",
     "output_type": "stream",
     "text": [
      "  4%|▍         | 15/400 [06:08<2:41:15, 25.13s/it]"
     ]
    },
    {
     "name": "stdout",
     "output_type": "stream",
     "text": [
      "Epoch   15, sqrt loss 0.05237, Val sim-NRMS 0.04958, Time Loss: 89.2%, data: 0.2%, val: 10.6%, 11.6 batches/sec\n"
     ]
    },
    {
     "name": "stderr",
     "output_type": "stream",
     "text": [
      "  4%|▍         | 16/400 [06:33<2:40:54, 25.14s/it]"
     ]
    },
    {
     "name": "stdout",
     "output_type": "stream",
     "text": [
      "Epoch   16, sqrt loss  0.1444, Val sim-NRMS 0.07715, Time Loss: 89.2%, data: 0.2%, val: 10.6%, 11.6 batches/sec\n"
     ]
    },
    {
     "name": "stderr",
     "output_type": "stream",
     "text": [
      "  4%|▍         | 17/400 [06:58<2:40:30, 25.14s/it]"
     ]
    },
    {
     "name": "stdout",
     "output_type": "stream",
     "text": [
      "Epoch   17, sqrt loss 0.04537, Val sim-NRMS 0.05252, Time Loss: 89.2%, data: 0.2%, val: 10.6%, 11.6 batches/sec\n"
     ]
    },
    {
     "name": "stderr",
     "output_type": "stream",
     "text": [
      "  4%|▍         | 18/400 [07:24<2:40:28, 25.21s/it]"
     ]
    },
    {
     "name": "stdout",
     "output_type": "stream",
     "text": [
      "########## New lowest validation loss achieved ########### sim-NRMS = 0.04053617826876804\n",
      "Epoch   18, sqrt loss 0.04423, Val sim-NRMS 0.04054, Time Loss: 89.2%, data: 0.2%, val: 10.6%, 11.6 batches/sec\n"
     ]
    },
    {
     "name": "stderr",
     "output_type": "stream",
     "text": [
      "  5%|▍         | 19/400 [07:49<2:40:04, 25.21s/it]"
     ]
    },
    {
     "name": "stdout",
     "output_type": "stream",
     "text": [
      "Epoch   19, sqrt loss  0.1788, Val sim-NRMS 0.04683, Time Loss: 89.2%, data: 0.2%, val: 10.6%, 11.6 batches/sec\n"
     ]
    },
    {
     "name": "stderr",
     "output_type": "stream",
     "text": [
      "  5%|▌         | 20/400 [08:14<2:39:54, 25.25s/it]"
     ]
    },
    {
     "name": "stdout",
     "output_type": "stream",
     "text": [
      "Epoch   20, sqrt loss 0.04109, Val sim-NRMS 0.04166, Time Loss: 89.2%, data: 0.2%, val: 10.6%, 11.6 batches/sec\n"
     ]
    },
    {
     "name": "stderr",
     "output_type": "stream",
     "text": [
      "  5%|▌         | 21/400 [08:40<2:39:30, 25.25s/it]"
     ]
    },
    {
     "name": "stdout",
     "output_type": "stream",
     "text": [
      "Epoch   21, sqrt loss 0.04386, Val sim-NRMS 0.0412, Time Loss: 89.2%, data: 0.2%, val: 10.6%, 11.5 batches/sec\n"
     ]
    },
    {
     "name": "stderr",
     "output_type": "stream",
     "text": [
      "  6%|▌         | 22/400 [09:05<2:39:10, 25.27s/it]"
     ]
    },
    {
     "name": "stdout",
     "output_type": "stream",
     "text": [
      "Epoch   22, sqrt loss 0.04809, Val sim-NRMS 0.04481, Time Loss: 89.2%, data: 0.2%, val: 10.6%, 11.5 batches/sec\n"
     ]
    },
    {
     "name": "stderr",
     "output_type": "stream",
     "text": [
      "  6%|▌         | 23/400 [09:30<2:38:56, 25.30s/it]"
     ]
    },
    {
     "name": "stdout",
     "output_type": "stream",
     "text": [
      "Epoch   23, sqrt loss 0.07409, Val sim-NRMS 0.04918, Time Loss: 89.2%, data: 0.2%, val: 10.6%, 11.5 batches/sec\n"
     ]
    },
    {
     "name": "stderr",
     "output_type": "stream",
     "text": [
      "  6%|▌         | 24/400 [09:56<2:38:54, 25.36s/it]"
     ]
    },
    {
     "name": "stdout",
     "output_type": "stream",
     "text": [
      "Epoch   24, sqrt loss 0.04351, Val sim-NRMS 0.05269, Time Loss: 89.2%, data: 0.2%, val: 10.6%, 11.5 batches/sec\n"
     ]
    },
    {
     "name": "stderr",
     "output_type": "stream",
     "text": [
      "  6%|▋         | 25/400 [10:21<2:38:48, 25.41s/it]"
     ]
    },
    {
     "name": "stdout",
     "output_type": "stream",
     "text": [
      "Epoch   25, sqrt loss 0.06275, Val sim-NRMS 0.04818, Time Loss: 89.2%, data: 0.2%, val: 10.6%, 11.5 batches/sec\n"
     ]
    },
    {
     "name": "stderr",
     "output_type": "stream",
     "text": [
      "  6%|▋         | 26/400 [10:46<2:37:53, 25.33s/it]"
     ]
    },
    {
     "name": "stdout",
     "output_type": "stream",
     "text": [
      "Epoch   26, sqrt loss 0.09954, Val sim-NRMS 0.04625, Time Loss: 89.2%, data: 0.2%, val: 10.6%, 11.5 batches/sec\n"
     ]
    },
    {
     "name": "stderr",
     "output_type": "stream",
     "text": [
      "  7%|▋         | 27/400 [11:12<2:38:22, 25.48s/it]"
     ]
    },
    {
     "name": "stdout",
     "output_type": "stream",
     "text": [
      "Epoch   27, sqrt loss 0.03777, Val sim-NRMS 0.06905, Time Loss: 89.2%, data: 0.2%, val: 10.6%, 11.5 batches/sec\n"
     ]
    },
    {
     "name": "stderr",
     "output_type": "stream",
     "text": [
      "  7%|▋         | 28/400 [11:38<2:37:54, 25.47s/it]"
     ]
    },
    {
     "name": "stdout",
     "output_type": "stream",
     "text": [
      "Epoch   28, sqrt loss 0.04375, Val sim-NRMS 0.07491, Time Loss: 89.2%, data: 0.2%, val: 10.6%, 11.5 batches/sec\n"
     ]
    },
    {
     "name": "stderr",
     "output_type": "stream",
     "text": [
      "  7%|▋         | 29/400 [12:03<2:37:35, 25.49s/it]"
     ]
    },
    {
     "name": "stdout",
     "output_type": "stream",
     "text": [
      "Epoch   29, sqrt loss 0.07547, Val sim-NRMS 0.07897, Time Loss: 89.2%, data: 0.2%, val: 10.6%, 11.5 batches/sec\n"
     ]
    },
    {
     "name": "stderr",
     "output_type": "stream",
     "text": [
      "  8%|▊         | 30/400 [12:29<2:37:53, 25.60s/it]"
     ]
    },
    {
     "name": "stdout",
     "output_type": "stream",
     "text": [
      "########## New lowest validation loss achieved ########### sim-NRMS = 0.03696466033026196\n",
      "Epoch   30, sqrt loss 0.05191, Val sim-NRMS 0.03696, Time Loss: 89.2%, data: 0.2%, val: 10.6%, 11.4 batches/sec\n"
     ]
    },
    {
     "name": "stderr",
     "output_type": "stream",
     "text": [
      "  8%|▊         | 31/400 [12:54<2:37:02, 25.54s/it]"
     ]
    },
    {
     "name": "stdout",
     "output_type": "stream",
     "text": [
      "Epoch   31, sqrt loss 0.07054, Val sim-NRMS 0.3086, Time Loss: 89.2%, data: 0.2%, val: 10.6%, 11.4 batches/sec\n"
     ]
    },
    {
     "name": "stderr",
     "output_type": "stream",
     "text": [
      "  8%|▊         | 32/400 [13:20<2:36:22, 25.50s/it]"
     ]
    },
    {
     "name": "stdout",
     "output_type": "stream",
     "text": [
      "########## New lowest validation loss achieved ########### sim-NRMS = 0.03651322009066038\n",
      "Epoch   32, sqrt loss  0.0713, Val sim-NRMS 0.03651, Time Loss: 89.2%, data: 0.2%, val: 10.6%, 11.4 batches/sec\n"
     ]
    },
    {
     "name": "stderr",
     "output_type": "stream",
     "text": [
      "  8%|▊         | 33/400 [13:46<2:36:13, 25.54s/it]"
     ]
    },
    {
     "name": "stdout",
     "output_type": "stream",
     "text": [
      "Epoch   33, sqrt loss 0.03723, Val sim-NRMS 0.04714, Time Loss: 89.2%, data: 0.2%, val: 10.7%, 11.4 batches/sec\n"
     ]
    },
    {
     "name": "stderr",
     "output_type": "stream",
     "text": [
      "  8%|▊         | 34/400 [14:11<2:35:19, 25.46s/it]"
     ]
    },
    {
     "name": "stdout",
     "output_type": "stream",
     "text": [
      "Epoch   34, sqrt loss  0.0803, Val sim-NRMS 0.03786, Time Loss: 89.2%, data: 0.2%, val: 10.6%, 11.4 batches/sec\n"
     ]
    },
    {
     "name": "stderr",
     "output_type": "stream",
     "text": [
      "  9%|▉         | 35/400 [14:36<2:34:55, 25.47s/it]"
     ]
    },
    {
     "name": "stdout",
     "output_type": "stream",
     "text": [
      "Epoch   35, sqrt loss 0.09317, Val sim-NRMS 0.1063, Time Loss: 89.2%, data: 0.2%, val: 10.6%, 11.4 batches/sec\n"
     ]
    },
    {
     "name": "stderr",
     "output_type": "stream",
     "text": [
      "  9%|▉         | 36/400 [15:02<2:34:43, 25.50s/it]"
     ]
    },
    {
     "name": "stdout",
     "output_type": "stream",
     "text": [
      "########## New lowest validation loss achieved ########### sim-NRMS = 0.03551488651329192\n",
      "Epoch   36, sqrt loss 0.03951, Val sim-NRMS 0.03551, Time Loss: 89.2%, data: 0.2%, val: 10.6%, 11.4 batches/sec\n"
     ]
    },
    {
     "name": "stderr",
     "output_type": "stream",
     "text": [
      "  9%|▉         | 37/400 [15:27<2:33:52, 25.43s/it]"
     ]
    },
    {
     "name": "stdout",
     "output_type": "stream",
     "text": [
      "Epoch   37, sqrt loss 0.03532, Val sim-NRMS 0.07273, Time Loss: 89.2%, data: 0.2%, val: 10.6%, 11.4 batches/sec\n"
     ]
    },
    {
     "name": "stderr",
     "output_type": "stream",
     "text": [
      " 10%|▉         | 38/400 [15:52<2:33:20, 25.41s/it]"
     ]
    },
    {
     "name": "stdout",
     "output_type": "stream",
     "text": [
      "########## New lowest validation loss achieved ########### sim-NRMS = 0.033695883524649514\n",
      "Epoch   38, sqrt loss 0.03979, Val sim-NRMS 0.0337, Time Loss: 89.2%, data: 0.2%, val: 10.6%, 11.4 batches/sec\n"
     ]
    },
    {
     "name": "stderr",
     "output_type": "stream",
     "text": [
      " 10%|▉         | 39/400 [16:18<2:33:29, 25.51s/it]"
     ]
    },
    {
     "name": "stdout",
     "output_type": "stream",
     "text": [
      "Epoch   39, sqrt loss 0.07215, Val sim-NRMS 0.04689, Time Loss: 89.2%, data: 0.2%, val: 10.6%, 11.4 batches/sec\n"
     ]
    },
    {
     "name": "stderr",
     "output_type": "stream",
     "text": [
      " 10%|█         | 40/400 [16:44<2:33:03, 25.51s/it]"
     ]
    },
    {
     "name": "stdout",
     "output_type": "stream",
     "text": [
      "Epoch   40, sqrt loss 0.03486, Val sim-NRMS 0.03679, Time Loss: 89.2%, data: 0.2%, val: 10.6%, 11.4 batches/sec\n"
     ]
    },
    {
     "name": "stderr",
     "output_type": "stream",
     "text": [
      " 10%|█         | 41/400 [17:09<2:32:46, 25.53s/it]"
     ]
    },
    {
     "name": "stdout",
     "output_type": "stream",
     "text": [
      "Epoch   41, sqrt loss 0.09608, Val sim-NRMS 0.03604, Time Loss: 89.2%, data: 0.2%, val: 10.6%, 11.4 batches/sec\n"
     ]
    },
    {
     "name": "stderr",
     "output_type": "stream",
     "text": [
      " 10%|█         | 42/400 [17:35<2:32:21, 25.53s/it]"
     ]
    },
    {
     "name": "stdout",
     "output_type": "stream",
     "text": [
      "Epoch   42, sqrt loss 0.03415, Val sim-NRMS 0.03388, Time Loss: 89.2%, data: 0.2%, val: 10.6%, 11.4 batches/sec\n"
     ]
    },
    {
     "name": "stderr",
     "output_type": "stream",
     "text": [
      " 11%|█         | 43/400 [18:00<2:31:50, 25.52s/it]"
     ]
    },
    {
     "name": "stdout",
     "output_type": "stream",
     "text": [
      "Epoch   43, sqrt loss  0.1226, Val sim-NRMS  0.313, Time Loss: 89.2%, data: 0.2%, val: 10.6%, 11.4 batches/sec\n"
     ]
    },
    {
     "name": "stderr",
     "output_type": "stream",
     "text": [
      " 11%|█         | 44/400 [18:26<2:31:13, 25.49s/it]"
     ]
    },
    {
     "name": "stdout",
     "output_type": "stream",
     "text": [
      "Epoch   44, sqrt loss 0.06031, Val sim-NRMS 0.03707, Time Loss: 89.2%, data: 0.2%, val: 10.6%, 11.4 batches/sec\n"
     ]
    },
    {
     "name": "stderr",
     "output_type": "stream",
     "text": [
      " 11%|█▏        | 45/400 [18:51<2:30:49, 25.49s/it]"
     ]
    },
    {
     "name": "stdout",
     "output_type": "stream",
     "text": [
      "Epoch   45, sqrt loss 0.03149, Val sim-NRMS 0.03585, Time Loss: 89.2%, data: 0.2%, val: 10.6%, 11.4 batches/sec\n"
     ]
    },
    {
     "name": "stderr",
     "output_type": "stream",
     "text": [
      " 12%|█▏        | 46/400 [19:17<2:30:24, 25.49s/it]"
     ]
    },
    {
     "name": "stdout",
     "output_type": "stream",
     "text": [
      "Epoch   46, sqrt loss 0.03192, Val sim-NRMS 0.0343, Time Loss: 89.2%, data: 0.2%, val: 10.6%, 11.4 batches/sec\n"
     ]
    },
    {
     "name": "stderr",
     "output_type": "stream",
     "text": [
      " 12%|█▏        | 47/400 [19:42<2:29:35, 25.43s/it]"
     ]
    },
    {
     "name": "stdout",
     "output_type": "stream",
     "text": [
      "Epoch   47, sqrt loss 0.04617, Val sim-NRMS 0.1546, Time Loss: 89.2%, data: 0.2%, val: 10.6%, 11.4 batches/sec\n"
     ]
    },
    {
     "name": "stderr",
     "output_type": "stream",
     "text": [
      " 12%|█▏        | 48/400 [20:07<2:28:59, 25.40s/it]"
     ]
    },
    {
     "name": "stdout",
     "output_type": "stream",
     "text": [
      "Epoch   48, sqrt loss  0.1061, Val sim-NRMS 0.0351, Time Loss: 89.2%, data: 0.2%, val: 10.6%, 11.4 batches/sec\n"
     ]
    },
    {
     "name": "stderr",
     "output_type": "stream",
     "text": [
      " 12%|█▏        | 49/400 [20:33<2:28:34, 25.40s/it]"
     ]
    },
    {
     "name": "stdout",
     "output_type": "stream",
     "text": [
      "Epoch   49, sqrt loss 0.03159, Val sim-NRMS 0.03563, Time Loss: 89.2%, data: 0.2%, val: 10.6%, 11.4 batches/sec\n"
     ]
    },
    {
     "name": "stderr",
     "output_type": "stream",
     "text": [
      " 12%|█▎        | 50/400 [20:58<2:28:12, 25.41s/it]"
     ]
    },
    {
     "name": "stdout",
     "output_type": "stream",
     "text": [
      "Epoch   50, sqrt loss 0.03652, Val sim-NRMS 0.03433, Time Loss: 89.2%, data: 0.2%, val: 10.6%, 11.4 batches/sec\n"
     ]
    },
    {
     "name": "stderr",
     "output_type": "stream",
     "text": [
      " 13%|█▎        | 51/400 [21:24<2:27:53, 25.43s/it]"
     ]
    },
    {
     "name": "stdout",
     "output_type": "stream",
     "text": [
      "Epoch   51, sqrt loss 0.03597, Val sim-NRMS 0.03854, Time Loss: 89.2%, data: 0.2%, val: 10.6%, 11.4 batches/sec\n"
     ]
    },
    {
     "name": "stderr",
     "output_type": "stream",
     "text": [
      " 13%|█▎        | 52/400 [21:49<2:27:58, 25.51s/it]"
     ]
    },
    {
     "name": "stdout",
     "output_type": "stream",
     "text": [
      "Epoch   52, sqrt loss 0.05892, Val sim-NRMS 0.09155, Time Loss: 89.2%, data: 0.2%, val: 10.6%, 11.4 batches/sec\n"
     ]
    },
    {
     "name": "stderr",
     "output_type": "stream",
     "text": [
      " 13%|█▎        | 53/400 [22:15<2:27:34, 25.52s/it]"
     ]
    },
    {
     "name": "stdout",
     "output_type": "stream",
     "text": [
      "Epoch   53, sqrt loss 0.04032, Val sim-NRMS 0.03616, Time Loss: 89.1%, data: 0.2%, val: 10.6%, 11.4 batches/sec\n"
     ]
    },
    {
     "name": "stderr",
     "output_type": "stream",
     "text": [
      " 14%|█▎        | 54/400 [22:41<2:27:31, 25.58s/it]"
     ]
    },
    {
     "name": "stdout",
     "output_type": "stream",
     "text": [
      "Epoch   54, sqrt loss 0.04163, Val sim-NRMS 0.03393, Time Loss: 89.1%, data: 0.2%, val: 10.7%, 11.3 batches/sec\n"
     ]
    },
    {
     "name": "stderr",
     "output_type": "stream",
     "text": [
      " 14%|█▍        | 55/400 [23:05<2:25:16, 25.27s/it]"
     ]
    },
    {
     "name": "stdout",
     "output_type": "stream",
     "text": [
      "Epoch   55, sqrt loss  0.0759, Val sim-NRMS 0.03567, Time Loss: 89.1%, data: 0.2%, val: 10.7%, 11.4 batches/sec\n"
     ]
    },
    {
     "name": "stderr",
     "output_type": "stream",
     "text": [
      " 14%|█▍        | 56/400 [23:30<2:23:57, 25.11s/it]"
     ]
    },
    {
     "name": "stdout",
     "output_type": "stream",
     "text": [
      "########## New lowest validation loss achieved ########### sim-NRMS = 0.033139713634390944\n",
      "Epoch   56, sqrt loss 0.03527, Val sim-NRMS 0.03314, Time Loss: 89.1%, data: 0.2%, val: 10.7%, 11.4 batches/sec\n"
     ]
    },
    {
     "name": "stderr",
     "output_type": "stream",
     "text": [
      " 14%|█▍        | 57/400 [23:55<2:23:38, 25.13s/it]"
     ]
    },
    {
     "name": "stdout",
     "output_type": "stream",
     "text": [
      "Epoch   57, sqrt loss  0.1863, Val sim-NRMS 0.03955, Time Loss: 89.1%, data: 0.2%, val: 10.7%, 11.4 batches/sec\n"
     ]
    },
    {
     "name": "stderr",
     "output_type": "stream",
     "text": [
      " 14%|█▍        | 58/400 [24:20<2:23:16, 25.14s/it]"
     ]
    },
    {
     "name": "stdout",
     "output_type": "stream",
     "text": [
      "Epoch   58, sqrt loss 0.03152, Val sim-NRMS 0.03338, Time Loss: 89.1%, data: 0.2%, val: 10.7%, 11.4 batches/sec\n"
     ]
    },
    {
     "name": "stderr",
     "output_type": "stream",
     "text": [
      " 15%|█▍        | 59/400 [24:46<2:23:12, 25.20s/it]"
     ]
    },
    {
     "name": "stdout",
     "output_type": "stream",
     "text": [
      "Epoch   59, sqrt loss 0.03025, Val sim-NRMS 0.03403, Time Loss: 89.1%, data: 0.2%, val: 10.7%, 11.4 batches/sec\n"
     ]
    },
    {
     "name": "stderr",
     "output_type": "stream",
     "text": [
      " 15%|█▌        | 60/400 [25:11<2:22:40, 25.18s/it]"
     ]
    },
    {
     "name": "stdout",
     "output_type": "stream",
     "text": [
      "Epoch   60, sqrt loss 0.03306, Val sim-NRMS 0.04771, Time Loss: 89.1%, data: 0.2%, val: 10.7%, 11.4 batches/sec\n"
     ]
    },
    {
     "name": "stderr",
     "output_type": "stream",
     "text": [
      " 15%|█▌        | 61/400 [25:36<2:22:11, 25.17s/it]"
     ]
    },
    {
     "name": "stdout",
     "output_type": "stream",
     "text": [
      "Epoch   61, sqrt loss 0.04006, Val sim-NRMS 0.06583, Time Loss: 89.2%, data: 0.2%, val: 10.6%, 11.4 batches/sec\n"
     ]
    },
    {
     "name": "stderr",
     "output_type": "stream",
     "text": [
      " 16%|█▌        | 62/400 [26:01<2:21:53, 25.19s/it]"
     ]
    },
    {
     "name": "stdout",
     "output_type": "stream",
     "text": [
      "Epoch   62, sqrt loss 0.04736, Val sim-NRMS 0.03366, Time Loss: 89.1%, data: 0.2%, val: 10.7%, 11.4 batches/sec\n"
     ]
    },
    {
     "name": "stderr",
     "output_type": "stream",
     "text": [
      " 16%|█▌        | 63/400 [26:26<2:21:38, 25.22s/it]"
     ]
    },
    {
     "name": "stdout",
     "output_type": "stream",
     "text": [
      "Epoch   63, sqrt loss 0.07902, Val sim-NRMS 0.1352, Time Loss: 89.1%, data: 0.2%, val: 10.7%, 11.4 batches/sec\n"
     ]
    },
    {
     "name": "stderr",
     "output_type": "stream",
     "text": [
      " 16%|█▌        | 64/400 [26:52<2:21:13, 25.22s/it]"
     ]
    },
    {
     "name": "stdout",
     "output_type": "stream",
     "text": [
      "########## New lowest validation loss achieved ########### sim-NRMS = 0.030775300371890454\n",
      "Epoch   64, sqrt loss 0.04522, Val sim-NRMS 0.03078, Time Loss: 89.1%, data: 0.2%, val: 10.7%, 11.4 batches/sec\n"
     ]
    },
    {
     "name": "stderr",
     "output_type": "stream",
     "text": [
      " 16%|█▋        | 65/400 [27:17<2:20:48, 25.22s/it]"
     ]
    },
    {
     "name": "stdout",
     "output_type": "stream",
     "text": [
      "Epoch   65, sqrt loss 0.02964, Val sim-NRMS 0.0311, Time Loss: 89.1%, data: 0.2%, val: 10.7%, 11.4 batches/sec\n"
     ]
    },
    {
     "name": "stderr",
     "output_type": "stream",
     "text": [
      " 16%|█▋        | 66/400 [27:43<2:21:14, 25.37s/it]"
     ]
    },
    {
     "name": "stdout",
     "output_type": "stream",
     "text": [
      "########## New lowest validation loss achieved ########### sim-NRMS = 0.03015640780227118\n",
      "Epoch   66, sqrt loss 0.03695, Val sim-NRMS 0.03016, Time Loss: 89.1%, data: 0.2%, val: 10.7%, 11.4 batches/sec\n"
     ]
    },
    {
     "name": "stderr",
     "output_type": "stream",
     "text": [
      " 17%|█▋        | 67/400 [28:08<2:20:57, 25.40s/it]"
     ]
    },
    {
     "name": "stdout",
     "output_type": "stream",
     "text": [
      "Epoch   67, sqrt loss  0.0771, Val sim-NRMS 0.2789, Time Loss: 89.1%, data: 0.2%, val: 10.7%, 11.3 batches/sec\n"
     ]
    },
    {
     "name": "stderr",
     "output_type": "stream",
     "text": [
      " 17%|█▋        | 68/400 [28:34<2:20:48, 25.45s/it]"
     ]
    },
    {
     "name": "stdout",
     "output_type": "stream",
     "text": [
      "Epoch   68, sqrt loss 0.05061, Val sim-NRMS 0.03471, Time Loss: 89.1%, data: 0.2%, val: 10.7%, 11.3 batches/sec\n"
     ]
    },
    {
     "name": "stderr",
     "output_type": "stream",
     "text": [
      " 17%|█▋        | 69/400 [28:59<2:20:50, 25.53s/it]"
     ]
    },
    {
     "name": "stdout",
     "output_type": "stream",
     "text": [
      "Epoch   69, sqrt loss 0.02815, Val sim-NRMS 0.03239, Time Loss: 89.1%, data: 0.2%, val: 10.7%, 11.3 batches/sec\n"
     ]
    },
    {
     "name": "stderr",
     "output_type": "stream",
     "text": [
      " 18%|█▊        | 70/400 [29:25<2:19:57, 25.45s/it]"
     ]
    },
    {
     "name": "stdout",
     "output_type": "stream",
     "text": [
      "Epoch   70, sqrt loss 0.06557, Val sim-NRMS 0.03022, Time Loss: 89.1%, data: 0.2%, val: 10.7%, 11.3 batches/sec\n"
     ]
    },
    {
     "name": "stderr",
     "output_type": "stream",
     "text": [
      " 18%|█▊        | 71/400 [29:50<2:19:52, 25.51s/it]"
     ]
    },
    {
     "name": "stdout",
     "output_type": "stream",
     "text": [
      "########## New lowest validation loss achieved ########### sim-NRMS = 0.03002864189489134\n",
      "Epoch   71, sqrt loss 0.02844, Val sim-NRMS 0.03003, Time Loss: 89.1%, data: 0.2%, val: 10.7%, 11.3 batches/sec\n"
     ]
    },
    {
     "name": "stderr",
     "output_type": "stream",
     "text": [
      " 18%|█▊        | 72/400 [30:16<2:19:21, 25.49s/it]"
     ]
    },
    {
     "name": "stdout",
     "output_type": "stream",
     "text": [
      "Epoch   72, sqrt loss 0.03396, Val sim-NRMS 0.03089, Time Loss: 89.1%, data: 0.2%, val: 10.7%, 11.3 batches/sec\n"
     ]
    },
    {
     "name": "stderr",
     "output_type": "stream",
     "text": [
      " 18%|█▊        | 73/400 [30:41<2:18:36, 25.43s/it]"
     ]
    },
    {
     "name": "stdout",
     "output_type": "stream",
     "text": [
      "Epoch   73, sqrt loss  0.0505, Val sim-NRMS  0.103, Time Loss: 89.1%, data: 0.2%, val: 10.7%, 11.3 batches/sec\n"
     ]
    },
    {
     "name": "stderr",
     "output_type": "stream",
     "text": [
      " 18%|█▊        | 74/400 [31:06<2:18:01, 25.40s/it]"
     ]
    },
    {
     "name": "stdout",
     "output_type": "stream",
     "text": [
      "Epoch   74, sqrt loss 0.09128, Val sim-NRMS 0.03036, Time Loss: 89.1%, data: 0.2%, val: 10.6%, 11.3 batches/sec\n"
     ]
    },
    {
     "name": "stderr",
     "output_type": "stream",
     "text": [
      " 19%|█▉        | 75/400 [31:32<2:17:25, 25.37s/it]"
     ]
    },
    {
     "name": "stdout",
     "output_type": "stream",
     "text": [
      "########## New lowest validation loss achieved ########### sim-NRMS = 0.029122710669964295\n",
      "Epoch   75, sqrt loss 0.02679, Val sim-NRMS 0.02912, Time Loss: 89.2%, data: 0.2%, val: 10.6%, 11.3 batches/sec\n"
     ]
    },
    {
     "name": "stderr",
     "output_type": "stream",
     "text": [
      " 19%|█▉        | 76/400 [31:57<2:16:54, 25.35s/it]"
     ]
    },
    {
     "name": "stdout",
     "output_type": "stream",
     "text": [
      "Epoch   76, sqrt loss 0.02922, Val sim-NRMS 0.03744, Time Loss: 89.2%, data: 0.2%, val: 10.6%, 11.3 batches/sec\n"
     ]
    },
    {
     "name": "stderr",
     "output_type": "stream",
     "text": [
      " 19%|█▉        | 77/400 [32:22<2:16:23, 25.34s/it]"
     ]
    },
    {
     "name": "stdout",
     "output_type": "stream",
     "text": [
      "Epoch   77, sqrt loss 0.03269, Val sim-NRMS 0.05291, Time Loss: 89.2%, data: 0.2%, val: 10.6%, 11.3 batches/sec\n"
     ]
    },
    {
     "name": "stderr",
     "output_type": "stream",
     "text": [
      " 20%|█▉        | 78/400 [32:48<2:16:02, 25.35s/it]"
     ]
    },
    {
     "name": "stdout",
     "output_type": "stream",
     "text": [
      "Epoch   78, sqrt loss 0.03842, Val sim-NRMS 0.03354, Time Loss: 89.2%, data: 0.2%, val: 10.6%, 11.3 batches/sec\n"
     ]
    },
    {
     "name": "stderr",
     "output_type": "stream",
     "text": [
      " 20%|█▉        | 79/400 [33:13<2:15:36, 25.35s/it]"
     ]
    },
    {
     "name": "stdout",
     "output_type": "stream",
     "text": [
      "########## New lowest validation loss achieved ########### sim-NRMS = 0.029077866191035053\n",
      "Epoch   79, sqrt loss 0.05916, Val sim-NRMS 0.02908, Time Loss: 89.2%, data: 0.2%, val: 10.6%, 11.3 batches/sec\n"
     ]
    },
    {
     "name": "stderr",
     "output_type": "stream",
     "text": [
      " 20%|██        | 80/400 [33:38<2:15:08, 25.34s/it]"
     ]
    },
    {
     "name": "stdout",
     "output_type": "stream",
     "text": [
      "Epoch   80, sqrt loss 0.02705, Val sim-NRMS 0.02992, Time Loss: 89.2%, data: 0.2%, val: 10.6%, 11.3 batches/sec\n"
     ]
    },
    {
     "name": "stderr",
     "output_type": "stream",
     "text": [
      " 20%|██        | 81/400 [34:04<2:15:26, 25.47s/it]"
     ]
    },
    {
     "name": "stdout",
     "output_type": "stream",
     "text": [
      "########## New lowest validation loss achieved ########### sim-NRMS = 0.02866846805634845\n",
      "Epoch   81, sqrt loss 0.04963, Val sim-NRMS 0.02867, Time Loss: 89.2%, data: 0.2%, val: 10.6%, 11.3 batches/sec\n"
     ]
    },
    {
     "name": "stderr",
     "output_type": "stream",
     "text": [
      " 20%|██        | 82/400 [34:29<2:14:38, 25.40s/it]"
     ]
    },
    {
     "name": "stdout",
     "output_type": "stream",
     "text": [
      "Epoch   82, sqrt loss 0.06143, Val sim-NRMS 0.04667, Time Loss: 89.2%, data: 0.2%, val: 10.6%, 11.3 batches/sec\n"
     ]
    },
    {
     "name": "stderr",
     "output_type": "stream",
     "text": [
      " 21%|██        | 83/400 [34:55<2:14:54, 25.53s/it]"
     ]
    },
    {
     "name": "stdout",
     "output_type": "stream",
     "text": [
      "Epoch   83, sqrt loss 0.02913, Val sim-NRMS 0.02913, Time Loss: 89.2%, data: 0.2%, val: 10.6%, 11.3 batches/sec\n"
     ]
    },
    {
     "name": "stderr",
     "output_type": "stream",
     "text": [
      " 21%|██        | 84/400 [35:20<2:13:58, 25.44s/it]"
     ]
    },
    {
     "name": "stdout",
     "output_type": "stream",
     "text": [
      "Epoch   84, sqrt loss 0.02985, Val sim-NRMS 0.1418, Time Loss: 89.2%, data: 0.2%, val: 10.6%, 11.3 batches/sec\n"
     ]
    },
    {
     "name": "stderr",
     "output_type": "stream",
     "text": [
      " 21%|██▏       | 85/400 [35:46<2:13:25, 25.42s/it]"
     ]
    },
    {
     "name": "stdout",
     "output_type": "stream",
     "text": [
      "Epoch   85, sqrt loss 0.08733, Val sim-NRMS 0.03077, Time Loss: 89.2%, data: 0.2%, val: 10.6%, 11.3 batches/sec\n"
     ]
    },
    {
     "name": "stderr",
     "output_type": "stream",
     "text": [
      " 22%|██▏       | 86/400 [36:11<2:13:04, 25.43s/it]"
     ]
    },
    {
     "name": "stdout",
     "output_type": "stream",
     "text": [
      "Epoch   86, sqrt loss 0.02675, Val sim-NRMS 0.02992, Time Loss: 89.2%, data: 0.2%, val: 10.6%, 11.3 batches/sec\n"
     ]
    },
    {
     "name": "stderr",
     "output_type": "stream",
     "text": [
      " 22%|██▏       | 87/400 [36:37<2:12:35, 25.42s/it]"
     ]
    },
    {
     "name": "stdout",
     "output_type": "stream",
     "text": [
      "########## New lowest validation loss achieved ########### sim-NRMS = 0.028000820241239528\n",
      "Epoch   87, sqrt loss 0.02737, Val sim-NRMS  0.028, Time Loss: 89.2%, data: 0.2%, val: 10.6%, 11.3 batches/sec\n"
     ]
    },
    {
     "name": "stderr",
     "output_type": "stream",
     "text": [
      " 22%|██▏       | 88/400 [37:02<2:12:24, 25.46s/it]"
     ]
    },
    {
     "name": "stdout",
     "output_type": "stream",
     "text": [
      "Epoch   88, sqrt loss 0.03268, Val sim-NRMS 0.04021, Time Loss: 89.2%, data: 0.2%, val: 10.6%, 11.3 batches/sec\n"
     ]
    },
    {
     "name": "stderr",
     "output_type": "stream",
     "text": [
      " 22%|██▏       | 89/400 [37:27<2:11:48, 25.43s/it]"
     ]
    },
    {
     "name": "stdout",
     "output_type": "stream",
     "text": [
      "Epoch   89, sqrt loss  0.0347, Val sim-NRMS 0.04147, Time Loss: 89.2%, data: 0.2%, val: 10.6%, 11.3 batches/sec\n"
     ]
    },
    {
     "name": "stderr",
     "output_type": "stream",
     "text": [
      " 22%|██▎       | 90/400 [37:53<2:11:28, 25.45s/it]"
     ]
    },
    {
     "name": "stdout",
     "output_type": "stream",
     "text": [
      "########## New lowest validation loss achieved ########### sim-NRMS = 0.027834250001531988\n",
      "Epoch   90, sqrt loss 0.03929, Val sim-NRMS 0.02783, Time Loss: 89.2%, data: 0.2%, val: 10.6%, 11.3 batches/sec\n"
     ]
    },
    {
     "name": "stderr",
     "output_type": "stream",
     "text": [
      " 23%|██▎       | 91/400 [38:19<2:11:18, 25.50s/it]"
     ]
    },
    {
     "name": "stdout",
     "output_type": "stream",
     "text": [
      "Epoch   91, sqrt loss  0.2122, Val sim-NRMS 0.05972, Time Loss: 89.2%, data: 0.2%, val: 10.6%, 11.3 batches/sec\n"
     ]
    },
    {
     "name": "stderr",
     "output_type": "stream",
     "text": [
      " 23%|██▎       | 92/400 [38:44<2:10:49, 25.48s/it]"
     ]
    },
    {
     "name": "stdout",
     "output_type": "stream",
     "text": [
      "Epoch   92, sqrt loss  0.0345, Val sim-NRMS 0.03044, Time Loss: 89.2%, data: 0.2%, val: 10.6%, 11.3 batches/sec\n"
     ]
    },
    {
     "name": "stderr",
     "output_type": "stream",
     "text": [
      " 23%|██▎       | 93/400 [39:09<2:10:23, 25.48s/it]"
     ]
    },
    {
     "name": "stdout",
     "output_type": "stream",
     "text": [
      "Epoch   93, sqrt loss 0.02761, Val sim-NRMS 0.02946, Time Loss: 89.2%, data: 0.2%, val: 10.6%, 11.3 batches/sec\n"
     ]
    },
    {
     "name": "stderr",
     "output_type": "stream",
     "text": [
      " 24%|██▎       | 94/400 [39:35<2:10:03, 25.50s/it]"
     ]
    },
    {
     "name": "stdout",
     "output_type": "stream",
     "text": [
      "Epoch   94, sqrt loss 0.02759, Val sim-NRMS 0.03151, Time Loss: 89.2%, data: 0.2%, val: 10.6%, 11.3 batches/sec\n"
     ]
    },
    {
     "name": "stderr",
     "output_type": "stream",
     "text": [
      " 24%|██▍       | 95/400 [40:00<2:09:30, 25.48s/it]"
     ]
    },
    {
     "name": "stdout",
     "output_type": "stream",
     "text": [
      "Epoch   95, sqrt loss 0.07017, Val sim-NRMS 0.04522, Time Loss: 89.2%, data: 0.2%, val: 10.6%, 11.3 batches/sec\n"
     ]
    },
    {
     "name": "stderr",
     "output_type": "stream",
     "text": [
      " 24%|██▍       | 96/400 [40:26<2:08:56, 25.45s/it]"
     ]
    },
    {
     "name": "stdout",
     "output_type": "stream",
     "text": [
      "Epoch   96, sqrt loss 0.02801, Val sim-NRMS 0.02806, Time Loss: 89.2%, data: 0.2%, val: 10.6%, 11.3 batches/sec\n"
     ]
    },
    {
     "name": "stderr",
     "output_type": "stream",
     "text": [
      " 24%|██▍       | 97/400 [40:51<2:08:13, 25.39s/it]"
     ]
    },
    {
     "name": "stdout",
     "output_type": "stream",
     "text": [
      "Epoch   97, sqrt loss 0.02645, Val sim-NRMS 0.03167, Time Loss: 89.2%, data: 0.2%, val: 10.6%, 11.3 batches/sec\n"
     ]
    },
    {
     "name": "stderr",
     "output_type": "stream",
     "text": [
      " 24%|██▍       | 98/400 [41:17<2:07:51, 25.40s/it]"
     ]
    },
    {
     "name": "stdout",
     "output_type": "stream",
     "text": [
      "Epoch   98, sqrt loss 0.02844, Val sim-NRMS 0.03198, Time Loss: 89.2%, data: 0.2%, val: 10.6%, 11.3 batches/sec\n"
     ]
    },
    {
     "name": "stderr",
     "output_type": "stream",
     "text": [
      " 25%|██▍       | 99/400 [41:42<2:07:39, 25.45s/it]"
     ]
    },
    {
     "name": "stdout",
     "output_type": "stream",
     "text": [
      "########## New lowest validation loss achieved ########### sim-NRMS = 0.027718897847473774\n",
      "Epoch   99, sqrt loss 0.05974, Val sim-NRMS 0.02772, Time Loss: 89.2%, data: 0.2%, val: 10.6%, 11.3 batches/sec\n"
     ]
    },
    {
     "name": "stderr",
     "output_type": "stream",
     "text": [
      " 25%|██▌       | 100/400 [42:08<2:07:33, 25.51s/it]"
     ]
    },
    {
     "name": "stdout",
     "output_type": "stream",
     "text": [
      "Epoch  100, sqrt loss 0.02609, Val sim-NRMS 0.03362, Time Loss: 89.2%, data: 0.2%, val: 10.6%, 11.3 batches/sec\n"
     ]
    },
    {
     "name": "stderr",
     "output_type": "stream",
     "text": [
      " 25%|██▌       | 101/400 [42:33<2:07:19, 25.55s/it]"
     ]
    },
    {
     "name": "stdout",
     "output_type": "stream",
     "text": [
      "########## New lowest validation loss achieved ########### sim-NRMS = 0.027205430344883652\n",
      "Epoch  101, sqrt loss 0.03154, Val sim-NRMS 0.02721, Time Loss: 89.2%, data: 0.2%, val: 10.6%, 11.3 batches/sec\n"
     ]
    },
    {
     "name": "stderr",
     "output_type": "stream",
     "text": [
      " 26%|██▌       | 102/400 [42:59<2:06:59, 25.57s/it]"
     ]
    },
    {
     "name": "stdout",
     "output_type": "stream",
     "text": [
      "Epoch  102, sqrt loss 0.03958, Val sim-NRMS 0.1029, Time Loss: 89.2%, data: 0.2%, val: 10.6%, 11.3 batches/sec\n"
     ]
    },
    {
     "name": "stderr",
     "output_type": "stream",
     "text": [
      " 26%|██▌       | 103/400 [43:25<2:06:32, 25.57s/it]"
     ]
    },
    {
     "name": "stdout",
     "output_type": "stream",
     "text": [
      "########## New lowest validation loss achieved ########### sim-NRMS = 0.027183812820228664\n",
      "Epoch  103, sqrt loss 0.06254, Val sim-NRMS 0.02718, Time Loss: 89.2%, data: 0.2%, val: 10.6%, 11.3 batches/sec\n"
     ]
    },
    {
     "name": "stderr",
     "output_type": "stream",
     "text": [
      " 26%|██▌       | 104/400 [43:50<2:06:00, 25.54s/it]"
     ]
    },
    {
     "name": "stdout",
     "output_type": "stream",
     "text": [
      "########## New lowest validation loss achieved ########### sim-NRMS = 0.02710311859071111\n",
      "Epoch  104, sqrt loss 0.02826, Val sim-NRMS 0.0271, Time Loss: 89.2%, data: 0.2%, val: 10.6%, 11.3 batches/sec\n"
     ]
    },
    {
     "name": "stderr",
     "output_type": "stream",
     "text": [
      " 26%|██▋       | 105/400 [44:16<2:05:41, 25.56s/it]"
     ]
    },
    {
     "name": "stdout",
     "output_type": "stream",
     "text": [
      "Epoch  105, sqrt loss 0.03146, Val sim-NRMS 0.02937, Time Loss: 89.2%, data: 0.2%, val: 10.6%, 11.3 batches/sec\n"
     ]
    },
    {
     "name": "stderr",
     "output_type": "stream",
     "text": [
      " 26%|██▋       | 106/400 [44:41<2:05:15, 25.56s/it]"
     ]
    },
    {
     "name": "stdout",
     "output_type": "stream",
     "text": [
      "Epoch  106, sqrt loss 0.03383, Val sim-NRMS 0.03719, Time Loss: 89.2%, data: 0.2%, val: 10.6%, 11.3 batches/sec\n"
     ]
    },
    {
     "name": "stderr",
     "output_type": "stream",
     "text": [
      " 27%|██▋       | 107/400 [45:07<2:04:48, 25.56s/it]"
     ]
    },
    {
     "name": "stdout",
     "output_type": "stream",
     "text": [
      "Epoch  107, sqrt loss 0.03399, Val sim-NRMS 0.02932, Time Loss: 89.2%, data: 0.2%, val: 10.6%, 11.3 batches/sec\n"
     ]
    },
    {
     "name": "stderr",
     "output_type": "stream",
     "text": [
      " 27%|██▋       | 108/400 [45:32<2:04:03, 25.49s/it]"
     ]
    },
    {
     "name": "stdout",
     "output_type": "stream",
     "text": [
      "Epoch  108, sqrt loss 0.03504, Val sim-NRMS 0.03454, Time Loss: 89.2%, data: 0.2%, val: 10.6%, 11.3 batches/sec\n"
     ]
    },
    {
     "name": "stderr",
     "output_type": "stream",
     "text": [
      " 27%|██▋       | 109/400 [45:57<2:03:30, 25.46s/it]"
     ]
    },
    {
     "name": "stdout",
     "output_type": "stream",
     "text": [
      "Epoch  109, sqrt loss 0.03701, Val sim-NRMS 0.02755, Time Loss: 89.2%, data: 0.2%, val: 10.6%, 11.3 batches/sec\n"
     ]
    },
    {
     "name": "stderr",
     "output_type": "stream",
     "text": [
      " 28%|██▊       | 110/400 [46:23<2:03:19, 25.52s/it]"
     ]
    },
    {
     "name": "stdout",
     "output_type": "stream",
     "text": [
      "Epoch  110, sqrt loss  0.2166, Val sim-NRMS 0.06415, Time Loss: 89.2%, data: 0.2%, val: 10.6%, 11.3 batches/sec\n"
     ]
    },
    {
     "name": "stderr",
     "output_type": "stream",
     "text": [
      " 28%|██▊       | 111/400 [46:49<2:03:01, 25.54s/it]"
     ]
    },
    {
     "name": "stdout",
     "output_type": "stream",
     "text": [
      "Epoch  111, sqrt loss 0.03381, Val sim-NRMS 0.02807, Time Loss: 89.2%, data: 0.2%, val: 10.6%, 11.3 batches/sec\n"
     ]
    },
    {
     "name": "stderr",
     "output_type": "stream",
     "text": [
      " 28%|██▊       | 112/400 [47:14<2:02:37, 25.55s/it]"
     ]
    },
    {
     "name": "stdout",
     "output_type": "stream",
     "text": [
      "Epoch  112, sqrt loss 0.02535, Val sim-NRMS 0.02731, Time Loss: 89.2%, data: 0.2%, val: 10.6%, 11.3 batches/sec\n"
     ]
    },
    {
     "name": "stderr",
     "output_type": "stream",
     "text": [
      " 28%|██▊       | 113/400 [47:40<2:02:32, 25.62s/it]"
     ]
    },
    {
     "name": "stdout",
     "output_type": "stream",
     "text": [
      "########## New lowest validation loss achieved ########### sim-NRMS = 0.026264775809090465\n",
      "Epoch  113, sqrt loss 0.02824, Val sim-NRMS 0.02626, Time Loss: 89.2%, data: 0.2%, val: 10.6%, 11.3 batches/sec\n"
     ]
    },
    {
     "name": "stderr",
     "output_type": "stream",
     "text": [
      " 28%|██▊       | 114/400 [48:06<2:02:13, 25.64s/it]"
     ]
    },
    {
     "name": "stdout",
     "output_type": "stream",
     "text": [
      "Epoch  114, sqrt loss 0.03305, Val sim-NRMS 0.02803, Time Loss: 89.2%, data: 0.2%, val: 10.6%, 11.3 batches/sec\n"
     ]
    },
    {
     "name": "stderr",
     "output_type": "stream",
     "text": [
      " 29%|██▉       | 115/400 [48:31<2:01:38, 25.61s/it]"
     ]
    },
    {
     "name": "stdout",
     "output_type": "stream",
     "text": [
      "Epoch  115, sqrt loss 0.03164, Val sim-NRMS 0.04581, Time Loss: 89.2%, data: 0.2%, val: 10.6%, 11.3 batches/sec\n"
     ]
    },
    {
     "name": "stderr",
     "output_type": "stream",
     "text": [
      " 29%|██▉       | 116/400 [48:57<2:00:57, 25.56s/it]"
     ]
    },
    {
     "name": "stdout",
     "output_type": "stream",
     "text": [
      "Epoch  116, sqrt loss 0.03147, Val sim-NRMS 0.03424, Time Loss: 89.2%, data: 0.2%, val: 10.6%, 11.3 batches/sec\n"
     ]
    },
    {
     "name": "stderr",
     "output_type": "stream",
     "text": [
      " 29%|██▉       | 117/400 [49:22<2:00:07, 25.47s/it]"
     ]
    },
    {
     "name": "stdout",
     "output_type": "stream",
     "text": [
      "Epoch  117, sqrt loss 0.06282, Val sim-NRMS 0.0263, Time Loss: 89.2%, data: 0.2%, val: 10.6%, 11.3 batches/sec\n"
     ]
    },
    {
     "name": "stderr",
     "output_type": "stream",
     "text": [
      " 30%|██▉       | 118/400 [49:47<1:59:33, 25.44s/it]"
     ]
    },
    {
     "name": "stdout",
     "output_type": "stream",
     "text": [
      "########## New lowest validation loss achieved ########### sim-NRMS = 0.02516574504313207\n",
      "Epoch  118, sqrt loss 0.02404, Val sim-NRMS 0.02517, Time Loss: 89.2%, data: 0.2%, val: 10.6%, 11.3 batches/sec\n"
     ]
    },
    {
     "name": "stderr",
     "output_type": "stream",
     "text": [
      " 30%|██▉       | 119/400 [50:13<1:59:00, 25.41s/it]"
     ]
    },
    {
     "name": "stdout",
     "output_type": "stream",
     "text": [
      "Epoch  119, sqrt loss 0.02887, Val sim-NRMS 0.03504, Time Loss: 89.2%, data: 0.2%, val: 10.6%, 11.3 batches/sec\n"
     ]
    },
    {
     "name": "stderr",
     "output_type": "stream",
     "text": [
      " 30%|███       | 120/400 [50:38<1:58:43, 25.44s/it]"
     ]
    },
    {
     "name": "stdout",
     "output_type": "stream",
     "text": [
      "Epoch  120, sqrt loss 0.09132, Val sim-NRMS 0.03522, Time Loss: 89.2%, data: 0.2%, val: 10.6%, 11.3 batches/sec\n"
     ]
    },
    {
     "name": "stderr",
     "output_type": "stream",
     "text": [
      " 30%|███       | 121/400 [51:04<1:58:12, 25.42s/it]"
     ]
    },
    {
     "name": "stdout",
     "output_type": "stream",
     "text": [
      "Epoch  121, sqrt loss 0.02532, Val sim-NRMS 0.02631, Time Loss: 89.2%, data: 0.2%, val: 10.6%, 11.3 batches/sec\n"
     ]
    },
    {
     "name": "stderr",
     "output_type": "stream",
     "text": [
      " 30%|███       | 122/400 [51:29<1:57:43, 25.41s/it]"
     ]
    },
    {
     "name": "stdout",
     "output_type": "stream",
     "text": [
      "Epoch  122, sqrt loss 0.02368, Val sim-NRMS 0.02529, Time Loss: 89.2%, data: 0.2%, val: 10.6%, 11.3 batches/sec\n"
     ]
    },
    {
     "name": "stderr",
     "output_type": "stream",
     "text": [
      " 31%|███       | 123/400 [51:54<1:57:19, 25.41s/it]"
     ]
    },
    {
     "name": "stdout",
     "output_type": "stream",
     "text": [
      "Epoch  123, sqrt loss 0.02463, Val sim-NRMS 0.02626, Time Loss: 89.2%, data: 0.2%, val: 10.6%, 11.3 batches/sec\n"
     ]
    },
    {
     "name": "stderr",
     "output_type": "stream",
     "text": [
      " 31%|███       | 124/400 [52:19<1:56:24, 25.31s/it]"
     ]
    },
    {
     "name": "stdout",
     "output_type": "stream",
     "text": [
      "Epoch  124, sqrt loss 0.02948, Val sim-NRMS 0.03183, Time Loss: 89.2%, data: 0.2%, val: 10.6%, 11.3 batches/sec\n"
     ]
    },
    {
     "name": "stderr",
     "output_type": "stream",
     "text": [
      " 31%|███▏      | 125/400 [52:45<1:56:08, 25.34s/it]"
     ]
    },
    {
     "name": "stdout",
     "output_type": "stream",
     "text": [
      "Epoch  125, sqrt loss 0.05656, Val sim-NRMS 0.0272, Time Loss: 89.2%, data: 0.2%, val: 10.6%, 11.3 batches/sec\n"
     ]
    },
    {
     "name": "stderr",
     "output_type": "stream",
     "text": [
      " 32%|███▏      | 126/400 [53:10<1:55:28, 25.29s/it]"
     ]
    },
    {
     "name": "stdout",
     "output_type": "stream",
     "text": [
      "Epoch  126, sqrt loss 0.02447, Val sim-NRMS 0.02581, Time Loss: 89.2%, data: 0.2%, val: 10.6%, 11.3 batches/sec\n"
     ]
    },
    {
     "name": "stderr",
     "output_type": "stream",
     "text": [
      " 32%|███▏      | 127/400 [53:35<1:55:10, 25.31s/it]"
     ]
    },
    {
     "name": "stdout",
     "output_type": "stream",
     "text": [
      "Epoch  127, sqrt loss 0.02675, Val sim-NRMS 0.02698, Time Loss: 89.2%, data: 0.2%, val: 10.6%, 11.3 batches/sec\n"
     ]
    },
    {
     "name": "stderr",
     "output_type": "stream",
     "text": [
      " 32%|███▏      | 128/400 [54:01<1:54:42, 25.30s/it]"
     ]
    },
    {
     "name": "stdout",
     "output_type": "stream",
     "text": [
      "Epoch  128, sqrt loss  0.1822, Val sim-NRMS 0.03919, Time Loss: 89.2%, data: 0.2%, val: 10.6%, 11.3 batches/sec\n"
     ]
    },
    {
     "name": "stderr",
     "output_type": "stream",
     "text": [
      " 32%|███▏      | 129/400 [54:26<1:54:49, 25.42s/it]"
     ]
    },
    {
     "name": "stdout",
     "output_type": "stream",
     "text": [
      "Epoch  129, sqrt loss 0.02767, Val sim-NRMS 0.0256, Time Loss: 89.2%, data: 0.2%, val: 10.6%, 11.3 batches/sec\n"
     ]
    },
    {
     "name": "stderr",
     "output_type": "stream",
     "text": [
      " 32%|███▎      | 130/400 [54:52<1:54:37, 25.47s/it]"
     ]
    },
    {
     "name": "stdout",
     "output_type": "stream",
     "text": [
      "########## New lowest validation loss achieved ########### sim-NRMS = 0.024520543363118534\n",
      "Epoch  130, sqrt loss 0.02354, Val sim-NRMS 0.02452, Time Loss: 89.2%, data: 0.2%, val: 10.6%, 11.3 batches/sec\n"
     ]
    },
    {
     "name": "stderr",
     "output_type": "stream",
     "text": [
      " 33%|███▎      | 131/400 [55:17<1:53:57, 25.42s/it]"
     ]
    },
    {
     "name": "stdout",
     "output_type": "stream",
     "text": [
      "Epoch  131, sqrt loss  0.0231, Val sim-NRMS 0.02552, Time Loss: 89.2%, data: 0.2%, val: 10.6%, 11.3 batches/sec\n"
     ]
    },
    {
     "name": "stderr",
     "output_type": "stream",
     "text": [
      " 33%|███▎      | 132/400 [55:43<1:53:32, 25.42s/it]"
     ]
    },
    {
     "name": "stdout",
     "output_type": "stream",
     "text": [
      "Epoch  132, sqrt loss 0.02434, Val sim-NRMS 0.02542, Time Loss: 89.2%, data: 0.2%, val: 10.6%, 11.3 batches/sec\n"
     ]
    },
    {
     "name": "stderr",
     "output_type": "stream",
     "text": [
      " 33%|███▎      | 133/400 [56:08<1:53:09, 25.43s/it]"
     ]
    },
    {
     "name": "stdout",
     "output_type": "stream",
     "text": [
      "Epoch  133, sqrt loss 0.02977, Val sim-NRMS 0.02468, Time Loss: 89.2%, data: 0.2%, val: 10.6%, 11.3 batches/sec\n"
     ]
    },
    {
     "name": "stderr",
     "output_type": "stream",
     "text": [
      " 34%|███▎      | 134/400 [56:33<1:52:37, 25.40s/it]"
     ]
    },
    {
     "name": "stdout",
     "output_type": "stream",
     "text": [
      "Epoch  134, sqrt loss 0.03035, Val sim-NRMS 0.06608, Time Loss: 89.2%, data: 0.2%, val: 10.6%, 11.3 batches/sec\n"
     ]
    },
    {
     "name": "stderr",
     "output_type": "stream",
     "text": [
      " 34%|███▍      | 135/400 [56:59<1:52:11, 25.40s/it]"
     ]
    },
    {
     "name": "stdout",
     "output_type": "stream",
     "text": [
      "Epoch  135, sqrt loss 0.03108, Val sim-NRMS 0.04232, Time Loss: 89.2%, data: 0.2%, val: 10.6%, 11.3 batches/sec\n"
     ]
    },
    {
     "name": "stderr",
     "output_type": "stream",
     "text": [
      " 34%|███▍      | 136/400 [57:24<1:51:35, 25.36s/it]"
     ]
    },
    {
     "name": "stdout",
     "output_type": "stream",
     "text": [
      "Epoch  136, sqrt loss 0.03064, Val sim-NRMS 0.02705, Time Loss: 89.2%, data: 0.2%, val: 10.6%, 11.3 batches/sec\n"
     ]
    },
    {
     "name": "stderr",
     "output_type": "stream",
     "text": [
      " 34%|███▍      | 137/400 [57:50<1:51:15, 25.38s/it]"
     ]
    },
    {
     "name": "stdout",
     "output_type": "stream",
     "text": [
      "Epoch  137, sqrt loss 0.08008, Val sim-NRMS 0.03593, Time Loss: 89.2%, data: 0.2%, val: 10.6%, 11.3 batches/sec\n"
     ]
    },
    {
     "name": "stderr",
     "output_type": "stream",
     "text": [
      " 34%|███▍      | 138/400 [58:15<1:50:44, 25.36s/it]"
     ]
    },
    {
     "name": "stdout",
     "output_type": "stream",
     "text": [
      "Epoch  138, sqrt loss 0.02478, Val sim-NRMS 0.02546, Time Loss: 89.2%, data: 0.2%, val: 10.6%, 11.3 batches/sec\n"
     ]
    },
    {
     "name": "stderr",
     "output_type": "stream",
     "text": [
      " 35%|███▍      | 139/400 [58:40<1:50:15, 25.35s/it]"
     ]
    },
    {
     "name": "stdout",
     "output_type": "stream",
     "text": [
      "########## New lowest validation loss achieved ########### sim-NRMS = 0.024315020629303213\n",
      "Epoch  139, sqrt loss 0.02283, Val sim-NRMS 0.02432, Time Loss: 89.2%, data: 0.2%, val: 10.6%, 11.3 batches/sec\n"
     ]
    },
    {
     "name": "stderr",
     "output_type": "stream",
     "text": [
      " 35%|███▌      | 140/400 [59:06<1:50:07, 25.41s/it]"
     ]
    },
    {
     "name": "stdout",
     "output_type": "stream",
     "text": [
      "########## New lowest validation loss achieved ########### sim-NRMS = 0.024182372066847868\n",
      "Epoch  140, sqrt loss 0.02319, Val sim-NRMS 0.02418, Time Loss: 89.2%, data: 0.2%, val: 10.6%, 11.3 batches/sec\n"
     ]
    },
    {
     "name": "stderr",
     "output_type": "stream",
     "text": [
      " 35%|███▌      | 141/400 [59:31<1:49:42, 25.42s/it]"
     ]
    },
    {
     "name": "stdout",
     "output_type": "stream",
     "text": [
      "Epoch  141, sqrt loss 0.03039, Val sim-NRMS 0.05269, Time Loss: 89.2%, data: 0.2%, val: 10.6%, 11.3 batches/sec\n"
     ]
    },
    {
     "name": "stderr",
     "output_type": "stream",
     "text": [
      " 36%|███▌      | 142/400 [59:57<1:49:20, 25.43s/it]"
     ]
    },
    {
     "name": "stdout",
     "output_type": "stream",
     "text": [
      "Epoch  142, sqrt loss  0.0268, Val sim-NRMS 0.04898, Time Loss: 89.2%, data: 0.2%, val: 10.6%, 11.3 batches/sec\n"
     ]
    },
    {
     "name": "stderr",
     "output_type": "stream",
     "text": [
      " 36%|███▌      | 143/400 [1:00:22<1:48:47, 25.40s/it]"
     ]
    },
    {
     "name": "stdout",
     "output_type": "stream",
     "text": [
      "Epoch  143, sqrt loss  0.0316, Val sim-NRMS 0.02448, Time Loss: 89.2%, data: 0.2%, val: 10.6%, 11.3 batches/sec\n"
     ]
    },
    {
     "name": "stderr",
     "output_type": "stream",
     "text": [
      " 36%|███▌      | 144/400 [1:00:48<1:48:32, 25.44s/it]"
     ]
    },
    {
     "name": "stdout",
     "output_type": "stream",
     "text": [
      "Epoch  144, sqrt loss 0.03579, Val sim-NRMS 0.03376, Time Loss: 89.2%, data: 0.2%, val: 10.6%, 11.3 batches/sec\n"
     ]
    },
    {
     "name": "stderr",
     "output_type": "stream",
     "text": [
      " 36%|███▋      | 145/400 [1:01:13<1:48:02, 25.42s/it]"
     ]
    },
    {
     "name": "stdout",
     "output_type": "stream",
     "text": [
      "Epoch  145, sqrt loss 0.03027, Val sim-NRMS 0.02579, Time Loss: 89.2%, data: 0.2%, val: 10.6%, 11.3 batches/sec\n"
     ]
    },
    {
     "name": "stderr",
     "output_type": "stream",
     "text": [
      " 36%|███▋      | 146/400 [1:01:38<1:47:44, 25.45s/it]"
     ]
    },
    {
     "name": "stdout",
     "output_type": "stream",
     "text": [
      "Epoch  146, sqrt loss 0.03131, Val sim-NRMS 0.08143, Time Loss: 89.2%, data: 0.2%, val: 10.6%, 11.3 batches/sec\n"
     ]
    },
    {
     "name": "stderr",
     "output_type": "stream",
     "text": [
      " 37%|███▋      | 147/400 [1:02:04<1:47:20, 25.46s/it]"
     ]
    },
    {
     "name": "stdout",
     "output_type": "stream",
     "text": [
      "Epoch  147, sqrt loss 0.03296, Val sim-NRMS 0.02739, Time Loss: 89.2%, data: 0.2%, val: 10.6%, 11.3 batches/sec\n"
     ]
    },
    {
     "name": "stderr",
     "output_type": "stream",
     "text": [
      " 37%|███▋      | 148/400 [1:02:29<1:46:58, 25.47s/it]"
     ]
    },
    {
     "name": "stdout",
     "output_type": "stream",
     "text": [
      "Epoch  148, sqrt loss 0.03343, Val sim-NRMS 0.05719, Time Loss: 89.2%, data: 0.2%, val: 10.6%, 11.3 batches/sec\n"
     ]
    },
    {
     "name": "stderr",
     "output_type": "stream",
     "text": [
      " 37%|███▋      | 149/400 [1:02:55<1:46:36, 25.48s/it]"
     ]
    },
    {
     "name": "stdout",
     "output_type": "stream",
     "text": [
      "Epoch  149, sqrt loss 0.03143, Val sim-NRMS 0.03643, Time Loss: 89.2%, data: 0.2%, val: 10.6%, 11.3 batches/sec\n"
     ]
    },
    {
     "name": "stderr",
     "output_type": "stream",
     "text": [
      " 38%|███▊      | 150/400 [1:03:21<1:46:21, 25.53s/it]"
     ]
    },
    {
     "name": "stdout",
     "output_type": "stream",
     "text": [
      "Epoch  150, sqrt loss 0.02901, Val sim-NRMS 0.02905, Time Loss: 89.2%, data: 0.2%, val: 10.6%, 11.3 batches/sec\n"
     ]
    },
    {
     "name": "stderr",
     "output_type": "stream",
     "text": [
      " 38%|███▊      | 151/400 [1:03:46<1:45:52, 25.51s/it]"
     ]
    },
    {
     "name": "stdout",
     "output_type": "stream",
     "text": [
      "Epoch  151, sqrt loss 0.03155, Val sim-NRMS 0.02687, Time Loss: 89.2%, data: 0.2%, val: 10.6%, 11.3 batches/sec\n"
     ]
    },
    {
     "name": "stderr",
     "output_type": "stream",
     "text": [
      " 38%|███▊      | 152/400 [1:04:12<1:46:08, 25.68s/it]"
     ]
    },
    {
     "name": "stdout",
     "output_type": "stream",
     "text": [
      "Epoch  152, sqrt loss  0.0317, Val sim-NRMS 0.03541, Time Loss: 89.2%, data: 0.2%, val: 10.6%, 11.3 batches/sec\n"
     ]
    },
    {
     "name": "stderr",
     "output_type": "stream",
     "text": [
      " 38%|███▊      | 153/400 [1:04:37<1:44:12, 25.31s/it]"
     ]
    },
    {
     "name": "stdout",
     "output_type": "stream",
     "text": [
      "Epoch  153, sqrt loss 0.03028, Val sim-NRMS 0.04987, Time Loss: 89.2%, data: 0.2%, val: 10.6%, 11.3 batches/sec\n"
     ]
    },
    {
     "name": "stderr",
     "output_type": "stream",
     "text": [
      " 38%|███▊      | 154/400 [1:05:01<1:43:14, 25.18s/it]"
     ]
    },
    {
     "name": "stdout",
     "output_type": "stream",
     "text": [
      "Epoch  154, sqrt loss 0.02904, Val sim-NRMS 0.02639, Time Loss: 89.2%, data: 0.2%, val: 10.6%, 11.3 batches/sec\n"
     ]
    },
    {
     "name": "stderr",
     "output_type": "stream",
     "text": [
      " 39%|███▉      | 155/400 [1:05:26<1:41:46, 24.92s/it]"
     ]
    },
    {
     "name": "stdout",
     "output_type": "stream",
     "text": [
      "Epoch  155, sqrt loss 0.03192, Val sim-NRMS 0.02461, Time Loss: 89.2%, data: 0.2%, val: 10.6%, 11.3 batches/sec\n"
     ]
    },
    {
     "name": "stderr",
     "output_type": "stream",
     "text": [
      " 39%|███▉      | 156/400 [1:05:52<1:43:29, 25.45s/it]"
     ]
    },
    {
     "name": "stdout",
     "output_type": "stream",
     "text": [
      "Epoch  156, sqrt loss 0.03143, Val sim-NRMS 0.02467, Time Loss: 89.2%, data: 0.2%, val: 10.6%, 11.3 batches/sec\n"
     ]
    },
    {
     "name": "stderr",
     "output_type": "stream",
     "text": [
      " 39%|███▉      | 157/400 [1:06:18<1:43:37, 25.59s/it]"
     ]
    },
    {
     "name": "stdout",
     "output_type": "stream",
     "text": [
      "########## New lowest validation loss achieved ########### sim-NRMS = 0.023889592657239313\n",
      "Epoch  157, sqrt loss 0.03269, Val sim-NRMS 0.02389, Time Loss: 89.2%, data: 0.2%, val: 10.6%, 11.3 batches/sec\n"
     ]
    },
    {
     "name": "stderr",
     "output_type": "stream",
     "text": [
      " 40%|███▉      | 158/400 [1:06:45<1:44:20, 25.87s/it]"
     ]
    },
    {
     "name": "stdout",
     "output_type": "stream",
     "text": [
      "Epoch  158, sqrt loss  0.2137, Val sim-NRMS 0.3843, Time Loss: 89.2%, data: 0.2%, val: 10.6%, 11.3 batches/sec\n"
     ]
    },
    {
     "name": "stderr",
     "output_type": "stream",
     "text": [
      " 40%|███▉      | 159/400 [1:07:10<1:43:14, 25.70s/it]"
     ]
    },
    {
     "name": "stdout",
     "output_type": "stream",
     "text": [
      "Epoch  159, sqrt loss 0.07979, Val sim-NRMS 0.02882, Time Loss: 89.2%, data: 0.2%, val: 10.6%, 11.3 batches/sec\n"
     ]
    },
    {
     "name": "stderr",
     "output_type": "stream",
     "text": [
      " 40%|████      | 160/400 [1:07:36<1:42:36, 25.65s/it]"
     ]
    },
    {
     "name": "stdout",
     "output_type": "stream",
     "text": [
      "Epoch  160, sqrt loss 0.02408, Val sim-NRMS 0.02538, Time Loss: 89.2%, data: 0.2%, val: 10.6%, 11.3 batches/sec\n"
     ]
    },
    {
     "name": "stderr",
     "output_type": "stream",
     "text": [
      " 40%|████      | 161/400 [1:08:01<1:41:24, 25.46s/it]"
     ]
    },
    {
     "name": "stdout",
     "output_type": "stream",
     "text": [
      "Epoch  161, sqrt loss 0.02303, Val sim-NRMS 0.02492, Time Loss: 89.2%, data: 0.2%, val: 10.6%, 11.3 batches/sec\n"
     ]
    },
    {
     "name": "stderr",
     "output_type": "stream",
     "text": [
      " 40%|████      | 162/400 [1:08:26<1:40:48, 25.41s/it]"
     ]
    },
    {
     "name": "stdout",
     "output_type": "stream",
     "text": [
      "Epoch  162, sqrt loss 0.02271, Val sim-NRMS 0.02423, Time Loss: 89.2%, data: 0.2%, val: 10.6%, 11.3 batches/sec\n"
     ]
    },
    {
     "name": "stderr",
     "output_type": "stream",
     "text": [
      " 41%|████      | 163/400 [1:08:52<1:40:32, 25.45s/it]"
     ]
    },
    {
     "name": "stdout",
     "output_type": "stream",
     "text": [
      "Epoch  163, sqrt loss 0.02458, Val sim-NRMS 0.02643, Time Loss: 89.2%, data: 0.2%, val: 10.6%, 11.3 batches/sec\n"
     ]
    },
    {
     "name": "stderr",
     "output_type": "stream",
     "text": [
      " 41%|████      | 164/400 [1:09:17<1:39:46, 25.37s/it]"
     ]
    },
    {
     "name": "stdout",
     "output_type": "stream",
     "text": [
      "########## New lowest validation loss achieved ########### sim-NRMS = 0.023780080160188972\n",
      "Epoch  164, sqrt loss 0.02671, Val sim-NRMS 0.02378, Time Loss: 89.2%, data: 0.2%, val: 10.6%, 11.3 batches/sec\n"
     ]
    },
    {
     "name": "stderr",
     "output_type": "stream",
     "text": [
      " 41%|████▏     | 165/400 [1:09:41<1:38:36, 25.18s/it]"
     ]
    },
    {
     "name": "stdout",
     "output_type": "stream",
     "text": [
      "Epoch  165, sqrt loss 0.02883, Val sim-NRMS 0.02919, Time Loss: 89.2%, data: 0.2%, val: 10.6%, 11.3 batches/sec\n"
     ]
    },
    {
     "name": "stderr",
     "output_type": "stream",
     "text": [
      " 42%|████▏     | 166/400 [1:10:08<1:39:15, 25.45s/it]"
     ]
    },
    {
     "name": "stdout",
     "output_type": "stream",
     "text": [
      "Epoch  166, sqrt loss 0.03188, Val sim-NRMS 0.02602, Time Loss: 89.2%, data: 0.2%, val: 10.6%, 11.3 batches/sec\n"
     ]
    },
    {
     "name": "stderr",
     "output_type": "stream",
     "text": [
      " 42%|████▏     | 167/400 [1:10:34<1:39:47, 25.70s/it]"
     ]
    },
    {
     "name": "stdout",
     "output_type": "stream",
     "text": [
      "Epoch  167, sqrt loss 0.02667, Val sim-NRMS 0.02757, Time Loss: 89.2%, data: 0.2%, val: 10.6%, 11.3 batches/sec\n"
     ]
    },
    {
     "name": "stderr",
     "output_type": "stream",
     "text": [
      " 42%|████▏     | 168/400 [1:10:59<1:38:41, 25.52s/it]"
     ]
    },
    {
     "name": "stdout",
     "output_type": "stream",
     "text": [
      "Epoch  168, sqrt loss 0.03011, Val sim-NRMS 0.04915, Time Loss: 89.2%, data: 0.2%, val: 10.6%, 11.3 batches/sec\n"
     ]
    },
    {
     "name": "stderr",
     "output_type": "stream",
     "text": [
      " 42%|████▏     | 169/400 [1:11:24<1:38:07, 25.49s/it]"
     ]
    },
    {
     "name": "stdout",
     "output_type": "stream",
     "text": [
      "Epoch  169, sqrt loss 0.02864, Val sim-NRMS 0.02966, Time Loss: 89.2%, data: 0.2%, val: 10.6%, 11.3 batches/sec\n"
     ]
    },
    {
     "name": "stderr",
     "output_type": "stream",
     "text": [
      " 42%|████▎     | 170/400 [1:11:50<1:37:31, 25.44s/it]"
     ]
    },
    {
     "name": "stdout",
     "output_type": "stream",
     "text": [
      "Epoch  170, sqrt loss 0.02923, Val sim-NRMS 0.0425, Time Loss: 89.2%, data: 0.2%, val: 10.6%, 11.3 batches/sec\n"
     ]
    },
    {
     "name": "stderr",
     "output_type": "stream",
     "text": [
      " 43%|████▎     | 171/400 [1:12:14<1:35:55, 25.13s/it]"
     ]
    },
    {
     "name": "stdout",
     "output_type": "stream",
     "text": [
      "Epoch  171, sqrt loss 0.03092, Val sim-NRMS 0.09321, Time Loss: 89.2%, data: 0.2%, val: 10.6%, 11.3 batches/sec\n"
     ]
    },
    {
     "name": "stderr",
     "output_type": "stream",
     "text": [
      " 43%|████▎     | 172/400 [1:12:38<1:34:16, 24.81s/it]"
     ]
    },
    {
     "name": "stdout",
     "output_type": "stream",
     "text": [
      "Epoch  172, sqrt loss  0.1927, Val sim-NRMS 0.02493, Time Loss: 89.2%, data: 0.2%, val: 10.6%, 11.3 batches/sec\n"
     ]
    },
    {
     "name": "stderr",
     "output_type": "stream",
     "text": [
      " 43%|████▎     | 173/400 [1:13:02<1:33:02, 24.59s/it]"
     ]
    },
    {
     "name": "stdout",
     "output_type": "stream",
     "text": [
      "########## New lowest validation loss achieved ########### sim-NRMS = 0.023488025244135267\n",
      "Epoch  173, sqrt loss 0.02345, Val sim-NRMS 0.02349, Time Loss: 89.2%, data: 0.2%, val: 10.6%, 11.3 batches/sec\n"
     ]
    },
    {
     "name": "stderr",
     "output_type": "stream",
     "text": [
      " 44%|████▎     | 174/400 [1:13:27<1:32:45, 24.63s/it]"
     ]
    },
    {
     "name": "stdout",
     "output_type": "stream",
     "text": [
      "Epoch  174, sqrt loss 0.02245, Val sim-NRMS 0.0256, Time Loss: 89.2%, data: 0.2%, val: 10.6%, 11.3 batches/sec\n"
     ]
    },
    {
     "name": "stderr",
     "output_type": "stream",
     "text": [
      " 44%|████▍     | 175/400 [1:13:51<1:31:38, 24.44s/it]"
     ]
    },
    {
     "name": "stdout",
     "output_type": "stream",
     "text": [
      "Epoch  175, sqrt loss 0.02263, Val sim-NRMS 0.02364, Time Loss: 89.2%, data: 0.2%, val: 10.6%, 11.3 batches/sec\n"
     ]
    },
    {
     "name": "stderr",
     "output_type": "stream",
     "text": [
      " 44%|████▍     | 176/400 [1:14:15<1:30:49, 24.33s/it]"
     ]
    },
    {
     "name": "stdout",
     "output_type": "stream",
     "text": [
      "Epoch  176, sqrt loss 0.02705, Val sim-NRMS 0.02387, Time Loss: 89.2%, data: 0.2%, val: 10.6%, 11.3 batches/sec\n"
     ]
    },
    {
     "name": "stderr",
     "output_type": "stream",
     "text": [
      " 44%|████▍     | 177/400 [1:14:38<1:29:01, 23.95s/it]"
     ]
    },
    {
     "name": "stdout",
     "output_type": "stream",
     "text": [
      "Epoch  177, sqrt loss  0.0285, Val sim-NRMS 0.02634, Time Loss: 89.2%, data: 0.2%, val: 10.6%, 11.3 batches/sec\n"
     ]
    },
    {
     "name": "stderr",
     "output_type": "stream",
     "text": [
      " 44%|████▍     | 178/400 [1:15:01<1:27:36, 23.68s/it]"
     ]
    },
    {
     "name": "stdout",
     "output_type": "stream",
     "text": [
      "Epoch  178, sqrt loss 0.02903, Val sim-NRMS 0.03347, Time Loss: 89.2%, data: 0.2%, val: 10.6%, 11.3 batches/sec\n"
     ]
    },
    {
     "name": "stderr",
     "output_type": "stream",
     "text": [
      " 45%|████▍     | 179/400 [1:15:25<1:26:57, 23.61s/it]"
     ]
    },
    {
     "name": "stdout",
     "output_type": "stream",
     "text": [
      "Epoch  179, sqrt loss 0.02728, Val sim-NRMS 0.06924, Time Loss: 89.2%, data: 0.2%, val: 10.6%, 11.3 batches/sec\n"
     ]
    },
    {
     "name": "stderr",
     "output_type": "stream",
     "text": [
      " 45%|████▌     | 180/400 [1:15:48<1:26:13, 23.52s/it]"
     ]
    },
    {
     "name": "stdout",
     "output_type": "stream",
     "text": [
      "Epoch  180, sqrt loss  0.0283, Val sim-NRMS 0.04129, Time Loss: 89.2%, data: 0.2%, val: 10.6%, 11.3 batches/sec\n"
     ]
    },
    {
     "name": "stderr",
     "output_type": "stream",
     "text": [
      " 45%|████▌     | 181/400 [1:16:11<1:25:50, 23.52s/it]"
     ]
    },
    {
     "name": "stdout",
     "output_type": "stream",
     "text": [
      "########## New lowest validation loss achieved ########### sim-NRMS = 0.02316617632460149\n",
      "Epoch  181, sqrt loss 0.03132, Val sim-NRMS 0.02317, Time Loss: 89.2%, data: 0.2%, val: 10.6%, 11.3 batches/sec\n"
     ]
    },
    {
     "name": "stderr",
     "output_type": "stream",
     "text": [
      " 46%|████▌     | 182/400 [1:16:35<1:25:55, 23.65s/it]"
     ]
    },
    {
     "name": "stdout",
     "output_type": "stream",
     "text": [
      "Epoch  182, sqrt loss 0.02765, Val sim-NRMS 0.03379, Time Loss: 89.2%, data: 0.2%, val: 10.6%, 11.3 batches/sec\n"
     ]
    },
    {
     "name": "stderr",
     "output_type": "stream",
     "text": [
      " 46%|████▌     | 183/400 [1:16:59<1:25:21, 23.60s/it]"
     ]
    },
    {
     "name": "stdout",
     "output_type": "stream",
     "text": [
      "Epoch  183, sqrt loss 0.02789, Val sim-NRMS 0.05495, Time Loss: 89.2%, data: 0.2%, val: 10.6%, 11.3 batches/sec\n"
     ]
    },
    {
     "name": "stderr",
     "output_type": "stream",
     "text": [
      " 46%|████▌     | 184/400 [1:17:21<1:23:53, 23.30s/it]"
     ]
    },
    {
     "name": "stdout",
     "output_type": "stream",
     "text": [
      "Epoch  184, sqrt loss 0.03093, Val sim-NRMS 0.03662, Time Loss: 89.2%, data: 0.2%, val: 10.6%, 11.3 batches/sec\n"
     ]
    },
    {
     "name": "stderr",
     "output_type": "stream",
     "text": [
      " 46%|████▋     | 185/400 [1:17:44<1:23:09, 23.21s/it]"
     ]
    },
    {
     "name": "stdout",
     "output_type": "stream",
     "text": [
      "Epoch  185, sqrt loss 0.02669, Val sim-NRMS 0.03042, Time Loss: 89.2%, data: 0.2%, val: 10.6%, 11.3 batches/sec\n"
     ]
    },
    {
     "name": "stderr",
     "output_type": "stream",
     "text": [
      " 46%|████▋     | 186/400 [1:18:08<1:23:05, 23.30s/it]"
     ]
    },
    {
     "name": "stdout",
     "output_type": "stream",
     "text": [
      "Epoch  186, sqrt loss 0.03167, Val sim-NRMS 0.03347, Time Loss: 89.2%, data: 0.2%, val: 10.6%, 11.3 batches/sec\n"
     ]
    },
    {
     "name": "stderr",
     "output_type": "stream",
     "text": [
      " 47%|████▋     | 187/400 [1:18:31<1:23:00, 23.38s/it]"
     ]
    },
    {
     "name": "stdout",
     "output_type": "stream",
     "text": [
      "Epoch  187, sqrt loss 0.02626, Val sim-NRMS 0.02967, Time Loss: 89.2%, data: 0.2%, val: 10.6%, 11.4 batches/sec\n"
     ]
    },
    {
     "name": "stderr",
     "output_type": "stream",
     "text": [
      " 47%|████▋     | 188/400 [1:18:55<1:22:50, 23.45s/it]"
     ]
    },
    {
     "name": "stdout",
     "output_type": "stream",
     "text": [
      "Epoch  188, sqrt loss 0.03019, Val sim-NRMS 0.03059, Time Loss: 89.2%, data: 0.2%, val: 10.6%, 11.4 batches/sec\n"
     ]
    },
    {
     "name": "stderr",
     "output_type": "stream",
     "text": [
      " 47%|████▋     | 189/400 [1:19:19<1:22:41, 23.51s/it]"
     ]
    },
    {
     "name": "stdout",
     "output_type": "stream",
     "text": [
      "########## New lowest validation loss achieved ########### sim-NRMS = 0.022658442000000303\n",
      "Epoch  189, sqrt loss 0.02725, Val sim-NRMS 0.02266, Time Loss: 89.2%, data: 0.2%, val: 10.6%, 11.4 batches/sec\n"
     ]
    },
    {
     "name": "stderr",
     "output_type": "stream",
     "text": [
      " 48%|████▊     | 190/400 [1:19:42<1:22:26, 23.56s/it]"
     ]
    },
    {
     "name": "stdout",
     "output_type": "stream",
     "text": [
      "Epoch  190, sqrt loss 0.02755, Val sim-NRMS 0.02482, Time Loss: 89.2%, data: 0.2%, val: 10.6%, 11.4 batches/sec\n"
     ]
    },
    {
     "name": "stderr",
     "output_type": "stream",
     "text": [
      " 48%|████▊     | 191/400 [1:20:06<1:21:58, 23.53s/it]"
     ]
    },
    {
     "name": "stdout",
     "output_type": "stream",
     "text": [
      "Epoch  191, sqrt loss 0.02913, Val sim-NRMS 0.03334, Time Loss: 89.2%, data: 0.2%, val: 10.6%, 11.4 batches/sec\n"
     ]
    },
    {
     "name": "stderr",
     "output_type": "stream",
     "text": [
      " 48%|████▊     | 192/400 [1:20:29<1:21:23, 23.48s/it]"
     ]
    },
    {
     "name": "stdout",
     "output_type": "stream",
     "text": [
      "########## New lowest validation loss achieved ########### sim-NRMS = 0.0217951071851164\n",
      "Epoch  192, sqrt loss 0.04728, Val sim-NRMS 0.0218, Time Loss: 89.2%, data: 0.2%, val: 10.6%, 11.4 batches/sec\n"
     ]
    },
    {
     "name": "stderr",
     "output_type": "stream",
     "text": [
      " 48%|████▊     | 193/400 [1:20:53<1:20:48, 23.42s/it]"
     ]
    },
    {
     "name": "stdout",
     "output_type": "stream",
     "text": [
      "Epoch  193, sqrt loss 0.02174, Val sim-NRMS 0.03779, Time Loss: 89.2%, data: 0.2%, val: 10.6%, 11.4 batches/sec\n"
     ]
    },
    {
     "name": "stderr",
     "output_type": "stream",
     "text": [
      " 48%|████▊     | 194/400 [1:21:16<1:20:22, 23.41s/it]"
     ]
    },
    {
     "name": "stdout",
     "output_type": "stream",
     "text": [
      "Epoch  194, sqrt loss 0.02543, Val sim-NRMS 0.02381, Time Loss: 89.2%, data: 0.2%, val: 10.6%, 11.4 batches/sec\n"
     ]
    },
    {
     "name": "stderr",
     "output_type": "stream",
     "text": [
      " 49%|████▉     | 195/400 [1:21:39<1:19:57, 23.40s/it]"
     ]
    },
    {
     "name": "stdout",
     "output_type": "stream",
     "text": [
      "Epoch  195, sqrt loss  0.2325, Val sim-NRMS 0.2299, Time Loss: 89.2%, data: 0.2%, val: 10.6%, 11.4 batches/sec\n"
     ]
    },
    {
     "name": "stderr",
     "output_type": "stream",
     "text": [
      " 49%|████▉     | 196/400 [1:22:03<1:19:28, 23.38s/it]"
     ]
    },
    {
     "name": "stdout",
     "output_type": "stream",
     "text": [
      "Epoch  196, sqrt loss 0.06331, Val sim-NRMS 0.02532, Time Loss: 89.2%, data: 0.2%, val: 10.6%, 11.4 batches/sec\n"
     ]
    },
    {
     "name": "stderr",
     "output_type": "stream",
     "text": [
      " 49%|████▉     | 197/400 [1:22:26<1:19:12, 23.41s/it]"
     ]
    },
    {
     "name": "stdout",
     "output_type": "stream",
     "text": [
      "Epoch  197, sqrt loss 0.02328, Val sim-NRMS  0.023, Time Loss: 89.2%, data: 0.2%, val: 10.6%, 11.4 batches/sec\n"
     ]
    },
    {
     "name": "stderr",
     "output_type": "stream",
     "text": [
      " 50%|████▉     | 198/400 [1:22:49<1:18:45, 23.39s/it]"
     ]
    },
    {
     "name": "stdout",
     "output_type": "stream",
     "text": [
      "Epoch  198, sqrt loss 0.02213, Val sim-NRMS 0.02235, Time Loss: 89.2%, data: 0.2%, val: 10.6%, 11.4 batches/sec\n"
     ]
    },
    {
     "name": "stderr",
     "output_type": "stream",
     "text": [
      " 50%|████▉     | 199/400 [1:23:13<1:18:25, 23.41s/it]"
     ]
    },
    {
     "name": "stdout",
     "output_type": "stream",
     "text": [
      "########## New lowest validation loss achieved ########### sim-NRMS = 0.02169295577170678\n",
      "Epoch  199, sqrt loss 0.02161, Val sim-NRMS 0.02169, Time Loss: 89.2%, data: 0.2%, val: 10.6%, 11.4 batches/sec\n"
     ]
    },
    {
     "name": "stderr",
     "output_type": "stream",
     "text": [
      " 50%|█████     | 200/400 [1:23:36<1:17:57, 23.39s/it]"
     ]
    },
    {
     "name": "stdout",
     "output_type": "stream",
     "text": [
      "Epoch  200, sqrt loss 0.02166, Val sim-NRMS 0.0239, Time Loss: 89.2%, data: 0.2%, val: 10.6%, 11.4 batches/sec\n"
     ]
    },
    {
     "name": "stderr",
     "output_type": "stream",
     "text": [
      " 50%|█████     | 201/400 [1:24:00<1:17:29, 23.36s/it]"
     ]
    },
    {
     "name": "stdout",
     "output_type": "stream",
     "text": [
      "Epoch  201, sqrt loss 0.02291, Val sim-NRMS 0.02557, Time Loss: 89.2%, data: 0.2%, val: 10.6%, 11.4 batches/sec\n"
     ]
    },
    {
     "name": "stderr",
     "output_type": "stream",
     "text": [
      " 50%|█████     | 202/400 [1:24:23<1:17:33, 23.50s/it]"
     ]
    },
    {
     "name": "stdout",
     "output_type": "stream",
     "text": [
      "Epoch  202, sqrt loss 0.02542, Val sim-NRMS 0.03005, Time Loss: 89.2%, data: 0.2%, val: 10.6%, 11.4 batches/sec\n"
     ]
    },
    {
     "name": "stderr",
     "output_type": "stream",
     "text": [
      " 51%|█████     | 203/400 [1:24:47<1:17:17, 23.54s/it]"
     ]
    },
    {
     "name": "stdout",
     "output_type": "stream",
     "text": [
      "Epoch  203, sqrt loss 0.02563, Val sim-NRMS 0.03286, Time Loss: 89.2%, data: 0.2%, val: 10.6%, 11.4 batches/sec\n"
     ]
    },
    {
     "name": "stderr",
     "output_type": "stream",
     "text": [
      " 51%|█████     | 204/400 [1:25:11<1:16:59, 23.57s/it]"
     ]
    },
    {
     "name": "stdout",
     "output_type": "stream",
     "text": [
      "Epoch  204, sqrt loss 0.03339, Val sim-NRMS 0.07846, Time Loss: 89.2%, data: 0.2%, val: 10.6%, 11.4 batches/sec\n"
     ]
    },
    {
     "name": "stderr",
     "output_type": "stream",
     "text": [
      " 51%|█████▏    | 205/400 [1:25:34<1:16:31, 23.55s/it]"
     ]
    },
    {
     "name": "stdout",
     "output_type": "stream",
     "text": [
      "########## New lowest validation loss achieved ########### sim-NRMS = 0.021150088704300758\n",
      "Epoch  205, sqrt loss 0.03884, Val sim-NRMS 0.02115, Time Loss: 89.2%, data: 0.2%, val: 10.6%, 11.4 batches/sec\n"
     ]
    },
    {
     "name": "stderr",
     "output_type": "stream",
     "text": [
      " 52%|█████▏    | 206/400 [1:25:58<1:16:12, 23.57s/it]"
     ]
    },
    {
     "name": "stdout",
     "output_type": "stream",
     "text": [
      "Epoch  206, sqrt loss 0.02115, Val sim-NRMS 0.02129, Time Loss: 89.2%, data: 0.2%, val: 10.6%, 11.4 batches/sec\n"
     ]
    },
    {
     "name": "stderr",
     "output_type": "stream",
     "text": [
      " 52%|█████▏    | 207/400 [1:26:21<1:15:49, 23.57s/it]"
     ]
    },
    {
     "name": "stdout",
     "output_type": "stream",
     "text": [
      "Epoch  207, sqrt loss 0.02229, Val sim-NRMS 0.02372, Time Loss: 89.2%, data: 0.2%, val: 10.6%, 11.4 batches/sec\n"
     ]
    },
    {
     "name": "stderr",
     "output_type": "stream",
     "text": [
      " 52%|█████▏    | 208/400 [1:26:45<1:15:21, 23.55s/it]"
     ]
    },
    {
     "name": "stdout",
     "output_type": "stream",
     "text": [
      "Epoch  208, sqrt loss 0.02489, Val sim-NRMS 0.02455, Time Loss: 89.2%, data: 0.2%, val: 10.6%, 11.4 batches/sec\n"
     ]
    },
    {
     "name": "stderr",
     "output_type": "stream",
     "text": [
      " 52%|█████▏    | 209/400 [1:27:08<1:14:49, 23.51s/it]"
     ]
    },
    {
     "name": "stdout",
     "output_type": "stream",
     "text": [
      "Epoch  209, sqrt loss  0.2402, Val sim-NRMS 0.1236, Time Loss: 89.2%, data: 0.2%, val: 10.6%, 11.4 batches/sec\n"
     ]
    },
    {
     "name": "stderr",
     "output_type": "stream",
     "text": [
      " 52%|█████▎    | 210/400 [1:27:32<1:14:36, 23.56s/it]"
     ]
    },
    {
     "name": "stdout",
     "output_type": "stream",
     "text": [
      "Epoch  210, sqrt loss 0.04126, Val sim-NRMS 0.02226, Time Loss: 89.2%, data: 0.2%, val: 10.6%, 11.4 batches/sec\n"
     ]
    },
    {
     "name": "stderr",
     "output_type": "stream",
     "text": [
      " 53%|█████▎    | 211/400 [1:27:55<1:14:12, 23.56s/it]"
     ]
    },
    {
     "name": "stdout",
     "output_type": "stream",
     "text": [
      "Epoch  211, sqrt loss 0.02209, Val sim-NRMS 0.02196, Time Loss: 89.2%, data: 0.2%, val: 10.6%, 11.4 batches/sec\n"
     ]
    },
    {
     "name": "stderr",
     "output_type": "stream",
     "text": [
      " 53%|█████▎    | 212/400 [1:28:19<1:13:51, 23.57s/it]"
     ]
    },
    {
     "name": "stdout",
     "output_type": "stream",
     "text": [
      "########## New lowest validation loss achieved ########### sim-NRMS = 0.021061178157946735\n",
      "Epoch  212, sqrt loss 0.02118, Val sim-NRMS 0.02106, Time Loss: 89.2%, data: 0.2%, val: 10.6%, 11.4 batches/sec\n"
     ]
    },
    {
     "name": "stderr",
     "output_type": "stream",
     "text": [
      " 53%|█████▎    | 213/400 [1:28:43<1:13:33, 23.60s/it]"
     ]
    },
    {
     "name": "stdout",
     "output_type": "stream",
     "text": [
      "Epoch  213, sqrt loss 0.02096, Val sim-NRMS 0.0214, Time Loss: 89.2%, data: 0.2%, val: 10.6%, 11.4 batches/sec\n"
     ]
    },
    {
     "name": "stderr",
     "output_type": "stream",
     "text": [
      " 54%|█████▎    | 214/400 [1:29:06<1:13:03, 23.57s/it]"
     ]
    },
    {
     "name": "stdout",
     "output_type": "stream",
     "text": [
      "Epoch  214, sqrt loss 0.02087, Val sim-NRMS 0.02137, Time Loss: 89.2%, data: 0.2%, val: 10.6%, 11.4 batches/sec\n"
     ]
    },
    {
     "name": "stderr",
     "output_type": "stream",
     "text": [
      " 54%|█████▍    | 215/400 [1:29:29<1:12:15, 23.43s/it]"
     ]
    },
    {
     "name": "stdout",
     "output_type": "stream",
     "text": [
      "########## New lowest validation loss achieved ########### sim-NRMS = 0.020849851829342615\n",
      "Epoch  215, sqrt loss 0.02115, Val sim-NRMS 0.02085, Time Loss: 89.2%, data: 0.2%, val: 10.6%, 11.5 batches/sec\n"
     ]
    },
    {
     "name": "stderr",
     "output_type": "stream",
     "text": [
      " 54%|█████▍    | 216/400 [1:29:53<1:11:48, 23.42s/it]"
     ]
    },
    {
     "name": "stdout",
     "output_type": "stream",
     "text": [
      "########## New lowest validation loss achieved ########### sim-NRMS = 0.02053163284211121\n",
      "Epoch  216, sqrt loss 0.02222, Val sim-NRMS 0.02053, Time Loss: 89.2%, data: 0.2%, val: 10.6%, 11.5 batches/sec\n"
     ]
    },
    {
     "name": "stderr",
     "output_type": "stream",
     "text": [
      " 54%|█████▍    | 217/400 [1:30:16<1:11:27, 23.43s/it]"
     ]
    },
    {
     "name": "stdout",
     "output_type": "stream",
     "text": [
      "Epoch  217, sqrt loss 0.02542, Val sim-NRMS 0.02109, Time Loss: 89.2%, data: 0.2%, val: 10.7%, 11.5 batches/sec\n"
     ]
    },
    {
     "name": "stderr",
     "output_type": "stream",
     "text": [
      " 55%|█████▍    | 218/400 [1:30:40<1:11:02, 23.42s/it]"
     ]
    },
    {
     "name": "stdout",
     "output_type": "stream",
     "text": [
      "Epoch  218, sqrt loss 0.04091, Val sim-NRMS 0.02286, Time Loss: 89.2%, data: 0.2%, val: 10.7%, 11.5 batches/sec\n"
     ]
    },
    {
     "name": "stderr",
     "output_type": "stream",
     "text": [
      " 55%|█████▍    | 219/400 [1:31:03<1:10:39, 23.43s/it]"
     ]
    },
    {
     "name": "stdout",
     "output_type": "stream",
     "text": [
      "Epoch  219, sqrt loss 0.02094, Val sim-NRMS 0.02076, Time Loss: 89.2%, data: 0.2%, val: 10.7%, 11.5 batches/sec\n"
     ]
    },
    {
     "name": "stderr",
     "output_type": "stream",
     "text": [
      " 55%|█████▌    | 220/400 [1:31:26<1:10:15, 23.42s/it]"
     ]
    },
    {
     "name": "stdout",
     "output_type": "stream",
     "text": [
      "########## New lowest validation loss achieved ########### sim-NRMS = 0.02037370624562919\n",
      "Epoch  220, sqrt loss 0.02046, Val sim-NRMS 0.02037, Time Loss: 89.2%, data: 0.2%, val: 10.7%, 11.5 batches/sec\n"
     ]
    },
    {
     "name": "stderr",
     "output_type": "stream",
     "text": [
      " 55%|█████▌    | 221/400 [1:31:50<1:09:52, 23.42s/it]"
     ]
    },
    {
     "name": "stdout",
     "output_type": "stream",
     "text": [
      "########## New lowest validation loss achieved ########### sim-NRMS = 0.020192731935559097\n",
      "Epoch  221, sqrt loss 0.02385, Val sim-NRMS 0.02019, Time Loss: 89.1%, data: 0.2%, val: 10.7%, 11.5 batches/sec\n"
     ]
    },
    {
     "name": "stderr",
     "output_type": "stream",
     "text": [
      " 56%|█████▌    | 222/400 [1:32:13<1:09:32, 23.44s/it]"
     ]
    },
    {
     "name": "stdout",
     "output_type": "stream",
     "text": [
      "Epoch  222, sqrt loss  0.0248, Val sim-NRMS 0.02906, Time Loss: 89.1%, data: 0.2%, val: 10.7%, 11.5 batches/sec\n"
     ]
    },
    {
     "name": "stderr",
     "output_type": "stream",
     "text": [
      " 56%|█████▌    | 223/400 [1:32:37<1:09:09, 23.44s/it]"
     ]
    },
    {
     "name": "stdout",
     "output_type": "stream",
     "text": [
      "Epoch  223, sqrt loss 0.06392, Val sim-NRMS 0.02028, Time Loss: 89.1%, data: 0.2%, val: 10.7%, 11.5 batches/sec\n"
     ]
    },
    {
     "name": "stderr",
     "output_type": "stream",
     "text": [
      " 56%|█████▌    | 224/400 [1:33:00<1:08:44, 23.43s/it]"
     ]
    },
    {
     "name": "stdout",
     "output_type": "stream",
     "text": [
      "Epoch  224, sqrt loss 0.01996, Val sim-NRMS 0.02064, Time Loss: 89.1%, data: 0.2%, val: 10.7%, 11.5 batches/sec\n"
     ]
    },
    {
     "name": "stderr",
     "output_type": "stream",
     "text": [
      " 56%|█████▋    | 225/400 [1:33:24<1:08:21, 23.44s/it]"
     ]
    },
    {
     "name": "stdout",
     "output_type": "stream",
     "text": [
      "########## New lowest validation loss achieved ########### sim-NRMS = 0.01999478920898758\n",
      "Epoch  225, sqrt loss    0.02, Val sim-NRMS 0.01999, Time Loss: 89.1%, data: 0.2%, val: 10.7%, 11.5 batches/sec\n"
     ]
    },
    {
     "name": "stderr",
     "output_type": "stream",
     "text": [
      " 56%|█████▋    | 226/400 [1:33:47<1:08:02, 23.46s/it]"
     ]
    },
    {
     "name": "stdout",
     "output_type": "stream",
     "text": [
      "Epoch  226, sqrt loss 0.02132, Val sim-NRMS  0.022, Time Loss: 89.1%, data: 0.2%, val: 10.7%, 11.5 batches/sec\n"
     ]
    },
    {
     "name": "stderr",
     "output_type": "stream",
     "text": [
      " 57%|█████▋    | 227/400 [1:34:11<1:07:41, 23.48s/it]"
     ]
    },
    {
     "name": "stdout",
     "output_type": "stream",
     "text": [
      "Epoch  227, sqrt loss 0.02504, Val sim-NRMS 0.02005, Time Loss: 89.1%, data: 0.2%, val: 10.7%, 11.5 batches/sec\n"
     ]
    },
    {
     "name": "stderr",
     "output_type": "stream",
     "text": [
      " 57%|█████▋    | 228/400 [1:34:34<1:07:19, 23.49s/it]"
     ]
    },
    {
     "name": "stdout",
     "output_type": "stream",
     "text": [
      "Epoch  228, sqrt loss   0.025, Val sim-NRMS 0.02613, Time Loss: 89.1%, data: 0.2%, val: 10.7%, 11.5 batches/sec\n"
     ]
    },
    {
     "name": "stderr",
     "output_type": "stream",
     "text": [
      " 57%|█████▋    | 229/400 [1:34:58<1:06:52, 23.46s/it]"
     ]
    },
    {
     "name": "stdout",
     "output_type": "stream",
     "text": [
      "Epoch  229, sqrt loss 0.02475, Val sim-NRMS 0.02014, Time Loss: 89.1%, data: 0.2%, val: 10.7%, 11.5 batches/sec\n"
     ]
    },
    {
     "name": "stderr",
     "output_type": "stream",
     "text": [
      " 57%|█████▊    | 230/400 [1:35:21<1:06:27, 23.45s/it]"
     ]
    },
    {
     "name": "stdout",
     "output_type": "stream",
     "text": [
      "Epoch  230, sqrt loss 0.02683, Val sim-NRMS 0.04602, Time Loss: 89.1%, data: 0.2%, val: 10.7%, 11.5 batches/sec\n"
     ]
    },
    {
     "name": "stderr",
     "output_type": "stream",
     "text": [
      " 58%|█████▊    | 231/400 [1:35:45<1:06:04, 23.46s/it]"
     ]
    },
    {
     "name": "stdout",
     "output_type": "stream",
     "text": [
      "Epoch  231, sqrt loss 0.02386, Val sim-NRMS 0.02369, Time Loss: 89.1%, data: 0.2%, val: 10.7%, 11.5 batches/sec\n"
     ]
    },
    {
     "name": "stderr",
     "output_type": "stream",
     "text": [
      " 58%|█████▊    | 232/400 [1:36:08<1:05:34, 23.42s/it]"
     ]
    },
    {
     "name": "stdout",
     "output_type": "stream",
     "text": [
      "########## New lowest validation loss achieved ########### sim-NRMS = 0.019841380321175703\n",
      "Epoch  232, sqrt loss 0.02754, Val sim-NRMS 0.01984, Time Loss: 89.1%, data: 0.2%, val: 10.7%, 11.5 batches/sec\n"
     ]
    },
    {
     "name": "stderr",
     "output_type": "stream",
     "text": [
      " 58%|█████▊    | 233/400 [1:36:32<1:05:22, 23.49s/it]"
     ]
    },
    {
     "name": "stdout",
     "output_type": "stream",
     "text": [
      "Epoch  233, sqrt loss 0.02638, Val sim-NRMS 0.01996, Time Loss: 89.1%, data: 0.2%, val: 10.7%, 11.5 batches/sec\n"
     ]
    },
    {
     "name": "stderr",
     "output_type": "stream",
     "text": [
      " 58%|█████▊    | 234/400 [1:36:55<1:05:09, 23.55s/it]"
     ]
    },
    {
     "name": "stdout",
     "output_type": "stream",
     "text": [
      "Epoch  234, sqrt loss  0.0248, Val sim-NRMS 0.01991, Time Loss: 89.1%, data: 0.2%, val: 10.7%, 11.5 batches/sec\n"
     ]
    },
    {
     "name": "stderr",
     "output_type": "stream",
     "text": [
      " 59%|█████▉    | 235/400 [1:37:19<1:04:49, 23.57s/it]"
     ]
    },
    {
     "name": "stdout",
     "output_type": "stream",
     "text": [
      "Epoch  235, sqrt loss 0.02558, Val sim-NRMS 0.02467, Time Loss: 89.1%, data: 0.2%, val: 10.7%, 11.5 batches/sec\n"
     ]
    },
    {
     "name": "stderr",
     "output_type": "stream",
     "text": [
      " 59%|█████▉    | 236/400 [1:37:42<1:04:26, 23.57s/it]"
     ]
    },
    {
     "name": "stdout",
     "output_type": "stream",
     "text": [
      "Epoch  236, sqrt loss 0.02587, Val sim-NRMS 0.02528, Time Loss: 89.1%, data: 0.2%, val: 10.7%, 11.5 batches/sec\n"
     ]
    },
    {
     "name": "stderr",
     "output_type": "stream",
     "text": [
      " 59%|█████▉    | 237/400 [1:38:06<1:04:02, 23.57s/it]"
     ]
    },
    {
     "name": "stdout",
     "output_type": "stream",
     "text": [
      "Epoch  237, sqrt loss 0.02308, Val sim-NRMS 0.02668, Time Loss: 89.1%, data: 0.2%, val: 10.7%, 11.5 batches/sec\n"
     ]
    },
    {
     "name": "stderr",
     "output_type": "stream",
     "text": [
      " 60%|█████▉    | 238/400 [1:38:30<1:03:39, 23.58s/it]"
     ]
    },
    {
     "name": "stdout",
     "output_type": "stream",
     "text": [
      "Epoch  238, sqrt loss   0.026, Val sim-NRMS 0.0234, Time Loss: 89.1%, data: 0.2%, val: 10.7%, 11.5 batches/sec\n"
     ]
    },
    {
     "name": "stderr",
     "output_type": "stream",
     "text": [
      " 60%|█████▉    | 239/400 [1:38:53<1:03:15, 23.57s/it]"
     ]
    },
    {
     "name": "stdout",
     "output_type": "stream",
     "text": [
      "Epoch  239, sqrt loss 0.02544, Val sim-NRMS 0.02162, Time Loss: 89.1%, data: 0.2%, val: 10.7%, 11.5 batches/sec\n"
     ]
    },
    {
     "name": "stderr",
     "output_type": "stream",
     "text": [
      " 60%|██████    | 240/400 [1:39:17<1:02:54, 23.59s/it]"
     ]
    },
    {
     "name": "stdout",
     "output_type": "stream",
     "text": [
      "Epoch  240, sqrt loss 0.02554, Val sim-NRMS 0.02416, Time Loss: 89.1%, data: 0.2%, val: 10.7%, 11.5 batches/sec\n"
     ]
    },
    {
     "name": "stderr",
     "output_type": "stream",
     "text": [
      " 60%|██████    | 241/400 [1:39:40<1:02:26, 23.56s/it]"
     ]
    },
    {
     "name": "stdout",
     "output_type": "stream",
     "text": [
      "Epoch  241, sqrt loss 0.02717, Val sim-NRMS 0.02305, Time Loss: 89.1%, data: 0.2%, val: 10.7%, 11.5 batches/sec\n"
     ]
    },
    {
     "name": "stderr",
     "output_type": "stream",
     "text": [
      " 60%|██████    | 242/400 [1:40:04<1:02:06, 23.58s/it]"
     ]
    },
    {
     "name": "stdout",
     "output_type": "stream",
     "text": [
      "########## New lowest validation loss achieved ########### sim-NRMS = 0.01935374714812885\n",
      "Epoch  242, sqrt loss 0.02501, Val sim-NRMS 0.01935, Time Loss: 89.1%, data: 0.2%, val: 10.7%, 11.5 batches/sec\n"
     ]
    },
    {
     "name": "stderr",
     "output_type": "stream",
     "text": [
      " 61%|██████    | 243/400 [1:40:27<1:01:39, 23.56s/it]"
     ]
    },
    {
     "name": "stdout",
     "output_type": "stream",
     "text": [
      "Epoch  243, sqrt loss 0.02414, Val sim-NRMS 0.02358, Time Loss: 89.1%, data: 0.2%, val: 10.7%, 11.5 batches/sec\n"
     ]
    },
    {
     "name": "stderr",
     "output_type": "stream",
     "text": [
      " 61%|██████    | 244/400 [1:40:51<1:01:17, 23.57s/it]"
     ]
    },
    {
     "name": "stdout",
     "output_type": "stream",
     "text": [
      "Epoch  244, sqrt loss 0.02555, Val sim-NRMS 0.03875, Time Loss: 89.1%, data: 0.2%, val: 10.7%, 11.5 batches/sec\n"
     ]
    },
    {
     "name": "stderr",
     "output_type": "stream",
     "text": [
      " 61%|██████▏   | 245/400 [1:41:15<1:00:51, 23.56s/it]"
     ]
    },
    {
     "name": "stdout",
     "output_type": "stream",
     "text": [
      "Epoch  245, sqrt loss  0.0284, Val sim-NRMS 0.03117, Time Loss: 89.1%, data: 0.2%, val: 10.7%, 11.5 batches/sec\n"
     ]
    },
    {
     "name": "stderr",
     "output_type": "stream",
     "text": [
      " 62%|██████▏   | 246/400 [1:41:38<1:00:35, 23.60s/it]"
     ]
    },
    {
     "name": "stdout",
     "output_type": "stream",
     "text": [
      "Epoch  246, sqrt loss 0.02168, Val sim-NRMS 0.03323, Time Loss: 89.1%, data: 0.2%, val: 10.7%, 11.5 batches/sec\n"
     ]
    },
    {
     "name": "stderr",
     "output_type": "stream",
     "text": [
      " 62%|██████▏   | 247/400 [1:42:02<1:00:08, 23.58s/it]"
     ]
    },
    {
     "name": "stdout",
     "output_type": "stream",
     "text": [
      "Epoch  247, sqrt loss 0.02715, Val sim-NRMS 0.0231, Time Loss: 89.1%, data: 0.2%, val: 10.7%, 11.5 batches/sec\n"
     ]
    },
    {
     "name": "stderr",
     "output_type": "stream",
     "text": [
      " 62%|██████▏   | 248/400 [1:42:25<59:42, 23.57s/it]  "
     ]
    },
    {
     "name": "stdout",
     "output_type": "stream",
     "text": [
      "Epoch  248, sqrt loss 0.02273, Val sim-NRMS 0.02423, Time Loss: 89.1%, data: 0.2%, val: 10.7%, 11.5 batches/sec\n"
     ]
    },
    {
     "name": "stderr",
     "output_type": "stream",
     "text": [
      " 62%|██████▏   | 249/400 [1:42:49<59:17, 23.56s/it]"
     ]
    },
    {
     "name": "stdout",
     "output_type": "stream",
     "text": [
      "Epoch  249, sqrt loss  0.1725, Val sim-NRMS 0.02027, Time Loss: 89.1%, data: 0.2%, val: 10.7%, 11.5 batches/sec\n"
     ]
    },
    {
     "name": "stderr",
     "output_type": "stream",
     "text": [
      " 62%|██████▎   | 250/400 [1:43:12<58:49, 23.53s/it]"
     ]
    },
    {
     "name": "stdout",
     "output_type": "stream",
     "text": [
      "Epoch  250, sqrt loss 0.02177, Val sim-NRMS 0.02015, Time Loss: 89.1%, data: 0.2%, val: 10.7%, 11.5 batches/sec\n"
     ]
    },
    {
     "name": "stderr",
     "output_type": "stream",
     "text": [
      " 63%|██████▎   | 251/400 [1:43:36<58:27, 23.54s/it]"
     ]
    },
    {
     "name": "stdout",
     "output_type": "stream",
     "text": [
      "Epoch  251, sqrt loss 0.02067, Val sim-NRMS 0.01959, Time Loss: 89.1%, data: 0.2%, val: 10.7%, 11.5 batches/sec\n"
     ]
    },
    {
     "name": "stderr",
     "output_type": "stream",
     "text": [
      " 63%|██████▎   | 252/400 [1:43:59<58:03, 23.54s/it]"
     ]
    },
    {
     "name": "stdout",
     "output_type": "stream",
     "text": [
      "Epoch  252, sqrt loss 0.02029, Val sim-NRMS 0.02045, Time Loss: 89.1%, data: 0.2%, val: 10.7%, 11.6 batches/sec\n"
     ]
    },
    {
     "name": "stderr",
     "output_type": "stream",
     "text": [
      " 63%|██████▎   | 253/400 [1:44:23<57:39, 23.54s/it]"
     ]
    },
    {
     "name": "stdout",
     "output_type": "stream",
     "text": [
      "Epoch  253, sqrt loss  0.0202, Val sim-NRMS 0.01942, Time Loss: 89.1%, data: 0.2%, val: 10.7%, 11.6 batches/sec\n"
     ]
    },
    {
     "name": "stderr",
     "output_type": "stream",
     "text": [
      " 64%|██████▎   | 254/400 [1:44:47<57:24, 23.59s/it]"
     ]
    },
    {
     "name": "stdout",
     "output_type": "stream",
     "text": [
      "Epoch  254, sqrt loss 0.02017, Val sim-NRMS 0.02033, Time Loss: 89.1%, data: 0.2%, val: 10.7%, 11.6 batches/sec\n"
     ]
    },
    {
     "name": "stderr",
     "output_type": "stream",
     "text": [
      " 64%|██████▍   | 255/400 [1:45:10<56:51, 23.53s/it]"
     ]
    },
    {
     "name": "stdout",
     "output_type": "stream",
     "text": [
      "Epoch  255, sqrt loss 0.02131, Val sim-NRMS 0.02307, Time Loss: 89.1%, data: 0.2%, val: 10.7%, 11.6 batches/sec\n"
     ]
    },
    {
     "name": "stderr",
     "output_type": "stream",
     "text": [
      " 64%|██████▍   | 256/400 [1:45:34<56:34, 23.57s/it]"
     ]
    },
    {
     "name": "stdout",
     "output_type": "stream",
     "text": [
      "Epoch  256, sqrt loss 0.02273, Val sim-NRMS 0.02279, Time Loss: 89.1%, data: 0.2%, val: 10.7%, 11.6 batches/sec\n"
     ]
    },
    {
     "name": "stderr",
     "output_type": "stream",
     "text": [
      " 64%|██████▍   | 257/400 [1:45:57<56:09, 23.56s/it]"
     ]
    },
    {
     "name": "stdout",
     "output_type": "stream",
     "text": [
      "Epoch  257, sqrt loss  0.0225, Val sim-NRMS 0.02149, Time Loss: 89.1%, data: 0.2%, val: 10.7%, 11.6 batches/sec\n"
     ]
    },
    {
     "name": "stderr",
     "output_type": "stream",
     "text": [
      " 64%|██████▍   | 258/400 [1:46:21<55:48, 23.58s/it]"
     ]
    },
    {
     "name": "stdout",
     "output_type": "stream",
     "text": [
      "Epoch  258, sqrt loss 0.03399, Val sim-NRMS 0.01946, Time Loss: 89.1%, data: 0.2%, val: 10.7%, 11.6 batches/sec\n"
     ]
    },
    {
     "name": "stderr",
     "output_type": "stream",
     "text": [
      " 65%|██████▍   | 259/400 [1:46:44<55:21, 23.56s/it]"
     ]
    },
    {
     "name": "stdout",
     "output_type": "stream",
     "text": [
      "Epoch  259, sqrt loss  0.0199, Val sim-NRMS 0.0207, Time Loss: 89.1%, data: 0.2%, val: 10.7%, 11.6 batches/sec\n"
     ]
    },
    {
     "name": "stderr",
     "output_type": "stream",
     "text": [
      " 65%|██████▌   | 260/400 [1:47:08<54:52, 23.52s/it]"
     ]
    },
    {
     "name": "stdout",
     "output_type": "stream",
     "text": [
      "Epoch  260, sqrt loss 0.02217, Val sim-NRMS 0.02141, Time Loss: 89.1%, data: 0.2%, val: 10.7%, 11.6 batches/sec\n"
     ]
    },
    {
     "name": "stderr",
     "output_type": "stream",
     "text": [
      " 65%|██████▌   | 261/400 [1:47:31<54:26, 23.50s/it]"
     ]
    },
    {
     "name": "stdout",
     "output_type": "stream",
     "text": [
      "Epoch  261, sqrt loss 0.02288, Val sim-NRMS 0.02157, Time Loss: 89.1%, data: 0.2%, val: 10.7%, 11.6 batches/sec\n"
     ]
    },
    {
     "name": "stderr",
     "output_type": "stream",
     "text": [
      " 66%|██████▌   | 262/400 [1:47:55<54:07, 23.53s/it]"
     ]
    },
    {
     "name": "stdout",
     "output_type": "stream",
     "text": [
      "Epoch  262, sqrt loss 0.02521, Val sim-NRMS 0.02193, Time Loss: 89.1%, data: 0.2%, val: 10.7%, 11.6 batches/sec\n"
     ]
    },
    {
     "name": "stderr",
     "output_type": "stream",
     "text": [
      " 66%|██████▌   | 263/400 [1:48:18<53:46, 23.55s/it]"
     ]
    },
    {
     "name": "stdout",
     "output_type": "stream",
     "text": [
      "Epoch  263, sqrt loss 0.02758, Val sim-NRMS 0.02383, Time Loss: 89.1%, data: 0.2%, val: 10.7%, 11.6 batches/sec\n"
     ]
    },
    {
     "name": "stderr",
     "output_type": "stream",
     "text": [
      " 66%|██████▌   | 264/400 [1:48:42<53:23, 23.55s/it]"
     ]
    },
    {
     "name": "stdout",
     "output_type": "stream",
     "text": [
      "Epoch  264, sqrt loss 0.02393, Val sim-NRMS 0.02727, Time Loss: 89.1%, data: 0.2%, val: 10.7%, 11.6 batches/sec\n"
     ]
    },
    {
     "name": "stderr",
     "output_type": "stream",
     "text": [
      " 66%|██████▋   | 265/400 [1:49:06<52:59, 23.55s/it]"
     ]
    },
    {
     "name": "stdout",
     "output_type": "stream",
     "text": [
      "Epoch  265, sqrt loss 0.02312, Val sim-NRMS 0.03821, Time Loss: 89.1%, data: 0.2%, val: 10.7%, 11.6 batches/sec\n"
     ]
    },
    {
     "name": "stderr",
     "output_type": "stream",
     "text": [
      " 66%|██████▋   | 266/400 [1:49:29<52:32, 23.53s/it]"
     ]
    },
    {
     "name": "stdout",
     "output_type": "stream",
     "text": [
      "Epoch  266, sqrt loss  0.0245, Val sim-NRMS 0.02323, Time Loss: 89.1%, data: 0.2%, val: 10.7%, 11.6 batches/sec\n"
     ]
    },
    {
     "name": "stderr",
     "output_type": "stream",
     "text": [
      " 67%|██████▋   | 267/400 [1:49:53<52:08, 23.53s/it]"
     ]
    },
    {
     "name": "stdout",
     "output_type": "stream",
     "text": [
      "Epoch  267, sqrt loss 0.02483, Val sim-NRMS 0.02524, Time Loss: 89.1%, data: 0.2%, val: 10.7%, 11.6 batches/sec\n"
     ]
    },
    {
     "name": "stderr",
     "output_type": "stream",
     "text": [
      " 67%|██████▋   | 268/400 [1:50:16<51:43, 23.51s/it]"
     ]
    },
    {
     "name": "stdout",
     "output_type": "stream",
     "text": [
      "Epoch  268, sqrt loss 0.02458, Val sim-NRMS 0.03351, Time Loss: 89.1%, data: 0.2%, val: 10.7%, 11.6 batches/sec\n"
     ]
    },
    {
     "name": "stderr",
     "output_type": "stream",
     "text": [
      " 67%|██████▋   | 269/400 [1:50:40<51:21, 23.52s/it]"
     ]
    },
    {
     "name": "stdout",
     "output_type": "stream",
     "text": [
      "Epoch  269, sqrt loss 0.02339, Val sim-NRMS 0.02019, Time Loss: 89.1%, data: 0.2%, val: 10.7%, 11.6 batches/sec\n"
     ]
    },
    {
     "name": "stderr",
     "output_type": "stream",
     "text": [
      " 68%|██████▊   | 270/400 [1:51:03<50:58, 23.53s/it]"
     ]
    },
    {
     "name": "stdout",
     "output_type": "stream",
     "text": [
      "Epoch  270, sqrt loss 0.02871, Val sim-NRMS 0.02169, Time Loss: 89.1%, data: 0.2%, val: 10.7%, 11.6 batches/sec\n"
     ]
    },
    {
     "name": "stderr",
     "output_type": "stream",
     "text": [
      " 68%|██████▊   | 271/400 [1:51:27<50:37, 23.55s/it]"
     ]
    },
    {
     "name": "stdout",
     "output_type": "stream",
     "text": [
      "Epoch  271, sqrt loss 0.02184, Val sim-NRMS 0.02174, Time Loss: 89.1%, data: 0.2%, val: 10.7%, 11.6 batches/sec\n"
     ]
    },
    {
     "name": "stderr",
     "output_type": "stream",
     "text": [
      " 68%|██████▊   | 272/400 [1:51:50<50:17, 23.57s/it]"
     ]
    },
    {
     "name": "stdout",
     "output_type": "stream",
     "text": [
      "Epoch  272, sqrt loss 0.02526, Val sim-NRMS 0.04572, Time Loss: 89.1%, data: 0.2%, val: 10.7%, 11.6 batches/sec\n"
     ]
    },
    {
     "name": "stderr",
     "output_type": "stream",
     "text": [
      " 68%|██████▊   | 273/400 [1:52:14<49:52, 23.56s/it]"
     ]
    },
    {
     "name": "stdout",
     "output_type": "stream",
     "text": [
      "Epoch  273, sqrt loss 0.02306, Val sim-NRMS 0.02632, Time Loss: 89.1%, data: 0.2%, val: 10.7%, 11.6 batches/sec\n"
     ]
    },
    {
     "name": "stderr",
     "output_type": "stream",
     "text": [
      " 68%|██████▊   | 274/400 [1:52:37<49:20, 23.50s/it]"
     ]
    },
    {
     "name": "stdout",
     "output_type": "stream",
     "text": [
      "Epoch  274, sqrt loss 0.02411, Val sim-NRMS 0.02425, Time Loss: 89.1%, data: 0.2%, val: 10.7%, 11.6 batches/sec\n"
     ]
    },
    {
     "name": "stderr",
     "output_type": "stream",
     "text": [
      " 69%|██████▉   | 275/400 [1:53:01<48:51, 23.45s/it]"
     ]
    },
    {
     "name": "stdout",
     "output_type": "stream",
     "text": [
      "Epoch  275, sqrt loss 0.02326, Val sim-NRMS 0.01946, Time Loss: 89.1%, data: 0.2%, val: 10.7%, 11.6 batches/sec\n"
     ]
    },
    {
     "name": "stderr",
     "output_type": "stream",
     "text": [
      " 69%|██████▉   | 276/400 [1:53:24<48:43, 23.57s/it]"
     ]
    },
    {
     "name": "stdout",
     "output_type": "stream",
     "text": [
      "Epoch  276, sqrt loss  0.0245, Val sim-NRMS 0.02835, Time Loss: 89.1%, data: 0.2%, val: 10.7%, 11.6 batches/sec\n"
     ]
    },
    {
     "name": "stderr",
     "output_type": "stream",
     "text": [
      " 69%|██████▉   | 277/400 [1:53:48<48:21, 23.59s/it]"
     ]
    },
    {
     "name": "stdout",
     "output_type": "stream",
     "text": [
      "########## New lowest validation loss achieved ########### sim-NRMS = 0.01931573752138142\n",
      "Epoch  277, sqrt loss 0.02617, Val sim-NRMS 0.01932, Time Loss: 89.1%, data: 0.2%, val: 10.7%, 11.6 batches/sec\n"
     ]
    },
    {
     "name": "stderr",
     "output_type": "stream",
     "text": [
      " 70%|██████▉   | 278/400 [1:54:12<47:57, 23.58s/it]"
     ]
    },
    {
     "name": "stdout",
     "output_type": "stream",
     "text": [
      "Epoch  278, sqrt loss 0.02199, Val sim-NRMS 0.02343, Time Loss: 89.1%, data: 0.2%, val: 10.7%, 11.6 batches/sec\n"
     ]
    },
    {
     "name": "stderr",
     "output_type": "stream",
     "text": [
      " 70%|██████▉   | 279/400 [1:54:35<47:27, 23.54s/it]"
     ]
    },
    {
     "name": "stdout",
     "output_type": "stream",
     "text": [
      "Epoch  279, sqrt loss 0.02507, Val sim-NRMS 0.04206, Time Loss: 89.1%, data: 0.2%, val: 10.7%, 11.6 batches/sec\n"
     ]
    },
    {
     "name": "stderr",
     "output_type": "stream",
     "text": [
      " 70%|███████   | 280/400 [1:54:59<47:07, 23.56s/it]"
     ]
    },
    {
     "name": "stdout",
     "output_type": "stream",
     "text": [
      "Epoch  280, sqrt loss  0.0224, Val sim-NRMS 0.04057, Time Loss: 89.1%, data: 0.2%, val: 10.7%, 11.6 batches/sec\n"
     ]
    },
    {
     "name": "stderr",
     "output_type": "stream",
     "text": [
      " 70%|███████   | 281/400 [1:55:22<46:41, 23.54s/it]"
     ]
    },
    {
     "name": "stdout",
     "output_type": "stream",
     "text": [
      "Epoch  281, sqrt loss 0.02649, Val sim-NRMS 0.03735, Time Loss: 89.1%, data: 0.2%, val: 10.7%, 11.6 batches/sec\n"
     ]
    },
    {
     "name": "stderr",
     "output_type": "stream",
     "text": [
      " 70%|███████   | 282/400 [1:55:46<46:13, 23.51s/it]"
     ]
    },
    {
     "name": "stdout",
     "output_type": "stream",
     "text": [
      "Epoch  282, sqrt loss 0.02259, Val sim-NRMS 0.02283, Time Loss: 89.1%, data: 0.2%, val: 10.7%, 11.6 batches/sec\n"
     ]
    },
    {
     "name": "stderr",
     "output_type": "stream",
     "text": [
      " 71%|███████   | 283/400 [1:56:09<45:52, 23.53s/it]"
     ]
    },
    {
     "name": "stdout",
     "output_type": "stream",
     "text": [
      "Epoch  283, sqrt loss 0.02526, Val sim-NRMS 0.03707, Time Loss: 89.1%, data: 0.2%, val: 10.7%, 11.6 batches/sec\n"
     ]
    },
    {
     "name": "stderr",
     "output_type": "stream",
     "text": [
      " 71%|███████   | 284/400 [1:56:32<45:21, 23.46s/it]"
     ]
    },
    {
     "name": "stdout",
     "output_type": "stream",
     "text": [
      "########## New lowest validation loss achieved ########### sim-NRMS = 0.019279102328143716\n",
      "Epoch  284, sqrt loss 0.02269, Val sim-NRMS 0.01928, Time Loss: 89.1%, data: 0.2%, val: 10.7%, 11.6 batches/sec\n"
     ]
    },
    {
     "name": "stderr",
     "output_type": "stream",
     "text": [
      " 71%|███████▏  | 285/400 [1:56:57<45:25, 23.70s/it]"
     ]
    },
    {
     "name": "stdout",
     "output_type": "stream",
     "text": [
      "Epoch  285, sqrt loss 0.02327, Val sim-NRMS 0.02001, Time Loss: 89.1%, data: 0.2%, val: 10.7%, 11.6 batches/sec\n"
     ]
    },
    {
     "name": "stderr",
     "output_type": "stream",
     "text": [
      " 72%|███████▏  | 286/400 [1:57:24<46:59, 24.73s/it]"
     ]
    },
    {
     "name": "stdout",
     "output_type": "stream",
     "text": [
      "Epoch  286, sqrt loss 0.02494, Val sim-NRMS 0.01987, Time Loss: 89.1%, data: 0.2%, val: 10.7%, 11.6 batches/sec\n"
     ]
    },
    {
     "name": "stderr",
     "output_type": "stream",
     "text": [
      " 72%|███████▏  | 287/400 [1:57:49<46:49, 24.86s/it]"
     ]
    },
    {
     "name": "stdout",
     "output_type": "stream",
     "text": [
      "Epoch  287, sqrt loss 0.02258, Val sim-NRMS 0.02857, Time Loss: 89.1%, data: 0.2%, val: 10.7%, 11.6 batches/sec\n"
     ]
    },
    {
     "name": "stderr",
     "output_type": "stream",
     "text": [
      " 72%|███████▏  | 288/400 [1:58:14<46:35, 24.96s/it]"
     ]
    },
    {
     "name": "stdout",
     "output_type": "stream",
     "text": [
      "Epoch  288, sqrt loss 0.02547, Val sim-NRMS 0.02096, Time Loss: 89.1%, data: 0.2%, val: 10.7%, 11.6 batches/sec\n"
     ]
    },
    {
     "name": "stderr",
     "output_type": "stream",
     "text": [
      " 72%|███████▏  | 289/400 [1:58:39<46:16, 25.02s/it]"
     ]
    },
    {
     "name": "stdout",
     "output_type": "stream",
     "text": [
      "Epoch  289, sqrt loss 0.02398, Val sim-NRMS 0.01928, Time Loss: 89.1%, data: 0.2%, val: 10.7%, 11.6 batches/sec\n"
     ]
    },
    {
     "name": "stderr",
     "output_type": "stream",
     "text": [
      " 72%|███████▎  | 290/400 [1:59:04<45:53, 25.03s/it]"
     ]
    },
    {
     "name": "stdout",
     "output_type": "stream",
     "text": [
      "Epoch  290, sqrt loss 0.02356, Val sim-NRMS 0.01967, Time Loss: 89.1%, data: 0.2%, val: 10.7%, 11.6 batches/sec\n"
     ]
    },
    {
     "name": "stderr",
     "output_type": "stream",
     "text": [
      " 73%|███████▎  | 291/400 [1:59:29<45:27, 25.02s/it]"
     ]
    },
    {
     "name": "stdout",
     "output_type": "stream",
     "text": [
      "Epoch  291, sqrt loss 0.02274, Val sim-NRMS 0.02036, Time Loss: 89.1%, data: 0.2%, val: 10.7%, 11.6 batches/sec\n"
     ]
    },
    {
     "name": "stderr",
     "output_type": "stream",
     "text": [
      " 73%|███████▎  | 292/400 [1:59:55<45:08, 25.08s/it]"
     ]
    },
    {
     "name": "stdout",
     "output_type": "stream",
     "text": [
      "Epoch  292, sqrt loss 0.02503, Val sim-NRMS 0.02241, Time Loss: 89.1%, data: 0.2%, val: 10.7%, 11.6 batches/sec\n"
     ]
    },
    {
     "name": "stderr",
     "output_type": "stream",
     "text": [
      " 73%|███████▎  | 293/400 [2:00:20<44:46, 25.11s/it]"
     ]
    },
    {
     "name": "stdout",
     "output_type": "stream",
     "text": [
      "Epoch  293, sqrt loss 0.02417, Val sim-NRMS 0.05026, Time Loss: 89.1%, data: 0.2%, val: 10.7%, 11.6 batches/sec\n"
     ]
    },
    {
     "name": "stderr",
     "output_type": "stream",
     "text": [
      " 74%|███████▎  | 294/400 [2:00:45<44:24, 25.14s/it]"
     ]
    },
    {
     "name": "stdout",
     "output_type": "stream",
     "text": [
      "Epoch  294, sqrt loss 0.02275, Val sim-NRMS 0.02018, Time Loss: 89.1%, data: 0.2%, val: 10.7%, 11.6 batches/sec\n"
     ]
    },
    {
     "name": "stderr",
     "output_type": "stream",
     "text": [
      " 74%|███████▍  | 295/400 [2:01:10<43:57, 25.12s/it]"
     ]
    },
    {
     "name": "stdout",
     "output_type": "stream",
     "text": [
      "Epoch  295, sqrt loss 0.02401, Val sim-NRMS 0.02563, Time Loss: 89.1%, data: 0.2%, val: 10.7%, 11.6 batches/sec\n"
     ]
    },
    {
     "name": "stderr",
     "output_type": "stream",
     "text": [
      " 74%|███████▍  | 296/400 [2:01:35<43:31, 25.11s/it]"
     ]
    },
    {
     "name": "stdout",
     "output_type": "stream",
     "text": [
      "Epoch  296, sqrt loss  0.0228, Val sim-NRMS 0.02183, Time Loss: 89.1%, data: 0.2%, val: 10.7%, 11.6 batches/sec\n"
     ]
    },
    {
     "name": "stderr",
     "output_type": "stream",
     "text": [
      " 74%|███████▍  | 297/400 [2:02:00<43:04, 25.09s/it]"
     ]
    },
    {
     "name": "stdout",
     "output_type": "stream",
     "text": [
      "Epoch  297, sqrt loss  0.0247, Val sim-NRMS 0.02441, Time Loss: 89.1%, data: 0.2%, val: 10.7%, 11.6 batches/sec\n"
     ]
    },
    {
     "name": "stderr",
     "output_type": "stream",
     "text": [
      " 74%|███████▍  | 298/400 [2:02:25<42:40, 25.10s/it]"
     ]
    },
    {
     "name": "stdout",
     "output_type": "stream",
     "text": [
      "Epoch  298, sqrt loss 0.02587, Val sim-NRMS 0.02812, Time Loss: 89.1%, data: 0.2%, val: 10.7%, 11.6 batches/sec\n"
     ]
    },
    {
     "name": "stderr",
     "output_type": "stream",
     "text": [
      " 75%|███████▍  | 299/400 [2:02:51<42:17, 25.12s/it]"
     ]
    },
    {
     "name": "stdout",
     "output_type": "stream",
     "text": [
      "Epoch  299, sqrt loss 0.02101, Val sim-NRMS 0.02069, Time Loss: 89.1%, data: 0.2%, val: 10.7%, 11.6 batches/sec\n"
     ]
    },
    {
     "name": "stderr",
     "output_type": "stream",
     "text": [
      " 75%|███████▌  | 300/400 [2:03:16<42:10, 25.31s/it]"
     ]
    },
    {
     "name": "stdout",
     "output_type": "stream",
     "text": [
      "Epoch  300, sqrt loss 0.02374, Val sim-NRMS 0.02031, Time Loss: 89.1%, data: 0.2%, val: 10.7%, 11.6 batches/sec\n"
     ]
    },
    {
     "name": "stderr",
     "output_type": "stream",
     "text": [
      " 75%|███████▌  | 301/400 [2:03:41<41:36, 25.22s/it]"
     ]
    },
    {
     "name": "stdout",
     "output_type": "stream",
     "text": [
      "Epoch  301, sqrt loss 0.02396, Val sim-NRMS  0.025, Time Loss: 89.1%, data: 0.2%, val: 10.7%, 11.6 batches/sec\n"
     ]
    },
    {
     "name": "stderr",
     "output_type": "stream",
     "text": [
      " 76%|███████▌  | 302/400 [2:04:06<41:04, 25.15s/it]"
     ]
    },
    {
     "name": "stdout",
     "output_type": "stream",
     "text": [
      "Epoch  302, sqrt loss 0.02332, Val sim-NRMS 0.02022, Time Loss: 89.1%, data: 0.2%, val: 10.7%, 11.6 batches/sec\n"
     ]
    },
    {
     "name": "stderr",
     "output_type": "stream",
     "text": [
      " 76%|███████▌  | 303/400 [2:04:31<40:37, 25.13s/it]"
     ]
    },
    {
     "name": "stdout",
     "output_type": "stream",
     "text": [
      "Epoch  303, sqrt loss 0.02392, Val sim-NRMS 0.02005, Time Loss: 89.1%, data: 0.2%, val: 10.7%, 11.6 batches/sec\n"
     ]
    },
    {
     "name": "stderr",
     "output_type": "stream",
     "text": [
      " 76%|███████▌  | 304/400 [2:04:56<40:10, 25.11s/it]"
     ]
    },
    {
     "name": "stdout",
     "output_type": "stream",
     "text": [
      "Epoch  304, sqrt loss 0.02271, Val sim-NRMS 0.02233, Time Loss: 89.1%, data: 0.2%, val: 10.7%, 11.6 batches/sec\n"
     ]
    },
    {
     "name": "stderr",
     "output_type": "stream",
     "text": [
      " 76%|███████▋  | 305/400 [2:05:22<39:46, 25.12s/it]"
     ]
    },
    {
     "name": "stdout",
     "output_type": "stream",
     "text": [
      "Epoch  305, sqrt loss 0.02483, Val sim-NRMS 0.02909, Time Loss: 89.1%, data: 0.2%, val: 10.7%, 11.6 batches/sec\n"
     ]
    },
    {
     "name": "stderr",
     "output_type": "stream",
     "text": [
      " 76%|███████▋  | 306/400 [2:05:47<39:21, 25.12s/it]"
     ]
    },
    {
     "name": "stdout",
     "output_type": "stream",
     "text": [
      "Epoch  306, sqrt loss 0.02216, Val sim-NRMS 0.02127, Time Loss: 89.1%, data: 0.2%, val: 10.7%, 11.6 batches/sec\n"
     ]
    },
    {
     "name": "stderr",
     "output_type": "stream",
     "text": [
      " 77%|███████▋  | 307/400 [2:06:12<38:58, 25.14s/it]"
     ]
    },
    {
     "name": "stdout",
     "output_type": "stream",
     "text": [
      "Epoch  307, sqrt loss 0.02306, Val sim-NRMS 0.02087, Time Loss: 89.1%, data: 0.2%, val: 10.7%, 11.6 batches/sec\n"
     ]
    },
    {
     "name": "stderr",
     "output_type": "stream",
     "text": [
      " 77%|███████▋  | 308/400 [2:06:37<38:38, 25.20s/it]"
     ]
    },
    {
     "name": "stdout",
     "output_type": "stream",
     "text": [
      "Epoch  308, sqrt loss 0.02293, Val sim-NRMS 0.02129, Time Loss: 89.1%, data: 0.2%, val: 10.7%, 11.6 batches/sec\n"
     ]
    },
    {
     "name": "stderr",
     "output_type": "stream",
     "text": [
      " 77%|███████▋  | 309/400 [2:07:02<38:10, 25.17s/it]"
     ]
    },
    {
     "name": "stdout",
     "output_type": "stream",
     "text": [
      "Epoch  309, sqrt loss 0.02355, Val sim-NRMS 0.03072, Time Loss: 89.1%, data: 0.2%, val: 10.7%, 11.6 batches/sec\n"
     ]
    },
    {
     "name": "stderr",
     "output_type": "stream",
     "text": [
      " 78%|███████▊  | 310/400 [2:07:27<37:41, 25.12s/it]"
     ]
    },
    {
     "name": "stdout",
     "output_type": "stream",
     "text": [
      "Epoch  310, sqrt loss 0.02286, Val sim-NRMS 0.02568, Time Loss: 89.1%, data: 0.2%, val: 10.7%, 11.6 batches/sec\n"
     ]
    },
    {
     "name": "stderr",
     "output_type": "stream",
     "text": [
      " 78%|███████▊  | 311/400 [2:07:53<37:18, 25.15s/it]"
     ]
    },
    {
     "name": "stdout",
     "output_type": "stream",
     "text": [
      "Epoch  311, sqrt loss 0.02431, Val sim-NRMS 0.0211, Time Loss: 89.1%, data: 0.2%, val: 10.7%, 11.6 batches/sec\n"
     ]
    },
    {
     "name": "stderr",
     "output_type": "stream",
     "text": [
      " 78%|███████▊  | 312/400 [2:08:18<36:53, 25.15s/it]"
     ]
    },
    {
     "name": "stdout",
     "output_type": "stream",
     "text": [
      "Epoch  312, sqrt loss 0.02408, Val sim-NRMS 0.02308, Time Loss: 89.1%, data: 0.2%, val: 10.7%, 11.6 batches/sec\n"
     ]
    },
    {
     "name": "stderr",
     "output_type": "stream",
     "text": [
      " 78%|███████▊  | 313/400 [2:08:43<36:25, 25.12s/it]"
     ]
    },
    {
     "name": "stdout",
     "output_type": "stream",
     "text": [
      "Epoch  313, sqrt loss 0.02153, Val sim-NRMS 0.03057, Time Loss: 89.1%, data: 0.2%, val: 10.7%, 11.6 batches/sec\n"
     ]
    },
    {
     "name": "stderr",
     "output_type": "stream",
     "text": [
      " 78%|███████▊  | 314/400 [2:09:08<36:02, 25.14s/it]"
     ]
    },
    {
     "name": "stdout",
     "output_type": "stream",
     "text": [
      "Epoch  314, sqrt loss 0.02335, Val sim-NRMS 0.02415, Time Loss: 89.1%, data: 0.2%, val: 10.7%, 11.6 batches/sec\n"
     ]
    },
    {
     "name": "stderr",
     "output_type": "stream",
     "text": [
      " 79%|███████▉  | 315/400 [2:09:33<35:38, 25.15s/it]"
     ]
    },
    {
     "name": "stdout",
     "output_type": "stream",
     "text": [
      "Epoch  315, sqrt loss 0.02325, Val sim-NRMS 0.02093, Time Loss: 89.1%, data: 0.2%, val: 10.7%, 11.6 batches/sec\n"
     ]
    },
    {
     "name": "stderr",
     "output_type": "stream",
     "text": [
      " 79%|███████▉  | 316/400 [2:09:58<35:12, 25.15s/it]"
     ]
    },
    {
     "name": "stdout",
     "output_type": "stream",
     "text": [
      "Epoch  316, sqrt loss 0.02328, Val sim-NRMS 0.01997, Time Loss: 89.1%, data: 0.2%, val: 10.7%, 11.6 batches/sec\n"
     ]
    },
    {
     "name": "stderr",
     "output_type": "stream",
     "text": [
      " 79%|███████▉  | 317/400 [2:10:23<34:46, 25.14s/it]"
     ]
    },
    {
     "name": "stdout",
     "output_type": "stream",
     "text": [
      "Epoch  317, sqrt loss 0.02406, Val sim-NRMS 0.0223, Time Loss: 89.1%, data: 0.2%, val: 10.7%, 11.6 batches/sec\n"
     ]
    },
    {
     "name": "stderr",
     "output_type": "stream",
     "text": [
      " 80%|███████▉  | 318/400 [2:10:49<34:30, 25.25s/it]"
     ]
    },
    {
     "name": "stdout",
     "output_type": "stream",
     "text": [
      "Epoch  318, sqrt loss 0.02395, Val sim-NRMS 0.01988, Time Loss: 89.1%, data: 0.2%, val: 10.7%, 11.6 batches/sec\n"
     ]
    },
    {
     "name": "stderr",
     "output_type": "stream",
     "text": [
      " 80%|███████▉  | 319/400 [2:11:14<34:05, 25.26s/it]"
     ]
    },
    {
     "name": "stdout",
     "output_type": "stream",
     "text": [
      "Epoch  319, sqrt loss 0.02264, Val sim-NRMS 0.03649, Time Loss: 89.1%, data: 0.2%, val: 10.7%, 11.6 batches/sec\n"
     ]
    },
    {
     "name": "stderr",
     "output_type": "stream",
     "text": [
      " 80%|████████  | 320/400 [2:11:40<33:58, 25.48s/it]"
     ]
    },
    {
     "name": "stdout",
     "output_type": "stream",
     "text": [
      "Epoch  320, sqrt loss 0.02197, Val sim-NRMS 0.02472, Time Loss: 89.1%, data: 0.2%, val: 10.7%, 11.6 batches/sec\n"
     ]
    },
    {
     "name": "stderr",
     "output_type": "stream",
     "text": [
      " 80%|████████  | 321/400 [2:12:05<33:27, 25.41s/it]"
     ]
    },
    {
     "name": "stdout",
     "output_type": "stream",
     "text": [
      "Epoch  321, sqrt loss 0.08546, Val sim-NRMS 0.0245, Time Loss: 89.1%, data: 0.2%, val: 10.7%, 11.6 batches/sec\n"
     ]
    },
    {
     "name": "stderr",
     "output_type": "stream",
     "text": [
      " 80%|████████  | 322/400 [2:12:31<32:55, 25.33s/it]"
     ]
    },
    {
     "name": "stdout",
     "output_type": "stream",
     "text": [
      "Epoch  322, sqrt loss  0.0206, Val sim-NRMS 0.01969, Time Loss: 89.1%, data: 0.2%, val: 10.7%, 11.6 batches/sec\n"
     ]
    },
    {
     "name": "stderr",
     "output_type": "stream",
     "text": [
      " 81%|████████  | 323/400 [2:12:56<32:29, 25.31s/it]"
     ]
    },
    {
     "name": "stdout",
     "output_type": "stream",
     "text": [
      "Epoch  323, sqrt loss 0.01941, Val sim-NRMS 0.01934, Time Loss: 89.1%, data: 0.2%, val: 10.7%, 11.6 batches/sec\n"
     ]
    },
    {
     "name": "stderr",
     "output_type": "stream",
     "text": [
      " 81%|████████  | 324/400 [2:13:21<32:01, 25.28s/it]"
     ]
    },
    {
     "name": "stdout",
     "output_type": "stream",
     "text": [
      "Epoch  324, sqrt loss 0.01933, Val sim-NRMS 0.01942, Time Loss: 89.1%, data: 0.2%, val: 10.7%, 11.6 batches/sec\n"
     ]
    },
    {
     "name": "stderr",
     "output_type": "stream",
     "text": [
      " 81%|████████▏ | 325/400 [2:13:46<31:33, 25.25s/it]"
     ]
    },
    {
     "name": "stdout",
     "output_type": "stream",
     "text": [
      "Epoch  325, sqrt loss  0.0194, Val sim-NRMS 0.02009, Time Loss: 89.1%, data: 0.2%, val: 10.7%, 11.6 batches/sec\n"
     ]
    },
    {
     "name": "stderr",
     "output_type": "stream",
     "text": [
      " 82%|████████▏ | 326/400 [2:14:12<31:13, 25.32s/it]"
     ]
    },
    {
     "name": "stdout",
     "output_type": "stream",
     "text": [
      "Epoch  326, sqrt loss  0.0203, Val sim-NRMS 0.01936, Time Loss: 89.1%, data: 0.2%, val: 10.7%, 11.6 batches/sec\n"
     ]
    },
    {
     "name": "stderr",
     "output_type": "stream",
     "text": [
      " 82%|████████▏ | 327/400 [2:14:37<30:52, 25.38s/it]"
     ]
    },
    {
     "name": "stdout",
     "output_type": "stream",
     "text": [
      "Epoch  327, sqrt loss 0.02212, Val sim-NRMS 0.02705, Time Loss: 89.1%, data: 0.2%, val: 10.7%, 11.6 batches/sec\n"
     ]
    },
    {
     "name": "stderr",
     "output_type": "stream",
     "text": [
      " 82%|████████▏ | 328/400 [2:15:02<30:21, 25.30s/it]"
     ]
    },
    {
     "name": "stdout",
     "output_type": "stream",
     "text": [
      "Epoch  328, sqrt loss 0.02075, Val sim-NRMS 0.02117, Time Loss: 89.1%, data: 0.2%, val: 10.7%, 11.6 batches/sec\n"
     ]
    },
    {
     "name": "stderr",
     "output_type": "stream",
     "text": [
      " 82%|████████▏ | 329/400 [2:15:28<29:54, 25.28s/it]"
     ]
    },
    {
     "name": "stdout",
     "output_type": "stream",
     "text": [
      "Epoch  329, sqrt loss 0.02196, Val sim-NRMS 0.01943, Time Loss: 89.1%, data: 0.2%, val: 10.7%, 11.6 batches/sec\n"
     ]
    },
    {
     "name": "stderr",
     "output_type": "stream",
     "text": [
      " 82%|████████▎ | 330/400 [2:15:53<29:30, 25.29s/it]"
     ]
    },
    {
     "name": "stdout",
     "output_type": "stream",
     "text": [
      "Epoch  330, sqrt loss 0.02272, Val sim-NRMS 0.02225, Time Loss: 89.1%, data: 0.2%, val: 10.7%, 11.6 batches/sec\n"
     ]
    },
    {
     "name": "stderr",
     "output_type": "stream",
     "text": [
      " 83%|████████▎ | 331/400 [2:16:18<29:05, 25.30s/it]"
     ]
    },
    {
     "name": "stdout",
     "output_type": "stream",
     "text": [
      "Epoch  331, sqrt loss 0.02313, Val sim-NRMS 0.02093, Time Loss: 89.1%, data: 0.2%, val: 10.7%, 11.6 batches/sec\n"
     ]
    },
    {
     "name": "stderr",
     "output_type": "stream",
     "text": [
      " 83%|████████▎ | 332/400 [2:16:43<28:35, 25.22s/it]"
     ]
    },
    {
     "name": "stdout",
     "output_type": "stream",
     "text": [
      "Epoch  332, sqrt loss 0.06604, Val sim-NRMS 0.0408, Time Loss: 89.1%, data: 0.2%, val: 10.7%, 11.6 batches/sec\n"
     ]
    },
    {
     "name": "stderr",
     "output_type": "stream",
     "text": [
      " 83%|████████▎ | 333/400 [2:17:09<28:12, 25.27s/it]"
     ]
    },
    {
     "name": "stdout",
     "output_type": "stream",
     "text": [
      "Epoch  333, sqrt loss 0.02025, Val sim-NRMS 0.01979, Time Loss: 89.1%, data: 0.2%, val: 10.7%, 11.6 batches/sec\n"
     ]
    },
    {
     "name": "stderr",
     "output_type": "stream",
     "text": [
      " 84%|████████▎ | 334/400 [2:17:34<27:51, 25.32s/it]"
     ]
    },
    {
     "name": "stdout",
     "output_type": "stream",
     "text": [
      "Epoch  334, sqrt loss 0.01918, Val sim-NRMS 0.01933, Time Loss: 89.1%, data: 0.2%, val: 10.7%, 11.6 batches/sec\n"
     ]
    },
    {
     "name": "stderr",
     "output_type": "stream",
     "text": [
      " 84%|████████▍ | 335/400 [2:17:59<27:23, 25.29s/it]"
     ]
    },
    {
     "name": "stdout",
     "output_type": "stream",
     "text": [
      "Epoch  335, sqrt loss 0.01919, Val sim-NRMS 0.01967, Time Loss: 89.1%, data: 0.2%, val: 10.7%, 11.6 batches/sec\n"
     ]
    },
    {
     "name": "stderr",
     "output_type": "stream",
     "text": [
      " 84%|████████▍ | 336/400 [2:18:24<26:55, 25.24s/it]"
     ]
    },
    {
     "name": "stdout",
     "output_type": "stream",
     "text": [
      "Epoch  336, sqrt loss 0.01951, Val sim-NRMS 0.02084, Time Loss: 89.1%, data: 0.2%, val: 10.7%, 11.6 batches/sec\n"
     ]
    },
    {
     "name": "stderr",
     "output_type": "stream",
     "text": [
      " 84%|████████▍ | 337/400 [2:18:49<26:25, 25.16s/it]"
     ]
    },
    {
     "name": "stdout",
     "output_type": "stream",
     "text": [
      "Epoch  337, sqrt loss 0.02105, Val sim-NRMS 0.02391, Time Loss: 89.1%, data: 0.2%, val: 10.7%, 11.6 batches/sec\n"
     ]
    },
    {
     "name": "stderr",
     "output_type": "stream",
     "text": [
      " 84%|████████▍ | 338/400 [2:19:15<26:02, 25.20s/it]"
     ]
    },
    {
     "name": "stdout",
     "output_type": "stream",
     "text": [
      "Epoch  338, sqrt loss 0.02025, Val sim-NRMS 0.01933, Time Loss: 89.1%, data: 0.2%, val: 10.7%, 11.6 batches/sec\n"
     ]
    },
    {
     "name": "stderr",
     "output_type": "stream",
     "text": [
      " 85%|████████▍ | 339/400 [2:19:40<25:34, 25.15s/it]"
     ]
    },
    {
     "name": "stdout",
     "output_type": "stream",
     "text": [
      "Epoch  339, sqrt loss 0.02279, Val sim-NRMS 0.02033, Time Loss: 89.1%, data: 0.2%, val: 10.7%, 11.6 batches/sec\n"
     ]
    },
    {
     "name": "stderr",
     "output_type": "stream",
     "text": [
      " 85%|████████▌ | 340/400 [2:20:05<25:07, 25.13s/it]"
     ]
    },
    {
     "name": "stdout",
     "output_type": "stream",
     "text": [
      "Epoch  340, sqrt loss 0.02102, Val sim-NRMS 0.01972, Time Loss: 89.1%, data: 0.2%, val: 10.7%, 11.6 batches/sec\n"
     ]
    },
    {
     "name": "stderr",
     "output_type": "stream",
     "text": [
      " 85%|████████▌ | 341/400 [2:20:30<24:45, 25.17s/it]"
     ]
    },
    {
     "name": "stdout",
     "output_type": "stream",
     "text": [
      "Epoch  341, sqrt loss 0.02337, Val sim-NRMS 0.02118, Time Loss: 89.1%, data: 0.2%, val: 10.7%, 11.6 batches/sec\n"
     ]
    },
    {
     "name": "stderr",
     "output_type": "stream",
     "text": [
      " 86%|████████▌ | 342/400 [2:20:55<24:21, 25.19s/it]"
     ]
    },
    {
     "name": "stdout",
     "output_type": "stream",
     "text": [
      "Epoch  342, sqrt loss 0.02225, Val sim-NRMS 0.02158, Time Loss: 89.1%, data: 0.2%, val: 10.7%, 11.6 batches/sec\n"
     ]
    },
    {
     "name": "stderr",
     "output_type": "stream",
     "text": [
      " 86%|████████▌ | 343/400 [2:21:20<23:55, 25.19s/it]"
     ]
    },
    {
     "name": "stdout",
     "output_type": "stream",
     "text": [
      "Epoch  343, sqrt loss 0.02394, Val sim-NRMS 0.01985, Time Loss: 89.1%, data: 0.2%, val: 10.7%, 11.6 batches/sec\n"
     ]
    },
    {
     "name": "stderr",
     "output_type": "stream",
     "text": [
      " 86%|████████▌ | 344/400 [2:21:45<23:26, 25.12s/it]"
     ]
    },
    {
     "name": "stdout",
     "output_type": "stream",
     "text": [
      "Epoch  344, sqrt loss 0.02159, Val sim-NRMS 0.02526, Time Loss: 89.1%, data: 0.2%, val: 10.7%, 11.6 batches/sec\n"
     ]
    },
    {
     "name": "stderr",
     "output_type": "stream",
     "text": [
      " 86%|████████▋ | 345/400 [2:22:10<22:57, 25.05s/it]"
     ]
    },
    {
     "name": "stdout",
     "output_type": "stream",
     "text": [
      "Epoch  345, sqrt loss 0.02243, Val sim-NRMS 0.02104, Time Loss: 89.1%, data: 0.2%, val: 10.7%, 11.6 batches/sec\n"
     ]
    },
    {
     "name": "stderr",
     "output_type": "stream",
     "text": [
      " 86%|████████▋ | 346/400 [2:22:35<22:32, 25.04s/it]"
     ]
    },
    {
     "name": "stdout",
     "output_type": "stream",
     "text": [
      "Epoch  346, sqrt loss 0.02321, Val sim-NRMS 0.02086, Time Loss: 89.1%, data: 0.2%, val: 10.7%, 11.6 batches/sec\n"
     ]
    },
    {
     "name": "stderr",
     "output_type": "stream",
     "text": [
      " 87%|████████▋ | 347/400 [2:23:00<22:06, 25.03s/it]"
     ]
    },
    {
     "name": "stdout",
     "output_type": "stream",
     "text": [
      "Epoch  347, sqrt loss 0.02308, Val sim-NRMS 0.02272, Time Loss: 89.1%, data: 0.2%, val: 10.7%, 11.6 batches/sec\n"
     ]
    },
    {
     "name": "stderr",
     "output_type": "stream",
     "text": [
      " 87%|████████▋ | 348/400 [2:23:26<21:48, 25.16s/it]"
     ]
    },
    {
     "name": "stdout",
     "output_type": "stream",
     "text": [
      "Epoch  348, sqrt loss 0.02191, Val sim-NRMS 0.02333, Time Loss: 89.1%, data: 0.2%, val: 10.7%, 11.6 batches/sec\n"
     ]
    },
    {
     "name": "stderr",
     "output_type": "stream",
     "text": [
      " 87%|████████▋ | 349/400 [2:23:51<21:21, 25.12s/it]"
     ]
    },
    {
     "name": "stdout",
     "output_type": "stream",
     "text": [
      "Epoch  349, sqrt loss 0.02279, Val sim-NRMS 0.02266, Time Loss: 89.1%, data: 0.2%, val: 10.7%, 11.6 batches/sec\n"
     ]
    },
    {
     "name": "stderr",
     "output_type": "stream",
     "text": [
      " 88%|████████▊ | 350/400 [2:24:16<20:55, 25.11s/it]"
     ]
    },
    {
     "name": "stdout",
     "output_type": "stream",
     "text": [
      "Epoch  350, sqrt loss 0.03425, Val sim-NRMS 0.02015, Time Loss: 89.1%, data: 0.2%, val: 10.7%, 11.6 batches/sec\n"
     ]
    },
    {
     "name": "stderr",
     "output_type": "stream",
     "text": [
      " 88%|████████▊ | 351/400 [2:24:41<20:27, 25.06s/it]"
     ]
    },
    {
     "name": "stdout",
     "output_type": "stream",
     "text": [
      "Epoch  351, sqrt loss 0.01927, Val sim-NRMS 0.01969, Time Loss: 89.1%, data: 0.2%, val: 10.7%, 11.6 batches/sec\n"
     ]
    },
    {
     "name": "stderr",
     "output_type": "stream",
     "text": [
      " 88%|████████▊ | 352/400 [2:25:06<20:03, 25.08s/it]"
     ]
    },
    {
     "name": "stdout",
     "output_type": "stream",
     "text": [
      "Epoch  352, sqrt loss 0.01985, Val sim-NRMS 0.02131, Time Loss: 89.1%, data: 0.2%, val: 10.7%, 11.6 batches/sec\n"
     ]
    },
    {
     "name": "stderr",
     "output_type": "stream",
     "text": [
      " 88%|████████▊ | 353/400 [2:25:31<19:40, 25.12s/it]"
     ]
    },
    {
     "name": "stdout",
     "output_type": "stream",
     "text": [
      "Epoch  353, sqrt loss 0.02171, Val sim-NRMS 0.01979, Time Loss: 89.1%, data: 0.2%, val: 10.7%, 11.6 batches/sec\n"
     ]
    },
    {
     "name": "stderr",
     "output_type": "stream",
     "text": [
      " 88%|████████▊ | 354/400 [2:25:56<19:14, 25.10s/it]"
     ]
    },
    {
     "name": "stdout",
     "output_type": "stream",
     "text": [
      "Epoch  354, sqrt loss 0.02269, Val sim-NRMS 0.01948, Time Loss: 89.1%, data: 0.2%, val: 10.7%, 11.6 batches/sec\n"
     ]
    },
    {
     "name": "stderr",
     "output_type": "stream",
     "text": [
      " 89%|████████▉ | 355/400 [2:26:21<18:49, 25.11s/it]"
     ]
    },
    {
     "name": "stdout",
     "output_type": "stream",
     "text": [
      "Epoch  355, sqrt loss 0.02115, Val sim-NRMS 0.02487, Time Loss: 89.1%, data: 0.2%, val: 10.7%, 11.6 batches/sec\n"
     ]
    },
    {
     "name": "stderr",
     "output_type": "stream",
     "text": [
      " 89%|████████▉ | 356/400 [2:26:46<18:24, 25.11s/it]"
     ]
    },
    {
     "name": "stdout",
     "output_type": "stream",
     "text": [
      "Epoch  356, sqrt loss 0.02369, Val sim-NRMS 0.02068, Time Loss: 89.1%, data: 0.2%, val: 10.7%, 11.6 batches/sec\n"
     ]
    },
    {
     "name": "stderr",
     "output_type": "stream",
     "text": [
      " 89%|████████▉ | 357/400 [2:27:12<18:00, 25.12s/it]"
     ]
    },
    {
     "name": "stdout",
     "output_type": "stream",
     "text": [
      "Epoch  357, sqrt loss 0.02111, Val sim-NRMS 0.02017, Time Loss: 89.1%, data: 0.2%, val: 10.7%, 11.6 batches/sec\n"
     ]
    },
    {
     "name": "stderr",
     "output_type": "stream",
     "text": [
      " 90%|████████▉ | 358/400 [2:27:37<17:39, 25.23s/it]"
     ]
    },
    {
     "name": "stdout",
     "output_type": "stream",
     "text": [
      "Epoch  358, sqrt loss 0.02402, Val sim-NRMS 0.0198, Time Loss: 89.1%, data: 0.2%, val: 10.7%, 11.6 batches/sec\n"
     ]
    },
    {
     "name": "stderr",
     "output_type": "stream",
     "text": [
      " 90%|████████▉ | 359/400 [2:28:03<17:19, 25.36s/it]"
     ]
    },
    {
     "name": "stdout",
     "output_type": "stream",
     "text": [
      "Epoch  359, sqrt loss 0.02218, Val sim-NRMS 0.02107, Time Loss: 89.1%, data: 0.2%, val: 10.7%, 11.6 batches/sec\n"
     ]
    },
    {
     "name": "stderr",
     "output_type": "stream",
     "text": [
      " 90%|█████████ | 360/400 [2:28:28<16:56, 25.42s/it]"
     ]
    },
    {
     "name": "stdout",
     "output_type": "stream",
     "text": [
      "Epoch  360, sqrt loss 0.02203, Val sim-NRMS 0.02511, Time Loss: 89.1%, data: 0.2%, val: 10.7%, 11.6 batches/sec\n"
     ]
    },
    {
     "name": "stderr",
     "output_type": "stream",
     "text": [
      " 90%|█████████ | 361/400 [2:28:54<16:34, 25.50s/it]"
     ]
    },
    {
     "name": "stdout",
     "output_type": "stream",
     "text": [
      "Epoch  361, sqrt loss 0.02364, Val sim-NRMS  0.021, Time Loss: 89.1%, data: 0.2%, val: 10.7%, 11.6 batches/sec\n"
     ]
    },
    {
     "name": "stderr",
     "output_type": "stream",
     "text": [
      " 90%|█████████ | 362/400 [2:29:19<16:07, 25.46s/it]"
     ]
    },
    {
     "name": "stdout",
     "output_type": "stream",
     "text": [
      "Epoch  362, sqrt loss 0.02366, Val sim-NRMS 0.02121, Time Loss: 89.1%, data: 0.2%, val: 10.7%, 11.6 batches/sec\n"
     ]
    },
    {
     "name": "stderr",
     "output_type": "stream",
     "text": [
      " 91%|█████████ | 363/400 [2:29:44<15:37, 25.33s/it]"
     ]
    },
    {
     "name": "stdout",
     "output_type": "stream",
     "text": [
      "Epoch  363, sqrt loss 0.02096, Val sim-NRMS 0.02164, Time Loss: 89.1%, data: 0.2%, val: 10.7%, 11.6 batches/sec\n"
     ]
    },
    {
     "name": "stderr",
     "output_type": "stream",
     "text": [
      " 91%|█████████ | 364/400 [2:30:10<15:11, 25.31s/it]"
     ]
    },
    {
     "name": "stdout",
     "output_type": "stream",
     "text": [
      "Epoch  364, sqrt loss 0.02191, Val sim-NRMS 0.02999, Time Loss: 89.1%, data: 0.2%, val: 10.7%, 11.6 batches/sec\n"
     ]
    },
    {
     "name": "stderr",
     "output_type": "stream",
     "text": [
      " 91%|█████████▏| 365/400 [2:30:35<14:43, 25.24s/it]"
     ]
    },
    {
     "name": "stdout",
     "output_type": "stream",
     "text": [
      "Epoch  365, sqrt loss 0.02271, Val sim-NRMS 0.02376, Time Loss: 89.1%, data: 0.2%, val: 10.7%, 11.6 batches/sec\n"
     ]
    },
    {
     "name": "stderr",
     "output_type": "stream",
     "text": [
      " 92%|█████████▏| 366/400 [2:31:00<14:16, 25.18s/it]"
     ]
    },
    {
     "name": "stdout",
     "output_type": "stream",
     "text": [
      "Epoch  366, sqrt loss 0.02297, Val sim-NRMS 0.02068, Time Loss: 89.1%, data: 0.2%, val: 10.7%, 11.6 batches/sec\n"
     ]
    },
    {
     "name": "stderr",
     "output_type": "stream",
     "text": [
      " 92%|█████████▏| 367/400 [2:31:25<13:50, 25.17s/it]"
     ]
    },
    {
     "name": "stdout",
     "output_type": "stream",
     "text": [
      "Epoch  367, sqrt loss 0.02156, Val sim-NRMS 0.03092, Time Loss: 89.1%, data: 0.2%, val: 10.7%, 11.6 batches/sec\n"
     ]
    },
    {
     "name": "stderr",
     "output_type": "stream",
     "text": [
      " 92%|█████████▏| 368/400 [2:31:50<13:27, 25.25s/it]"
     ]
    },
    {
     "name": "stdout",
     "output_type": "stream",
     "text": [
      "Epoch  368, sqrt loss 0.02242, Val sim-NRMS 0.02329, Time Loss: 89.1%, data: 0.2%, val: 10.7%, 11.6 batches/sec\n"
     ]
    },
    {
     "name": "stderr",
     "output_type": "stream",
     "text": [
      " 92%|█████████▏| 369/400 [2:32:16<13:02, 25.25s/it]"
     ]
    },
    {
     "name": "stdout",
     "output_type": "stream",
     "text": [
      "Epoch  369, sqrt loss 0.02257, Val sim-NRMS 0.02014, Time Loss: 89.1%, data: 0.2%, val: 10.7%, 11.6 batches/sec\n"
     ]
    },
    {
     "name": "stderr",
     "output_type": "stream",
     "text": [
      " 92%|█████████▎| 370/400 [2:32:41<12:37, 25.24s/it]"
     ]
    },
    {
     "name": "stdout",
     "output_type": "stream",
     "text": [
      "Epoch  370, sqrt loss 0.02195, Val sim-NRMS 0.03263, Time Loss: 89.1%, data: 0.2%, val: 10.7%, 11.6 batches/sec\n"
     ]
    },
    {
     "name": "stderr",
     "output_type": "stream",
     "text": [
      " 93%|█████████▎| 371/400 [2:33:06<12:12, 25.24s/it]"
     ]
    },
    {
     "name": "stdout",
     "output_type": "stream",
     "text": [
      "Epoch  371, sqrt loss 0.02316, Val sim-NRMS 0.02147, Time Loss: 89.1%, data: 0.2%, val: 10.7%, 11.6 batches/sec\n"
     ]
    },
    {
     "name": "stderr",
     "output_type": "stream",
     "text": [
      " 93%|█████████▎| 372/400 [2:33:31<11:46, 25.24s/it]"
     ]
    },
    {
     "name": "stdout",
     "output_type": "stream",
     "text": [
      "Epoch  372, sqrt loss 0.02147, Val sim-NRMS 0.02176, Time Loss: 89.1%, data: 0.2%, val: 10.7%, 11.5 batches/sec\n"
     ]
    },
    {
     "name": "stderr",
     "output_type": "stream",
     "text": [
      " 93%|█████████▎| 373/400 [2:33:56<11:20, 25.21s/it]"
     ]
    },
    {
     "name": "stdout",
     "output_type": "stream",
     "text": [
      "Epoch  373, sqrt loss 0.02341, Val sim-NRMS 0.01936, Time Loss: 89.1%, data: 0.2%, val: 10.7%, 11.5 batches/sec\n"
     ]
    },
    {
     "name": "stderr",
     "output_type": "stream",
     "text": [
      " 94%|█████████▎| 374/400 [2:34:22<10:56, 25.25s/it]"
     ]
    },
    {
     "name": "stdout",
     "output_type": "stream",
     "text": [
      "Epoch  374, sqrt loss 0.02062, Val sim-NRMS 0.02209, Time Loss: 89.1%, data: 0.2%, val: 10.7%, 11.5 batches/sec\n"
     ]
    },
    {
     "name": "stderr",
     "output_type": "stream",
     "text": [
      " 94%|█████████▍| 375/400 [2:34:47<10:31, 25.26s/it]"
     ]
    },
    {
     "name": "stdout",
     "output_type": "stream",
     "text": [
      "Epoch  375, sqrt loss 0.02333, Val sim-NRMS 0.05667, Time Loss: 89.1%, data: 0.2%, val: 10.7%, 11.5 batches/sec\n"
     ]
    },
    {
     "name": "stderr",
     "output_type": "stream",
     "text": [
      " 94%|█████████▍| 376/400 [2:35:12<10:05, 25.24s/it]"
     ]
    },
    {
     "name": "stdout",
     "output_type": "stream",
     "text": [
      "Epoch  376, sqrt loss 0.02215, Val sim-NRMS 0.01971, Time Loss: 89.1%, data: 0.2%, val: 10.7%, 11.5 batches/sec\n"
     ]
    },
    {
     "name": "stderr",
     "output_type": "stream",
     "text": [
      " 94%|█████████▍| 377/400 [2:35:38<09:43, 25.38s/it]"
     ]
    },
    {
     "name": "stdout",
     "output_type": "stream",
     "text": [
      "Epoch  377, sqrt loss 0.02167, Val sim-NRMS 0.02471, Time Loss: 89.1%, data: 0.2%, val: 10.7%, 11.5 batches/sec\n"
     ]
    },
    {
     "name": "stderr",
     "output_type": "stream",
     "text": [
      " 94%|█████████▍| 378/400 [2:36:04<09:21, 25.51s/it]"
     ]
    },
    {
     "name": "stdout",
     "output_type": "stream",
     "text": [
      "Epoch  378, sqrt loss 0.02259, Val sim-NRMS 0.02716, Time Loss: 89.1%, data: 0.2%, val: 10.7%, 11.5 batches/sec\n"
     ]
    },
    {
     "name": "stderr",
     "output_type": "stream",
     "text": [
      " 95%|█████████▍| 379/400 [2:36:29<08:54, 25.46s/it]"
     ]
    },
    {
     "name": "stdout",
     "output_type": "stream",
     "text": [
      "Epoch  379, sqrt loss  0.0215, Val sim-NRMS 0.02211, Time Loss: 89.1%, data: 0.2%, val: 10.7%, 11.5 batches/sec\n"
     ]
    },
    {
     "name": "stderr",
     "output_type": "stream",
     "text": [
      " 95%|█████████▌| 380/400 [2:36:55<08:28, 25.45s/it]"
     ]
    },
    {
     "name": "stdout",
     "output_type": "stream",
     "text": [
      "Epoch  380, sqrt loss 0.02193, Val sim-NRMS 0.0201, Time Loss: 89.1%, data: 0.2%, val: 10.7%, 11.5 batches/sec\n"
     ]
    },
    {
     "name": "stderr",
     "output_type": "stream",
     "text": [
      " 95%|█████████▌| 381/400 [2:37:20<08:03, 25.43s/it]"
     ]
    },
    {
     "name": "stdout",
     "output_type": "stream",
     "text": [
      "Epoch  381, sqrt loss 0.02172, Val sim-NRMS 0.02098, Time Loss: 89.1%, data: 0.2%, val: 10.7%, 11.5 batches/sec\n"
     ]
    },
    {
     "name": "stderr",
     "output_type": "stream",
     "text": [
      " 96%|█████████▌| 382/400 [2:37:45<07:37, 25.40s/it]"
     ]
    },
    {
     "name": "stdout",
     "output_type": "stream",
     "text": [
      "Epoch  382, sqrt loss 0.02398, Val sim-NRMS 0.03564, Time Loss: 89.1%, data: 0.2%, val: 10.7%, 11.5 batches/sec\n"
     ]
    },
    {
     "name": "stderr",
     "output_type": "stream",
     "text": [
      " 96%|█████████▌| 383/400 [2:38:11<07:11, 25.39s/it]"
     ]
    },
    {
     "name": "stdout",
     "output_type": "stream",
     "text": [
      "Epoch  383, sqrt loss 0.02157, Val sim-NRMS 0.02024, Time Loss: 89.1%, data: 0.2%, val: 10.7%, 11.5 batches/sec\n"
     ]
    },
    {
     "name": "stderr",
     "output_type": "stream",
     "text": [
      " 96%|█████████▌| 384/400 [2:38:36<06:45, 25.35s/it]"
     ]
    },
    {
     "name": "stdout",
     "output_type": "stream",
     "text": [
      "Epoch  384, sqrt loss 0.02203, Val sim-NRMS 0.01983, Time Loss: 89.1%, data: 0.2%, val: 10.7%, 11.5 batches/sec\n"
     ]
    },
    {
     "name": "stderr",
     "output_type": "stream",
     "text": [
      " 96%|█████████▋| 385/400 [2:39:01<06:19, 25.31s/it]"
     ]
    },
    {
     "name": "stdout",
     "output_type": "stream",
     "text": [
      "Epoch  385, sqrt loss 0.02309, Val sim-NRMS 0.02376, Time Loss: 89.1%, data: 0.2%, val: 10.7%, 11.5 batches/sec\n"
     ]
    },
    {
     "name": "stderr",
     "output_type": "stream",
     "text": [
      " 96%|█████████▋| 386/400 [2:39:26<05:54, 25.30s/it]"
     ]
    },
    {
     "name": "stdout",
     "output_type": "stream",
     "text": [
      "Epoch  386, sqrt loss 0.02109, Val sim-NRMS 0.0211, Time Loss: 89.1%, data: 0.2%, val: 10.7%, 11.5 batches/sec\n"
     ]
    },
    {
     "name": "stderr",
     "output_type": "stream",
     "text": [
      " 97%|█████████▋| 387/400 [2:39:52<05:28, 25.27s/it]"
     ]
    },
    {
     "name": "stdout",
     "output_type": "stream",
     "text": [
      "Epoch  387, sqrt loss 0.02168, Val sim-NRMS 0.03097, Time Loss: 89.1%, data: 0.2%, val: 10.7%, 11.5 batches/sec\n"
     ]
    },
    {
     "name": "stderr",
     "output_type": "stream",
     "text": [
      " 97%|█████████▋| 388/400 [2:40:17<05:03, 25.27s/it]"
     ]
    },
    {
     "name": "stdout",
     "output_type": "stream",
     "text": [
      "Epoch  388, sqrt loss 0.02221, Val sim-NRMS 0.02036, Time Loss: 89.1%, data: 0.2%, val: 10.7%, 11.5 batches/sec\n"
     ]
    },
    {
     "name": "stderr",
     "output_type": "stream",
     "text": [
      " 97%|█████████▋| 389/400 [2:40:42<04:37, 25.27s/it]"
     ]
    },
    {
     "name": "stdout",
     "output_type": "stream",
     "text": [
      "Epoch  389, sqrt loss 0.02259, Val sim-NRMS 0.01996, Time Loss: 89.1%, data: 0.2%, val: 10.7%, 11.5 batches/sec\n"
     ]
    },
    {
     "name": "stderr",
     "output_type": "stream",
     "text": [
      " 98%|█████████▊| 390/400 [2:41:08<04:13, 25.31s/it]"
     ]
    },
    {
     "name": "stdout",
     "output_type": "stream",
     "text": [
      "Epoch  390, sqrt loss 0.02398, Val sim-NRMS 0.02952, Time Loss: 89.1%, data: 0.2%, val: 10.7%, 11.5 batches/sec\n"
     ]
    },
    {
     "name": "stderr",
     "output_type": "stream",
     "text": [
      " 98%|█████████▊| 391/400 [2:41:33<03:47, 25.30s/it]"
     ]
    },
    {
     "name": "stdout",
     "output_type": "stream",
     "text": [
      "Epoch  391, sqrt loss 0.02065, Val sim-NRMS 0.01978, Time Loss: 89.1%, data: 0.2%, val: 10.7%, 11.5 batches/sec\n"
     ]
    },
    {
     "name": "stderr",
     "output_type": "stream",
     "text": [
      " 98%|█████████▊| 392/400 [2:41:58<03:23, 25.40s/it]"
     ]
    },
    {
     "name": "stdout",
     "output_type": "stream",
     "text": [
      "Epoch  392, sqrt loss  0.0217, Val sim-NRMS 0.02013, Time Loss: 89.1%, data: 0.2%, val: 10.7%, 11.5 batches/sec\n"
     ]
    },
    {
     "name": "stderr",
     "output_type": "stream",
     "text": [
      " 98%|█████████▊| 393/400 [2:42:24<02:57, 25.42s/it]"
     ]
    },
    {
     "name": "stdout",
     "output_type": "stream",
     "text": [
      "Epoch  393, sqrt loss 0.02265, Val sim-NRMS 0.01956, Time Loss: 89.1%, data: 0.2%, val: 10.7%, 11.5 batches/sec\n"
     ]
    },
    {
     "name": "stderr",
     "output_type": "stream",
     "text": [
      " 98%|█████████▊| 394/400 [2:42:49<02:32, 25.37s/it]"
     ]
    },
    {
     "name": "stdout",
     "output_type": "stream",
     "text": [
      "Epoch  394, sqrt loss 0.02069, Val sim-NRMS 0.02697, Time Loss: 89.1%, data: 0.2%, val: 10.7%, 11.5 batches/sec\n"
     ]
    },
    {
     "name": "stderr",
     "output_type": "stream",
     "text": [
      " 99%|█████████▉| 395/400 [2:43:15<02:06, 25.39s/it]"
     ]
    },
    {
     "name": "stdout",
     "output_type": "stream",
     "text": [
      "Epoch  395, sqrt loss 0.02271, Val sim-NRMS 0.01955, Time Loss: 89.1%, data: 0.2%, val: 10.7%, 11.5 batches/sec\n"
     ]
    },
    {
     "name": "stderr",
     "output_type": "stream",
     "text": [
      " 99%|█████████▉| 396/400 [2:43:40<01:41, 25.34s/it]"
     ]
    },
    {
     "name": "stdout",
     "output_type": "stream",
     "text": [
      "Epoch  396, sqrt loss 0.02103, Val sim-NRMS 0.02483, Time Loss: 89.1%, data: 0.2%, val: 10.7%, 11.5 batches/sec\n"
     ]
    },
    {
     "name": "stderr",
     "output_type": "stream",
     "text": [
      " 99%|█████████▉| 397/400 [2:44:05<01:16, 25.38s/it]"
     ]
    },
    {
     "name": "stdout",
     "output_type": "stream",
     "text": [
      "########## New lowest validation loss achieved ########### sim-NRMS = 0.01917420012578105\n",
      "Epoch  397, sqrt loss 0.02269, Val sim-NRMS 0.01917, Time Loss: 89.1%, data: 0.2%, val: 10.7%, 11.5 batches/sec\n"
     ]
    },
    {
     "name": "stderr",
     "output_type": "stream",
     "text": [
      "100%|█████████▉| 398/400 [2:44:31<00:50, 25.41s/it]"
     ]
    },
    {
     "name": "stdout",
     "output_type": "stream",
     "text": [
      "Epoch  398, sqrt loss 0.02206, Val sim-NRMS 0.02157, Time Loss: 89.1%, data: 0.2%, val: 10.7%, 11.5 batches/sec\n"
     ]
    },
    {
     "name": "stderr",
     "output_type": "stream",
     "text": [
      "100%|█████████▉| 399/400 [2:44:56<00:25, 25.47s/it]"
     ]
    },
    {
     "name": "stdout",
     "output_type": "stream",
     "text": [
      "Epoch  399, sqrt loss 0.02231, Val sim-NRMS 0.02164, Time Loss: 89.1%, data: 0.2%, val: 10.7%, 11.5 batches/sec\n"
     ]
    },
    {
     "name": "stderr",
     "output_type": "stream",
     "text": [
      "100%|██████████| 400/400 [2:45:22<00:00, 24.81s/it]"
     ]
    },
    {
     "name": "stdout",
     "output_type": "stream",
     "text": [
      "Epoch  400, sqrt loss 0.02085, Val sim-NRMS 0.02294, Time Loss: 89.1%, data: 0.2%, val: 10.7%, 11.5 batches/sec\n",
      "Loaded model with best known validation sim-NRMS of 0.01917 which happened on epoch 397 (epoch_id=397.00)\n"
     ]
    },
    {
     "name": "stderr",
     "output_type": "stream",
     "text": [
      "\n"
     ]
    }
   ],
   "source": [
    "fit_sys_ss_enc = deepSI.fit_systems.SS_encoder(nx=2, na=50, nb=50) #state dimention = 6, past outputs = 3, past inputs = 3.\n",
    "train_enc, val_enc = train.train_test_split(split_fraction=0.2)\n",
    "\n",
    "#Start fitting\n",
    "fit_sys_ss_enc.fit(train_sys_data=train_enc, val_sys_data=val_enc, \\\n",
    "                   epochs=400, batch_size=254, loss_kwargs={'nf':80}) #nf is T in paper"
   ]
  },
  {
   "cell_type": "code",
   "execution_count": 6,
   "metadata": {},
   "outputs": [
    {
     "name": "stdout",
     "output_type": "stream",
     "text": [
      "simple_res_net(\n",
      "  (net_lin): Linear(in_features=3, out_features=2, bias=True)\n",
      "  (net_non_lin): feed_forward_nn(\n",
      "    (net): Sequential(\n",
      "      (0): Linear(in_features=3, out_features=64, bias=True)\n",
      "      (1): Tanh()\n",
      "      (2): Linear(in_features=64, out_features=64, bias=True)\n",
      "      (3): Tanh()\n",
      "      (4): Linear(in_features=64, out_features=2, bias=True)\n",
      "    )\n",
      "  )\n",
      ")\n",
      "simple_res_net(\n",
      "  (net_lin): Linear(in_features=2, out_features=1, bias=True)\n",
      "  (net_non_lin): feed_forward_nn(\n",
      "    (net): Sequential(\n",
      "      (0): Linear(in_features=2, out_features=64, bias=True)\n",
      "      (1): Tanh()\n",
      "      (2): Linear(in_features=64, out_features=64, bias=True)\n",
      "      (3): Tanh()\n",
      "      (4): Linear(in_features=64, out_features=1, bias=True)\n",
      "    )\n",
      "  )\n",
      ")\n",
      "simple_res_net(\n",
      "  (net_lin): Linear(in_features=100, out_features=2, bias=True)\n",
      "  (net_non_lin): feed_forward_nn(\n",
      "    (net): Sequential(\n",
      "      (0): Linear(in_features=100, out_features=64, bias=True)\n",
      "      (1): Tanh()\n",
      "      (2): Linear(in_features=64, out_features=64, bias=True)\n",
      "      (3): Tanh()\n",
      "      (4): Linear(in_features=64, out_features=2, bias=True)\n",
      "    )\n",
      "  )\n",
      ")\n"
     ]
    }
   ],
   "source": [
    "print(fit_sys_ss_enc.fn) #state network x_t+1 = f([x,u])\n",
    "print(fit_sys_ss_enc.hn) #output network y_t = h(x_t)\n",
    "print(fit_sys_ss_enc.encoder) #encoder network x_t = psi([upast, ypast])"
   ]
  },
  {
   "cell_type": "code",
   "execution_count": 15,
   "metadata": {},
   "outputs": [
    {
     "data": {
      "image/png": "[encoded data removed]",
      "text/plain": [
       "<Figure size 640x480 with 1 Axes>"
      ]
     },
     "metadata": {},
     "output_type": "display_data"
    },
    {
     "name": "stdout",
     "output_type": "stream",
     "text": [
      "NRMS simulation SS encoder 3.44%\n"
     ]
    }
   ],
   "source": [
    "test_sim_enc = fit_sys_ss_enc.apply_experiment(test)\n",
    "\n",
    "plt.plot(test.y)\n",
    "plt.plot(test.y - test_sim_enc.y)\n",
    "plt.title(f\"Simulation on test set, NRMS = {test_sim_enc.NRMS(test):.2%}\")\n",
    "plt.legend([\"True\",\"Residual\"])\n",
    "plt.show()\n",
    "print(f'NRMS simulation SS encoder {test_sim_enc.NRMS(test):.2%}')"
   ]
  },
  {
   "cell_type": "code",
   "execution_count": 14,
   "metadata": {},
   "outputs": [
    {
     "data": {
      "image/png": "[encoded data removed]",
      "text/plain": [
       "<Figure size 640x480 with 1 Axes>"
      ]
     },
     "metadata": {},
     "output_type": "display_data"
    },
    {
     "name": "stdout",
     "output_type": "stream",
     "text": [
      "NRMS simulation SS encoder 1.90%\n"
     ]
    }
   ],
   "source": [
    "train_sim_enc = fit_sys_ss_enc.apply_experiment(train)\n",
    "\n",
    "plt.plot(train.y)\n",
    "plt.plot(train.y - train_sim_enc.y)\n",
    "plt.title(f\"Simulation on train set, NRMS = {train_sim_enc.NRMS(train):.2%}\")\n",
    "plt.legend([\"True\",\"Residual\"])\n",
    "plt.show()\n",
    "print(f'NRMS simulation SS encoder {train_sim_enc.NRMS(train):.2%}')"
   ]
  }
 ],
 "metadata": {
  "kernelspec": {
   "display_name": "cpc",
   "language": "python",
   "name": "python3"
  },
  "language_info": {
   "codemirror_mode": {
    "name": "ipython",
    "version": 3
   },
   "file_extension": ".py",
   "mimetype": "text/x-python",
   "name": "python",
   "nbconvert_exporter": "python",
   "pygments_lexer": "ipython3",
   "version": "3.12.2"
  }
 },
 "nbformat": 4,
 "nbformat_minor": 2
}
