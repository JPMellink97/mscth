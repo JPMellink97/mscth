{
 "cells": [
  {
   "cell_type": "code",
   "execution_count": 1,
   "metadata": {},
   "outputs": [
    {
     "name": "stderr",
     "output_type": "stream",
     "text": [
      "c:\\Users\\Joost\\anaconda3\\envs\\test\\Lib\\site-packages\\tqdm\\auto.py:21: TqdmWarning: IProgress not found. Please update jupyter and ipywidgets. See https://ipywidgets.readthedocs.io/en/stable/user_install.html\n",
      "  from .autonotebook import tqdm as notebook_tqdm\n"
     ]
    }
   ],
   "source": [
    "import numpy as np\n",
    "from numpy import genfromtxt\n",
    "import csv\n",
    "import os\n",
    "\n",
    "import pysindy as ps\n",
    "\n",
    "import deepSI\n",
    "from deepSI import System_data\n",
    "\n",
    "import matplotlib.pyplot as plt"
   ]
  },
  {
   "cell_type": "code",
   "execution_count": 2,
   "metadata": {},
   "outputs": [],
   "source": [
    "DATA_PATH = r\"data\\\\\"\n",
    "\n",
    "WIENER = \"WienerHammerBenchmark\"\n",
    "SILVER = \"SNLS80mV\"\n",
    "# change data set\n",
    "DATA = SILVER\n",
    "CSV = \".csv\"\n",
    "\n",
    "PATH = os.path.join(DATA_PATH, DATA+CSV)\n",
    "\n",
    "# load data\n",
    "data = genfromtxt(PATH, delimiter=\",\")"
   ]
  },
  {
   "cell_type": "code",
   "execution_count": 3,
   "metadata": {},
   "outputs": [],
   "source": [
    "# drop nan's may need to be adjusted between data sets\n",
    "mask = ~np.isnan(data)\n",
    "data = data[mask[:,0],:]\n",
    "data = data[:,:-1]"
   ]
  },
  {
   "cell_type": "code",
   "execution_count": 4,
   "metadata": {},
   "outputs": [],
   "source": [
    "import deepSI\n",
    "from deepSI import System_data\n",
    "# system_data = System_data(u=ulist,y=ylist)\n",
    "system_data = System_data(u=data[:,0],y=data[:,1])\n",
    "train, test = system_data[40000:], system_data[:40000]"
   ]
  },
  {
   "cell_type": "code",
   "execution_count": 5,
   "metadata": {},
   "outputs": [
    {
     "name": "stdout",
     "output_type": "stream",
     "text": [
      "Initilizing the model and optimizer\n",
      "Size of the training array =  144.3 MB\n",
      "N_training_samples = 72728, batch_size = 254, N_batch_updates_per_epoch = 286\n",
      "Initial Validation sim-NRMS= 1.3018417375434927\n"
     ]
    },
    {
     "name": "stderr",
     "output_type": "stream",
     "text": [
      "  0%|          | 1/200 [00:24<1:20:14, 24.19s/it]"
     ]
    },
    {
     "name": "stdout",
     "output_type": "stream",
     "text": [
      "########## New lowest validation loss achieved ########### sim-NRMS = 0.20803469548222436\n",
      "Epoch    1, sqrt loss  0.5357, Val sim-NRMS  0.208, Time Loss: 89.2%, data: 0.2%, val: 10.6%, 11.8 batches/sec\n"
     ]
    },
    {
     "name": "stderr",
     "output_type": "stream",
     "text": [
      "  1%|          | 2/200 [00:48<1:19:08, 23.98s/it]"
     ]
    },
    {
     "name": "stdout",
     "output_type": "stream",
     "text": [
      "########## New lowest validation loss achieved ########### sim-NRMS = 0.10352067432337336\n",
      "Epoch    2, sqrt loss  0.1477, Val sim-NRMS 0.1035, Time Loss: 89.1%, data: 0.2%, val: 10.7%, 11.9 batches/sec\n"
     ]
    },
    {
     "name": "stderr",
     "output_type": "stream",
     "text": [
      "  2%|▏         | 3/200 [01:11<1:18:40, 23.96s/it]"
     ]
    },
    {
     "name": "stdout",
     "output_type": "stream",
     "text": [
      "Epoch    3, sqrt loss  0.1115, Val sim-NRMS 0.4076, Time Loss: 89.1%, data: 0.2%, val: 10.7%, 11.9 batches/sec\n"
     ]
    },
    {
     "name": "stderr",
     "output_type": "stream",
     "text": [
      "  2%|▏         | 4/200 [01:36<1:18:31, 24.04s/it]"
     ]
    },
    {
     "name": "stdout",
     "output_type": "stream",
     "text": [
      "Epoch    4, sqrt loss 0.09651, Val sim-NRMS 0.1049, Time Loss: 89.1%, data: 0.2%, val: 10.7%, 11.9 batches/sec\n"
     ]
    },
    {
     "name": "stderr",
     "output_type": "stream",
     "text": [
      "  2%|▎         | 5/200 [02:00<1:18:00, 24.00s/it]"
     ]
    },
    {
     "name": "stdout",
     "output_type": "stream",
     "text": [
      "########## New lowest validation loss achieved ########### sim-NRMS = 0.06783156201361479\n",
      "Epoch    5, sqrt loss 0.09827, Val sim-NRMS 0.06783, Time Loss: 89.1%, data: 0.2%, val: 10.7%, 11.9 batches/sec\n"
     ]
    },
    {
     "name": "stderr",
     "output_type": "stream",
     "text": [
      "  3%|▎         | 6/200 [02:23<1:17:26, 23.95s/it]"
     ]
    },
    {
     "name": "stdout",
     "output_type": "stream",
     "text": [
      "Epoch    6, sqrt loss  0.1344, Val sim-NRMS 0.07237, Time Loss: 89.2%, data: 0.2%, val: 10.7%, 11.9 batches/sec\n"
     ]
    },
    {
     "name": "stderr",
     "output_type": "stream",
     "text": [
      "  4%|▎         | 7/200 [02:47<1:16:59, 23.93s/it]"
     ]
    },
    {
     "name": "stdout",
     "output_type": "stream",
     "text": [
      "########## New lowest validation loss achieved ########### sim-NRMS = 0.061581949681034955\n",
      "Epoch    7, sqrt loss 0.06593, Val sim-NRMS 0.06158, Time Loss: 89.1%, data: 0.2%, val: 10.7%, 11.9 batches/sec\n"
     ]
    },
    {
     "name": "stderr",
     "output_type": "stream",
     "text": [
      "  4%|▍         | 8/200 [03:11<1:16:48, 24.00s/it]"
     ]
    },
    {
     "name": "stdout",
     "output_type": "stream",
     "text": [
      "########## New lowest validation loss achieved ########### sim-NRMS = 0.058918617169098415\n",
      "Epoch    8, sqrt loss 0.06685, Val sim-NRMS 0.05892, Time Loss: 89.1%, data: 0.2%, val: 10.7%, 11.9 batches/sec\n"
     ]
    },
    {
     "name": "stderr",
     "output_type": "stream",
     "text": [
      "  4%|▍         | 9/200 [03:35<1:16:25, 24.01s/it]"
     ]
    },
    {
     "name": "stdout",
     "output_type": "stream",
     "text": [
      "Epoch    9, sqrt loss 0.07598, Val sim-NRMS 0.06182, Time Loss: 89.1%, data: 0.2%, val: 10.7%, 11.9 batches/sec\n"
     ]
    },
    {
     "name": "stderr",
     "output_type": "stream",
     "text": [
      "  5%|▌         | 10/200 [03:59<1:16:01, 24.01s/it]"
     ]
    },
    {
     "name": "stdout",
     "output_type": "stream",
     "text": [
      "Epoch   10, sqrt loss 0.09882, Val sim-NRMS 0.06346, Time Loss: 89.2%, data: 0.2%, val: 10.6%, 11.9 batches/sec\n"
     ]
    },
    {
     "name": "stderr",
     "output_type": "stream",
     "text": [
      "  6%|▌         | 11/200 [04:23<1:15:27, 23.95s/it]"
     ]
    },
    {
     "name": "stdout",
     "output_type": "stream",
     "text": [
      "########## New lowest validation loss achieved ########### sim-NRMS = 0.05742794395295685\n",
      "Epoch   11, sqrt loss 0.05955, Val sim-NRMS 0.05743, Time Loss: 89.2%, data: 0.2%, val: 10.6%, 11.9 batches/sec\n"
     ]
    },
    {
     "name": "stderr",
     "output_type": "stream",
     "text": [
      "  6%|▌         | 12/200 [04:47<1:15:08, 23.98s/it]"
     ]
    },
    {
     "name": "stdout",
     "output_type": "stream",
     "text": [
      "########## New lowest validation loss achieved ########### sim-NRMS = 0.05378092197053844\n",
      "Epoch   12, sqrt loss  0.1111, Val sim-NRMS 0.05378, Time Loss: 89.2%, data: 0.2%, val: 10.7%, 11.9 batches/sec\n"
     ]
    },
    {
     "name": "stderr",
     "output_type": "stream",
     "text": [
      "  6%|▋         | 13/200 [05:11<1:14:36, 23.94s/it]"
     ]
    },
    {
     "name": "stdout",
     "output_type": "stream",
     "text": [
      "Epoch   13, sqrt loss 0.07483, Val sim-NRMS 0.06195, Time Loss: 89.2%, data: 0.2%, val: 10.7%, 11.9 batches/sec\n"
     ]
    },
    {
     "name": "stderr",
     "output_type": "stream",
     "text": [
      "  7%|▋         | 14/200 [05:35<1:14:09, 23.92s/it]"
     ]
    },
    {
     "name": "stdout",
     "output_type": "stream",
     "text": [
      "Epoch   14, sqrt loss 0.07844, Val sim-NRMS 0.09182, Time Loss: 89.2%, data: 0.2%, val: 10.7%, 11.9 batches/sec\n"
     ]
    },
    {
     "name": "stderr",
     "output_type": "stream",
     "text": [
      "  8%|▊         | 15/200 [05:59<1:13:44, 23.92s/it]"
     ]
    },
    {
     "name": "stdout",
     "output_type": "stream",
     "text": [
      "Epoch   15, sqrt loss 0.05543, Val sim-NRMS 0.06181, Time Loss: 89.2%, data: 0.2%, val: 10.7%, 11.9 batches/sec\n"
     ]
    },
    {
     "name": "stderr",
     "output_type": "stream",
     "text": [
      "  8%|▊         | 16/200 [06:23<1:13:19, 23.91s/it]"
     ]
    },
    {
     "name": "stdout",
     "output_type": "stream",
     "text": [
      "Epoch   16, sqrt loss 0.06997, Val sim-NRMS 0.1485, Time Loss: 89.2%, data: 0.2%, val: 10.6%, 11.9 batches/sec\n"
     ]
    },
    {
     "name": "stderr",
     "output_type": "stream",
     "text": [
      "  8%|▊         | 17/200 [06:47<1:12:56, 23.91s/it]"
     ]
    },
    {
     "name": "stdout",
     "output_type": "stream",
     "text": [
      "########## New lowest validation loss achieved ########### sim-NRMS = 0.04708940723727892\n",
      "Epoch   17, sqrt loss  0.1118, Val sim-NRMS 0.04709, Time Loss: 89.2%, data: 0.2%, val: 10.6%, 11.9 batches/sec\n"
     ]
    },
    {
     "name": "stderr",
     "output_type": "stream",
     "text": [
      "  9%|▉         | 18/200 [07:11<1:12:39, 23.95s/it]"
     ]
    },
    {
     "name": "stdout",
     "output_type": "stream",
     "text": [
      "Epoch   18, sqrt loss 0.06023, Val sim-NRMS 0.0637, Time Loss: 89.2%, data: 0.2%, val: 10.6%, 11.9 batches/sec\n"
     ]
    },
    {
     "name": "stderr",
     "output_type": "stream",
     "text": [
      " 10%|▉         | 19/200 [07:35<1:12:15, 23.95s/it]"
     ]
    },
    {
     "name": "stdout",
     "output_type": "stream",
     "text": [
      "Epoch   19, sqrt loss  0.1013, Val sim-NRMS 0.05236, Time Loss: 89.2%, data: 0.2%, val: 10.6%, 11.9 batches/sec\n"
     ]
    },
    {
     "name": "stderr",
     "output_type": "stream",
     "text": [
      " 10%|█         | 20/200 [07:59<1:11:52, 23.96s/it]"
     ]
    },
    {
     "name": "stdout",
     "output_type": "stream",
     "text": [
      "Epoch   20, sqrt loss 0.04453, Val sim-NRMS 0.07398, Time Loss: 89.2%, data: 0.2%, val: 10.6%, 11.9 batches/sec\n"
     ]
    },
    {
     "name": "stderr",
     "output_type": "stream",
     "text": [
      " 10%|█         | 21/200 [08:23<1:11:30, 23.97s/it]"
     ]
    },
    {
     "name": "stdout",
     "output_type": "stream",
     "text": [
      "Epoch   21, sqrt loss  0.0591, Val sim-NRMS 0.05333, Time Loss: 89.2%, data: 0.2%, val: 10.6%, 11.9 batches/sec\n"
     ]
    },
    {
     "name": "stderr",
     "output_type": "stream",
     "text": [
      " 11%|█         | 22/200 [08:47<1:11:13, 24.01s/it]"
     ]
    },
    {
     "name": "stdout",
     "output_type": "stream",
     "text": [
      "########## New lowest validation loss achieved ########### sim-NRMS = 0.041811483411845506\n",
      "Epoch   22, sqrt loss 0.07495, Val sim-NRMS 0.04181, Time Loss: 89.2%, data: 0.2%, val: 10.6%, 11.9 batches/sec\n"
     ]
    },
    {
     "name": "stderr",
     "output_type": "stream",
     "text": [
      " 12%|█▏        | 23/200 [09:11<1:10:55, 24.04s/it]"
     ]
    },
    {
     "name": "stdout",
     "output_type": "stream",
     "text": [
      "Epoch   23, sqrt loss  0.0495, Val sim-NRMS 0.05877, Time Loss: 89.2%, data: 0.2%, val: 10.6%, 11.9 batches/sec\n"
     ]
    },
    {
     "name": "stderr",
     "output_type": "stream",
     "text": [
      " 12%|█▏        | 24/200 [09:35<1:10:23, 24.00s/it]"
     ]
    },
    {
     "name": "stdout",
     "output_type": "stream",
     "text": [
      "Epoch   24, sqrt loss  0.1322, Val sim-NRMS 0.05608, Time Loss: 89.2%, data: 0.2%, val: 10.6%, 11.9 batches/sec\n"
     ]
    },
    {
     "name": "stderr",
     "output_type": "stream",
     "text": [
      " 12%|█▎        | 25/200 [09:59<1:09:56, 23.98s/it]"
     ]
    },
    {
     "name": "stdout",
     "output_type": "stream",
     "text": [
      "Epoch   25, sqrt loss  0.0452, Val sim-NRMS 0.0487, Time Loss: 89.2%, data: 0.2%, val: 10.6%, 11.9 batches/sec\n"
     ]
    },
    {
     "name": "stderr",
     "output_type": "stream",
     "text": [
      " 13%|█▎        | 26/200 [10:23<1:09:36, 24.00s/it]"
     ]
    },
    {
     "name": "stdout",
     "output_type": "stream",
     "text": [
      "Epoch   26, sqrt loss 0.05595, Val sim-NRMS 0.08599, Time Loss: 89.2%, data: 0.2%, val: 10.6%, 11.9 batches/sec\n"
     ]
    },
    {
     "name": "stderr",
     "output_type": "stream",
     "text": [
      " 14%|█▎        | 27/200 [10:47<1:09:12, 24.00s/it]"
     ]
    },
    {
     "name": "stdout",
     "output_type": "stream",
     "text": [
      "########## New lowest validation loss achieved ########### sim-NRMS = 0.04165836444191517\n",
      "Epoch   27, sqrt loss 0.07993, Val sim-NRMS 0.04166, Time Loss: 89.2%, data: 0.2%, val: 10.6%, 11.9 batches/sec\n"
     ]
    },
    {
     "name": "stderr",
     "output_type": "stream",
     "text": [
      " 14%|█▍        | 28/200 [11:11<1:08:45, 23.99s/it]"
     ]
    },
    {
     "name": "stdout",
     "output_type": "stream",
     "text": [
      "Epoch   28, sqrt loss 0.04206, Val sim-NRMS 0.05288, Time Loss: 89.2%, data: 0.2%, val: 10.7%, 11.9 batches/sec\n"
     ]
    },
    {
     "name": "stderr",
     "output_type": "stream",
     "text": [
      " 14%|█▍        | 29/200 [11:35<1:08:24, 24.00s/it]"
     ]
    },
    {
     "name": "stdout",
     "output_type": "stream",
     "text": [
      "Epoch   29, sqrt loss 0.07305, Val sim-NRMS 0.0529, Time Loss: 89.2%, data: 0.2%, val: 10.7%, 11.9 batches/sec\n"
     ]
    },
    {
     "name": "stderr",
     "output_type": "stream",
     "text": [
      " 15%|█▌        | 30/200 [11:59<1:08:02, 24.01s/it]"
     ]
    },
    {
     "name": "stdout",
     "output_type": "stream",
     "text": [
      "Epoch   30, sqrt loss 0.04416, Val sim-NRMS 0.05271, Time Loss: 89.2%, data: 0.2%, val: 10.7%, 11.9 batches/sec\n"
     ]
    },
    {
     "name": "stderr",
     "output_type": "stream",
     "text": [
      " 16%|█▌        | 31/200 [12:23<1:07:39, 24.02s/it]"
     ]
    },
    {
     "name": "stdout",
     "output_type": "stream",
     "text": [
      "########## New lowest validation loss achieved ########### sim-NRMS = 0.03659872981753042\n",
      "Epoch   31, sqrt loss 0.06127, Val sim-NRMS 0.0366, Time Loss: 89.2%, data: 0.2%, val: 10.7%, 11.9 batches/sec\n"
     ]
    },
    {
     "name": "stderr",
     "output_type": "stream",
     "text": [
      " 16%|█▌        | 32/200 [12:47<1:07:09, 23.98s/it]"
     ]
    },
    {
     "name": "stdout",
     "output_type": "stream",
     "text": [
      "Epoch   32, sqrt loss 0.05041, Val sim-NRMS 0.05281, Time Loss: 89.1%, data: 0.2%, val: 10.7%, 11.9 batches/sec\n"
     ]
    },
    {
     "name": "stderr",
     "output_type": "stream",
     "text": [
      " 16%|█▋        | 33/200 [13:11<1:06:42, 23.97s/it]"
     ]
    },
    {
     "name": "stdout",
     "output_type": "stream",
     "text": [
      "Epoch   33, sqrt loss  0.1585, Val sim-NRMS 0.04101, Time Loss: 89.1%, data: 0.2%, val: 10.7%, 11.9 batches/sec\n"
     ]
    },
    {
     "name": "stderr",
     "output_type": "stream",
     "text": [
      " 17%|█▋        | 34/200 [13:35<1:06:17, 23.96s/it]"
     ]
    },
    {
     "name": "stdout",
     "output_type": "stream",
     "text": [
      "########## New lowest validation loss achieved ########### sim-NRMS = 0.03638477384556657\n",
      "Epoch   34, sqrt loss 0.03743, Val sim-NRMS 0.03638, Time Loss: 89.1%, data: 0.2%, val: 10.7%, 11.9 batches/sec\n"
     ]
    },
    {
     "name": "stderr",
     "output_type": "stream",
     "text": [
      " 18%|█▊        | 35/200 [13:59<1:05:49, 23.93s/it]"
     ]
    },
    {
     "name": "stdout",
     "output_type": "stream",
     "text": [
      "Epoch   35, sqrt loss 0.04664, Val sim-NRMS 0.03848, Time Loss: 89.1%, data: 0.2%, val: 10.7%, 11.9 batches/sec\n"
     ]
    },
    {
     "name": "stderr",
     "output_type": "stream",
     "text": [
      " 18%|█▊        | 36/200 [14:23<1:05:24, 23.93s/it]"
     ]
    },
    {
     "name": "stdout",
     "output_type": "stream",
     "text": [
      "Epoch   36, sqrt loss 0.05464, Val sim-NRMS 0.04221, Time Loss: 89.1%, data: 0.2%, val: 10.7%, 11.9 batches/sec\n"
     ]
    },
    {
     "name": "stderr",
     "output_type": "stream",
     "text": [
      " 18%|█▊        | 37/200 [14:46<1:04:57, 23.91s/it]"
     ]
    },
    {
     "name": "stdout",
     "output_type": "stream",
     "text": [
      "Epoch   37, sqrt loss 0.07688, Val sim-NRMS 0.05034, Time Loss: 89.1%, data: 0.2%, val: 10.7%, 11.9 batches/sec\n"
     ]
    },
    {
     "name": "stderr",
     "output_type": "stream",
     "text": [
      " 19%|█▉        | 38/200 [15:10<1:04:30, 23.89s/it]"
     ]
    },
    {
     "name": "stdout",
     "output_type": "stream",
     "text": [
      "Epoch   38, sqrt loss 0.04086, Val sim-NRMS 0.06653, Time Loss: 89.1%, data: 0.2%, val: 10.7%, 11.9 batches/sec\n"
     ]
    },
    {
     "name": "stderr",
     "output_type": "stream",
     "text": [
      " 20%|█▉        | 39/200 [15:34<1:04:11, 23.93s/it]"
     ]
    },
    {
     "name": "stdout",
     "output_type": "stream",
     "text": [
      "Epoch   39, sqrt loss 0.05011, Val sim-NRMS 0.04468, Time Loss: 89.1%, data: 0.2%, val: 10.7%, 11.9 batches/sec\n"
     ]
    },
    {
     "name": "stderr",
     "output_type": "stream",
     "text": [
      " 20%|██        | 40/200 [15:58<1:03:46, 23.91s/it]"
     ]
    },
    {
     "name": "stdout",
     "output_type": "stream",
     "text": [
      "Epoch   40, sqrt loss 0.05385, Val sim-NRMS 0.07471, Time Loss: 89.1%, data: 0.2%, val: 10.7%, 11.9 batches/sec\n"
     ]
    },
    {
     "name": "stderr",
     "output_type": "stream",
     "text": [
      " 20%|██        | 41/200 [16:22<1:03:25, 23.93s/it]"
     ]
    },
    {
     "name": "stdout",
     "output_type": "stream",
     "text": [
      "Epoch   41, sqrt loss  0.1682, Val sim-NRMS 0.1265, Time Loss: 89.1%, data: 0.2%, val: 10.7%, 11.9 batches/sec\n"
     ]
    },
    {
     "name": "stderr",
     "output_type": "stream",
     "text": [
      " 21%|██        | 42/200 [16:46<1:02:56, 23.90s/it]"
     ]
    },
    {
     "name": "stdout",
     "output_type": "stream",
     "text": [
      "Epoch   42, sqrt loss   0.045, Val sim-NRMS 0.03689, Time Loss: 89.1%, data: 0.2%, val: 10.7%, 11.9 batches/sec\n"
     ]
    },
    {
     "name": "stderr",
     "output_type": "stream",
     "text": [
      " 22%|██▏       | 43/200 [17:10<1:02:33, 23.91s/it]"
     ]
    },
    {
     "name": "stdout",
     "output_type": "stream",
     "text": [
      "Epoch   43, sqrt loss 0.03699, Val sim-NRMS 0.04186, Time Loss: 89.1%, data: 0.2%, val: 10.7%, 11.9 batches/sec\n"
     ]
    },
    {
     "name": "stderr",
     "output_type": "stream",
     "text": [
      " 22%|██▏       | 44/200 [17:34<1:02:05, 23.88s/it]"
     ]
    },
    {
     "name": "stdout",
     "output_type": "stream",
     "text": [
      "########## New lowest validation loss achieved ########### sim-NRMS = 0.034214656610174816\n",
      "Epoch   44, sqrt loss 0.06847, Val sim-NRMS 0.03421, Time Loss: 89.1%, data: 0.2%, val: 10.7%, 11.9 batches/sec\n"
     ]
    },
    {
     "name": "stderr",
     "output_type": "stream",
     "text": [
      " 22%|██▎       | 45/200 [17:57<1:01:36, 23.85s/it]"
     ]
    },
    {
     "name": "stdout",
     "output_type": "stream",
     "text": [
      "Epoch   45, sqrt loss 0.03594, Val sim-NRMS 0.04044, Time Loss: 89.1%, data: 0.2%, val: 10.7%, 11.9 batches/sec\n"
     ]
    },
    {
     "name": "stderr",
     "output_type": "stream",
     "text": [
      " 23%|██▎       | 46/200 [18:21<1:01:10, 23.83s/it]"
     ]
    },
    {
     "name": "stdout",
     "output_type": "stream",
     "text": [
      "Epoch   46, sqrt loss 0.04432, Val sim-NRMS 0.04442, Time Loss: 89.1%, data: 0.2%, val: 10.7%, 11.9 batches/sec\n"
     ]
    },
    {
     "name": "stderr",
     "output_type": "stream",
     "text": [
      " 24%|██▎       | 47/200 [18:45<1:00:40, 23.79s/it]"
     ]
    },
    {
     "name": "stdout",
     "output_type": "stream",
     "text": [
      "Epoch   47, sqrt loss 0.05428, Val sim-NRMS 0.04529, Time Loss: 89.1%, data: 0.2%, val: 10.7%, 11.9 batches/sec\n"
     ]
    },
    {
     "name": "stderr",
     "output_type": "stream",
     "text": [
      " 24%|██▍       | 48/200 [19:09<1:00:15, 23.79s/it]"
     ]
    },
    {
     "name": "stdout",
     "output_type": "stream",
     "text": [
      "Epoch   48, sqrt loss   0.109, Val sim-NRMS 0.07538, Time Loss: 89.1%, data: 0.2%, val: 10.7%, 11.9 batches/sec\n"
     ]
    },
    {
     "name": "stderr",
     "output_type": "stream",
     "text": [
      " 24%|██▍       | 49/200 [19:32<59:47, 23.76s/it]  "
     ]
    },
    {
     "name": "stdout",
     "output_type": "stream",
     "text": [
      "Epoch   49, sqrt loss 0.03766, Val sim-NRMS 0.03594, Time Loss: 89.1%, data: 0.2%, val: 10.7%, 11.9 batches/sec\n"
     ]
    },
    {
     "name": "stderr",
     "output_type": "stream",
     "text": [
      " 25%|██▌       | 50/200 [19:56<59:22, 23.75s/it]"
     ]
    },
    {
     "name": "stdout",
     "output_type": "stream",
     "text": [
      "########## New lowest validation loss achieved ########### sim-NRMS = 0.03305622040300951\n",
      "Epoch   50, sqrt loss 0.03654, Val sim-NRMS 0.03306, Time Loss: 89.1%, data: 0.2%, val: 10.7%, 12.0 batches/sec\n"
     ]
    },
    {
     "name": "stderr",
     "output_type": "stream",
     "text": [
      " 26%|██▌       | 51/200 [20:20<58:57, 23.74s/it]"
     ]
    },
    {
     "name": "stdout",
     "output_type": "stream",
     "text": [
      "Epoch   51, sqrt loss 0.05243, Val sim-NRMS 0.05141, Time Loss: 89.1%, data: 0.2%, val: 10.7%, 12.0 batches/sec\n"
     ]
    },
    {
     "name": "stderr",
     "output_type": "stream",
     "text": [
      " 26%|██▌       | 52/200 [20:44<58:34, 23.74s/it]"
     ]
    },
    {
     "name": "stdout",
     "output_type": "stream",
     "text": [
      "Epoch   52, sqrt loss 0.05766, Val sim-NRMS 0.03402, Time Loss: 89.1%, data: 0.2%, val: 10.7%, 12.0 batches/sec\n"
     ]
    },
    {
     "name": "stderr",
     "output_type": "stream",
     "text": [
      " 26%|██▋       | 53/200 [21:07<58:08, 23.73s/it]"
     ]
    },
    {
     "name": "stdout",
     "output_type": "stream",
     "text": [
      "Epoch   53, sqrt loss 0.04679, Val sim-NRMS 0.04832, Time Loss: 89.1%, data: 0.2%, val: 10.7%, 12.0 batches/sec\n"
     ]
    },
    {
     "name": "stderr",
     "output_type": "stream",
     "text": [
      " 27%|██▋       | 54/200 [21:31<57:46, 23.75s/it]"
     ]
    },
    {
     "name": "stdout",
     "output_type": "stream",
     "text": [
      "Epoch   54, sqrt loss 0.04466, Val sim-NRMS 0.03651, Time Loss: 89.1%, data: 0.2%, val: 10.7%, 12.0 batches/sec\n"
     ]
    },
    {
     "name": "stderr",
     "output_type": "stream",
     "text": [
      " 28%|██▊       | 55/200 [21:55<57:26, 23.77s/it]"
     ]
    },
    {
     "name": "stdout",
     "output_type": "stream",
     "text": [
      "Epoch   55, sqrt loss   0.471, Val sim-NRMS 0.1851, Time Loss: 89.1%, data: 0.2%, val: 10.7%, 12.0 batches/sec\n"
     ]
    },
    {
     "name": "stderr",
     "output_type": "stream",
     "text": [
      " 28%|██▊       | 56/200 [22:19<57:01, 23.76s/it]"
     ]
    },
    {
     "name": "stdout",
     "output_type": "stream",
     "text": [
      "Epoch   56, sqrt loss 0.07122, Val sim-NRMS 0.04231, Time Loss: 89.1%, data: 0.2%, val: 10.7%, 12.0 batches/sec\n"
     ]
    },
    {
     "name": "stderr",
     "output_type": "stream",
     "text": [
      " 28%|██▊       | 57/200 [22:42<56:41, 23.78s/it]"
     ]
    },
    {
     "name": "stdout",
     "output_type": "stream",
     "text": [
      "Epoch   57, sqrt loss 0.04524, Val sim-NRMS 0.05253, Time Loss: 89.1%, data: 0.2%, val: 10.7%, 12.0 batches/sec\n"
     ]
    },
    {
     "name": "stderr",
     "output_type": "stream",
     "text": [
      " 29%|██▉       | 58/200 [23:06<56:21, 23.81s/it]"
     ]
    },
    {
     "name": "stdout",
     "output_type": "stream",
     "text": [
      "Epoch   58, sqrt loss 0.07054, Val sim-NRMS 0.04269, Time Loss: 89.1%, data: 0.2%, val: 10.7%, 12.0 batches/sec\n"
     ]
    },
    {
     "name": "stderr",
     "output_type": "stream",
     "text": [
      " 30%|██▉       | 59/200 [23:30<56:02, 23.84s/it]"
     ]
    },
    {
     "name": "stdout",
     "output_type": "stream",
     "text": [
      "Epoch   59, sqrt loss 0.03634, Val sim-NRMS 0.03377, Time Loss: 89.1%, data: 0.2%, val: 10.7%, 12.0 batches/sec\n"
     ]
    },
    {
     "name": "stderr",
     "output_type": "stream",
     "text": [
      " 30%|███       | 60/200 [23:54<55:37, 23.84s/it]"
     ]
    },
    {
     "name": "stdout",
     "output_type": "stream",
     "text": [
      "Epoch   60, sqrt loss  0.0457, Val sim-NRMS 0.1358, Time Loss: 89.1%, data: 0.2%, val: 10.7%, 12.0 batches/sec\n"
     ]
    },
    {
     "name": "stderr",
     "output_type": "stream",
     "text": [
      " 30%|███       | 61/200 [24:18<55:13, 23.84s/it]"
     ]
    },
    {
     "name": "stdout",
     "output_type": "stream",
     "text": [
      "Epoch   61, sqrt loss 0.04813, Val sim-NRMS 0.03675, Time Loss: 89.1%, data: 0.2%, val: 10.7%, 12.0 batches/sec\n"
     ]
    },
    {
     "name": "stderr",
     "output_type": "stream",
     "text": [
      " 31%|███       | 62/200 [24:42<54:44, 23.80s/it]"
     ]
    },
    {
     "name": "stdout",
     "output_type": "stream",
     "text": [
      "Epoch   62, sqrt loss  0.0656, Val sim-NRMS 0.05409, Time Loss: 89.1%, data: 0.2%, val: 10.7%, 12.0 batches/sec\n"
     ]
    },
    {
     "name": "stderr",
     "output_type": "stream",
     "text": [
      " 32%|███▏      | 63/200 [25:06<54:22, 23.82s/it]"
     ]
    },
    {
     "name": "stdout",
     "output_type": "stream",
     "text": [
      "Epoch   63, sqrt loss 0.03245, Val sim-NRMS 0.06099, Time Loss: 89.1%, data: 0.2%, val: 10.7%, 12.0 batches/sec\n"
     ]
    },
    {
     "name": "stderr",
     "output_type": "stream",
     "text": [
      " 32%|███▏      | 64/200 [25:29<53:53, 23.78s/it]"
     ]
    },
    {
     "name": "stdout",
     "output_type": "stream",
     "text": [
      "########## New lowest validation loss achieved ########### sim-NRMS = 0.0323160260100529\n",
      "Epoch   64, sqrt loss 0.06504, Val sim-NRMS 0.03232, Time Loss: 89.1%, data: 0.2%, val: 10.7%, 12.0 batches/sec\n"
     ]
    },
    {
     "name": "stderr",
     "output_type": "stream",
     "text": [
      " 32%|███▎      | 65/200 [25:53<53:33, 23.80s/it]"
     ]
    },
    {
     "name": "stdout",
     "output_type": "stream",
     "text": [
      "Epoch   65, sqrt loss 0.03417, Val sim-NRMS 0.0365, Time Loss: 89.1%, data: 0.2%, val: 10.7%, 12.0 batches/sec\n"
     ]
    },
    {
     "name": "stderr",
     "output_type": "stream",
     "text": [
      " 33%|███▎      | 66/200 [26:17<53:13, 23.83s/it]"
     ]
    },
    {
     "name": "stdout",
     "output_type": "stream",
     "text": [
      "Epoch   66, sqrt loss 0.03911, Val sim-NRMS 0.05194, Time Loss: 89.1%, data: 0.2%, val: 10.7%, 12.0 batches/sec\n"
     ]
    },
    {
     "name": "stderr",
     "output_type": "stream",
     "text": [
      " 34%|███▎      | 67/200 [26:41<52:49, 23.83s/it]"
     ]
    },
    {
     "name": "stdout",
     "output_type": "stream",
     "text": [
      "Epoch   67, sqrt loss 0.06805, Val sim-NRMS 0.03246, Time Loss: 89.1%, data: 0.2%, val: 10.7%, 12.0 batches/sec\n"
     ]
    },
    {
     "name": "stderr",
     "output_type": "stream",
     "text": [
      " 34%|███▍      | 68/200 [27:04<52:19, 23.78s/it]"
     ]
    },
    {
     "name": "stdout",
     "output_type": "stream",
     "text": [
      "Epoch   68, sqrt loss 0.03249, Val sim-NRMS 0.04703, Time Loss: 89.1%, data: 0.2%, val: 10.7%, 12.0 batches/sec\n"
     ]
    },
    {
     "name": "stderr",
     "output_type": "stream",
     "text": [
      " 34%|███▍      | 69/200 [27:28<51:55, 23.78s/it]"
     ]
    },
    {
     "name": "stdout",
     "output_type": "stream",
     "text": [
      "Epoch   69, sqrt loss 0.04232, Val sim-NRMS 0.03842, Time Loss: 89.1%, data: 0.2%, val: 10.7%, 12.0 batches/sec\n"
     ]
    },
    {
     "name": "stderr",
     "output_type": "stream",
     "text": [
      " 35%|███▌      | 70/200 [27:52<51:31, 23.78s/it]"
     ]
    },
    {
     "name": "stdout",
     "output_type": "stream",
     "text": [
      "Epoch   70, sqrt loss 0.09211, Val sim-NRMS 0.2263, Time Loss: 89.1%, data: 0.2%, val: 10.7%, 12.0 batches/sec\n"
     ]
    },
    {
     "name": "stderr",
     "output_type": "stream",
     "text": [
      " 36%|███▌      | 71/200 [28:16<51:09, 23.80s/it]"
     ]
    },
    {
     "name": "stdout",
     "output_type": "stream",
     "text": [
      "########## New lowest validation loss achieved ########### sim-NRMS = 0.030678706434036772\n",
      "Epoch   71, sqrt loss 0.05231, Val sim-NRMS 0.03068, Time Loss: 89.1%, data: 0.2%, val: 10.7%, 12.0 batches/sec\n"
     ]
    },
    {
     "name": "stderr",
     "output_type": "stream",
     "text": [
      " 36%|███▌      | 72/200 [28:40<51:01, 23.92s/it]"
     ]
    },
    {
     "name": "stdout",
     "output_type": "stream",
     "text": [
      "Epoch   72, sqrt loss 0.03207, Val sim-NRMS 0.03069, Time Loss: 89.1%, data: 0.2%, val: 10.7%, 12.0 batches/sec\n"
     ]
    },
    {
     "name": "stderr",
     "output_type": "stream",
     "text": [
      " 36%|███▋      | 73/200 [29:04<50:37, 23.91s/it]"
     ]
    },
    {
     "name": "stdout",
     "output_type": "stream",
     "text": [
      "########## New lowest validation loss achieved ########### sim-NRMS = 0.030094373349486517\n",
      "Epoch   73, sqrt loss 0.06486, Val sim-NRMS 0.03009, Time Loss: 89.1%, data: 0.2%, val: 10.7%, 12.0 batches/sec\n"
     ]
    },
    {
     "name": "stderr",
     "output_type": "stream",
     "text": [
      " 37%|███▋      | 74/200 [29:28<50:07, 23.87s/it]"
     ]
    },
    {
     "name": "stdout",
     "output_type": "stream",
     "text": [
      "Epoch   74, sqrt loss 0.03018, Val sim-NRMS 0.03042, Time Loss: 89.1%, data: 0.2%, val: 10.8%, 12.0 batches/sec\n"
     ]
    },
    {
     "name": "stderr",
     "output_type": "stream",
     "text": [
      " 38%|███▊      | 75/200 [29:51<49:37, 23.82s/it]"
     ]
    },
    {
     "name": "stdout",
     "output_type": "stream",
     "text": [
      "Epoch   75, sqrt loss 0.03998, Val sim-NRMS 0.05395, Time Loss: 89.1%, data: 0.2%, val: 10.8%, 12.0 batches/sec\n"
     ]
    },
    {
     "name": "stderr",
     "output_type": "stream",
     "text": [
      " 38%|███▊      | 76/200 [30:15<49:10, 23.79s/it]"
     ]
    },
    {
     "name": "stdout",
     "output_type": "stream",
     "text": [
      "Epoch   76, sqrt loss 0.04483, Val sim-NRMS 0.03053, Time Loss: 89.1%, data: 0.2%, val: 10.8%, 12.0 batches/sec\n"
     ]
    },
    {
     "name": "stderr",
     "output_type": "stream",
     "text": [
      " 38%|███▊      | 77/200 [30:39<48:47, 23.80s/it]"
     ]
    },
    {
     "name": "stdout",
     "output_type": "stream",
     "text": [
      "Epoch   77, sqrt loss  0.1198, Val sim-NRMS 0.2613, Time Loss: 89.1%, data: 0.2%, val: 10.8%, 12.0 batches/sec\n"
     ]
    },
    {
     "name": "stderr",
     "output_type": "stream",
     "text": [
      " 39%|███▉      | 78/200 [31:03<48:20, 23.77s/it]"
     ]
    },
    {
     "name": "stdout",
     "output_type": "stream",
     "text": [
      "Epoch   78, sqrt loss 0.06013, Val sim-NRMS 0.03019, Time Loss: 89.1%, data: 0.2%, val: 10.8%, 12.0 batches/sec\n"
     ]
    },
    {
     "name": "stderr",
     "output_type": "stream",
     "text": [
      " 40%|███▉      | 79/200 [31:26<47:56, 23.77s/it]"
     ]
    },
    {
     "name": "stdout",
     "output_type": "stream",
     "text": [
      "Epoch   79, sqrt loss 0.03019, Val sim-NRMS 0.03044, Time Loss: 89.1%, data: 0.2%, val: 10.8%, 12.0 batches/sec\n"
     ]
    },
    {
     "name": "stderr",
     "output_type": "stream",
     "text": [
      " 40%|████      | 80/200 [31:50<47:37, 23.82s/it]"
     ]
    },
    {
     "name": "stdout",
     "output_type": "stream",
     "text": [
      "Epoch   80, sqrt loss 0.03422, Val sim-NRMS 0.03773, Time Loss: 89.1%, data: 0.2%, val: 10.8%, 12.0 batches/sec\n"
     ]
    },
    {
     "name": "stderr",
     "output_type": "stream",
     "text": [
      " 40%|████      | 81/200 [32:14<47:13, 23.81s/it]"
     ]
    },
    {
     "name": "stdout",
     "output_type": "stream",
     "text": [
      "Epoch   81, sqrt loss   0.114, Val sim-NRMS 0.03685, Time Loss: 89.0%, data: 0.2%, val: 10.8%, 12.0 batches/sec\n"
     ]
    },
    {
     "name": "stderr",
     "output_type": "stream",
     "text": [
      " 41%|████      | 82/200 [32:38<46:51, 23.83s/it]"
     ]
    },
    {
     "name": "stdout",
     "output_type": "stream",
     "text": [
      "Epoch   82, sqrt loss 0.02908, Val sim-NRMS 0.03168, Time Loss: 89.0%, data: 0.2%, val: 10.8%, 12.0 batches/sec\n"
     ]
    },
    {
     "name": "stderr",
     "output_type": "stream",
     "text": [
      " 42%|████▏     | 83/200 [33:02<46:22, 23.79s/it]"
     ]
    },
    {
     "name": "stdout",
     "output_type": "stream",
     "text": [
      "########## New lowest validation loss achieved ########### sim-NRMS = 0.028893604508327037\n",
      "Epoch   83, sqrt loss 0.03014, Val sim-NRMS 0.02889, Time Loss: 89.0%, data: 0.2%, val: 10.8%, 12.0 batches/sec\n"
     ]
    },
    {
     "name": "stderr",
     "output_type": "stream",
     "text": [
      " 42%|████▏     | 84/200 [33:26<46:00, 23.80s/it]"
     ]
    },
    {
     "name": "stdout",
     "output_type": "stream",
     "text": [
      "Epoch   84, sqrt loss 0.04119, Val sim-NRMS 0.03417, Time Loss: 89.0%, data: 0.2%, val: 10.8%, 12.0 batches/sec\n"
     ]
    },
    {
     "name": "stderr",
     "output_type": "stream",
     "text": [
      " 42%|████▎     | 85/200 [33:49<45:39, 23.82s/it]"
     ]
    },
    {
     "name": "stdout",
     "output_type": "stream",
     "text": [
      "Epoch   85, sqrt loss 0.03464, Val sim-NRMS 0.03122, Time Loss: 89.0%, data: 0.2%, val: 10.8%, 12.0 batches/sec\n"
     ]
    },
    {
     "name": "stderr",
     "output_type": "stream",
     "text": [
      " 43%|████▎     | 86/200 [34:13<45:15, 23.82s/it]"
     ]
    },
    {
     "name": "stdout",
     "output_type": "stream",
     "text": [
      "Epoch   86, sqrt loss 0.06521, Val sim-NRMS 0.02998, Time Loss: 89.0%, data: 0.2%, val: 10.8%, 12.0 batches/sec\n"
     ]
    },
    {
     "name": "stderr",
     "output_type": "stream",
     "text": [
      " 44%|████▎     | 87/200 [34:37<44:53, 23.84s/it]"
     ]
    },
    {
     "name": "stdout",
     "output_type": "stream",
     "text": [
      "Epoch   87, sqrt loss 0.03023, Val sim-NRMS 0.03574, Time Loss: 89.0%, data: 0.2%, val: 10.8%, 12.0 batches/sec\n"
     ]
    },
    {
     "name": "stderr",
     "output_type": "stream",
     "text": [
      " 44%|████▍     | 88/200 [35:01<44:27, 23.82s/it]"
     ]
    },
    {
     "name": "stdout",
     "output_type": "stream",
     "text": [
      "Epoch   88, sqrt loss 0.03559, Val sim-NRMS 0.04181, Time Loss: 89.0%, data: 0.2%, val: 10.8%, 12.0 batches/sec\n"
     ]
    },
    {
     "name": "stderr",
     "output_type": "stream",
     "text": [
      " 44%|████▍     | 89/200 [35:25<44:01, 23.80s/it]"
     ]
    },
    {
     "name": "stdout",
     "output_type": "stream",
     "text": [
      "Epoch   89, sqrt loss 0.09012, Val sim-NRMS 0.02911, Time Loss: 89.0%, data: 0.2%, val: 10.8%, 12.0 batches/sec\n"
     ]
    },
    {
     "name": "stderr",
     "output_type": "stream",
     "text": [
      " 45%|████▌     | 90/200 [35:49<43:39, 23.82s/it]"
     ]
    },
    {
     "name": "stdout",
     "output_type": "stream",
     "text": [
      "Epoch   90, sqrt loss  0.0273, Val sim-NRMS 0.0358, Time Loss: 89.0%, data: 0.2%, val: 10.8%, 12.0 batches/sec\n"
     ]
    },
    {
     "name": "stderr",
     "output_type": "stream",
     "text": [
      " 46%|████▌     | 91/200 [36:12<43:21, 23.86s/it]"
     ]
    },
    {
     "name": "stdout",
     "output_type": "stream",
     "text": [
      "Epoch   91, sqrt loss 0.03361, Val sim-NRMS 0.03386, Time Loss: 89.0%, data: 0.2%, val: 10.8%, 12.0 batches/sec\n"
     ]
    },
    {
     "name": "stderr",
     "output_type": "stream",
     "text": [
      " 46%|████▌     | 92/200 [36:36<42:57, 23.86s/it]"
     ]
    },
    {
     "name": "stdout",
     "output_type": "stream",
     "text": [
      "Epoch   92, sqrt loss 0.03596, Val sim-NRMS 0.03233, Time Loss: 89.0%, data: 0.2%, val: 10.8%, 12.0 batches/sec\n"
     ]
    },
    {
     "name": "stderr",
     "output_type": "stream",
     "text": [
      " 46%|████▋     | 93/200 [37:00<42:29, 23.82s/it]"
     ]
    },
    {
     "name": "stdout",
     "output_type": "stream",
     "text": [
      "Epoch   93, sqrt loss 0.04122, Val sim-NRMS 0.06065, Time Loss: 89.0%, data: 0.2%, val: 10.8%, 12.0 batches/sec\n"
     ]
    },
    {
     "name": "stderr",
     "output_type": "stream",
     "text": [
      " 47%|████▋     | 94/200 [37:24<42:07, 23.85s/it]"
     ]
    },
    {
     "name": "stdout",
     "output_type": "stream",
     "text": [
      "Epoch   94, sqrt loss 0.03921, Val sim-NRMS 0.09277, Time Loss: 89.0%, data: 0.2%, val: 10.8%, 12.0 batches/sec\n"
     ]
    },
    {
     "name": "stderr",
     "output_type": "stream",
     "text": [
      " 48%|████▊     | 95/200 [37:48<41:48, 23.89s/it]"
     ]
    },
    {
     "name": "stdout",
     "output_type": "stream",
     "text": [
      "Epoch   95, sqrt loss  0.1897, Val sim-NRMS 0.03079, Time Loss: 89.0%, data: 0.2%, val: 10.8%, 12.0 batches/sec\n"
     ]
    },
    {
     "name": "stderr",
     "output_type": "stream",
     "text": [
      " 48%|████▊     | 96/200 [38:12<41:26, 23.91s/it]"
     ]
    },
    {
     "name": "stdout",
     "output_type": "stream",
     "text": [
      "Epoch   96, sqrt loss 0.02823, Val sim-NRMS 0.03457, Time Loss: 89.0%, data: 0.2%, val: 10.8%, 12.0 batches/sec\n"
     ]
    },
    {
     "name": "stderr",
     "output_type": "stream",
     "text": [
      " 48%|████▊     | 97/200 [38:36<41:01, 23.90s/it]"
     ]
    },
    {
     "name": "stdout",
     "output_type": "stream",
     "text": [
      "Epoch   97, sqrt loss 0.02957, Val sim-NRMS 0.0299, Time Loss: 89.0%, data: 0.2%, val: 10.8%, 12.0 batches/sec\n"
     ]
    },
    {
     "name": "stderr",
     "output_type": "stream",
     "text": [
      " 49%|████▉     | 98/200 [39:00<40:33, 23.86s/it]"
     ]
    },
    {
     "name": "stdout",
     "output_type": "stream",
     "text": [
      "Epoch   98, sqrt loss 0.03391, Val sim-NRMS 0.03291, Time Loss: 89.0%, data: 0.2%, val: 10.8%, 12.0 batches/sec\n"
     ]
    },
    {
     "name": "stderr",
     "output_type": "stream",
     "text": [
      " 50%|████▉     | 99/200 [39:23<40:07, 23.83s/it]"
     ]
    },
    {
     "name": "stdout",
     "output_type": "stream",
     "text": [
      "Epoch   99, sqrt loss 0.06245, Val sim-NRMS 0.05581, Time Loss: 89.0%, data: 0.2%, val: 10.8%, 12.0 batches/sec\n"
     ]
    },
    {
     "name": "stderr",
     "output_type": "stream",
     "text": [
      " 50%|█████     | 100/200 [39:47<39:40, 23.81s/it]"
     ]
    },
    {
     "name": "stdout",
     "output_type": "stream",
     "text": [
      "Epoch  100, sqrt loss  0.0273, Val sim-NRMS 0.03022, Time Loss: 89.0%, data: 0.2%, val: 10.8%, 12.0 batches/sec\n"
     ]
    },
    {
     "name": "stderr",
     "output_type": "stream",
     "text": [
      " 50%|█████     | 101/200 [40:11<39:18, 23.82s/it]"
     ]
    },
    {
     "name": "stdout",
     "output_type": "stream",
     "text": [
      "Epoch  101, sqrt loss 0.02855, Val sim-NRMS 0.03233, Time Loss: 89.0%, data: 0.2%, val: 10.8%, 12.0 batches/sec\n"
     ]
    },
    {
     "name": "stderr",
     "output_type": "stream",
     "text": [
      " 51%|█████     | 102/200 [40:35<38:58, 23.86s/it]"
     ]
    },
    {
     "name": "stdout",
     "output_type": "stream",
     "text": [
      "Epoch  102, sqrt loss 0.03758, Val sim-NRMS 0.0351, Time Loss: 89.0%, data: 0.2%, val: 10.8%, 12.0 batches/sec\n"
     ]
    },
    {
     "name": "stderr",
     "output_type": "stream",
     "text": [
      " 52%|█████▏    | 103/200 [40:59<38:39, 23.91s/it]"
     ]
    },
    {
     "name": "stdout",
     "output_type": "stream",
     "text": [
      "Epoch  103, sqrt loss 0.03653, Val sim-NRMS 0.0567, Time Loss: 89.0%, data: 0.2%, val: 10.8%, 12.0 batches/sec\n"
     ]
    },
    {
     "name": "stderr",
     "output_type": "stream",
     "text": [
      " 52%|█████▏    | 104/200 [41:23<38:18, 23.95s/it]"
     ]
    },
    {
     "name": "stdout",
     "output_type": "stream",
     "text": [
      "Epoch  104, sqrt loss  0.1594, Val sim-NRMS 0.0317, Time Loss: 89.0%, data: 0.2%, val: 10.8%, 12.0 batches/sec\n"
     ]
    },
    {
     "name": "stderr",
     "output_type": "stream",
     "text": [
      " 52%|█████▎    | 105/200 [41:47<37:55, 23.95s/it]"
     ]
    },
    {
     "name": "stdout",
     "output_type": "stream",
     "text": [
      "Epoch  105, sqrt loss 0.02833, Val sim-NRMS 0.03209, Time Loss: 89.0%, data: 0.2%, val: 10.8%, 12.0 batches/sec\n"
     ]
    },
    {
     "name": "stderr",
     "output_type": "stream",
     "text": [
      " 53%|█████▎    | 106/200 [42:11<37:28, 23.92s/it]"
     ]
    },
    {
     "name": "stdout",
     "output_type": "stream",
     "text": [
      "########## New lowest validation loss achieved ########### sim-NRMS = 0.028010789407222497\n",
      "Epoch  106, sqrt loss 0.02734, Val sim-NRMS 0.02801, Time Loss: 89.0%, data: 0.2%, val: 10.8%, 12.0 batches/sec\n"
     ]
    },
    {
     "name": "stderr",
     "output_type": "stream",
     "text": [
      " 54%|█████▎    | 107/200 [42:35<37:11, 23.99s/it]"
     ]
    },
    {
     "name": "stdout",
     "output_type": "stream",
     "text": [
      "Epoch  107, sqrt loss 0.05049, Val sim-NRMS 0.03499, Time Loss: 89.0%, data: 0.2%, val: 10.8%, 12.0 batches/sec\n"
     ]
    },
    {
     "name": "stderr",
     "output_type": "stream",
     "text": [
      " 54%|█████▍    | 108/200 [42:59<36:46, 23.99s/it]"
     ]
    },
    {
     "name": "stdout",
     "output_type": "stream",
     "text": [
      "########## New lowest validation loss achieved ########### sim-NRMS = 0.02635083940620879\n",
      "Epoch  108, sqrt loss 0.02663, Val sim-NRMS 0.02635, Time Loss: 89.0%, data: 0.2%, val: 10.8%, 12.0 batches/sec\n"
     ]
    },
    {
     "name": "stderr",
     "output_type": "stream",
     "text": [
      " 55%|█████▍    | 109/200 [43:23<36:16, 23.92s/it]"
     ]
    },
    {
     "name": "stdout",
     "output_type": "stream",
     "text": [
      "Epoch  109, sqrt loss 0.03538, Val sim-NRMS 0.03043, Time Loss: 89.0%, data: 0.2%, val: 10.8%, 12.0 batches/sec\n"
     ]
    },
    {
     "name": "stderr",
     "output_type": "stream",
     "text": [
      " 55%|█████▌    | 110/200 [43:47<35:52, 23.92s/it]"
     ]
    },
    {
     "name": "stdout",
     "output_type": "stream",
     "text": [
      "Epoch  110, sqrt loss 0.04424, Val sim-NRMS 0.03101, Time Loss: 89.0%, data: 0.2%, val: 10.8%, 12.0 batches/sec\n"
     ]
    },
    {
     "name": "stderr",
     "output_type": "stream",
     "text": [
      " 56%|█████▌    | 111/200 [44:10<35:27, 23.90s/it]"
     ]
    },
    {
     "name": "stdout",
     "output_type": "stream",
     "text": [
      "Epoch  111, sqrt loss 0.02936, Val sim-NRMS 0.05621, Time Loss: 89.0%, data: 0.2%, val: 10.8%, 12.0 batches/sec\n"
     ]
    },
    {
     "name": "stderr",
     "output_type": "stream",
     "text": [
      " 56%|█████▌    | 112/200 [44:34<35:03, 23.91s/it]"
     ]
    },
    {
     "name": "stdout",
     "output_type": "stream",
     "text": [
      "Epoch  112, sqrt loss 0.06816, Val sim-NRMS 0.02736, Time Loss: 89.0%, data: 0.2%, val: 10.8%, 12.0 batches/sec\n"
     ]
    },
    {
     "name": "stderr",
     "output_type": "stream",
     "text": [
      " 56%|█████▋    | 113/200 [44:58<34:37, 23.88s/it]"
     ]
    },
    {
     "name": "stdout",
     "output_type": "stream",
     "text": [
      "########## New lowest validation loss achieved ########### sim-NRMS = 0.026106463558510054\n",
      "Epoch  113, sqrt loss 0.02527, Val sim-NRMS 0.02611, Time Loss: 89.0%, data: 0.2%, val: 10.8%, 12.0 batches/sec\n"
     ]
    },
    {
     "name": "stderr",
     "output_type": "stream",
     "text": [
      " 57%|█████▋    | 114/200 [45:22<34:16, 23.91s/it]"
     ]
    },
    {
     "name": "stdout",
     "output_type": "stream",
     "text": [
      "Epoch  114, sqrt loss 0.03332, Val sim-NRMS 0.02942, Time Loss: 89.0%, data: 0.2%, val: 10.8%, 12.0 batches/sec\n"
     ]
    },
    {
     "name": "stderr",
     "output_type": "stream",
     "text": [
      " 57%|█████▊    | 115/200 [45:46<33:55, 23.94s/it]"
     ]
    },
    {
     "name": "stdout",
     "output_type": "stream",
     "text": [
      "Epoch  115, sqrt loss 0.05779, Val sim-NRMS 0.0289, Time Loss: 89.0%, data: 0.2%, val: 10.8%, 12.0 batches/sec\n"
     ]
    },
    {
     "name": "stderr",
     "output_type": "stream",
     "text": [
      " 58%|█████▊    | 116/200 [46:10<33:31, 23.95s/it]"
     ]
    },
    {
     "name": "stdout",
     "output_type": "stream",
     "text": [
      "########## New lowest validation loss achieved ########### sim-NRMS = 0.025216345767703475\n",
      "Epoch  116, sqrt loss 0.02539, Val sim-NRMS 0.02522, Time Loss: 89.0%, data: 0.2%, val: 10.8%, 12.0 batches/sec\n"
     ]
    },
    {
     "name": "stderr",
     "output_type": "stream",
     "text": [
      " 58%|█████▊    | 117/200 [46:34<33:11, 23.99s/it]"
     ]
    },
    {
     "name": "stdout",
     "output_type": "stream",
     "text": [
      "Epoch  117, sqrt loss 0.02945, Val sim-NRMS 0.03451, Time Loss: 89.0%, data: 0.2%, val: 10.8%, 12.0 batches/sec\n"
     ]
    },
    {
     "name": "stderr",
     "output_type": "stream",
     "text": [
      " 59%|█████▉    | 118/200 [46:58<32:46, 23.98s/it]"
     ]
    },
    {
     "name": "stdout",
     "output_type": "stream",
     "text": [
      "Epoch  118, sqrt loss 0.05931, Val sim-NRMS 0.09275, Time Loss: 89.0%, data: 0.2%, val: 10.8%, 12.0 batches/sec\n"
     ]
    },
    {
     "name": "stderr",
     "output_type": "stream",
     "text": [
      " 60%|█████▉    | 119/200 [47:22<32:22, 23.98s/it]"
     ]
    },
    {
     "name": "stdout",
     "output_type": "stream",
     "text": [
      "Epoch  119, sqrt loss 0.04671, Val sim-NRMS 0.02564, Time Loss: 89.0%, data: 0.2%, val: 10.8%, 12.0 batches/sec\n"
     ]
    },
    {
     "name": "stderr",
     "output_type": "stream",
     "text": [
      " 60%|██████    | 120/200 [47:46<31:57, 23.97s/it]"
     ]
    },
    {
     "name": "stdout",
     "output_type": "stream",
     "text": [
      "########## New lowest validation loss achieved ########### sim-NRMS = 0.024794330912480005\n",
      "Epoch  120, sqrt loss 0.02565, Val sim-NRMS 0.02479, Time Loss: 89.0%, data: 0.2%, val: 10.8%, 12.0 batches/sec\n"
     ]
    },
    {
     "name": "stderr",
     "output_type": "stream",
     "text": [
      " 60%|██████    | 121/200 [48:10<31:38, 24.03s/it]"
     ]
    },
    {
     "name": "stdout",
     "output_type": "stream",
     "text": [
      "Epoch  121, sqrt loss 0.03114, Val sim-NRMS 0.0301, Time Loss: 89.0%, data: 0.2%, val: 10.8%, 12.0 batches/sec\n"
     ]
    },
    {
     "name": "stderr",
     "output_type": "stream",
     "text": [
      " 61%|██████    | 122/200 [48:34<31:16, 24.06s/it]"
     ]
    },
    {
     "name": "stdout",
     "output_type": "stream",
     "text": [
      "Epoch  122, sqrt loss 0.03613, Val sim-NRMS 0.03295, Time Loss: 89.0%, data: 0.2%, val: 10.8%, 12.0 batches/sec\n"
     ]
    },
    {
     "name": "stderr",
     "output_type": "stream",
     "text": [
      " 62%|██████▏   | 123/200 [48:59<30:54, 24.08s/it]"
     ]
    },
    {
     "name": "stdout",
     "output_type": "stream",
     "text": [
      "Epoch  123, sqrt loss 0.03979, Val sim-NRMS 0.0995, Time Loss: 89.0%, data: 0.2%, val: 10.8%, 12.0 batches/sec\n"
     ]
    },
    {
     "name": "stderr",
     "output_type": "stream",
     "text": [
      " 62%|██████▏   | 124/200 [49:23<30:34, 24.14s/it]"
     ]
    },
    {
     "name": "stdout",
     "output_type": "stream",
     "text": [
      "Epoch  124, sqrt loss 0.03338, Val sim-NRMS 0.02647, Time Loss: 89.0%, data: 0.2%, val: 10.8%, 12.0 batches/sec\n"
     ]
    },
    {
     "name": "stderr",
     "output_type": "stream",
     "text": [
      " 62%|██████▎   | 125/200 [49:47<30:09, 24.13s/it]"
     ]
    },
    {
     "name": "stdout",
     "output_type": "stream",
     "text": [
      "Epoch  125, sqrt loss 0.03535, Val sim-NRMS 0.03383, Time Loss: 89.0%, data: 0.2%, val: 10.8%, 12.0 batches/sec\n"
     ]
    },
    {
     "name": "stderr",
     "output_type": "stream",
     "text": [
      " 63%|██████▎   | 126/200 [50:11<29:41, 24.07s/it]"
     ]
    },
    {
     "name": "stdout",
     "output_type": "stream",
     "text": [
      "Epoch  126, sqrt loss 0.03694, Val sim-NRMS 0.02596, Time Loss: 89.0%, data: 0.2%, val: 10.8%, 12.0 batches/sec\n"
     ]
    },
    {
     "name": "stderr",
     "output_type": "stream",
     "text": [
      " 64%|██████▎   | 127/200 [50:35<29:15, 24.05s/it]"
     ]
    },
    {
     "name": "stdout",
     "output_type": "stream",
     "text": [
      "Epoch  127, sqrt loss 0.03724, Val sim-NRMS 0.0327, Time Loss: 89.0%, data: 0.2%, val: 10.8%, 12.0 batches/sec\n"
     ]
    },
    {
     "name": "stderr",
     "output_type": "stream",
     "text": [
      " 64%|██████▍   | 128/200 [50:59<28:46, 23.98s/it]"
     ]
    },
    {
     "name": "stdout",
     "output_type": "stream",
     "text": [
      "Epoch  128, sqrt loss 0.03443, Val sim-NRMS 0.04462, Time Loss: 89.0%, data: 0.2%, val: 10.8%, 12.0 batches/sec\n"
     ]
    },
    {
     "name": "stderr",
     "output_type": "stream",
     "text": [
      " 64%|██████▍   | 129/200 [51:23<28:21, 23.96s/it]"
     ]
    },
    {
     "name": "stdout",
     "output_type": "stream",
     "text": [
      "Epoch  129, sqrt loss 0.03456, Val sim-NRMS 0.02758, Time Loss: 89.0%, data: 0.2%, val: 10.8%, 12.0 batches/sec\n"
     ]
    },
    {
     "name": "stderr",
     "output_type": "stream",
     "text": [
      " 65%|██████▌   | 130/200 [51:47<27:57, 23.96s/it]"
     ]
    },
    {
     "name": "stdout",
     "output_type": "stream",
     "text": [
      "Epoch  130, sqrt loss 0.06813, Val sim-NRMS 0.02674, Time Loss: 89.0%, data: 0.2%, val: 10.8%, 12.0 batches/sec\n"
     ]
    },
    {
     "name": "stderr",
     "output_type": "stream",
     "text": [
      " 66%|██████▌   | 131/200 [52:11<27:38, 24.04s/it]"
     ]
    },
    {
     "name": "stdout",
     "output_type": "stream",
     "text": [
      "########## New lowest validation loss achieved ########### sim-NRMS = 0.024755880613027356\n",
      "Epoch  131, sqrt loss 0.02378, Val sim-NRMS 0.02476, Time Loss: 89.0%, data: 0.2%, val: 10.8%, 12.0 batches/sec\n"
     ]
    },
    {
     "name": "stderr",
     "output_type": "stream",
     "text": [
      " 66%|██████▌   | 132/200 [52:35<27:13, 24.02s/it]"
     ]
    },
    {
     "name": "stdout",
     "output_type": "stream",
     "text": [
      "Epoch  132, sqrt loss 0.03337, Val sim-NRMS 0.04034, Time Loss: 89.0%, data: 0.2%, val: 10.8%, 12.0 batches/sec\n"
     ]
    },
    {
     "name": "stderr",
     "output_type": "stream",
     "text": [
      " 66%|██████▋   | 133/200 [52:59<26:48, 24.01s/it]"
     ]
    },
    {
     "name": "stdout",
     "output_type": "stream",
     "text": [
      "Epoch  133, sqrt loss 0.02997, Val sim-NRMS 0.05887, Time Loss: 89.0%, data: 0.2%, val: 10.8%, 12.0 batches/sec\n"
     ]
    },
    {
     "name": "stderr",
     "output_type": "stream",
     "text": [
      " 67%|██████▋   | 134/200 [53:23<26:23, 24.00s/it]"
     ]
    },
    {
     "name": "stdout",
     "output_type": "stream",
     "text": [
      "Epoch  134, sqrt loss 0.03242, Val sim-NRMS 0.03961, Time Loss: 89.0%, data: 0.2%, val: 10.8%, 12.0 batches/sec\n"
     ]
    },
    {
     "name": "stderr",
     "output_type": "stream",
     "text": [
      " 68%|██████▊   | 135/200 [53:47<26:06, 24.10s/it]"
     ]
    },
    {
     "name": "stdout",
     "output_type": "stream",
     "text": [
      "Epoch  135, sqrt loss 0.03461, Val sim-NRMS 0.02941, Time Loss: 89.0%, data: 0.2%, val: 10.8%, 12.0 batches/sec\n"
     ]
    },
    {
     "name": "stderr",
     "output_type": "stream",
     "text": [
      " 68%|██████▊   | 136/200 [54:11<25:39, 24.05s/it]"
     ]
    },
    {
     "name": "stdout",
     "output_type": "stream",
     "text": [
      "Epoch  136, sqrt loss  0.0361, Val sim-NRMS 0.03154, Time Loss: 89.0%, data: 0.2%, val: 10.8%, 12.0 batches/sec\n"
     ]
    },
    {
     "name": "stderr",
     "output_type": "stream",
     "text": [
      " 68%|██████▊   | 137/200 [54:35<25:10, 23.98s/it]"
     ]
    },
    {
     "name": "stdout",
     "output_type": "stream",
     "text": [
      "Epoch  137, sqrt loss 0.03345, Val sim-NRMS 0.07814, Time Loss: 89.0%, data: 0.2%, val: 10.8%, 12.0 batches/sec\n"
     ]
    },
    {
     "name": "stderr",
     "output_type": "stream",
     "text": [
      " 69%|██████▉   | 138/200 [54:59<24:44, 23.94s/it]"
     ]
    },
    {
     "name": "stdout",
     "output_type": "stream",
     "text": [
      "Epoch  138, sqrt loss 0.03547, Val sim-NRMS 0.03115, Time Loss: 89.0%, data: 0.2%, val: 10.8%, 12.0 batches/sec\n"
     ]
    },
    {
     "name": "stderr",
     "output_type": "stream",
     "text": [
      " 70%|██████▉   | 139/200 [55:23<24:19, 23.93s/it]"
     ]
    },
    {
     "name": "stdout",
     "output_type": "stream",
     "text": [
      "Epoch  139, sqrt loss 0.03673, Val sim-NRMS 0.03439, Time Loss: 89.0%, data: 0.2%, val: 10.8%, 12.0 batches/sec\n"
     ]
    },
    {
     "name": "stderr",
     "output_type": "stream",
     "text": [
      " 70%|███████   | 140/200 [55:47<23:55, 23.93s/it]"
     ]
    },
    {
     "name": "stdout",
     "output_type": "stream",
     "text": [
      "Epoch  140, sqrt loss 0.03135, Val sim-NRMS 0.02837, Time Loss: 89.0%, data: 0.2%, val: 10.8%, 12.0 batches/sec\n"
     ]
    },
    {
     "name": "stderr",
     "output_type": "stream",
     "text": [
      " 70%|███████   | 141/200 [56:10<23:31, 23.93s/it]"
     ]
    },
    {
     "name": "stdout",
     "output_type": "stream",
     "text": [
      "Epoch  141, sqrt loss 0.03677, Val sim-NRMS 0.02576, Time Loss: 89.0%, data: 0.2%, val: 10.8%, 12.0 batches/sec\n"
     ]
    },
    {
     "name": "stderr",
     "output_type": "stream",
     "text": [
      " 71%|███████   | 142/200 [56:34<23:07, 23.92s/it]"
     ]
    },
    {
     "name": "stdout",
     "output_type": "stream",
     "text": [
      "Epoch  142, sqrt loss 0.03263, Val sim-NRMS 0.0416, Time Loss: 89.0%, data: 0.2%, val: 10.8%, 12.0 batches/sec\n"
     ]
    },
    {
     "name": "stderr",
     "output_type": "stream",
     "text": [
      " 72%|███████▏  | 143/200 [56:58<22:45, 23.95s/it]"
     ]
    },
    {
     "name": "stdout",
     "output_type": "stream",
     "text": [
      "Epoch  143, sqrt loss 0.03665, Val sim-NRMS 0.02607, Time Loss: 89.0%, data: 0.2%, val: 10.8%, 12.0 batches/sec\n"
     ]
    },
    {
     "name": "stderr",
     "output_type": "stream",
     "text": [
      " 72%|███████▏  | 144/200 [57:22<22:21, 23.95s/it]"
     ]
    },
    {
     "name": "stdout",
     "output_type": "stream",
     "text": [
      "Epoch  144, sqrt loss 0.03189, Val sim-NRMS 0.03017, Time Loss: 89.0%, data: 0.2%, val: 10.8%, 12.0 batches/sec\n"
     ]
    },
    {
     "name": "stderr",
     "output_type": "stream",
     "text": [
      " 72%|███████▎  | 145/200 [57:46<22:00, 24.00s/it]"
     ]
    },
    {
     "name": "stdout",
     "output_type": "stream",
     "text": [
      "Epoch  145, sqrt loss  0.0332, Val sim-NRMS 0.02873, Time Loss: 89.0%, data: 0.2%, val: 10.8%, 12.0 batches/sec\n"
     ]
    },
    {
     "name": "stderr",
     "output_type": "stream",
     "text": [
      " 73%|███████▎  | 146/200 [58:11<21:37, 24.03s/it]"
     ]
    },
    {
     "name": "stdout",
     "output_type": "stream",
     "text": [
      "Epoch  146, sqrt loss  0.2813, Val sim-NRMS  0.742, Time Loss: 89.0%, data: 0.2%, val: 10.8%, 12.0 batches/sec\n"
     ]
    },
    {
     "name": "stderr",
     "output_type": "stream",
     "text": [
      " 74%|███████▎  | 147/200 [58:34<21:12, 24.01s/it]"
     ]
    },
    {
     "name": "stdout",
     "output_type": "stream",
     "text": [
      "Epoch  147, sqrt loss  0.1503, Val sim-NRMS 0.02828, Time Loss: 89.0%, data: 0.2%, val: 10.8%, 12.0 batches/sec\n"
     ]
    },
    {
     "name": "stderr",
     "output_type": "stream",
     "text": [
      " 74%|███████▍  | 148/200 [58:58<20:46, 23.98s/it]"
     ]
    },
    {
     "name": "stdout",
     "output_type": "stream",
     "text": [
      "Epoch  148, sqrt loss 0.02643, Val sim-NRMS 0.02624, Time Loss: 89.0%, data: 0.2%, val: 10.8%, 12.0 batches/sec\n"
     ]
    },
    {
     "name": "stderr",
     "output_type": "stream",
     "text": [
      " 74%|███████▍  | 149/200 [59:23<20:25, 24.02s/it]"
     ]
    },
    {
     "name": "stdout",
     "output_type": "stream",
     "text": [
      "Epoch  149, sqrt loss 0.02492, Val sim-NRMS 0.02884, Time Loss: 89.0%, data: 0.2%, val: 10.8%, 12.0 batches/sec\n"
     ]
    },
    {
     "name": "stderr",
     "output_type": "stream",
     "text": [
      " 75%|███████▌  | 150/200 [59:46<20:00, 24.01s/it]"
     ]
    },
    {
     "name": "stdout",
     "output_type": "stream",
     "text": [
      "Epoch  150, sqrt loss  0.0299, Val sim-NRMS 0.02976, Time Loss: 89.0%, data: 0.2%, val: 10.8%, 12.0 batches/sec\n"
     ]
    },
    {
     "name": "stderr",
     "output_type": "stream",
     "text": [
      " 76%|███████▌  | 151/200 [1:00:10<19:34, 23.97s/it]"
     ]
    },
    {
     "name": "stdout",
     "output_type": "stream",
     "text": [
      "Epoch  151, sqrt loss  0.0322, Val sim-NRMS 0.02669, Time Loss: 89.0%, data: 0.2%, val: 10.8%, 12.0 batches/sec\n"
     ]
    },
    {
     "name": "stderr",
     "output_type": "stream",
     "text": [
      " 76%|███████▌  | 152/200 [1:00:34<19:10, 23.97s/it]"
     ]
    },
    {
     "name": "stdout",
     "output_type": "stream",
     "text": [
      "Epoch  152, sqrt loss 0.03142, Val sim-NRMS 0.03325, Time Loss: 89.0%, data: 0.2%, val: 10.8%, 12.0 batches/sec\n"
     ]
    },
    {
     "name": "stderr",
     "output_type": "stream",
     "text": [
      " 76%|███████▋  | 153/200 [1:00:58<18:48, 24.00s/it]"
     ]
    },
    {
     "name": "stdout",
     "output_type": "stream",
     "text": [
      "Epoch  153, sqrt loss 0.03279, Val sim-NRMS 0.02575, Time Loss: 89.0%, data: 0.2%, val: 10.8%, 12.0 batches/sec\n"
     ]
    },
    {
     "name": "stderr",
     "output_type": "stream",
     "text": [
      " 77%|███████▋  | 154/200 [1:01:23<18:25, 24.03s/it]"
     ]
    },
    {
     "name": "stdout",
     "output_type": "stream",
     "text": [
      "Epoch  154, sqrt loss 0.03095, Val sim-NRMS 0.02647, Time Loss: 89.0%, data: 0.2%, val: 10.8%, 12.0 batches/sec\n"
     ]
    },
    {
     "name": "stderr",
     "output_type": "stream",
     "text": [
      " 78%|███████▊  | 155/200 [1:01:46<18:00, 24.01s/it]"
     ]
    },
    {
     "name": "stdout",
     "output_type": "stream",
     "text": [
      "Epoch  155, sqrt loss 0.03242, Val sim-NRMS 0.03437, Time Loss: 89.0%, data: 0.2%, val: 10.8%, 12.0 batches/sec\n"
     ]
    },
    {
     "name": "stderr",
     "output_type": "stream",
     "text": [
      " 78%|███████▊  | 156/200 [1:02:11<17:37, 24.03s/it]"
     ]
    },
    {
     "name": "stdout",
     "output_type": "stream",
     "text": [
      "Epoch  156, sqrt loss 0.03389, Val sim-NRMS 0.04559, Time Loss: 89.0%, data: 0.2%, val: 10.8%, 12.0 batches/sec\n"
     ]
    },
    {
     "name": "stderr",
     "output_type": "stream",
     "text": [
      " 78%|███████▊  | 157/200 [1:02:35<17:15, 24.07s/it]"
     ]
    },
    {
     "name": "stdout",
     "output_type": "stream",
     "text": [
      "Epoch  157, sqrt loss  0.0336, Val sim-NRMS 0.1048, Time Loss: 89.0%, data: 0.2%, val: 10.8%, 12.0 batches/sec\n"
     ]
    },
    {
     "name": "stderr",
     "output_type": "stream",
     "text": [
      " 79%|███████▉  | 158/200 [1:02:59<16:51, 24.07s/it]"
     ]
    },
    {
     "name": "stdout",
     "output_type": "stream",
     "text": [
      "Epoch  158, sqrt loss  0.0642, Val sim-NRMS 0.02632, Time Loss: 89.0%, data: 0.2%, val: 10.8%, 12.0 batches/sec\n"
     ]
    },
    {
     "name": "stderr",
     "output_type": "stream",
     "text": [
      " 80%|███████▉  | 159/200 [1:03:23<16:26, 24.06s/it]"
     ]
    },
    {
     "name": "stdout",
     "output_type": "stream",
     "text": [
      "Epoch  159, sqrt loss 0.02309, Val sim-NRMS 0.03205, Time Loss: 89.0%, data: 0.2%, val: 10.8%, 12.0 batches/sec\n"
     ]
    },
    {
     "name": "stderr",
     "output_type": "stream",
     "text": [
      " 80%|████████  | 160/200 [1:03:47<16:02, 24.07s/it]"
     ]
    },
    {
     "name": "stdout",
     "output_type": "stream",
     "text": [
      "########## New lowest validation loss achieved ########### sim-NRMS = 0.023616238004596286\n",
      "Epoch  160, sqrt loss 0.02799, Val sim-NRMS 0.02362, Time Loss: 89.0%, data: 0.2%, val: 10.8%, 12.0 batches/sec\n"
     ]
    },
    {
     "name": "stderr",
     "output_type": "stream",
     "text": [
      " 80%|████████  | 161/200 [1:04:11<15:41, 24.14s/it]"
     ]
    },
    {
     "name": "stdout",
     "output_type": "stream",
     "text": [
      "Epoch  161, sqrt loss 0.05917, Val sim-NRMS 0.02509, Time Loss: 89.0%, data: 0.2%, val: 10.8%, 12.0 batches/sec\n"
     ]
    },
    {
     "name": "stderr",
     "output_type": "stream",
     "text": [
      " 81%|████████  | 162/200 [1:04:35<15:16, 24.12s/it]"
     ]
    },
    {
     "name": "stdout",
     "output_type": "stream",
     "text": [
      "########## New lowest validation loss achieved ########### sim-NRMS = 0.023264990250777166\n",
      "Epoch  162, sqrt loss 0.02294, Val sim-NRMS 0.02326, Time Loss: 89.0%, data: 0.2%, val: 10.8%, 12.0 batches/sec\n"
     ]
    },
    {
     "name": "stderr",
     "output_type": "stream",
     "text": [
      " 82%|████████▏ | 163/200 [1:05:00<14:54, 24.17s/it]"
     ]
    },
    {
     "name": "stdout",
     "output_type": "stream",
     "text": [
      "Epoch  163, sqrt loss  0.0233, Val sim-NRMS 0.0273, Time Loss: 89.0%, data: 0.2%, val: 10.8%, 12.0 batches/sec\n"
     ]
    },
    {
     "name": "stderr",
     "output_type": "stream",
     "text": [
      " 82%|████████▏ | 164/200 [1:05:24<14:28, 24.13s/it]"
     ]
    },
    {
     "name": "stdout",
     "output_type": "stream",
     "text": [
      "Epoch  164, sqrt loss 0.02789, Val sim-NRMS 0.02417, Time Loss: 89.0%, data: 0.2%, val: 10.8%, 12.0 batches/sec\n"
     ]
    },
    {
     "name": "stderr",
     "output_type": "stream",
     "text": [
      " 82%|████████▎ | 165/200 [1:05:48<14:02, 24.07s/it]"
     ]
    },
    {
     "name": "stdout",
     "output_type": "stream",
     "text": [
      "Epoch  165, sqrt loss 0.03689, Val sim-NRMS 0.02357, Time Loss: 89.0%, data: 0.2%, val: 10.8%, 12.0 batches/sec\n"
     ]
    },
    {
     "name": "stderr",
     "output_type": "stream",
     "text": [
      " 83%|████████▎ | 166/200 [1:06:11<13:36, 24.01s/it]"
     ]
    },
    {
     "name": "stdout",
     "output_type": "stream",
     "text": [
      "Epoch  166, sqrt loss  0.0303, Val sim-NRMS 0.03933, Time Loss: 89.0%, data: 0.2%, val: 10.8%, 12.0 batches/sec\n"
     ]
    },
    {
     "name": "stderr",
     "output_type": "stream",
     "text": [
      " 84%|████████▎ | 167/200 [1:06:35<13:12, 24.03s/it]"
     ]
    },
    {
     "name": "stdout",
     "output_type": "stream",
     "text": [
      "Epoch  167, sqrt loss 0.03393, Val sim-NRMS 0.03214, Time Loss: 89.0%, data: 0.2%, val: 10.8%, 12.0 batches/sec\n"
     ]
    },
    {
     "name": "stderr",
     "output_type": "stream",
     "text": [
      " 84%|████████▍ | 168/200 [1:06:59<12:48, 24.01s/it]"
     ]
    },
    {
     "name": "stdout",
     "output_type": "stream",
     "text": [
      "Epoch  168, sqrt loss 0.03632, Val sim-NRMS 0.06304, Time Loss: 89.0%, data: 0.2%, val: 10.8%, 12.0 batches/sec\n"
     ]
    },
    {
     "name": "stderr",
     "output_type": "stream",
     "text": [
      " 84%|████████▍ | 169/200 [1:07:23<12:24, 24.01s/it]"
     ]
    },
    {
     "name": "stdout",
     "output_type": "stream",
     "text": [
      "Epoch  169, sqrt loss   0.028, Val sim-NRMS 0.02666, Time Loss: 89.0%, data: 0.2%, val: 10.8%, 12.0 batches/sec\n"
     ]
    },
    {
     "name": "stderr",
     "output_type": "stream",
     "text": [
      " 85%|████████▌ | 170/200 [1:07:47<11:59, 24.00s/it]"
     ]
    },
    {
     "name": "stdout",
     "output_type": "stream",
     "text": [
      "Epoch  170, sqrt loss 0.03448, Val sim-NRMS 0.02499, Time Loss: 89.0%, data: 0.2%, val: 10.8%, 12.0 batches/sec\n"
     ]
    },
    {
     "name": "stderr",
     "output_type": "stream",
     "text": [
      " 86%|████████▌ | 171/200 [1:08:12<11:36, 24.01s/it]"
     ]
    },
    {
     "name": "stdout",
     "output_type": "stream",
     "text": [
      "Epoch  171, sqrt loss 0.03043, Val sim-NRMS 0.02872, Time Loss: 89.0%, data: 0.2%, val: 10.8%, 12.0 batches/sec\n"
     ]
    },
    {
     "name": "stderr",
     "output_type": "stream",
     "text": [
      " 86%|████████▌ | 172/200 [1:08:35<11:12, 24.01s/it]"
     ]
    },
    {
     "name": "stdout",
     "output_type": "stream",
     "text": [
      "Epoch  172, sqrt loss 0.03232, Val sim-NRMS 0.02433, Time Loss: 89.0%, data: 0.2%, val: 10.8%, 12.0 batches/sec\n"
     ]
    },
    {
     "name": "stderr",
     "output_type": "stream",
     "text": [
      " 86%|████████▋ | 173/200 [1:09:00<10:48, 24.03s/it]"
     ]
    },
    {
     "name": "stdout",
     "output_type": "stream",
     "text": [
      "Epoch  173, sqrt loss  0.0571, Val sim-NRMS 0.02398, Time Loss: 89.0%, data: 0.2%, val: 10.8%, 12.0 batches/sec\n"
     ]
    },
    {
     "name": "stderr",
     "output_type": "stream",
     "text": [
      " 87%|████████▋ | 174/200 [1:09:24<10:24, 24.00s/it]"
     ]
    },
    {
     "name": "stdout",
     "output_type": "stream",
     "text": [
      "Epoch  174, sqrt loss  0.0231, Val sim-NRMS 0.05986, Time Loss: 89.0%, data: 0.2%, val: 10.8%, 12.0 batches/sec\n"
     ]
    },
    {
     "name": "stderr",
     "output_type": "stream",
     "text": [
      " 88%|████████▊ | 175/200 [1:09:47<09:59, 23.98s/it]"
     ]
    },
    {
     "name": "stdout",
     "output_type": "stream",
     "text": [
      "Epoch  175, sqrt loss 0.02843, Val sim-NRMS 0.02394, Time Loss: 89.0%, data: 0.2%, val: 10.8%, 12.0 batches/sec\n"
     ]
    },
    {
     "name": "stderr",
     "output_type": "stream",
     "text": [
      " 88%|████████▊ | 176/200 [1:10:12<09:36, 24.01s/it]"
     ]
    },
    {
     "name": "stdout",
     "output_type": "stream",
     "text": [
      "Epoch  176, sqrt loss 0.03353, Val sim-NRMS 0.04064, Time Loss: 89.0%, data: 0.2%, val: 10.8%, 12.0 batches/sec\n"
     ]
    },
    {
     "name": "stderr",
     "output_type": "stream",
     "text": [
      " 88%|████████▊ | 177/200 [1:10:36<09:12, 24.00s/it]"
     ]
    },
    {
     "name": "stdout",
     "output_type": "stream",
     "text": [
      "Epoch  177, sqrt loss 0.02665, Val sim-NRMS 0.02477, Time Loss: 89.0%, data: 0.2%, val: 10.8%, 12.0 batches/sec\n"
     ]
    },
    {
     "name": "stderr",
     "output_type": "stream",
     "text": [
      " 89%|████████▉ | 178/200 [1:10:59<08:47, 23.98s/it]"
     ]
    },
    {
     "name": "stdout",
     "output_type": "stream",
     "text": [
      "Epoch  178, sqrt loss 0.03479, Val sim-NRMS 0.04498, Time Loss: 89.0%, data: 0.2%, val: 10.8%, 12.0 batches/sec\n"
     ]
    },
    {
     "name": "stderr",
     "output_type": "stream",
     "text": [
      " 90%|████████▉ | 179/200 [1:11:24<08:24, 24.03s/it]"
     ]
    },
    {
     "name": "stdout",
     "output_type": "stream",
     "text": [
      "Epoch  179, sqrt loss 0.02904, Val sim-NRMS 0.03422, Time Loss: 89.0%, data: 0.2%, val: 10.8%, 11.9 batches/sec\n"
     ]
    },
    {
     "name": "stderr",
     "output_type": "stream",
     "text": [
      " 90%|█████████ | 180/200 [1:11:48<08:01, 24.08s/it]"
     ]
    },
    {
     "name": "stdout",
     "output_type": "stream",
     "text": [
      "Epoch  180, sqrt loss 0.03166, Val sim-NRMS 0.02668, Time Loss: 89.0%, data: 0.2%, val: 10.8%, 11.9 batches/sec\n"
     ]
    },
    {
     "name": "stderr",
     "output_type": "stream",
     "text": [
      " 90%|█████████ | 181/200 [1:12:12<07:38, 24.11s/it]"
     ]
    },
    {
     "name": "stdout",
     "output_type": "stream",
     "text": [
      "Epoch  181, sqrt loss 0.03094, Val sim-NRMS 0.0237, Time Loss: 89.0%, data: 0.2%, val: 10.8%, 11.9 batches/sec\n"
     ]
    },
    {
     "name": "stderr",
     "output_type": "stream",
     "text": [
      " 91%|█████████ | 182/200 [1:12:36<07:14, 24.12s/it]"
     ]
    },
    {
     "name": "stdout",
     "output_type": "stream",
     "text": [
      "Epoch  182, sqrt loss 0.03212, Val sim-NRMS 0.03659, Time Loss: 89.0%, data: 0.2%, val: 10.8%, 11.9 batches/sec\n"
     ]
    },
    {
     "name": "stderr",
     "output_type": "stream",
     "text": [
      " 92%|█████████▏| 183/200 [1:13:00<06:49, 24.11s/it]"
     ]
    },
    {
     "name": "stdout",
     "output_type": "stream",
     "text": [
      "Epoch  183, sqrt loss 0.04911, Val sim-NRMS 0.1261, Time Loss: 89.0%, data: 0.2%, val: 10.8%, 11.9 batches/sec\n"
     ]
    },
    {
     "name": "stderr",
     "output_type": "stream",
     "text": [
      " 92%|█████████▏| 184/200 [1:13:24<06:25, 24.09s/it]"
     ]
    },
    {
     "name": "stdout",
     "output_type": "stream",
     "text": [
      "########## New lowest validation loss achieved ########### sim-NRMS = 0.022819359959539546\n",
      "Epoch  184, sqrt loss 0.03151, Val sim-NRMS 0.02282, Time Loss: 89.0%, data: 0.2%, val: 10.8%, 11.9 batches/sec\n"
     ]
    },
    {
     "name": "stderr",
     "output_type": "stream",
     "text": [
      " 92%|█████████▎| 185/200 [1:13:48<06:01, 24.13s/it]"
     ]
    },
    {
     "name": "stdout",
     "output_type": "stream",
     "text": [
      "Epoch  185, sqrt loss  0.0295, Val sim-NRMS 0.03339, Time Loss: 89.0%, data: 0.2%, val: 10.8%, 11.9 batches/sec\n"
     ]
    },
    {
     "name": "stderr",
     "output_type": "stream",
     "text": [
      " 93%|█████████▎| 186/200 [1:14:12<05:37, 24.10s/it]"
     ]
    },
    {
     "name": "stdout",
     "output_type": "stream",
     "text": [
      "Epoch  186, sqrt loss 0.02429, Val sim-NRMS 0.03797, Time Loss: 89.0%, data: 0.2%, val: 10.8%, 11.9 batches/sec\n"
     ]
    },
    {
     "name": "stderr",
     "output_type": "stream",
     "text": [
      " 94%|█████████▎| 187/200 [1:14:37<05:13, 24.11s/it]"
     ]
    },
    {
     "name": "stdout",
     "output_type": "stream",
     "text": [
      "Epoch  187, sqrt loss 0.03476, Val sim-NRMS 0.02652, Time Loss: 89.1%, data: 0.2%, val: 10.8%, 11.9 batches/sec\n"
     ]
    },
    {
     "name": "stderr",
     "output_type": "stream",
     "text": [
      " 94%|█████████▍| 188/200 [1:15:00<04:48, 24.04s/it]"
     ]
    },
    {
     "name": "stdout",
     "output_type": "stream",
     "text": [
      "Epoch  188, sqrt loss 0.02761, Val sim-NRMS 0.02383, Time Loss: 89.1%, data: 0.2%, val: 10.8%, 11.9 batches/sec\n"
     ]
    },
    {
     "name": "stderr",
     "output_type": "stream",
     "text": [
      " 94%|█████████▍| 189/200 [1:15:25<04:24, 24.06s/it]"
     ]
    },
    {
     "name": "stdout",
     "output_type": "stream",
     "text": [
      "Epoch  189, sqrt loss 0.03283, Val sim-NRMS 0.02892, Time Loss: 89.1%, data: 0.2%, val: 10.8%, 11.9 batches/sec\n"
     ]
    },
    {
     "name": "stderr",
     "output_type": "stream",
     "text": [
      " 95%|█████████▌| 190/200 [1:15:49<04:00, 24.09s/it]"
     ]
    },
    {
     "name": "stdout",
     "output_type": "stream",
     "text": [
      "Epoch  190, sqrt loss 0.02949, Val sim-NRMS 0.02494, Time Loss: 89.0%, data: 0.2%, val: 10.8%, 11.9 batches/sec\n"
     ]
    },
    {
     "name": "stderr",
     "output_type": "stream",
     "text": [
      " 96%|█████████▌| 191/200 [1:16:13<03:36, 24.10s/it]"
     ]
    },
    {
     "name": "stdout",
     "output_type": "stream",
     "text": [
      "Epoch  191, sqrt loss 0.03145, Val sim-NRMS 0.03031, Time Loss: 89.1%, data: 0.2%, val: 10.8%, 11.9 batches/sec\n"
     ]
    },
    {
     "name": "stderr",
     "output_type": "stream",
     "text": [
      " 96%|█████████▌| 192/200 [1:16:37<03:12, 24.08s/it]"
     ]
    },
    {
     "name": "stdout",
     "output_type": "stream",
     "text": [
      "Epoch  192, sqrt loss  0.1992, Val sim-NRMS 0.04609, Time Loss: 89.1%, data: 0.2%, val: 10.8%, 11.9 batches/sec\n"
     ]
    },
    {
     "name": "stderr",
     "output_type": "stream",
     "text": [
      " 96%|█████████▋| 193/200 [1:17:01<02:48, 24.06s/it]"
     ]
    },
    {
     "name": "stdout",
     "output_type": "stream",
     "text": [
      "Epoch  193, sqrt loss  0.0285, Val sim-NRMS 0.02485, Time Loss: 89.1%, data: 0.2%, val: 10.8%, 11.9 batches/sec\n"
     ]
    },
    {
     "name": "stderr",
     "output_type": "stream",
     "text": [
      " 97%|█████████▋| 194/200 [1:17:25<02:24, 24.06s/it]"
     ]
    },
    {
     "name": "stdout",
     "output_type": "stream",
     "text": [
      "Epoch  194, sqrt loss 0.02316, Val sim-NRMS 0.0234, Time Loss: 89.1%, data: 0.2%, val: 10.8%, 11.9 batches/sec\n"
     ]
    },
    {
     "name": "stderr",
     "output_type": "stream",
     "text": [
      " 98%|█████████▊| 195/200 [1:17:49<02:00, 24.02s/it]"
     ]
    },
    {
     "name": "stdout",
     "output_type": "stream",
     "text": [
      "Epoch  195, sqrt loss 0.02248, Val sim-NRMS  0.024, Time Loss: 89.1%, data: 0.2%, val: 10.8%, 11.9 batches/sec\n"
     ]
    },
    {
     "name": "stderr",
     "output_type": "stream",
     "text": [
      " 98%|█████████▊| 196/200 [1:18:13<01:36, 24.04s/it]"
     ]
    },
    {
     "name": "stdout",
     "output_type": "stream",
     "text": [
      "Epoch  196, sqrt loss 0.02397, Val sim-NRMS  0.025, Time Loss: 89.1%, data: 0.2%, val: 10.8%, 11.9 batches/sec\n"
     ]
    },
    {
     "name": "stderr",
     "output_type": "stream",
     "text": [
      " 98%|█████████▊| 197/200 [1:18:37<01:11, 23.99s/it]"
     ]
    },
    {
     "name": "stdout",
     "output_type": "stream",
     "text": [
      "Epoch  197, sqrt loss 0.02873, Val sim-NRMS 0.03203, Time Loss: 89.1%, data: 0.2%, val: 10.8%, 11.9 batches/sec\n"
     ]
    },
    {
     "name": "stderr",
     "output_type": "stream",
     "text": [
      " 99%|█████████▉| 198/200 [1:19:01<00:47, 23.95s/it]"
     ]
    },
    {
     "name": "stdout",
     "output_type": "stream",
     "text": [
      "Epoch  198, sqrt loss 0.02909, Val sim-NRMS 0.02301, Time Loss: 89.1%, data: 0.2%, val: 10.8%, 11.9 batches/sec\n"
     ]
    },
    {
     "name": "stderr",
     "output_type": "stream",
     "text": [
      "100%|█████████▉| 199/200 [1:19:25<00:23, 23.94s/it]"
     ]
    },
    {
     "name": "stdout",
     "output_type": "stream",
     "text": [
      "Epoch  199, sqrt loss  0.0274, Val sim-NRMS 0.02578, Time Loss: 89.1%, data: 0.2%, val: 10.8%, 11.9 batches/sec\n"
     ]
    },
    {
     "name": "stderr",
     "output_type": "stream",
     "text": [
      "100%|██████████| 200/200 [1:19:48<00:00, 23.94s/it]"
     ]
    },
    {
     "name": "stdout",
     "output_type": "stream",
     "text": [
      "Epoch  200, sqrt loss 0.02981, Val sim-NRMS 0.02619, Time Loss: 89.1%, data: 0.2%, val: 10.8%, 11.9 batches/sec\n",
      "Loaded model with best known validation sim-NRMS of 0.02282 which happened on epoch 184 (epoch_id=184.00)\n"
     ]
    },
    {
     "name": "stderr",
     "output_type": "stream",
     "text": [
      "\n"
     ]
    }
   ],
   "source": [
    "fit_sys_ss_enc = deepSI.fit_systems.SS_encoder(nx=2, na=50, nb=50) #state dimention = 6, past outputs = 3, past inputs = 3.\n",
    "train_enc, val_enc = train.train_test_split(split_fraction=0.2)\n",
    "\n",
    "#Start fitting\n",
    "fit_sys_ss_enc.fit(train_sys_data=train_enc, val_sys_data=val_enc, \\\n",
    "                   epochs=200, batch_size=254, loss_kwargs={'nf':80}) #nf is T in paper"
   ]
  },
  {
   "cell_type": "code",
   "execution_count": 6,
   "metadata": {},
   "outputs": [
    {
     "name": "stdout",
     "output_type": "stream",
     "text": [
      "simple_res_net(\n",
      "  (net_lin): Linear(in_features=3, out_features=2, bias=True)\n",
      "  (net_non_lin): feed_forward_nn(\n",
      "    (net): Sequential(\n",
      "      (0): Linear(in_features=3, out_features=64, bias=True)\n",
      "      (1): Tanh()\n",
      "      (2): Linear(in_features=64, out_features=64, bias=True)\n",
      "      (3): Tanh()\n",
      "      (4): Linear(in_features=64, out_features=2, bias=True)\n",
      "    )\n",
      "  )\n",
      ")\n",
      "simple_res_net(\n",
      "  (net_lin): Linear(in_features=2, out_features=1, bias=True)\n",
      "  (net_non_lin): feed_forward_nn(\n",
      "    (net): Sequential(\n",
      "      (0): Linear(in_features=2, out_features=64, bias=True)\n",
      "      (1): Tanh()\n",
      "      (2): Linear(in_features=64, out_features=64, bias=True)\n",
      "      (3): Tanh()\n",
      "      (4): Linear(in_features=64, out_features=1, bias=True)\n",
      "    )\n",
      "  )\n",
      ")\n",
      "simple_res_net(\n",
      "  (net_lin): Linear(in_features=100, out_features=2, bias=True)\n",
      "  (net_non_lin): feed_forward_nn(\n",
      "    (net): Sequential(\n",
      "      (0): Linear(in_features=100, out_features=64, bias=True)\n",
      "      (1): Tanh()\n",
      "      (2): Linear(in_features=64, out_features=64, bias=True)\n",
      "      (3): Tanh()\n",
      "      (4): Linear(in_features=64, out_features=2, bias=True)\n",
      "    )\n",
      "  )\n",
      ")\n"
     ]
    }
   ],
   "source": [
    "print(fit_sys_ss_enc.fn) #state network x_t+1 = f([x,u])\n",
    "print(fit_sys_ss_enc.hn) #output network y_t = h(x_t)\n",
    "print(fit_sys_ss_enc.encoder) #encoder network x_t = psi([upast, ypast])"
   ]
  },
  {
   "cell_type": "code",
   "execution_count": 7,
   "metadata": {},
   "outputs": [
    {
     "data": {
      "image/png": "[encoded data removed]",
      "text/plain": [
       "<Figure size 640x480 with 1 Axes>"
      ]
     },
     "metadata": {},
     "output_type": "display_data"
    },
    {
     "name": "stdout",
     "output_type": "stream",
     "text": [
      "NRMS simulation SS encoder 4.93%\n"
     ]
    }
   ],
   "source": [
    "test_sim_enc = fit_sys_ss_enc.apply_experiment(test)\n",
    "\n",
    "plt.plot(test.y)\n",
    "plt.plot(test.y - test_sim_enc.y)\n",
    "plt.show()\n",
    "print(f'NRMS simulation SS encoder {test_sim_enc.NRMS(test):.2%}')"
   ]
  },
  {
   "cell_type": "code",
   "execution_count": 8,
   "metadata": {},
   "outputs": [
    {
     "data": {
      "image/png": "[encoded data removed]",
      "text/plain": [
       "<Figure size 640x480 with 1 Axes>"
      ]
     },
     "metadata": {},
     "output_type": "display_data"
    },
    {
     "name": "stdout",
     "output_type": "stream",
     "text": [
      "NRMS simulation SS encoder 2.23%\n"
     ]
    }
   ],
   "source": [
    "train_sim_enc = fit_sys_ss_enc.apply_experiment(train)\n",
    "\n",
    "plt.plot(train.y)\n",
    "plt.plot(train.y - train_sim_enc.y)\n",
    "plt.show()\n",
    "print(f'NRMS simulation SS encoder {train_sim_enc.NRMS(train):.2%}')"
   ]
  }
 ],
 "metadata": {
  "kernelspec": {
   "display_name": "cpc",
   "language": "python",
   "name": "python3"
  },
  "language_info": {
   "codemirror_mode": {
    "name": "ipython",
    "version": 3
   },
   "file_extension": ".py",
   "mimetype": "text/x-python",
   "name": "python",
   "nbconvert_exporter": "python",
   "pygments_lexer": "ipython3",
   "version": "3.12.2"
  }
 },
 "nbformat": 4,
 "nbformat_minor": 2
}
