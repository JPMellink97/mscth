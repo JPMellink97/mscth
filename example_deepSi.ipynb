{
 "cells": [
  {
   "cell_type": "code",
   "execution_count": 1,
   "metadata": {},
   "outputs": [
    {
     "name": "stderr",
     "output_type": "stream",
     "text": [
      "c:\\Users\\Joost\\anaconda3\\envs\\test\\Lib\\site-packages\\tqdm\\auto.py:21: TqdmWarning: IProgress not found. Please update jupyter and ipywidgets. See https://ipywidgets.readthedocs.io/en/stable/user_install.html\n",
      "  from .autonotebook import tqdm as notebook_tqdm\n"
     ]
    }
   ],
   "source": [
    "import numpy as np\n",
    "from numpy import genfromtxt\n",
    "import csv\n",
    "import os\n",
    "\n",
    "import pysindy as ps\n",
    "\n",
    "import deepSI\n",
    "from deepSI import System_data\n",
    "\n",
    "import matplotlib.pyplot as plt"
   ]
  },
  {
   "cell_type": "code",
   "execution_count": 2,
   "metadata": {},
   "outputs": [],
   "source": [
    "DATA_PATH = r\"data\\\\\"\n",
    "\n",
    "WIENER = \"WienerHammerBenchmark\"\n",
    "SILVER = \"SNLS80mV\"\n",
    "# change data set\n",
    "DATA = SILVER\n",
    "CSV = \".csv\"\n",
    "\n",
    "PATH = os.path.join(DATA_PATH, DATA+CSV)\n",
    "\n",
    "# load data\n",
    "data = genfromtxt(PATH, delimiter=\",\")"
   ]
  },
  {
   "cell_type": "code",
   "execution_count": 3,
   "metadata": {},
   "outputs": [],
   "source": [
    "# drop nan's may need to be adjusted between data sets\n",
    "mask = ~np.isnan(data)\n",
    "data = data[mask[:,0],:]\n",
    "data = data[:,:-1]"
   ]
  },
  {
   "cell_type": "code",
   "execution_count": 4,
   "metadata": {},
   "outputs": [],
   "source": [
    "import deepSI\n",
    "from deepSI import System_data\n",
    "# system_data = System_data(u=ulist,y=ylist)\n",
    "system_data = System_data(u=data[:,0],y=data[:,1])\n",
    "train, test = system_data[40000:], system_data[:40000]"
   ]
  },
  {
   "cell_type": "code",
   "execution_count": 5,
   "metadata": {},
   "outputs": [
    {
     "name": "stdout",
     "output_type": "stream",
     "text": [
      "Initilizing the model and optimizer\n",
      "Size of the training array =  144.3 MB\n",
      "N_training_samples = 72728, batch_size = 1024, N_batch_updates_per_epoch = 71\n",
      "Initial Validation sim-NRMS= 1.2207913086177522\n"
     ]
    },
    {
     "name": "stderr",
     "output_type": "stream",
     "text": [
      "  1%|          | 1/100 [00:13<21:30, 13.03s/it]"
     ]
    },
    {
     "name": "stdout",
     "output_type": "stream",
     "text": [
      "########## New lowest validation loss achieved ########### sim-NRMS = 0.6416988784328488\n",
      "Epoch    1, sqrt loss  0.7218, Val sim-NRMS 0.6417, Time Loss: 80.4%, data: 0.2%, val: 19.4%,  5.4 batches/sec\n"
     ]
    },
    {
     "name": "stderr",
     "output_type": "stream",
     "text": [
      "  2%|▏         | 2/100 [00:25<21:09, 12.96s/it]"
     ]
    },
    {
     "name": "stdout",
     "output_type": "stream",
     "text": [
      "########## New lowest validation loss achieved ########### sim-NRMS = 0.22479285617462882\n",
      "Epoch    2, sqrt loss   0.296, Val sim-NRMS 0.2248, Time Loss: 80.4%, data: 0.2%, val: 19.4%,  5.5 batches/sec\n"
     ]
    },
    {
     "name": "stderr",
     "output_type": "stream",
     "text": [
      "  3%|▎         | 3/100 [00:38<20:57, 12.96s/it]"
     ]
    },
    {
     "name": "stdout",
     "output_type": "stream",
     "text": [
      "########## New lowest validation loss achieved ########### sim-NRMS = 0.1445983159283253\n",
      "Epoch    3, sqrt loss  0.1596, Val sim-NRMS 0.1446, Time Loss: 80.2%, data: 0.2%, val: 19.6%,  5.5 batches/sec\n"
     ]
    },
    {
     "name": "stderr",
     "output_type": "stream",
     "text": [
      "  4%|▍         | 4/100 [00:51<20:41, 12.93s/it]"
     ]
    },
    {
     "name": "stdout",
     "output_type": "stream",
     "text": [
      "########## New lowest validation loss achieved ########### sim-NRMS = 0.12047756237213433\n",
      "Epoch    4, sqrt loss  0.1201, Val sim-NRMS 0.1205, Time Loss: 80.3%, data: 0.2%, val: 19.5%,  5.5 batches/sec\n"
     ]
    },
    {
     "name": "stderr",
     "output_type": "stream",
     "text": [
      "  5%|▌         | 5/100 [01:04<20:28, 12.93s/it]"
     ]
    },
    {
     "name": "stdout",
     "output_type": "stream",
     "text": [
      "########## New lowest validation loss achieved ########### sim-NRMS = 0.09584439494744526\n",
      "Epoch    5, sqrt loss 0.09623, Val sim-NRMS 0.09584, Time Loss: 80.3%, data: 0.2%, val: 19.5%,  5.5 batches/sec\n"
     ]
    },
    {
     "name": "stderr",
     "output_type": "stream",
     "text": [
      "  6%|▌         | 6/100 [01:17<20:16, 12.94s/it]"
     ]
    },
    {
     "name": "stdout",
     "output_type": "stream",
     "text": [
      "########## New lowest validation loss achieved ########### sim-NRMS = 0.083250339639756\n",
      "Epoch    6, sqrt loss 0.08587, Val sim-NRMS 0.08325, Time Loss: 80.2%, data: 0.2%, val: 19.6%,  5.5 batches/sec\n"
     ]
    },
    {
     "name": "stderr",
     "output_type": "stream",
     "text": [
      "  7%|▋         | 7/100 [01:30<20:03, 12.94s/it]"
     ]
    },
    {
     "name": "stdout",
     "output_type": "stream",
     "text": [
      "########## New lowest validation loss achieved ########### sim-NRMS = 0.07768868522733478\n",
      "Epoch    7, sqrt loss 0.09472, Val sim-NRMS 0.07769, Time Loss: 80.2%, data: 0.2%, val: 19.6%,  5.5 batches/sec\n"
     ]
    },
    {
     "name": "stderr",
     "output_type": "stream",
     "text": [
      "  8%|▊         | 8/100 [01:43<19:51, 12.95s/it]"
     ]
    },
    {
     "name": "stdout",
     "output_type": "stream",
     "text": [
      "########## New lowest validation loss achieved ########### sim-NRMS = 0.06674395119780231\n",
      "Epoch    8, sqrt loss 0.06809, Val sim-NRMS 0.06674, Time Loss: 80.2%, data: 0.2%, val: 19.6%,  5.5 batches/sec\n"
     ]
    },
    {
     "name": "stderr",
     "output_type": "stream",
     "text": [
      "  9%|▉         | 9/100 [01:56<19:36, 12.93s/it]"
     ]
    },
    {
     "name": "stdout",
     "output_type": "stream",
     "text": [
      "Epoch    9, sqrt loss 0.06638, Val sim-NRMS 0.06694, Time Loss: 80.2%, data: 0.2%, val: 19.6%,  5.5 batches/sec\n"
     ]
    },
    {
     "name": "stderr",
     "output_type": "stream",
     "text": [
      " 10%|█         | 10/100 [02:09<19:20, 12.90s/it]"
     ]
    },
    {
     "name": "stdout",
     "output_type": "stream",
     "text": [
      "Epoch   10, sqrt loss   0.065, Val sim-NRMS 0.08342, Time Loss: 80.2%, data: 0.2%, val: 19.6%,  5.5 batches/sec\n"
     ]
    },
    {
     "name": "stderr",
     "output_type": "stream",
     "text": [
      " 11%|█         | 11/100 [02:22<19:08, 12.91s/it]"
     ]
    },
    {
     "name": "stdout",
     "output_type": "stream",
     "text": [
      "########## New lowest validation loss achieved ########### sim-NRMS = 0.054090510160598834\n",
      "Epoch   11, sqrt loss 0.06861, Val sim-NRMS 0.05409, Time Loss: 80.2%, data: 0.2%, val: 19.6%,  5.5 batches/sec\n"
     ]
    },
    {
     "name": "stderr",
     "output_type": "stream",
     "text": [
      " 12%|█▏        | 12/100 [02:35<18:55, 12.91s/it]"
     ]
    },
    {
     "name": "stdout",
     "output_type": "stream",
     "text": [
      "Epoch   12, sqrt loss  0.0582, Val sim-NRMS 0.05492, Time Loss: 80.2%, data: 0.2%, val: 19.6%,  5.5 batches/sec\n"
     ]
    },
    {
     "name": "stderr",
     "output_type": "stream",
     "text": [
      " 13%|█▎        | 13/100 [02:48<18:42, 12.90s/it]"
     ]
    },
    {
     "name": "stdout",
     "output_type": "stream",
     "text": [
      "########## New lowest validation loss achieved ########### sim-NRMS = 0.051881141456317816\n",
      "Epoch   13, sqrt loss 0.05705, Val sim-NRMS 0.05188, Time Loss: 80.2%, data: 0.2%, val: 19.7%,  5.5 batches/sec\n"
     ]
    },
    {
     "name": "stderr",
     "output_type": "stream",
     "text": [
      " 14%|█▍        | 14/100 [03:00<18:28, 12.89s/it]"
     ]
    },
    {
     "name": "stdout",
     "output_type": "stream",
     "text": [
      "########## New lowest validation loss achieved ########### sim-NRMS = 0.045333918743564613\n",
      "Epoch   14, sqrt loss 0.06447, Val sim-NRMS 0.04533, Time Loss: 80.2%, data: 0.2%, val: 19.7%,  5.5 batches/sec\n"
     ]
    },
    {
     "name": "stderr",
     "output_type": "stream",
     "text": [
      " 15%|█▌        | 15/100 [03:13<18:15, 12.89s/it]"
     ]
    },
    {
     "name": "stdout",
     "output_type": "stream",
     "text": [
      "Epoch   15, sqrt loss 0.05457, Val sim-NRMS 0.05259, Time Loss: 80.2%, data: 0.2%, val: 19.7%,  5.5 batches/sec\n"
     ]
    },
    {
     "name": "stderr",
     "output_type": "stream",
     "text": [
      " 16%|█▌        | 16/100 [03:26<18:01, 12.88s/it]"
     ]
    },
    {
     "name": "stdout",
     "output_type": "stream",
     "text": [
      "Epoch   16, sqrt loss 0.05249, Val sim-NRMS 0.05319, Time Loss: 80.2%, data: 0.2%, val: 19.7%,  5.5 batches/sec\n"
     ]
    },
    {
     "name": "stderr",
     "output_type": "stream",
     "text": [
      " 17%|█▋        | 17/100 [03:39<17:48, 12.87s/it]"
     ]
    },
    {
     "name": "stdout",
     "output_type": "stream",
     "text": [
      "########## New lowest validation loss achieved ########### sim-NRMS = 0.04132391793387302\n",
      "Epoch   17, sqrt loss 0.06172, Val sim-NRMS 0.04132, Time Loss: 80.2%, data: 0.2%, val: 19.7%,  5.5 batches/sec\n"
     ]
    },
    {
     "name": "stderr",
     "output_type": "stream",
     "text": [
      " 18%|█▊        | 18/100 [03:52<17:38, 12.90s/it]"
     ]
    },
    {
     "name": "stdout",
     "output_type": "stream",
     "text": [
      "Epoch   18, sqrt loss 0.05171, Val sim-NRMS 0.1211, Time Loss: 80.2%, data: 0.2%, val: 19.6%,  5.5 batches/sec\n"
     ]
    },
    {
     "name": "stderr",
     "output_type": "stream",
     "text": [
      " 19%|█▉        | 19/100 [04:05<17:25, 12.90s/it]"
     ]
    },
    {
     "name": "stdout",
     "output_type": "stream",
     "text": [
      "Epoch   19, sqrt loss 0.05682, Val sim-NRMS 0.06521, Time Loss: 80.2%, data: 0.2%, val: 19.7%,  5.5 batches/sec\n"
     ]
    },
    {
     "name": "stderr",
     "output_type": "stream",
     "text": [
      " 20%|██        | 20/100 [04:18<17:10, 12.88s/it]"
     ]
    },
    {
     "name": "stdout",
     "output_type": "stream",
     "text": [
      "Epoch   20, sqrt loss 0.05151, Val sim-NRMS 0.04227, Time Loss: 80.2%, data: 0.2%, val: 19.6%,  5.5 batches/sec\n"
     ]
    },
    {
     "name": "stderr",
     "output_type": "stream",
     "text": [
      " 21%|██        | 21/100 [04:31<16:57, 12.88s/it]"
     ]
    },
    {
     "name": "stdout",
     "output_type": "stream",
     "text": [
      "Epoch   21, sqrt loss 0.05147, Val sim-NRMS 0.08079, Time Loss: 80.2%, data: 0.2%, val: 19.7%,  5.5 batches/sec\n"
     ]
    },
    {
     "name": "stderr",
     "output_type": "stream",
     "text": [
      " 22%|██▏       | 22/100 [04:43<16:44, 12.87s/it]"
     ]
    },
    {
     "name": "stdout",
     "output_type": "stream",
     "text": [
      "Epoch   22, sqrt loss 0.04899, Val sim-NRMS 0.0449, Time Loss: 80.2%, data: 0.2%, val: 19.7%,  5.5 batches/sec\n"
     ]
    },
    {
     "name": "stderr",
     "output_type": "stream",
     "text": [
      " 23%|██▎       | 23/100 [04:56<16:32, 12.89s/it]"
     ]
    },
    {
     "name": "stdout",
     "output_type": "stream",
     "text": [
      "Epoch   23, sqrt loss 0.05067, Val sim-NRMS 0.07577, Time Loss: 80.2%, data: 0.2%, val: 19.7%,  5.5 batches/sec\n"
     ]
    },
    {
     "name": "stderr",
     "output_type": "stream",
     "text": [
      " 24%|██▍       | 24/100 [05:09<16:19, 12.88s/it]"
     ]
    },
    {
     "name": "stdout",
     "output_type": "stream",
     "text": [
      "Epoch   24, sqrt loss 0.04599, Val sim-NRMS 0.05981, Time Loss: 80.2%, data: 0.2%, val: 19.6%,  5.5 batches/sec\n"
     ]
    },
    {
     "name": "stderr",
     "output_type": "stream",
     "text": [
      " 25%|██▌       | 25/100 [05:22<16:06, 12.89s/it]"
     ]
    },
    {
     "name": "stdout",
     "output_type": "stream",
     "text": [
      "Epoch   25, sqrt loss 0.04517, Val sim-NRMS 0.05652, Time Loss: 80.2%, data: 0.2%, val: 19.6%,  5.5 batches/sec\n"
     ]
    },
    {
     "name": "stderr",
     "output_type": "stream",
     "text": [
      " 26%|██▌       | 26/100 [05:35<15:55, 12.92s/it]"
     ]
    },
    {
     "name": "stdout",
     "output_type": "stream",
     "text": [
      "Epoch   26, sqrt loss 0.05951, Val sim-NRMS 0.0415, Time Loss: 80.2%, data: 0.2%, val: 19.6%,  5.5 batches/sec\n"
     ]
    },
    {
     "name": "stderr",
     "output_type": "stream",
     "text": [
      " 27%|██▋       | 27/100 [05:48<15:44, 12.94s/it]"
     ]
    },
    {
     "name": "stdout",
     "output_type": "stream",
     "text": [
      "Epoch   27, sqrt loss 0.04248, Val sim-NRMS 0.06895, Time Loss: 80.2%, data: 0.2%, val: 19.6%,  5.5 batches/sec\n"
     ]
    },
    {
     "name": "stderr",
     "output_type": "stream",
     "text": [
      " 28%|██▊       | 28/100 [06:01<15:31, 12.94s/it]"
     ]
    },
    {
     "name": "stdout",
     "output_type": "stream",
     "text": [
      "Epoch   28, sqrt loss 0.04957, Val sim-NRMS 0.06263, Time Loss: 80.2%, data: 0.2%, val: 19.6%,  5.5 batches/sec\n"
     ]
    },
    {
     "name": "stderr",
     "output_type": "stream",
     "text": [
      " 29%|██▉       | 29/100 [06:14<15:19, 12.95s/it]"
     ]
    },
    {
     "name": "stdout",
     "output_type": "stream",
     "text": [
      "Epoch   29, sqrt loss 0.04576, Val sim-NRMS 0.04691, Time Loss: 80.2%, data: 0.2%, val: 19.6%,  5.5 batches/sec\n"
     ]
    },
    {
     "name": "stderr",
     "output_type": "stream",
     "text": [
      " 30%|███       | 30/100 [06:27<15:05, 12.93s/it]"
     ]
    },
    {
     "name": "stdout",
     "output_type": "stream",
     "text": [
      "Epoch   30, sqrt loss 0.04642, Val sim-NRMS 0.06144, Time Loss: 80.2%, data: 0.2%, val: 19.6%,  5.5 batches/sec\n"
     ]
    },
    {
     "name": "stderr",
     "output_type": "stream",
     "text": [
      " 31%|███       | 31/100 [06:40<14:50, 12.91s/it]"
     ]
    },
    {
     "name": "stdout",
     "output_type": "stream",
     "text": [
      "Epoch   31, sqrt loss 0.04759, Val sim-NRMS 0.05442, Time Loss: 80.2%, data: 0.2%, val: 19.6%,  5.5 batches/sec\n"
     ]
    },
    {
     "name": "stderr",
     "output_type": "stream",
     "text": [
      " 32%|███▏      | 32/100 [06:53<14:41, 12.97s/it]"
     ]
    },
    {
     "name": "stdout",
     "output_type": "stream",
     "text": [
      "Epoch   32, sqrt loss 0.05176, Val sim-NRMS 0.05403, Time Loss: 80.2%, data: 0.2%, val: 19.6%,  5.5 batches/sec\n"
     ]
    },
    {
     "name": "stderr",
     "output_type": "stream",
     "text": [
      " 33%|███▎      | 33/100 [07:06<14:27, 12.95s/it]"
     ]
    },
    {
     "name": "stdout",
     "output_type": "stream",
     "text": [
      "Epoch   33, sqrt loss 0.04055, Val sim-NRMS 0.05907, Time Loss: 80.2%, data: 0.2%, val: 19.6%,  5.5 batches/sec\n"
     ]
    },
    {
     "name": "stderr",
     "output_type": "stream",
     "text": [
      " 34%|███▍      | 34/100 [07:19<14:14, 12.95s/it]"
     ]
    },
    {
     "name": "stdout",
     "output_type": "stream",
     "text": [
      "Epoch   34, sqrt loss 0.05179, Val sim-NRMS 0.04199, Time Loss: 80.2%, data: 0.2%, val: 19.6%,  5.5 batches/sec\n"
     ]
    },
    {
     "name": "stderr",
     "output_type": "stream",
     "text": [
      " 35%|███▌      | 35/100 [07:32<14:01, 12.95s/it]"
     ]
    },
    {
     "name": "stdout",
     "output_type": "stream",
     "text": [
      "Epoch   35, sqrt loss 0.03639, Val sim-NRMS 0.05857, Time Loss: 80.2%, data: 0.2%, val: 19.6%,  5.5 batches/sec\n"
     ]
    },
    {
     "name": "stderr",
     "output_type": "stream",
     "text": [
      " 36%|███▌      | 36/100 [07:45<13:48, 12.95s/it]"
     ]
    },
    {
     "name": "stdout",
     "output_type": "stream",
     "text": [
      "########## New lowest validation loss achieved ########### sim-NRMS = 0.035199132564134164\n",
      "Epoch   36, sqrt loss 0.06605, Val sim-NRMS 0.0352, Time Loss: 80.2%, data: 0.2%, val: 19.6%,  5.5 batches/sec\n"
     ]
    },
    {
     "name": "stderr",
     "output_type": "stream",
     "text": [
      " 37%|███▋      | 37/100 [07:58<13:34, 12.93s/it]"
     ]
    },
    {
     "name": "stdout",
     "output_type": "stream",
     "text": [
      "Epoch   37, sqrt loss 0.03199, Val sim-NRMS 0.04132, Time Loss: 80.2%, data: 0.2%, val: 19.6%,  5.5 batches/sec\n"
     ]
    },
    {
     "name": "stderr",
     "output_type": "stream",
     "text": [
      " 38%|███▊      | 38/100 [08:10<13:20, 12.91s/it]"
     ]
    },
    {
     "name": "stdout",
     "output_type": "stream",
     "text": [
      "########## New lowest validation loss achieved ########### sim-NRMS = 0.03104032174791467\n",
      "Epoch   38, sqrt loss 0.04558, Val sim-NRMS 0.03104, Time Loss: 80.2%, data: 0.2%, val: 19.6%,  5.5 batches/sec\n"
     ]
    },
    {
     "name": "stderr",
     "output_type": "stream",
     "text": [
      " 39%|███▉      | 39/100 [08:23<13:07, 12.92s/it]"
     ]
    },
    {
     "name": "stdout",
     "output_type": "stream",
     "text": [
      "Epoch   39, sqrt loss 0.03851, Val sim-NRMS 0.03389, Time Loss: 80.2%, data: 0.2%, val: 19.6%,  5.5 batches/sec\n"
     ]
    },
    {
     "name": "stderr",
     "output_type": "stream",
     "text": [
      " 40%|████      | 40/100 [08:36<12:54, 12.91s/it]"
     ]
    },
    {
     "name": "stdout",
     "output_type": "stream",
     "text": [
      "Epoch   40, sqrt loss 0.04635, Val sim-NRMS 0.03231, Time Loss: 80.2%, data: 0.2%, val: 19.6%,  5.5 batches/sec\n"
     ]
    },
    {
     "name": "stderr",
     "output_type": "stream",
     "text": [
      " 41%|████      | 41/100 [08:49<12:41, 12.90s/it]"
     ]
    },
    {
     "name": "stdout",
     "output_type": "stream",
     "text": [
      "Epoch   41, sqrt loss 0.04779, Val sim-NRMS 0.05943, Time Loss: 80.2%, data: 0.2%, val: 19.6%,  5.5 batches/sec\n"
     ]
    },
    {
     "name": "stderr",
     "output_type": "stream",
     "text": [
      " 42%|████▏     | 42/100 [09:02<12:29, 12.92s/it]"
     ]
    },
    {
     "name": "stdout",
     "output_type": "stream",
     "text": [
      "Epoch   42, sqrt loss 0.03849, Val sim-NRMS 0.06244, Time Loss: 80.2%, data: 0.2%, val: 19.6%,  5.5 batches/sec\n"
     ]
    },
    {
     "name": "stderr",
     "output_type": "stream",
     "text": [
      " 43%|████▎     | 43/100 [09:15<12:16, 12.93s/it]"
     ]
    },
    {
     "name": "stdout",
     "output_type": "stream",
     "text": [
      "Epoch   43, sqrt loss 0.04911, Val sim-NRMS 0.03411, Time Loss: 80.2%, data: 0.2%, val: 19.6%,  5.5 batches/sec\n"
     ]
    },
    {
     "name": "stderr",
     "output_type": "stream",
     "text": [
      " 44%|████▍     | 44/100 [09:28<12:03, 12.92s/it]"
     ]
    },
    {
     "name": "stdout",
     "output_type": "stream",
     "text": [
      "Epoch   44, sqrt loss 0.03797, Val sim-NRMS 0.08083, Time Loss: 80.2%, data: 0.2%, val: 19.6%,  5.5 batches/sec\n"
     ]
    },
    {
     "name": "stderr",
     "output_type": "stream",
     "text": [
      " 45%|████▌     | 45/100 [09:41<11:51, 12.93s/it]"
     ]
    },
    {
     "name": "stdout",
     "output_type": "stream",
     "text": [
      "Epoch   45, sqrt loss 0.04735, Val sim-NRMS 0.04853, Time Loss: 80.2%, data: 0.2%, val: 19.6%,  5.5 batches/sec\n"
     ]
    },
    {
     "name": "stderr",
     "output_type": "stream",
     "text": [
      " 46%|████▌     | 46/100 [09:54<11:37, 12.91s/it]"
     ]
    },
    {
     "name": "stdout",
     "output_type": "stream",
     "text": [
      "Epoch   46, sqrt loss 0.03815, Val sim-NRMS 0.03582, Time Loss: 80.2%, data: 0.2%, val: 19.6%,  5.5 batches/sec\n"
     ]
    },
    {
     "name": "stderr",
     "output_type": "stream",
     "text": [
      " 47%|████▋     | 47/100 [10:07<11:25, 12.93s/it]"
     ]
    },
    {
     "name": "stdout",
     "output_type": "stream",
     "text": [
      "Epoch   47, sqrt loss 0.04626, Val sim-NRMS 0.03111, Time Loss: 80.2%, data: 0.2%, val: 19.6%,  5.5 batches/sec\n"
     ]
    },
    {
     "name": "stderr",
     "output_type": "stream",
     "text": [
      " 48%|████▊     | 48/100 [10:20<11:13, 12.95s/it]"
     ]
    },
    {
     "name": "stdout",
     "output_type": "stream",
     "text": [
      "########## New lowest validation loss achieved ########### sim-NRMS = 0.03071904001852748\n",
      "Epoch   48, sqrt loss 0.04215, Val sim-NRMS 0.03072, Time Loss: 80.2%, data: 0.2%, val: 19.6%,  5.5 batches/sec\n"
     ]
    },
    {
     "name": "stderr",
     "output_type": "stream",
     "text": [
      " 49%|████▉     | 49/100 [10:33<11:03, 13.01s/it]"
     ]
    },
    {
     "name": "stdout",
     "output_type": "stream",
     "text": [
      "Epoch   49, sqrt loss 0.04606, Val sim-NRMS 0.07127, Time Loss: 80.2%, data: 0.2%, val: 19.6%,  5.5 batches/sec\n"
     ]
    },
    {
     "name": "stderr",
     "output_type": "stream",
     "text": [
      " 50%|█████     | 50/100 [10:46<10:58, 13.16s/it]"
     ]
    },
    {
     "name": "stdout",
     "output_type": "stream",
     "text": [
      "Epoch   50, sqrt loss 0.04053, Val sim-NRMS 0.0413, Time Loss: 80.3%, data: 0.2%, val: 19.5%,  5.5 batches/sec\n"
     ]
    },
    {
     "name": "stderr",
     "output_type": "stream",
     "text": [
      " 51%|█████     | 51/100 [11:00<10:47, 13.21s/it]"
     ]
    },
    {
     "name": "stdout",
     "output_type": "stream",
     "text": [
      "Epoch   51, sqrt loss 0.04954, Val sim-NRMS   0.04, Time Loss: 80.3%, data: 0.2%, val: 19.5%,  5.5 batches/sec\n"
     ]
    },
    {
     "name": "stderr",
     "output_type": "stream",
     "text": [
      " 52%|█████▏    | 52/100 [11:13<10:29, 13.12s/it]"
     ]
    },
    {
     "name": "stdout",
     "output_type": "stream",
     "text": [
      "Epoch   52, sqrt loss 0.03758, Val sim-NRMS  0.031, Time Loss: 80.3%, data: 0.2%, val: 19.5%,  5.5 batches/sec\n"
     ]
    },
    {
     "name": "stderr",
     "output_type": "stream",
     "text": [
      " 53%|█████▎    | 53/100 [11:26<10:13, 13.06s/it]"
     ]
    },
    {
     "name": "stdout",
     "output_type": "stream",
     "text": [
      "Epoch   53, sqrt loss 0.03852, Val sim-NRMS 0.03371, Time Loss: 80.3%, data: 0.2%, val: 19.5%,  5.5 batches/sec\n"
     ]
    },
    {
     "name": "stderr",
     "output_type": "stream",
     "text": [
      " 54%|█████▍    | 54/100 [11:38<09:58, 13.01s/it]"
     ]
    },
    {
     "name": "stdout",
     "output_type": "stream",
     "text": [
      "Epoch   54, sqrt loss 0.04101, Val sim-NRMS 0.05826, Time Loss: 80.3%, data: 0.2%, val: 19.5%,  5.5 batches/sec\n"
     ]
    },
    {
     "name": "stderr",
     "output_type": "stream",
     "text": [
      " 55%|█████▌    | 55/100 [11:51<09:45, 13.02s/it]"
     ]
    },
    {
     "name": "stdout",
     "output_type": "stream",
     "text": [
      "Epoch   55, sqrt loss  0.0383, Val sim-NRMS 0.04291, Time Loss: 80.3%, data: 0.2%, val: 19.5%,  5.5 batches/sec\n"
     ]
    },
    {
     "name": "stderr",
     "output_type": "stream",
     "text": [
      " 56%|█████▌    | 56/100 [12:04<09:30, 12.97s/it]"
     ]
    },
    {
     "name": "stdout",
     "output_type": "stream",
     "text": [
      "Epoch   56, sqrt loss 0.04946, Val sim-NRMS 0.07216, Time Loss: 80.3%, data: 0.2%, val: 19.5%,  5.5 batches/sec\n"
     ]
    },
    {
     "name": "stderr",
     "output_type": "stream",
     "text": [
      " 57%|█████▋    | 57/100 [12:18<09:24, 13.12s/it]"
     ]
    },
    {
     "name": "stdout",
     "output_type": "stream",
     "text": [
      "Epoch   57, sqrt loss 0.04148, Val sim-NRMS 0.03379, Time Loss: 80.3%, data: 0.2%, val: 19.5%,  5.5 batches/sec\n"
     ]
    },
    {
     "name": "stderr",
     "output_type": "stream",
     "text": [
      " 58%|█████▊    | 58/100 [12:31<09:08, 13.06s/it]"
     ]
    },
    {
     "name": "stdout",
     "output_type": "stream",
     "text": [
      "Epoch   58, sqrt loss 0.03758, Val sim-NRMS 0.06175, Time Loss: 80.3%, data: 0.2%, val: 19.5%,  5.5 batches/sec\n"
     ]
    },
    {
     "name": "stderr",
     "output_type": "stream",
     "text": [
      " 59%|█████▉    | 59/100 [12:44<08:57, 13.12s/it]"
     ]
    },
    {
     "name": "stdout",
     "output_type": "stream",
     "text": [
      "Epoch   59, sqrt loss 0.04671, Val sim-NRMS 0.03117, Time Loss: 80.3%, data: 0.2%, val: 19.5%,  5.5 batches/sec\n"
     ]
    },
    {
     "name": "stderr",
     "output_type": "stream",
     "text": [
      " 60%|██████    | 60/100 [12:57<08:48, 13.20s/it]"
     ]
    },
    {
     "name": "stdout",
     "output_type": "stream",
     "text": [
      "Epoch   60, sqrt loss 0.03498, Val sim-NRMS 0.04874, Time Loss: 80.3%, data: 0.2%, val: 19.5%,  5.5 batches/sec\n"
     ]
    },
    {
     "name": "stderr",
     "output_type": "stream",
     "text": [
      " 61%|██████    | 61/100 [13:11<08:35, 13.21s/it]"
     ]
    },
    {
     "name": "stdout",
     "output_type": "stream",
     "text": [
      "########## New lowest validation loss achieved ########### sim-NRMS = 0.03070356774986307\n",
      "Epoch   61, sqrt loss  0.0466, Val sim-NRMS 0.0307, Time Loss: 80.3%, data: 0.2%, val: 19.5%,  5.5 batches/sec\n"
     ]
    },
    {
     "name": "stderr",
     "output_type": "stream",
     "text": [
      " 62%|██████▏   | 62/100 [13:23<08:18, 13.12s/it]"
     ]
    },
    {
     "name": "stdout",
     "output_type": "stream",
     "text": [
      "Epoch   62, sqrt loss 0.03898, Val sim-NRMS 0.03817, Time Loss: 80.3%, data: 0.2%, val: 19.5%,  5.5 batches/sec\n"
     ]
    },
    {
     "name": "stderr",
     "output_type": "stream",
     "text": [
      " 63%|██████▎   | 63/100 [13:36<08:01, 13.02s/it]"
     ]
    },
    {
     "name": "stdout",
     "output_type": "stream",
     "text": [
      "Epoch   63, sqrt loss 0.04263, Val sim-NRMS 0.05961, Time Loss: 80.3%, data: 0.2%, val: 19.5%,  5.5 batches/sec\n"
     ]
    },
    {
     "name": "stderr",
     "output_type": "stream",
     "text": [
      " 64%|██████▍   | 64/100 [13:49<07:48, 13.01s/it]"
     ]
    },
    {
     "name": "stdout",
     "output_type": "stream",
     "text": [
      "Epoch   64, sqrt loss 0.03759, Val sim-NRMS 0.03997, Time Loss: 80.3%, data: 0.2%, val: 19.5%,  5.5 batches/sec\n"
     ]
    },
    {
     "name": "stderr",
     "output_type": "stream",
     "text": [
      " 65%|██████▌   | 65/100 [14:02<07:34, 12.97s/it]"
     ]
    },
    {
     "name": "stdout",
     "output_type": "stream",
     "text": [
      "Epoch   65, sqrt loss 0.04283, Val sim-NRMS 0.09103, Time Loss: 80.3%, data: 0.2%, val: 19.5%,  5.5 batches/sec\n"
     ]
    },
    {
     "name": "stderr",
     "output_type": "stream",
     "text": [
      " 66%|██████▌   | 66/100 [14:15<07:20, 12.96s/it]"
     ]
    },
    {
     "name": "stdout",
     "output_type": "stream",
     "text": [
      "########## New lowest validation loss achieved ########### sim-NRMS = 0.027846111123241354\n",
      "Epoch   66, sqrt loss 0.04045, Val sim-NRMS 0.02785, Time Loss: 80.3%, data: 0.2%, val: 19.5%,  5.5 batches/sec\n"
     ]
    },
    {
     "name": "stderr",
     "output_type": "stream",
     "text": [
      " 67%|██████▋   | 67/100 [14:28<07:06, 12.92s/it]"
     ]
    },
    {
     "name": "stdout",
     "output_type": "stream",
     "text": [
      "Epoch   67, sqrt loss 0.03623, Val sim-NRMS 0.02869, Time Loss: 80.3%, data: 0.2%, val: 19.5%,  5.5 batches/sec\n"
     ]
    },
    {
     "name": "stderr",
     "output_type": "stream",
     "text": [
      " 68%|██████▊   | 68/100 [14:41<06:53, 12.91s/it]"
     ]
    },
    {
     "name": "stdout",
     "output_type": "stream",
     "text": [
      "Epoch   68, sqrt loss 0.04815, Val sim-NRMS 0.04473, Time Loss: 80.3%, data: 0.2%, val: 19.5%,  5.5 batches/sec\n"
     ]
    },
    {
     "name": "stderr",
     "output_type": "stream",
     "text": [
      " 69%|██████▉   | 69/100 [14:54<06:41, 12.94s/it]"
     ]
    },
    {
     "name": "stdout",
     "output_type": "stream",
     "text": [
      "Epoch   69, sqrt loss 0.03376, Val sim-NRMS 0.0644, Time Loss: 80.3%, data: 0.2%, val: 19.5%,  5.5 batches/sec\n"
     ]
    },
    {
     "name": "stderr",
     "output_type": "stream",
     "text": [
      " 70%|███████   | 70/100 [15:07<06:28, 12.95s/it]"
     ]
    },
    {
     "name": "stdout",
     "output_type": "stream",
     "text": [
      "########## New lowest validation loss achieved ########### sim-NRMS = 0.026912459833425807\n",
      "Epoch   70, sqrt loss 0.04385, Val sim-NRMS 0.02691, Time Loss: 80.3%, data: 0.2%, val: 19.5%,  5.5 batches/sec\n"
     ]
    },
    {
     "name": "stderr",
     "output_type": "stream",
     "text": [
      " 71%|███████   | 71/100 [15:20<06:14, 12.91s/it]"
     ]
    },
    {
     "name": "stdout",
     "output_type": "stream",
     "text": [
      "Epoch   71, sqrt loss 0.04028, Val sim-NRMS 0.04443, Time Loss: 80.3%, data: 0.2%, val: 19.5%,  5.5 batches/sec\n"
     ]
    },
    {
     "name": "stderr",
     "output_type": "stream",
     "text": [
      " 72%|███████▏  | 72/100 [15:32<06:01, 12.90s/it]"
     ]
    },
    {
     "name": "stdout",
     "output_type": "stream",
     "text": [
      "Epoch   72, sqrt loss 0.04127, Val sim-NRMS 0.08057, Time Loss: 80.3%, data: 0.2%, val: 19.5%,  5.5 batches/sec\n"
     ]
    },
    {
     "name": "stderr",
     "output_type": "stream",
     "text": [
      " 73%|███████▎  | 73/100 [15:45<05:48, 12.89s/it]"
     ]
    },
    {
     "name": "stdout",
     "output_type": "stream",
     "text": [
      "Epoch   73, sqrt loss 0.04024, Val sim-NRMS 0.03117, Time Loss: 80.3%, data: 0.2%, val: 19.5%,  5.5 batches/sec\n"
     ]
    },
    {
     "name": "stderr",
     "output_type": "stream",
     "text": [
      " 74%|███████▍  | 74/100 [15:58<05:36, 12.94s/it]"
     ]
    },
    {
     "name": "stdout",
     "output_type": "stream",
     "text": [
      "Epoch   74, sqrt loss 0.03568, Val sim-NRMS 0.02705, Time Loss: 80.3%, data: 0.2%, val: 19.5%,  5.5 batches/sec\n"
     ]
    },
    {
     "name": "stderr",
     "output_type": "stream",
     "text": [
      " 75%|███████▌  | 75/100 [16:11<05:22, 12.91s/it]"
     ]
    },
    {
     "name": "stdout",
     "output_type": "stream",
     "text": [
      "Epoch   75, sqrt loss 0.04206, Val sim-NRMS 0.05002, Time Loss: 80.3%, data: 0.2%, val: 19.5%,  5.5 batches/sec\n"
     ]
    },
    {
     "name": "stderr",
     "output_type": "stream",
     "text": [
      " 76%|███████▌  | 76/100 [16:24<05:10, 12.93s/it]"
     ]
    },
    {
     "name": "stdout",
     "output_type": "stream",
     "text": [
      "Epoch   76, sqrt loss 0.04281, Val sim-NRMS 0.0519, Time Loss: 80.3%, data: 0.2%, val: 19.5%,  5.5 batches/sec\n"
     ]
    },
    {
     "name": "stderr",
     "output_type": "stream",
     "text": [
      " 77%|███████▋  | 77/100 [16:37<04:56, 12.90s/it]"
     ]
    },
    {
     "name": "stdout",
     "output_type": "stream",
     "text": [
      "Epoch   77, sqrt loss 0.03184, Val sim-NRMS 0.03644, Time Loss: 80.3%, data: 0.2%, val: 19.5%,  5.5 batches/sec\n"
     ]
    },
    {
     "name": "stderr",
     "output_type": "stream",
     "text": [
      " 78%|███████▊  | 78/100 [16:50<04:43, 12.90s/it]"
     ]
    },
    {
     "name": "stdout",
     "output_type": "stream",
     "text": [
      "Epoch   78, sqrt loss  0.0465, Val sim-NRMS 0.1374, Time Loss: 80.3%, data: 0.2%, val: 19.5%,  5.5 batches/sec\n"
     ]
    },
    {
     "name": "stderr",
     "output_type": "stream",
     "text": [
      " 79%|███████▉  | 79/100 [17:03<04:34, 13.08s/it]"
     ]
    },
    {
     "name": "stdout",
     "output_type": "stream",
     "text": [
      "Epoch   79, sqrt loss 0.04429, Val sim-NRMS 0.02911, Time Loss: 80.3%, data: 0.2%, val: 19.5%,  5.5 batches/sec\n"
     ]
    },
    {
     "name": "stderr",
     "output_type": "stream",
     "text": [
      " 80%|████████  | 80/100 [17:17<04:23, 13.16s/it]"
     ]
    },
    {
     "name": "stdout",
     "output_type": "stream",
     "text": [
      "Epoch   80, sqrt loss 0.03097, Val sim-NRMS 0.03479, Time Loss: 80.3%, data: 0.2%, val: 19.5%,  5.5 batches/sec\n"
     ]
    },
    {
     "name": "stderr",
     "output_type": "stream",
     "text": [
      " 81%|████████  | 81/100 [17:30<04:11, 13.22s/it]"
     ]
    },
    {
     "name": "stdout",
     "output_type": "stream",
     "text": [
      "Epoch   81, sqrt loss 0.04042, Val sim-NRMS 0.03886, Time Loss: 80.3%, data: 0.2%, val: 19.5%,  5.5 batches/sec\n"
     ]
    },
    {
     "name": "stderr",
     "output_type": "stream",
     "text": [
      " 82%|████████▏ | 82/100 [17:43<03:56, 13.15s/it]"
     ]
    },
    {
     "name": "stdout",
     "output_type": "stream",
     "text": [
      "Epoch   82, sqrt loss 0.03916, Val sim-NRMS 0.05204, Time Loss: 80.3%, data: 0.2%, val: 19.5%,  5.5 batches/sec\n"
     ]
    },
    {
     "name": "stderr",
     "output_type": "stream",
     "text": [
      " 83%|████████▎ | 83/100 [17:56<03:43, 13.13s/it]"
     ]
    },
    {
     "name": "stdout",
     "output_type": "stream",
     "text": [
      "Epoch   83, sqrt loss 0.03941, Val sim-NRMS 0.03721, Time Loss: 80.3%, data: 0.2%, val: 19.5%,  5.5 batches/sec\n"
     ]
    },
    {
     "name": "stderr",
     "output_type": "stream",
     "text": [
      " 84%|████████▍ | 84/100 [18:09<03:29, 13.11s/it]"
     ]
    },
    {
     "name": "stdout",
     "output_type": "stream",
     "text": [
      "Epoch   84, sqrt loss 0.03681, Val sim-NRMS 0.02961, Time Loss: 80.3%, data: 0.2%, val: 19.5%,  5.5 batches/sec\n"
     ]
    },
    {
     "name": "stderr",
     "output_type": "stream",
     "text": [
      " 85%|████████▌ | 85/100 [18:22<03:15, 13.04s/it]"
     ]
    },
    {
     "name": "stdout",
     "output_type": "stream",
     "text": [
      "Epoch   85, sqrt loss 0.04437, Val sim-NRMS 0.03743, Time Loss: 80.3%, data: 0.2%, val: 19.5%,  5.5 batches/sec\n"
     ]
    },
    {
     "name": "stderr",
     "output_type": "stream",
     "text": [
      " 86%|████████▌ | 86/100 [18:35<03:01, 12.97s/it]"
     ]
    },
    {
     "name": "stdout",
     "output_type": "stream",
     "text": [
      "Epoch   86, sqrt loss 0.03729, Val sim-NRMS 0.03871, Time Loss: 80.3%, data: 0.2%, val: 19.5%,  5.5 batches/sec\n"
     ]
    },
    {
     "name": "stderr",
     "output_type": "stream",
     "text": [
      " 87%|████████▋ | 87/100 [18:48<02:48, 12.94s/it]"
     ]
    },
    {
     "name": "stdout",
     "output_type": "stream",
     "text": [
      "Epoch   87, sqrt loss 0.03987, Val sim-NRMS 0.02945, Time Loss: 80.3%, data: 0.2%, val: 19.5%,  5.5 batches/sec\n"
     ]
    },
    {
     "name": "stderr",
     "output_type": "stream",
     "text": [
      " 88%|████████▊ | 88/100 [19:01<02:36, 13.02s/it]"
     ]
    },
    {
     "name": "stdout",
     "output_type": "stream",
     "text": [
      "Epoch   88, sqrt loss  0.0369, Val sim-NRMS 0.03186, Time Loss: 80.3%, data: 0.2%, val: 19.5%,  5.5 batches/sec\n"
     ]
    },
    {
     "name": "stderr",
     "output_type": "stream",
     "text": [
      " 89%|████████▉ | 89/100 [19:15<02:26, 13.28s/it]"
     ]
    },
    {
     "name": "stdout",
     "output_type": "stream",
     "text": [
      "########## New lowest validation loss achieved ########### sim-NRMS = 0.026598261691006143\n",
      "Epoch   89, sqrt loss 0.04141, Val sim-NRMS 0.0266, Time Loss: 80.3%, data: 0.2%, val: 19.5%,  5.5 batches/sec\n"
     ]
    },
    {
     "name": "stderr",
     "output_type": "stream",
     "text": [
      " 90%|█████████ | 90/100 [19:28<02:12, 13.27s/it]"
     ]
    },
    {
     "name": "stdout",
     "output_type": "stream",
     "text": [
      "Epoch   90, sqrt loss 0.03428, Val sim-NRMS 0.08503, Time Loss: 80.3%, data: 0.2%, val: 19.5%,  5.5 batches/sec\n"
     ]
    },
    {
     "name": "stderr",
     "output_type": "stream",
     "text": [
      " 91%|█████████ | 91/100 [19:42<02:01, 13.47s/it]"
     ]
    },
    {
     "name": "stdout",
     "output_type": "stream",
     "text": [
      "Epoch   91, sqrt loss 0.05053, Val sim-NRMS 0.02683, Time Loss: 80.3%, data: 0.2%, val: 19.5%,  5.5 batches/sec\n"
     ]
    },
    {
     "name": "stderr",
     "output_type": "stream",
     "text": [
      " 92%|█████████▏| 92/100 [19:56<01:49, 13.65s/it]"
     ]
    },
    {
     "name": "stdout",
     "output_type": "stream",
     "text": [
      "Epoch   92, sqrt loss 0.02807, Val sim-NRMS 0.02709, Time Loss: 80.3%, data: 0.2%, val: 19.5%,  5.5 batches/sec\n"
     ]
    },
    {
     "name": "stderr",
     "output_type": "stream",
     "text": [
      " 93%|█████████▎| 93/100 [20:10<01:35, 13.61s/it]"
     ]
    },
    {
     "name": "stdout",
     "output_type": "stream",
     "text": [
      "Epoch   93, sqrt loss 0.03523, Val sim-NRMS 0.03089, Time Loss: 80.3%, data: 0.2%, val: 19.5%,  5.5 batches/sec\n"
     ]
    },
    {
     "name": "stderr",
     "output_type": "stream",
     "text": [
      " 94%|█████████▍| 94/100 [20:23<01:21, 13.58s/it]"
     ]
    },
    {
     "name": "stdout",
     "output_type": "stream",
     "text": [
      "Epoch   94, sqrt loss 0.04286, Val sim-NRMS 0.02989, Time Loss: 80.3%, data: 0.2%, val: 19.5%,  5.5 batches/sec\n"
     ]
    },
    {
     "name": "stderr",
     "output_type": "stream",
     "text": [
      " 95%|█████████▌| 95/100 [20:37<01:07, 13.54s/it]"
     ]
    },
    {
     "name": "stdout",
     "output_type": "stream",
     "text": [
      "Epoch   95, sqrt loss 0.04363, Val sim-NRMS 0.04774, Time Loss: 80.3%, data: 0.2%, val: 19.5%,  5.5 batches/sec\n"
     ]
    },
    {
     "name": "stderr",
     "output_type": "stream",
     "text": [
      " 96%|█████████▌| 96/100 [20:50<00:54, 13.52s/it]"
     ]
    },
    {
     "name": "stdout",
     "output_type": "stream",
     "text": [
      "Epoch   96, sqrt loss 0.02976, Val sim-NRMS 0.03698, Time Loss: 80.3%, data: 0.2%, val: 19.5%,  5.5 batches/sec\n"
     ]
    },
    {
     "name": "stderr",
     "output_type": "stream",
     "text": [
      " 97%|█████████▋| 97/100 [21:04<00:40, 13.54s/it]"
     ]
    },
    {
     "name": "stdout",
     "output_type": "stream",
     "text": [
      "Epoch   97, sqrt loss  0.0375, Val sim-NRMS 0.04252, Time Loss: 80.3%, data: 0.2%, val: 19.5%,  5.4 batches/sec\n"
     ]
    },
    {
     "name": "stderr",
     "output_type": "stream",
     "text": [
      " 98%|█████████▊| 98/100 [21:17<00:27, 13.51s/it]"
     ]
    },
    {
     "name": "stdout",
     "output_type": "stream",
     "text": [
      "Epoch   98, sqrt loss   0.035, Val sim-NRMS 0.02811, Time Loss: 80.4%, data: 0.2%, val: 19.5%,  5.4 batches/sec\n"
     ]
    },
    {
     "name": "stderr",
     "output_type": "stream",
     "text": [
      " 99%|█████████▉| 99/100 [21:31<00:13, 13.47s/it]"
     ]
    },
    {
     "name": "stdout",
     "output_type": "stream",
     "text": [
      "Epoch   99, sqrt loss 0.04158, Val sim-NRMS 0.03839, Time Loss: 80.4%, data: 0.2%, val: 19.5%,  5.4 batches/sec\n"
     ]
    },
    {
     "name": "stderr",
     "output_type": "stream",
     "text": [
      "100%|██████████| 100/100 [21:44<00:00, 13.05s/it]"
     ]
    },
    {
     "name": "stdout",
     "output_type": "stream",
     "text": [
      "Epoch  100, sqrt loss 0.04114, Val sim-NRMS 0.0312, Time Loss: 80.4%, data: 0.2%, val: 19.5%,  5.4 batches/sec\n",
      "Loaded model with best known validation sim-NRMS of 0.0266 which happened on epoch 89 (epoch_id=89.00)\n"
     ]
    },
    {
     "name": "stderr",
     "output_type": "stream",
     "text": [
      "\n"
     ]
    }
   ],
   "source": [
    "fit_sys_ss_enc = deepSI.fit_systems.SS_encoder(nx=2, na=50, nb=50) #state dimention = 6, past outputs = 3, past inputs = 3.\n",
    "train_enc, val_enc = train.train_test_split(split_fraction=0.2)\n",
    "\n",
    "#Start fitting\n",
    "fit_sys_ss_enc.fit(train_sys_data=train_enc, val_sys_data=val_enc, \\\n",
    "                   epochs=100, batch_size=1024, loss_kwargs={'nf':80}) #nf is T in paper"
   ]
  },
  {
   "cell_type": "code",
   "execution_count": 6,
   "metadata": {},
   "outputs": [
    {
     "name": "stdout",
     "output_type": "stream",
     "text": [
      "simple_res_net(\n",
      "  (net_lin): Linear(in_features=3, out_features=2, bias=True)\n",
      "  (net_non_lin): feed_forward_nn(\n",
      "    (net): Sequential(\n",
      "      (0): Linear(in_features=3, out_features=64, bias=True)\n",
      "      (1): Tanh()\n",
      "      (2): Linear(in_features=64, out_features=64, bias=True)\n",
      "      (3): Tanh()\n",
      "      (4): Linear(in_features=64, out_features=2, bias=True)\n",
      "    )\n",
      "  )\n",
      ")\n",
      "simple_res_net(\n",
      "  (net_lin): Linear(in_features=2, out_features=1, bias=True)\n",
      "  (net_non_lin): feed_forward_nn(\n",
      "    (net): Sequential(\n",
      "      (0): Linear(in_features=2, out_features=64, bias=True)\n",
      "      (1): Tanh()\n",
      "      (2): Linear(in_features=64, out_features=64, bias=True)\n",
      "      (3): Tanh()\n",
      "      (4): Linear(in_features=64, out_features=1, bias=True)\n",
      "    )\n",
      "  )\n",
      ")\n",
      "simple_res_net(\n",
      "  (net_lin): Linear(in_features=100, out_features=2, bias=True)\n",
      "  (net_non_lin): feed_forward_nn(\n",
      "    (net): Sequential(\n",
      "      (0): Linear(in_features=100, out_features=64, bias=True)\n",
      "      (1): Tanh()\n",
      "      (2): Linear(in_features=64, out_features=64, bias=True)\n",
      "      (3): Tanh()\n",
      "      (4): Linear(in_features=64, out_features=2, bias=True)\n",
      "    )\n",
      "  )\n",
      ")\n"
     ]
    }
   ],
   "source": [
    "print(fit_sys_ss_enc.fn) #state network x_t+1 = f([x,u])\n",
    "print(fit_sys_ss_enc.hn) #output network y_t = h(x_t)\n",
    "print(fit_sys_ss_enc.encoder) #encoder network x_t = psi([upast, ypast])"
   ]
  },
  {
   "cell_type": "code",
   "execution_count": 7,
   "metadata": {},
   "outputs": [
    {
     "data": {
      "image/png": "[encoded data removed]",
      "text/plain": [
       "<Figure size 640x480 with 1 Axes>"
      ]
     },
     "metadata": {},
     "output_type": "display_data"
    },
    {
     "name": "stdout",
     "output_type": "stream",
     "text": [
      "NRMS simulation SS encoder 6.27%\n"
     ]
    }
   ],
   "source": [
    "test_sim_enc = fit_sys_ss_enc.apply_experiment(test)\n",
    "\n",
    "plt.plot(test.y)\n",
    "plt.plot(test.y - test_sim_enc.y)\n",
    "plt.show()\n",
    "print(f'NRMS simulation SS encoder {test_sim_enc.NRMS(test):.2%}')"
   ]
  },
  {
   "cell_type": "code",
   "execution_count": 8,
   "metadata": {},
   "outputs": [
    {
     "data": {
      "image/png": "[encoded data removed]",
      "text/plain": [
       "<Figure size 640x480 with 1 Axes>"
      ]
     },
     "metadata": {},
     "output_type": "display_data"
    },
    {
     "name": "stdout",
     "output_type": "stream",
     "text": [
      "NRMS simulation SS encoder 2.60%\n"
     ]
    }
   ],
   "source": [
    "train_sim_enc = fit_sys_ss_enc.apply_experiment(train)\n",
    "\n",
    "plt.plot(train.y)\n",
    "plt.plot(train.y - train_sim_enc.y)\n",
    "plt.show()\n",
    "print(f'NRMS simulation SS encoder {train_sim_enc.NRMS(train):.2%}')"
   ]
  }
 ],
 "metadata": {
  "kernelspec": {
   "display_name": "cpc",
   "language": "python",
   "name": "python3"
  },
  "language_info": {
   "codemirror_mode": {
    "name": "ipython",
    "version": 3
   },
   "file_extension": ".py",
   "mimetype": "text/x-python",
   "name": "python",
   "nbconvert_exporter": "python",
   "pygments_lexer": "ipython3",
   "version": "3.12.2"
  }
 },
 "nbformat": 4,
 "nbformat_minor": 2
}
