{
 "cells": [
  {
   "cell_type": "code",
   "execution_count": 1,
   "metadata": {},
   "outputs": [
    {
     "name": "stderr",
     "output_type": "stream",
     "text": [
      "c:\\Users\\Joost\\anaconda3\\envs\\test\\Lib\\site-packages\\tqdm\\auto.py:21: TqdmWarning: IProgress not found. Please update jupyter and ipywidgets. See https://ipywidgets.readthedocs.io/en/stable/user_install.html\n",
      "  from .autonotebook import tqdm as notebook_tqdm\n"
     ]
    }
   ],
   "source": [
    "import pysindy as ps\n",
    "\n",
    "import deepSI\n",
    "from deepSI import System_data\n",
    "from deepSI.fit_systems import SS_encoder_general\n",
    "from deepSI.fit_systems.encoders import default_encoder_net, default_state_net, default_output_net\n",
    "from deepSI.fit_systems.fit_system import My_Simple_DataLoader, print_array_byte_size, Tictoctimer\n",
    "import torch\n",
    "from torch import nn\n",
    "\n",
    "import numpy as np\n",
    "\n",
    "from sklearn.preprocessing import PolynomialFeatures\n",
    "\n",
    "from scipy.io import loadmat\n",
    "import scipy.linalg as lin\n",
    "import os\n",
    "\n",
    "from utils import load_data\n",
    "from data_processing import add_gaussian_noise\n",
    "\n",
    "import matplotlib.pyplot as plt\n",
    "\n",
    "from torch.utils.data import Dataset, DataLoader\n",
    "from tqdm.auto import tqdm\n",
    "import time\n",
    "from copy import deepcopy\n",
    "import itertools\n",
    "\n",
    "import re\n",
    "\n",
    "from feature_construction import feature_library\n",
    "import polynomial as p\n",
    "import fourier as f\n",
    "\n",
    "from SI_SUBNET import SS_encoder_general_eq, h_identity, e_identity, simple_Linear\n",
    "from SI_metrics import plot_coeff_grid, display_equation\n",
    "from run_SISUBNET import run_SISUBNET\n",
    "\n",
    "import random\n",
    "import string\n",
    "\n",
    "from scipy.io import loadmat, savemat\n",
    "import json\n",
    "import pickle"
   ]
  },
  {
   "cell_type": "code",
   "execution_count": 2,
   "metadata": {},
   "outputs": [],
   "source": [
    "nf = [1, 5, 10, 25, 50]\n",
    "gamma = 2e-3\n",
    "epo_idx = 300/10\n",
    "\n",
    "pruning = True\n",
    "mode = None\n",
    "T_idx = None\n",
    "\n",
    "batch_size = 256\n",
    "epochs = 300\n",
    "no_reg_epochs = 100\n",
    "pre_train = True\n",
    "\n",
    "threshold = 1e-3"
   ]
  },
  {
   "cell_type": "code",
   "execution_count": 3,
   "metadata": {},
   "outputs": [
    {
     "name": "stdout",
     "output_type": "stream",
     "text": [
      "Data loaded from sc_arrow_noisy!\n"
     ]
    }
   ],
   "source": [
    "data_set_name=\"sc_arrow_noisy\"\n",
    "x_data, u_data, y_data, eq, T, U, set_idx = load_data(set=data_set_name)\n",
    "[N_arrow, N_train, N_val, N_test] = set_idx[0]\n",
    "\n",
    "if T is None:\n",
    "    T = np.eye(x_data.shape[-1])\n",
    "if U is None:\n",
    "    U = np.eye(u_data.shape[-1])\n",
    "\n",
    "# data organizing\n",
    "x_arrow, u_arrow = x_data[:N_arrow], u_data[:N_arrow,0]\n",
    "x_train, u_train = x_data[N_arrow:N_arrow+N_train-N_val,:], u_data[N_arrow:N_arrow+N_train-N_val,0]\n",
    "x_val, u_val     = x_data[N_arrow+N_train-N_val:-N_test,:], u_data[N_arrow+N_train-N_val:-N_test,0]\n",
    "x_test, u_test   = x_data[-N_test:,:], u_data[-N_test:]\n",
    "\n",
    "# system data\n",
    "arrow   = System_data(u=u_arrow, y=x_arrow)\n",
    "train   = System_data(u=u_train, y=x_train)\n",
    "val     = System_data(u=u_val[:1000], y=x_val[:1000,:])\n",
    "test    = System_data(u=u_test, y=x_test)\n",
    "\n",
    "# function lib\n",
    "functions = [p.f, f.sin, f.cos, f.sin2x, f.cos2x, f.sin3x, f.cos3x, f.sin4x, f.cos4x, f.sin5x, f.cos5x]\n",
    "            #  f.sin11x, f.cos11x, f.sin12x, f.cos12x, f.sin13x, f.cos13x, f.sin14x, f.cos14x, f.sin15x, f.cos15x, f.sin16x, f.cos16x, f.sin17x, f.cos17x, f.sin18x, f.cos18x, f.sin19x, f.cos19x, f.sin20x, f.cos20x]\n",
    "poly = feature_library(functions=functions, nx=2, nu=1, T=T, U=U)\n",
    "\n",
    "# network param\n",
    "nx, nu = 2, 1 # state dimension and inputs\n",
    "na, nb = 0, 0\n",
    "na_right = 1\n",
    "\n",
    "f_net_kwargs = {\"feature_library\": poly, \"u\": nu, \"nf\": poly.feature_number()}\n",
    "\n",
    "# output model\n",
    "h_net = h_identity\n",
    "h_net_kwargs = {}\n",
    "\n",
    "# encoder model\n",
    "e_net = e_identity\n",
    "e_net_kwargs = {}"
   ]
  },
  {
   "cell_type": "code",
   "execution_count": 4,
   "metadata": {},
   "outputs": [],
   "source": [
    "def convert_float_to_string(number):\n",
    "    coefficient, exponent = f\"{number:.1e}\".split('e')\n",
    "    return f\"{int(float(coefficient))}em{-int(exponent)}\""
   ]
  },
  {
   "cell_type": "code",
   "execution_count": 5,
   "metadata": {},
   "outputs": [
    {
     "name": "stdout",
     "output_type": "stream",
     "text": [
      "nftest_org_v250\n",
      "start\n",
      "Initilizing the model and optimizer\n",
      "Size of the training array =  11.0 MB\n",
      "N_training_samples = 179999, batch_size = 4096, N_batch_updates_per_epoch = 43\n",
      "Initial Validation sim-NRMS= 2.7296694971638233\n"
     ]
    },
    {
     "name": "stderr",
     "output_type": "stream",
     "text": [
      "  1%|          | 1/100 [00:01<02:27,  1.49s/it]"
     ]
    },
    {
     "name": "stdout",
     "output_type": "stream",
     "text": [
      "########## New lowest validation loss achieved ########### sim-NRMS = 1.9136788925153354\n",
      "Epoch    1, sqrt loss  0.2099, Val sim-NRMS  1.914, Time Loss: 19.8%, data: 0.9%, val: 79.3%, 28.9 batches/sec\n"
     ]
    },
    {
     "name": "stderr",
     "output_type": "stream",
     "text": [
      "  2%|▏         | 2/100 [00:02<02:26,  1.50s/it]"
     ]
    },
    {
     "name": "stdout",
     "output_type": "stream",
     "text": [
      "########## New lowest validation loss achieved ########### sim-NRMS = 1.3967043597972228\n",
      "Epoch    2, sqrt loss  0.1352, Val sim-NRMS  1.397, Time Loss: 19.8%, data: 1.0%, val: 79.2%, 28.7 batches/sec\n"
     ]
    },
    {
     "name": "stderr",
     "output_type": "stream",
     "text": [
      "  3%|▎         | 3/100 [00:04<02:25,  1.50s/it]"
     ]
    },
    {
     "name": "stdout",
     "output_type": "stream",
     "text": [
      "########## New lowest validation loss achieved ########### sim-NRMS = 1.0060521324989513\n",
      "Epoch    3, sqrt loss 0.09372, Val sim-NRMS  1.006, Time Loss: 20.0%, data: 1.0%, val: 79.0%, 28.7 batches/sec\n"
     ]
    },
    {
     "name": "stderr",
     "output_type": "stream",
     "text": [
      "  4%|▍         | 4/100 [00:06<02:24,  1.51s/it]"
     ]
    },
    {
     "name": "stdout",
     "output_type": "stream",
     "text": [
      "########## New lowest validation loss achieved ########### sim-NRMS = 0.800770353880572\n",
      "Epoch    4, sqrt loss 0.07176, Val sim-NRMS 0.8008, Time Loss: 20.1%, data: 1.0%, val: 78.9%, 28.6 batches/sec\n"
     ]
    },
    {
     "name": "stderr",
     "output_type": "stream",
     "text": [
      "  5%|▌         | 5/100 [00:07<02:23,  1.51s/it]"
     ]
    },
    {
     "name": "stdout",
     "output_type": "stream",
     "text": [
      "########## New lowest validation loss achieved ########### sim-NRMS = 0.7064913156458383\n",
      "Epoch    5, sqrt loss 0.05975, Val sim-NRMS 0.7065, Time Loss: 20.0%, data: 1.0%, val: 78.9%, 28.6 batches/sec\n"
     ]
    },
    {
     "name": "stderr",
     "output_type": "stream",
     "text": [
      "  6%|▌         | 6/100 [00:09<02:20,  1.50s/it]"
     ]
    },
    {
     "name": "stdout",
     "output_type": "stream",
     "text": [
      "########## New lowest validation loss achieved ########### sim-NRMS = 0.6535242069574141\n",
      "Epoch    6, sqrt loss 0.05245, Val sim-NRMS 0.6535, Time Loss: 20.1%, data: 1.0%, val: 79.0%, 28.6 batches/sec\n"
     ]
    },
    {
     "name": "stderr",
     "output_type": "stream",
     "text": [
      "  7%|▋         | 7/100 [00:10<02:19,  1.50s/it]"
     ]
    },
    {
     "name": "stdout",
     "output_type": "stream",
     "text": [
      "########## New lowest validation loss achieved ########### sim-NRMS = 0.6242024213306532\n",
      "Epoch    7, sqrt loss 0.04764, Val sim-NRMS 0.6242, Time Loss: 20.2%, data: 0.9%, val: 78.9%, 28.6 batches/sec\n"
     ]
    },
    {
     "name": "stderr",
     "output_type": "stream",
     "text": [
      "  8%|▊         | 8/100 [00:12<02:18,  1.51s/it]"
     ]
    },
    {
     "name": "stdout",
     "output_type": "stream",
     "text": [
      "########## New lowest validation loss achieved ########### sim-NRMS = 0.6034255142222309\n",
      "Epoch    8, sqrt loss 0.04406, Val sim-NRMS 0.6034, Time Loss: 20.3%, data: 1.0%, val: 78.7%, 28.6 batches/sec\n"
     ]
    },
    {
     "name": "stderr",
     "output_type": "stream",
     "text": [
      "  9%|▉         | 9/100 [00:13<02:17,  1.51s/it]"
     ]
    },
    {
     "name": "stdout",
     "output_type": "stream",
     "text": [
      "########## New lowest validation loss achieved ########### sim-NRMS = 0.5868266866454648\n",
      "Epoch    9, sqrt loss 0.04125, Val sim-NRMS 0.5868, Time Loss: 20.3%, data: 1.0%, val: 78.7%, 28.6 batches/sec\n"
     ]
    },
    {
     "name": "stderr",
     "output_type": "stream",
     "text": [
      " 10%|█         | 10/100 [00:15<02:15,  1.50s/it]"
     ]
    },
    {
     "name": "stdout",
     "output_type": "stream",
     "text": [
      "########## New lowest validation loss achieved ########### sim-NRMS = 0.5682971015107214\n",
      "Epoch   10, sqrt loss 0.03884, Val sim-NRMS 0.5683, Time Loss: 20.3%, data: 0.9%, val: 78.7%, 28.6 batches/sec\n"
     ]
    },
    {
     "name": "stderr",
     "output_type": "stream",
     "text": [
      " 11%|█         | 11/100 [00:16<02:13,  1.50s/it]"
     ]
    },
    {
     "name": "stdout",
     "output_type": "stream",
     "text": [
      "########## New lowest validation loss achieved ########### sim-NRMS = 0.5565696270296819\n",
      "Epoch   11, sqrt loss 0.03672, Val sim-NRMS 0.5566, Time Loss: 20.3%, data: 1.0%, val: 78.8%, 28.6 batches/sec\n"
     ]
    },
    {
     "name": "stderr",
     "output_type": "stream",
     "text": [
      " 12%|█▏        | 12/100 [00:18<02:11,  1.49s/it]"
     ]
    },
    {
     "name": "stdout",
     "output_type": "stream",
     "text": [
      "########## New lowest validation loss achieved ########### sim-NRMS = 0.5436049602725912\n",
      "Epoch   12, sqrt loss 0.03481, Val sim-NRMS 0.5436, Time Loss: 20.2%, data: 1.0%, val: 78.8%, 28.6 batches/sec\n"
     ]
    },
    {
     "name": "stderr",
     "output_type": "stream",
     "text": [
      " 13%|█▎        | 13/100 [00:19<02:10,  1.50s/it]"
     ]
    },
    {
     "name": "stdout",
     "output_type": "stream",
     "text": [
      "########## New lowest validation loss achieved ########### sim-NRMS = 0.5318927184426879\n",
      "Epoch   13, sqrt loss 0.03305, Val sim-NRMS 0.5319, Time Loss: 20.2%, data: 0.9%, val: 78.8%, 28.7 batches/sec\n"
     ]
    },
    {
     "name": "stderr",
     "output_type": "stream",
     "text": [
      " 14%|█▍        | 14/100 [00:20<02:08,  1.49s/it]"
     ]
    },
    {
     "name": "stdout",
     "output_type": "stream",
     "text": [
      "########## New lowest validation loss achieved ########### sim-NRMS = 0.5165795030096612\n",
      "Epoch   14, sqrt loss 0.03137, Val sim-NRMS 0.5166, Time Loss: 20.2%, data: 0.9%, val: 78.9%, 28.7 batches/sec\n"
     ]
    },
    {
     "name": "stderr",
     "output_type": "stream",
     "text": [
      " 15%|█▌        | 15/100 [00:22<02:06,  1.49s/it]"
     ]
    },
    {
     "name": "stdout",
     "output_type": "stream",
     "text": [
      "########## New lowest validation loss achieved ########### sim-NRMS = 0.5066503331348773\n",
      "Epoch   15, sqrt loss 0.02986, Val sim-NRMS 0.5067, Time Loss: 20.2%, data: 0.9%, val: 78.9%, 28.7 batches/sec\n"
     ]
    },
    {
     "name": "stderr",
     "output_type": "stream",
     "text": [
      " 16%|█▌        | 16/100 [00:23<02:05,  1.49s/it]"
     ]
    },
    {
     "name": "stdout",
     "output_type": "stream",
     "text": [
      "########## New lowest validation loss achieved ########### sim-NRMS = 0.49142229350526523\n",
      "Epoch   16, sqrt loss 0.02836, Val sim-NRMS 0.4914, Time Loss: 20.2%, data: 0.9%, val: 78.9%, 28.7 batches/sec\n"
     ]
    },
    {
     "name": "stderr",
     "output_type": "stream",
     "text": [
      " 17%|█▋        | 17/100 [00:25<02:03,  1.49s/it]"
     ]
    },
    {
     "name": "stdout",
     "output_type": "stream",
     "text": [
      "########## New lowest validation loss achieved ########### sim-NRMS = 0.4809404493616164\n",
      "Epoch   17, sqrt loss 0.02698, Val sim-NRMS 0.4809, Time Loss: 20.2%, data: 0.9%, val: 78.8%, 28.7 batches/sec\n"
     ]
    },
    {
     "name": "stderr",
     "output_type": "stream",
     "text": [
      " 18%|█▊        | 18/100 [00:26<02:02,  1.50s/it]"
     ]
    },
    {
     "name": "stdout",
     "output_type": "stream",
     "text": [
      "########## New lowest validation loss achieved ########### sim-NRMS = 0.4661389576881177\n",
      "Epoch   18, sqrt loss 0.02577, Val sim-NRMS 0.4661, Time Loss: 20.2%, data: 0.9%, val: 78.8%, 28.7 batches/sec\n"
     ]
    },
    {
     "name": "stderr",
     "output_type": "stream",
     "text": [
      " 19%|█▉        | 19/100 [00:28<02:01,  1.50s/it]"
     ]
    },
    {
     "name": "stdout",
     "output_type": "stream",
     "text": [
      "########## New lowest validation loss achieved ########### sim-NRMS = 0.45101052339084724\n",
      "Epoch   19, sqrt loss  0.0246, Val sim-NRMS  0.451, Time Loss: 20.2%, data: 0.9%, val: 78.8%, 28.7 batches/sec\n"
     ]
    },
    {
     "name": "stderr",
     "output_type": "stream",
     "text": [
      " 20%|██        | 20/100 [00:29<01:59,  1.50s/it]"
     ]
    },
    {
     "name": "stdout",
     "output_type": "stream",
     "text": [
      "########## New lowest validation loss achieved ########### sim-NRMS = 0.439855199107624\n",
      "Epoch   20, sqrt loss 0.02349, Val sim-NRMS 0.4399, Time Loss: 20.2%, data: 0.9%, val: 78.8%, 28.7 batches/sec\n"
     ]
    },
    {
     "name": "stderr",
     "output_type": "stream",
     "text": [
      " 21%|██        | 21/100 [00:31<01:58,  1.50s/it]"
     ]
    },
    {
     "name": "stdout",
     "output_type": "stream",
     "text": [
      "########## New lowest validation loss achieved ########### sim-NRMS = 0.4245815655050091\n",
      "Epoch   21, sqrt loss 0.02252, Val sim-NRMS 0.4246, Time Loss: 20.2%, data: 0.9%, val: 78.8%, 28.7 batches/sec\n"
     ]
    },
    {
     "name": "stderr",
     "output_type": "stream",
     "text": [
      " 22%|██▏       | 22/100 [00:32<01:56,  1.50s/it]"
     ]
    },
    {
     "name": "stdout",
     "output_type": "stream",
     "text": [
      "########## New lowest validation loss achieved ########### sim-NRMS = 0.4143016219826892\n",
      "Epoch   22, sqrt loss 0.02161, Val sim-NRMS 0.4143, Time Loss: 20.2%, data: 0.9%, val: 78.8%, 28.7 batches/sec\n"
     ]
    },
    {
     "name": "stderr",
     "output_type": "stream",
     "text": [
      " 23%|██▎       | 23/100 [00:34<01:55,  1.50s/it]"
     ]
    },
    {
     "name": "stdout",
     "output_type": "stream",
     "text": [
      "########## New lowest validation loss achieved ########### sim-NRMS = 0.4003026213715404\n",
      "Epoch   23, sqrt loss 0.02081, Val sim-NRMS 0.4003, Time Loss: 20.2%, data: 0.9%, val: 78.8%, 28.7 batches/sec\n"
     ]
    },
    {
     "name": "stderr",
     "output_type": "stream",
     "text": [
      " 24%|██▍       | 24/100 [00:35<01:54,  1.50s/it]"
     ]
    },
    {
     "name": "stdout",
     "output_type": "stream",
     "text": [
      "########## New lowest validation loss achieved ########### sim-NRMS = 0.38750406500350576\n",
      "Epoch   24, sqrt loss 0.02004, Val sim-NRMS 0.3875, Time Loss: 20.2%, data: 0.9%, val: 78.8%, 28.7 batches/sec\n"
     ]
    },
    {
     "name": "stderr",
     "output_type": "stream",
     "text": [
      " 25%|██▌       | 25/100 [00:37<01:52,  1.50s/it]"
     ]
    },
    {
     "name": "stdout",
     "output_type": "stream",
     "text": [
      "########## New lowest validation loss achieved ########### sim-NRMS = 0.37824151882726886\n",
      "Epoch   25, sqrt loss 0.01938, Val sim-NRMS 0.3782, Time Loss: 20.2%, data: 0.9%, val: 78.8%, 28.7 batches/sec\n"
     ]
    },
    {
     "name": "stderr",
     "output_type": "stream",
     "text": [
      " 26%|██▌       | 26/100 [00:38<01:51,  1.50s/it]"
     ]
    },
    {
     "name": "stdout",
     "output_type": "stream",
     "text": [
      "########## New lowest validation loss achieved ########### sim-NRMS = 0.3649971094602515\n",
      "Epoch   26, sqrt loss 0.01881, Val sim-NRMS  0.365, Time Loss: 20.2%, data: 0.9%, val: 78.8%, 28.7 batches/sec\n"
     ]
    },
    {
     "name": "stderr",
     "output_type": "stream",
     "text": [
      " 27%|██▋       | 27/100 [00:40<01:49,  1.50s/it]"
     ]
    },
    {
     "name": "stdout",
     "output_type": "stream",
     "text": [
      "########## New lowest validation loss achieved ########### sim-NRMS = 0.3523141958645296\n",
      "Epoch   27, sqrt loss 0.01826, Val sim-NRMS 0.3523, Time Loss: 20.2%, data: 1.0%, val: 78.8%, 28.7 batches/sec\n"
     ]
    },
    {
     "name": "stderr",
     "output_type": "stream",
     "text": [
      " 28%|██▊       | 28/100 [00:42<01:48,  1.51s/it]"
     ]
    },
    {
     "name": "stdout",
     "output_type": "stream",
     "text": [
      "########## New lowest validation loss achieved ########### sim-NRMS = 0.3405104212096763\n",
      "Epoch   28, sqrt loss 0.01779, Val sim-NRMS 0.3405, Time Loss: 20.2%, data: 1.0%, val: 78.8%, 28.7 batches/sec\n"
     ]
    },
    {
     "name": "stderr",
     "output_type": "stream",
     "text": [
      " 29%|██▉       | 29/100 [00:43<01:46,  1.50s/it]"
     ]
    },
    {
     "name": "stdout",
     "output_type": "stream",
     "text": [
      "########## New lowest validation loss achieved ########### sim-NRMS = 0.3279442914706358\n",
      "Epoch   29, sqrt loss 0.01738, Val sim-NRMS 0.3279, Time Loss: 20.2%, data: 0.9%, val: 78.8%, 28.7 batches/sec\n"
     ]
    },
    {
     "name": "stderr",
     "output_type": "stream",
     "text": [
      " 30%|███       | 30/100 [00:44<01:45,  1.50s/it]"
     ]
    },
    {
     "name": "stdout",
     "output_type": "stream",
     "text": [
      "########## New lowest validation loss achieved ########### sim-NRMS = 0.3215821792080984\n",
      "Epoch   30, sqrt loss 0.01701, Val sim-NRMS 0.3216, Time Loss: 20.2%, data: 1.0%, val: 78.8%, 28.7 batches/sec\n"
     ]
    },
    {
     "name": "stderr",
     "output_type": "stream",
     "text": [
      " 31%|███       | 31/100 [00:46<01:43,  1.50s/it]"
     ]
    },
    {
     "name": "stdout",
     "output_type": "stream",
     "text": [
      "########## New lowest validation loss achieved ########### sim-NRMS = 0.30914326835199535\n",
      "Epoch   31, sqrt loss 0.01669, Val sim-NRMS 0.3091, Time Loss: 20.2%, data: 1.0%, val: 78.8%, 28.7 batches/sec\n"
     ]
    },
    {
     "name": "stderr",
     "output_type": "stream",
     "text": [
      " 32%|███▏      | 32/100 [00:47<01:41,  1.50s/it]"
     ]
    },
    {
     "name": "stdout",
     "output_type": "stream",
     "text": [
      "########## New lowest validation loss achieved ########### sim-NRMS = 0.2982465636275111\n",
      "Epoch   32, sqrt loss 0.01641, Val sim-NRMS 0.2982, Time Loss: 20.2%, data: 1.0%, val: 78.8%, 28.7 batches/sec\n"
     ]
    },
    {
     "name": "stderr",
     "output_type": "stream",
     "text": [
      " 33%|███▎      | 33/100 [00:49<01:40,  1.50s/it]"
     ]
    },
    {
     "name": "stdout",
     "output_type": "stream",
     "text": [
      "########## New lowest validation loss achieved ########### sim-NRMS = 0.28762640592356714\n",
      "Epoch   33, sqrt loss 0.01617, Val sim-NRMS 0.2876, Time Loss: 20.2%, data: 1.0%, val: 78.8%, 28.7 batches/sec\n"
     ]
    },
    {
     "name": "stderr",
     "output_type": "stream",
     "text": [
      " 34%|███▍      | 34/100 [00:51<01:39,  1.50s/it]"
     ]
    },
    {
     "name": "stdout",
     "output_type": "stream",
     "text": [
      "########## New lowest validation loss achieved ########### sim-NRMS = 0.2793728935759896\n",
      "Epoch   34, sqrt loss 0.01596, Val sim-NRMS 0.2794, Time Loss: 20.2%, data: 1.0%, val: 78.8%, 28.7 batches/sec\n"
     ]
    },
    {
     "name": "stderr",
     "output_type": "stream",
     "text": [
      " 35%|███▌      | 35/100 [00:52<01:37,  1.50s/it]"
     ]
    },
    {
     "name": "stdout",
     "output_type": "stream",
     "text": [
      "########## New lowest validation loss achieved ########### sim-NRMS = 0.2671886085257916\n",
      "Epoch   35, sqrt loss 0.01579, Val sim-NRMS 0.2672, Time Loss: 20.2%, data: 1.0%, val: 78.8%, 28.7 batches/sec\n"
     ]
    },
    {
     "name": "stderr",
     "output_type": "stream",
     "text": [
      " 36%|███▌      | 36/100 [00:54<01:36,  1.50s/it]"
     ]
    },
    {
     "name": "stdout",
     "output_type": "stream",
     "text": [
      "########## New lowest validation loss achieved ########### sim-NRMS = 0.25880930060553287\n",
      "Epoch   36, sqrt loss 0.01562, Val sim-NRMS 0.2588, Time Loss: 20.2%, data: 0.9%, val: 78.8%, 28.7 batches/sec\n"
     ]
    },
    {
     "name": "stderr",
     "output_type": "stream",
     "text": [
      " 37%|███▋      | 37/100 [00:55<01:34,  1.50s/it]"
     ]
    },
    {
     "name": "stdout",
     "output_type": "stream",
     "text": [
      "########## New lowest validation loss achieved ########### sim-NRMS = 0.24935038900563267\n",
      "Epoch   37, sqrt loss 0.01547, Val sim-NRMS 0.2494, Time Loss: 20.2%, data: 0.9%, val: 78.8%, 28.7 batches/sec\n"
     ]
    },
    {
     "name": "stderr",
     "output_type": "stream",
     "text": [
      " 38%|███▊      | 38/100 [00:57<01:33,  1.51s/it]"
     ]
    },
    {
     "name": "stdout",
     "output_type": "stream",
     "text": [
      "########## New lowest validation loss achieved ########### sim-NRMS = 0.24249636137353575\n",
      "Epoch   38, sqrt loss 0.01536, Val sim-NRMS 0.2425, Time Loss: 20.2%, data: 0.9%, val: 78.8%, 28.6 batches/sec\n"
     ]
    },
    {
     "name": "stderr",
     "output_type": "stream",
     "text": [
      " 39%|███▉      | 39/100 [00:58<01:32,  1.51s/it]"
     ]
    },
    {
     "name": "stdout",
     "output_type": "stream",
     "text": [
      "########## New lowest validation loss achieved ########### sim-NRMS = 0.23451169450360082\n",
      "Epoch   39, sqrt loss 0.01524, Val sim-NRMS 0.2345, Time Loss: 20.2%, data: 0.9%, val: 78.8%, 28.6 batches/sec\n"
     ]
    },
    {
     "name": "stderr",
     "output_type": "stream",
     "text": [
      " 40%|████      | 40/100 [01:00<01:30,  1.50s/it]"
     ]
    },
    {
     "name": "stdout",
     "output_type": "stream",
     "text": [
      "########## New lowest validation loss achieved ########### sim-NRMS = 0.22717462586094192\n",
      "Epoch   40, sqrt loss 0.01516, Val sim-NRMS 0.2272, Time Loss: 20.2%, data: 0.9%, val: 78.8%, 28.6 batches/sec\n"
     ]
    },
    {
     "name": "stderr",
     "output_type": "stream",
     "text": [
      " 41%|████      | 41/100 [01:01<01:28,  1.51s/it]"
     ]
    },
    {
     "name": "stdout",
     "output_type": "stream",
     "text": [
      "########## New lowest validation loss achieved ########### sim-NRMS = 0.22005782104767263\n",
      "Epoch   41, sqrt loss 0.01508, Val sim-NRMS 0.2201, Time Loss: 20.2%, data: 0.9%, val: 78.8%, 28.6 batches/sec\n"
     ]
    },
    {
     "name": "stderr",
     "output_type": "stream",
     "text": [
      " 42%|████▏     | 42/100 [01:03<01:27,  1.50s/it]"
     ]
    },
    {
     "name": "stdout",
     "output_type": "stream",
     "text": [
      "########## New lowest validation loss achieved ########### sim-NRMS = 0.21429277971924993\n",
      "Epoch   42, sqrt loss   0.015, Val sim-NRMS 0.2143, Time Loss: 20.2%, data: 0.9%, val: 78.8%, 28.6 batches/sec\n"
     ]
    },
    {
     "name": "stderr",
     "output_type": "stream",
     "text": [
      " 43%|████▎     | 43/100 [01:04<01:25,  1.51s/it]"
     ]
    },
    {
     "name": "stdout",
     "output_type": "stream",
     "text": [
      "########## New lowest validation loss achieved ########### sim-NRMS = 0.20877437607275162\n",
      "Epoch   43, sqrt loss 0.01493, Val sim-NRMS 0.2088, Time Loss: 20.2%, data: 0.9%, val: 78.8%, 28.6 batches/sec\n"
     ]
    },
    {
     "name": "stderr",
     "output_type": "stream",
     "text": [
      " 44%|████▍     | 44/100 [01:06<01:24,  1.51s/it]"
     ]
    },
    {
     "name": "stdout",
     "output_type": "stream",
     "text": [
      "########## New lowest validation loss achieved ########### sim-NRMS = 0.20028571312207594\n",
      "Epoch   44, sqrt loss 0.01487, Val sim-NRMS 0.2003, Time Loss: 20.2%, data: 0.9%, val: 78.8%, 28.6 batches/sec\n"
     ]
    },
    {
     "name": "stderr",
     "output_type": "stream",
     "text": [
      " 45%|████▌     | 45/100 [01:07<01:22,  1.51s/it]"
     ]
    },
    {
     "name": "stdout",
     "output_type": "stream",
     "text": [
      "########## New lowest validation loss achieved ########### sim-NRMS = 0.19609685811852812\n",
      "Epoch   45, sqrt loss 0.01482, Val sim-NRMS 0.1961, Time Loss: 20.2%, data: 0.9%, val: 78.8%, 28.6 batches/sec\n"
     ]
    },
    {
     "name": "stderr",
     "output_type": "stream",
     "text": [
      " 46%|████▌     | 46/100 [01:09<01:21,  1.51s/it]"
     ]
    },
    {
     "name": "stdout",
     "output_type": "stream",
     "text": [
      "########## New lowest validation loss achieved ########### sim-NRMS = 0.18907620177018908\n",
      "Epoch   46, sqrt loss 0.01477, Val sim-NRMS 0.1891, Time Loss: 20.2%, data: 0.9%, val: 78.8%, 28.6 batches/sec\n"
     ]
    },
    {
     "name": "stderr",
     "output_type": "stream",
     "text": [
      " 47%|████▋     | 47/100 [01:10<01:20,  1.51s/it]"
     ]
    },
    {
     "name": "stdout",
     "output_type": "stream",
     "text": [
      "########## New lowest validation loss achieved ########### sim-NRMS = 0.18270855492494842\n",
      "Epoch   47, sqrt loss 0.01472, Val sim-NRMS 0.1827, Time Loss: 20.2%, data: 0.9%, val: 78.8%, 28.6 batches/sec\n"
     ]
    },
    {
     "name": "stderr",
     "output_type": "stream",
     "text": [
      " 48%|████▊     | 48/100 [01:12<01:18,  1.52s/it]"
     ]
    },
    {
     "name": "stdout",
     "output_type": "stream",
     "text": [
      "########## New lowest validation loss achieved ########### sim-NRMS = 0.1812098231132448\n",
      "Epoch   48, sqrt loss 0.01469, Val sim-NRMS 0.1812, Time Loss: 20.2%, data: 0.9%, val: 78.8%, 28.6 batches/sec\n"
     ]
    },
    {
     "name": "stderr",
     "output_type": "stream",
     "text": [
      " 49%|████▉     | 49/100 [01:13<01:17,  1.52s/it]"
     ]
    },
    {
     "name": "stdout",
     "output_type": "stream",
     "text": [
      "########## New lowest validation loss achieved ########### sim-NRMS = 0.17506890072378056\n",
      "Epoch   49, sqrt loss 0.01465, Val sim-NRMS 0.1751, Time Loss: 20.2%, data: 0.9%, val: 78.8%, 28.6 batches/sec\n"
     ]
    },
    {
     "name": "stderr",
     "output_type": "stream",
     "text": [
      " 50%|█████     | 50/100 [01:15<01:15,  1.51s/it]"
     ]
    },
    {
     "name": "stdout",
     "output_type": "stream",
     "text": [
      "########## New lowest validation loss achieved ########### sim-NRMS = 0.16880075031886788\n",
      "Epoch   50, sqrt loss 0.01461, Val sim-NRMS 0.1688, Time Loss: 20.2%, data: 0.9%, val: 78.8%, 28.6 batches/sec\n"
     ]
    },
    {
     "name": "stderr",
     "output_type": "stream",
     "text": [
      " 51%|█████     | 51/100 [01:16<01:14,  1.52s/it]"
     ]
    },
    {
     "name": "stdout",
     "output_type": "stream",
     "text": [
      "########## New lowest validation loss achieved ########### sim-NRMS = 0.16548635747366963\n",
      "Epoch   51, sqrt loss 0.01458, Val sim-NRMS 0.1655, Time Loss: 20.2%, data: 0.9%, val: 78.8%, 28.6 batches/sec\n"
     ]
    },
    {
     "name": "stderr",
     "output_type": "stream",
     "text": [
      " 52%|█████▏    | 52/100 [01:18<01:12,  1.51s/it]"
     ]
    },
    {
     "name": "stdout",
     "output_type": "stream",
     "text": [
      "########## New lowest validation loss achieved ########### sim-NRMS = 0.16347505094802461\n",
      "Epoch   52, sqrt loss 0.01455, Val sim-NRMS 0.1635, Time Loss: 20.2%, data: 0.9%, val: 78.8%, 28.6 batches/sec\n"
     ]
    },
    {
     "name": "stderr",
     "output_type": "stream",
     "text": [
      " 53%|█████▎    | 53/100 [01:19<01:11,  1.51s/it]"
     ]
    },
    {
     "name": "stdout",
     "output_type": "stream",
     "text": [
      "########## New lowest validation loss achieved ########### sim-NRMS = 0.15955903966349902\n",
      "Epoch   53, sqrt loss 0.01452, Val sim-NRMS 0.1596, Time Loss: 20.2%, data: 0.9%, val: 78.8%, 28.6 batches/sec\n"
     ]
    },
    {
     "name": "stderr",
     "output_type": "stream",
     "text": [
      " 54%|█████▍    | 54/100 [01:21<01:09,  1.51s/it]"
     ]
    },
    {
     "name": "stdout",
     "output_type": "stream",
     "text": [
      "Epoch   54, sqrt loss  0.0145, Val sim-NRMS 0.1609, Time Loss: 20.2%, data: 0.9%, val: 78.8%, 28.6 batches/sec\n"
     ]
    },
    {
     "name": "stderr",
     "output_type": "stream",
     "text": [
      " 55%|█████▌    | 55/100 [01:22<01:08,  1.51s/it]"
     ]
    },
    {
     "name": "stdout",
     "output_type": "stream",
     "text": [
      "########## New lowest validation loss achieved ########### sim-NRMS = 0.15468801404260737\n",
      "Epoch   55, sqrt loss 0.01447, Val sim-NRMS 0.1547, Time Loss: 20.2%, data: 0.9%, val: 78.8%, 28.6 batches/sec\n"
     ]
    },
    {
     "name": "stderr",
     "output_type": "stream",
     "text": [
      " 56%|█████▌    | 56/100 [01:24<01:06,  1.52s/it]"
     ]
    },
    {
     "name": "stdout",
     "output_type": "stream",
     "text": [
      "########## New lowest validation loss achieved ########### sim-NRMS = 0.15390994726231952\n",
      "Epoch   56, sqrt loss 0.01446, Val sim-NRMS 0.1539, Time Loss: 20.2%, data: 0.9%, val: 78.8%, 28.6 batches/sec\n"
     ]
    },
    {
     "name": "stderr",
     "output_type": "stream",
     "text": [
      " 57%|█████▋    | 57/100 [01:25<01:04,  1.51s/it]"
     ]
    },
    {
     "name": "stdout",
     "output_type": "stream",
     "text": [
      "########## New lowest validation loss achieved ########### sim-NRMS = 0.15262294643221253\n",
      "Epoch   57, sqrt loss 0.01443, Val sim-NRMS 0.1526, Time Loss: 20.2%, data: 0.9%, val: 78.8%, 28.6 batches/sec\n"
     ]
    },
    {
     "name": "stderr",
     "output_type": "stream",
     "text": [
      " 58%|█████▊    | 58/100 [01:27<01:03,  1.51s/it]"
     ]
    },
    {
     "name": "stdout",
     "output_type": "stream",
     "text": [
      "########## New lowest validation loss achieved ########### sim-NRMS = 0.1493480234530421\n",
      "Epoch   58, sqrt loss 0.01442, Val sim-NRMS 0.1493, Time Loss: 20.2%, data: 0.9%, val: 78.8%, 28.6 batches/sec\n"
     ]
    },
    {
     "name": "stderr",
     "output_type": "stream",
     "text": [
      " 59%|█████▉    | 59/100 [01:28<01:01,  1.51s/it]"
     ]
    },
    {
     "name": "stdout",
     "output_type": "stream",
     "text": [
      "########## New lowest validation loss achieved ########### sim-NRMS = 0.14682934759535954\n",
      "Epoch   59, sqrt loss  0.0144, Val sim-NRMS 0.1468, Time Loss: 20.2%, data: 0.9%, val: 78.8%, 28.6 batches/sec\n"
     ]
    },
    {
     "name": "stderr",
     "output_type": "stream",
     "text": [
      " 60%|██████    | 60/100 [01:30<01:00,  1.51s/it]"
     ]
    },
    {
     "name": "stdout",
     "output_type": "stream",
     "text": [
      "########## New lowest validation loss achieved ########### sim-NRMS = 0.14427530713398415\n",
      "Epoch   60, sqrt loss 0.01439, Val sim-NRMS 0.1443, Time Loss: 20.2%, data: 0.9%, val: 78.8%, 28.6 batches/sec\n"
     ]
    },
    {
     "name": "stderr",
     "output_type": "stream",
     "text": [
      " 61%|██████    | 61/100 [01:31<00:59,  1.51s/it]"
     ]
    },
    {
     "name": "stdout",
     "output_type": "stream",
     "text": [
      "########## New lowest validation loss achieved ########### sim-NRMS = 0.14319620112970927\n",
      "Epoch   61, sqrt loss 0.01437, Val sim-NRMS 0.1432, Time Loss: 20.2%, data: 0.9%, val: 78.8%, 28.6 batches/sec\n"
     ]
    },
    {
     "name": "stderr",
     "output_type": "stream",
     "text": [
      " 62%|██████▏   | 62/100 [01:33<00:57,  1.50s/it]"
     ]
    },
    {
     "name": "stdout",
     "output_type": "stream",
     "text": [
      "Epoch   62, sqrt loss 0.01436, Val sim-NRMS  0.145, Time Loss: 20.2%, data: 0.9%, val: 78.8%, 28.6 batches/sec\n"
     ]
    },
    {
     "name": "stderr",
     "output_type": "stream",
     "text": [
      " 63%|██████▎   | 63/100 [01:34<00:55,  1.51s/it]"
     ]
    },
    {
     "name": "stdout",
     "output_type": "stream",
     "text": [
      "########## New lowest validation loss achieved ########### sim-NRMS = 0.13710957795205667\n",
      "Epoch   63, sqrt loss 0.01435, Val sim-NRMS 0.1371, Time Loss: 20.2%, data: 0.9%, val: 78.8%, 28.6 batches/sec\n"
     ]
    },
    {
     "name": "stderr",
     "output_type": "stream",
     "text": [
      " 64%|██████▍   | 64/100 [01:36<00:54,  1.51s/it]"
     ]
    },
    {
     "name": "stdout",
     "output_type": "stream",
     "text": [
      "########## New lowest validation loss achieved ########### sim-NRMS = 0.13577159029034352\n",
      "Epoch   64, sqrt loss 0.01434, Val sim-NRMS 0.1358, Time Loss: 20.2%, data: 0.9%, val: 78.8%, 28.6 batches/sec\n"
     ]
    },
    {
     "name": "stderr",
     "output_type": "stream",
     "text": [
      " 65%|██████▌   | 65/100 [01:37<00:52,  1.50s/it]"
     ]
    },
    {
     "name": "stdout",
     "output_type": "stream",
     "text": [
      "Epoch   65, sqrt loss 0.01433, Val sim-NRMS 0.1358, Time Loss: 20.2%, data: 0.9%, val: 78.8%, 28.6 batches/sec\n"
     ]
    },
    {
     "name": "stderr",
     "output_type": "stream",
     "text": [
      " 66%|██████▌   | 66/100 [01:39<00:51,  1.51s/it]"
     ]
    },
    {
     "name": "stdout",
     "output_type": "stream",
     "text": [
      "Epoch   66, sqrt loss 0.01432, Val sim-NRMS 0.1365, Time Loss: 20.2%, data: 1.0%, val: 78.8%, 28.6 batches/sec\n"
     ]
    },
    {
     "name": "stderr",
     "output_type": "stream",
     "text": [
      " 67%|██████▋   | 67/100 [01:40<00:49,  1.51s/it]"
     ]
    },
    {
     "name": "stdout",
     "output_type": "stream",
     "text": [
      "########## New lowest validation loss achieved ########### sim-NRMS = 0.135676946597248\n",
      "Epoch   67, sqrt loss 0.01431, Val sim-NRMS 0.1357, Time Loss: 20.2%, data: 1.0%, val: 78.8%, 28.6 batches/sec\n"
     ]
    },
    {
     "name": "stderr",
     "output_type": "stream",
     "text": [
      " 68%|██████▊   | 68/100 [01:42<00:48,  1.51s/it]"
     ]
    },
    {
     "name": "stdout",
     "output_type": "stream",
     "text": [
      "########## New lowest validation loss achieved ########### sim-NRMS = 0.13248507555329714\n",
      "Epoch   68, sqrt loss  0.0143, Val sim-NRMS 0.1325, Time Loss: 20.2%, data: 0.9%, val: 78.8%, 28.6 batches/sec\n"
     ]
    },
    {
     "name": "stderr",
     "output_type": "stream",
     "text": [
      " 69%|██████▉   | 69/100 [01:43<00:47,  1.52s/it]"
     ]
    },
    {
     "name": "stdout",
     "output_type": "stream",
     "text": [
      "########## New lowest validation loss achieved ########### sim-NRMS = 0.13123419707056058\n",
      "Epoch   69, sqrt loss  0.0143, Val sim-NRMS 0.1312, Time Loss: 20.2%, data: 1.0%, val: 78.8%, 28.6 batches/sec\n"
     ]
    },
    {
     "name": "stderr",
     "output_type": "stream",
     "text": [
      " 70%|███████   | 70/100 [01:45<00:45,  1.51s/it]"
     ]
    },
    {
     "name": "stdout",
     "output_type": "stream",
     "text": [
      "Epoch   70, sqrt loss  0.0143, Val sim-NRMS 0.1314, Time Loss: 20.2%, data: 1.0%, val: 78.8%, 28.6 batches/sec\n"
     ]
    },
    {
     "name": "stderr",
     "output_type": "stream",
     "text": [
      " 71%|███████   | 71/100 [01:46<00:43,  1.50s/it]"
     ]
    },
    {
     "name": "stdout",
     "output_type": "stream",
     "text": [
      "Epoch   71, sqrt loss 0.01429, Val sim-NRMS 0.1313, Time Loss: 20.2%, data: 0.9%, val: 78.8%, 28.6 batches/sec\n"
     ]
    },
    {
     "name": "stderr",
     "output_type": "stream",
     "text": [
      " 72%|███████▏  | 72/100 [01:48<00:41,  1.50s/it]"
     ]
    },
    {
     "name": "stdout",
     "output_type": "stream",
     "text": [
      "Epoch   72, sqrt loss 0.01429, Val sim-NRMS 0.1317, Time Loss: 20.2%, data: 0.9%, val: 78.8%, 28.6 batches/sec\n"
     ]
    },
    {
     "name": "stderr",
     "output_type": "stream",
     "text": [
      " 73%|███████▎  | 73/100 [01:49<00:40,  1.50s/it]"
     ]
    },
    {
     "name": "stdout",
     "output_type": "stream",
     "text": [
      "Epoch   73, sqrt loss 0.01429, Val sim-NRMS 0.1324, Time Loss: 20.2%, data: 0.9%, val: 78.8%, 28.6 batches/sec\n"
     ]
    },
    {
     "name": "stderr",
     "output_type": "stream",
     "text": [
      " 74%|███████▍  | 74/100 [01:51<00:39,  1.50s/it]"
     ]
    },
    {
     "name": "stdout",
     "output_type": "stream",
     "text": [
      "########## New lowest validation loss achieved ########### sim-NRMS = 0.1312147791470443\n",
      "Epoch   74, sqrt loss 0.01428, Val sim-NRMS 0.1312, Time Loss: 20.2%, data: 0.9%, val: 78.8%, 28.6 batches/sec\n"
     ]
    },
    {
     "name": "stderr",
     "output_type": "stream",
     "text": [
      " 75%|███████▌  | 75/100 [01:52<00:37,  1.52s/it]"
     ]
    },
    {
     "name": "stdout",
     "output_type": "stream",
     "text": [
      "########## New lowest validation loss achieved ########### sim-NRMS = 0.13105609110998567\n",
      "Epoch   75, sqrt loss 0.01427, Val sim-NRMS 0.1311, Time Loss: 20.2%, data: 0.9%, val: 78.8%, 28.6 batches/sec\n"
     ]
    },
    {
     "name": "stderr",
     "output_type": "stream",
     "text": [
      " 76%|███████▌  | 76/100 [01:54<00:36,  1.51s/it]"
     ]
    },
    {
     "name": "stdout",
     "output_type": "stream",
     "text": [
      "########## New lowest validation loss achieved ########### sim-NRMS = 0.12707297945785895\n",
      "Epoch   76, sqrt loss 0.01427, Val sim-NRMS 0.1271, Time Loss: 20.2%, data: 0.9%, val: 78.8%, 28.6 batches/sec\n"
     ]
    },
    {
     "name": "stderr",
     "output_type": "stream",
     "text": [
      " 77%|███████▋  | 77/100 [01:55<00:34,  1.51s/it]"
     ]
    },
    {
     "name": "stdout",
     "output_type": "stream",
     "text": [
      "Epoch   77, sqrt loss 0.01427, Val sim-NRMS 0.1314, Time Loss: 20.2%, data: 0.9%, val: 78.8%, 28.6 batches/sec\n"
     ]
    },
    {
     "name": "stderr",
     "output_type": "stream",
     "text": [
      " 78%|███████▊  | 78/100 [01:57<00:33,  1.51s/it]"
     ]
    },
    {
     "name": "stdout",
     "output_type": "stream",
     "text": [
      "Epoch   78, sqrt loss 0.01427, Val sim-NRMS 0.1321, Time Loss: 20.2%, data: 0.9%, val: 78.8%, 28.6 batches/sec\n"
     ]
    },
    {
     "name": "stderr",
     "output_type": "stream",
     "text": [
      " 79%|███████▉  | 79/100 [01:58<00:31,  1.51s/it]"
     ]
    },
    {
     "name": "stdout",
     "output_type": "stream",
     "text": [
      "########## New lowest validation loss achieved ########### sim-NRMS = 0.12618255060327968\n",
      "Epoch   79, sqrt loss 0.01427, Val sim-NRMS 0.1262, Time Loss: 20.2%, data: 0.9%, val: 78.8%, 28.6 batches/sec\n"
     ]
    },
    {
     "name": "stderr",
     "output_type": "stream",
     "text": [
      " 80%|████████  | 80/100 [02:00<00:30,  1.50s/it]"
     ]
    },
    {
     "name": "stdout",
     "output_type": "stream",
     "text": [
      "Epoch   80, sqrt loss 0.01427, Val sim-NRMS 0.1278, Time Loss: 20.2%, data: 0.9%, val: 78.8%, 28.6 batches/sec\n"
     ]
    },
    {
     "name": "stderr",
     "output_type": "stream",
     "text": [
      " 81%|████████  | 81/100 [02:01<00:28,  1.51s/it]"
     ]
    },
    {
     "name": "stdout",
     "output_type": "stream",
     "text": [
      "########## New lowest validation loss achieved ########### sim-NRMS = 0.12525125742088186\n",
      "Epoch   81, sqrt loss 0.01427, Val sim-NRMS 0.1253, Time Loss: 20.2%, data: 0.9%, val: 78.8%, 28.6 batches/sec\n"
     ]
    },
    {
     "name": "stderr",
     "output_type": "stream",
     "text": [
      " 82%|████████▏ | 82/100 [02:03<00:26,  1.50s/it]"
     ]
    },
    {
     "name": "stdout",
     "output_type": "stream",
     "text": [
      "Epoch   82, sqrt loss 0.01427, Val sim-NRMS  0.132, Time Loss: 20.2%, data: 0.9%, val: 78.8%, 28.6 batches/sec\n"
     ]
    },
    {
     "name": "stderr",
     "output_type": "stream",
     "text": [
      " 83%|████████▎ | 83/100 [02:04<00:25,  1.51s/it]"
     ]
    },
    {
     "name": "stdout",
     "output_type": "stream",
     "text": [
      "########## New lowest validation loss achieved ########### sim-NRMS = 0.12501849091251782\n",
      "Epoch   83, sqrt loss 0.01427, Val sim-NRMS  0.125, Time Loss: 20.2%, data: 0.9%, val: 78.8%, 28.6 batches/sec\n"
     ]
    },
    {
     "name": "stderr",
     "output_type": "stream",
     "text": [
      " 84%|████████▍ | 84/100 [02:06<00:24,  1.51s/it]"
     ]
    },
    {
     "name": "stdout",
     "output_type": "stream",
     "text": [
      "Epoch   84, sqrt loss 0.01427, Val sim-NRMS 0.1271, Time Loss: 20.2%, data: 0.9%, val: 78.8%, 28.6 batches/sec\n"
     ]
    },
    {
     "name": "stderr",
     "output_type": "stream",
     "text": [
      " 85%|████████▌ | 85/100 [02:07<00:22,  1.50s/it]"
     ]
    },
    {
     "name": "stdout",
     "output_type": "stream",
     "text": [
      "Epoch   85, sqrt loss 0.01427, Val sim-NRMS 0.1298, Time Loss: 20.2%, data: 0.9%, val: 78.8%, 28.6 batches/sec\n"
     ]
    },
    {
     "name": "stderr",
     "output_type": "stream",
     "text": [
      " 86%|████████▌ | 86/100 [02:09<00:20,  1.50s/it]"
     ]
    },
    {
     "name": "stdout",
     "output_type": "stream",
     "text": [
      "Epoch   86, sqrt loss 0.01427, Val sim-NRMS 0.1274, Time Loss: 20.2%, data: 0.9%, val: 78.8%, 28.6 batches/sec\n"
     ]
    },
    {
     "name": "stderr",
     "output_type": "stream",
     "text": [
      " 87%|████████▋ | 87/100 [02:10<00:19,  1.51s/it]"
     ]
    },
    {
     "name": "stdout",
     "output_type": "stream",
     "text": [
      "########## New lowest validation loss achieved ########### sim-NRMS = 0.12170680468347334\n",
      "Epoch   87, sqrt loss 0.01427, Val sim-NRMS 0.1217, Time Loss: 20.2%, data: 0.9%, val: 78.8%, 28.6 batches/sec\n"
     ]
    },
    {
     "name": "stderr",
     "output_type": "stream",
     "text": [
      " 88%|████████▊ | 88/100 [02:12<00:18,  1.50s/it]"
     ]
    },
    {
     "name": "stdout",
     "output_type": "stream",
     "text": [
      "Epoch   88, sqrt loss 0.01427, Val sim-NRMS 0.1282, Time Loss: 20.2%, data: 0.9%, val: 78.8%, 28.6 batches/sec\n"
     ]
    },
    {
     "name": "stderr",
     "output_type": "stream",
     "text": [
      " 89%|████████▉ | 89/100 [02:13<00:16,  1.50s/it]"
     ]
    },
    {
     "name": "stdout",
     "output_type": "stream",
     "text": [
      "Epoch   89, sqrt loss 0.01427, Val sim-NRMS 0.1229, Time Loss: 20.2%, data: 0.9%, val: 78.8%, 28.6 batches/sec\n"
     ]
    },
    {
     "name": "stderr",
     "output_type": "stream",
     "text": [
      " 90%|█████████ | 90/100 [02:15<00:14,  1.50s/it]"
     ]
    },
    {
     "name": "stdout",
     "output_type": "stream",
     "text": [
      "Epoch   90, sqrt loss 0.01427, Val sim-NRMS 0.1262, Time Loss: 20.2%, data: 0.9%, val: 78.8%, 28.6 batches/sec\n"
     ]
    },
    {
     "name": "stderr",
     "output_type": "stream",
     "text": [
      " 91%|█████████ | 91/100 [02:16<00:13,  1.50s/it]"
     ]
    },
    {
     "name": "stdout",
     "output_type": "stream",
     "text": [
      "Epoch   91, sqrt loss 0.01426, Val sim-NRMS 0.1264, Time Loss: 20.2%, data: 0.9%, val: 78.8%, 28.6 batches/sec\n"
     ]
    },
    {
     "name": "stderr",
     "output_type": "stream",
     "text": [
      " 92%|█████████▏| 92/100 [02:18<00:12,  1.50s/it]"
     ]
    },
    {
     "name": "stdout",
     "output_type": "stream",
     "text": [
      "Epoch   92, sqrt loss 0.01427, Val sim-NRMS 0.1233, Time Loss: 20.2%, data: 0.9%, val: 78.8%, 28.6 batches/sec\n"
     ]
    },
    {
     "name": "stderr",
     "output_type": "stream",
     "text": [
      " 93%|█████████▎| 93/100 [02:19<00:10,  1.51s/it]"
     ]
    },
    {
     "name": "stdout",
     "output_type": "stream",
     "text": [
      "########## New lowest validation loss achieved ########### sim-NRMS = 0.11974871614386652\n",
      "Epoch   93, sqrt loss 0.01427, Val sim-NRMS 0.1197, Time Loss: 20.2%, data: 0.9%, val: 78.8%, 28.6 batches/sec\n"
     ]
    },
    {
     "name": "stderr",
     "output_type": "stream",
     "text": [
      " 94%|█████████▍| 94/100 [02:21<00:09,  1.50s/it]"
     ]
    },
    {
     "name": "stdout",
     "output_type": "stream",
     "text": [
      "Epoch   94, sqrt loss 0.01426, Val sim-NRMS 0.1227, Time Loss: 20.2%, data: 0.9%, val: 78.8%, 28.6 batches/sec\n"
     ]
    },
    {
     "name": "stderr",
     "output_type": "stream",
     "text": [
      " 95%|█████████▌| 95/100 [02:22<00:07,  1.50s/it]"
     ]
    },
    {
     "name": "stdout",
     "output_type": "stream",
     "text": [
      "Epoch   95, sqrt loss 0.01427, Val sim-NRMS 0.1231, Time Loss: 20.2%, data: 0.9%, val: 78.8%, 28.6 batches/sec\n"
     ]
    },
    {
     "name": "stderr",
     "output_type": "stream",
     "text": [
      " 96%|█████████▌| 96/100 [02:24<00:05,  1.50s/it]"
     ]
    },
    {
     "name": "stdout",
     "output_type": "stream",
     "text": [
      "Epoch   96, sqrt loss 0.01427, Val sim-NRMS 0.1242, Time Loss: 20.2%, data: 0.9%, val: 78.8%, 28.6 batches/sec\n"
     ]
    },
    {
     "name": "stderr",
     "output_type": "stream",
     "text": [
      " 97%|█████████▋| 97/100 [02:25<00:04,  1.50s/it]"
     ]
    },
    {
     "name": "stdout",
     "output_type": "stream",
     "text": [
      "Epoch   97, sqrt loss 0.01426, Val sim-NRMS 0.1244, Time Loss: 20.2%, data: 0.9%, val: 78.8%, 28.6 batches/sec\n"
     ]
    },
    {
     "name": "stderr",
     "output_type": "stream",
     "text": [
      " 98%|█████████▊| 98/100 [02:27<00:03,  1.50s/it]"
     ]
    },
    {
     "name": "stdout",
     "output_type": "stream",
     "text": [
      "Epoch   98, sqrt loss 0.01427, Val sim-NRMS 0.1201, Time Loss: 20.2%, data: 0.9%, val: 78.8%, 28.6 batches/sec\n"
     ]
    },
    {
     "name": "stderr",
     "output_type": "stream",
     "text": [
      " 99%|█████████▉| 99/100 [02:28<00:01,  1.50s/it]"
     ]
    },
    {
     "name": "stdout",
     "output_type": "stream",
     "text": [
      "Epoch   99, sqrt loss 0.01426, Val sim-NRMS 0.1233, Time Loss: 20.2%, data: 0.9%, val: 78.8%, 28.6 batches/sec\n"
     ]
    },
    {
     "name": "stderr",
     "output_type": "stream",
     "text": [
      "100%|██████████| 100/100 [02:30<00:00,  1.50s/it]"
     ]
    },
    {
     "name": "stdout",
     "output_type": "stream",
     "text": [
      "Epoch  100, sqrt loss 0.01427, Val sim-NRMS 0.1209, Time Loss: 20.2%, data: 0.9%, val: 78.8%, 28.6 batches/sec\n",
      "Model already initilized (init_model_done=True), skipping initilizing of the model, the norm and the creation of the optimizer\n"
     ]
    },
    {
     "name": "stderr",
     "output_type": "stream",
     "text": [
      "\n"
     ]
    },
    {
     "name": "stdout",
     "output_type": "stream",
     "text": [
      "Size of the training array =  212.8 MB\n",
      "N_training_samples = 179950, batch_size = 4096, N_batch_updates_per_epoch = 43\n",
      "Initial Validation sim-NRMS= 0.12087770971705125\n"
     ]
    },
    {
     "name": "stderr",
     "output_type": "stream",
     "text": [
      "  0%|          | 1/300 [00:14<1:12:54, 14.63s/it]"
     ]
    },
    {
     "name": "stdout",
     "output_type": "stream",
     "text": [
      "########## New lowest validation loss achieved ########### sim-NRMS = 0.09666939226944217\n",
      "Epoch    1, sqrt loss 0.08392, Val sim-NRMS 0.09667, Time Loss: 91.3%, data: 0.3%, val: 8.4%,  2.9 batches/sec\n"
     ]
    },
    {
     "name": "stderr",
     "output_type": "stream",
     "text": [
      "  1%|          | 2/300 [00:30<1:17:29, 15.60s/it]"
     ]
    },
    {
     "name": "stdout",
     "output_type": "stream",
     "text": [
      "########## New lowest validation loss achieved ########### sim-NRMS = 0.09580770072838468\n",
      "Epoch    2, sqrt loss 0.08326, Val sim-NRMS 0.09581, Time Loss: 91.7%, data: 0.3%, val: 8.0%,  2.8 batches/sec\n"
     ]
    },
    {
     "name": "stderr",
     "output_type": "stream",
     "text": [
      "  1%|          | 3/300 [00:45<1:15:06, 15.17s/it]"
     ]
    },
    {
     "name": "stdout",
     "output_type": "stream",
     "text": [
      "########## New lowest validation loss achieved ########### sim-NRMS = 0.09568882625807534\n",
      "Epoch    3, sqrt loss 0.08325, Val sim-NRMS 0.09569, Time Loss: 91.5%, data: 0.2%, val: 8.2%,  2.8 batches/sec\n"
     ]
    },
    {
     "name": "stderr",
     "output_type": "stream",
     "text": [
      "  1%|▏         | 4/300 [01:00<1:15:08, 15.23s/it]"
     ]
    },
    {
     "name": "stdout",
     "output_type": "stream",
     "text": [
      "########## New lowest validation loss achieved ########### sim-NRMS = 0.09558560351450301\n",
      "Epoch    4, sqrt loss 0.08325, Val sim-NRMS 0.09559, Time Loss: 91.5%, data: 0.2%, val: 8.3%,  2.8 batches/sec\n"
     ]
    },
    {
     "name": "stderr",
     "output_type": "stream",
     "text": [
      "  2%|▏         | 5/300 [01:16<1:16:06, 15.48s/it]"
     ]
    },
    {
     "name": "stdout",
     "output_type": "stream",
     "text": [
      "Epoch    5, sqrt loss 0.08324, Val sim-NRMS 0.09564, Time Loss: 91.5%, data: 0.2%, val: 8.3%,  2.8 batches/sec\n"
     ]
    },
    {
     "name": "stderr",
     "output_type": "stream",
     "text": [
      "  2%|▏         | 6/300 [01:47<1:41:53, 20.79s/it]"
     ]
    },
    {
     "name": "stdout",
     "output_type": "stream",
     "text": [
      "Epoch    6, sqrt loss 0.08324, Val sim-NRMS 0.09576, Time Loss: 92.3%, data: 0.3%, val: 7.4%,  2.4 batches/sec\n"
     ]
    },
    {
     "name": "stderr",
     "output_type": "stream",
     "text": [
      "  2%|▏         | 7/300 [02:18<1:57:33, 24.07s/it]"
     ]
    },
    {
     "name": "stdout",
     "output_type": "stream",
     "text": [
      "Epoch    7, sqrt loss 0.08324, Val sim-NRMS 0.09578, Time Loss: 92.5%, data: 0.3%, val: 7.2%,  2.2 batches/sec\n"
     ]
    },
    {
     "name": "stderr",
     "output_type": "stream",
     "text": [
      "  3%|▎         | 8/300 [02:44<2:00:28, 24.75s/it]"
     ]
    },
    {
     "name": "stdout",
     "output_type": "stream",
     "text": [
      "Epoch    8, sqrt loss 0.08324, Val sim-NRMS 0.09563, Time Loss: 92.6%, data: 0.3%, val: 7.1%,  2.1 batches/sec\n"
     ]
    },
    {
     "name": "stderr",
     "output_type": "stream",
     "text": [
      "  3%|▎         | 9/300 [03:17<2:12:21, 27.29s/it]"
     ]
    },
    {
     "name": "stdout",
     "output_type": "stream",
     "text": [
      "Epoch    9, sqrt loss 0.08324, Val sim-NRMS 0.09566, Time Loss: 92.8%, data: 0.3%, val: 6.9%,  2.0 batches/sec\n"
     ]
    },
    {
     "name": "stderr",
     "output_type": "stream",
     "text": [
      "  3%|▎         | 10/300 [03:44<2:10:16, 26.95s/it]"
     ]
    },
    {
     "name": "stdout",
     "output_type": "stream",
     "text": [
      "Epoch   10, sqrt loss 0.08324, Val sim-NRMS 0.09575, Time Loss: 92.8%, data: 0.3%, val: 6.9%,  1.9 batches/sec\n"
     ]
    },
    {
     "name": "stderr",
     "output_type": "stream",
     "text": [
      "  4%|▎         | 11/300 [04:16<2:17:35, 28.57s/it]"
     ]
    },
    {
     "name": "stdout",
     "output_type": "stream",
     "text": [
      "Epoch   11, sqrt loss 0.08324, Val sim-NRMS 0.09566, Time Loss: 93.1%, data: 0.3%, val: 6.6%,  1.8 batches/sec\n"
     ]
    },
    {
     "name": "stderr",
     "output_type": "stream",
     "text": [
      "  4%|▍         | 12/300 [04:42<2:13:55, 27.90s/it]"
     ]
    },
    {
     "name": "stdout",
     "output_type": "stream",
     "text": [
      "Epoch   12, sqrt loss 0.08324, Val sim-NRMS 0.09579, Time Loss: 93.1%, data: 0.3%, val: 6.6%,  1.8 batches/sec\n"
     ]
    },
    {
     "name": "stderr",
     "output_type": "stream",
     "text": [
      "  4%|▍         | 13/300 [05:15<2:20:39, 29.41s/it]"
     ]
    },
    {
     "name": "stdout",
     "output_type": "stream",
     "text": [
      "Epoch   13, sqrt loss 0.08324, Val sim-NRMS 0.09562, Time Loss: 93.3%, data: 0.3%, val: 6.4%,  1.8 batches/sec\n"
     ]
    },
    {
     "name": "stderr",
     "output_type": "stream",
     "text": [
      "  5%|▍         | 14/300 [05:42<2:16:49, 28.70s/it]"
     ]
    },
    {
     "name": "stdout",
     "output_type": "stream",
     "text": [
      "Epoch   14, sqrt loss 0.08324, Val sim-NRMS 0.09573, Time Loss: 93.1%, data: 0.3%, val: 6.6%,  1.8 batches/sec\n"
     ]
    },
    {
     "name": "stderr",
     "output_type": "stream",
     "text": [
      "  5%|▌         | 15/300 [06:12<2:18:37, 29.19s/it]"
     ]
    },
    {
     "name": "stdout",
     "output_type": "stream",
     "text": [
      "Epoch   15, sqrt loss 0.08324, Val sim-NRMS 0.09565, Time Loss: 93.2%, data: 0.3%, val: 6.5%,  1.7 batches/sec\n"
     ]
    },
    {
     "name": "stderr",
     "output_type": "stream",
     "text": [
      "  5%|▌         | 16/300 [06:45<2:22:26, 30.09s/it]"
     ]
    },
    {
     "name": "stdout",
     "output_type": "stream",
     "text": [
      "Epoch   16, sqrt loss 0.08325, Val sim-NRMS 0.0957, Time Loss: 93.2%, data: 0.3%, val: 6.5%,  1.7 batches/sec\n"
     ]
    },
    {
     "name": "stderr",
     "output_type": "stream",
     "text": [
      "  6%|▌         | 17/300 [07:13<2:19:05, 29.49s/it]"
     ]
    },
    {
     "name": "stdout",
     "output_type": "stream",
     "text": [
      "Epoch   17, sqrt loss 0.08325, Val sim-NRMS 0.09568, Time Loss: 93.2%, data: 0.3%, val: 6.5%,  1.7 batches/sec\n"
     ]
    },
    {
     "name": "stderr",
     "output_type": "stream",
     "text": [
      "  6%|▌         | 18/300 [07:45<2:22:38, 30.35s/it]"
     ]
    },
    {
     "name": "stdout",
     "output_type": "stream",
     "text": [
      "Epoch   18, sqrt loss 0.08325, Val sim-NRMS 0.09566, Time Loss: 93.2%, data: 0.3%, val: 6.5%,  1.7 batches/sec\n"
     ]
    },
    {
     "name": "stderr",
     "output_type": "stream",
     "text": [
      "  6%|▋         | 19/300 [08:12<2:17:32, 29.37s/it]"
     ]
    },
    {
     "name": "stdout",
     "output_type": "stream",
     "text": [
      "Epoch   19, sqrt loss 0.08325, Val sim-NRMS 0.09576, Time Loss: 93.2%, data: 0.3%, val: 6.5%,  1.7 batches/sec\n"
     ]
    },
    {
     "name": "stderr",
     "output_type": "stream",
     "text": [
      "  7%|▋         | 20/300 [08:46<2:22:48, 30.60s/it]"
     ]
    },
    {
     "name": "stdout",
     "output_type": "stream",
     "text": [
      "Epoch   20, sqrt loss 0.08325, Val sim-NRMS 0.09573, Time Loss: 93.3%, data: 0.3%, val: 6.4%,  1.6 batches/sec\n"
     ]
    },
    {
     "name": "stderr",
     "output_type": "stream",
     "text": [
      "  7%|▋         | 21/300 [09:11<2:15:30, 29.14s/it]"
     ]
    },
    {
     "name": "stdout",
     "output_type": "stream",
     "text": [
      "Epoch   21, sqrt loss 0.08325, Val sim-NRMS 0.09578, Time Loss: 93.3%, data: 0.3%, val: 6.4%,  1.6 batches/sec\n"
     ]
    },
    {
     "name": "stderr",
     "output_type": "stream",
     "text": [
      "  7%|▋         | 22/300 [09:44<2:19:15, 30.06s/it]"
     ]
    },
    {
     "name": "stdout",
     "output_type": "stream",
     "text": [
      "Epoch   22, sqrt loss 0.08325, Val sim-NRMS 0.09566, Time Loss: 93.4%, data: 0.3%, val: 6.3%,  1.6 batches/sec\n"
     ]
    },
    {
     "name": "stderr",
     "output_type": "stream",
     "text": [
      "  8%|▊         | 23/300 [10:12<2:16:35, 29.59s/it]"
     ]
    },
    {
     "name": "stdout",
     "output_type": "stream",
     "text": [
      "Epoch   23, sqrt loss 0.08325, Val sim-NRMS 0.09575, Time Loss: 93.3%, data: 0.3%, val: 6.4%,  1.6 batches/sec\n"
     ]
    },
    {
     "name": "stderr",
     "output_type": "stream",
     "text": [
      "  8%|▊         | 24/300 [10:43<2:18:33, 30.12s/it]"
     ]
    },
    {
     "name": "stdout",
     "output_type": "stream",
     "text": [
      "Epoch   24, sqrt loss 0.08325, Val sim-NRMS 0.09577, Time Loss: 93.3%, data: 0.3%, val: 6.3%,  1.6 batches/sec\n"
     ]
    },
    {
     "name": "stderr",
     "output_type": "stream",
     "text": [
      "  8%|▊         | 25/300 [11:14<2:19:20, 30.40s/it]"
     ]
    },
    {
     "name": "stdout",
     "output_type": "stream",
     "text": [
      "Epoch   25, sqrt loss 0.08325, Val sim-NRMS 0.09569, Time Loss: 93.3%, data: 0.3%, val: 6.3%,  1.6 batches/sec\n"
     ]
    },
    {
     "name": "stderr",
     "output_type": "stream",
     "text": [
      "  9%|▊         | 26/300 [11:41<2:14:10, 29.38s/it]"
     ]
    },
    {
     "name": "stdout",
     "output_type": "stream",
     "text": [
      "Epoch   26, sqrt loss 0.08325, Val sim-NRMS 0.09571, Time Loss: 93.4%, data: 0.3%, val: 6.3%,  1.6 batches/sec\n"
     ]
    },
    {
     "name": "stderr",
     "output_type": "stream",
     "text": [
      "  9%|▉         | 27/300 [12:13<2:16:50, 30.08s/it]"
     ]
    },
    {
     "name": "stdout",
     "output_type": "stream",
     "text": [
      "Epoch   27, sqrt loss 0.08325, Val sim-NRMS 0.09564, Time Loss: 93.4%, data: 0.3%, val: 6.3%,  1.6 batches/sec\n"
     ]
    },
    {
     "name": "stderr",
     "output_type": "stream",
     "text": [
      "  9%|▉         | 28/300 [12:39<2:11:12, 28.94s/it]"
     ]
    },
    {
     "name": "stdout",
     "output_type": "stream",
     "text": [
      "Epoch   28, sqrt loss 0.08325, Val sim-NRMS 0.09561, Time Loss: 93.4%, data: 0.3%, val: 6.3%,  1.6 batches/sec\n"
     ]
    },
    {
     "name": "stderr",
     "output_type": "stream",
     "text": [
      " 10%|▉         | 29/300 [13:14<2:18:29, 30.66s/it]"
     ]
    },
    {
     "name": "stdout",
     "output_type": "stream",
     "text": [
      "Epoch   29, sqrt loss 0.08325, Val sim-NRMS 0.09567, Time Loss: 93.4%, data: 0.3%, val: 6.3%,  1.6 batches/sec\n"
     ]
    },
    {
     "name": "stderr",
     "output_type": "stream",
     "text": [
      " 10%|█         | 30/300 [13:41<2:13:09, 29.59s/it]"
     ]
    },
    {
     "name": "stdout",
     "output_type": "stream",
     "text": [
      "Epoch   30, sqrt loss 0.08325, Val sim-NRMS 0.09565, Time Loss: 93.4%, data: 0.3%, val: 6.3%,  1.6 batches/sec\n"
     ]
    },
    {
     "name": "stderr",
     "output_type": "stream",
     "text": [
      " 10%|█         | 31/300 [14:12<2:13:44, 29.83s/it]"
     ]
    },
    {
     "name": "stdout",
     "output_type": "stream",
     "text": [
      "Epoch   31, sqrt loss 0.08325, Val sim-NRMS 0.09579, Time Loss: 93.3%, data: 0.3%, val: 6.3%,  1.6 batches/sec\n"
     ]
    },
    {
     "name": "stderr",
     "output_type": "stream",
     "text": [
      " 11%|█         | 32/300 [14:38<2:08:04, 28.67s/it]"
     ]
    },
    {
     "name": "stdout",
     "output_type": "stream",
     "text": [
      "Epoch   32, sqrt loss 0.08325, Val sim-NRMS 0.09564, Time Loss: 93.3%, data: 0.3%, val: 6.3%,  1.6 batches/sec\n"
     ]
    },
    {
     "name": "stderr",
     "output_type": "stream",
     "text": [
      " 11%|█         | 33/300 [15:09<2:11:05, 29.46s/it]"
     ]
    },
    {
     "name": "stdout",
     "output_type": "stream",
     "text": [
      "Epoch   33, sqrt loss 0.08325, Val sim-NRMS 0.09572, Time Loss: 93.4%, data: 0.3%, val: 6.3%,  1.6 batches/sec\n"
     ]
    },
    {
     "name": "stderr",
     "output_type": "stream",
     "text": [
      " 11%|█▏        | 34/300 [15:33<2:02:59, 27.74s/it]"
     ]
    },
    {
     "name": "stdout",
     "output_type": "stream",
     "text": [
      "Epoch   34, sqrt loss 0.08325, Val sim-NRMS 0.09576, Time Loss: 93.4%, data: 0.3%, val: 6.3%,  1.6 batches/sec\n"
     ]
    },
    {
     "name": "stderr",
     "output_type": "stream",
     "text": [
      " 12%|█▏        | 35/300 [16:03<2:06:07, 28.56s/it]"
     ]
    },
    {
     "name": "stdout",
     "output_type": "stream",
     "text": [
      "Epoch   35, sqrt loss 0.08325, Val sim-NRMS 0.09573, Time Loss: 93.3%, data: 0.3%, val: 6.3%,  1.6 batches/sec\n"
     ]
    },
    {
     "name": "stderr",
     "output_type": "stream",
     "text": [
      " 12%|█▏        | 36/300 [16:28<2:01:05, 27.52s/it]"
     ]
    },
    {
     "name": "stdout",
     "output_type": "stream",
     "text": [
      "Epoch   36, sqrt loss 0.08325, Val sim-NRMS 0.0957, Time Loss: 93.3%, data: 0.3%, val: 6.3%,  1.6 batches/sec\n"
     ]
    },
    {
     "name": "stderr",
     "output_type": "stream",
     "text": [
      " 12%|█▏        | 37/300 [16:57<2:02:16, 27.90s/it]"
     ]
    },
    {
     "name": "stdout",
     "output_type": "stream",
     "text": [
      "Epoch   37, sqrt loss 0.08325, Val sim-NRMS 0.09589, Time Loss: 93.3%, data: 0.3%, val: 6.3%,  1.6 batches/sec\n"
     ]
    },
    {
     "name": "stderr",
     "output_type": "stream",
     "text": [
      " 13%|█▎        | 38/300 [17:23<1:59:56, 27.47s/it]"
     ]
    },
    {
     "name": "stdout",
     "output_type": "stream",
     "text": [
      "Epoch   38, sqrt loss 0.08325, Val sim-NRMS 0.09559, Time Loss: 93.3%, data: 0.3%, val: 6.3%,  1.6 batches/sec\n"
     ]
    },
    {
     "name": "stderr",
     "output_type": "stream",
     "text": [
      " 13%|█▎        | 39/300 [17:58<2:09:26, 29.76s/it]"
     ]
    },
    {
     "name": "stdout",
     "output_type": "stream",
     "text": [
      "Epoch   39, sqrt loss 0.08325, Val sim-NRMS 0.09569, Time Loss: 93.4%, data: 0.3%, val: 6.3%,  1.6 batches/sec\n"
     ]
    },
    {
     "name": "stderr",
     "output_type": "stream",
     "text": [
      " 13%|█▎        | 40/300 [18:24<2:03:43, 28.55s/it]"
     ]
    },
    {
     "name": "stdout",
     "output_type": "stream",
     "text": [
      "Epoch   40, sqrt loss 0.08325, Val sim-NRMS 0.0957, Time Loss: 93.4%, data: 0.3%, val: 6.3%,  1.6 batches/sec\n"
     ]
    },
    {
     "name": "stderr",
     "output_type": "stream",
     "text": [
      " 14%|█▎        | 41/300 [18:55<2:05:55, 29.17s/it]"
     ]
    },
    {
     "name": "stdout",
     "output_type": "stream",
     "text": [
      "Epoch   41, sqrt loss 0.08325, Val sim-NRMS 0.09576, Time Loss: 93.4%, data: 0.3%, val: 6.3%,  1.6 batches/sec\n"
     ]
    },
    {
     "name": "stderr",
     "output_type": "stream",
     "text": [
      " 14%|█▍        | 42/300 [19:20<2:00:06, 27.93s/it]"
     ]
    },
    {
     "name": "stdout",
     "output_type": "stream",
     "text": [
      "Epoch   42, sqrt loss 0.08325, Val sim-NRMS 0.09573, Time Loss: 93.4%, data: 0.3%, val: 6.3%,  1.6 batches/sec\n"
     ]
    },
    {
     "name": "stderr",
     "output_type": "stream",
     "text": [
      " 14%|█▍        | 43/300 [19:54<2:08:01, 29.89s/it]"
     ]
    },
    {
     "name": "stdout",
     "output_type": "stream",
     "text": [
      "Epoch   43, sqrt loss 0.08325, Val sim-NRMS 0.09577, Time Loss: 93.5%, data: 0.3%, val: 6.2%,  1.5 batches/sec\n"
     ]
    },
    {
     "name": "stderr",
     "output_type": "stream",
     "text": [
      " 15%|█▍        | 44/300 [20:10<1:48:43, 25.48s/it]"
     ]
    },
    {
     "name": "stdout",
     "output_type": "stream",
     "text": [
      "Epoch   44, sqrt loss 0.08325, Val sim-NRMS 0.09579, Time Loss: 93.4%, data: 0.3%, val: 6.2%,  1.6 batches/sec\n"
     ]
    },
    {
     "name": "stderr",
     "output_type": "stream",
     "text": [
      " 15%|█▌        | 45/300 [20:24<1:34:37, 22.26s/it]"
     ]
    },
    {
     "name": "stdout",
     "output_type": "stream",
     "text": [
      "Epoch   45, sqrt loss 0.08325, Val sim-NRMS 0.09595, Time Loss: 93.4%, data: 0.3%, val: 6.3%,  1.6 batches/sec\n"
     ]
    },
    {
     "name": "stderr",
     "output_type": "stream",
     "text": [
      " 15%|█▌        | 46/300 [20:40<1:26:05, 20.34s/it]"
     ]
    },
    {
     "name": "stdout",
     "output_type": "stream",
     "text": [
      "Epoch   46, sqrt loss 0.08325, Val sim-NRMS 0.0957, Time Loss: 93.4%, data: 0.3%, val: 6.3%,  1.6 batches/sec\n"
     ]
    },
    {
     "name": "stderr",
     "output_type": "stream",
     "text": [
      " 16%|█▌        | 47/300 [20:56<1:20:39, 19.13s/it]"
     ]
    },
    {
     "name": "stdout",
     "output_type": "stream",
     "text": [
      "Epoch   47, sqrt loss 0.08325, Val sim-NRMS 0.09576, Time Loss: 93.4%, data: 0.3%, val: 6.3%,  1.6 batches/sec\n"
     ]
    },
    {
     "name": "stderr",
     "output_type": "stream",
     "text": [
      " 16%|█▌        | 48/300 [21:11<1:14:43, 17.79s/it]"
     ]
    },
    {
     "name": "stdout",
     "output_type": "stream",
     "text": [
      "Epoch   48, sqrt loss 0.08325, Val sim-NRMS 0.0959, Time Loss: 93.4%, data: 0.3%, val: 6.3%,  1.6 batches/sec\n"
     ]
    },
    {
     "name": "stderr",
     "output_type": "stream",
     "text": [
      " 16%|█▋        | 49/300 [21:27<1:12:31, 17.34s/it]"
     ]
    },
    {
     "name": "stdout",
     "output_type": "stream",
     "text": [
      "Epoch   49, sqrt loss 0.08325, Val sim-NRMS 0.09575, Time Loss: 93.3%, data: 0.3%, val: 6.3%,  1.6 batches/sec\n"
     ]
    },
    {
     "name": "stderr",
     "output_type": "stream",
     "text": [
      " 17%|█▋        | 50/300 [21:44<1:10:56, 17.03s/it]"
     ]
    },
    {
     "name": "stdout",
     "output_type": "stream",
     "text": [
      "Epoch   50, sqrt loss 0.08325, Val sim-NRMS 0.09581, Time Loss: 93.3%, data: 0.3%, val: 6.4%,  1.6 batches/sec\n"
     ]
    },
    {
     "name": "stderr",
     "output_type": "stream",
     "text": [
      " 17%|█▋        | 51/300 [22:00<1:10:11, 16.91s/it]"
     ]
    },
    {
     "name": "stdout",
     "output_type": "stream",
     "text": [
      "Epoch   51, sqrt loss 0.08325, Val sim-NRMS 0.09594, Time Loss: 93.3%, data: 0.3%, val: 6.4%,  1.7 batches/sec\n"
     ]
    },
    {
     "name": "stderr",
     "output_type": "stream",
     "text": [
      " 17%|█▋        | 52/300 [22:18<1:11:27, 17.29s/it]"
     ]
    },
    {
     "name": "stdout",
     "output_type": "stream",
     "text": [
      "Epoch   52, sqrt loss 0.08325, Val sim-NRMS 0.09561, Time Loss: 93.3%, data: 0.3%, val: 6.4%,  1.7 batches/sec\n"
     ]
    },
    {
     "name": "stderr",
     "output_type": "stream",
     "text": [
      " 18%|█▊        | 53/300 [22:39<1:15:02, 18.23s/it]"
     ]
    },
    {
     "name": "stdout",
     "output_type": "stream",
     "text": [
      "Epoch   53, sqrt loss 0.08325, Val sim-NRMS 0.09575, Time Loss: 93.3%, data: 0.3%, val: 6.4%,  1.7 batches/sec\n"
     ]
    },
    {
     "name": "stderr",
     "output_type": "stream",
     "text": [
      " 18%|█▊        | 54/300 [23:01<1:19:24, 19.37s/it]"
     ]
    },
    {
     "name": "stdout",
     "output_type": "stream",
     "text": [
      "Epoch   54, sqrt loss 0.08325, Val sim-NRMS 0.09573, Time Loss: 93.2%, data: 0.3%, val: 6.4%,  1.7 batches/sec\n"
     ]
    },
    {
     "name": "stderr",
     "output_type": "stream",
     "text": [
      " 18%|█▊        | 55/300 [23:20<1:19:18, 19.42s/it]"
     ]
    },
    {
     "name": "stdout",
     "output_type": "stream",
     "text": [
      "Epoch   55, sqrt loss 0.08325, Val sim-NRMS 0.09595, Time Loss: 93.2%, data: 0.3%, val: 6.5%,  1.7 batches/sec\n"
     ]
    },
    {
     "name": "stderr",
     "output_type": "stream",
     "text": [
      " 19%|█▊        | 56/300 [23:40<1:19:13, 19.48s/it]"
     ]
    },
    {
     "name": "stdout",
     "output_type": "stream",
     "text": [
      "Epoch   56, sqrt loss 0.08326, Val sim-NRMS 0.09588, Time Loss: 93.2%, data: 0.3%, val: 6.5%,  1.7 batches/sec\n"
     ]
    },
    {
     "name": "stderr",
     "output_type": "stream",
     "text": [
      " 19%|█▉        | 57/300 [23:59<1:17:45, 19.20s/it]"
     ]
    },
    {
     "name": "stdout",
     "output_type": "stream",
     "text": [
      "Epoch   57, sqrt loss 0.08326, Val sim-NRMS 0.09587, Time Loss: 93.2%, data: 0.3%, val: 6.5%,  1.7 batches/sec\n"
     ]
    },
    {
     "name": "stderr",
     "output_type": "stream",
     "text": [
      " 19%|█▉        | 58/300 [24:17<1:16:09, 18.88s/it]"
     ]
    },
    {
     "name": "stdout",
     "output_type": "stream",
     "text": [
      "Epoch   58, sqrt loss 0.08325, Val sim-NRMS 0.09579, Time Loss: 93.2%, data: 0.3%, val: 6.5%,  1.7 batches/sec\n"
     ]
    },
    {
     "name": "stderr",
     "output_type": "stream",
     "text": [
      " 20%|█▉        | 59/300 [24:35<1:14:52, 18.64s/it]"
     ]
    },
    {
     "name": "stdout",
     "output_type": "stream",
     "text": [
      "Epoch   59, sqrt loss 0.08325, Val sim-NRMS 0.09567, Time Loss: 93.2%, data: 0.3%, val: 6.5%,  1.7 batches/sec\n"
     ]
    },
    {
     "name": "stderr",
     "output_type": "stream",
     "text": [
      " 20%|██        | 60/300 [24:53<1:13:58, 18.49s/it]"
     ]
    },
    {
     "name": "stdout",
     "output_type": "stream",
     "text": [
      "Epoch   60, sqrt loss 0.08325, Val sim-NRMS 0.09578, Time Loss: 93.2%, data: 0.3%, val: 6.5%,  1.7 batches/sec\n"
     ]
    },
    {
     "name": "stderr",
     "output_type": "stream",
     "text": [
      " 20%|██        | 61/300 [25:14<1:17:03, 19.35s/it]"
     ]
    },
    {
     "name": "stdout",
     "output_type": "stream",
     "text": [
      "Epoch   61, sqrt loss 0.08326, Val sim-NRMS 0.09582, Time Loss: 93.2%, data: 0.3%, val: 6.5%,  1.7 batches/sec\n"
     ]
    },
    {
     "name": "stderr",
     "output_type": "stream",
     "text": [
      " 21%|██        | 62/300 [25:34<1:16:54, 19.39s/it]"
     ]
    },
    {
     "name": "stdout",
     "output_type": "stream",
     "text": [
      "Epoch   62, sqrt loss 0.08325, Val sim-NRMS 0.09583, Time Loss: 93.1%, data: 0.3%, val: 6.5%,  1.7 batches/sec\n"
     ]
    },
    {
     "name": "stderr",
     "output_type": "stream",
     "text": [
      " 21%|██        | 63/300 [25:53<1:15:58, 19.23s/it]"
     ]
    },
    {
     "name": "stdout",
     "output_type": "stream",
     "text": [
      "Epoch   63, sqrt loss 0.08325, Val sim-NRMS 0.09579, Time Loss: 93.1%, data: 0.3%, val: 6.6%,  1.7 batches/sec\n"
     ]
    },
    {
     "name": "stderr",
     "output_type": "stream",
     "text": [
      " 21%|██▏       | 64/300 [26:11<1:14:17, 18.89s/it]"
     ]
    },
    {
     "name": "stdout",
     "output_type": "stream",
     "text": [
      "Epoch   64, sqrt loss 0.08325, Val sim-NRMS 0.09582, Time Loss: 93.1%, data: 0.3%, val: 6.6%,  1.8 batches/sec\n"
     ]
    },
    {
     "name": "stderr",
     "output_type": "stream",
     "text": [
      " 22%|██▏       | 65/300 [26:30<1:13:52, 18.86s/it]"
     ]
    },
    {
     "name": "stdout",
     "output_type": "stream",
     "text": [
      "Epoch   65, sqrt loss 0.08325, Val sim-NRMS 0.09583, Time Loss: 93.1%, data: 0.3%, val: 6.6%,  1.8 batches/sec\n"
     ]
    },
    {
     "name": "stderr",
     "output_type": "stream",
     "text": [
      " 22%|██▏       | 66/300 [26:49<1:13:58, 18.97s/it]"
     ]
    },
    {
     "name": "stdout",
     "output_type": "stream",
     "text": [
      "Epoch   66, sqrt loss 0.08325, Val sim-NRMS 0.09576, Time Loss: 93.1%, data: 0.3%, val: 6.6%,  1.8 batches/sec\n"
     ]
    },
    {
     "name": "stderr",
     "output_type": "stream",
     "text": [
      " 22%|██▏       | 67/300 [27:08<1:14:01, 19.06s/it]"
     ]
    },
    {
     "name": "stdout",
     "output_type": "stream",
     "text": [
      "Epoch   67, sqrt loss 0.08326, Val sim-NRMS 0.09605, Time Loss: 93.1%, data: 0.3%, val: 6.6%,  1.8 batches/sec\n"
     ]
    },
    {
     "name": "stderr",
     "output_type": "stream",
     "text": [
      " 23%|██▎       | 68/300 [27:28<1:14:19, 19.22s/it]"
     ]
    },
    {
     "name": "stdout",
     "output_type": "stream",
     "text": [
      "Epoch   68, sqrt loss 0.08325, Val sim-NRMS 0.09577, Time Loss: 93.1%, data: 0.3%, val: 6.6%,  1.8 batches/sec\n"
     ]
    },
    {
     "name": "stderr",
     "output_type": "stream",
     "text": [
      " 23%|██▎       | 69/300 [27:46<1:12:49, 18.91s/it]"
     ]
    },
    {
     "name": "stdout",
     "output_type": "stream",
     "text": [
      "Epoch   69, sqrt loss 0.08326, Val sim-NRMS 0.09586, Time Loss: 93.1%, data: 0.3%, val: 6.6%,  1.8 batches/sec\n"
     ]
    },
    {
     "name": "stderr",
     "output_type": "stream",
     "text": [
      " 23%|██▎       | 70/300 [28:04<1:11:36, 18.68s/it]"
     ]
    },
    {
     "name": "stdout",
     "output_type": "stream",
     "text": [
      "Epoch   70, sqrt loss 0.08325, Val sim-NRMS 0.09579, Time Loss: 93.1%, data: 0.3%, val: 6.6%,  1.8 batches/sec\n"
     ]
    },
    {
     "name": "stderr",
     "output_type": "stream",
     "text": [
      " 24%|██▎       | 71/300 [28:22<1:10:28, 18.47s/it]"
     ]
    },
    {
     "name": "stdout",
     "output_type": "stream",
     "text": [
      "Epoch   71, sqrt loss 0.08326, Val sim-NRMS 0.0957, Time Loss: 93.1%, data: 0.3%, val: 6.6%,  1.8 batches/sec\n"
     ]
    },
    {
     "name": "stderr",
     "output_type": "stream",
     "text": [
      " 24%|██▍       | 72/300 [28:40<1:09:44, 18.35s/it]"
     ]
    },
    {
     "name": "stdout",
     "output_type": "stream",
     "text": [
      "Epoch   72, sqrt loss 0.08325, Val sim-NRMS 0.09579, Time Loss: 93.0%, data: 0.3%, val: 6.7%,  1.8 batches/sec\n"
     ]
    },
    {
     "name": "stderr",
     "output_type": "stream",
     "text": [
      " 24%|██▍       | 73/300 [28:59<1:09:45, 18.44s/it]"
     ]
    },
    {
     "name": "stdout",
     "output_type": "stream",
     "text": [
      "Epoch   73, sqrt loss 0.08325, Val sim-NRMS 0.09575, Time Loss: 93.0%, data: 0.3%, val: 6.7%,  1.8 batches/sec\n"
     ]
    },
    {
     "name": "stderr",
     "output_type": "stream",
     "text": [
      " 25%|██▍       | 74/300 [29:17<1:09:02, 18.33s/it]"
     ]
    },
    {
     "name": "stdout",
     "output_type": "stream",
     "text": [
      "Epoch   74, sqrt loss 0.08325, Val sim-NRMS 0.09573, Time Loss: 93.0%, data: 0.3%, val: 6.7%,  1.8 batches/sec\n"
     ]
    },
    {
     "name": "stderr",
     "output_type": "stream",
     "text": [
      " 25%|██▌       | 75/300 [29:35<1:08:15, 18.20s/it]"
     ]
    },
    {
     "name": "stdout",
     "output_type": "stream",
     "text": [
      "Epoch   75, sqrt loss 0.08325, Val sim-NRMS 0.09587, Time Loss: 93.0%, data: 0.3%, val: 6.7%,  1.8 batches/sec\n"
     ]
    },
    {
     "name": "stderr",
     "output_type": "stream",
     "text": [
      " 25%|██▌       | 76/300 [29:53<1:07:58, 18.21s/it]"
     ]
    },
    {
     "name": "stdout",
     "output_type": "stream",
     "text": [
      "Epoch   76, sqrt loss 0.08325, Val sim-NRMS 0.09569, Time Loss: 93.0%, data: 0.3%, val: 6.7%,  1.8 batches/sec\n"
     ]
    },
    {
     "name": "stderr",
     "output_type": "stream",
     "text": [
      " 26%|██▌       | 77/300 [30:11<1:07:37, 18.19s/it]"
     ]
    },
    {
     "name": "stdout",
     "output_type": "stream",
     "text": [
      "Epoch   77, sqrt loss 0.08326, Val sim-NRMS 0.09596, Time Loss: 93.0%, data: 0.3%, val: 6.7%,  1.8 batches/sec\n"
     ]
    },
    {
     "name": "stderr",
     "output_type": "stream",
     "text": [
      " 26%|██▌       | 78/300 [30:29<1:07:13, 18.17s/it]"
     ]
    },
    {
     "name": "stdout",
     "output_type": "stream",
     "text": [
      "Epoch   78, sqrt loss 0.08326, Val sim-NRMS 0.09582, Time Loss: 93.0%, data: 0.3%, val: 6.7%,  1.8 batches/sec\n"
     ]
    },
    {
     "name": "stderr",
     "output_type": "stream",
     "text": [
      " 26%|██▋       | 79/300 [30:47<1:06:54, 18.16s/it]"
     ]
    },
    {
     "name": "stdout",
     "output_type": "stream",
     "text": [
      "Epoch   79, sqrt loss 0.08326, Val sim-NRMS 0.09573, Time Loss: 93.0%, data: 0.3%, val: 6.7%,  1.8 batches/sec\n"
     ]
    },
    {
     "name": "stderr",
     "output_type": "stream",
     "text": [
      " 27%|██▋       | 80/300 [31:06<1:06:52, 18.24s/it]"
     ]
    },
    {
     "name": "stdout",
     "output_type": "stream",
     "text": [
      "Epoch   80, sqrt loss 0.08326, Val sim-NRMS 0.09587, Time Loss: 93.0%, data: 0.3%, val: 6.7%,  1.8 batches/sec\n"
     ]
    },
    {
     "name": "stderr",
     "output_type": "stream",
     "text": [
      " 27%|██▋       | 81/300 [31:24<1:06:24, 18.20s/it]"
     ]
    },
    {
     "name": "stdout",
     "output_type": "stream",
     "text": [
      "Epoch   81, sqrt loss 0.08326, Val sim-NRMS 0.09586, Time Loss: 93.0%, data: 0.3%, val: 6.7%,  1.8 batches/sec\n"
     ]
    },
    {
     "name": "stderr",
     "output_type": "stream",
     "text": [
      " 27%|██▋       | 82/300 [31:42<1:05:59, 18.16s/it]"
     ]
    },
    {
     "name": "stdout",
     "output_type": "stream",
     "text": [
      "Epoch   82, sqrt loss 0.08325, Val sim-NRMS 0.09599, Time Loss: 93.0%, data: 0.3%, val: 6.7%,  1.9 batches/sec\n"
     ]
    },
    {
     "name": "stderr",
     "output_type": "stream",
     "text": [
      " 28%|██▊       | 83/300 [32:00<1:05:35, 18.14s/it]"
     ]
    },
    {
     "name": "stdout",
     "output_type": "stream",
     "text": [
      "Epoch   83, sqrt loss 0.08325, Val sim-NRMS 0.09568, Time Loss: 93.0%, data: 0.3%, val: 6.7%,  1.9 batches/sec\n"
     ]
    },
    {
     "name": "stderr",
     "output_type": "stream",
     "text": [
      " 28%|██▊       | 84/300 [32:18<1:05:32, 18.21s/it]"
     ]
    },
    {
     "name": "stdout",
     "output_type": "stream",
     "text": [
      "Epoch   84, sqrt loss 0.08325, Val sim-NRMS 0.09574, Time Loss: 92.9%, data: 0.3%, val: 6.8%,  1.9 batches/sec\n"
     ]
    },
    {
     "name": "stderr",
     "output_type": "stream",
     "text": [
      " 28%|██▊       | 85/300 [32:38<1:06:31, 18.57s/it]"
     ]
    },
    {
     "name": "stdout",
     "output_type": "stream",
     "text": [
      "Epoch   85, sqrt loss 0.08326, Val sim-NRMS 0.09572, Time Loss: 92.9%, data: 0.3%, val: 6.8%,  1.9 batches/sec\n"
     ]
    },
    {
     "name": "stderr",
     "output_type": "stream",
     "text": [
      " 29%|██▊       | 86/300 [32:57<1:07:18, 18.87s/it]"
     ]
    },
    {
     "name": "stdout",
     "output_type": "stream",
     "text": [
      "Epoch   86, sqrt loss 0.08325, Val sim-NRMS 0.09585, Time Loss: 92.9%, data: 0.3%, val: 6.8%,  1.9 batches/sec\n"
     ]
    },
    {
     "name": "stderr",
     "output_type": "stream",
     "text": [
      " 29%|██▉       | 87/300 [33:17<1:07:32, 19.03s/it]"
     ]
    },
    {
     "name": "stdout",
     "output_type": "stream",
     "text": [
      "Epoch   87, sqrt loss 0.08326, Val sim-NRMS 0.09577, Time Loss: 92.9%, data: 0.3%, val: 6.8%,  1.9 batches/sec\n"
     ]
    },
    {
     "name": "stderr",
     "output_type": "stream",
     "text": [
      " 29%|██▉       | 88/300 [33:36<1:07:34, 19.13s/it]"
     ]
    },
    {
     "name": "stdout",
     "output_type": "stream",
     "text": [
      "Epoch   88, sqrt loss 0.08325, Val sim-NRMS 0.09582, Time Loss: 92.9%, data: 0.3%, val: 6.8%,  1.9 batches/sec\n"
     ]
    },
    {
     "name": "stderr",
     "output_type": "stream",
     "text": [
      " 30%|██▉       | 89/300 [33:56<1:07:32, 19.20s/it]"
     ]
    },
    {
     "name": "stdout",
     "output_type": "stream",
     "text": [
      "Epoch   89, sqrt loss 0.08325, Val sim-NRMS 0.0957, Time Loss: 92.9%, data: 0.3%, val: 6.8%,  1.9 batches/sec\n"
     ]
    },
    {
     "name": "stderr",
     "output_type": "stream",
     "text": [
      " 30%|███       | 90/300 [34:15<1:07:13, 19.21s/it]"
     ]
    },
    {
     "name": "stdout",
     "output_type": "stream",
     "text": [
      "Epoch   90, sqrt loss 0.08326, Val sim-NRMS 0.09588, Time Loss: 92.9%, data: 0.3%, val: 6.8%,  1.9 batches/sec\n"
     ]
    },
    {
     "name": "stderr",
     "output_type": "stream",
     "text": [
      " 30%|███       | 91/300 [34:34<1:06:59, 19.23s/it]"
     ]
    },
    {
     "name": "stdout",
     "output_type": "stream",
     "text": [
      "Epoch   91, sqrt loss 0.08325, Val sim-NRMS 0.09563, Time Loss: 92.9%, data: 0.3%, val: 6.8%,  1.9 batches/sec\n"
     ]
    },
    {
     "name": "stderr",
     "output_type": "stream",
     "text": [
      " 31%|███       | 92/300 [34:53<1:06:37, 19.22s/it]"
     ]
    },
    {
     "name": "stdout",
     "output_type": "stream",
     "text": [
      "Epoch   92, sqrt loss 0.08325, Val sim-NRMS 0.09586, Time Loss: 92.9%, data: 0.3%, val: 6.8%,  1.9 batches/sec\n"
     ]
    },
    {
     "name": "stderr",
     "output_type": "stream",
     "text": [
      " 31%|███       | 93/300 [35:13<1:06:24, 19.25s/it]"
     ]
    },
    {
     "name": "stdout",
     "output_type": "stream",
     "text": [
      "Epoch   93, sqrt loss 0.08325, Val sim-NRMS 0.09572, Time Loss: 92.9%, data: 0.3%, val: 6.8%,  1.9 batches/sec\n"
     ]
    },
    {
     "name": "stderr",
     "output_type": "stream",
     "text": [
      " 31%|███▏      | 94/300 [35:32<1:06:07, 19.26s/it]"
     ]
    },
    {
     "name": "stdout",
     "output_type": "stream",
     "text": [
      "Epoch   94, sqrt loss 0.08326, Val sim-NRMS 0.09587, Time Loss: 92.9%, data: 0.3%, val: 6.8%,  1.9 batches/sec\n"
     ]
    },
    {
     "name": "stderr",
     "output_type": "stream",
     "text": [
      " 32%|███▏      | 95/300 [35:51<1:05:52, 19.28s/it]"
     ]
    },
    {
     "name": "stdout",
     "output_type": "stream",
     "text": [
      "Epoch   95, sqrt loss 0.08325, Val sim-NRMS 0.09576, Time Loss: 92.9%, data: 0.3%, val: 6.8%,  1.9 batches/sec\n"
     ]
    },
    {
     "name": "stderr",
     "output_type": "stream",
     "text": [
      " 32%|███▏      | 96/300 [36:10<1:05:30, 19.27s/it]"
     ]
    },
    {
     "name": "stdout",
     "output_type": "stream",
     "text": [
      "Epoch   96, sqrt loss 0.08326, Val sim-NRMS 0.09574, Time Loss: 92.9%, data: 0.3%, val: 6.9%,  1.9 batches/sec\n"
     ]
    },
    {
     "name": "stderr",
     "output_type": "stream",
     "text": [
      " 32%|███▏      | 97/300 [36:30<1:05:09, 19.26s/it]"
     ]
    },
    {
     "name": "stdout",
     "output_type": "stream",
     "text": [
      "Epoch   97, sqrt loss 0.08325, Val sim-NRMS 0.09561, Time Loss: 92.8%, data: 0.3%, val: 6.9%,  1.9 batches/sec\n"
     ]
    },
    {
     "name": "stderr",
     "output_type": "stream",
     "text": [
      " 33%|███▎      | 98/300 [36:49<1:04:59, 19.30s/it]"
     ]
    },
    {
     "name": "stdout",
     "output_type": "stream",
     "text": [
      "Epoch   98, sqrt loss 0.08326, Val sim-NRMS 0.09585, Time Loss: 92.8%, data: 0.3%, val: 6.9%,  1.9 batches/sec\n"
     ]
    },
    {
     "name": "stderr",
     "output_type": "stream",
     "text": [
      " 33%|███▎      | 99/300 [37:08<1:04:47, 19.34s/it]"
     ]
    },
    {
     "name": "stdout",
     "output_type": "stream",
     "text": [
      "Epoch   99, sqrt loss 0.08325, Val sim-NRMS 0.0956, Time Loss: 92.8%, data: 0.3%, val: 6.9%,  1.9 batches/sec\n"
     ]
    },
    {
     "name": "stderr",
     "output_type": "stream",
     "text": [
      " 33%|███▎      | 100/300 [37:28<1:04:47, 19.44s/it]"
     ]
    },
    {
     "name": "stdout",
     "output_type": "stream",
     "text": [
      "Epoch  100, sqrt loss 0.08325, Val sim-NRMS 0.09586, Time Loss: 92.8%, data: 0.3%, val: 6.9%,  1.9 batches/sec\n"
     ]
    },
    {
     "name": "stderr",
     "output_type": "stream",
     "text": [
      " 34%|███▎      | 101/300 [37:46<1:02:27, 18.83s/it]"
     ]
    },
    {
     "name": "stdout",
     "output_type": "stream",
     "text": [
      "Epoch  101, sqrt loss 0.08326, Val sim-NRMS 0.09575, Time Loss: 92.8%, data: 0.3%, val: 6.9%,  1.9 batches/sec\n"
     ]
    },
    {
     "name": "stderr",
     "output_type": "stream",
     "text": [
      " 34%|███▍      | 102/300 [38:01<58:20, 17.68s/it]  "
     ]
    },
    {
     "name": "stdout",
     "output_type": "stream",
     "text": [
      "Epoch  102, sqrt loss 0.08326, Val sim-NRMS 0.09566, Time Loss: 92.8%, data: 0.3%, val: 6.9%,  1.9 batches/sec\n"
     ]
    },
    {
     "name": "stderr",
     "output_type": "stream",
     "text": [
      " 34%|███▍      | 103/300 [38:16<55:37, 16.94s/it]"
     ]
    },
    {
     "name": "stdout",
     "output_type": "stream",
     "text": [
      "Epoch  103, sqrt loss 0.08325, Val sim-NRMS 0.09588, Time Loss: 92.8%, data: 0.3%, val: 6.9%,  1.9 batches/sec\n"
     ]
    },
    {
     "name": "stderr",
     "output_type": "stream",
     "text": [
      " 35%|███▍      | 104/300 [38:31<53:25, 16.35s/it]"
     ]
    },
    {
     "name": "stdout",
     "output_type": "stream",
     "text": [
      "Epoch  104, sqrt loss 0.08326, Val sim-NRMS 0.09581, Time Loss: 92.8%, data: 0.3%, val: 6.9%,  1.9 batches/sec\n"
     ]
    },
    {
     "name": "stderr",
     "output_type": "stream",
     "text": [
      " 35%|███▌      | 105/300 [38:51<57:10, 17.59s/it]"
     ]
    },
    {
     "name": "stdout",
     "output_type": "stream",
     "text": [
      "Epoch  105, sqrt loss 0.08325, Val sim-NRMS 0.09593, Time Loss: 92.8%, data: 0.3%, val: 6.9%,  1.9 batches/sec\n"
     ]
    },
    {
     "name": "stderr",
     "output_type": "stream",
     "text": [
      " 35%|███▌      | 106/300 [39:25<1:12:18, 22.37s/it]"
     ]
    },
    {
     "name": "stdout",
     "output_type": "stream",
     "text": [
      "Epoch  106, sqrt loss 0.08325, Val sim-NRMS 0.09582, Time Loss: 92.8%, data: 0.3%, val: 6.9%,  1.9 batches/sec\n"
     ]
    },
    {
     "name": "stderr",
     "output_type": "stream",
     "text": [
      " 36%|███▌      | 107/300 [39:53<1:17:48, 24.19s/it]"
     ]
    },
    {
     "name": "stdout",
     "output_type": "stream",
     "text": [
      "########## New lowest validation loss achieved ########### sim-NRMS = 0.0955488835089018\n",
      "Epoch  107, sqrt loss 0.08325, Val sim-NRMS 0.09555, Time Loss: 92.8%, data: 0.3%, val: 6.9%,  1.9 batches/sec\n"
     ]
    },
    {
     "name": "stderr",
     "output_type": "stream",
     "text": [
      " 36%|███▌      | 108/300 [40:22<1:21:38, 25.51s/it]"
     ]
    },
    {
     "name": "stdout",
     "output_type": "stream",
     "text": [
      "Epoch  108, sqrt loss 0.08325, Val sim-NRMS 0.09574, Time Loss: 92.8%, data: 0.3%, val: 6.9%,  1.9 batches/sec\n"
     ]
    },
    {
     "name": "stderr",
     "output_type": "stream",
     "text": [
      " 36%|███▋      | 109/300 [40:53<1:26:22, 27.13s/it]"
     ]
    },
    {
     "name": "stdout",
     "output_type": "stream",
     "text": [
      "Epoch  109, sqrt loss 0.08325, Val sim-NRMS 0.09576, Time Loss: 92.8%, data: 0.3%, val: 6.9%,  1.9 batches/sec\n"
     ]
    },
    {
     "name": "stderr",
     "output_type": "stream",
     "text": [
      " 37%|███▋      | 110/300 [41:21<1:26:41, 27.38s/it]"
     ]
    },
    {
     "name": "stdout",
     "output_type": "stream",
     "text": [
      "Epoch  110, sqrt loss 0.08325, Val sim-NRMS 0.09594, Time Loss: 92.8%, data: 0.3%, val: 6.9%,  1.9 batches/sec\n"
     ]
    },
    {
     "name": "stderr",
     "output_type": "stream",
     "text": [
      " 37%|███▋      | 111/300 [41:57<1:34:59, 30.16s/it]"
     ]
    },
    {
     "name": "stdout",
     "output_type": "stream",
     "text": [
      "Epoch  111, sqrt loss 0.08326, Val sim-NRMS 0.09577, Time Loss: 92.8%, data: 0.3%, val: 6.9%,  1.9 batches/sec\n"
     ]
    },
    {
     "name": "stderr",
     "output_type": "stream",
     "text": [
      " 37%|███▋      | 112/300 [42:39<1:45:39, 33.72s/it]"
     ]
    },
    {
     "name": "stdout",
     "output_type": "stream",
     "text": [
      "Epoch  112, sqrt loss 0.08326, Val sim-NRMS 0.09588, Time Loss: 92.8%, data: 0.3%, val: 6.9%,  1.9 batches/sec\n"
     ]
    },
    {
     "name": "stderr",
     "output_type": "stream",
     "text": [
      " 38%|███▊      | 113/300 [43:15<1:46:49, 34.28s/it]"
     ]
    },
    {
     "name": "stdout",
     "output_type": "stream",
     "text": [
      "Epoch  113, sqrt loss 0.08325, Val sim-NRMS 0.09581, Time Loss: 92.9%, data: 0.3%, val: 6.8%,  1.9 batches/sec\n"
     ]
    },
    {
     "name": "stderr",
     "output_type": "stream",
     "text": [
      " 38%|███▊      | 114/300 [43:59<1:55:02, 37.11s/it]"
     ]
    },
    {
     "name": "stdout",
     "output_type": "stream",
     "text": [
      "Epoch  114, sqrt loss 0.08325, Val sim-NRMS 0.09585, Time Loss: 92.9%, data: 0.3%, val: 6.8%,  1.9 batches/sec\n"
     ]
    },
    {
     "name": "stderr",
     "output_type": "stream",
     "text": [
      " 38%|███▊      | 115/300 [44:34<1:53:00, 36.65s/it]"
     ]
    },
    {
     "name": "stdout",
     "output_type": "stream",
     "text": [
      "Epoch  115, sqrt loss 0.08326, Val sim-NRMS 0.09603, Time Loss: 92.9%, data: 0.3%, val: 6.8%,  1.8 batches/sec\n"
     ]
    },
    {
     "name": "stderr",
     "output_type": "stream",
     "text": [
      " 39%|███▊      | 116/300 [45:13<1:54:25, 37.31s/it]"
     ]
    },
    {
     "name": "stdout",
     "output_type": "stream",
     "text": [
      "Epoch  116, sqrt loss 0.08326, Val sim-NRMS 0.09602, Time Loss: 93.0%, data: 0.3%, val: 6.7%,  1.8 batches/sec\n"
     ]
    },
    {
     "name": "stderr",
     "output_type": "stream",
     "text": [
      " 39%|███▉      | 117/300 [45:29<1:34:17, 30.92s/it]"
     ]
    },
    {
     "name": "stdout",
     "output_type": "stream",
     "text": [
      "Epoch  117, sqrt loss 0.08326, Val sim-NRMS 0.09561, Time Loss: 93.0%, data: 0.3%, val: 6.7%,  1.8 batches/sec\n"
     ]
    },
    {
     "name": "stderr",
     "output_type": "stream",
     "text": [
      " 39%|███▉      | 118/300 [45:45<1:19:49, 26.32s/it]"
     ]
    },
    {
     "name": "stdout",
     "output_type": "stream",
     "text": [
      "Epoch  118, sqrt loss 0.08325, Val sim-NRMS 0.09585, Time Loss: 93.0%, data: 0.3%, val: 6.7%,  1.8 batches/sec\n"
     ]
    },
    {
     "name": "stderr",
     "output_type": "stream",
     "text": [
      " 40%|███▉      | 119/300 [46:16<1:23:35, 27.71s/it]"
     ]
    },
    {
     "name": "stdout",
     "output_type": "stream",
     "text": [
      "Epoch  119, sqrt loss 0.08326, Val sim-NRMS 0.09568, Time Loss: 92.9%, data: 0.3%, val: 6.8%,  1.8 batches/sec\n"
     ]
    },
    {
     "name": "stderr",
     "output_type": "stream",
     "text": [
      " 40%|████      | 120/300 [46:53<1:32:11, 30.73s/it]"
     ]
    },
    {
     "name": "stdout",
     "output_type": "stream",
     "text": [
      "Epoch  120, sqrt loss 0.08325, Val sim-NRMS 0.09571, Time Loss: 93.0%, data: 0.3%, val: 6.7%,  1.8 batches/sec\n"
     ]
    },
    {
     "name": "stderr",
     "output_type": "stream",
     "text": [
      " 40%|████      | 121/300 [47:30<1:36:37, 32.39s/it]"
     ]
    },
    {
     "name": "stdout",
     "output_type": "stream",
     "text": [
      "Epoch  121, sqrt loss 0.08326, Val sim-NRMS 0.09599, Time Loss: 93.0%, data: 0.3%, val: 6.7%,  1.8 batches/sec\n"
     ]
    },
    {
     "name": "stderr",
     "output_type": "stream",
     "text": [
      " 41%|████      | 122/300 [48:07<1:40:50, 33.99s/it]"
     ]
    },
    {
     "name": "stdout",
     "output_type": "stream",
     "text": [
      "Epoch  122, sqrt loss 0.08325, Val sim-NRMS 0.09563, Time Loss: 93.0%, data: 0.3%, val: 6.7%,  1.8 batches/sec\n"
     ]
    },
    {
     "name": "stderr",
     "output_type": "stream",
     "text": [
      " 41%|████      | 123/300 [48:37<1:36:33, 32.73s/it]"
     ]
    },
    {
     "name": "stdout",
     "output_type": "stream",
     "text": [
      "Epoch  123, sqrt loss 0.08326, Val sim-NRMS 0.09593, Time Loss: 93.0%, data: 0.3%, val: 6.7%,  1.8 batches/sec\n"
     ]
    },
    {
     "name": "stderr",
     "output_type": "stream",
     "text": [
      " 41%|████▏     | 124/300 [48:53<1:21:35, 27.82s/it]"
     ]
    },
    {
     "name": "stdout",
     "output_type": "stream",
     "text": [
      "Epoch  124, sqrt loss 0.08326, Val sim-NRMS 0.09579, Time Loss: 93.0%, data: 0.3%, val: 6.7%,  1.8 batches/sec\n"
     ]
    },
    {
     "name": "stderr",
     "output_type": "stream",
     "text": [
      " 42%|████▏     | 125/300 [49:08<1:09:53, 23.96s/it]"
     ]
    },
    {
     "name": "stdout",
     "output_type": "stream",
     "text": [
      "Epoch  125, sqrt loss 0.08326, Val sim-NRMS 0.09579, Time Loss: 93.0%, data: 0.3%, val: 6.7%,  1.8 batches/sec\n"
     ]
    },
    {
     "name": "stderr",
     "output_type": "stream",
     "text": [
      " 42%|████▏     | 126/300 [49:25<1:02:39, 21.61s/it]"
     ]
    },
    {
     "name": "stdout",
     "output_type": "stream",
     "text": [
      "Epoch  126, sqrt loss 0.08326, Val sim-NRMS 0.09625, Time Loss: 93.0%, data: 0.3%, val: 6.7%,  1.8 batches/sec\n"
     ]
    },
    {
     "name": "stderr",
     "output_type": "stream",
     "text": [
      " 42%|████▏     | 127/300 [49:46<1:02:19, 21.61s/it]"
     ]
    },
    {
     "name": "stdout",
     "output_type": "stream",
     "text": [
      "Epoch  127, sqrt loss 0.08325, Val sim-NRMS 0.09562, Time Loss: 93.0%, data: 0.3%, val: 6.7%,  1.8 batches/sec\n"
     ]
    },
    {
     "name": "stderr",
     "output_type": "stream",
     "text": [
      " 43%|████▎     | 128/300 [50:05<59:12, 20.65s/it]  "
     ]
    },
    {
     "name": "stdout",
     "output_type": "stream",
     "text": [
      "Epoch  128, sqrt loss 0.08325, Val sim-NRMS 0.09573, Time Loss: 93.0%, data: 0.3%, val: 6.7%,  1.8 batches/sec\n"
     ]
    },
    {
     "name": "stderr",
     "output_type": "stream",
     "text": [
      " 43%|████▎     | 129/300 [50:19<53:20, 18.72s/it]"
     ]
    },
    {
     "name": "stdout",
     "output_type": "stream",
     "text": [
      "Epoch  129, sqrt loss 0.08325, Val sim-NRMS 0.09578, Time Loss: 93.0%, data: 0.3%, val: 6.7%,  1.8 batches/sec\n"
     ]
    },
    {
     "name": "stderr",
     "output_type": "stream",
     "text": [
      " 43%|████▎     | 130/300 [50:33<49:05, 17.33s/it]"
     ]
    },
    {
     "name": "stdout",
     "output_type": "stream",
     "text": [
      "Epoch  130, sqrt loss 0.08326, Val sim-NRMS 0.09603, Time Loss: 93.0%, data: 0.3%, val: 6.7%,  1.8 batches/sec\n"
     ]
    },
    {
     "name": "stderr",
     "output_type": "stream",
     "text": [
      " 44%|████▎     | 131/300 [50:47<46:02, 16.35s/it]"
     ]
    },
    {
     "name": "stdout",
     "output_type": "stream",
     "text": [
      "Epoch  131, sqrt loss 0.08326, Val sim-NRMS 0.09604, Time Loss: 92.9%, data: 0.3%, val: 6.7%,  1.8 batches/sec\n"
     ]
    },
    {
     "name": "stderr",
     "output_type": "stream",
     "text": [
      " 44%|████▍     | 132/300 [51:01<43:47, 15.64s/it]"
     ]
    },
    {
     "name": "stdout",
     "output_type": "stream",
     "text": [
      "Epoch  132, sqrt loss 0.08326, Val sim-NRMS 0.09593, Time Loss: 92.9%, data: 0.3%, val: 6.8%,  1.9 batches/sec\n"
     ]
    },
    {
     "name": "stderr",
     "output_type": "stream",
     "text": [
      " 44%|████▍     | 133/300 [51:15<42:14, 15.18s/it]"
     ]
    },
    {
     "name": "stdout",
     "output_type": "stream",
     "text": [
      "Epoch  133, sqrt loss 0.08326, Val sim-NRMS 0.09563, Time Loss: 92.9%, data: 0.3%, val: 6.8%,  1.9 batches/sec\n"
     ]
    },
    {
     "name": "stderr",
     "output_type": "stream",
     "text": [
      " 45%|████▍     | 134/300 [51:29<41:01, 14.83s/it]"
     ]
    },
    {
     "name": "stdout",
     "output_type": "stream",
     "text": [
      "Epoch  134, sqrt loss 0.08325, Val sim-NRMS 0.09582, Time Loss: 92.9%, data: 0.3%, val: 6.8%,  1.9 batches/sec\n"
     ]
    },
    {
     "name": "stderr",
     "output_type": "stream",
     "text": [
      " 45%|████▌     | 135/300 [51:43<40:05, 14.58s/it]"
     ]
    },
    {
     "name": "stdout",
     "output_type": "stream",
     "text": [
      "Epoch  135, sqrt loss 0.08325, Val sim-NRMS 0.09569, Time Loss: 92.9%, data: 0.3%, val: 6.8%,  1.9 batches/sec\n"
     ]
    },
    {
     "name": "stderr",
     "output_type": "stream",
     "text": [
      " 45%|████▌     | 136/300 [51:58<39:51, 14.58s/it]"
     ]
    },
    {
     "name": "stdout",
     "output_type": "stream",
     "text": [
      "Epoch  136, sqrt loss 0.08325, Val sim-NRMS 0.09577, Time Loss: 92.9%, data: 0.3%, val: 6.8%,  1.9 batches/sec\n"
     ]
    },
    {
     "name": "stderr",
     "output_type": "stream",
     "text": [
      " 46%|████▌     | 137/300 [52:13<40:13, 14.81s/it]"
     ]
    },
    {
     "name": "stdout",
     "output_type": "stream",
     "text": [
      "Epoch  137, sqrt loss 0.08325, Val sim-NRMS 0.09587, Time Loss: 92.9%, data: 0.3%, val: 6.8%,  1.9 batches/sec\n"
     ]
    },
    {
     "name": "stderr",
     "output_type": "stream",
     "text": [
      " 46%|████▌     | 138/300 [52:28<40:16, 14.92s/it]"
     ]
    },
    {
     "name": "stdout",
     "output_type": "stream",
     "text": [
      "Epoch  138, sqrt loss 0.08326, Val sim-NRMS 0.09569, Time Loss: 92.9%, data: 0.3%, val: 6.8%,  1.9 batches/sec\n"
     ]
    },
    {
     "name": "stderr",
     "output_type": "stream",
     "text": [
      " 46%|████▋     | 139/300 [52:44<40:28, 15.08s/it]"
     ]
    },
    {
     "name": "stdout",
     "output_type": "stream",
     "text": [
      "Epoch  139, sqrt loss 0.08326, Val sim-NRMS 0.09569, Time Loss: 92.9%, data: 0.3%, val: 6.8%,  1.9 batches/sec\n"
     ]
    },
    {
     "name": "stderr",
     "output_type": "stream",
     "text": [
      " 47%|████▋     | 140/300 [53:01<42:03, 15.77s/it]"
     ]
    },
    {
     "name": "stdout",
     "output_type": "stream",
     "text": [
      "Epoch  140, sqrt loss 0.08325, Val sim-NRMS 0.09582, Time Loss: 92.9%, data: 0.3%, val: 6.8%,  1.9 batches/sec\n"
     ]
    },
    {
     "name": "stderr",
     "output_type": "stream",
     "text": [
      " 47%|████▋     | 141/300 [53:18<43:01, 16.24s/it]"
     ]
    },
    {
     "name": "stdout",
     "output_type": "stream",
     "text": [
      "Epoch  141, sqrt loss 0.08326, Val sim-NRMS 0.09583, Time Loss: 92.9%, data: 0.3%, val: 6.8%,  1.9 batches/sec\n"
     ]
    },
    {
     "name": "stderr",
     "output_type": "stream",
     "text": [
      " 47%|████▋     | 142/300 [53:39<46:05, 17.51s/it]"
     ]
    },
    {
     "name": "stdout",
     "output_type": "stream",
     "text": [
      "Epoch  142, sqrt loss 0.08325, Val sim-NRMS 0.09594, Time Loss: 92.9%, data: 0.3%, val: 6.8%,  1.9 batches/sec\n"
     ]
    },
    {
     "name": "stderr",
     "output_type": "stream",
     "text": [
      " 48%|████▊     | 143/300 [53:54<44:22, 16.96s/it]"
     ]
    },
    {
     "name": "stdout",
     "output_type": "stream",
     "text": [
      "Epoch  143, sqrt loss 0.08326, Val sim-NRMS 0.09567, Time Loss: 92.9%, data: 0.3%, val: 6.8%,  1.9 batches/sec\n"
     ]
    },
    {
     "name": "stderr",
     "output_type": "stream",
     "text": [
      " 48%|████▊     | 144/300 [54:09<42:10, 16.22s/it]"
     ]
    },
    {
     "name": "stdout",
     "output_type": "stream",
     "text": [
      "Epoch  144, sqrt loss 0.08325, Val sim-NRMS 0.09565, Time Loss: 92.9%, data: 0.3%, val: 6.8%,  1.9 batches/sec\n"
     ]
    },
    {
     "name": "stderr",
     "output_type": "stream",
     "text": [
      " 48%|████▊     | 145/300 [54:24<40:59, 15.87s/it]"
     ]
    },
    {
     "name": "stdout",
     "output_type": "stream",
     "text": [
      "Epoch  145, sqrt loss 0.08326, Val sim-NRMS 0.09557, Time Loss: 92.9%, data: 0.3%, val: 6.8%,  1.9 batches/sec\n"
     ]
    },
    {
     "name": "stderr",
     "output_type": "stream",
     "text": [
      " 49%|████▊     | 146/300 [54:38<39:38, 15.44s/it]"
     ]
    },
    {
     "name": "stdout",
     "output_type": "stream",
     "text": [
      "Epoch  146, sqrt loss 0.08326, Val sim-NRMS 0.09575, Time Loss: 92.9%, data: 0.3%, val: 6.8%,  1.9 batches/sec\n"
     ]
    },
    {
     "name": "stderr",
     "output_type": "stream",
     "text": [
      " 49%|████▉     | 147/300 [54:53<38:35, 15.13s/it]"
     ]
    },
    {
     "name": "stdout",
     "output_type": "stream",
     "text": [
      "Epoch  147, sqrt loss 0.08326, Val sim-NRMS 0.09577, Time Loss: 92.9%, data: 0.3%, val: 6.8%,  1.9 batches/sec\n"
     ]
    },
    {
     "name": "stderr",
     "output_type": "stream",
     "text": [
      " 49%|████▉     | 148/300 [55:07<37:50, 14.94s/it]"
     ]
    },
    {
     "name": "stdout",
     "output_type": "stream",
     "text": [
      "Epoch  148, sqrt loss 0.08326, Val sim-NRMS 0.09588, Time Loss: 92.8%, data: 0.3%, val: 6.9%,  1.9 batches/sec\n"
     ]
    },
    {
     "name": "stderr",
     "output_type": "stream",
     "text": [
      " 50%|████▉     | 149/300 [55:22<37:15, 14.81s/it]"
     ]
    },
    {
     "name": "stdout",
     "output_type": "stream",
     "text": [
      "Epoch  149, sqrt loss 0.08325, Val sim-NRMS 0.09571, Time Loss: 92.8%, data: 0.3%, val: 6.9%,  1.9 batches/sec\n"
     ]
    },
    {
     "name": "stderr",
     "output_type": "stream",
     "text": [
      " 50%|█████     | 150/300 [55:36<36:42, 14.68s/it]"
     ]
    },
    {
     "name": "stdout",
     "output_type": "stream",
     "text": [
      "Epoch  150, sqrt loss 0.08325, Val sim-NRMS 0.09577, Time Loss: 92.8%, data: 0.3%, val: 6.9%,  1.9 batches/sec\n"
     ]
    },
    {
     "name": "stderr",
     "output_type": "stream",
     "text": [
      " 50%|█████     | 151/300 [55:51<36:21, 14.64s/it]"
     ]
    },
    {
     "name": "stdout",
     "output_type": "stream",
     "text": [
      "Epoch  151, sqrt loss 0.08326, Val sim-NRMS 0.09591, Time Loss: 92.8%, data: 0.3%, val: 6.9%,  1.9 batches/sec\n"
     ]
    },
    {
     "name": "stderr",
     "output_type": "stream",
     "text": [
      " 51%|█████     | 152/300 [56:05<35:52, 14.55s/it]"
     ]
    },
    {
     "name": "stdout",
     "output_type": "stream",
     "text": [
      "Epoch  152, sqrt loss 0.08325, Val sim-NRMS 0.09587, Time Loss: 92.8%, data: 0.3%, val: 6.9%,  1.9 batches/sec\n"
     ]
    },
    {
     "name": "stderr",
     "output_type": "stream",
     "text": [
      " 51%|█████     | 153/300 [56:20<35:37, 14.54s/it]"
     ]
    },
    {
     "name": "stdout",
     "output_type": "stream",
     "text": [
      "Epoch  153, sqrt loss 0.08326, Val sim-NRMS 0.0961, Time Loss: 92.8%, data: 0.3%, val: 6.9%,  1.9 batches/sec\n"
     ]
    },
    {
     "name": "stderr",
     "output_type": "stream",
     "text": [
      " 51%|█████▏    | 154/300 [56:34<35:15, 14.49s/it]"
     ]
    },
    {
     "name": "stdout",
     "output_type": "stream",
     "text": [
      "Epoch  154, sqrt loss 0.08326, Val sim-NRMS 0.09589, Time Loss: 92.8%, data: 0.3%, val: 6.9%,  2.0 batches/sec\n"
     ]
    },
    {
     "name": "stderr",
     "output_type": "stream",
     "text": [
      " 52%|█████▏    | 155/300 [56:48<34:59, 14.48s/it]"
     ]
    },
    {
     "name": "stdout",
     "output_type": "stream",
     "text": [
      "Epoch  155, sqrt loss 0.08326, Val sim-NRMS 0.09576, Time Loss: 92.8%, data: 0.3%, val: 6.9%,  2.0 batches/sec\n"
     ]
    },
    {
     "name": "stderr",
     "output_type": "stream",
     "text": [
      " 52%|█████▏    | 156/300 [57:03<34:42, 14.46s/it]"
     ]
    },
    {
     "name": "stdout",
     "output_type": "stream",
     "text": [
      "Epoch  156, sqrt loss 0.08325, Val sim-NRMS 0.09605, Time Loss: 92.8%, data: 0.3%, val: 6.9%,  2.0 batches/sec\n"
     ]
    },
    {
     "name": "stderr",
     "output_type": "stream",
     "text": [
      " 52%|█████▏    | 157/300 [57:17<34:27, 14.46s/it]"
     ]
    },
    {
     "name": "stdout",
     "output_type": "stream",
     "text": [
      "Epoch  157, sqrt loss 0.08325, Val sim-NRMS 0.09597, Time Loss: 92.8%, data: 0.3%, val: 6.9%,  2.0 batches/sec\n"
     ]
    },
    {
     "name": "stderr",
     "output_type": "stream",
     "text": [
      " 53%|█████▎    | 158/300 [57:32<34:14, 14.47s/it]"
     ]
    },
    {
     "name": "stdout",
     "output_type": "stream",
     "text": [
      "Epoch  158, sqrt loss 0.08326, Val sim-NRMS 0.09584, Time Loss: 92.8%, data: 0.3%, val: 6.9%,  2.0 batches/sec\n"
     ]
    },
    {
     "name": "stderr",
     "output_type": "stream",
     "text": [
      " 53%|█████▎    | 159/300 [57:46<33:59, 14.47s/it]"
     ]
    },
    {
     "name": "stdout",
     "output_type": "stream",
     "text": [
      "Epoch  159, sqrt loss 0.08326, Val sim-NRMS 0.09564, Time Loss: 92.8%, data: 0.3%, val: 6.9%,  2.0 batches/sec\n"
     ]
    },
    {
     "name": "stderr",
     "output_type": "stream",
     "text": [
      " 53%|█████▎    | 160/300 [58:01<33:45, 14.47s/it]"
     ]
    },
    {
     "name": "stdout",
     "output_type": "stream",
     "text": [
      "Epoch  160, sqrt loss 0.08325, Val sim-NRMS 0.09569, Time Loss: 92.8%, data: 0.3%, val: 6.9%,  2.0 batches/sec\n"
     ]
    },
    {
     "name": "stderr",
     "output_type": "stream",
     "text": [
      " 54%|█████▎    | 161/300 [58:15<33:25, 14.42s/it]"
     ]
    },
    {
     "name": "stdout",
     "output_type": "stream",
     "text": [
      "Epoch  161, sqrt loss 0.08325, Val sim-NRMS 0.09572, Time Loss: 92.8%, data: 0.3%, val: 6.9%,  2.0 batches/sec\n"
     ]
    },
    {
     "name": "stderr",
     "output_type": "stream",
     "text": [
      " 54%|█████▍    | 162/300 [58:30<33:17, 14.48s/it]"
     ]
    },
    {
     "name": "stdout",
     "output_type": "stream",
     "text": [
      "Epoch  162, sqrt loss 0.08325, Val sim-NRMS 0.09591, Time Loss: 92.8%, data: 0.3%, val: 6.9%,  2.0 batches/sec\n"
     ]
    },
    {
     "name": "stderr",
     "output_type": "stream",
     "text": [
      " 54%|█████▍    | 163/300 [58:44<33:02, 14.47s/it]"
     ]
    },
    {
     "name": "stdout",
     "output_type": "stream",
     "text": [
      "Epoch  163, sqrt loss 0.08325, Val sim-NRMS 0.0956, Time Loss: 92.8%, data: 0.3%, val: 6.9%,  2.0 batches/sec\n"
     ]
    },
    {
     "name": "stderr",
     "output_type": "stream",
     "text": [
      " 55%|█████▍    | 164/300 [58:59<32:59, 14.55s/it]"
     ]
    },
    {
     "name": "stdout",
     "output_type": "stream",
     "text": [
      "Epoch  164, sqrt loss 0.08325, Val sim-NRMS 0.09571, Time Loss: 92.7%, data: 0.3%, val: 6.9%,  2.0 batches/sec\n"
     ]
    },
    {
     "name": "stderr",
     "output_type": "stream",
     "text": [
      " 55%|█████▌    | 165/300 [59:15<33:44, 14.99s/it]"
     ]
    },
    {
     "name": "stdout",
     "output_type": "stream",
     "text": [
      "Epoch  165, sqrt loss 0.08326, Val sim-NRMS 0.09589, Time Loss: 92.7%, data: 0.3%, val: 7.0%,  2.0 batches/sec\n"
     ]
    },
    {
     "name": "stderr",
     "output_type": "stream",
     "text": [
      " 55%|█████▌    | 166/300 [59:30<33:53, 15.17s/it]"
     ]
    },
    {
     "name": "stdout",
     "output_type": "stream",
     "text": [
      "Epoch  166, sqrt loss 0.08326, Val sim-NRMS 0.09584, Time Loss: 92.7%, data: 0.3%, val: 7.0%,  2.0 batches/sec\n"
     ]
    },
    {
     "name": "stderr",
     "output_type": "stream",
     "text": [
      " 56%|█████▌    | 167/300 [59:46<33:59, 15.34s/it]"
     ]
    },
    {
     "name": "stdout",
     "output_type": "stream",
     "text": [
      "Epoch  167, sqrt loss 0.08325, Val sim-NRMS 0.09574, Time Loss: 92.7%, data: 0.3%, val: 7.0%,  2.0 batches/sec\n"
     ]
    },
    {
     "name": "stderr",
     "output_type": "stream",
     "text": [
      " 56%|█████▌    | 168/300 [1:00:03<34:51, 15.84s/it]"
     ]
    },
    {
     "name": "stdout",
     "output_type": "stream",
     "text": [
      "Epoch  168, sqrt loss 0.08326, Val sim-NRMS 0.09568, Time Loss: 92.7%, data: 0.3%, val: 7.0%,  2.0 batches/sec\n"
     ]
    },
    {
     "name": "stderr",
     "output_type": "stream",
     "text": [
      " 56%|█████▋    | 169/300 [1:00:21<35:51, 16.42s/it]"
     ]
    },
    {
     "name": "stdout",
     "output_type": "stream",
     "text": [
      "Epoch  169, sqrt loss 0.08326, Val sim-NRMS 0.09566, Time Loss: 92.7%, data: 0.3%, val: 7.0%,  2.0 batches/sec\n"
     ]
    },
    {
     "name": "stderr",
     "output_type": "stream",
     "text": [
      " 57%|█████▋    | 170/300 [1:00:40<37:04, 17.11s/it]"
     ]
    },
    {
     "name": "stdout",
     "output_type": "stream",
     "text": [
      "Epoch  170, sqrt loss 0.08326, Val sim-NRMS 0.0958, Time Loss: 92.7%, data: 0.3%, val: 7.0%,  2.0 batches/sec\n"
     ]
    },
    {
     "name": "stderr",
     "output_type": "stream",
     "text": [
      " 57%|█████▋    | 171/300 [1:00:59<38:15, 17.80s/it]"
     ]
    },
    {
     "name": "stdout",
     "output_type": "stream",
     "text": [
      "Epoch  171, sqrt loss 0.08325, Val sim-NRMS 0.09573, Time Loss: 92.7%, data: 0.3%, val: 7.0%,  2.0 batches/sec\n"
     ]
    },
    {
     "name": "stderr",
     "output_type": "stream",
     "text": [
      " 57%|█████▋    | 172/300 [1:01:18<38:55, 18.24s/it]"
     ]
    },
    {
     "name": "stdout",
     "output_type": "stream",
     "text": [
      "Epoch  172, sqrt loss 0.08326, Val sim-NRMS 0.09582, Time Loss: 92.7%, data: 0.3%, val: 7.0%,  2.0 batches/sec\n"
     ]
    },
    {
     "name": "stderr",
     "output_type": "stream",
     "text": [
      " 58%|█████▊    | 173/300 [1:01:38<39:16, 18.56s/it]"
     ]
    },
    {
     "name": "stdout",
     "output_type": "stream",
     "text": [
      "Epoch  173, sqrt loss 0.08325, Val sim-NRMS 0.09576, Time Loss: 92.7%, data: 0.3%, val: 7.0%,  2.0 batches/sec\n"
     ]
    },
    {
     "name": "stderr",
     "output_type": "stream",
     "text": [
      " 58%|█████▊    | 174/300 [1:01:59<40:25, 19.25s/it]"
     ]
    },
    {
     "name": "stdout",
     "output_type": "stream",
     "text": [
      "Epoch  174, sqrt loss 0.08325, Val sim-NRMS 0.09575, Time Loss: 92.7%, data: 0.3%, val: 7.0%,  2.0 batches/sec\n"
     ]
    },
    {
     "name": "stderr",
     "output_type": "stream",
     "text": [
      " 58%|█████▊    | 175/300 [1:02:15<38:29, 18.48s/it]"
     ]
    },
    {
     "name": "stdout",
     "output_type": "stream",
     "text": [
      "Epoch  175, sqrt loss 0.08325, Val sim-NRMS 0.0958, Time Loss: 92.7%, data: 0.3%, val: 7.0%,  2.0 batches/sec\n"
     ]
    },
    {
     "name": "stderr",
     "output_type": "stream",
     "text": [
      " 59%|█████▊    | 176/300 [1:02:34<38:07, 18.45s/it]"
     ]
    },
    {
     "name": "stdout",
     "output_type": "stream",
     "text": [
      "Epoch  176, sqrt loss 0.08325, Val sim-NRMS 0.09591, Time Loss: 92.7%, data: 0.3%, val: 7.0%,  2.0 batches/sec\n"
     ]
    },
    {
     "name": "stderr",
     "output_type": "stream",
     "text": [
      " 59%|█████▉    | 177/300 [1:02:53<38:30, 18.78s/it]"
     ]
    },
    {
     "name": "stdout",
     "output_type": "stream",
     "text": [
      "Epoch  177, sqrt loss 0.08326, Val sim-NRMS 0.09576, Time Loss: 92.7%, data: 0.3%, val: 7.0%,  2.0 batches/sec\n"
     ]
    },
    {
     "name": "stderr",
     "output_type": "stream",
     "text": [
      " 59%|█████▉    | 178/300 [1:03:13<38:36, 18.99s/it]"
     ]
    },
    {
     "name": "stdout",
     "output_type": "stream",
     "text": [
      "Epoch  178, sqrt loss 0.08325, Val sim-NRMS 0.09565, Time Loss: 92.7%, data: 0.3%, val: 7.0%,  2.0 batches/sec\n"
     ]
    },
    {
     "name": "stderr",
     "output_type": "stream",
     "text": [
      " 60%|█████▉    | 179/300 [1:03:32<38:35, 19.14s/it]"
     ]
    },
    {
     "name": "stdout",
     "output_type": "stream",
     "text": [
      "Epoch  179, sqrt loss 0.08326, Val sim-NRMS 0.09579, Time Loss: 92.7%, data: 0.3%, val: 7.0%,  2.0 batches/sec\n"
     ]
    },
    {
     "name": "stderr",
     "output_type": "stream",
     "text": [
      " 60%|██████    | 180/300 [1:03:52<38:27, 19.23s/it]"
     ]
    },
    {
     "name": "stdout",
     "output_type": "stream",
     "text": [
      "Epoch  180, sqrt loss 0.08326, Val sim-NRMS 0.09593, Time Loss: 92.7%, data: 0.3%, val: 7.0%,  2.0 batches/sec\n"
     ]
    },
    {
     "name": "stderr",
     "output_type": "stream",
     "text": [
      " 60%|██████    | 181/300 [1:04:11<38:27, 19.39s/it]"
     ]
    },
    {
     "name": "stdout",
     "output_type": "stream",
     "text": [
      "Epoch  181, sqrt loss 0.08325, Val sim-NRMS 0.09572, Time Loss: 92.7%, data: 0.3%, val: 7.0%,  2.0 batches/sec\n"
     ]
    },
    {
     "name": "stderr",
     "output_type": "stream",
     "text": [
      " 61%|██████    | 182/300 [1:04:31<38:07, 19.39s/it]"
     ]
    },
    {
     "name": "stdout",
     "output_type": "stream",
     "text": [
      "Epoch  182, sqrt loss 0.08325, Val sim-NRMS 0.09582, Time Loss: 92.7%, data: 0.3%, val: 7.0%,  2.0 batches/sec\n"
     ]
    },
    {
     "name": "stderr",
     "output_type": "stream",
     "text": [
      " 61%|██████    | 183/300 [1:04:50<37:50, 19.40s/it]"
     ]
    },
    {
     "name": "stdout",
     "output_type": "stream",
     "text": [
      "Epoch  183, sqrt loss 0.08326, Val sim-NRMS 0.09582, Time Loss: 92.7%, data: 0.3%, val: 7.0%,  2.0 batches/sec\n"
     ]
    },
    {
     "name": "stderr",
     "output_type": "stream",
     "text": [
      " 61%|██████▏   | 184/300 [1:05:10<37:32, 19.42s/it]"
     ]
    },
    {
     "name": "stdout",
     "output_type": "stream",
     "text": [
      "Epoch  184, sqrt loss 0.08325, Val sim-NRMS 0.09582, Time Loss: 92.7%, data: 0.3%, val: 7.0%,  2.0 batches/sec\n"
     ]
    },
    {
     "name": "stderr",
     "output_type": "stream",
     "text": [
      " 62%|██████▏   | 185/300 [1:05:29<37:21, 19.49s/it]"
     ]
    },
    {
     "name": "stdout",
     "output_type": "stream",
     "text": [
      "Epoch  185, sqrt loss 0.08325, Val sim-NRMS 0.0956, Time Loss: 92.7%, data: 0.3%, val: 7.0%,  2.0 batches/sec\n"
     ]
    },
    {
     "name": "stderr",
     "output_type": "stream",
     "text": [
      " 62%|██████▏   | 186/300 [1:05:50<37:56, 19.97s/it]"
     ]
    },
    {
     "name": "stdout",
     "output_type": "stream",
     "text": [
      "Epoch  186, sqrt loss 0.08326, Val sim-NRMS 0.09578, Time Loss: 92.7%, data: 0.3%, val: 7.0%,  2.0 batches/sec\n"
     ]
    },
    {
     "name": "stderr",
     "output_type": "stream",
     "text": [
      " 62%|██████▏   | 187/300 [1:06:10<37:17, 19.80s/it]"
     ]
    },
    {
     "name": "stdout",
     "output_type": "stream",
     "text": [
      "Epoch  187, sqrt loss 0.08326, Val sim-NRMS 0.09562, Time Loss: 92.7%, data: 0.3%, val: 7.0%,  2.0 batches/sec\n"
     ]
    },
    {
     "name": "stderr",
     "output_type": "stream",
     "text": [
      " 63%|██████▎   | 188/300 [1:06:30<37:08, 19.90s/it]"
     ]
    },
    {
     "name": "stdout",
     "output_type": "stream",
     "text": [
      "########## New lowest validation loss achieved ########### sim-NRMS = 0.09545585365431332\n",
      "Epoch  188, sqrt loss 0.08326, Val sim-NRMS 0.09546, Time Loss: 92.7%, data: 0.3%, val: 7.0%,  2.0 batches/sec\n"
     ]
    },
    {
     "name": "stderr",
     "output_type": "stream",
     "text": [
      " 63%|██████▎   | 189/300 [1:06:50<36:47, 19.89s/it]"
     ]
    },
    {
     "name": "stdout",
     "output_type": "stream",
     "text": [
      "Epoch  189, sqrt loss 0.08325, Val sim-NRMS 0.0958, Time Loss: 92.7%, data: 0.3%, val: 7.0%,  2.0 batches/sec\n"
     ]
    },
    {
     "name": "stderr",
     "output_type": "stream",
     "text": [
      " 63%|██████▎   | 190/300 [1:07:10<36:34, 19.95s/it]"
     ]
    },
    {
     "name": "stdout",
     "output_type": "stream",
     "text": [
      "Epoch  190, sqrt loss 0.08325, Val sim-NRMS 0.09601, Time Loss: 92.7%, data: 0.3%, val: 7.0%,  2.0 batches/sec\n"
     ]
    },
    {
     "name": "stderr",
     "output_type": "stream",
     "text": [
      " 64%|██████▎   | 191/300 [1:07:38<40:42, 22.41s/it]"
     ]
    },
    {
     "name": "stdout",
     "output_type": "stream",
     "text": [
      "Epoch  191, sqrt loss 0.08325, Val sim-NRMS 0.09579, Time Loss: 92.7%, data: 0.3%, val: 7.0%,  2.0 batches/sec\n"
     ]
    },
    {
     "name": "stderr",
     "output_type": "stream",
     "text": [
      " 64%|██████▍   | 192/300 [1:08:21<51:21, 28.54s/it]"
     ]
    },
    {
     "name": "stdout",
     "output_type": "stream",
     "text": [
      "Epoch  192, sqrt loss 0.08326, Val sim-NRMS 0.0959, Time Loss: 92.7%, data: 0.3%, val: 7.0%,  2.0 batches/sec\n"
     ]
    },
    {
     "name": "stderr",
     "output_type": "stream",
     "text": [
      " 64%|██████▍   | 193/300 [1:08:54<53:17, 29.88s/it]"
     ]
    },
    {
     "name": "stdout",
     "output_type": "stream",
     "text": [
      "Epoch  193, sqrt loss 0.08325, Val sim-NRMS 0.09564, Time Loss: 92.7%, data: 0.3%, val: 7.0%,  2.0 batches/sec\n"
     ]
    },
    {
     "name": "stderr",
     "output_type": "stream",
     "text": [
      " 65%|██████▍   | 194/300 [1:09:26<53:49, 30.47s/it]"
     ]
    },
    {
     "name": "stdout",
     "output_type": "stream",
     "text": [
      "Epoch  194, sqrt loss 0.08325, Val sim-NRMS 0.09591, Time Loss: 92.7%, data: 0.3%, val: 7.0%,  2.0 batches/sec\n"
     ]
    },
    {
     "name": "stderr",
     "output_type": "stream",
     "text": [
      " 65%|██████▌   | 195/300 [1:09:53<51:35, 29.48s/it]"
     ]
    },
    {
     "name": "stdout",
     "output_type": "stream",
     "text": [
      "Epoch  195, sqrt loss 0.08326, Val sim-NRMS 0.0959, Time Loss: 92.7%, data: 0.3%, val: 7.0%,  2.0 batches/sec\n"
     ]
    },
    {
     "name": "stderr",
     "output_type": "stream",
     "text": [
      " 65%|██████▌   | 196/300 [1:10:27<53:30, 30.87s/it]"
     ]
    },
    {
     "name": "stdout",
     "output_type": "stream",
     "text": [
      "Epoch  196, sqrt loss 0.08325, Val sim-NRMS 0.09572, Time Loss: 92.7%, data: 0.3%, val: 7.0%,  2.0 batches/sec\n"
     ]
    },
    {
     "name": "stderr",
     "output_type": "stream",
     "text": [
      " 66%|██████▌   | 197/300 [1:10:54<51:08, 29.80s/it]"
     ]
    },
    {
     "name": "stdout",
     "output_type": "stream",
     "text": [
      "Epoch  197, sqrt loss 0.08326, Val sim-NRMS 0.09599, Time Loss: 92.7%, data: 0.3%, val: 7.0%,  2.0 batches/sec\n"
     ]
    },
    {
     "name": "stderr",
     "output_type": "stream",
     "text": [
      " 66%|██████▌   | 198/300 [1:11:37<57:13, 33.66s/it]"
     ]
    },
    {
     "name": "stdout",
     "output_type": "stream",
     "text": [
      "Epoch  198, sqrt loss 0.08326, Val sim-NRMS 0.09575, Time Loss: 92.8%, data: 0.3%, val: 6.9%,  2.0 batches/sec\n"
     ]
    },
    {
     "name": "stderr",
     "output_type": "stream",
     "text": [
      " 66%|██████▋   | 199/300 [1:11:54<48:05, 28.57s/it]"
     ]
    },
    {
     "name": "stdout",
     "output_type": "stream",
     "text": [
      "Epoch  199, sqrt loss 0.08325, Val sim-NRMS 0.09575, Time Loss: 92.8%, data: 0.3%, val: 6.9%,  2.0 batches/sec\n"
     ]
    },
    {
     "name": "stderr",
     "output_type": "stream",
     "text": [
      " 67%|██████▋   | 200/300 [1:12:10<41:31, 24.91s/it]"
     ]
    },
    {
     "name": "stdout",
     "output_type": "stream",
     "text": [
      "Epoch  200, sqrt loss 0.08325, Val sim-NRMS 0.09574, Time Loss: 92.8%, data: 0.3%, val: 6.9%,  2.0 batches/sec\n"
     ]
    },
    {
     "name": "stderr",
     "output_type": "stream",
     "text": [
      " 67%|██████▋   | 201/300 [1:12:26<36:37, 22.20s/it]"
     ]
    },
    {
     "name": "stdout",
     "output_type": "stream",
     "text": [
      "Epoch  201, sqrt loss 0.08326, Val sim-NRMS 0.09588, Time Loss: 92.7%, data: 0.3%, val: 7.0%,  2.0 batches/sec\n"
     ]
    },
    {
     "name": "stderr",
     "output_type": "stream",
     "text": [
      " 67%|██████▋   | 202/300 [1:12:42<33:16, 20.37s/it]"
     ]
    },
    {
     "name": "stdout",
     "output_type": "stream",
     "text": [
      "Epoch  202, sqrt loss 0.08326, Val sim-NRMS 0.09595, Time Loss: 92.7%, data: 0.3%, val: 7.0%,  2.0 batches/sec\n"
     ]
    },
    {
     "name": "stderr",
     "output_type": "stream",
     "text": [
      " 68%|██████▊   | 203/300 [1:12:57<30:34, 18.91s/it]"
     ]
    },
    {
     "name": "stdout",
     "output_type": "stream",
     "text": [
      "Epoch  203, sqrt loss 0.08325, Val sim-NRMS 0.09576, Time Loss: 92.7%, data: 0.3%, val: 7.0%,  2.0 batches/sec\n"
     ]
    },
    {
     "name": "stderr",
     "output_type": "stream",
     "text": [
      " 68%|██████▊   | 204/300 [1:13:16<29:58, 18.73s/it]"
     ]
    },
    {
     "name": "stdout",
     "output_type": "stream",
     "text": [
      "Epoch  204, sqrt loss 0.08325, Val sim-NRMS 0.09602, Time Loss: 92.7%, data: 0.3%, val: 7.0%,  2.0 batches/sec\n"
     ]
    },
    {
     "name": "stderr",
     "output_type": "stream",
     "text": [
      " 68%|██████▊   | 205/300 [1:13:37<30:38, 19.35s/it]"
     ]
    },
    {
     "name": "stdout",
     "output_type": "stream",
     "text": [
      "Epoch  205, sqrt loss 0.08326, Val sim-NRMS 0.09579, Time Loss: 92.7%, data: 0.3%, val: 7.0%,  2.0 batches/sec\n"
     ]
    },
    {
     "name": "stderr",
     "output_type": "stream",
     "text": [
      " 69%|██████▊   | 206/300 [1:13:56<30:24, 19.41s/it]"
     ]
    },
    {
     "name": "stdout",
     "output_type": "stream",
     "text": [
      "Epoch  206, sqrt loss 0.08325, Val sim-NRMS 0.09575, Time Loss: 92.7%, data: 0.3%, val: 7.0%,  2.0 batches/sec\n"
     ]
    },
    {
     "name": "stderr",
     "output_type": "stream",
     "text": [
      " 69%|██████▉   | 207/300 [1:14:16<30:06, 19.43s/it]"
     ]
    },
    {
     "name": "stdout",
     "output_type": "stream",
     "text": [
      "Epoch  207, sqrt loss 0.08325, Val sim-NRMS 0.09576, Time Loss: 92.7%, data: 0.3%, val: 7.0%,  2.0 batches/sec\n"
     ]
    },
    {
     "name": "stderr",
     "output_type": "stream",
     "text": [
      " 69%|██████▉   | 208/300 [1:14:35<29:43, 19.38s/it]"
     ]
    },
    {
     "name": "stdout",
     "output_type": "stream",
     "text": [
      "Epoch  208, sqrt loss 0.08326, Val sim-NRMS 0.09569, Time Loss: 92.7%, data: 0.3%, val: 7.0%,  2.0 batches/sec\n"
     ]
    },
    {
     "name": "stderr",
     "output_type": "stream",
     "text": [
      " 70%|██████▉   | 209/300 [1:14:54<29:26, 19.41s/it]"
     ]
    },
    {
     "name": "stdout",
     "output_type": "stream",
     "text": [
      "Epoch  209, sqrt loss 0.08326, Val sim-NRMS 0.09572, Time Loss: 92.7%, data: 0.3%, val: 7.0%,  2.0 batches/sec\n"
     ]
    },
    {
     "name": "stderr",
     "output_type": "stream",
     "text": [
      " 70%|███████   | 210/300 [1:15:14<29:04, 19.39s/it]"
     ]
    },
    {
     "name": "stdout",
     "output_type": "stream",
     "text": [
      "Epoch  210, sqrt loss 0.08325, Val sim-NRMS  0.096, Time Loss: 92.7%, data: 0.3%, val: 7.0%,  2.0 batches/sec\n"
     ]
    },
    {
     "name": "stderr",
     "output_type": "stream",
     "text": [
      " 70%|███████   | 211/300 [1:15:33<28:52, 19.46s/it]"
     ]
    },
    {
     "name": "stdout",
     "output_type": "stream",
     "text": [
      "Epoch  211, sqrt loss 0.08326, Val sim-NRMS 0.09587, Time Loss: 92.7%, data: 0.3%, val: 7.0%,  2.0 batches/sec\n"
     ]
    },
    {
     "name": "stderr",
     "output_type": "stream",
     "text": [
      " 71%|███████   | 212/300 [1:15:53<28:26, 19.40s/it]"
     ]
    },
    {
     "name": "stdout",
     "output_type": "stream",
     "text": [
      "Epoch  212, sqrt loss 0.08325, Val sim-NRMS 0.09575, Time Loss: 92.7%, data: 0.3%, val: 7.0%,  2.0 batches/sec\n"
     ]
    },
    {
     "name": "stderr",
     "output_type": "stream",
     "text": [
      " 71%|███████   | 213/300 [1:16:12<28:04, 19.36s/it]"
     ]
    },
    {
     "name": "stdout",
     "output_type": "stream",
     "text": [
      "Epoch  213, sqrt loss 0.08326, Val sim-NRMS 0.09566, Time Loss: 92.7%, data: 0.3%, val: 7.0%,  2.0 batches/sec\n"
     ]
    },
    {
     "name": "stderr",
     "output_type": "stream",
     "text": [
      " 71%|███████▏  | 214/300 [1:16:31<27:45, 19.37s/it]"
     ]
    },
    {
     "name": "stdout",
     "output_type": "stream",
     "text": [
      "Epoch  214, sqrt loss 0.08326, Val sim-NRMS 0.09591, Time Loss: 92.7%, data: 0.3%, val: 7.0%,  2.0 batches/sec\n"
     ]
    },
    {
     "name": "stderr",
     "output_type": "stream",
     "text": [
      " 72%|███████▏  | 215/300 [1:16:51<27:25, 19.36s/it]"
     ]
    },
    {
     "name": "stdout",
     "output_type": "stream",
     "text": [
      "Epoch  215, sqrt loss 0.08326, Val sim-NRMS 0.09576, Time Loss: 92.7%, data: 0.3%, val: 7.0%,  2.0 batches/sec\n"
     ]
    },
    {
     "name": "stderr",
     "output_type": "stream",
     "text": [
      " 72%|███████▏  | 216/300 [1:17:10<27:04, 19.34s/it]"
     ]
    },
    {
     "name": "stdout",
     "output_type": "stream",
     "text": [
      "Epoch  216, sqrt loss 0.08326, Val sim-NRMS 0.0957, Time Loss: 92.7%, data: 0.3%, val: 7.0%,  2.0 batches/sec\n"
     ]
    },
    {
     "name": "stderr",
     "output_type": "stream",
     "text": [
      " 72%|███████▏  | 217/300 [1:17:29<26:48, 19.38s/it]"
     ]
    },
    {
     "name": "stdout",
     "output_type": "stream",
     "text": [
      "Epoch  217, sqrt loss 0.08326, Val sim-NRMS 0.09587, Time Loss: 92.7%, data: 0.3%, val: 7.0%,  2.0 batches/sec\n"
     ]
    },
    {
     "name": "stderr",
     "output_type": "stream",
     "text": [
      " 73%|███████▎  | 218/300 [1:17:49<26:36, 19.47s/it]"
     ]
    },
    {
     "name": "stdout",
     "output_type": "stream",
     "text": [
      "Epoch  218, sqrt loss 0.08326, Val sim-NRMS 0.09605, Time Loss: 92.7%, data: 0.3%, val: 7.0%,  2.0 batches/sec\n"
     ]
    },
    {
     "name": "stderr",
     "output_type": "stream",
     "text": [
      " 73%|███████▎  | 219/300 [1:18:09<26:22, 19.54s/it]"
     ]
    },
    {
     "name": "stdout",
     "output_type": "stream",
     "text": [
      "Epoch  219, sqrt loss 0.08325, Val sim-NRMS 0.0958, Time Loss: 92.7%, data: 0.3%, val: 7.0%,  2.0 batches/sec\n"
     ]
    },
    {
     "name": "stderr",
     "output_type": "stream",
     "text": [
      " 73%|███████▎  | 220/300 [1:18:28<26:06, 19.59s/it]"
     ]
    },
    {
     "name": "stdout",
     "output_type": "stream",
     "text": [
      "Epoch  220, sqrt loss 0.08325, Val sim-NRMS 0.09609, Time Loss: 92.7%, data: 0.3%, val: 7.0%,  2.0 batches/sec\n"
     ]
    },
    {
     "name": "stderr",
     "output_type": "stream",
     "text": [
      " 74%|███████▎  | 221/300 [1:18:48<25:43, 19.54s/it]"
     ]
    },
    {
     "name": "stdout",
     "output_type": "stream",
     "text": [
      "Epoch  221, sqrt loss 0.08326, Val sim-NRMS 0.09594, Time Loss: 92.7%, data: 0.3%, val: 7.0%,  2.0 batches/sec\n"
     ]
    },
    {
     "name": "stderr",
     "output_type": "stream",
     "text": [
      " 74%|███████▍  | 222/300 [1:19:07<25:23, 19.53s/it]"
     ]
    },
    {
     "name": "stdout",
     "output_type": "stream",
     "text": [
      "Epoch  222, sqrt loss 0.08325, Val sim-NRMS 0.09571, Time Loss: 92.7%, data: 0.3%, val: 7.0%,  2.0 batches/sec\n"
     ]
    },
    {
     "name": "stderr",
     "output_type": "stream",
     "text": [
      " 74%|███████▍  | 223/300 [1:19:27<25:04, 19.54s/it]"
     ]
    },
    {
     "name": "stdout",
     "output_type": "stream",
     "text": [
      "Epoch  223, sqrt loss 0.08325, Val sim-NRMS 0.09569, Time Loss: 92.7%, data: 0.3%, val: 7.0%,  2.0 batches/sec\n"
     ]
    },
    {
     "name": "stderr",
     "output_type": "stream",
     "text": [
      " 75%|███████▍  | 224/300 [1:19:47<24:46, 19.55s/it]"
     ]
    },
    {
     "name": "stdout",
     "output_type": "stream",
     "text": [
      "Epoch  224, sqrt loss 0.08325, Val sim-NRMS 0.09573, Time Loss: 92.7%, data: 0.3%, val: 7.0%,  2.0 batches/sec\n"
     ]
    },
    {
     "name": "stderr",
     "output_type": "stream",
     "text": [
      " 75%|███████▌  | 225/300 [1:20:06<24:15, 19.40s/it]"
     ]
    },
    {
     "name": "stdout",
     "output_type": "stream",
     "text": [
      "Epoch  225, sqrt loss 0.08326, Val sim-NRMS 0.0957, Time Loss: 92.7%, data: 0.3%, val: 7.0%,  2.0 batches/sec\n"
     ]
    },
    {
     "name": "stderr",
     "output_type": "stream",
     "text": [
      " 75%|███████▌  | 226/300 [1:20:22<22:47, 18.49s/it]"
     ]
    },
    {
     "name": "stdout",
     "output_type": "stream",
     "text": [
      "Epoch  226, sqrt loss 0.08326, Val sim-NRMS 0.09595, Time Loss: 92.7%, data: 0.3%, val: 7.0%,  2.0 batches/sec\n"
     ]
    },
    {
     "name": "stderr",
     "output_type": "stream",
     "text": [
      " 76%|███████▌  | 227/300 [1:20:37<21:11, 17.42s/it]"
     ]
    },
    {
     "name": "stdout",
     "output_type": "stream",
     "text": [
      "Epoch  227, sqrt loss 0.08325, Val sim-NRMS 0.09592, Time Loss: 92.7%, data: 0.3%, val: 7.0%,  2.0 batches/sec\n"
     ]
    },
    {
     "name": "stderr",
     "output_type": "stream",
     "text": [
      " 76%|███████▌  | 228/300 [1:20:52<20:14, 16.87s/it]"
     ]
    },
    {
     "name": "stdout",
     "output_type": "stream",
     "text": [
      "Epoch  228, sqrt loss 0.08325, Val sim-NRMS 0.09585, Time Loss: 92.7%, data: 0.3%, val: 7.0%,  2.0 batches/sec\n"
     ]
    },
    {
     "name": "stderr",
     "output_type": "stream",
     "text": [
      " 76%|███████▋  | 229/300 [1:21:08<19:34, 16.55s/it]"
     ]
    },
    {
     "name": "stdout",
     "output_type": "stream",
     "text": [
      "Epoch  229, sqrt loss 0.08326, Val sim-NRMS 0.09597, Time Loss: 92.7%, data: 0.3%, val: 7.0%,  2.0 batches/sec\n"
     ]
    },
    {
     "name": "stderr",
     "output_type": "stream",
     "text": [
      " 77%|███████▋  | 230/300 [1:21:25<19:13, 16.48s/it]"
     ]
    },
    {
     "name": "stdout",
     "output_type": "stream",
     "text": [
      "Epoch  230, sqrt loss 0.08326, Val sim-NRMS 0.09574, Time Loss: 92.7%, data: 0.3%, val: 7.0%,  2.0 batches/sec\n"
     ]
    },
    {
     "name": "stderr",
     "output_type": "stream",
     "text": [
      " 77%|███████▋  | 231/300 [1:21:39<18:20, 15.95s/it]"
     ]
    },
    {
     "name": "stdout",
     "output_type": "stream",
     "text": [
      "Epoch  231, sqrt loss 0.08325, Val sim-NRMS 0.09615, Time Loss: 92.7%, data: 0.3%, val: 7.0%,  2.0 batches/sec\n"
     ]
    },
    {
     "name": "stderr",
     "output_type": "stream",
     "text": [
      " 77%|███████▋  | 232/300 [1:21:58<18:56, 16.71s/it]"
     ]
    },
    {
     "name": "stdout",
     "output_type": "stream",
     "text": [
      "Epoch  232, sqrt loss 0.08326, Val sim-NRMS 0.0958, Time Loss: 92.7%, data: 0.3%, val: 7.0%,  2.0 batches/sec\n"
     ]
    },
    {
     "name": "stderr",
     "output_type": "stream",
     "text": [
      " 78%|███████▊  | 233/300 [1:22:17<19:32, 17.50s/it]"
     ]
    },
    {
     "name": "stdout",
     "output_type": "stream",
     "text": [
      "Epoch  233, sqrt loss 0.08325, Val sim-NRMS 0.09578, Time Loss: 92.7%, data: 0.3%, val: 7.0%,  2.0 batches/sec\n"
     ]
    },
    {
     "name": "stderr",
     "output_type": "stream",
     "text": [
      " 78%|███████▊  | 234/300 [1:22:36<19:48, 18.01s/it]"
     ]
    },
    {
     "name": "stdout",
     "output_type": "stream",
     "text": [
      "Epoch  234, sqrt loss 0.08325, Val sim-NRMS 0.09582, Time Loss: 92.7%, data: 0.3%, val: 7.0%,  2.0 batches/sec\n"
     ]
    },
    {
     "name": "stderr",
     "output_type": "stream",
     "text": [
      " 78%|███████▊  | 235/300 [1:22:56<19:55, 18.39s/it]"
     ]
    },
    {
     "name": "stdout",
     "output_type": "stream",
     "text": [
      "Epoch  235, sqrt loss 0.08325, Val sim-NRMS 0.09592, Time Loss: 92.7%, data: 0.3%, val: 7.0%,  2.0 batches/sec\n"
     ]
    },
    {
     "name": "stderr",
     "output_type": "stream",
     "text": [
      " 79%|███████▊  | 236/300 [1:23:15<19:54, 18.67s/it]"
     ]
    },
    {
     "name": "stdout",
     "output_type": "stream",
     "text": [
      "Epoch  236, sqrt loss 0.08325, Val sim-NRMS 0.0958, Time Loss: 92.7%, data: 0.3%, val: 7.0%,  2.0 batches/sec\n"
     ]
    },
    {
     "name": "stderr",
     "output_type": "stream",
     "text": [
      " 79%|███████▉  | 237/300 [1:23:34<19:49, 18.88s/it]"
     ]
    },
    {
     "name": "stdout",
     "output_type": "stream",
     "text": [
      "Epoch  237, sqrt loss 0.08325, Val sim-NRMS 0.09569, Time Loss: 92.7%, data: 0.3%, val: 7.1%,  2.0 batches/sec\n"
     ]
    },
    {
     "name": "stderr",
     "output_type": "stream",
     "text": [
      " 79%|███████▉  | 238/300 [1:23:54<19:39, 19.03s/it]"
     ]
    },
    {
     "name": "stdout",
     "output_type": "stream",
     "text": [
      "Epoch  238, sqrt loss 0.08326, Val sim-NRMS 0.09561, Time Loss: 92.7%, data: 0.3%, val: 7.1%,  2.0 batches/sec\n"
     ]
    },
    {
     "name": "stderr",
     "output_type": "stream",
     "text": [
      " 80%|███████▉  | 239/300 [1:24:13<19:29, 19.17s/it]"
     ]
    },
    {
     "name": "stdout",
     "output_type": "stream",
     "text": [
      "Epoch  239, sqrt loss 0.08326, Val sim-NRMS 0.09574, Time Loss: 92.6%, data: 0.3%, val: 7.1%,  2.0 batches/sec\n"
     ]
    },
    {
     "name": "stderr",
     "output_type": "stream",
     "text": [
      " 80%|████████  | 240/300 [1:24:33<19:13, 19.23s/it]"
     ]
    },
    {
     "name": "stdout",
     "output_type": "stream",
     "text": [
      "Epoch  240, sqrt loss 0.08326, Val sim-NRMS 0.09587, Time Loss: 92.6%, data: 0.3%, val: 7.1%,  2.0 batches/sec\n"
     ]
    },
    {
     "name": "stderr",
     "output_type": "stream",
     "text": [
      " 80%|████████  | 241/300 [1:24:52<18:58, 19.30s/it]"
     ]
    },
    {
     "name": "stdout",
     "output_type": "stream",
     "text": [
      "Epoch  241, sqrt loss 0.08326, Val sim-NRMS 0.09586, Time Loss: 92.6%, data: 0.3%, val: 7.1%,  2.0 batches/sec\n"
     ]
    },
    {
     "name": "stderr",
     "output_type": "stream",
     "text": [
      " 81%|████████  | 242/300 [1:25:11<18:40, 19.32s/it]"
     ]
    },
    {
     "name": "stdout",
     "output_type": "stream",
     "text": [
      "Epoch  242, sqrt loss 0.08326, Val sim-NRMS 0.09575, Time Loss: 92.6%, data: 0.3%, val: 7.1%,  2.0 batches/sec\n"
     ]
    },
    {
     "name": "stderr",
     "output_type": "stream",
     "text": [
      " 81%|████████  | 243/300 [1:25:30<18:16, 19.24s/it]"
     ]
    },
    {
     "name": "stdout",
     "output_type": "stream",
     "text": [
      "Epoch  243, sqrt loss 0.08326, Val sim-NRMS 0.09581, Time Loss: 92.6%, data: 0.3%, val: 7.1%,  2.0 batches/sec\n"
     ]
    },
    {
     "name": "stderr",
     "output_type": "stream",
     "text": [
      " 81%|████████▏ | 244/300 [1:25:50<18:06, 19.40s/it]"
     ]
    },
    {
     "name": "stdout",
     "output_type": "stream",
     "text": [
      "Epoch  244, sqrt loss 0.08325, Val sim-NRMS 0.09569, Time Loss: 92.6%, data: 0.3%, val: 7.1%,  2.0 batches/sec\n"
     ]
    },
    {
     "name": "stderr",
     "output_type": "stream",
     "text": [
      " 82%|████████▏ | 245/300 [1:26:10<17:49, 19.45s/it]"
     ]
    },
    {
     "name": "stdout",
     "output_type": "stream",
     "text": [
      "Epoch  245, sqrt loss 0.08325, Val sim-NRMS 0.09576, Time Loss: 92.6%, data: 0.3%, val: 7.1%,  2.0 batches/sec\n"
     ]
    },
    {
     "name": "stderr",
     "output_type": "stream",
     "text": [
      " 82%|████████▏ | 246/300 [1:26:29<17:31, 19.46s/it]"
     ]
    },
    {
     "name": "stdout",
     "output_type": "stream",
     "text": [
      "Epoch  246, sqrt loss 0.08326, Val sim-NRMS 0.09588, Time Loss: 92.6%, data: 0.3%, val: 7.1%,  2.0 batches/sec\n"
     ]
    },
    {
     "name": "stderr",
     "output_type": "stream",
     "text": [
      " 82%|████████▏ | 247/300 [1:26:49<17:15, 19.54s/it]"
     ]
    },
    {
     "name": "stdout",
     "output_type": "stream",
     "text": [
      "Epoch  247, sqrt loss 0.08325, Val sim-NRMS 0.09575, Time Loss: 92.6%, data: 0.3%, val: 7.1%,  2.0 batches/sec\n"
     ]
    },
    {
     "name": "stderr",
     "output_type": "stream",
     "text": [
      " 83%|████████▎ | 248/300 [1:27:09<16:58, 19.58s/it]"
     ]
    },
    {
     "name": "stdout",
     "output_type": "stream",
     "text": [
      "Epoch  248, sqrt loss 0.08325, Val sim-NRMS  0.096, Time Loss: 92.6%, data: 0.3%, val: 7.1%,  2.0 batches/sec\n"
     ]
    },
    {
     "name": "stderr",
     "output_type": "stream",
     "text": [
      " 83%|████████▎ | 249/300 [1:27:28<16:40, 19.62s/it]"
     ]
    },
    {
     "name": "stdout",
     "output_type": "stream",
     "text": [
      "Epoch  249, sqrt loss 0.08325, Val sim-NRMS 0.09579, Time Loss: 92.6%, data: 0.3%, val: 7.1%,  2.0 batches/sec\n"
     ]
    },
    {
     "name": "stderr",
     "output_type": "stream",
     "text": [
      " 83%|████████▎ | 250/300 [1:27:48<16:21, 19.63s/it]"
     ]
    },
    {
     "name": "stdout",
     "output_type": "stream",
     "text": [
      "Epoch  250, sqrt loss 0.08326, Val sim-NRMS 0.09577, Time Loss: 92.6%, data: 0.3%, val: 7.1%,  2.0 batches/sec\n"
     ]
    },
    {
     "name": "stderr",
     "output_type": "stream",
     "text": [
      " 84%|████████▎ | 251/300 [1:28:08<16:05, 19.71s/it]"
     ]
    },
    {
     "name": "stdout",
     "output_type": "stream",
     "text": [
      "Epoch  251, sqrt loss 0.08326, Val sim-NRMS 0.09593, Time Loss: 92.6%, data: 0.3%, val: 7.1%,  2.0 batches/sec\n"
     ]
    },
    {
     "name": "stderr",
     "output_type": "stream",
     "text": [
      " 84%|████████▍ | 252/300 [1:28:28<15:45, 19.69s/it]"
     ]
    },
    {
     "name": "stdout",
     "output_type": "stream",
     "text": [
      "Epoch  252, sqrt loss 0.08325, Val sim-NRMS 0.09582, Time Loss: 92.6%, data: 0.3%, val: 7.1%,  2.0 batches/sec\n"
     ]
    },
    {
     "name": "stderr",
     "output_type": "stream",
     "text": [
      " 84%|████████▍ | 253/300 [1:28:47<15:23, 19.65s/it]"
     ]
    },
    {
     "name": "stdout",
     "output_type": "stream",
     "text": [
      "Epoch  253, sqrt loss 0.08326, Val sim-NRMS 0.09581, Time Loss: 92.6%, data: 0.3%, val: 7.1%,  2.0 batches/sec\n"
     ]
    },
    {
     "name": "stderr",
     "output_type": "stream",
     "text": [
      " 85%|████████▍ | 254/300 [1:29:07<15:03, 19.63s/it]"
     ]
    },
    {
     "name": "stdout",
     "output_type": "stream",
     "text": [
      "Epoch  254, sqrt loss 0.08326, Val sim-NRMS 0.09573, Time Loss: 92.6%, data: 0.3%, val: 7.1%,  2.0 batches/sec\n"
     ]
    },
    {
     "name": "stderr",
     "output_type": "stream",
     "text": [
      " 85%|████████▌ | 255/300 [1:29:26<14:42, 19.61s/it]"
     ]
    },
    {
     "name": "stdout",
     "output_type": "stream",
     "text": [
      "Epoch  255, sqrt loss 0.08325, Val sim-NRMS 0.09597, Time Loss: 92.6%, data: 0.3%, val: 7.1%,  2.0 batches/sec\n"
     ]
    },
    {
     "name": "stderr",
     "output_type": "stream",
     "text": [
      " 85%|████████▌ | 256/300 [1:29:46<14:20, 19.56s/it]"
     ]
    },
    {
     "name": "stdout",
     "output_type": "stream",
     "text": [
      "Epoch  256, sqrt loss 0.08326, Val sim-NRMS 0.09572, Time Loss: 92.6%, data: 0.3%, val: 7.1%,  2.0 batches/sec\n"
     ]
    },
    {
     "name": "stderr",
     "output_type": "stream",
     "text": [
      " 86%|████████▌ | 257/300 [1:30:04<13:40, 19.09s/it]"
     ]
    },
    {
     "name": "stdout",
     "output_type": "stream",
     "text": [
      "Epoch  257, sqrt loss 0.08326, Val sim-NRMS 0.09583, Time Loss: 92.6%, data: 0.3%, val: 7.1%,  2.0 batches/sec\n"
     ]
    },
    {
     "name": "stderr",
     "output_type": "stream",
     "text": [
      " 86%|████████▌ | 258/300 [1:30:22<13:10, 18.82s/it]"
     ]
    },
    {
     "name": "stdout",
     "output_type": "stream",
     "text": [
      "Epoch  258, sqrt loss 0.08325, Val sim-NRMS 0.09567, Time Loss: 92.6%, data: 0.3%, val: 7.1%,  2.0 batches/sec\n"
     ]
    },
    {
     "name": "stderr",
     "output_type": "stream",
     "text": [
      " 86%|████████▋ | 259/300 [1:30:40<12:44, 18.63s/it]"
     ]
    },
    {
     "name": "stdout",
     "output_type": "stream",
     "text": [
      "Epoch  259, sqrt loss 0.08326, Val sim-NRMS 0.09606, Time Loss: 92.6%, data: 0.3%, val: 7.1%,  2.0 batches/sec\n"
     ]
    },
    {
     "name": "stderr",
     "output_type": "stream",
     "text": [
      " 87%|████████▋ | 260/300 [1:30:58<12:20, 18.52s/it]"
     ]
    },
    {
     "name": "stdout",
     "output_type": "stream",
     "text": [
      "Epoch  260, sqrt loss 0.08325, Val sim-NRMS 0.09582, Time Loss: 92.6%, data: 0.3%, val: 7.1%,  2.0 batches/sec\n"
     ]
    },
    {
     "name": "stderr",
     "output_type": "stream",
     "text": [
      " 87%|████████▋ | 261/300 [1:31:16<11:56, 18.36s/it]"
     ]
    },
    {
     "name": "stdout",
     "output_type": "stream",
     "text": [
      "Epoch  261, sqrt loss 0.08325, Val sim-NRMS 0.09586, Time Loss: 92.6%, data: 0.3%, val: 7.1%,  2.0 batches/sec\n"
     ]
    },
    {
     "name": "stderr",
     "output_type": "stream",
     "text": [
      " 87%|████████▋ | 262/300 [1:31:34<11:33, 18.26s/it]"
     ]
    },
    {
     "name": "stdout",
     "output_type": "stream",
     "text": [
      "Epoch  262, sqrt loss 0.08326, Val sim-NRMS 0.09575, Time Loss: 92.6%, data: 0.3%, val: 7.1%,  2.1 batches/sec\n"
     ]
    },
    {
     "name": "stderr",
     "output_type": "stream",
     "text": [
      " 88%|████████▊ | 263/300 [1:31:52<11:13, 18.21s/it]"
     ]
    },
    {
     "name": "stdout",
     "output_type": "stream",
     "text": [
      "Epoch  263, sqrt loss 0.08325, Val sim-NRMS 0.09582, Time Loss: 92.6%, data: 0.3%, val: 7.1%,  2.1 batches/sec\n"
     ]
    },
    {
     "name": "stderr",
     "output_type": "stream",
     "text": [
      " 88%|████████▊ | 264/300 [1:32:11<10:59, 18.33s/it]"
     ]
    },
    {
     "name": "stdout",
     "output_type": "stream",
     "text": [
      "Epoch  264, sqrt loss 0.08325, Val sim-NRMS 0.09592, Time Loss: 92.6%, data: 0.3%, val: 7.1%,  2.1 batches/sec\n"
     ]
    },
    {
     "name": "stderr",
     "output_type": "stream",
     "text": [
      " 88%|████████▊ | 265/300 [1:32:29<10:38, 18.24s/it]"
     ]
    },
    {
     "name": "stdout",
     "output_type": "stream",
     "text": [
      "Epoch  265, sqrt loss 0.08326, Val sim-NRMS 0.09575, Time Loss: 92.6%, data: 0.3%, val: 7.1%,  2.1 batches/sec\n"
     ]
    },
    {
     "name": "stderr",
     "output_type": "stream",
     "text": [
      " 89%|████████▊ | 266/300 [1:32:47<10:16, 18.13s/it]"
     ]
    },
    {
     "name": "stdout",
     "output_type": "stream",
     "text": [
      "Epoch  266, sqrt loss 0.08326, Val sim-NRMS 0.09579, Time Loss: 92.6%, data: 0.3%, val: 7.1%,  2.1 batches/sec\n"
     ]
    },
    {
     "name": "stderr",
     "output_type": "stream",
     "text": [
      " 89%|████████▉ | 267/300 [1:33:05<09:58, 18.12s/it]"
     ]
    },
    {
     "name": "stdout",
     "output_type": "stream",
     "text": [
      "Epoch  267, sqrt loss 0.08325, Val sim-NRMS 0.09572, Time Loss: 92.6%, data: 0.3%, val: 7.1%,  2.1 batches/sec\n"
     ]
    },
    {
     "name": "stderr",
     "output_type": "stream",
     "text": [
      " 89%|████████▉ | 268/300 [1:33:23<09:40, 18.13s/it]"
     ]
    },
    {
     "name": "stdout",
     "output_type": "stream",
     "text": [
      "Epoch  268, sqrt loss 0.08325, Val sim-NRMS 0.09579, Time Loss: 92.6%, data: 0.3%, val: 7.1%,  2.1 batches/sec\n"
     ]
    },
    {
     "name": "stderr",
     "output_type": "stream",
     "text": [
      " 90%|████████▉ | 269/300 [1:33:41<09:22, 18.14s/it]"
     ]
    },
    {
     "name": "stdout",
     "output_type": "stream",
     "text": [
      "Epoch  269, sqrt loss 0.08325, Val sim-NRMS 0.09597, Time Loss: 92.6%, data: 0.3%, val: 7.1%,  2.1 batches/sec\n"
     ]
    },
    {
     "name": "stderr",
     "output_type": "stream",
     "text": [
      " 90%|█████████ | 270/300 [1:33:59<09:03, 18.12s/it]"
     ]
    },
    {
     "name": "stdout",
     "output_type": "stream",
     "text": [
      "Epoch  270, sqrt loss 0.08326, Val sim-NRMS 0.09585, Time Loss: 92.6%, data: 0.3%, val: 7.1%,  2.1 batches/sec\n"
     ]
    },
    {
     "name": "stderr",
     "output_type": "stream",
     "text": [
      " 90%|█████████ | 271/300 [1:34:18<08:47, 18.20s/it]"
     ]
    },
    {
     "name": "stdout",
     "output_type": "stream",
     "text": [
      "Epoch  271, sqrt loss 0.08325, Val sim-NRMS 0.09604, Time Loss: 92.6%, data: 0.3%, val: 7.1%,  2.1 batches/sec\n"
     ]
    },
    {
     "name": "stderr",
     "output_type": "stream",
     "text": [
      " 91%|█████████ | 272/300 [1:34:36<08:31, 18.26s/it]"
     ]
    },
    {
     "name": "stdout",
     "output_type": "stream",
     "text": [
      "Epoch  272, sqrt loss 0.08326, Val sim-NRMS 0.09566, Time Loss: 92.6%, data: 0.3%, val: 7.1%,  2.1 batches/sec\n"
     ]
    },
    {
     "name": "stderr",
     "output_type": "stream",
     "text": [
      " 91%|█████████ | 273/300 [1:34:54<08:12, 18.23s/it]"
     ]
    },
    {
     "name": "stdout",
     "output_type": "stream",
     "text": [
      "Epoch  273, sqrt loss 0.08326, Val sim-NRMS 0.09586, Time Loss: 92.6%, data: 0.3%, val: 7.1%,  2.1 batches/sec\n"
     ]
    },
    {
     "name": "stderr",
     "output_type": "stream",
     "text": [
      " 91%|█████████▏| 274/300 [1:35:13<07:53, 18.20s/it]"
     ]
    },
    {
     "name": "stdout",
     "output_type": "stream",
     "text": [
      "Epoch  274, sqrt loss 0.08326, Val sim-NRMS 0.09568, Time Loss: 92.6%, data: 0.3%, val: 7.1%,  2.1 batches/sec\n"
     ]
    },
    {
     "name": "stderr",
     "output_type": "stream",
     "text": [
      " 92%|█████████▏| 275/300 [1:35:31<07:38, 18.34s/it]"
     ]
    },
    {
     "name": "stdout",
     "output_type": "stream",
     "text": [
      "Epoch  275, sqrt loss 0.08325, Val sim-NRMS 0.09581, Time Loss: 92.6%, data: 0.3%, val: 7.1%,  2.1 batches/sec\n"
     ]
    },
    {
     "name": "stderr",
     "output_type": "stream",
     "text": [
      " 92%|█████████▏| 276/300 [1:35:51<07:28, 18.70s/it]"
     ]
    },
    {
     "name": "stdout",
     "output_type": "stream",
     "text": [
      "Epoch  276, sqrt loss 0.08325, Val sim-NRMS 0.09571, Time Loss: 92.6%, data: 0.3%, val: 7.1%,  2.1 batches/sec\n"
     ]
    },
    {
     "name": "stderr",
     "output_type": "stream",
     "text": [
      " 92%|█████████▏| 277/300 [1:36:10<07:15, 18.94s/it]"
     ]
    },
    {
     "name": "stdout",
     "output_type": "stream",
     "text": [
      "Epoch  277, sqrt loss 0.08326, Val sim-NRMS 0.09568, Time Loss: 92.6%, data: 0.3%, val: 7.1%,  2.1 batches/sec\n"
     ]
    },
    {
     "name": "stderr",
     "output_type": "stream",
     "text": [
      " 93%|█████████▎| 278/300 [1:36:28<06:51, 18.69s/it]"
     ]
    },
    {
     "name": "stdout",
     "output_type": "stream",
     "text": [
      "Epoch  278, sqrt loss 0.08326, Val sim-NRMS 0.0958, Time Loss: 92.6%, data: 0.3%, val: 7.1%,  2.1 batches/sec\n"
     ]
    },
    {
     "name": "stderr",
     "output_type": "stream",
     "text": [
      " 93%|█████████▎| 279/300 [1:36:47<06:29, 18.55s/it]"
     ]
    },
    {
     "name": "stdout",
     "output_type": "stream",
     "text": [
      "Epoch  279, sqrt loss 0.08326, Val sim-NRMS 0.09583, Time Loss: 92.6%, data: 0.3%, val: 7.1%,  2.1 batches/sec\n"
     ]
    },
    {
     "name": "stderr",
     "output_type": "stream",
     "text": [
      " 93%|█████████▎| 280/300 [1:37:05<06:08, 18.42s/it]"
     ]
    },
    {
     "name": "stdout",
     "output_type": "stream",
     "text": [
      "Epoch  280, sqrt loss 0.08325, Val sim-NRMS 0.09567, Time Loss: 92.6%, data: 0.3%, val: 7.1%,  2.1 batches/sec\n"
     ]
    },
    {
     "name": "stderr",
     "output_type": "stream",
     "text": [
      " 94%|█████████▎| 281/300 [1:37:23<05:48, 18.34s/it]"
     ]
    },
    {
     "name": "stdout",
     "output_type": "stream",
     "text": [
      "Epoch  281, sqrt loss 0.08325, Val sim-NRMS 0.09582, Time Loss: 92.6%, data: 0.3%, val: 7.1%,  2.1 batches/sec\n"
     ]
    },
    {
     "name": "stderr",
     "output_type": "stream",
     "text": [
      " 94%|█████████▍| 282/300 [1:37:41<05:28, 18.28s/it]"
     ]
    },
    {
     "name": "stdout",
     "output_type": "stream",
     "text": [
      "Epoch  282, sqrt loss 0.08325, Val sim-NRMS 0.09586, Time Loss: 92.6%, data: 0.3%, val: 7.1%,  2.1 batches/sec\n"
     ]
    },
    {
     "name": "stderr",
     "output_type": "stream",
     "text": [
      " 94%|█████████▍| 283/300 [1:37:59<05:10, 18.26s/it]"
     ]
    },
    {
     "name": "stdout",
     "output_type": "stream",
     "text": [
      "Epoch  283, sqrt loss 0.08325, Val sim-NRMS 0.09603, Time Loss: 92.6%, data: 0.3%, val: 7.1%,  2.1 batches/sec\n"
     ]
    },
    {
     "name": "stderr",
     "output_type": "stream",
     "text": [
      " 95%|█████████▍| 284/300 [1:38:17<04:51, 18.19s/it]"
     ]
    },
    {
     "name": "stdout",
     "output_type": "stream",
     "text": [
      "Epoch  284, sqrt loss 0.08326, Val sim-NRMS 0.09576, Time Loss: 92.6%, data: 0.3%, val: 7.1%,  2.1 batches/sec\n"
     ]
    },
    {
     "name": "stderr",
     "output_type": "stream",
     "text": [
      " 95%|█████████▌| 285/300 [1:38:35<04:32, 18.15s/it]"
     ]
    },
    {
     "name": "stdout",
     "output_type": "stream",
     "text": [
      "Epoch  285, sqrt loss 0.08326, Val sim-NRMS 0.09582, Time Loss: 92.6%, data: 0.3%, val: 7.1%,  2.1 batches/sec\n"
     ]
    },
    {
     "name": "stderr",
     "output_type": "stream",
     "text": [
      " 95%|█████████▌| 286/300 [1:38:54<04:14, 18.18s/it]"
     ]
    },
    {
     "name": "stdout",
     "output_type": "stream",
     "text": [
      "Epoch  286, sqrt loss 0.08325, Val sim-NRMS 0.09567, Time Loss: 92.6%, data: 0.3%, val: 7.1%,  2.1 batches/sec\n"
     ]
    },
    {
     "name": "stderr",
     "output_type": "stream",
     "text": [
      " 96%|█████████▌| 287/300 [1:39:12<03:56, 18.16s/it]"
     ]
    },
    {
     "name": "stdout",
     "output_type": "stream",
     "text": [
      "Epoch  287, sqrt loss 0.08325, Val sim-NRMS 0.09571, Time Loss: 92.6%, data: 0.3%, val: 7.1%,  2.1 batches/sec\n"
     ]
    },
    {
     "name": "stderr",
     "output_type": "stream",
     "text": [
      " 96%|█████████▌| 288/300 [1:39:30<03:37, 18.16s/it]"
     ]
    },
    {
     "name": "stdout",
     "output_type": "stream",
     "text": [
      "Epoch  288, sqrt loss 0.08326, Val sim-NRMS 0.09578, Time Loss: 92.6%, data: 0.3%, val: 7.1%,  2.1 batches/sec\n"
     ]
    },
    {
     "name": "stderr",
     "output_type": "stream",
     "text": [
      " 96%|█████████▋| 289/300 [1:39:48<03:19, 18.15s/it]"
     ]
    },
    {
     "name": "stdout",
     "output_type": "stream",
     "text": [
      "Epoch  289, sqrt loss 0.08326, Val sim-NRMS 0.09558, Time Loss: 92.6%, data: 0.3%, val: 7.1%,  2.1 batches/sec\n"
     ]
    },
    {
     "name": "stderr",
     "output_type": "stream",
     "text": [
      " 97%|█████████▋| 290/300 [1:40:06<03:01, 18.19s/it]"
     ]
    },
    {
     "name": "stdout",
     "output_type": "stream",
     "text": [
      "Epoch  290, sqrt loss 0.08325, Val sim-NRMS 0.09592, Time Loss: 92.6%, data: 0.3%, val: 7.1%,  2.1 batches/sec\n"
     ]
    },
    {
     "name": "stderr",
     "output_type": "stream",
     "text": [
      " 97%|█████████▋| 291/300 [1:40:24<02:43, 18.19s/it]"
     ]
    },
    {
     "name": "stdout",
     "output_type": "stream",
     "text": [
      "Epoch  291, sqrt loss 0.08325, Val sim-NRMS 0.09565, Time Loss: 92.6%, data: 0.3%, val: 7.1%,  2.1 batches/sec\n"
     ]
    },
    {
     "name": "stderr",
     "output_type": "stream",
     "text": [
      " 97%|█████████▋| 292/300 [1:40:43<02:27, 18.41s/it]"
     ]
    },
    {
     "name": "stdout",
     "output_type": "stream",
     "text": [
      "Epoch  292, sqrt loss 0.08325, Val sim-NRMS 0.09576, Time Loss: 92.6%, data: 0.3%, val: 7.1%,  2.1 batches/sec\n"
     ]
    },
    {
     "name": "stderr",
     "output_type": "stream",
     "text": [
      " 98%|█████████▊| 293/300 [1:41:01<02:08, 18.34s/it]"
     ]
    },
    {
     "name": "stdout",
     "output_type": "stream",
     "text": [
      "Epoch  293, sqrt loss 0.08326, Val sim-NRMS 0.09569, Time Loss: 92.6%, data: 0.3%, val: 7.1%,  2.1 batches/sec\n"
     ]
    },
    {
     "name": "stderr",
     "output_type": "stream",
     "text": [
      " 98%|█████████▊| 294/300 [1:41:19<01:49, 18.21s/it]"
     ]
    },
    {
     "name": "stdout",
     "output_type": "stream",
     "text": [
      "Epoch  294, sqrt loss 0.08325, Val sim-NRMS 0.09569, Time Loss: 92.6%, data: 0.3%, val: 7.1%,  2.1 batches/sec\n"
     ]
    },
    {
     "name": "stderr",
     "output_type": "stream",
     "text": [
      " 98%|█████████▊| 295/300 [1:41:37<01:30, 18.15s/it]"
     ]
    },
    {
     "name": "stdout",
     "output_type": "stream",
     "text": [
      "Epoch  295, sqrt loss 0.08326, Val sim-NRMS 0.09573, Time Loss: 92.6%, data: 0.3%, val: 7.1%,  2.1 batches/sec\n"
     ]
    },
    {
     "name": "stderr",
     "output_type": "stream",
     "text": [
      " 99%|█████████▊| 296/300 [1:41:56<01:12, 18.15s/it]"
     ]
    },
    {
     "name": "stdout",
     "output_type": "stream",
     "text": [
      "Epoch  296, sqrt loss 0.08325, Val sim-NRMS 0.09584, Time Loss: 92.6%, data: 0.3%, val: 7.1%,  2.1 batches/sec\n"
     ]
    },
    {
     "name": "stderr",
     "output_type": "stream",
     "text": [
      " 99%|█████████▉| 297/300 [1:42:14<00:54, 18.19s/it]"
     ]
    },
    {
     "name": "stdout",
     "output_type": "stream",
     "text": [
      "Epoch  297, sqrt loss 0.08325, Val sim-NRMS 0.09582, Time Loss: 92.6%, data: 0.3%, val: 7.1%,  2.1 batches/sec\n"
     ]
    },
    {
     "name": "stderr",
     "output_type": "stream",
     "text": [
      " 99%|█████████▉| 298/300 [1:42:32<00:36, 18.14s/it]"
     ]
    },
    {
     "name": "stdout",
     "output_type": "stream",
     "text": [
      "Epoch  298, sqrt loss 0.08325, Val sim-NRMS 0.09586, Time Loss: 92.6%, data: 0.3%, val: 7.1%,  2.1 batches/sec\n"
     ]
    },
    {
     "name": "stderr",
     "output_type": "stream",
     "text": [
      "100%|█████████▉| 299/300 [1:42:50<00:18, 18.15s/it]"
     ]
    },
    {
     "name": "stdout",
     "output_type": "stream",
     "text": [
      "Epoch  299, sqrt loss 0.08326, Val sim-NRMS 0.09577, Time Loss: 92.6%, data: 0.3%, val: 7.1%,  2.1 batches/sec\n"
     ]
    },
    {
     "name": "stderr",
     "output_type": "stream",
     "text": [
      "100%|██████████| 300/300 [1:43:08<00:00, 20.63s/it]"
     ]
    },
    {
     "name": "stdout",
     "output_type": "stream",
     "text": [
      "Epoch  300, sqrt loss 0.08325, Val sim-NRMS 0.09563, Time Loss: 92.6%, data: 0.3%, val: 7.1%,  2.1 batches/sec\n"
     ]
    },
    {
     "name": "stderr",
     "output_type": "stream",
     "text": [
      "\n"
     ]
    },
    {
     "name": "stdout",
     "output_type": "stream",
     "text": [
      "Model already initilized (init_model_done=True), skipping initilizing of the model, the norm and the creation of the optimizer\n",
      "Size of the training array =  212.8 MB\n",
      "N_training_samples = 179950, batch_size = 4096, N_batch_updates_per_epoch = 43\n",
      "Initial Validation sim-NRMS= 0.09562596478686987\n"
     ]
    },
    {
     "name": "stderr",
     "output_type": "stream",
     "text": [
      "  1%|          | 1/100 [00:18<29:42, 18.01s/it]"
     ]
    },
    {
     "name": "stdout",
     "output_type": "stream",
     "text": [
      "Epoch    1, sqrt loss 0.01493, Val sim-NRMS 0.09576, Time Loss: 92.3%, data: 0.2%, val: 7.5%,  2.4 batches/sec\n"
     ]
    },
    {
     "name": "stderr",
     "output_type": "stream",
     "text": [
      "  2%|▏         | 2/100 [00:36<29:37, 18.14s/it]"
     ]
    },
    {
     "name": "stdout",
     "output_type": "stream",
     "text": [
      "Epoch    2, sqrt loss 0.01492, Val sim-NRMS 0.09575, Time Loss: 92.3%, data: 0.2%, val: 7.5%,  2.4 batches/sec\n"
     ]
    },
    {
     "name": "stderr",
     "output_type": "stream",
     "text": [
      "  3%|▎         | 3/100 [00:54<29:14, 18.08s/it]"
     ]
    },
    {
     "name": "stdout",
     "output_type": "stream",
     "text": [
      "Epoch    3, sqrt loss 0.01492, Val sim-NRMS 0.09593, Time Loss: 92.3%, data: 0.2%, val: 7.5%,  2.4 batches/sec\n"
     ]
    },
    {
     "name": "stderr",
     "output_type": "stream",
     "text": [
      "  4%|▍         | 4/100 [01:12<28:52, 18.04s/it]"
     ]
    },
    {
     "name": "stdout",
     "output_type": "stream",
     "text": [
      "Epoch    4, sqrt loss 0.01492, Val sim-NRMS 0.09569, Time Loss: 92.3%, data: 0.2%, val: 7.5%,  2.4 batches/sec\n"
     ]
    },
    {
     "name": "stderr",
     "output_type": "stream",
     "text": [
      "  5%|▌         | 5/100 [01:30<28:35, 18.05s/it]"
     ]
    },
    {
     "name": "stdout",
     "output_type": "stream",
     "text": [
      "Epoch    5, sqrt loss 0.01493, Val sim-NRMS 0.09601, Time Loss: 92.2%, data: 0.2%, val: 7.6%,  2.4 batches/sec\n"
     ]
    },
    {
     "name": "stderr",
     "output_type": "stream",
     "text": [
      "  6%|▌         | 6/100 [01:48<28:12, 18.01s/it]"
     ]
    },
    {
     "name": "stdout",
     "output_type": "stream",
     "text": [
      "Epoch    6, sqrt loss 0.01492, Val sim-NRMS 0.09585, Time Loss: 92.2%, data: 0.2%, val: 7.6%,  2.4 batches/sec\n"
     ]
    },
    {
     "name": "stderr",
     "output_type": "stream",
     "text": [
      "  7%|▋         | 7/100 [02:06<27:58, 18.05s/it]"
     ]
    },
    {
     "name": "stdout",
     "output_type": "stream",
     "text": [
      "Epoch    7, sqrt loss 0.01492, Val sim-NRMS 0.09571, Time Loss: 92.2%, data: 0.2%, val: 7.6%,  2.4 batches/sec\n"
     ]
    },
    {
     "name": "stderr",
     "output_type": "stream",
     "text": [
      "  8%|▊         | 8/100 [02:24<27:42, 18.07s/it]"
     ]
    },
    {
     "name": "stdout",
     "output_type": "stream",
     "text": [
      "Epoch    8, sqrt loss 0.01492, Val sim-NRMS 0.09568, Time Loss: 92.2%, data: 0.2%, val: 7.6%,  2.4 batches/sec\n"
     ]
    },
    {
     "name": "stderr",
     "output_type": "stream",
     "text": [
      "  9%|▉         | 9/100 [02:42<27:26, 18.09s/it]"
     ]
    },
    {
     "name": "stdout",
     "output_type": "stream",
     "text": [
      "Epoch    9, sqrt loss 0.01492, Val sim-NRMS 0.0958, Time Loss: 92.3%, data: 0.2%, val: 7.5%,  2.4 batches/sec\n"
     ]
    },
    {
     "name": "stderr",
     "output_type": "stream",
     "text": [
      " 10%|█         | 10/100 [03:01<27:35, 18.39s/it]"
     ]
    },
    {
     "name": "stdout",
     "output_type": "stream",
     "text": [
      "Epoch   10, sqrt loss 0.01493, Val sim-NRMS 0.09588, Time Loss: 92.2%, data: 0.2%, val: 7.6%,  2.4 batches/sec\n"
     ]
    },
    {
     "name": "stderr",
     "output_type": "stream",
     "text": [
      " 11%|█         | 11/100 [03:20<27:40, 18.65s/it]"
     ]
    },
    {
     "name": "stdout",
     "output_type": "stream",
     "text": [
      "Epoch   11, sqrt loss 0.01493, Val sim-NRMS 0.0956, Time Loss: 92.2%, data: 0.2%, val: 7.6%,  2.4 batches/sec\n"
     ]
    },
    {
     "name": "stderr",
     "output_type": "stream",
     "text": [
      " 12%|█▏        | 12/100 [03:38<27:03, 18.45s/it]"
     ]
    },
    {
     "name": "stdout",
     "output_type": "stream",
     "text": [
      "Epoch   12, sqrt loss 0.01492, Val sim-NRMS 0.0958, Time Loss: 92.2%, data: 0.2%, val: 7.6%,  2.4 batches/sec\n"
     ]
    },
    {
     "name": "stderr",
     "output_type": "stream",
     "text": [
      " 13%|█▎        | 13/100 [03:56<26:30, 18.28s/it]"
     ]
    },
    {
     "name": "stdout",
     "output_type": "stream",
     "text": [
      "Epoch   13, sqrt loss 0.01492, Val sim-NRMS 0.09575, Time Loss: 92.2%, data: 0.2%, val: 7.6%,  2.4 batches/sec\n"
     ]
    },
    {
     "name": "stderr",
     "output_type": "stream",
     "text": [
      " 14%|█▍        | 14/100 [04:14<26:04, 18.19s/it]"
     ]
    },
    {
     "name": "stdout",
     "output_type": "stream",
     "text": [
      "Epoch   14, sqrt loss 0.01492, Val sim-NRMS 0.09596, Time Loss: 92.2%, data: 0.2%, val: 7.6%,  2.4 batches/sec\n"
     ]
    },
    {
     "name": "stderr",
     "output_type": "stream",
     "text": [
      " 15%|█▌        | 15/100 [04:32<25:36, 18.08s/it]"
     ]
    },
    {
     "name": "stdout",
     "output_type": "stream",
     "text": [
      "Epoch   15, sqrt loss 0.01492, Val sim-NRMS 0.09566, Time Loss: 92.2%, data: 0.2%, val: 7.6%,  2.4 batches/sec\n"
     ]
    },
    {
     "name": "stderr",
     "output_type": "stream",
     "text": [
      " 16%|█▌        | 16/100 [04:50<25:17, 18.06s/it]"
     ]
    },
    {
     "name": "stdout",
     "output_type": "stream",
     "text": [
      "Epoch   16, sqrt loss 0.01493, Val sim-NRMS 0.09586, Time Loss: 92.2%, data: 0.2%, val: 7.6%,  2.4 batches/sec\n"
     ]
    },
    {
     "name": "stderr",
     "output_type": "stream",
     "text": [
      " 17%|█▋        | 17/100 [05:08<25:01, 18.09s/it]"
     ]
    },
    {
     "name": "stdout",
     "output_type": "stream",
     "text": [
      "Epoch   17, sqrt loss 0.01492, Val sim-NRMS 0.09573, Time Loss: 92.2%, data: 0.2%, val: 7.5%,  2.4 batches/sec\n"
     ]
    },
    {
     "name": "stderr",
     "output_type": "stream",
     "text": [
      " 18%|█▊        | 18/100 [05:26<24:41, 18.07s/it]"
     ]
    },
    {
     "name": "stdout",
     "output_type": "stream",
     "text": [
      "Epoch   18, sqrt loss 0.01492, Val sim-NRMS 0.09578, Time Loss: 92.2%, data: 0.2%, val: 7.5%,  2.4 batches/sec\n"
     ]
    },
    {
     "name": "stderr",
     "output_type": "stream",
     "text": [
      " 19%|█▉        | 19/100 [05:44<24:24, 18.08s/it]"
     ]
    },
    {
     "name": "stdout",
     "output_type": "stream",
     "text": [
      "Epoch   19, sqrt loss 0.01493, Val sim-NRMS 0.0958, Time Loss: 92.2%, data: 0.2%, val: 7.5%,  2.4 batches/sec\n"
     ]
    },
    {
     "name": "stderr",
     "output_type": "stream",
     "text": [
      " 20%|██        | 20/100 [06:02<24:02, 18.04s/it]"
     ]
    },
    {
     "name": "stdout",
     "output_type": "stream",
     "text": [
      "Epoch   20, sqrt loss 0.01492, Val sim-NRMS 0.09567, Time Loss: 92.2%, data: 0.2%, val: 7.5%,  2.4 batches/sec\n"
     ]
    },
    {
     "name": "stderr",
     "output_type": "stream",
     "text": [
      " 21%|██        | 21/100 [06:21<23:59, 18.22s/it]"
     ]
    },
    {
     "name": "stdout",
     "output_type": "stream",
     "text": [
      "Epoch   21, sqrt loss 0.01492, Val sim-NRMS 0.09572, Time Loss: 92.1%, data: 0.2%, val: 7.6%,  2.4 batches/sec\n"
     ]
    },
    {
     "name": "stderr",
     "output_type": "stream",
     "text": [
      " 22%|██▏       | 22/100 [06:56<30:05, 23.14s/it]"
     ]
    },
    {
     "name": "stdout",
     "output_type": "stream",
     "text": [
      "Epoch   22, sqrt loss 0.01492, Val sim-NRMS 0.09595, Time Loss: 92.3%, data: 0.2%, val: 7.5%,  2.3 batches/sec\n"
     ]
    },
    {
     "name": "stderr",
     "output_type": "stream",
     "text": [
      " 23%|██▎       | 23/100 [07:23<31:26, 24.50s/it]"
     ]
    },
    {
     "name": "stdout",
     "output_type": "stream",
     "text": [
      "Epoch   23, sqrt loss 0.01492, Val sim-NRMS 0.09573, Time Loss: 92.3%, data: 0.2%, val: 7.4%,  2.2 batches/sec\n"
     ]
    },
    {
     "name": "stderr",
     "output_type": "stream",
     "text": [
      " 24%|██▍       | 24/100 [07:53<33:02, 26.09s/it]"
     ]
    },
    {
     "name": "stdout",
     "output_type": "stream",
     "text": [
      "Epoch   24, sqrt loss 0.01492, Val sim-NRMS 0.09587, Time Loss: 92.3%, data: 0.2%, val: 7.4%,  2.2 batches/sec\n"
     ]
    },
    {
     "name": "stderr",
     "output_type": "stream",
     "text": [
      " 25%|██▌       | 25/100 [08:22<33:29, 26.79s/it]"
     ]
    },
    {
     "name": "stdout",
     "output_type": "stream",
     "text": [
      "Epoch   25, sqrt loss 0.01492, Val sim-NRMS 0.09576, Time Loss: 92.4%, data: 0.2%, val: 7.4%,  2.1 batches/sec\n"
     ]
    },
    {
     "name": "stderr",
     "output_type": "stream",
     "text": [
      " 26%|██▌       | 26/100 [08:53<34:56, 28.33s/it]"
     ]
    },
    {
     "name": "stdout",
     "output_type": "stream",
     "text": [
      "Epoch   26, sqrt loss 0.01492, Val sim-NRMS 0.09568, Time Loss: 92.4%, data: 0.2%, val: 7.3%,  2.1 batches/sec\n"
     ]
    },
    {
     "name": "stderr",
     "output_type": "stream",
     "text": [
      " 27%|██▋       | 27/100 [09:21<34:08, 28.06s/it]"
     ]
    },
    {
     "name": "stdout",
     "output_type": "stream",
     "text": [
      "Epoch   27, sqrt loss 0.01492, Val sim-NRMS 0.09575, Time Loss: 92.5%, data: 0.2%, val: 7.3%,  2.1 batches/sec\n"
     ]
    },
    {
     "name": "stderr",
     "output_type": "stream",
     "text": [
      " 28%|██▊       | 28/100 [09:54<35:30, 29.59s/it]"
     ]
    },
    {
     "name": "stdout",
     "output_type": "stream",
     "text": [
      "Epoch   28, sqrt loss 0.01491, Val sim-NRMS 0.09574, Time Loss: 92.5%, data: 0.2%, val: 7.3%,  2.0 batches/sec\n"
     ]
    },
    {
     "name": "stderr",
     "output_type": "stream",
     "text": [
      " 29%|██▉       | 29/100 [10:21<33:58, 28.71s/it]"
     ]
    },
    {
     "name": "stdout",
     "output_type": "stream",
     "text": [
      "Epoch   29, sqrt loss 0.01492, Val sim-NRMS 0.09566, Time Loss: 92.5%, data: 0.2%, val: 7.2%,  2.0 batches/sec\n"
     ]
    },
    {
     "name": "stderr",
     "output_type": "stream",
     "text": [
      " 30%|███       | 30/100 [10:53<34:45, 29.79s/it]"
     ]
    },
    {
     "name": "stdout",
     "output_type": "stream",
     "text": [
      "Epoch   30, sqrt loss 0.01492, Val sim-NRMS 0.09582, Time Loss: 92.6%, data: 0.2%, val: 7.1%,  2.0 batches/sec\n"
     ]
    },
    {
     "name": "stderr",
     "output_type": "stream",
     "text": [
      " 31%|███       | 31/100 [11:20<33:11, 28.86s/it]"
     ]
    },
    {
     "name": "stdout",
     "output_type": "stream",
     "text": [
      "Epoch   31, sqrt loss 0.01492, Val sim-NRMS 0.09571, Time Loss: 92.6%, data: 0.2%, val: 7.1%,  2.0 batches/sec\n"
     ]
    },
    {
     "name": "stderr",
     "output_type": "stream",
     "text": [
      " 32%|███▏      | 32/100 [11:51<33:31, 29.58s/it]"
     ]
    },
    {
     "name": "stdout",
     "output_type": "stream",
     "text": [
      "Epoch   32, sqrt loss 0.01492, Val sim-NRMS 0.09604, Time Loss: 92.7%, data: 0.2%, val: 7.0%,  1.9 batches/sec\n"
     ]
    },
    {
     "name": "stderr",
     "output_type": "stream",
     "text": [
      " 33%|███▎      | 33/100 [12:20<32:55, 29.49s/it]"
     ]
    },
    {
     "name": "stdout",
     "output_type": "stream",
     "text": [
      "Epoch   33, sqrt loss 0.01492, Val sim-NRMS 0.09593, Time Loss: 92.7%, data: 0.2%, val: 7.0%,  1.9 batches/sec\n"
     ]
    },
    {
     "name": "stderr",
     "output_type": "stream",
     "text": [
      " 34%|███▍      | 34/100 [12:48<31:50, 28.95s/it]"
     ]
    },
    {
     "name": "stdout",
     "output_type": "stream",
     "text": [
      "Epoch   34, sqrt loss 0.01492, Val sim-NRMS 0.09582, Time Loss: 92.7%, data: 0.2%, val: 7.0%,  1.9 batches/sec\n"
     ]
    },
    {
     "name": "stderr",
     "output_type": "stream",
     "text": [
      " 35%|███▌      | 35/100 [13:20<32:19, 29.84s/it]"
     ]
    },
    {
     "name": "stdout",
     "output_type": "stream",
     "text": [
      "Epoch   35, sqrt loss 0.01493, Val sim-NRMS  0.096, Time Loss: 92.7%, data: 0.2%, val: 7.0%,  1.9 batches/sec\n"
     ]
    },
    {
     "name": "stderr",
     "output_type": "stream",
     "text": [
      " 36%|███▌      | 36/100 [13:46<30:37, 28.71s/it]"
     ]
    },
    {
     "name": "stdout",
     "output_type": "stream",
     "text": [
      "Epoch   36, sqrt loss 0.01493, Val sim-NRMS 0.0957, Time Loss: 92.8%, data: 0.2%, val: 7.0%,  1.9 batches/sec\n"
     ]
    },
    {
     "name": "stderr",
     "output_type": "stream",
     "text": [
      " 37%|███▋      | 37/100 [14:17<30:56, 29.47s/it]"
     ]
    },
    {
     "name": "stdout",
     "output_type": "stream",
     "text": [
      "Epoch   37, sqrt loss 0.01492, Val sim-NRMS 0.09589, Time Loss: 92.8%, data: 0.2%, val: 6.9%,  1.9 batches/sec\n"
     ]
    },
    {
     "name": "stderr",
     "output_type": "stream",
     "text": [
      " 38%|███▊      | 38/100 [14:44<29:33, 28.61s/it]"
     ]
    },
    {
     "name": "stdout",
     "output_type": "stream",
     "text": [
      "Epoch   38, sqrt loss 0.01493, Val sim-NRMS 0.09589, Time Loss: 92.7%, data: 0.3%, val: 7.0%,  1.8 batches/sec\n"
     ]
    },
    {
     "name": "stderr",
     "output_type": "stream",
     "text": [
      " 39%|███▉      | 39/100 [15:15<29:53, 29.41s/it]"
     ]
    },
    {
     "name": "stdout",
     "output_type": "stream",
     "text": [
      "Epoch   39, sqrt loss 0.01492, Val sim-NRMS 0.09582, Time Loss: 92.7%, data: 0.3%, val: 7.0%,  1.8 batches/sec\n"
     ]
    },
    {
     "name": "stderr",
     "output_type": "stream",
     "text": [
      " 40%|████      | 40/100 [15:39<27:52, 27.87s/it]"
     ]
    },
    {
     "name": "stdout",
     "output_type": "stream",
     "text": [
      "Epoch   40, sqrt loss 0.01492, Val sim-NRMS 0.09576, Time Loss: 92.8%, data: 0.3%, val: 7.0%,  1.8 batches/sec\n"
     ]
    },
    {
     "name": "stderr",
     "output_type": "stream",
     "text": [
      " 41%|████      | 41/100 [16:11<28:34, 29.05s/it]"
     ]
    },
    {
     "name": "stdout",
     "output_type": "stream",
     "text": [
      "Epoch   41, sqrt loss 0.01492, Val sim-NRMS 0.0959, Time Loss: 92.8%, data: 0.3%, val: 6.9%,  1.8 batches/sec\n"
     ]
    },
    {
     "name": "stderr",
     "output_type": "stream",
     "text": [
      " 42%|████▏     | 42/100 [16:39<27:49, 28.79s/it]"
     ]
    },
    {
     "name": "stdout",
     "output_type": "stream",
     "text": [
      "Epoch   42, sqrt loss 0.01492, Val sim-NRMS 0.09618, Time Loss: 92.8%, data: 0.3%, val: 7.0%,  1.8 batches/sec\n"
     ]
    },
    {
     "name": "stderr",
     "output_type": "stream",
     "text": [
      " 43%|████▎     | 43/100 [17:08<27:20, 28.79s/it]"
     ]
    },
    {
     "name": "stdout",
     "output_type": "stream",
     "text": [
      "Epoch   43, sqrt loss 0.01493, Val sim-NRMS 0.09578, Time Loss: 92.8%, data: 0.3%, val: 6.9%,  1.8 batches/sec\n"
     ]
    },
    {
     "name": "stderr",
     "output_type": "stream",
     "text": [
      " 44%|████▍     | 44/100 [17:38<27:08, 29.09s/it]"
     ]
    },
    {
     "name": "stdout",
     "output_type": "stream",
     "text": [
      "Epoch   44, sqrt loss 0.01492, Val sim-NRMS 0.09584, Time Loss: 92.8%, data: 0.3%, val: 6.9%,  1.8 batches/sec\n"
     ]
    },
    {
     "name": "stderr",
     "output_type": "stream",
     "text": [
      " 45%|████▌     | 45/100 [18:04<25:56, 28.30s/it]"
     ]
    },
    {
     "name": "stdout",
     "output_type": "stream",
     "text": [
      "Epoch   45, sqrt loss 0.01492, Val sim-NRMS 0.09577, Time Loss: 92.8%, data: 0.3%, val: 6.9%,  1.8 batches/sec\n"
     ]
    },
    {
     "name": "stderr",
     "output_type": "stream",
     "text": [
      " 46%|████▌     | 46/100 [18:36<26:22, 29.30s/it]"
     ]
    },
    {
     "name": "stdout",
     "output_type": "stream",
     "text": [
      "Epoch   46, sqrt loss 0.01492, Val sim-NRMS 0.09593, Time Loss: 92.8%, data: 0.3%, val: 6.9%,  1.8 batches/sec\n"
     ]
    },
    {
     "name": "stderr",
     "output_type": "stream",
     "text": [
      " 47%|████▋     | 47/100 [19:01<24:43, 27.99s/it]"
     ]
    },
    {
     "name": "stdout",
     "output_type": "stream",
     "text": [
      "Epoch   47, sqrt loss 0.01492, Val sim-NRMS 0.09555, Time Loss: 92.8%, data: 0.3%, val: 6.9%,  1.8 batches/sec\n"
     ]
    },
    {
     "name": "stderr",
     "output_type": "stream",
     "text": [
      " 48%|████▊     | 48/100 [19:32<25:09, 29.02s/it]"
     ]
    },
    {
     "name": "stdout",
     "output_type": "stream",
     "text": [
      "Epoch   48, sqrt loss 0.01492, Val sim-NRMS 0.09578, Time Loss: 92.9%, data: 0.3%, val: 6.9%,  1.8 batches/sec\n"
     ]
    },
    {
     "name": "stderr",
     "output_type": "stream",
     "text": [
      " 49%|████▉     | 49/100 [20:01<24:34, 28.92s/it]"
     ]
    },
    {
     "name": "stdout",
     "output_type": "stream",
     "text": [
      "Epoch   49, sqrt loss 0.01492, Val sim-NRMS 0.09593, Time Loss: 92.8%, data: 0.3%, val: 6.9%,  1.8 batches/sec\n"
     ]
    },
    {
     "name": "stderr",
     "output_type": "stream",
     "text": [
      " 50%|█████     | 50/100 [20:30<24:01, 28.83s/it]"
     ]
    },
    {
     "name": "stdout",
     "output_type": "stream",
     "text": [
      "Epoch   50, sqrt loss 0.01492, Val sim-NRMS 0.09598, Time Loss: 92.9%, data: 0.3%, val: 6.9%,  1.7 batches/sec\n"
     ]
    },
    {
     "name": "stderr",
     "output_type": "stream",
     "text": [
      " 51%|█████     | 51/100 [20:59<23:41, 29.00s/it]"
     ]
    },
    {
     "name": "stdout",
     "output_type": "stream",
     "text": [
      "Epoch   51, sqrt loss 0.01492, Val sim-NRMS 0.09579, Time Loss: 92.8%, data: 0.3%, val: 6.9%,  1.7 batches/sec\n"
     ]
    },
    {
     "name": "stderr",
     "output_type": "stream",
     "text": [
      " 52%|█████▏    | 52/100 [21:26<22:48, 28.51s/it]"
     ]
    },
    {
     "name": "stdout",
     "output_type": "stream",
     "text": [
      "Epoch   52, sqrt loss 0.01492, Val sim-NRMS 0.09574, Time Loss: 92.9%, data: 0.3%, val: 6.9%,  1.7 batches/sec\n"
     ]
    },
    {
     "name": "stderr",
     "output_type": "stream",
     "text": [
      " 53%|█████▎    | 53/100 [21:58<23:04, 29.46s/it]"
     ]
    },
    {
     "name": "stdout",
     "output_type": "stream",
     "text": [
      "Epoch   53, sqrt loss 0.01493, Val sim-NRMS 0.09579, Time Loss: 92.9%, data: 0.3%, val: 6.8%,  1.7 batches/sec\n"
     ]
    },
    {
     "name": "stderr",
     "output_type": "stream",
     "text": [
      " 54%|█████▍    | 54/100 [22:24<21:42, 28.31s/it]"
     ]
    },
    {
     "name": "stdout",
     "output_type": "stream",
     "text": [
      "Epoch   54, sqrt loss 0.01492, Val sim-NRMS 0.09558, Time Loss: 92.9%, data: 0.3%, val: 6.8%,  1.7 batches/sec\n"
     ]
    },
    {
     "name": "stderr",
     "output_type": "stream",
     "text": [
      " 55%|█████▌    | 55/100 [22:55<21:56, 29.25s/it]"
     ]
    },
    {
     "name": "stdout",
     "output_type": "stream",
     "text": [
      "Epoch   55, sqrt loss 0.01492, Val sim-NRMS 0.09594, Time Loss: 92.9%, data: 0.3%, val: 6.8%,  1.7 batches/sec\n"
     ]
    },
    {
     "name": "stderr",
     "output_type": "stream",
     "text": [
      " 56%|█████▌    | 56/100 [23:21<20:46, 28.33s/it]"
     ]
    },
    {
     "name": "stdout",
     "output_type": "stream",
     "text": [
      "Epoch   56, sqrt loss 0.01492, Val sim-NRMS 0.09579, Time Loss: 92.9%, data: 0.3%, val: 6.8%,  1.7 batches/sec\n"
     ]
    },
    {
     "name": "stderr",
     "output_type": "stream",
     "text": [
      " 57%|█████▋    | 57/100 [23:51<20:29, 28.60s/it]"
     ]
    },
    {
     "name": "stdout",
     "output_type": "stream",
     "text": [
      "Epoch   57, sqrt loss 0.01492, Val sim-NRMS 0.0959, Time Loss: 93.0%, data: 0.3%, val: 6.7%,  1.7 batches/sec\n"
     ]
    },
    {
     "name": "stderr",
     "output_type": "stream",
     "text": [
      " 58%|█████▊    | 58/100 [24:06<17:17, 24.71s/it]"
     ]
    },
    {
     "name": "stdout",
     "output_type": "stream",
     "text": [
      "Epoch   58, sqrt loss 0.01492, Val sim-NRMS 0.09571, Time Loss: 93.0%, data: 0.3%, val: 6.8%,  1.7 batches/sec\n"
     ]
    },
    {
     "name": "stderr",
     "output_type": "stream",
     "text": [
      " 59%|█████▉    | 59/100 [24:22<15:01, 21.99s/it]"
     ]
    },
    {
     "name": "stdout",
     "output_type": "stream",
     "text": [
      "Epoch   59, sqrt loss 0.01492, Val sim-NRMS 0.09582, Time Loss: 93.0%, data: 0.3%, val: 6.8%,  1.7 batches/sec\n"
     ]
    },
    {
     "name": "stderr",
     "output_type": "stream",
     "text": [
      " 60%|██████    | 60/100 [24:37<13:15, 19.88s/it]"
     ]
    },
    {
     "name": "stdout",
     "output_type": "stream",
     "text": [
      "Epoch   60, sqrt loss 0.01493, Val sim-NRMS 0.09582, Time Loss: 92.9%, data: 0.3%, val: 6.8%,  1.7 batches/sec\n"
     ]
    },
    {
     "name": "stderr",
     "output_type": "stream",
     "text": [
      " 61%|██████    | 61/100 [24:52<12:00, 18.46s/it]"
     ]
    },
    {
     "name": "stdout",
     "output_type": "stream",
     "text": [
      "Epoch   61, sqrt loss 0.01492, Val sim-NRMS 0.09575, Time Loss: 92.9%, data: 0.3%, val: 6.8%,  1.8 batches/sec\n"
     ]
    },
    {
     "name": "stderr",
     "output_type": "stream",
     "text": [
      " 62%|██████▏   | 62/100 [25:07<11:02, 17.43s/it]"
     ]
    },
    {
     "name": "stdout",
     "output_type": "stream",
     "text": [
      "Epoch   62, sqrt loss 0.01492, Val sim-NRMS 0.09567, Time Loss: 92.9%, data: 0.3%, val: 6.8%,  1.8 batches/sec\n"
     ]
    },
    {
     "name": "stderr",
     "output_type": "stream",
     "text": [
      " 63%|██████▎   | 63/100 [25:22<10:18, 16.71s/it]"
     ]
    },
    {
     "name": "stdout",
     "output_type": "stream",
     "text": [
      "Epoch   63, sqrt loss 0.01492, Val sim-NRMS 0.09579, Time Loss: 92.9%, data: 0.3%, val: 6.8%,  1.8 batches/sec\n"
     ]
    },
    {
     "name": "stderr",
     "output_type": "stream",
     "text": [
      " 64%|██████▍   | 64/100 [25:37<09:44, 16.25s/it]"
     ]
    },
    {
     "name": "stdout",
     "output_type": "stream",
     "text": [
      "Epoch   64, sqrt loss 0.01493, Val sim-NRMS 0.09557, Time Loss: 92.9%, data: 0.3%, val: 6.8%,  1.8 batches/sec\n"
     ]
    },
    {
     "name": "stderr",
     "output_type": "stream",
     "text": [
      " 65%|██████▌   | 65/100 [25:52<09:16, 15.90s/it]"
     ]
    },
    {
     "name": "stdout",
     "output_type": "stream",
     "text": [
      "Epoch   65, sqrt loss 0.01493, Val sim-NRMS 0.09605, Time Loss: 92.9%, data: 0.3%, val: 6.8%,  1.8 batches/sec\n"
     ]
    },
    {
     "name": "stderr",
     "output_type": "stream",
     "text": [
      " 66%|██████▌   | 66/100 [26:07<08:51, 15.65s/it]"
     ]
    },
    {
     "name": "stdout",
     "output_type": "stream",
     "text": [
      "Epoch   66, sqrt loss 0.01493, Val sim-NRMS 0.09586, Time Loss: 92.9%, data: 0.3%, val: 6.9%,  1.8 batches/sec\n"
     ]
    },
    {
     "name": "stderr",
     "output_type": "stream",
     "text": [
      " 67%|██████▋   | 67/100 [26:23<08:32, 15.54s/it]"
     ]
    },
    {
     "name": "stdout",
     "output_type": "stream",
     "text": [
      "Epoch   67, sqrt loss 0.01492, Val sim-NRMS 0.09609, Time Loss: 92.9%, data: 0.3%, val: 6.9%,  1.8 batches/sec\n"
     ]
    },
    {
     "name": "stderr",
     "output_type": "stream",
     "text": [
      " 68%|██████▊   | 68/100 [26:38<08:14, 15.44s/it]"
     ]
    },
    {
     "name": "stdout",
     "output_type": "stream",
     "text": [
      "Epoch   68, sqrt loss 0.01492, Val sim-NRMS 0.09579, Time Loss: 92.8%, data: 0.3%, val: 6.9%,  1.8 batches/sec\n"
     ]
    },
    {
     "name": "stderr",
     "output_type": "stream",
     "text": [
      " 69%|██████▉   | 69/100 [26:53<07:57, 15.39s/it]"
     ]
    },
    {
     "name": "stdout",
     "output_type": "stream",
     "text": [
      "Epoch   69, sqrt loss 0.01492, Val sim-NRMS 0.0957, Time Loss: 92.8%, data: 0.3%, val: 6.9%,  1.8 batches/sec\n"
     ]
    },
    {
     "name": "stderr",
     "output_type": "stream",
     "text": [
      " 70%|███████   | 70/100 [27:08<07:39, 15.31s/it]"
     ]
    },
    {
     "name": "stdout",
     "output_type": "stream",
     "text": [
      "Epoch   70, sqrt loss 0.01492, Val sim-NRMS 0.09571, Time Loss: 92.8%, data: 0.3%, val: 6.9%,  1.8 batches/sec\n"
     ]
    },
    {
     "name": "stderr",
     "output_type": "stream",
     "text": [
      " 71%|███████   | 71/100 [27:23<07:21, 15.23s/it]"
     ]
    },
    {
     "name": "stdout",
     "output_type": "stream",
     "text": [
      "Epoch   71, sqrt loss 0.01492, Val sim-NRMS 0.09585, Time Loss: 92.8%, data: 0.3%, val: 6.9%,  1.9 batches/sec\n"
     ]
    },
    {
     "name": "stderr",
     "output_type": "stream",
     "text": [
      " 72%|███████▏  | 72/100 [27:38<07:05, 15.20s/it]"
     ]
    },
    {
     "name": "stdout",
     "output_type": "stream",
     "text": [
      "Epoch   72, sqrt loss 0.01492, Val sim-NRMS 0.09597, Time Loss: 92.8%, data: 0.3%, val: 6.9%,  1.9 batches/sec\n"
     ]
    },
    {
     "name": "stderr",
     "output_type": "stream",
     "text": [
      " 73%|███████▎  | 73/100 [27:53<06:49, 15.17s/it]"
     ]
    },
    {
     "name": "stdout",
     "output_type": "stream",
     "text": [
      "Epoch   73, sqrt loss 0.01492, Val sim-NRMS 0.09568, Time Loss: 92.8%, data: 0.3%, val: 6.9%,  1.9 batches/sec\n"
     ]
    },
    {
     "name": "stderr",
     "output_type": "stream",
     "text": [
      " 74%|███████▍  | 74/100 [28:09<06:33, 15.15s/it]"
     ]
    },
    {
     "name": "stdout",
     "output_type": "stream",
     "text": [
      "Epoch   74, sqrt loss 0.01493, Val sim-NRMS 0.09592, Time Loss: 92.8%, data: 0.3%, val: 7.0%,  1.9 batches/sec\n"
     ]
    },
    {
     "name": "stderr",
     "output_type": "stream",
     "text": [
      " 75%|███████▌  | 75/100 [28:24<06:18, 15.13s/it]"
     ]
    },
    {
     "name": "stdout",
     "output_type": "stream",
     "text": [
      "Epoch   75, sqrt loss 0.01492, Val sim-NRMS 0.09583, Time Loss: 92.8%, data: 0.3%, val: 7.0%,  1.9 batches/sec\n"
     ]
    },
    {
     "name": "stderr",
     "output_type": "stream",
     "text": [
      " 76%|███████▌  | 76/100 [28:39<06:03, 15.13s/it]"
     ]
    },
    {
     "name": "stdout",
     "output_type": "stream",
     "text": [
      "Epoch   76, sqrt loss 0.01492, Val sim-NRMS 0.09569, Time Loss: 92.8%, data: 0.3%, val: 7.0%,  1.9 batches/sec\n"
     ]
    },
    {
     "name": "stderr",
     "output_type": "stream",
     "text": [
      " 77%|███████▋  | 77/100 [28:54<05:47, 15.11s/it]"
     ]
    },
    {
     "name": "stdout",
     "output_type": "stream",
     "text": [
      "Epoch   77, sqrt loss 0.01492, Val sim-NRMS 0.0959, Time Loss: 92.7%, data: 0.3%, val: 7.0%,  1.9 batches/sec\n"
     ]
    },
    {
     "name": "stderr",
     "output_type": "stream",
     "text": [
      " 78%|███████▊  | 78/100 [29:09<05:35, 15.23s/it]"
     ]
    },
    {
     "name": "stdout",
     "output_type": "stream",
     "text": [
      "Epoch   78, sqrt loss 0.01493, Val sim-NRMS 0.09606, Time Loss: 92.7%, data: 0.3%, val: 7.0%,  1.9 batches/sec\n"
     ]
    },
    {
     "name": "stderr",
     "output_type": "stream",
     "text": [
      " 79%|███████▉  | 79/100 [29:25<05:19, 15.21s/it]"
     ]
    },
    {
     "name": "stdout",
     "output_type": "stream",
     "text": [
      "Epoch   79, sqrt loss 0.01492, Val sim-NRMS 0.09576, Time Loss: 92.7%, data: 0.3%, val: 7.0%,  1.9 batches/sec\n"
     ]
    },
    {
     "name": "stderr",
     "output_type": "stream",
     "text": [
      " 80%|████████  | 80/100 [29:40<05:03, 15.16s/it]"
     ]
    },
    {
     "name": "stdout",
     "output_type": "stream",
     "text": [
      "Epoch   80, sqrt loss 0.01492, Val sim-NRMS 0.09575, Time Loss: 92.7%, data: 0.3%, val: 7.0%,  1.9 batches/sec\n"
     ]
    },
    {
     "name": "stderr",
     "output_type": "stream",
     "text": [
      " 81%|████████  | 81/100 [29:55<04:47, 15.13s/it]"
     ]
    },
    {
     "name": "stdout",
     "output_type": "stream",
     "text": [
      "Epoch   81, sqrt loss 0.01491, Val sim-NRMS 0.09563, Time Loss: 92.7%, data: 0.3%, val: 7.0%,  1.9 batches/sec\n"
     ]
    },
    {
     "name": "stderr",
     "output_type": "stream",
     "text": [
      " 82%|████████▏ | 82/100 [30:10<04:33, 15.19s/it]"
     ]
    },
    {
     "name": "stdout",
     "output_type": "stream",
     "text": [
      "Epoch   82, sqrt loss 0.01492, Val sim-NRMS 0.09574, Time Loss: 92.7%, data: 0.3%, val: 7.0%,  1.9 batches/sec\n"
     ]
    },
    {
     "name": "stderr",
     "output_type": "stream",
     "text": [
      " 83%|████████▎ | 83/100 [30:26<04:22, 15.43s/it]"
     ]
    },
    {
     "name": "stdout",
     "output_type": "stream",
     "text": [
      "Epoch   83, sqrt loss 0.01493, Val sim-NRMS 0.09577, Time Loss: 92.7%, data: 0.3%, val: 7.0%,  2.0 batches/sec\n"
     ]
    },
    {
     "name": "stderr",
     "output_type": "stream",
     "text": [
      " 84%|████████▍ | 84/100 [30:41<04:05, 15.35s/it]"
     ]
    },
    {
     "name": "stdout",
     "output_type": "stream",
     "text": [
      "Epoch   84, sqrt loss 0.01492, Val sim-NRMS 0.09577, Time Loss: 92.7%, data: 0.3%, val: 7.0%,  2.0 batches/sec\n"
     ]
    },
    {
     "name": "stderr",
     "output_type": "stream",
     "text": [
      " 85%|████████▌ | 85/100 [30:57<03:50, 15.37s/it]"
     ]
    },
    {
     "name": "stdout",
     "output_type": "stream",
     "text": [
      "Epoch   85, sqrt loss 0.01493, Val sim-NRMS 0.09602, Time Loss: 92.7%, data: 0.3%, val: 7.1%,  2.0 batches/sec\n"
     ]
    },
    {
     "name": "stderr",
     "output_type": "stream",
     "text": [
      " 86%|████████▌ | 86/100 [31:12<03:36, 15.50s/it]"
     ]
    },
    {
     "name": "stdout",
     "output_type": "stream",
     "text": [
      "Epoch   86, sqrt loss 0.01492, Val sim-NRMS 0.09579, Time Loss: 92.7%, data: 0.3%, val: 7.1%,  2.0 batches/sec\n"
     ]
    },
    {
     "name": "stderr",
     "output_type": "stream",
     "text": [
      " 87%|████████▋ | 87/100 [31:27<03:19, 15.35s/it]"
     ]
    },
    {
     "name": "stdout",
     "output_type": "stream",
     "text": [
      "Epoch   87, sqrt loss 0.01492, Val sim-NRMS 0.09571, Time Loss: 92.7%, data: 0.3%, val: 7.1%,  2.0 batches/sec\n"
     ]
    },
    {
     "name": "stderr",
     "output_type": "stream",
     "text": [
      " 88%|████████▊ | 88/100 [31:42<03:03, 15.28s/it]"
     ]
    },
    {
     "name": "stdout",
     "output_type": "stream",
     "text": [
      "Epoch   88, sqrt loss 0.01492, Val sim-NRMS 0.09574, Time Loss: 92.7%, data: 0.3%, val: 7.1%,  2.0 batches/sec\n"
     ]
    },
    {
     "name": "stderr",
     "output_type": "stream",
     "text": [
      " 89%|████████▉ | 89/100 [31:58<02:48, 15.31s/it]"
     ]
    },
    {
     "name": "stdout",
     "output_type": "stream",
     "text": [
      "Epoch   89, sqrt loss 0.01492, Val sim-NRMS 0.09574, Time Loss: 92.6%, data: 0.3%, val: 7.1%,  2.0 batches/sec\n"
     ]
    },
    {
     "name": "stderr",
     "output_type": "stream",
     "text": [
      " 90%|█████████ | 90/100 [32:13<02:32, 15.26s/it]"
     ]
    },
    {
     "name": "stdout",
     "output_type": "stream",
     "text": [
      "Epoch   90, sqrt loss 0.01492, Val sim-NRMS 0.09574, Time Loss: 92.6%, data: 0.3%, val: 7.1%,  2.0 batches/sec\n"
     ]
    },
    {
     "name": "stderr",
     "output_type": "stream",
     "text": [
      " 91%|█████████ | 91/100 [32:28<02:16, 15.18s/it]"
     ]
    },
    {
     "name": "stdout",
     "output_type": "stream",
     "text": [
      "Epoch   91, sqrt loss 0.01492, Val sim-NRMS 0.09598, Time Loss: 92.6%, data: 0.3%, val: 7.1%,  2.0 batches/sec\n"
     ]
    },
    {
     "name": "stderr",
     "output_type": "stream",
     "text": [
      " 92%|█████████▏| 92/100 [32:43<02:01, 15.17s/it]"
     ]
    },
    {
     "name": "stdout",
     "output_type": "stream",
     "text": [
      "Epoch   92, sqrt loss 0.01493, Val sim-NRMS 0.09599, Time Loss: 92.6%, data: 0.3%, val: 7.1%,  2.0 batches/sec\n"
     ]
    },
    {
     "name": "stderr",
     "output_type": "stream",
     "text": [
      " 93%|█████████▎| 93/100 [32:58<01:45, 15.14s/it]"
     ]
    },
    {
     "name": "stdout",
     "output_type": "stream",
     "text": [
      "Epoch   93, sqrt loss 0.01493, Val sim-NRMS 0.09587, Time Loss: 92.6%, data: 0.3%, val: 7.1%,  2.0 batches/sec\n"
     ]
    },
    {
     "name": "stderr",
     "output_type": "stream",
     "text": [
      " 94%|█████████▍| 94/100 [33:13<01:30, 15.13s/it]"
     ]
    },
    {
     "name": "stdout",
     "output_type": "stream",
     "text": [
      "Epoch   94, sqrt loss 0.01492, Val sim-NRMS 0.09571, Time Loss: 92.6%, data: 0.3%, val: 7.1%,  2.0 batches/sec\n"
     ]
    },
    {
     "name": "stderr",
     "output_type": "stream",
     "text": [
      " 95%|█████████▌| 95/100 [33:28<01:15, 15.11s/it]"
     ]
    },
    {
     "name": "stdout",
     "output_type": "stream",
     "text": [
      "Epoch   95, sqrt loss 0.01492, Val sim-NRMS 0.09596, Time Loss: 92.6%, data: 0.3%, val: 7.1%,  2.0 batches/sec\n"
     ]
    },
    {
     "name": "stderr",
     "output_type": "stream",
     "text": [
      " 96%|█████████▌| 96/100 [33:43<01:00, 15.09s/it]"
     ]
    },
    {
     "name": "stdout",
     "output_type": "stream",
     "text": [
      "Epoch   96, sqrt loss 0.01492, Val sim-NRMS 0.09581, Time Loss: 92.6%, data: 0.3%, val: 7.1%,  2.0 batches/sec\n"
     ]
    },
    {
     "name": "stderr",
     "output_type": "stream",
     "text": [
      " 97%|█████████▋| 97/100 [33:58<00:45, 15.08s/it]"
     ]
    },
    {
     "name": "stdout",
     "output_type": "stream",
     "text": [
      "Epoch   97, sqrt loss 0.01493, Val sim-NRMS 0.09578, Time Loss: 92.6%, data: 0.3%, val: 7.1%,  2.0 batches/sec\n"
     ]
    },
    {
     "name": "stderr",
     "output_type": "stream",
     "text": [
      " 98%|█████████▊| 98/100 [34:13<00:30, 15.06s/it]"
     ]
    },
    {
     "name": "stdout",
     "output_type": "stream",
     "text": [
      "Epoch   98, sqrt loss 0.01492, Val sim-NRMS 0.09581, Time Loss: 92.6%, data: 0.3%, val: 7.1%,  2.1 batches/sec\n"
     ]
    },
    {
     "name": "stderr",
     "output_type": "stream",
     "text": [
      " 99%|█████████▉| 99/100 [34:29<00:15, 15.11s/it]"
     ]
    },
    {
     "name": "stdout",
     "output_type": "stream",
     "text": [
      "Epoch   99, sqrt loss 0.01492, Val sim-NRMS 0.09581, Time Loss: 92.6%, data: 0.3%, val: 7.2%,  2.1 batches/sec\n"
     ]
    },
    {
     "name": "stderr",
     "output_type": "stream",
     "text": [
      "100%|██████████| 100/100 [34:44<00:00, 20.84s/it]"
     ]
    },
    {
     "name": "stdout",
     "output_type": "stream",
     "text": [
      "Epoch  100, sqrt loss 0.01492, Val sim-NRMS 0.09593, Time Loss: 92.6%, data: 0.3%, val: 7.2%,  2.1 batches/sec\n"
     ]
    },
    {
     "name": "stderr",
     "output_type": "stream",
     "text": [
      "\n"
     ]
    },
    {
     "name": "stdout",
     "output_type": "stream",
     "text": [
      "arrow test complete!\n",
      "test test complete!\n",
      "arrow test complete!\n",
      "test test complete!\n",
      "done\n"
     ]
    }
   ],
   "source": [
    "for nf_i in nf:\n",
    "    set_name = \"nftest_org_v2{}\".format(int(nf_i))\n",
    "    print(set_name)\n",
    "\n",
    "    run_SISUBNET(nx, na, nb, na_right, \\\n",
    "             f_net_kwargs, e_net, e_net_kwargs, h_net, h_net_kwargs,\\\n",
    "             arrow, train, val, test, data_set_name,\\\n",
    "             nf_i, gamma, mode, T_idx, pruning, threshold, epo_idx,\\\n",
    "             batch_size, pre_train=pre_train, no_reg_epochs=no_reg_epochs, nf_epochs=epochs,\\\n",
    "             save_data=True, set_name=set_name, verbose=True)"
   ]
  },
  {
   "cell_type": "code",
   "execution_count": 8,
   "metadata": {},
   "outputs": [
    {
     "data": {
      "text/plain": [
       "tensor([[True, True],\n",
       "        [True, True],\n",
       "        [True, True],\n",
       "        [True, True],\n",
       "        [True, True]])"
      ]
     },
     "execution_count": 8,
     "metadata": {},
     "output_type": "execute_result"
    }
   ],
   "source": [
    "torch.ones(5,2) == 1"
   ]
  }
 ],
 "metadata": {
  "kernelspec": {
   "display_name": "subsindy",
   "language": "python",
   "name": "python3"
  },
  "language_info": {
   "codemirror_mode": {
    "name": "ipython",
    "version": 3
   },
   "file_extension": ".py",
   "mimetype": "text/x-python",
   "name": "python",
   "nbconvert_exporter": "python",
   "pygments_lexer": "ipython3",
   "version": "3.12.2"
  }
 },
 "nbformat": 4,
 "nbformat_minor": 2
}
