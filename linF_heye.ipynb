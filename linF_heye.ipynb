{
 "cells": [
  {
   "cell_type": "code",
   "execution_count": 7,
   "metadata": {},
   "outputs": [],
   "source": [
    "import numpy as np\n",
    "from numpy import genfromtxt\n",
    "\n",
    "import csv\n",
    "import os\n",
    "\n",
    "import deepSI\n",
    "from deepSI import System_data\n",
    "\n",
    "from torch import nn\n",
    "import torch\n",
    "\n",
    "import matplotlib.pyplot as plt\n",
    "\n",
    "from scipy.io import loadmat\n",
    "\n",
    "from deepSI.utils import simple_res_net, feed_forward_nn"
   ]
  },
  {
   "cell_type": "code",
   "execution_count": 8,
   "metadata": {},
   "outputs": [],
   "source": [
    "class base_encoder_net(nn.Module):\n",
    "    def __init__(self, nb, nu, na, ny, nx, n_nodes_per_layer=64, n_hidden_layers=2, activation=nn.Tanh):\n",
    "        super(base_encoder_net, self).__init__()\n",
    "        from deepSI.utils import simple_res_net\n",
    "        self.nu = tuple() if nu is None else ((nu,) if isinstance(nu,int) else nu)\n",
    "        self.ny = tuple() if ny is None else ((ny,) if isinstance(ny,int) else ny)\n",
    "        self.net = simple_res_net(n_in=nb*np.prod(self.nu,dtype=int) + na*np.prod(self.ny,dtype=int), \\\n",
    "            n_out=nx, n_nodes_per_layer=n_nodes_per_layer, n_hidden_layers=n_hidden_layers, activation=activation)\n",
    "\n",
    "    def forward(self, upast, ypast):\n",
    "        net_in = torch.cat([upast.view(upast.shape[0],-1),ypast.view(ypast.shape[0],-1)],axis=1)\n",
    "        return self.net(net_in)"
   ]
  },
  {
   "cell_type": "code",
   "execution_count": 9,
   "metadata": {},
   "outputs": [],
   "source": [
    "class base_state_net(nn.Module):\n",
    "    def __init__(self, nx, nu, n_nodes_per_layer=64, n_hidden_layers=2, activation=nn.Tanh):\n",
    "        super(base_state_net, self).__init__()\n",
    "        from deepSI.utils import simple_res_net\n",
    "        \n",
    "        nu = 1 if nu==None else nu\n",
    "        self.nu = nu\n",
    "        self.nx = nx\n",
    "\n",
    "        self.net = simple_res_net(n_in=self.nx+self.nu, \\\n",
    "            n_out=self.nx, n_nodes_per_layer=n_nodes_per_layer, n_hidden_layers=n_hidden_layers, activation=activation)\n",
    "\n",
    "    def forward(self, upast, ypast):\n",
    "        net_in = torch.cat([upast.view(upast.shape[0],-1),ypast.view(ypast.shape[0],-1)],axis=1)\n",
    "        return self.net(net_in)"
   ]
  },
  {
   "cell_type": "code",
   "execution_count": 10,
   "metadata": {},
   "outputs": [],
   "source": [
    "# H identity to test first run col 1\n",
    "class identity(nn.Module):\n",
    "    def __init__(self, *args, **kwargs):\n",
    "        super().__init__()\n",
    "\n",
    "    def forward(self, input):\n",
    "        return input[:,-1]\n"
   ]
  },
  {
   "cell_type": "code",
   "execution_count": 11,
   "metadata": {},
   "outputs": [],
   "source": [
    "save_dir = r\"C:\\Users\\20173928\\OneDrive - TU Eindhoven\\Documents\\Master\\thesis\\mscth\\data\"\n",
    "save_dir = os.path.join(save_dir,'SilverboxFiles')\n",
    "out = loadmat(os.path.join(save_dir,'SNLS80mV.mat'))\n",
    "\n",
    "u, y = out['V1'][0], out['V2'][0]\n",
    "\n",
    "train, test = System_data(u=u[40000:],y=y[40000:]), System_data(u=u[:40000],y=y[:40000])"
   ]
  },
  {
   "cell_type": "code",
   "execution_count": 12,
   "metadata": {},
   "outputs": [
    {
     "name": "stdout",
     "output_type": "stream",
     "text": [
      "Initilizing the model and optimizer\n",
      "Size of the training array =  148.6 MB\n",
      "N_training_samples = 64913, batch_size = 256, N_batch_updates_per_epoch = 253\n",
      "Initial Validation sim-NRMS= 1.3586744352618862\n"
     ]
    },
    {
     "name": "stderr",
     "output_type": "stream",
     "text": [
      "100%|██████████| 1/1 [00:28<00:00, 28.01s/it]"
     ]
    },
    {
     "name": "stdout",
     "output_type": "stream",
     "text": [
      "########## New lowest validation loss achieved ########### sim-NRMS = 0.3192610748319759\n",
      "Epoch    1, sqrt loss  0.6669, Val sim-NRMS 0.3193, Time Loss: 85.7%, data: 0.3%, val: 14.0%,  9.0 batches/sec\n",
      "Loaded model with best known validation sim-NRMS of 0.3193 which happened on epoch 1 (epoch_id=1.00)\n"
     ]
    },
    {
     "name": "stderr",
     "output_type": "stream",
     "text": [
      "\n"
     ]
    }
   ],
   "source": [
    "fit_sys = deepSI.fit_systems.SS_encoder_general(nx=2, na=50, nb=50, \\\n",
    "                                                e_net=base_encoder_net, e_net_kwargs=dict(n_nodes_per_layer=64, n_hidden_layers=2, activation=nn.Tanh),\\\n",
    "                                                f_net=base_state_net, f_net_kwargs=dict(n_nodes_per_layer=64, n_hidden_layers=2, activation=nn.Tanh),\\\n",
    "                                                h_net=identity)\n",
    "\n",
    "train, test = deepSI.datasets.Silverbox()\n",
    "fit_sys.fit(train, test, epochs=1, loss_kwargs=dict(nf=100))\n",
    "\n",
    "fit_sys.save_system('H_identity')"
   ]
  }
 ],
 "metadata": {
  "kernelspec": {
   "display_name": "sindy",
   "language": "python",
   "name": "python3"
  },
  "language_info": {
   "codemirror_mode": {
    "name": "ipython",
    "version": 3
   },
   "file_extension": ".py",
   "mimetype": "text/x-python",
   "name": "python",
   "nbconvert_exporter": "python",
   "pygments_lexer": "ipython3",
   "version": "3.12.1"
  }
 },
 "nbformat": 4,
 "nbformat_minor": 2
}
