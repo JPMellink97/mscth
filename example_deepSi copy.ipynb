{
 "cells": [
  {
   "cell_type": "code",
   "execution_count": 1,
   "metadata": {},
   "outputs": [
    {
     "name": "stderr",
     "output_type": "stream",
     "text": [
      "c:\\Users\\Joost\\anaconda3\\envs\\test\\Lib\\site-packages\\tqdm\\auto.py:21: TqdmWarning: IProgress not found. Please update jupyter and ipywidgets. See https://ipywidgets.readthedocs.io/en/stable/user_install.html\n",
      "  from .autonotebook import tqdm as notebook_tqdm\n"
     ]
    }
   ],
   "source": [
    "import numpy as np\n",
    "from numpy import genfromtxt\n",
    "import csv\n",
    "import os\n",
    "\n",
    "import pysindy as ps\n",
    "\n",
    "import deepSI\n",
    "from deepSI import System_data\n",
    "\n",
    "import matplotlib.pyplot as plt"
   ]
  },
  {
   "cell_type": "code",
   "execution_count": 2,
   "metadata": {},
   "outputs": [],
   "source": [
    "DATA_PATH = r\"data\\\\\"\n",
    "\n",
    "WIENER = \"WienerHammerBenchmark\"\n",
    "SILVER = \"SNLS80mV\"\n",
    "# change data set\n",
    "DATA = SILVER\n",
    "CSV = \".csv\"\n",
    "\n",
    "PATH = os.path.join(DATA_PATH, DATA+CSV)\n",
    "\n",
    "# load data\n",
    "data = genfromtxt(PATH, delimiter=\",\")"
   ]
  },
  {
   "cell_type": "code",
   "execution_count": 3,
   "metadata": {},
   "outputs": [],
   "source": [
    "# drop nan's may need to be adjusted between data sets\n",
    "mask = ~np.isnan(data)\n",
    "data = data[mask[:,0],:]\n",
    "data = data[:,:-1]"
   ]
  },
  {
   "cell_type": "code",
   "execution_count": 4,
   "metadata": {},
   "outputs": [],
   "source": [
    "import deepSI\n",
    "from deepSI import System_data\n",
    "# system_data = System_data(u=ulist,y=ylist)\n",
    "system_data = System_data(u=data[:,0],y=data[:,1])\n",
    "train, test = system_data[40000:], system_data[:40000]"
   ]
  },
  {
   "cell_type": "code",
   "execution_count": 5,
   "metadata": {},
   "outputs": [
    {
     "name": "stdout",
     "output_type": "stream",
     "text": [
      "Initilizing the model and optimizer\n",
      "Size of the training array =  166.4 MB\n",
      "N_training_samples = 72708, batch_size = 254, N_batch_updates_per_epoch = 286\n",
      "Initial Validation sim-NRMS= 2.2652820826981603\n"
     ]
    },
    {
     "name": "stderr",
     "output_type": "stream",
     "text": [
      "  1%|          | 1/100 [00:29<48:47, 29.57s/it]"
     ]
    },
    {
     "name": "stdout",
     "output_type": "stream",
     "text": [
      "########## New lowest validation loss achieved ########### sim-NRMS = 0.2094736224815189\n",
      "Epoch    1, sqrt loss  0.5145, Val sim-NRMS 0.2095, Time Loss: 91.2%, data: 0.2%, val: 8.6%,  9.7 batches/sec\n"
     ]
    },
    {
     "name": "stderr",
     "output_type": "stream",
     "text": [
      "  2%|▏         | 2/100 [00:59<48:13, 29.53s/it]"
     ]
    },
    {
     "name": "stdout",
     "output_type": "stream",
     "text": [
      "########## New lowest validation loss achieved ########### sim-NRMS = 0.11147294715492352\n",
      "Epoch    2, sqrt loss  0.1519, Val sim-NRMS 0.1115, Time Loss: 91.2%, data: 0.2%, val: 8.6%,  9.7 batches/sec\n"
     ]
    },
    {
     "name": "stderr",
     "output_type": "stream",
     "text": [
      "  3%|▎         | 3/100 [01:28<47:41, 29.50s/it]"
     ]
    },
    {
     "name": "stdout",
     "output_type": "stream",
     "text": [
      "########## New lowest validation loss achieved ########### sim-NRMS = 0.08486028677526004\n",
      "Epoch    3, sqrt loss  0.1136, Val sim-NRMS 0.08486, Time Loss: 91.2%, data: 0.2%, val: 8.6%,  9.7 batches/sec\n"
     ]
    },
    {
     "name": "stderr",
     "output_type": "stream",
     "text": [
      "  4%|▍         | 4/100 [01:57<47:04, 29.42s/it]"
     ]
    },
    {
     "name": "stdout",
     "output_type": "stream",
     "text": [
      "Epoch    4, sqrt loss 0.07804, Val sim-NRMS 0.1366, Time Loss: 91.2%, data: 0.2%, val: 8.6%,  9.7 batches/sec\n"
     ]
    },
    {
     "name": "stderr",
     "output_type": "stream",
     "text": [
      "  5%|▌         | 5/100 [02:27<46:38, 29.46s/it]"
     ]
    },
    {
     "name": "stdout",
     "output_type": "stream",
     "text": [
      "########## New lowest validation loss achieved ########### sim-NRMS = 0.06289335510085549\n",
      "Epoch    5, sqrt loss  0.1344, Val sim-NRMS 0.06289, Time Loss: 91.2%, data: 0.2%, val: 8.6%,  9.7 batches/sec\n"
     ]
    },
    {
     "name": "stderr",
     "output_type": "stream",
     "text": [
      "  6%|▌         | 6/100 [02:56<46:10, 29.47s/it]"
     ]
    },
    {
     "name": "stdout",
     "output_type": "stream",
     "text": [
      "Epoch    6, sqrt loss 0.05244, Val sim-NRMS 0.07229, Time Loss: 91.2%, data: 0.2%, val: 8.6%,  9.7 batches/sec\n"
     ]
    },
    {
     "name": "stderr",
     "output_type": "stream",
     "text": [
      "  7%|▋         | 7/100 [03:26<45:40, 29.47s/it]"
     ]
    },
    {
     "name": "stdout",
     "output_type": "stream",
     "text": [
      "Epoch    7, sqrt loss  0.1058, Val sim-NRMS 0.07643, Time Loss: 91.1%, data: 0.2%, val: 8.7%,  9.7 batches/sec\n"
     ]
    },
    {
     "name": "stderr",
     "output_type": "stream",
     "text": [
      "  8%|▊         | 8/100 [03:55<45:11, 29.48s/it]"
     ]
    },
    {
     "name": "stdout",
     "output_type": "stream",
     "text": [
      "########## New lowest validation loss achieved ########### sim-NRMS = 0.047487318216457554\n",
      "Epoch    8, sqrt loss  0.0494, Val sim-NRMS 0.04749, Time Loss: 91.2%, data: 0.2%, val: 8.7%,  9.7 batches/sec\n"
     ]
    },
    {
     "name": "stderr",
     "output_type": "stream",
     "text": [
      "  9%|▉         | 9/100 [04:25<44:46, 29.52s/it]"
     ]
    },
    {
     "name": "stdout",
     "output_type": "stream",
     "text": [
      "Epoch    9, sqrt loss 0.05252, Val sim-NRMS 0.07014, Time Loss: 91.1%, data: 0.2%, val: 8.7%,  9.7 batches/sec\n"
     ]
    },
    {
     "name": "stderr",
     "output_type": "stream",
     "text": [
      " 10%|█         | 10/100 [04:54<44:14, 29.50s/it]"
     ]
    },
    {
     "name": "stdout",
     "output_type": "stream",
     "text": [
      "Epoch   10, sqrt loss  0.1135, Val sim-NRMS 0.05082, Time Loss: 91.1%, data: 0.2%, val: 8.7%,  9.7 batches/sec\n"
     ]
    },
    {
     "name": "stderr",
     "output_type": "stream",
     "text": [
      " 11%|█         | 11/100 [05:24<43:44, 29.49s/it]"
     ]
    },
    {
     "name": "stdout",
     "output_type": "stream",
     "text": [
      "Epoch   11, sqrt loss 0.04337, Val sim-NRMS 0.04857, Time Loss: 91.2%, data: 0.2%, val: 8.7%,  9.7 batches/sec\n"
     ]
    },
    {
     "name": "stderr",
     "output_type": "stream",
     "text": [
      " 12%|█▏        | 12/100 [05:53<43:18, 29.53s/it]"
     ]
    },
    {
     "name": "stdout",
     "output_type": "stream",
     "text": [
      "########## New lowest validation loss achieved ########### sim-NRMS = 0.04593617496223762\n",
      "Epoch   12, sqrt loss 0.05631, Val sim-NRMS 0.04594, Time Loss: 91.2%, data: 0.2%, val: 8.7%,  9.7 batches/sec\n"
     ]
    },
    {
     "name": "stderr",
     "output_type": "stream",
     "text": [
      " 13%|█▎        | 13/100 [06:23<42:43, 29.46s/it]"
     ]
    },
    {
     "name": "stdout",
     "output_type": "stream",
     "text": [
      "########## New lowest validation loss achieved ########### sim-NRMS = 0.043375310813635666\n",
      "Epoch   13, sqrt loss 0.09498, Val sim-NRMS 0.04338, Time Loss: 91.2%, data: 0.2%, val: 8.7%,  9.7 batches/sec\n"
     ]
    },
    {
     "name": "stderr",
     "output_type": "stream",
     "text": [
      " 14%|█▍        | 14/100 [06:52<42:09, 29.41s/it]"
     ]
    },
    {
     "name": "stdout",
     "output_type": "stream",
     "text": [
      "Epoch   14, sqrt loss 0.04431, Val sim-NRMS 0.04469, Time Loss: 91.2%, data: 0.2%, val: 8.7%,  9.7 batches/sec\n"
     ]
    },
    {
     "name": "stderr",
     "output_type": "stream",
     "text": [
      " 15%|█▌        | 15/100 [07:21<41:37, 29.38s/it]"
     ]
    },
    {
     "name": "stdout",
     "output_type": "stream",
     "text": [
      "########## New lowest validation loss achieved ########### sim-NRMS = 0.04102345026039412\n",
      "Epoch   15, sqrt loss 0.05394, Val sim-NRMS 0.04102, Time Loss: 91.2%, data: 0.2%, val: 8.7%,  9.7 batches/sec\n"
     ]
    },
    {
     "name": "stderr",
     "output_type": "stream",
     "text": [
      " 16%|█▌        | 16/100 [07:51<41:09, 29.40s/it]"
     ]
    },
    {
     "name": "stdout",
     "output_type": "stream",
     "text": [
      "Epoch   16, sqrt loss 0.07678, Val sim-NRMS 0.04695, Time Loss: 91.2%, data: 0.2%, val: 8.7%,  9.7 batches/sec\n"
     ]
    },
    {
     "name": "stderr",
     "output_type": "stream",
     "text": [
      " 17%|█▋        | 17/100 [08:20<40:42, 29.42s/it]"
     ]
    },
    {
     "name": "stdout",
     "output_type": "stream",
     "text": [
      "########## New lowest validation loss achieved ########### sim-NRMS = 0.03882217972050978\n",
      "Epoch   17, sqrt loss 0.04179, Val sim-NRMS 0.03882, Time Loss: 91.2%, data: 0.2%, val: 8.7%,  9.7 batches/sec\n"
     ]
    },
    {
     "name": "stderr",
     "output_type": "stream",
     "text": [
      " 18%|█▊        | 18/100 [08:50<40:13, 29.43s/it]"
     ]
    },
    {
     "name": "stdout",
     "output_type": "stream",
     "text": [
      "Epoch   18, sqrt loss 0.08822, Val sim-NRMS 0.04082, Time Loss: 91.2%, data: 0.2%, val: 8.7%,  9.7 batches/sec\n"
     ]
    },
    {
     "name": "stderr",
     "output_type": "stream",
     "text": [
      " 19%|█▉        | 19/100 [09:19<39:44, 29.44s/it]"
     ]
    },
    {
     "name": "stdout",
     "output_type": "stream",
     "text": [
      "Epoch   19, sqrt loss 0.03674, Val sim-NRMS 0.05184, Time Loss: 91.2%, data: 0.2%, val: 8.7%,  9.7 batches/sec\n"
     ]
    },
    {
     "name": "stderr",
     "output_type": "stream",
     "text": [
      " 20%|██        | 20/100 [09:49<39:14, 29.44s/it]"
     ]
    },
    {
     "name": "stdout",
     "output_type": "stream",
     "text": [
      "Epoch   20, sqrt loss 0.04661, Val sim-NRMS 0.08721, Time Loss: 91.2%, data: 0.2%, val: 8.7%,  9.7 batches/sec\n"
     ]
    },
    {
     "name": "stderr",
     "output_type": "stream",
     "text": [
      " 21%|██        | 21/100 [10:18<38:46, 29.45s/it]"
     ]
    },
    {
     "name": "stdout",
     "output_type": "stream",
     "text": [
      "########## New lowest validation loss achieved ########### sim-NRMS = 0.037511862137137\n",
      "Epoch   21, sqrt loss  0.1117, Val sim-NRMS 0.03751, Time Loss: 91.2%, data: 0.2%, val: 8.7%,  9.7 batches/sec\n"
     ]
    },
    {
     "name": "stderr",
     "output_type": "stream",
     "text": [
      " 22%|██▏       | 22/100 [10:48<38:19, 29.47s/it]"
     ]
    },
    {
     "name": "stdout",
     "output_type": "stream",
     "text": [
      "Epoch   22, sqrt loss 0.03595, Val sim-NRMS 0.03997, Time Loss: 91.2%, data: 0.2%, val: 8.7%,  9.7 batches/sec\n"
     ]
    },
    {
     "name": "stderr",
     "output_type": "stream",
     "text": [
      " 23%|██▎       | 23/100 [11:17<37:48, 29.46s/it]"
     ]
    },
    {
     "name": "stdout",
     "output_type": "stream",
     "text": [
      "########## New lowest validation loss achieved ########### sim-NRMS = 0.037267293887276266\n",
      "Epoch   23, sqrt loss 0.06333, Val sim-NRMS 0.03727, Time Loss: 91.2%, data: 0.2%, val: 8.7%,  9.7 batches/sec\n"
     ]
    },
    {
     "name": "stderr",
     "output_type": "stream",
     "text": [
      " 24%|██▍       | 24/100 [11:47<37:19, 29.47s/it]"
     ]
    },
    {
     "name": "stdout",
     "output_type": "stream",
     "text": [
      "########## New lowest validation loss achieved ########### sim-NRMS = 0.03413133402292425\n",
      "Epoch   24, sqrt loss  0.0381, Val sim-NRMS 0.03413, Time Loss: 91.2%, data: 0.2%, val: 8.6%,  9.7 batches/sec\n"
     ]
    },
    {
     "name": "stderr",
     "output_type": "stream",
     "text": [
      " 25%|██▌       | 25/100 [12:16<36:45, 29.40s/it]"
     ]
    },
    {
     "name": "stdout",
     "output_type": "stream",
     "text": [
      "Epoch   25, sqrt loss 0.05209, Val sim-NRMS 0.09773, Time Loss: 91.2%, data: 0.2%, val: 8.6%,  9.7 batches/sec\n"
     ]
    },
    {
     "name": "stderr",
     "output_type": "stream",
     "text": [
      " 26%|██▌       | 26/100 [12:45<36:21, 29.48s/it]"
     ]
    },
    {
     "name": "stdout",
     "output_type": "stream",
     "text": [
      "Epoch   26, sqrt loss  0.1284, Val sim-NRMS 0.03595, Time Loss: 91.2%, data: 0.2%, val: 8.6%,  9.7 batches/sec\n"
     ]
    },
    {
     "name": "stderr",
     "output_type": "stream",
     "text": [
      " 27%|██▋       | 27/100 [13:15<35:48, 29.43s/it]"
     ]
    },
    {
     "name": "stdout",
     "output_type": "stream",
     "text": [
      "Epoch   27, sqrt loss 0.03251, Val sim-NRMS 0.03525, Time Loss: 91.2%, data: 0.2%, val: 8.6%,  9.7 batches/sec\n"
     ]
    },
    {
     "name": "stderr",
     "output_type": "stream",
     "text": [
      " 28%|██▊       | 28/100 [13:44<35:20, 29.46s/it]"
     ]
    },
    {
     "name": "stdout",
     "output_type": "stream",
     "text": [
      "Epoch   28, sqrt loss 0.04318, Val sim-NRMS 0.03981, Time Loss: 91.2%, data: 0.2%, val: 8.7%,  9.7 batches/sec\n"
     ]
    },
    {
     "name": "stderr",
     "output_type": "stream",
     "text": [
      " 29%|██▉       | 29/100 [14:14<34:50, 29.44s/it]"
     ]
    },
    {
     "name": "stdout",
     "output_type": "stream",
     "text": [
      "########## New lowest validation loss achieved ########### sim-NRMS = 0.03342076580695676\n",
      "Epoch   29, sqrt loss 0.04708, Val sim-NRMS 0.03342, Time Loss: 91.2%, data: 0.2%, val: 8.7%,  9.7 batches/sec\n"
     ]
    },
    {
     "name": "stderr",
     "output_type": "stream",
     "text": [
      " 30%|███       | 30/100 [14:43<34:18, 29.40s/it]"
     ]
    },
    {
     "name": "stdout",
     "output_type": "stream",
     "text": [
      "Epoch   30, sqrt loss 0.05942, Val sim-NRMS 0.03359, Time Loss: 91.2%, data: 0.2%, val: 8.7%,  9.7 batches/sec\n"
     ]
    },
    {
     "name": "stderr",
     "output_type": "stream",
     "text": [
      " 31%|███       | 31/100 [15:12<33:47, 29.39s/it]"
     ]
    },
    {
     "name": "stdout",
     "output_type": "stream",
     "text": [
      "Epoch   31, sqrt loss 0.04212, Val sim-NRMS 0.05398, Time Loss: 91.2%, data: 0.2%, val: 8.7%,  9.7 batches/sec\n"
     ]
    },
    {
     "name": "stderr",
     "output_type": "stream",
     "text": [
      " 32%|███▏      | 32/100 [15:42<33:21, 29.43s/it]"
     ]
    },
    {
     "name": "stdout",
     "output_type": "stream",
     "text": [
      "Epoch   32, sqrt loss 0.04174, Val sim-NRMS 0.03698, Time Loss: 91.2%, data: 0.2%, val: 8.7%,  9.7 batches/sec\n"
     ]
    },
    {
     "name": "stderr",
     "output_type": "stream",
     "text": [
      " 33%|███▎      | 33/100 [16:11<32:48, 29.38s/it]"
     ]
    },
    {
     "name": "stdout",
     "output_type": "stream",
     "text": [
      "########## New lowest validation loss achieved ########### sim-NRMS = 0.033282363936509386\n",
      "Epoch   33, sqrt loss 0.04639, Val sim-NRMS 0.03328, Time Loss: 91.2%, data: 0.2%, val: 8.7%,  9.7 batches/sec\n"
     ]
    },
    {
     "name": "stderr",
     "output_type": "stream",
     "text": [
      " 34%|███▍      | 34/100 [16:40<32:11, 29.27s/it]"
     ]
    },
    {
     "name": "stdout",
     "output_type": "stream",
     "text": [
      "Epoch   34, sqrt loss  0.0456, Val sim-NRMS 0.0369, Time Loss: 91.2%, data: 0.2%, val: 8.7%,  9.7 batches/sec\n"
     ]
    },
    {
     "name": "stderr",
     "output_type": "stream",
     "text": [
      " 35%|███▌      | 35/100 [17:10<31:45, 29.31s/it]"
     ]
    },
    {
     "name": "stdout",
     "output_type": "stream",
     "text": [
      "########## New lowest validation loss achieved ########### sim-NRMS = 0.03310542767756976\n",
      "Epoch   35, sqrt loss 0.08042, Val sim-NRMS 0.03311, Time Loss: 91.2%, data: 0.2%, val: 8.7%,  9.7 batches/sec\n"
     ]
    },
    {
     "name": "stderr",
     "output_type": "stream",
     "text": [
      " 36%|███▌      | 36/100 [17:39<31:15, 29.30s/it]"
     ]
    },
    {
     "name": "stdout",
     "output_type": "stream",
     "text": [
      "Epoch   36, sqrt loss 0.04374, Val sim-NRMS 0.03471, Time Loss: 91.2%, data: 0.2%, val: 8.7%,  9.7 batches/sec\n"
     ]
    },
    {
     "name": "stderr",
     "output_type": "stream",
     "text": [
      " 37%|███▋      | 37/100 [18:08<30:44, 29.28s/it]"
     ]
    },
    {
     "name": "stdout",
     "output_type": "stream",
     "text": [
      "Epoch   37, sqrt loss 0.06828, Val sim-NRMS  0.147, Time Loss: 91.2%, data: 0.2%, val: 8.7%,  9.7 batches/sec\n"
     ]
    },
    {
     "name": "stderr",
     "output_type": "stream",
     "text": [
      " 38%|███▊      | 38/100 [18:37<30:15, 29.29s/it]"
     ]
    },
    {
     "name": "stdout",
     "output_type": "stream",
     "text": [
      "Epoch   38, sqrt loss 0.05557, Val sim-NRMS 0.03469, Time Loss: 91.2%, data: 0.2%, val: 8.7%,  9.7 batches/sec\n"
     ]
    },
    {
     "name": "stderr",
     "output_type": "stream",
     "text": [
      " 39%|███▉      | 39/100 [19:07<29:49, 29.33s/it]"
     ]
    },
    {
     "name": "stdout",
     "output_type": "stream",
     "text": [
      "Epoch   39, sqrt loss 0.03261, Val sim-NRMS 0.03482, Time Loss: 91.2%, data: 0.2%, val: 8.7%,  9.7 batches/sec\n"
     ]
    },
    {
     "name": "stderr",
     "output_type": "stream",
     "text": [
      " 40%|████      | 40/100 [19:36<29:22, 29.37s/it]"
     ]
    },
    {
     "name": "stdout",
     "output_type": "stream",
     "text": [
      "Epoch   40, sqrt loss 0.04125, Val sim-NRMS 0.04001, Time Loss: 91.2%, data: 0.2%, val: 8.7%,  9.7 batches/sec\n"
     ]
    },
    {
     "name": "stderr",
     "output_type": "stream",
     "text": [
      " 41%|████      | 41/100 [20:06<28:56, 29.44s/it]"
     ]
    },
    {
     "name": "stdout",
     "output_type": "stream",
     "text": [
      "Epoch   41, sqrt loss 0.08103, Val sim-NRMS 0.0349, Time Loss: 91.2%, data: 0.2%, val: 8.7%,  9.7 batches/sec\n"
     ]
    },
    {
     "name": "stderr",
     "output_type": "stream",
     "text": [
      " 42%|████▏     | 42/100 [20:35<28:27, 29.44s/it]"
     ]
    },
    {
     "name": "stdout",
     "output_type": "stream",
     "text": [
      "Epoch   42, sqrt loss 0.03217, Val sim-NRMS 0.03316, Time Loss: 91.2%, data: 0.2%, val: 8.7%,  9.7 batches/sec\n"
     ]
    },
    {
     "name": "stderr",
     "output_type": "stream",
     "text": [
      " 43%|████▎     | 43/100 [21:05<27:56, 29.42s/it]"
     ]
    },
    {
     "name": "stdout",
     "output_type": "stream",
     "text": [
      "Epoch   43, sqrt loss 0.06403, Val sim-NRMS 0.03816, Time Loss: 91.2%, data: 0.2%, val: 8.7%,  9.7 batches/sec\n"
     ]
    },
    {
     "name": "stderr",
     "output_type": "stream",
     "text": [
      " 44%|████▍     | 44/100 [21:34<27:29, 29.45s/it]"
     ]
    },
    {
     "name": "stdout",
     "output_type": "stream",
     "text": [
      "########## New lowest validation loss achieved ########### sim-NRMS = 0.02998315699712181\n",
      "Epoch   44, sqrt loss 0.02964, Val sim-NRMS 0.02998, Time Loss: 91.1%, data: 0.2%, val: 8.7%,  9.7 batches/sec\n"
     ]
    },
    {
     "name": "stderr",
     "output_type": "stream",
     "text": [
      " 45%|████▌     | 45/100 [22:03<26:55, 29.38s/it]"
     ]
    },
    {
     "name": "stdout",
     "output_type": "stream",
     "text": [
      "Epoch   45, sqrt loss  0.0325, Val sim-NRMS 0.0334, Time Loss: 91.1%, data: 0.2%, val: 8.7%,  9.7 batches/sec\n"
     ]
    },
    {
     "name": "stderr",
     "output_type": "stream",
     "text": [
      " 46%|████▌     | 46/100 [22:33<26:29, 29.43s/it]"
     ]
    },
    {
     "name": "stdout",
     "output_type": "stream",
     "text": [
      "Epoch   46, sqrt loss 0.04185, Val sim-NRMS 0.03418, Time Loss: 91.2%, data: 0.2%, val: 8.7%,  9.7 batches/sec\n"
     ]
    },
    {
     "name": "stderr",
     "output_type": "stream",
     "text": [
      " 47%|████▋     | 47/100 [23:02<26:00, 29.44s/it]"
     ]
    },
    {
     "name": "stdout",
     "output_type": "stream",
     "text": [
      "Epoch   47, sqrt loss 0.04155, Val sim-NRMS 0.03227, Time Loss: 91.1%, data: 0.2%, val: 8.7%,  9.7 batches/sec\n"
     ]
    },
    {
     "name": "stderr",
     "output_type": "stream",
     "text": [
      " 48%|████▊     | 48/100 [23:32<25:27, 29.37s/it]"
     ]
    },
    {
     "name": "stdout",
     "output_type": "stream",
     "text": [
      "Epoch   48, sqrt loss  0.0925, Val sim-NRMS 0.03096, Time Loss: 91.1%, data: 0.2%, val: 8.7%,  9.7 batches/sec\n"
     ]
    },
    {
     "name": "stderr",
     "output_type": "stream",
     "text": [
      " 49%|████▉     | 49/100 [24:01<24:59, 29.40s/it]"
     ]
    },
    {
     "name": "stdout",
     "output_type": "stream",
     "text": [
      "Epoch   49, sqrt loss 0.03075, Val sim-NRMS 0.03568, Time Loss: 91.1%, data: 0.2%, val: 8.7%,  9.7 batches/sec\n"
     ]
    },
    {
     "name": "stderr",
     "output_type": "stream",
     "text": [
      " 50%|█████     | 50/100 [24:30<24:24, 29.28s/it]"
     ]
    },
    {
     "name": "stdout",
     "output_type": "stream",
     "text": [
      "Epoch   50, sqrt loss 0.03555, Val sim-NRMS 0.03119, Time Loss: 91.1%, data: 0.2%, val: 8.7%,  9.7 batches/sec\n"
     ]
    },
    {
     "name": "stderr",
     "output_type": "stream",
     "text": [
      " 51%|█████     | 51/100 [24:59<23:53, 29.26s/it]"
     ]
    },
    {
     "name": "stdout",
     "output_type": "stream",
     "text": [
      "Epoch   51, sqrt loss 0.03761, Val sim-NRMS 0.0308, Time Loss: 91.1%, data: 0.2%, val: 8.7%,  9.7 batches/sec\n"
     ]
    },
    {
     "name": "stderr",
     "output_type": "stream",
     "text": [
      " 52%|█████▏    | 52/100 [25:29<23:25, 29.28s/it]"
     ]
    },
    {
     "name": "stdout",
     "output_type": "stream",
     "text": [
      "Epoch   52, sqrt loss 0.04309, Val sim-NRMS 0.04655, Time Loss: 91.1%, data: 0.2%, val: 8.7%,  9.7 batches/sec\n"
     ]
    },
    {
     "name": "stderr",
     "output_type": "stream",
     "text": [
      " 53%|█████▎    | 53/100 [25:58<22:55, 29.27s/it]"
     ]
    },
    {
     "name": "stdout",
     "output_type": "stream",
     "text": [
      "Epoch   53, sqrt loss 0.03536, Val sim-NRMS 0.05014, Time Loss: 91.1%, data: 0.2%, val: 8.7%,  9.7 batches/sec\n"
     ]
    },
    {
     "name": "stderr",
     "output_type": "stream",
     "text": [
      " 54%|█████▍    | 54/100 [26:27<22:27, 29.29s/it]"
     ]
    },
    {
     "name": "stdout",
     "output_type": "stream",
     "text": [
      "########## New lowest validation loss achieved ########### sim-NRMS = 0.029789634422791415\n",
      "Epoch   54, sqrt loss 0.03865, Val sim-NRMS 0.02979, Time Loss: 91.1%, data: 0.2%, val: 8.7%,  9.7 batches/sec\n"
     ]
    },
    {
     "name": "stderr",
     "output_type": "stream",
     "text": [
      " 55%|█████▌    | 55/100 [26:57<21:58, 29.30s/it]"
     ]
    },
    {
     "name": "stdout",
     "output_type": "stream",
     "text": [
      "Epoch   55, sqrt loss 0.04316, Val sim-NRMS 0.03939, Time Loss: 91.2%, data: 0.2%, val: 8.7%,  9.7 batches/sec\n"
     ]
    },
    {
     "name": "stderr",
     "output_type": "stream",
     "text": [
      " 56%|█████▌    | 56/100 [27:26<21:29, 29.30s/it]"
     ]
    },
    {
     "name": "stdout",
     "output_type": "stream",
     "text": [
      "Epoch   56, sqrt loss 0.04651, Val sim-NRMS 0.04119, Time Loss: 91.1%, data: 0.2%, val: 8.7%,  9.7 batches/sec\n"
     ]
    },
    {
     "name": "stderr",
     "output_type": "stream",
     "text": [
      " 57%|█████▋    | 57/100 [27:55<20:59, 29.30s/it]"
     ]
    },
    {
     "name": "stdout",
     "output_type": "stream",
     "text": [
      "Epoch   57, sqrt loss  0.5439, Val sim-NRMS 0.5283, Time Loss: 91.1%, data: 0.2%, val: 8.7%,  9.7 batches/sec\n"
     ]
    },
    {
     "name": "stderr",
     "output_type": "stream",
     "text": [
      " 58%|█████▊    | 58/100 [28:25<20:32, 29.34s/it]"
     ]
    },
    {
     "name": "stdout",
     "output_type": "stream",
     "text": [
      "Epoch   58, sqrt loss  0.1049, Val sim-NRMS 0.05999, Time Loss: 91.1%, data: 0.2%, val: 8.7%,  9.7 batches/sec\n"
     ]
    },
    {
     "name": "stderr",
     "output_type": "stream",
     "text": [
      " 59%|█████▉    | 59/100 [28:54<20:05, 29.39s/it]"
     ]
    },
    {
     "name": "stdout",
     "output_type": "stream",
     "text": [
      "Epoch   59, sqrt loss 0.04656, Val sim-NRMS 0.04242, Time Loss: 91.2%, data: 0.2%, val: 8.7%,  9.7 batches/sec\n"
     ]
    },
    {
     "name": "stderr",
     "output_type": "stream",
     "text": [
      " 60%|██████    | 60/100 [29:23<19:32, 29.32s/it]"
     ]
    },
    {
     "name": "stdout",
     "output_type": "stream",
     "text": [
      "########## New lowest validation loss achieved ########### sim-NRMS = 0.029433986064075827\n",
      "Epoch   60, sqrt loss 0.04063, Val sim-NRMS 0.02943, Time Loss: 91.1%, data: 0.2%, val: 8.7%,  9.7 batches/sec\n"
     ]
    },
    {
     "name": "stderr",
     "output_type": "stream",
     "text": [
      " 61%|██████    | 61/100 [29:53<19:02, 29.28s/it]"
     ]
    },
    {
     "name": "stdout",
     "output_type": "stream",
     "text": [
      "Epoch   61, sqrt loss  0.0682, Val sim-NRMS 0.03221, Time Loss: 91.1%, data: 0.2%, val: 8.7%,  9.7 batches/sec\n"
     ]
    },
    {
     "name": "stderr",
     "output_type": "stream",
     "text": [
      " 62%|██████▏   | 62/100 [30:22<18:31, 29.24s/it]"
     ]
    },
    {
     "name": "stdout",
     "output_type": "stream",
     "text": [
      "########## New lowest validation loss achieved ########### sim-NRMS = 0.028952005019360905\n",
      "Epoch   62, sqrt loss 0.02783, Val sim-NRMS 0.02895, Time Loss: 91.1%, data: 0.2%, val: 8.7%,  9.7 batches/sec\n"
     ]
    },
    {
     "name": "stderr",
     "output_type": "stream",
     "text": [
      " 63%|██████▎   | 63/100 [30:51<18:05, 29.33s/it]"
     ]
    },
    {
     "name": "stdout",
     "output_type": "stream",
     "text": [
      "Epoch   63, sqrt loss 0.02946, Val sim-NRMS 0.03718, Time Loss: 91.1%, data: 0.2%, val: 8.7%,  9.7 batches/sec\n"
     ]
    },
    {
     "name": "stderr",
     "output_type": "stream",
     "text": [
      " 64%|██████▍   | 64/100 [31:20<17:32, 29.24s/it]"
     ]
    },
    {
     "name": "stdout",
     "output_type": "stream",
     "text": [
      "Epoch   64, sqrt loss 0.03758, Val sim-NRMS 0.06482, Time Loss: 91.1%, data: 0.2%, val: 8.7%,  9.7 batches/sec\n"
     ]
    },
    {
     "name": "stderr",
     "output_type": "stream",
     "text": [
      " 65%|██████▌   | 65/100 [31:49<17:03, 29.23s/it]"
     ]
    },
    {
     "name": "stdout",
     "output_type": "stream",
     "text": [
      "Epoch   65, sqrt loss 0.04131, Val sim-NRMS 0.0347, Time Loss: 91.1%, data: 0.2%, val: 8.7%,  9.7 batches/sec\n"
     ]
    },
    {
     "name": "stderr",
     "output_type": "stream",
     "text": [
      " 66%|██████▌   | 66/100 [32:19<16:37, 29.33s/it]"
     ]
    },
    {
     "name": "stdout",
     "output_type": "stream",
     "text": [
      "Epoch   66, sqrt loss 0.03925, Val sim-NRMS 0.05368, Time Loss: 91.1%, data: 0.2%, val: 8.7%,  9.7 batches/sec\n"
     ]
    },
    {
     "name": "stderr",
     "output_type": "stream",
     "text": [
      " 67%|██████▋   | 67/100 [32:49<16:10, 29.42s/it]"
     ]
    },
    {
     "name": "stdout",
     "output_type": "stream",
     "text": [
      "Epoch   67, sqrt loss 0.03996, Val sim-NRMS 0.03814, Time Loss: 91.1%, data: 0.2%, val: 8.7%,  9.7 batches/sec\n"
     ]
    },
    {
     "name": "stderr",
     "output_type": "stream",
     "text": [
      " 68%|██████▊   | 68/100 [33:18<15:40, 29.39s/it]"
     ]
    },
    {
     "name": "stdout",
     "output_type": "stream",
     "text": [
      "Epoch   68, sqrt loss 0.03941, Val sim-NRMS 0.05426, Time Loss: 91.1%, data: 0.2%, val: 8.7%,  9.7 batches/sec\n"
     ]
    },
    {
     "name": "stderr",
     "output_type": "stream",
     "text": [
      " 69%|██████▉   | 69/100 [33:47<15:09, 29.35s/it]"
     ]
    },
    {
     "name": "stdout",
     "output_type": "stream",
     "text": [
      "Epoch   69, sqrt loss 0.09701, Val sim-NRMS 0.07818, Time Loss: 91.1%, data: 0.2%, val: 8.7%,  9.7 batches/sec\n"
     ]
    },
    {
     "name": "stderr",
     "output_type": "stream",
     "text": [
      " 70%|███████   | 70/100 [34:16<14:37, 29.25s/it]"
     ]
    },
    {
     "name": "stdout",
     "output_type": "stream",
     "text": [
      "Epoch   70, sqrt loss 0.03252, Val sim-NRMS 0.03065, Time Loss: 91.1%, data: 0.2%, val: 8.7%,  9.7 batches/sec\n"
     ]
    },
    {
     "name": "stderr",
     "output_type": "stream",
     "text": [
      " 71%|███████   | 71/100 [34:46<14:09, 29.29s/it]"
     ]
    },
    {
     "name": "stdout",
     "output_type": "stream",
     "text": [
      "Epoch   71, sqrt loss  0.0284, Val sim-NRMS 0.03024, Time Loss: 91.1%, data: 0.2%, val: 8.7%,  9.7 batches/sec\n"
     ]
    },
    {
     "name": "stderr",
     "output_type": "stream",
     "text": [
      " 72%|███████▏  | 72/100 [35:15<13:40, 29.30s/it]"
     ]
    },
    {
     "name": "stdout",
     "output_type": "stream",
     "text": [
      "Epoch   72, sqrt loss 0.03857, Val sim-NRMS 0.03109, Time Loss: 91.1%, data: 0.2%, val: 8.7%,  9.7 batches/sec\n"
     ]
    },
    {
     "name": "stderr",
     "output_type": "stream",
     "text": [
      " 73%|███████▎  | 73/100 [35:44<13:11, 29.30s/it]"
     ]
    },
    {
     "name": "stdout",
     "output_type": "stream",
     "text": [
      "Epoch   73, sqrt loss   0.045, Val sim-NRMS 0.04062, Time Loss: 91.1%, data: 0.2%, val: 8.7%,  9.7 batches/sec\n"
     ]
    },
    {
     "name": "stderr",
     "output_type": "stream",
     "text": [
      " 74%|███████▍  | 74/100 [36:13<12:41, 29.29s/it]"
     ]
    },
    {
     "name": "stdout",
     "output_type": "stream",
     "text": [
      "Epoch   74, sqrt loss 0.02894, Val sim-NRMS 0.04378, Time Loss: 91.1%, data: 0.2%, val: 8.7%,  9.7 batches/sec\n"
     ]
    },
    {
     "name": "stderr",
     "output_type": "stream",
     "text": [
      " 75%|███████▌  | 75/100 [36:43<12:11, 29.26s/it]"
     ]
    },
    {
     "name": "stdout",
     "output_type": "stream",
     "text": [
      "Epoch   75, sqrt loss 0.03866, Val sim-NRMS 0.03319, Time Loss: 91.1%, data: 0.2%, val: 8.7%,  9.7 batches/sec\n"
     ]
    },
    {
     "name": "stderr",
     "output_type": "stream",
     "text": [
      " 76%|███████▌  | 76/100 [37:12<11:41, 29.23s/it]"
     ]
    },
    {
     "name": "stdout",
     "output_type": "stream",
     "text": [
      "Epoch   76, sqrt loss  0.0395, Val sim-NRMS 0.0763, Time Loss: 91.1%, data: 0.2%, val: 8.7%,  9.7 batches/sec\n"
     ]
    },
    {
     "name": "stderr",
     "output_type": "stream",
     "text": [
      " 77%|███████▋  | 77/100 [37:41<11:13, 29.28s/it]"
     ]
    },
    {
     "name": "stdout",
     "output_type": "stream",
     "text": [
      "Epoch   77, sqrt loss 0.03848, Val sim-NRMS 0.0365, Time Loss: 91.1%, data: 0.2%, val: 8.7%,  9.7 batches/sec\n"
     ]
    },
    {
     "name": "stderr",
     "output_type": "stream",
     "text": [
      " 78%|███████▊  | 78/100 [38:11<10:45, 29.33s/it]"
     ]
    },
    {
     "name": "stdout",
     "output_type": "stream",
     "text": [
      "Epoch   78, sqrt loss 0.04001, Val sim-NRMS 0.03203, Time Loss: 91.1%, data: 0.2%, val: 8.7%,  9.7 batches/sec\n"
     ]
    },
    {
     "name": "stderr",
     "output_type": "stream",
     "text": [
      " 79%|███████▉  | 79/100 [38:40<10:15, 29.32s/it]"
     ]
    },
    {
     "name": "stdout",
     "output_type": "stream",
     "text": [
      "Epoch   79, sqrt loss 0.03618, Val sim-NRMS 0.03287, Time Loss: 91.1%, data: 0.2%, val: 8.7%,  9.7 batches/sec\n"
     ]
    },
    {
     "name": "stderr",
     "output_type": "stream",
     "text": [
      " 80%|████████  | 80/100 [39:09<09:45, 29.29s/it]"
     ]
    },
    {
     "name": "stdout",
     "output_type": "stream",
     "text": [
      "Epoch   80, sqrt loss 0.03896, Val sim-NRMS 0.03032, Time Loss: 91.1%, data: 0.2%, val: 8.7%,  9.7 batches/sec\n"
     ]
    },
    {
     "name": "stderr",
     "output_type": "stream",
     "text": [
      " 81%|████████  | 81/100 [39:39<09:16, 29.30s/it]"
     ]
    },
    {
     "name": "stdout",
     "output_type": "stream",
     "text": [
      "Epoch   81, sqrt loss 0.04083, Val sim-NRMS 0.03687, Time Loss: 91.1%, data: 0.2%, val: 8.7%,  9.7 batches/sec\n"
     ]
    },
    {
     "name": "stderr",
     "output_type": "stream",
     "text": [
      " 82%|████████▏ | 82/100 [40:08<08:46, 29.27s/it]"
     ]
    },
    {
     "name": "stdout",
     "output_type": "stream",
     "text": [
      "########## New lowest validation loss achieved ########### sim-NRMS = 0.02729081329853986\n",
      "Epoch   82, sqrt loss 0.03703, Val sim-NRMS 0.02729, Time Loss: 91.1%, data: 0.2%, val: 8.7%,  9.7 batches/sec\n"
     ]
    },
    {
     "name": "stderr",
     "output_type": "stream",
     "text": [
      " 83%|████████▎ | 83/100 [40:37<08:17, 29.26s/it]"
     ]
    },
    {
     "name": "stdout",
     "output_type": "stream",
     "text": [
      "Epoch   83, sqrt loss 0.03478, Val sim-NRMS 0.0493, Time Loss: 91.1%, data: 0.2%, val: 8.7%,  9.7 batches/sec\n"
     ]
    },
    {
     "name": "stderr",
     "output_type": "stream",
     "text": [
      " 84%|████████▍ | 84/100 [41:06<07:48, 29.28s/it]"
     ]
    },
    {
     "name": "stdout",
     "output_type": "stream",
     "text": [
      "Epoch   84, sqrt loss 0.03871, Val sim-NRMS 0.0411, Time Loss: 91.1%, data: 0.2%, val: 8.7%,  9.7 batches/sec\n"
     ]
    },
    {
     "name": "stderr",
     "output_type": "stream",
     "text": [
      " 85%|████████▌ | 85/100 [41:35<07:18, 29.25s/it]"
     ]
    },
    {
     "name": "stdout",
     "output_type": "stream",
     "text": [
      "Epoch   85, sqrt loss  0.0563, Val sim-NRMS 0.03794, Time Loss: 91.1%, data: 0.2%, val: 8.7%,  9.7 batches/sec\n"
     ]
    },
    {
     "name": "stderr",
     "output_type": "stream",
     "text": [
      " 86%|████████▌ | 86/100 [42:05<06:49, 29.24s/it]"
     ]
    },
    {
     "name": "stdout",
     "output_type": "stream",
     "text": [
      "Epoch   86, sqrt loss 0.02633, Val sim-NRMS 0.02795, Time Loss: 91.1%, data: 0.2%, val: 8.7%,  9.7 batches/sec\n"
     ]
    },
    {
     "name": "stderr",
     "output_type": "stream",
     "text": [
      " 87%|████████▋ | 87/100 [42:34<06:20, 29.28s/it]"
     ]
    },
    {
     "name": "stdout",
     "output_type": "stream",
     "text": [
      "Epoch   87, sqrt loss 0.03347, Val sim-NRMS 0.02778, Time Loss: 91.1%, data: 0.2%, val: 8.7%,  9.7 batches/sec\n"
     ]
    },
    {
     "name": "stderr",
     "output_type": "stream",
     "text": [
      " 88%|████████▊ | 88/100 [43:03<05:51, 29.28s/it]"
     ]
    },
    {
     "name": "stdout",
     "output_type": "stream",
     "text": [
      "########## New lowest validation loss achieved ########### sim-NRMS = 0.027173925227229383\n",
      "Epoch   88, sqrt loss 0.03702, Val sim-NRMS 0.02717, Time Loss: 91.1%, data: 0.2%, val: 8.7%,  9.7 batches/sec\n"
     ]
    },
    {
     "name": "stderr",
     "output_type": "stream",
     "text": [
      " 89%|████████▉ | 89/100 [43:33<05:22, 29.30s/it]"
     ]
    },
    {
     "name": "stdout",
     "output_type": "stream",
     "text": [
      "Epoch   89, sqrt loss 0.03619, Val sim-NRMS 0.03402, Time Loss: 91.1%, data: 0.2%, val: 8.7%,  9.7 batches/sec\n"
     ]
    },
    {
     "name": "stderr",
     "output_type": "stream",
     "text": [
      " 90%|█████████ | 90/100 [44:02<04:53, 29.33s/it]"
     ]
    },
    {
     "name": "stdout",
     "output_type": "stream",
     "text": [
      "Epoch   90, sqrt loss 0.03363, Val sim-NRMS 0.06509, Time Loss: 91.1%, data: 0.2%, val: 8.7%,  9.7 batches/sec\n"
     ]
    },
    {
     "name": "stderr",
     "output_type": "stream",
     "text": [
      " 91%|█████████ | 91/100 [44:31<04:23, 29.32s/it]"
     ]
    },
    {
     "name": "stdout",
     "output_type": "stream",
     "text": [
      "Epoch   91, sqrt loss 0.03626, Val sim-NRMS 0.07032, Time Loss: 91.1%, data: 0.2%, val: 8.7%,  9.7 batches/sec\n"
     ]
    },
    {
     "name": "stderr",
     "output_type": "stream",
     "text": [
      " 92%|█████████▏| 92/100 [45:01<03:54, 29.28s/it]"
     ]
    },
    {
     "name": "stdout",
     "output_type": "stream",
     "text": [
      "########## New lowest validation loss achieved ########### sim-NRMS = 0.02559138403376415\n",
      "Epoch   92, sqrt loss 0.03874, Val sim-NRMS 0.02559, Time Loss: 91.1%, data: 0.2%, val: 8.7%,  9.7 batches/sec\n"
     ]
    },
    {
     "name": "stderr",
     "output_type": "stream",
     "text": [
      " 93%|█████████▎| 93/100 [45:30<03:24, 29.28s/it]"
     ]
    },
    {
     "name": "stdout",
     "output_type": "stream",
     "text": [
      "Epoch   93, sqrt loss  0.1662, Val sim-NRMS 0.0316, Time Loss: 91.1%, data: 0.2%, val: 8.7%,  9.7 batches/sec\n"
     ]
    },
    {
     "name": "stderr",
     "output_type": "stream",
     "text": [
      " 94%|█████████▍| 94/100 [45:59<02:55, 29.29s/it]"
     ]
    },
    {
     "name": "stdout",
     "output_type": "stream",
     "text": [
      "Epoch   94, sqrt loss 0.02712, Val sim-NRMS 0.03092, Time Loss: 91.1%, data: 0.2%, val: 8.7%,  9.7 batches/sec\n"
     ]
    },
    {
     "name": "stderr",
     "output_type": "stream",
     "text": [
      " 95%|█████████▌| 95/100 [46:28<02:26, 29.30s/it]"
     ]
    },
    {
     "name": "stdout",
     "output_type": "stream",
     "text": [
      "Epoch   95, sqrt loss 0.02676, Val sim-NRMS 0.02833, Time Loss: 91.1%, data: 0.2%, val: 8.7%,  9.7 batches/sec\n"
     ]
    },
    {
     "name": "stderr",
     "output_type": "stream",
     "text": [
      " 96%|█████████▌| 96/100 [46:58<01:56, 29.23s/it]"
     ]
    },
    {
     "name": "stdout",
     "output_type": "stream",
     "text": [
      "Epoch   96, sqrt loss  0.0286, Val sim-NRMS 0.03054, Time Loss: 91.1%, data: 0.2%, val: 8.7%,  9.7 batches/sec\n"
     ]
    },
    {
     "name": "stderr",
     "output_type": "stream",
     "text": [
      " 97%|█████████▋| 97/100 [47:27<01:27, 29.26s/it]"
     ]
    },
    {
     "name": "stdout",
     "output_type": "stream",
     "text": [
      "Epoch   97, sqrt loss 0.03372, Val sim-NRMS  0.039, Time Loss: 91.1%, data: 0.2%, val: 8.7%,  9.7 batches/sec\n"
     ]
    },
    {
     "name": "stderr",
     "output_type": "stream",
     "text": [
      " 98%|█████████▊| 98/100 [47:56<00:58, 29.28s/it]"
     ]
    },
    {
     "name": "stdout",
     "output_type": "stream",
     "text": [
      "Epoch   98, sqrt loss 0.03458, Val sim-NRMS 0.04303, Time Loss: 91.1%, data: 0.2%, val: 8.7%,  9.7 batches/sec\n"
     ]
    },
    {
     "name": "stderr",
     "output_type": "stream",
     "text": [
      " 99%|█████████▉| 99/100 [48:25<00:29, 29.28s/it]"
     ]
    },
    {
     "name": "stdout",
     "output_type": "stream",
     "text": [
      "Epoch   99, sqrt loss 0.03625, Val sim-NRMS 0.03541, Time Loss: 91.1%, data: 0.2%, val: 8.7%,  9.7 batches/sec\n"
     ]
    },
    {
     "name": "stderr",
     "output_type": "stream",
     "text": [
      "100%|██████████| 100/100 [48:55<00:00, 29.35s/it]"
     ]
    },
    {
     "name": "stdout",
     "output_type": "stream",
     "text": [
      "Epoch  100, sqrt loss 0.03202, Val sim-NRMS 0.03165, Time Loss: 91.1%, data: 0.2%, val: 8.7%,  9.7 batches/sec\n",
      "Loaded model with best known validation sim-NRMS of 0.02559 which happened on epoch 92 (epoch_id=92.00)\n"
     ]
    },
    {
     "name": "stderr",
     "output_type": "stream",
     "text": [
      "\n"
     ]
    }
   ],
   "source": [
    "fit_sys_ss_enc = deepSI.fit_systems.SS_encoder(nx=2, na=50, nb=50) #state dimention = 6, past outputs = 3, past inputs = 3.\n",
    "train_enc, val_enc = train.train_test_split(split_fraction=0.2)\n",
    "\n",
    "#Start fitting\n",
    "fit_sys_ss_enc.fit(train_sys_data=train_enc, val_sys_data=val_enc, \\\n",
    "                   epochs=100, batch_size=254, loss_kwargs={'nf':100}) #nf is T in paper"
   ]
  },
  {
   "cell_type": "code",
   "execution_count": 6,
   "metadata": {},
   "outputs": [
    {
     "name": "stdout",
     "output_type": "stream",
     "text": [
      "simple_res_net(\n",
      "  (net_lin): Linear(in_features=3, out_features=2, bias=True)\n",
      "  (net_non_lin): feed_forward_nn(\n",
      "    (net): Sequential(\n",
      "      (0): Linear(in_features=3, out_features=64, bias=True)\n",
      "      (1): Tanh()\n",
      "      (2): Linear(in_features=64, out_features=64, bias=True)\n",
      "      (3): Tanh()\n",
      "      (4): Linear(in_features=64, out_features=2, bias=True)\n",
      "    )\n",
      "  )\n",
      ")\n",
      "simple_res_net(\n",
      "  (net_lin): Linear(in_features=2, out_features=1, bias=True)\n",
      "  (net_non_lin): feed_forward_nn(\n",
      "    (net): Sequential(\n",
      "      (0): Linear(in_features=2, out_features=64, bias=True)\n",
      "      (1): Tanh()\n",
      "      (2): Linear(in_features=64, out_features=64, bias=True)\n",
      "      (3): Tanh()\n",
      "      (4): Linear(in_features=64, out_features=1, bias=True)\n",
      "    )\n",
      "  )\n",
      ")\n",
      "simple_res_net(\n",
      "  (net_lin): Linear(in_features=100, out_features=2, bias=True)\n",
      "  (net_non_lin): feed_forward_nn(\n",
      "    (net): Sequential(\n",
      "      (0): Linear(in_features=100, out_features=64, bias=True)\n",
      "      (1): Tanh()\n",
      "      (2): Linear(in_features=64, out_features=64, bias=True)\n",
      "      (3): Tanh()\n",
      "      (4): Linear(in_features=64, out_features=2, bias=True)\n",
      "    )\n",
      "  )\n",
      ")\n"
     ]
    }
   ],
   "source": [
    "print(fit_sys_ss_enc.fn) #state network x_t+1 = f([x,u])\n",
    "print(fit_sys_ss_enc.hn) #output network y_t = h(x_t)\n",
    "print(fit_sys_ss_enc.encoder) #encoder network x_t = psi([upast, ypast])"
   ]
  },
  {
   "cell_type": "code",
   "execution_count": 7,
   "metadata": {},
   "outputs": [
    {
     "data": {
      "image/png": "[encoded data removed]",
      "text/plain": [
       "<Figure size 640x480 with 1 Axes>"
      ]
     },
     "metadata": {},
     "output_type": "display_data"
    },
    {
     "name": "stdout",
     "output_type": "stream",
     "text": [
      "NRMS simulation SS encoder 6.99%\n"
     ]
    }
   ],
   "source": [
    "test_sim_enc = fit_sys_ss_enc.apply_experiment(test)\n",
    "\n",
    "plt.plot(test.y)\n",
    "plt.plot(test.y - test_sim_enc.y)\n",
    "plt.show()\n",
    "print(f'NRMS simulation SS encoder {test_sim_enc.NRMS(test):.2%}')"
   ]
  },
  {
   "cell_type": "code",
   "execution_count": 8,
   "metadata": {},
   "outputs": [
    {
     "data": {
      "image/png": "[encoded data removed]",
      "text/plain": [
       "<Figure size 640x480 with 1 Axes>"
      ]
     },
     "metadata": {},
     "output_type": "display_data"
    },
    {
     "name": "stdout",
     "output_type": "stream",
     "text": [
      "NRMS simulation SS encoder 2.42%\n"
     ]
    }
   ],
   "source": [
    "train_sim_enc = fit_sys_ss_enc.apply_experiment(train)\n",
    "\n",
    "plt.plot(train.y)\n",
    "plt.plot(train.y - train_sim_enc.y)\n",
    "plt.show()\n",
    "print(f'NRMS simulation SS encoder {train_sim_enc.NRMS(train):.2%}')"
   ]
  }
 ],
 "metadata": {
  "kernelspec": {
   "display_name": "cpc",
   "language": "python",
   "name": "python3"
  },
  "language_info": {
   "codemirror_mode": {
    "name": "ipython",
    "version": 3
   },
   "file_extension": ".py",
   "mimetype": "text/x-python",
   "name": "python",
   "nbconvert_exporter": "python",
   "pygments_lexer": "ipython3",
   "version": "3.12.2"
  }
 },
 "nbformat": 4,
 "nbformat_minor": 2
}
