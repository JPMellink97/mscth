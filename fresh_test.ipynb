{
 "cells": [
  {
   "cell_type": "code",
   "execution_count": 1,
   "metadata": {},
   "outputs": [
    {
     "name": "stderr",
     "output_type": "stream",
     "text": [
      "c:\\Users\\20173928\\Miniconda3\\envs\\sindy\\Lib\\site-packages\\tqdm\\auto.py:21: TqdmWarning: IProgress not found. Please update jupyter and ipywidgets. See https://ipywidgets.readthedocs.io/en/stable/user_install.html\n",
      "  from .autonotebook import tqdm as notebook_tqdm\n"
     ]
    }
   ],
   "source": [
    "import numpy as np\n",
    "import pysindy as ps\n",
    "\n",
    "from scipy.integrate import solve_ivp\n",
    "from pysindy.utils import linear_damped_SHO, cubic_damped_SHO, van_der_pol, lotka\n",
    "\n",
    "import matplotlib.pyplot as plt\n",
    "\n",
    "from numpy import genfromtxt\n",
    "\n",
    "import deepSI\n",
    "from deepSI import System_data\n",
    "\n",
    "import torch\n",
    "from torch import nn\n",
    "from torch.nn import functional as F\n",
    "\n",
    "import csv\n",
    "import os\n",
    "\n",
    "from scipy.io import loadmat\n",
    "\n",
    "import torch.nn.utils.prune as prune\n",
    "\n",
    "## check utils\n",
    "from utils import load_data, normalize\n",
    "\n",
    "from matplotlib.colors import LinearSegmentedColormap"
   ]
  },
  {
   "cell_type": "code",
   "execution_count": 2,
   "metadata": {},
   "outputs": [],
   "source": [
    "x_data, u_data, y_data, th_data = load_data(pc=0)"
   ]
  },
  {
   "cell_type": "code",
   "execution_count": 3,
   "metadata": {},
   "outputs": [],
   "source": [
    "train_samples = 480000\n",
    "x_train, u_train = x_data[200:train_samples,:], u_data[200:train_samples]\n",
    "x_val,     u_val = x_data[train_samples:,:], u_data[train_samples:]"
   ]
  },
  {
   "cell_type": "code",
   "execution_count": 4,
   "metadata": {},
   "outputs": [],
   "source": [
    "# BEST\n",
    "x_data_n, n_n, n_d = normalize(x_data, all_cols=True, per_col=False,  method= \"normalize\")\n",
    "u_data_n = (u_data-n_n)/n_d\n",
    "\n",
    "# x_data_n, n_n, n_d = normalize(np.c_[x_data,u_data], all_cols=True, per_col=False,  method= \"normalize\")\n",
    "# u_data_n = x_data_n[:,-1]\n",
    "# x_data_n = x_data_n[:,:-1]\n",
    "\n",
    "# x_data_s, s_n, s_d = normalize(x_data, all_cols=True, per_col=False, method=\"standardize\")\n",
    "# u_data_s = (u_data-s_n)/s_d\n",
    "\n",
    "# x_data_n, n_n, n_d = normalize(x_data, all_cols=True, per_col=True,  method= \"normalize\")\n",
    "# u_data_n, _, _ = normalize(u_data, all_cols=True, per_col=True,    method= \"normalize\")\n",
    "\n",
    "# x_data_s, s_n, s_d = normalize(x_data, all_cols=True, per_col=True, method=\"standardize\")\n",
    "# u_data_s, _, _ = normalize(u_data, all_cols=True, per_col=True,  method= \"standardize\")"
   ]
  },
  {
   "cell_type": "code",
   "execution_count": 5,
   "metadata": {},
   "outputs": [
    {
     "data": {
      "text/plain": [
       "0.0"
      ]
     },
     "execution_count": 5,
     "metadata": {},
     "output_type": "execute_result"
    }
   ],
   "source": [
    "x_data = x_data_n\n",
    "u_data = u_data_n\n",
    "\n",
    "input  = x_data[:-1,:]\n",
    "u_input = u_data[:-1]\n",
    "\n",
    "output = x_data[1:,:]\n",
    "\n",
    "# check if right data is selected\n",
    "np.sum((input[1:,:]-output[:-1,:]))"
   ]
  },
  {
   "cell_type": "code",
   "execution_count": 6,
   "metadata": {},
   "outputs": [
    {
     "data": {
      "text/plain": [
       "(499999, 5)"
      ]
     },
     "execution_count": 6,
     "metadata": {},
     "output_type": "execute_result"
    }
   ],
   "source": [
    "# building theta matrix with only necesary features\n",
    "# in this case [1 x1 x2 u np.sin(x1)]\n",
    "\n",
    "Theta = np.c_[np.ones(input.shape[0]), input[:,0], input[:,1], u_input, np.sin(input[:,0])]\n",
    "\n",
    "# normalized\n",
    "# Theta, num, den = normalize(Theta, method=\"standardize\")\n",
    "# Theta, num, den = normalize(Theta, method= \"normalize\")\n",
    "\n",
    "Theta.shape # should be 5"
   ]
  },
  {
   "cell_type": "code",
   "execution_count": 7,
   "metadata": {},
   "outputs": [],
   "source": [
    "# output, num, den = normalize(output, all_cols=True, method= \"standardize\")\n",
    "# output, num, den = normalize(output, all_cols=True, method= \"normalize\")"
   ]
  },
  {
   "cell_type": "code",
   "execution_count": 8,
   "metadata": {},
   "outputs": [],
   "source": [
    "# validation\n",
    "\n",
    "val_input, val_u_input  = x_val[:-1,:], u_val[:-1]\n",
    "val_output              = x_val[1:,:]\n",
    "\n",
    "Theta_val  = np.c_[np.ones(val_input.shape[0]), val_input[:,0], val_input[:,1], val_u_input, np.sin(val_input[:,0])]\n",
    "\n",
    "Theta_val_t  = torch.as_tensor(Theta_val).to(torch.float32)\n",
    "val_output_t = torch.as_tensor(val_output).to(torch.float32)"
   ]
  },
  {
   "cell_type": "code",
   "execution_count": 9,
   "metadata": {},
   "outputs": [],
   "source": [
    "def validation(x_in, x_out, criterion, model):\n",
    "    model.eval()\n",
    "\n",
    "    with torch.no_grad():\n",
    "        output = model(x_in)\n",
    "        val_loss = criterion(output, x_out)\n",
    "\n",
    "    model.train()\n",
    "\n",
    "    return val_loss, model"
   ]
  },
  {
   "cell_type": "code",
   "execution_count": 10,
   "metadata": {},
   "outputs": [],
   "source": [
    "# converting necesary data to tensors\n",
    "Theta_t  = torch.as_tensor(Theta).to(torch.float32)\n",
    "output_t = torch.as_tensor(output).to(torch.float32)"
   ]
  },
  {
   "cell_type": "code",
   "execution_count": 11,
   "metadata": {},
   "outputs": [],
   "source": [
    "class f_net(torch.nn.Module):\n",
    "    def __init__(self, n_in, n_out):\n",
    "        super(f_net, self).__init__()\n",
    "        \n",
    "        self.layer = nn.Linear(n_in, n_out, bias=False)\n",
    "\n",
    "    def forward(self, x):\n",
    "        out = self.layer(x)\n",
    "        return out"
   ]
  },
  {
   "cell_type": "code",
   "execution_count": 12,
   "metadata": {},
   "outputs": [],
   "source": [
    "# loss function\n",
    "def criterion(X_pred, X_true):\n",
    "    return 1/2 * nn.functional.mse_loss(X_true, X_pred)"
   ]
  },
  {
   "cell_type": "code",
   "execution_count": 13,
   "metadata": {},
   "outputs": [
    {
     "name": "stdout",
     "output_type": "stream",
     "text": [
      "Epoch 2500 train loss: 0.0000376339, val loss: 0.0000000000\n",
      "Epoch 5000 train loss: 0.0000045089, val loss: 0.0000000000\n",
      "Epoch 7500 train loss: 0.0000002599, val loss: 0.0000000000\n",
      "Epoch 10000 train loss: 0.0000002236, val loss: 0.0000000000\n",
      "Epoch 12500 train loss: 0.0000001421, val loss: 0.0000000000\n",
      "Epoch 15000 train loss: 0.0000000430, val loss: 0.0000000000\n",
      "Epoch 17500 train loss: 0.0000000161, val loss: 0.0000000000\n",
      "Epoch 20000 train loss: 0.0000000096, val loss: 0.0000000000\n",
      "Epoch 22500 train loss: 0.0000000065, val loss: 0.0000000000\n",
      "Epoch 25000 train loss: 0.0000000046, val loss: 0.0000000000\n"
     ]
    }
   ],
   "source": [
    "# initialize model\n",
    "n_in  = Theta_t.shape[-1]\n",
    "n_out = output_t.shape[-1]\n",
    "\n",
    "model = f_net(n_in, n_out)\n",
    "optimizer = torch.optim.Adam(model.parameters(), lr=1e-3)\n",
    "\n",
    "epochs = 25000\n",
    "losses = []\n",
    "val_losses = []\n",
    "\n",
    "min_loss = 1\n",
    "\n",
    "for epo in range(epochs):\n",
    "    pred = model(Theta_t)\n",
    "\n",
    "    loss = criterion(pred, output_t)\n",
    "\n",
    "    optimizer.zero_grad()\n",
    "    loss.backward()\n",
    "    optimizer.step()\n",
    "\n",
    "    losses.append(loss.detach().numpy())\n",
    "\n",
    "    # validation\n",
    "    val_loss, model = validation(Theta_val_t, val_output_t, criterion, model)\n",
    "    val_losses.append(val_loss)\n",
    "\n",
    "    if loss<min_loss:\n",
    "        min_loss = loss\n",
    "        best_param = [*model.parameters()][0].detach().numpy()\n",
    "        best_epo = epo\n",
    "\n",
    "    if (epo%(epochs//10)==0 or epo==epochs-1) and epo != 0:\n",
    "        epo_p = epo if epo != epochs-1 else epo+1\n",
    "        print(\"Epoch {} train loss: {:.10f}, val loss: {:.10f}\".format(epo_p, loss, 0))\n"
   ]
  },
  {
   "cell_type": "code",
   "execution_count": 14,
   "metadata": {},
   "outputs": [
    {
     "data": {
      "image/png": "[encoded data removed]",
      "text/plain": [
       "<Figure size 640x480 with 1 Axes>"
      ]
     },
     "metadata": {},
     "output_type": "display_data"
    }
   ],
   "source": [
    "plt.semilogy(losses)\n",
    "# plt.semilogy(val_losses)\n",
    "plt.legend([\"train\",\"validation\"])\n",
    "plt.show()"
   ]
  },
  {
   "cell_type": "code",
   "execution_count": 15,
   "metadata": {},
   "outputs": [
    {
     "data": {
      "image/png": "[encoded data removed]",
      "text/plain": [
       "<Figure size 1500x500 with 4 Axes>"
      ]
     },
     "metadata": {},
     "output_type": "display_data"
    }
   ],
   "source": [
    "found = [*model.parameters()][0].detach().numpy()\n",
    "\n",
    "true = np.array([[0, 0], [1, -0.1], [1, 0.5], [0, 0.1], [0, -0.2]])\n",
    "\n",
    "x_labels = [\"1\", \"x0[k]\", \"x1[k]\", \"u[k]\", \"sin(x0[k])\"]\n",
    "\n",
    "fig = plt.figure(layout='constrained', figsize=(15, 5))\n",
    "subfigs = fig.subfigures(1, 2, wspace=0.01)\n",
    "\n",
    "subfigs[0].set_facecolor('grey')\n",
    "subfigs[1].set_facecolor('grey')\n",
    "\n",
    "axsnest0 = subfigs[0].subplots(1, 2, sharex=True)\n",
    "axsnest1 = subfigs[1].subplots(2, 1, sharex=True)\n",
    "\n",
    "ax1, ax2 = axsnest0[0], axsnest0[1]\n",
    "\n",
    "ax1.semilogy(np.abs(true[:,0]), \"*\", markersize=14)\n",
    "ax1.semilogy(np.abs(found[0,:]), \"o\", markersize=6)\n",
    "ax1.grid()\n",
    "ax1.set_xticks(np.arange(0,len(x_labels),1))\n",
    "ax1.set_xticklabels(x_labels, rotation=15)\n",
    "ax1.set_ylim([1e-2, 2])\n",
    "ax1.legend([\"true\",\"found\"])\n",
    "\n",
    "ax2.semilogy(np.abs(true[:,1]), \"*\", markersize=14)\n",
    "ax2.semilogy(np.abs(found[1,:]), \"o\", markersize=6)\n",
    "ax2.set_xticks(np.arange(0,len(x_labels),1))\n",
    "ax2.set_xticklabels(x_labels, rotation=15)\n",
    "ax2.set_ylim([1e-2, 2])\n",
    "ax2.grid()\n",
    "ax2.legend([\"true\",\"found\"])\n",
    "\n",
    "# right side\n",
    "ax1, ax2 = axsnest1[0], axsnest1[1]\n",
    "\n",
    "data1 = np.vstack((true[:,0],found[0,:]))\n",
    "data2 = np.vstack((true[:,1],found[1,:]))\n",
    "cmap_white = LinearSegmentedColormap.from_list(\"white\", [(1, 1, 1), (1, 1, 1)])\n",
    "\n",
    "im = ax1.imshow(data1, cmap=cmap_white)\n",
    "\n",
    "ax1.set_xticks(np.arange(data1.shape[1]), labels=x_labels)\n",
    "ax1.set_yticks(np.arange(data1.shape[0]), labels=[\"True\", \"Found\"])\n",
    "\n",
    "for i in range(data1.shape[0]):\n",
    "    for j in range(data1.shape[1]):\n",
    "        text = ax1.text(j, i, round(data1[i, j],3),\n",
    "                       ha=\"center\", va=\"center\", color=\"k\")\n",
    "        rect = plt.Rectangle((j - 0.5, i - 0.5), 1, 1, fill=False, edgecolor='black', linewidth=1)\n",
    "        ax1.add_patch(rect)\n",
    "\n",
    "ax1.patch.set_linewidth(2.0)        \n",
    "ax1.patch.set_edgecolor('black')\n",
    "\n",
    "# second\n",
    "im = ax2.imshow(data2, cmap=cmap_white)\n",
    "\n",
    "ax2.set_xticks(np.arange(data2.shape[1]), labels=x_labels)\n",
    "ax2.set_yticks(np.arange(data2.shape[0]), labels=[\"True\", \"Found\"])\n",
    "\n",
    "for i in range(data2.shape[0]):\n",
    "    for j in range(data2.shape[1]):\n",
    "        text = ax2.text(j, i, round(data2[i, j], 3),\n",
    "                       ha=\"center\", va=\"center\", color=\"k\")\n",
    "        rect = plt.Rectangle((j - 0.5, i - 0.5), 1, 1, fill=False, edgecolor='black', linewidth=1)\n",
    "        ax2.add_patch(rect)\n",
    "\n",
    "ax2.patch.set_linewidth(2.0)        \n",
    "ax2.patch.set_edgecolor('black')\n",
    "\n",
    "plt.show()\n"
   ]
  },
  {
   "cell_type": "code",
   "execution_count": null,
   "metadata": {},
   "outputs": [],
   "source": []
  },
  {
   "cell_type": "code",
   "execution_count": 16,
   "metadata": {},
   "outputs": [],
   "source": [
    "# out_net = np.matmul(Theta, found.T)[0:100,:]\n",
    "\n",
    "# x1_l = []\n",
    "# x2_l = []\n",
    "\n",
    "# for i in Theta[:100,:]:\n",
    "#   x1 = found[0,0]*i[0]+found[0,1]*i[1]+found[0,2]*i[2]+found[0,3]*i[3]+found[0,4]*i[4]\n",
    "#   x2 = found[1,0]*i[0]+found[1,1]*i[1]+found[1,2]*i[2]+found[1,3]*i[3]+found[1,4]*i[4]\n",
    "#   x1_l.append(x1)\n",
    "#   x2_l.append(x2)"
   ]
  },
  {
   "cell_type": "code",
   "execution_count": 17,
   "metadata": {},
   "outputs": [],
   "source": [
    "# plt.plot(out_net[:,0])\n",
    "# plt.plot(x1_l,\"*\")\n",
    "# # plt.plot(x2_l,\"*\")\n",
    "# # plt.plot(x_data[0:10,:],\"-o\")\n",
    "# plt.plot(x_data[1:101,0],\"-o\")\n"
   ]
  },
  {
   "cell_type": "code",
   "execution_count": null,
   "metadata": {},
   "outputs": [],
   "source": []
  }
 ],
 "metadata": {
  "kernelspec": {
   "display_name": "sindy",
   "language": "python",
   "name": "python3"
  },
  "language_info": {
   "codemirror_mode": {
    "name": "ipython",
    "version": 3
   },
   "file_extension": ".py",
   "mimetype": "text/x-python",
   "name": "python",
   "nbconvert_exporter": "python",
   "pygments_lexer": "ipython3",
   "version": "3.12.1"
  }
 },
 "nbformat": 4,
 "nbformat_minor": 2
}
